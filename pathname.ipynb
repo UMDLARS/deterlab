{
 "cells": [
  {
   "cell_type": "markdown",
   "metadata": {
    "deletable": false,
    "editable": false,
    "slideshow": {
     "slide_type": ""
    },
    "tags": []
   },
   "source": [
    "# <strong>Pathname Attacks</strong>\n",
    "\n",
    "Pathname attacks, also known as directory traversal attacks, are exploits that allow an attacker to view files that are not stored within the web server's root directory. Websites contain files written in languages like PHP or HTML, which are served from a directory on the web server. For example, when you visit a website hosted through Apache, the web files are typically stored in ```/var/www/html```. If you access a website with the URL ```https://www.yourwebsite.com/index.php```, the ```index.php``` file is served from ```/var/www/html/index.php```. Similarly, images on the website might be stored in ```/var/www/html/images```, so an image file could be served from ```/var/www/html/images/image_1.png```.\n",
    "\n",
    "In Linux, a pathname containing double dots (```..```) refers to the parent directory, which is one level up in the directory hierarchy. Therefore, ```/var/www/html/images/..``` and ```/var/www/html``` refer to the same directory, since ```..``` navigates up from ```images/``` to its parent directory, which is ```html```.\n",
    "\n",
    "Web servers should restrict access to files within the web root directory to prevent unauthorized access to sensitive files. However, if a web server improperly validates user input, an attacker can craft a URL that includes directory traversal sequences to access files outside the web root. For example, an attacker might attempt to access ```/etc/passwd``` by requesting a URL like ```https://www.yourwebsite.com/index.php?file=../../../etc/passwd```.\n",
    "\n",
    "This means that if a website has a vulnerability and allows traversal outside the web root, an attacker could access files like ```/etc/passwd```, which contains every user's account information on the server. Hackers can also view files in a user's home directory, such as ```/home/USERNAME_GOES_HERE/example_pic_1.jpg```. If Apache has access to these files, they can be displayed on the website.\n",
    "\n",
    "This allows a pathname attack, where an attacker can \"guess\" the location of sensitive files and trick the server into reading and displaying their contents.\n",
    "\n",
    "<strong>This lab will contain three topics, and you will learn the following:</strong>\n",
    "\n",
    "1. Introduction to Flask\n",
    "2. Path Canonicalization\n",
    "3. Performing a Pathname Attack"
   ]
  },
  {
   "cell_type": "code",
   "execution_count": 1,
   "metadata": {
    "deletable": false,
    "editable": false,
    "jupyter": {
     "source_hidden": true
    },
    "jupyterlab-hide-cells:hidden": true,
    "slideshow": {
     "slide_type": ""
    },
    "tags": []
   },
   "outputs": [],
   "source": [
    "# Setting up the lab.\n",
    "import ipywidgets as widgets\n",
    "from IPython.display import display, HTML, Javascript\n",
    "from IPython.core.magic import register_line_magic\n",
    "import os\n",
    "# For accessing the nodes:\n",
    "import subprocess\n",
    "# For the stopexp command:\n",
    "import re\n",
    "\n",
    "# When true, it will not auto-save at each step.\n",
    "runAllSteps = False\n",
    "\n",
    "###### Used for saving notebooks. ######\n",
    "import threading\n",
    "# Threading required in case steps are progressed too quickly.\n",
    "save_lock = threading.Lock()\n",
    "\n",
    "# The save function itself.\n",
    "def save_notebook():\n",
    "    with save_lock:\n",
    "        result = subprocess.run('\"/home/USERNAME_GOES_HERE/resources/save.py pathname\"', shell=True, capture_output=True, text=True)\n",
    "\n",
    "# Creating a thread to save the notebook.\n",
    "def trigger_save(question, response, answer=\"\"):\n",
    "    save_thread = threading.Thread(target=save_notebook)\n",
    "    save_thread.start()\n",
    "    \n",
    "    command = (f'\"/home/.education/grader.py PA {question} {response}\"' \n",
    "               if answer == \"\" \n",
    "               else f'\"/home/.education/grader.py PA {question} {response} \\\\\"{answer}\\\\\"\"')\n",
    "    \n",
    "    result = subprocess.run(command, shell=True, capture_output=True, text=True)\n",
    "\n",
    "###### Used for loading notebooks. ######\n",
    "import queue\n",
    "\n",
    "load_lock = threading.Lock()\n",
    "result_queue = queue.Queue()\n",
    "\n",
    "def load_notebook():\n",
    "    with load_lock:\n",
    "        result = subprocess.run('\"/home/USERNAME_GOES_HERE/resources/load.py pathname\"', shell=True, capture_output=True, text=True)\n",
    "        result_queue.put(result)  # Put the result in the queue.\n",
    "\n",
    "# This variable is used to warn students if they haven't loaded a save yet.\n",
    "def warn_student():\n",
    "    if (os.path.exists(\"/home/USERNAME_GOES_HERE/saves/.pathname_warning\")):\n",
    "        os.remove(\"/home/USERNAME_GOES_HERE/saves/.pathname_warning\")\n",
    "        return True\n",
    "\n",
    "# Creating a thread to load the notebook.\n",
    "def trigger_load():\n",
    "    load_thread = threading.Thread(target=load_notebook)\n",
    "    load_thread.start()\n",
    "    load_thread.join()  # Wait for the thread to complete before adding result to the queue.\n",
    "    return result_queue.get()  # Get the result from the queue."
   ]
  },
  {
   "cell_type": "markdown",
   "metadata": {
    "deletable": false,
    "editable": false,
    "slideshow": {
     "slide_type": ""
    },
    "tags": []
   },
   "source": [
    "### Step 0: Starting the Lab\n",
    "\n",
    "Click the button to begin creating the experiment.\n",
    "\n",
    "<strong>Note:</strong> If your buttons are not displaying, click on the <img width='20px' height='20px' style='margin-left: 1px;' src='resources/fast_forward.png'> icon at the top of your notebook to render all widgets."
   ]
  },
  {
   "cell_type": "code",
   "execution_count": 17,
   "metadata": {
    "deletable": false,
    "editable": false,
    "jupyter": {
     "source_hidden": true
    },
    "slideshow": {
     "slide_type": ""
    },
    "tags": []
   },
   "outputs": [
    {
     "data": {
      "application/vnd.jupyter.widget-view+json": {
       "model_id": "983646fb673c4f7b97fb504798ddbb6a",
       "version_major": 2,
       "version_minor": 0
      },
      "text/plain": [
       "Button(description='Start Lab', style=ButtonStyle())"
      ]
     },
     "metadata": {},
     "output_type": "display_data"
    },
    {
     "data": {
      "application/vnd.jupyter.widget-view+json": {
       "model_id": "735fb711735a4507b82bad09c2e7d67c",
       "version_major": 2,
       "version_minor": 0
      },
      "text/plain": [
       "Output()"
      ]
     },
     "metadata": {},
     "output_type": "display_data"
    }
   ],
   "source": [
    "# Click the button below to start the experiment.\n",
    "import time\n",
    "\n",
    "def check_autosave():\n",
    "    # Check if the student has an autosave.\n",
    "    if os.path.exists(\"/home/USERNAME_GOES_HERE/saves/USERNAME_GOES_HERE_pathname.tar.gz\"):\n",
    "        # Create a hidden file that will serve as a \"boolean\" for later.\n",
    "        subprocess.run(\"touch /home/USERNAME_GOES_HERE/saves/.pathname_warning\", shell=True)\n",
    "\n",
    "def startlab(button):\n",
    "    # Defining the lab name.\n",
    "    labname = \"pathname\"\n",
    "\n",
    "    # Writing the information to an empty field below the button.\n",
    "    with output0:\n",
    "        # Fixes a strange error that happens only occasionally.\n",
    "        os.chdir(\"/home/USERNAME_GOES_HERE\")\n",
    "        output0.clear_output()\n",
    "\n",
    "        # First, checking if the materialization exists. May have been stopped by a previous lab.\n",
    "        materialPattern = f\"real.{labname}jup.USERNAME_GOES_HERE\"\n",
    "\n",
    "        # Listing the materializations to find if there's an existing one for this lab.\n",
    "        checkMaterial = os.popen('\"mrg list materializations\" 2>/dev/null').read()\n",
    "        regex = re.compile(materialPattern)\n",
    "        # Getting the matches:\n",
    "        match = regex.search(checkMaterial)\n",
    "\n",
    "        if match:\n",
    "            display(HTML(\"<span style='color: orange;'>An existing activation for this lab already exists. </span><span>You might have run another \\\n",
    "            lab without stopping this one. Attaching the existing activation...</span>\"))\n",
    "\n",
    "            # Detaching it and re-attaching.\n",
    "            subprocess.run('mrg xdc detach xdc.USERNAME_GOES_HERE', shell=True)\n",
    "            subprocess.run(f'mrg xdc attach xdc.USERNAME_GOES_HERE real.{labname}jup.USERNAME_GOES_HERE', capture_output=True, text=True, shell=True)\n",
    "            display(HTML(\"<span>Re-running the installation... </span><span><img width='12px' height='12px' style='margin-left: 3px;' src='resources/loading.gif'></span>\"))\n",
    "\n",
    "            # Check if the student has an autosave.\n",
    "            check_autosave()\n",
    "            \n",
    "            # Re-running the installation script.\n",
    "            subprocess.run(f'bash /home/runlab {labname}jup', capture_output=True, text=True, shell=True)\n",
    "            output0.clear_output()\n",
    "            display(HTML(\"<newline><span style='color: green;'><strong>Your lab has been re-installed. </strong></span>\" \\\n",
    "                         \"<span>When you're finished, close your lab at the bottom of the notebook.</span>\"))\n",
    "        \n",
    "        else:\n",
    "            display(HTML(\"<span>No existing activations are found.</span>\"))\n",
    "\n",
    "            # Second, start the lab.\n",
    "            display(HTML(f\"<span>Starting the {labname} lab. This will take a few minutes to process. Please wait.</span> \\\n",
    "            <span><img width='12px' height='12px' style='margin-left: 3px;' src='resources/loading.gif'></span>\"))\n",
    "            try:\n",
    "                startexp = subprocess.run(f'bash /home/startexp {labname}jup', capture_output=True, text=True, shell=True)\n",
    "            except Exception as e:\n",
    "                output0.clear_output()\n",
    "                display(HTML(\"<span style='color: red;'>There was an error starting your experiment. Make sure your password is written inside of ~/pass.txt, and try again.</span>\"))\n",
    "                return\n",
    "            \n",
    "            output0.clear_output()\n",
    "            display(HTML(\"<span>Done. Result:</span>\"))\n",
    "            print(startexp.stdout, flush=True)\n",
    "\n",
    "            # Another lab is already attached to the XDC.\n",
    "            if (\"XDC already attached\" in startexp.stdout):\n",
    "                existingLab = re.search(r\"real.(.*).USERNAME_GOES_HERE\", startexp.stdout).group(1)\n",
    "\n",
    "                # Shouldn't happen.\n",
    "                if labname == existingLab:\n",
    "                    display(HTML(\"<span style='color: red;'>Your lab was already started. </span><span>Please continue to the next step.</span>\"))\n",
    "\n",
    "                # Detaching the existing lab, then attaching the current one.\n",
    "                else:\n",
    "                    display(HTML(f\"<span style='color: orange;'>Warning: You did not stop your previous experiment. </span><span>Please stop your experiments \\\n",
    "                    before starting a new one. Detaching the {existingLab} experiment.</span>\"))\n",
    "                    subprocess.run('mrg xdc detach xdc.USERNAME_GOES_HERE', shell=True)\n",
    "                    display(HTML(\"<span>Attaching the current lab.</span>\"))\n",
    "                    subprocess.run(f'mrg xdc attach xdc {materialPattern}', shell=True)\n",
    "    \n",
    "            # Third, get the lab materials onto the node.\n",
    "            display(HTML(\"<span>Allocating lab resources onto the node. <u>Please wait a little longer...</u></span>\"))\n",
    "\n",
    "            # Gives the notebook a couple seconds so that it will recognize the node(s).\n",
    "            time.sleep(2)\n",
    "\n",
    "            # Move the resources over.\n",
    "            runlab = subprocess.run(\n",
    "                f'bash /home/runlab {labname}jup',\n",
    "                capture_output=True, text=True, shell=True\n",
    "            )\n",
    "\n",
    "            # Check if the student has an autosave.\n",
    "            check_autosave()\n",
    "\n",
    "            # Complete. Inform the student.\n",
    "            display(HTML(\"<newline><span style='color: green;'><strong>Setup complete. You may begin the lab! </strong></span>\" \\\n",
    "                         \"<span>When you're finished, close your lab at the bottom of the notebook. Your lab will be active for one week.</span>\"))\n",
    "\n",
    "\n",
    "# Creating the button.\n",
    "startButton = widgets.Button(description=\"Start Lab\")\n",
    "\n",
    "# Creating an output area.\n",
    "output0 = widgets.Output()\n",
    "\n",
    "# Run the command on click.\n",
    "startButton.on_click(startlab)\n",
    "\n",
    "# Display the output.\n",
    "display(startButton, output0)"
   ]
  },
  {
   "cell_type": "markdown",
   "metadata": {
    "deletable": false,
    "editable": false,
    "slideshow": {
     "slide_type": ""
    },
    "tags": []
   },
   "source": [
    "<hr>"
   ]
  },
  {
   "cell_type": "markdown",
   "metadata": {
    "deletable": false,
    "editable": false,
    "slideshow": {
     "slide_type": ""
    },
    "tags": []
   },
   "source": [
    "If you previously stopped your lab, you may restore your progress below by clicking \"Load Lab\". <u>You do not have to load your lab if you signed out, closed your notebook, or exited your node(s) or XDC by using ```exit```.</u>"
   ]
  },
  {
   "cell_type": "code",
   "execution_count": 3,
   "metadata": {
    "deletable": false,
    "editable": false,
    "jupyter": {
     "source_hidden": true
    },
    "slideshow": {
     "slide_type": ""
    },
    "tags": []
   },
   "outputs": [
    {
     "data": {
      "application/vnd.jupyter.widget-view+json": {
       "model_id": "90472ba8bc734a73ab702bad57fc7830",
       "version_major": 2,
       "version_minor": 0
      },
      "text/plain": [
       "Button(description='Load Lab', style=ButtonStyle())"
      ]
     },
     "metadata": {},
     "output_type": "display_data"
    },
    {
     "data": {
      "application/vnd.jupyter.widget-view+json": {
       "model_id": "251e877476d24d29a2a444d9f29b2c0f",
       "version_major": 2,
       "version_minor": 0
      },
      "text/plain": [
       "Output()"
      ]
     },
     "metadata": {},
     "output_type": "display_data"
    }
   ],
   "source": [
    "# Click the button below to load your lab.\n",
    "def loadlab(b):\n",
    "    with output0_2:\n",
    "        output0_2.clear_output()\n",
    "        display(HTML(\"<span>Searching for an existing lab in your notebook...</span>\"))\n",
    "\n",
    "    if (os.path.exists(\"/home/USERNAME_GOES_HERE/saves/USERNAME_GOES_HERE_pathname.tar.gz\")):\n",
    "        with output0_2:\n",
    "            output0_2.clear_output()\n",
    "            display(HTML(\"<span>Loading your lab...</span> \\\n",
    "                <span><img width='12px' height='12px' style='margin-left: 3px;' src='resources/loading.gif'></span>\"))\n",
    "            result = trigger_load()\n",
    "            if (result.returncode == 1):\n",
    "                output0_2.clear_output()\n",
    "                display(HTML(\"<span style='color: green;'>Your lab has been successfully loaded. Please click on the <img width='20px' height='20px' style='margin-left: 1px;' src='resources/fast_forward.png'> icon at the top of your notebook to reflect your changes.</span>\"))\n",
    "            elif (result.returncode == 2):\n",
    "                output0_2.clear_output()\n",
    "                display(HTML(\"<span style='color: red;'>The buffer node is inaccessible. Please start your lab. If you have already started it, wait a minute and try again.</span>\"))\n",
    "            else:\n",
    "                output0_2.clear_output()\n",
    "                display(HTML(\"<span style='color: red;'>An error occurred while loading your lab.</span>\"))\n",
    "\n",
    "# Creating the button.\n",
    "loadButton = widgets.Button(description=\"Load Lab\")\n",
    "\n",
    "# Creating an output area.\n",
    "output0_2 = widgets.Output()\n",
    "\n",
    "# Run the command on click.\n",
    "loadButton.on_click(loadlab)\n",
    "\n",
    "# Display the output.\n",
    "display(loadButton, output0_2)"
   ]
  },
  {
   "cell_type": "markdown",
   "metadata": {
    "deletable": false,
    "editable": false,
    "slideshow": {
     "slide_type": ""
    },
    "tags": []
   },
   "source": [
    "## <strong>Topic 1: Introduction to Flask</strong>\n",
    "\n",
    "Many options exist for developing a web server, making it difficult to find a \"best\" language and framework for this lab. Other notebooks that are developed for this course mainly use PHP, which is easy to understand and is great with teaching security practices. However, to provide more experience with programming languages and frameworks, this notebook is going to introduce <strong>Flask</strong> for Python.\n",
    "\n",
    "<strong>Flask</strong> is a web framework in Python. Note that Flask’s built-in server is <a href=\"https://stackoverflow.com/questions/63201661/why-should-i-switch-to-a-flask-production-deployment-instead-of-a-development-se\">not suitable for production as it doesn’t scale well.</a> Flask is perfectly suitable for this notebook's needs: It's lightweight, it handles a small amount of requests, and it's designed to be quick and easy to start web applications. Flask is often more used for prototypes before being rolled out for production. If you wish to apply skills that you're learning from this lab, consider using Gunicorn (Green Unicorn), which can be used in conjunction with Flask. In fact, <a href=\"https://flask.palletsprojects.com/en/3.0.x/deploying/gunicorn/\">Gunicorn is part of Flask's documentation</a>. If you're interested with learning the differences between the two, check out <a href=\"https://stackshare.io/stackups/flask-vs-gunicorn\">this article</a>. \n",
    "\n",
    "When rolling out a large application that's developed in Flask, Gunicorn saves a lot of time and work with transitioning it from a Flask prototype to a large-scale web application. This is a basic summary of how Flask applications are transitioned into a large-scale app:\n",
    "- Install Gunicorn\n",
    "- Run a Gunicorn command that sets the amount of processes, IP, and the name of your Flask application.\n",
    "- Create a ```systemd``` service file that makes the program run continuously in the background.\n",
    "\n",
    "<u>This notebook is going to provide you the basic knowledge of Flask, but will not go in-depth with how to create a large, in-depth web application.</u> This will provide you some background before looking at a basic web application that's vulnerable to pathname attacks.\n",
    "\n",
    "<strong>Port forwarding is required for this lab.</strong> If you have not set up port forwarding yet, navigate to <a href=\"port-forwarding-setup.ipynb\">this notebook</a>, and follow the steps so that you may access the web server for this lab."
   ]
  },
  {
   "cell_type": "markdown",
   "metadata": {
    "deletable": false,
    "editable": false,
    "slideshow": {
     "slide_type": ""
    },
    "tags": []
   },
   "source": [
    "### Step 1: Configuring Port Forwarding\n",
    "\n",
    "This step is not graded, but it is <strong>incredibly important</strong> for you to follow in order to access this lab. <strong>Accessing this lab is different from the other labs in these notebooks.</strong>\n",
    "\n",
    "<u>Here's a quick start to accessing the lab:</u>\n",
    "- After you have ran the setup from <a href=\"port-forwarding-setup.ipynb\">the port forwarding process</a>, type the following command into your <u>own device's</u> terminal: ```ssh -L 5000:127.0.0.1:5001 USERNAME_GOES_HERE-xdc-USERNAME_GOES_HERE```.\n",
    "- <u>From your local terminal OR your XDC</u>, log into your ```pathname``` node by typing the following command: ```ssh -L 5001:127.0.0.1:5000 pathname```.\n",
    "\n",
    "<hr>\n",
    "\n",
    "#### <strong>Optional reading below</strong> - What is this doing?\n",
    "\n",
    "Flask automatically uses port 5000 on your ```pathname``` node. Additionally, it uses the IP address ```127.0.0.1```, which is the localhost IP address for ```pathname```. Unfortunately, this makes the port forwarding process complex for the lab.\n",
    "\n",
    "In order to access this lab, using ```ssh pathname``` <em>will</em> work, but you will need to forward from port 5000 to 5001 either on your local machine, or on your XDC. You will need to introduce a \"jump\". Take look at this command:\n",
    "\n",
    "```ssh -L 5001:127.0.0.1:5000 pathname```\n",
    "\n",
    "This command will sign you into the node, but the ```-L``` flag means \"local\", since you are going to be opening a local port. After this flag, ```5001:127.0.0.1:5000``` means that you're going to take the resources hosted on ```127.0.0.1:5000```, then \"wire\" it to your local machine on port ```5001```. Which, in this case, is ```USERNAME_GOES_HERE@xdc```. This makes all resources that are hosted on port ```5000``` accessible on port ```5001```. You may test this by opening another terminal, then type ```curl localhost 5001```, which will print the output of your webpage as HTML.\n",
    "\n",
    "Next, when using this command:\n",
    "\n",
    "```ssh -L 5000:127.0.0.1:5001 USERNAME_GOES_HERE-xdc-USERNAME_GOES_HERE```\n",
    "\n",
    "You are doing the same process as above. Now, the machine that you will access is ```USERNAME_GOES_HERE-xdc-USERNAME_GOES_HERE```, which is your XDC that you're doing this notebook and lab within. Similarly, you are taking the materials hosted on ```127.0.0.1:5001```, then you're hosting it on your local machine (your device) on port ```5000```.\n",
    "\n",
    "Here's a breakdown of how these \"jumps\" work:\n",
    "\n",
    "<figure><center><img src=\"resources/pathname/port-forwarding.png\" style=\"width: 90%; height: 90%;\" /></center></figure>"
   ]
  },
  {
   "cell_type": "markdown",
   "metadata": {
    "deletable": false,
    "editable": false,
    "slideshow": {
     "slide_type": ""
    },
    "tags": []
   },
   "source": [
    "### Step 2: Basic Flask Example\n",
    "\n",
    "Upon starting this lab, all dependencies have already been installed for you. For this step, you're going to learn how web pages are hosted from the Flask framework. This basic example that you are going to follow for Step 2 is from <a href=\"https://flask.palletsprojects.com/en/3.0.x/quickstart/\">Flask's documentation</a>. It's not required to read this, but it will provide some additional information, such as entering debug mode or sanitizing user input (in case you're familiar with XSS).\n",
    "\n",
    "Navigate into your ```pathname``` node, and create a file named ```step_2.py``` inside of your home directory. Copy this code into the file, then save. <strong>You are strongly encouraged to read the breakdown of this function.<strong>\n",
    "\n",
    "```\n",
    "from flask import Flask, render_template\n",
    "\n",
    "app = Flask(__name__)\n",
    "\n",
    "@app.route(\"/\")\n",
    "def hello_world():\n",
    "    return \"<p>Hello, World!</p>\"\n",
    "\n",
    "if __name__ == \"__main__\":\n",
    "    app.run()\n",
    "```\n",
    "\n",
    "<u>The code breakdown:</u>\n",
    "- Import the Flask library.\n",
    "- Creates a Flask class, then assigns it to the variable named ```app```. If you're unfamiliar with classes in Python, the ```__name__``` parameter is the constructor for Flask. This sets paths for static files and templates. Since everyone's installation for Flask contains different path names, this will let Flask determine where <em>your</em> files and templates are located.\n",
    "- ```@app.route(\"/\")``` is called a <strong>decorator</strong> in Python. Decorators server as \"wrappers\" around functions. Whenever a function is called with a decorator, it will call the decorator function first, then it will call the function that it \"wraps\" around.\n",
    "  - In the context of Flask, the ```@app.route(\"/\")``` function will tell Flask what URL will trigger the specified function.\n",
    "- The ```def hello_world()``` function is what gets called when the decorator's webpage is accessed.\n",
    "\n",
    "After you have created this file, stay in your home directory and run ```python3 -m flask --app step_2 run```. This will start your server. After running your SSH command to port forward, navigate to ```localhost:port```, where ```port``` was the number that you chose in your SSH command. If you need help with port forwarding, contact your professor or TA.\n",
    "\n",
    "After your server is running, click the button below to check your work. The response from your server will be checked, which should return ```<p>Hello, World!</p>```.\n",
    "\n",
    "<span style=\"color: green\"><strong><img src=\"resources/idea.png\" style=\"width: 12px\"> Tip:</strong></span> If you have correctly ran the commands above, you may access the server by navigating to ```http://localhost:5000``` on your computer."
   ]
  },
  {
   "cell_type": "code",
   "execution_count": 4,
   "metadata": {
    "deletable": false,
    "editable": false,
    "jupyter": {
     "source_hidden": true
    },
    "slideshow": {
     "slide_type": ""
    },
    "tags": []
   },
   "outputs": [
    {
     "data": {
      "application/vnd.jupyter.widget-view+json": {
       "model_id": "196df37f6a3e495faa44d46dc523da3f",
       "version_major": 2,
       "version_minor": 0
      },
      "text/plain": [
       "Button(description='Check Server', style=ButtonStyle())"
      ]
     },
     "metadata": {},
     "output_type": "display_data"
    },
    {
     "data": {
      "application/vnd.jupyter.widget-view+json": {
       "model_id": "5fc924ffb94c4020bb5673fd5a82ee8c",
       "version_major": 2,
       "version_minor": 0
      },
      "text/plain": [
       "Output()"
      ]
     },
     "metadata": {},
     "output_type": "display_data"
    }
   ],
   "source": [
    "# Click the button below to check your work.\n",
    "step2Complete = False\n",
    "\n",
    "# Function to check the permissions.\n",
    "def step_2():\n",
    "    # Important variables that must be accessed outside of this function.\n",
    "    global step2Complete, result\n",
    "\n",
    "    with output2:\n",
    "        output2.clear_output()\n",
    "        display(HTML(\"<span><img width='14px' height='14px' style='margin-left: 3px;' src='resources/loading.gif'></span>\"))\n",
    "    \n",
    "    # This subprocess statement is a little different. Need to initiate environment variables at the same time when running the command.\n",
    "    result = subprocess.run('ssh -o StrictHostKeyChecking=no -i /home/USERNAME_GOES_HERE/.ssh/merge_key USERNAME_GOES_HERE@pathname /home/.checker/section_1.py 2', shell=True, capture_output=True, text=True)\n",
    "\n",
    "    if (result.returncode == 0):\n",
    "        output2.clear_output()\n",
    "        with output2:\n",
    "            display(HTML(\"<span style='color: green;'>Success! You may continue onto the next step.</span>\"))\n",
    "            step2Complete = True\n",
    "\n",
    "    elif (result.returncode == 1):\n",
    "        output2.clear_output()\n",
    "        with output2:\n",
    "            display(HTML(\"<span style='color: red;'>Your server did not print \\\"Hello, World!\\\" properly. Make sure your file is exactly what what provided to you.</span>\"))\n",
    "            step2Complete = False\n",
    "\n",
    "    elif (result.returncode == 2):\n",
    "        output2.clear_output()\n",
    "        with output2:\n",
    "            display(HTML(\"<span style='color: red;'>step_2.py was not found in your home directory.</span>\"))\n",
    "            step2Complete = False\n",
    "\n",
    "    elif (result.returncode == 3):\n",
    "        output2.clear_output()\n",
    "        with output2:\n",
    "            display(HTML(\"<span style='color: red;'>Something went wrong with your lab's setup. Please contact your TA/instructor.</span>\"))\n",
    "            step2Complete = False\n",
    "    \n",
    "def check_step_2(b):\n",
    "    if (warn_student()):\n",
    "        output2.clear_output()\n",
    "        with output2:\n",
    "            display(HTML(\"<span style='color: red;'><strong>WARNING:</strong> You have an autosaved lab that you have not yet loaded. If you would like to load your progress, click \\\"Load Lab\\\" at the top of the notebook. Otherwise, clicking on this button again will assume you're restarting the lab!</span>\"))\n",
    "    else:\n",
    "        step_2()\n",
    "\n",
    "        # Auto-save.\n",
    "        if (not runAllSteps):\n",
    "            trigger_save(\"2\", result.returncode)\n",
    "\n",
    "# Creating the button.\n",
    "button = widgets.Button(description=\"Check Server\")\n",
    "\n",
    "# Creating an output area.\n",
    "output2 = widgets.Output()\n",
    "\n",
    "# Run the command on click.\n",
    "button.on_click(check_step_2)\n",
    "\n",
    "# Display the output.\n",
    "display(button, output2)"
   ]
  },
  {
   "cell_type": "markdown",
   "metadata": {
    "deletable": false,
    "editable": false,
    "slideshow": {
     "slide_type": ""
    },
    "tags": []
   },
   "source": [
    "### Step 3: Loading HTML with Flask\n",
    "\n",
    "Upon completing Step 2, an HTML file was generated for you in your home directory named ```step_3.html```.\n",
    "\n",
    "Additionally, a file was created for you called ```step_3.py```. This is just a copy of your ```step_2.py``` file.\n",
    "\n",
    "Instead of returning ```<p>Hello, World!</p>```, you are going to render an entire HTML file. This introduces a <strong>template</strong>. Templates are HTML files that can be dynamically changed using Flask. Templates <u>must</u> be stored inside of a directory called ```templates/``` in your Flask directory. This notebook will not teach you how to write HTML or Flask templates.\n",
    "\n",
    "Using your intuition, return the HTML file by using the ```render_template(source)``` command, which accepts an HTML file for its input.\n",
    "\n",
    "<span style=\"color: green\"><strong><img src=\"resources/idea.png\" style=\"width: 12px\"> Tip:</strong></span> The ```templates/``` directory does not have to be included in ```render_template()```. When using this function, it will automatically search inside of the ```templates/``` directory for the corresponding file."
   ]
  },
  {
   "cell_type": "code",
   "execution_count": 5,
   "metadata": {
    "deletable": false,
    "editable": false,
    "jupyter": {
     "source_hidden": true
    },
    "slideshow": {
     "slide_type": ""
    },
    "tags": []
   },
   "outputs": [
    {
     "data": {
      "application/vnd.jupyter.widget-view+json": {
       "model_id": "faeac23a877240588486573f3c683907",
       "version_major": 2,
       "version_minor": 0
      },
      "text/plain": [
       "Button(description='Check for Redirect', style=ButtonStyle())"
      ]
     },
     "metadata": {},
     "output_type": "display_data"
    },
    {
     "data": {
      "application/vnd.jupyter.widget-view+json": {
       "model_id": "6dea6f43f9c54263ab80396bb72ae4c9",
       "version_major": 2,
       "version_minor": 0
      },
      "text/plain": [
       "Output()"
      ]
     },
     "metadata": {},
     "output_type": "display_data"
    }
   ],
   "source": [
    "# Click the button below to check your work.\n",
    "step3Complete = False\n",
    "\n",
    "# Function to check the permissions.\n",
    "def step_3():\n",
    "    # Important variables that must be accessed outside of this function.\n",
    "    global step3Complete, result\n",
    "\n",
    "    with output3:\n",
    "        output3.clear_output()\n",
    "        display(HTML(\"<span><img width='14px' height='14px' style='margin-left: 3px;' src='resources/loading.gif'></span>\"))\n",
    "    \n",
    "    # This subprocess statement is a little different. Need to initiate environment variables at the same time when running the command.\n",
    "    result = subprocess.run('ssh -o StrictHostKeyChecking=no -i /home/USERNAME_GOES_HERE/.ssh/merge_key USERNAME_GOES_HERE@pathname /home/.checker/section_1.py 3', shell=True, capture_output=True, text=True)\n",
    "\n",
    "    if (result.returncode == 0):\n",
    "        output3.clear_output()\n",
    "        with output3:\n",
    "            display(HTML(\"<span style='color: green;'>Success! You may continue onto the next step.</span>\"))\n",
    "            step3Complete = True\n",
    "\n",
    "    elif (result.returncode == 1):\n",
    "        output3.clear_output()\n",
    "        with output3:\n",
    "            display(HTML(\"<span style='color: red;'>Your server did not display step_3.html. Make sure that you are rendering an HTML file.</span>\"))\n",
    "            step3Complete = False\n",
    "\n",
    "    elif (result.returncode == 2):\n",
    "        output3.clear_output()\n",
    "        with output3:\n",
    "            display(HTML(\"<span style='color: red;'>step_3.py was not found in your home directory.</span>\"))\n",
    "            step3Complete = False\n",
    "\n",
    "    elif (result.returncode == 3):\n",
    "        output3.clear_output()\n",
    "        with output3:\n",
    "            display(HTML(\"<span style='color: red;'>Something went wrong with your lab's setup. Please contact your TA/instructor.</span>\"))\n",
    "            step3Complete = False\n",
    "    \n",
    "def check_step_3(b):\n",
    "    if (warn_student()):\n",
    "        output3.clear_output()\n",
    "        with output3:\n",
    "            display(HTML(\"<span style='color: red;'><strong>WARNING:</strong> You have an autosaved lab that you have not yet loaded. If you would like to load your progress, click \\\"Load Lab\\\" at the top of the notebook. Otherwise, clicking on this button again will assume you're restarting the lab!</span>\"))\n",
    "    else:\n",
    "        step_3()\n",
    "\n",
    "        # Auto-save.\n",
    "        if (not runAllSteps):\n",
    "            trigger_save(\"3\", result.returncode)\n",
    "\n",
    "# Creating the button.\n",
    "button = widgets.Button(description=\"Check for Redirect\")\n",
    "\n",
    "# Creating an output area.\n",
    "output3 = widgets.Output()\n",
    "\n",
    "# Run the command on click.\n",
    "button.on_click(check_step_3)\n",
    "\n",
    "# Display the output.\n",
    "display(button, output3)"
   ]
  },
  {
   "cell_type": "markdown",
   "metadata": {
    "deletable": false,
    "editable": false,
    "slideshow": {
     "slide_type": ""
    },
    "tags": []
   },
   "source": [
    "### Step 4: Routing and Redirections\n",
    "\n",
    "Upon completing Step 3, <strong> a developer made a new directory</strong> called ```/lab```. Inside of this directory, some files have already been made. Your focus is on the ```memo.py``` file.\n",
    "\n",
    "<strong>Note:</strong> ```/lab``` has a leading slash in front of it, which means it's NOT in your home directory. You will find this directory inside of ```/```.\n",
    "\n",
    "<u>For the rest of this section</u>, you are going to be implementing parts of a memo website, which will be used towards the end of the lab. A \"developer\" will be implementing the heavy work for you.\n",
    "\n",
    "<strong>Routing</strong> in Flask is finding a specific URL, then making a function handle the logic for that URL. You may read more about routing <a href=\"https://www.geeksforgeeks.org/flask-app-routing/\">here</a>.\n",
    "\n",
    "For this step, use the ```redirect()``` command to redirect the user to `/` after <u>adding or deleting</u> a memo. The line of code that you need to change is provided to you in the file. For better practice, you're required to use ```url_for()```. You may read more about this function from the documentation <a href=\"https://flask.palletsprojects.com/en/3.0.x/api/#flask.url_for\">here</a>. \n",
    "\n",
    "<span style=\"color: green\"><strong><img src=\"resources/idea.png\" style=\"width: 12px\"> Tips:</strong></span> \n",
    "- Note that ```url_for()``` takes one parameter, which is the name of a function in your Python file. Using ```url_for()``` is good practice, because if you change the location that your URL route points to, it will always refer to the updated URL, because it points to the function. If you struggle to understand this, think of it this way: ```url_for()``` is the \"URL for your function\". If ```def foo():``` has the route ```@app.route(\"/home/foo/foo.html\")```, you can change the URL inside of this route, and the redirect will not need to be changed.\n",
    "- Using ```redirect()``` should be fairly straightforward to implement. However, your notebook will be using this command to make sure that your redirect is working: ```curl POST -d \"memo=test\" -v http://127.0.0.1:5000/add_memo```. Feel free to try using this command in a second terminal, while your first terminal is hosting the server.\n",
    "  - The answer that you use should be the same for ```add_memo()``` and ```delete_memo()```. The ```curl``` command above won't work for ```delete_memo()``` because there are currently no memos on the website yet."
   ]
  },
  {
   "cell_type": "code",
   "execution_count": 6,
   "metadata": {
    "deletable": false,
    "editable": false,
    "jupyter": {
     "source_hidden": true
    },
    "slideshow": {
     "slide_type": ""
    },
    "tags": []
   },
   "outputs": [
    {
     "data": {
      "application/vnd.jupyter.widget-view+json": {
       "model_id": "87aa97ca82c842b397f11309d52aac38",
       "version_major": 2,
       "version_minor": 0
      },
      "text/plain": [
       "Button(description='Check for Redirect', style=ButtonStyle())"
      ]
     },
     "metadata": {},
     "output_type": "display_data"
    },
    {
     "data": {
      "application/vnd.jupyter.widget-view+json": {
       "model_id": "815a2cf7d88940efa6bf777676677bf1",
       "version_major": 2,
       "version_minor": 0
      },
      "text/plain": [
       "Output()"
      ]
     },
     "metadata": {},
     "output_type": "display_data"
    }
   ],
   "source": [
    "# Click the button below to check your work.\n",
    "step4Complete = False\n",
    "\n",
    "# Function to check the permissions.\n",
    "def step_4():\n",
    "    # Important variables that must be accessed outside of this function.\n",
    "    global step4Complete, result\n",
    "\n",
    "    with output4:\n",
    "        output4.clear_output()\n",
    "        display(HTML(\"<span><img width='14px' height='14px' style='margin-left: 3px;' src='resources/loading.gif'></span>\"))\n",
    "    \n",
    "    # This subprocess statement is a little different. Need to initiate environment variables at the same time when running the command.\n",
    "    result = subprocess.run('ssh -o StrictHostKeyChecking=no -i /home/USERNAME_GOES_HERE/.ssh/merge_key USERNAME_GOES_HERE@pathname /home/.checker/section_1.py 4', shell=True, capture_output=True, text=True)\n",
    "\n",
    "    if (result.returncode == 0):\n",
    "        output4.clear_output()\n",
    "        with output4:\n",
    "            display(HTML(\"<span style='color: green;'>Success! You may continue onto the next step.</span>\"))\n",
    "            step4Complete = True\n",
    "\n",
    "    elif (result.returncode == 1):\n",
    "        output4.clear_output()\n",
    "        with output4:\n",
    "            display(HTML(\"<span style='color: red;'>Either add_memo() and/or delete_memo() did not have a correct redirect. Try again.</span>\"))\n",
    "            step4Complete = False\n",
    "\n",
    "    elif (result.returncode == 2):\n",
    "        output4.clear_output()\n",
    "        with output4:\n",
    "            display(HTML(\"<span style='color: red;'>The /lab/memo.py file was not found. Please contact your professor or TA for assistance.</span>\"))\n",
    "            step4Complete = False\n",
    "\n",
    "    elif (result.returncode == 3):\n",
    "        output4.clear_output()\n",
    "        with output4:\n",
    "            display(HTML(\"<span style='color: red;'>Something went wrong with your lab's setup. Please contact your TA/instructor.</span>\"))\n",
    "            step4Complete = False\n",
    "    \n",
    "def check_step_4(b):\n",
    "    if (warn_student()):\n",
    "        output4.clear_output()\n",
    "        with output4:\n",
    "            display(HTML(\"<span style='color: red;'><strong>WARNING:</strong> You have an autosaved lab that you have not yet loaded. If you would like to load your progress, click \\\"Load Lab\\\" at the top of the notebook. Otherwise, clicking on this button again will assume you're restarting the lab!</span>\"))\n",
    "    else:\n",
    "        step_4()\n",
    "\n",
    "        # Auto-save.\n",
    "        if (not runAllSteps):\n",
    "            trigger_save(\"4\", result.returncode)\n",
    "\n",
    "# Creating the button.\n",
    "button = widgets.Button(description=\"Check for Redirect\")\n",
    "\n",
    "# Creating an output area.\n",
    "output4 = widgets.Output()\n",
    "\n",
    "# Run the command on click.\n",
    "button.on_click(check_step_4)\n",
    "\n",
    "# Display the output.\n",
    "display(button, output4)"
   ]
  },
  {
   "cell_type": "markdown",
   "metadata": {
    "deletable": false,
    "editable": false,
    "slideshow": {
     "slide_type": ""
    },
    "tags": []
   },
   "source": [
    "### Step 5: Reading Input Through Flask\n",
    "\n",
    "As you finished implementing redirections, the developer has updated the ```memo.py``` file to implement add/remove functionality for the memos. Here is how the functionality will work:\n",
    "- ```add_memo()```\n",
    "  - Take the content of the memo by using ```request.form.get```. This takes any ```<form>``` HTML attribute with the name ```memo```, then takes its contents.\n",
    "  - If content exists, call ```get_next_memo_id()```. This is a separate function which gets all of the existing IDs, finds the highest value out of all of them, then adds one to it and returns it.\n",
    "  - Create a filename for the new memo.\n",
    "  - Write the file into the ```templates/memo/``` directory.\n",
    "- ```view_memo()```\n",
    "  - Take the ID of the memo and concatenate it with the ```memos/``` path.\n",
    "  - Take the file path, then read the memo.\n",
    "  - If the memo ID isn't numeric, then assign it to -1.\n",
    "  - Print the memo onto the screen.\n",
    "- ```load_memos()```\n",
    "  - Create an empty dictionary called ```memos```\n",
    "    - In Python, dictionaries are a set of key/value pairs, where the key is the ID of the memo, and the value is the content of it.\n",
    "  - For each file in the memo directory, if it ends with ```.txt```, it's readable. Therefore, add the memo to the dictionary with the ID as the key, and the contents as the value.\n",
    "\n",
    "The developer has decided to start implementing the HTML for the website. Meanwhile, they asked you to implement the ```delete_memo()``` function.\n",
    "\n",
    "Note the parameters that are seen inside of the route calls. This is a breakdown of the parameter types that can be fed into the function as parameters:\n",
    "\n",
    "| Type         | Description                                |\n",
    "|--------------|--------------------------------------------|\n",
    "| ```string``` | (default) accepts any text without a slash |\n",
    "| ```int```    | accepts positive integers                  |\n",
    "| ```float```  | accepts positive floating point values     |\n",
    "| ```path```   | like ```string``` but also accepts slashes |\n",
    "| ```uuid```   | accepts UUID strings                       |\n",
    "\n",
    "<center><a href=\"https://flask.palletsprojects.com/en/3.0.x/quickstart/#variable-rules\">Table Source</a></center>\n",
    "<span>When parameters are passed from a route, they are available in the function that it wraps around.<br><br></span>\n",
    "\n",
    "<strong>Your task:</strong> Update ```delete_memo``` so that it takes the ```<int:memo_id>``` variable, and deletes the memo with that ID. \n",
    "\n",
    "<span style=\"color: green\"><strong><img src=\"resources/idea.png\" style=\"width: 12px\"> Tips:</strong></span>\n",
    "- The other functions that the developer has implemented may help you. Specifically, seeing how the memo's paths are constructed would be a good start.\n",
    "- Additionally, removing files can be done in Python using ```os.remove()```.\n",
    "- When you access a memo, a \"delete\" button is already implemented, which you can use to test your work."
   ]
  },
  {
   "cell_type": "code",
   "execution_count": 7,
   "metadata": {
    "deletable": false,
    "editable": false,
    "jupyter": {
     "source_hidden": true
    },
    "slideshow": {
     "slide_type": ""
    },
    "tags": []
   },
   "outputs": [
    {
     "data": {
      "application/vnd.jupyter.widget-view+json": {
       "model_id": "b45f64b31c8c4b12b1df78d7a8acb509",
       "version_major": 2,
       "version_minor": 0
      },
      "text/plain": [
       "Button(description='Check Functionality', style=ButtonStyle())"
      ]
     },
     "metadata": {},
     "output_type": "display_data"
    },
    {
     "data": {
      "application/vnd.jupyter.widget-view+json": {
       "model_id": "441660d78437410e9e28b792ebd2c00e",
       "version_major": 2,
       "version_minor": 0
      },
      "text/plain": [
       "Output()"
      ]
     },
     "metadata": {},
     "output_type": "display_data"
    }
   ],
   "source": [
    "# Click the button below to check your work.\n",
    "step5Complete = False\n",
    "\n",
    "# Function to check the permissions.\n",
    "def step_5():\n",
    "    # Important variables that must be accessed outside of this function.\n",
    "    global step5Complete, result\n",
    "\n",
    "    with output5:\n",
    "        output5.clear_output()\n",
    "        display(HTML(\"<span><img width='14px' height='14px' style='margin-left: 3px;' src='resources/loading.gif'></span>\"))\n",
    "    \n",
    "    # This subprocess statement is a little different. Need to initiate environment variables at the same time when running the command.\n",
    "    result = subprocess.run('ssh -o StrictHostKeyChecking=no -i /home/USERNAME_GOES_HERE/.ssh/merge_key USERNAME_GOES_HERE@pathname /home/.checker/section_1.py 5', shell=True, capture_output=True, text=True)\n",
    "\n",
    "    if (result.returncode == 0):\n",
    "        output5.clear_output()\n",
    "        with output5:\n",
    "            display(HTML(\"<span style='color: green;'>Success! You may continue onto the next step.</span>\"))\n",
    "            step5Complete = True\n",
    "\n",
    "    elif (result.returncode == 1):\n",
    "        output5.clear_output()\n",
    "        with output5:\n",
    "            display(HTML(\"<span style='color: red;'>Your delete_memo() function did not work. Try again.</span>\"))\n",
    "            step5Complete = False\n",
    "\n",
    "    elif (result.returncode == 2):\n",
    "        output5.clear_output()\n",
    "        with output5:\n",
    "            display(HTML(\"<span style='color: red;'>Either /lab/memo.py file was not found, or the checker script is having an issue. Please contact your professor or TA for assistance.</span>\"))\n",
    "            step5Complete = False\n",
    "\n",
    "    elif (result.returncode == 3):\n",
    "        output5.clear_output()\n",
    "        with output5:\n",
    "            display(HTML(\"<span style='color: red;'>Something went wrong with your lab's setup. Please contact your TA/instructor.</span>\"))\n",
    "            step5Complete = False\n",
    "    \n",
    "def check_step_5(b):\n",
    "    if (warn_student()):\n",
    "        output5.clear_output()\n",
    "        with output5:\n",
    "            display(HTML(\"<span style='color: red;'><strong>WARNING:</strong> You have an autosaved lab that you have not yet loaded. If you would like to load your progress, click \\\"Load Lab\\\" at the top of the notebook. Otherwise, clicking on this button again will assume you're restarting the lab!</span>\"))\n",
    "    else:\n",
    "        step_5()\n",
    "\n",
    "        # Auto-save.\n",
    "        if (not runAllSteps):\n",
    "            trigger_save(\"5\", result.returncode)\n",
    "\n",
    "# Creating the button.\n",
    "button = widgets.Button(description=\"Check Functionality\")\n",
    "\n",
    "# Creating an output area.\n",
    "output5 = widgets.Output()\n",
    "\n",
    "# Run the command on click.\n",
    "button.on_click(check_step_5)\n",
    "\n",
    "# Display the output.\n",
    "display(button, output5)"
   ]
  },
  {
   "cell_type": "markdown",
   "metadata": {
    "deletable": false,
    "editable": false,
    "slideshow": {
     "slide_type": ""
    },
    "tags": []
   },
   "source": [
    "## <strong>Topic 2: Path Canonicalization</strong>\n",
    "\n",
    "In the previous topic, you produced part of a memo website, which allows you to write memos, view them later, then delete them. Step 1 allowed you to view this website from your own browser.\n",
    "\n",
    "Before looking for potential vulnerabilities with this memo website, you are going to be exploring how pathname attacks can be used to break websites. Once you have experimented with how pathnames work, you are going to find a vulnerability within the website that the other developer overlooked.\n",
    "\n",
    "After you looked at how pathnames work, you are going to look at certain sanitizations, discover how to break the sanitizations, then look into the idea of canonicalizing a path. You will be experimenting with what happens when you call ```blog.php``` with a pathname attack. This PHP file assumes that it will take and format a text file. <strong>Other dangers can happen with pathname attacks.</strong> Suppose a PHP file deletes a blog or sends a file to somebody. Using pathname attacks, you can direct any file  to these PHP files and make the PHP files manipulate them."
   ]
  },
  {
   "cell_type": "markdown",
   "metadata": {
    "deletable": false,
    "editable": false,
    "slideshow": {
     "slide_type": ""
    },
    "tags": []
   },
   "source": [
    "### Step 6: Pathname Basics\n",
    "\n",
    "After completing Topic 1, you have likely used the ```cd``` command to traverse directories. You should be familiar with the fact that ```..``` refers to the parent directory relative to your current location.\n",
    "\n",
    "Suppose a website has the following URL:\n",
    "\n",
    "<center style=\"color: blue; font-family:monospace; margin-bottom: 15px;\">https://www.mywebsite.com/blog.php?file=posts/4183</center>\n",
    "\n",
    "Upon inspection, this website contains a blog page that reads a file named `4183` on the server.\n",
    "\n",
    "Now, suppose you know the location of this file on the server. The file is located in `/var/www/html/posts`, and the website itself is located in `/var/www/html`. Whenever the server needs to read a file, send an email, register a user, or update a database, all of its operations are conducted within this directory.\n",
    "\n",
    "```blog.php``` reads files from ```/var/www/html/posts/XXX```, where ```XXX``` is the name of the file it reads. Using an injection attack, find a way to read the file named ```/etc/passwd``` by replacing the file name with parent directories (```..```) to traverse upward in the file hierarchy.\n",
    "\n",
    "The template of the URL has already been provided. Simply type your response into the field below, then click the button to check your work.\n",
    "\n",
    "<span style=\"color: orange\"><strong><img src=\"resources/alert.png\" style=\"width: 12px\"> Warning:</strong></span> If you attempt to navigate back into the ```posts/``` directory (for example: ```posts/../posts/..```), your answer will not work. You may either start your answer with ```posts/``` or with the parent directory. <strong>You are required to use ```..``` in your attack.</strong>\n"
   ]
  },
  {
   "cell_type": "code",
   "execution_count": 8,
   "metadata": {
    "deletable": false,
    "editable": false,
    "jupyter": {
     "source_hidden": true
    },
    "slideshow": {
     "slide_type": ""
    },
    "tags": []
   },
   "outputs": [
    {
     "data": {
      "application/vnd.jupyter.widget-view+json": {
       "model_id": "3e36f4f0e1214e0d803352edfe8dedc7",
       "version_major": 2,
       "version_minor": 0
      },
      "text/plain": [
       "Output()"
      ]
     },
     "metadata": {},
     "output_type": "display_data"
    },
    {
     "data": {
      "text/html": [
       "\n",
       "<style>\n",
       ".custom-textarea .widget-label {\n",
       "    white-space: normal !important;\n",
       "    max-width: 600px !important;\n",
       "    font-family: monospace;\n",
       "    color: blue;\n",
       "}\n",
       ".custom-textarea .widget-text {\n",
       "    width: 600px !important;\n",
       "    font-family: monospace;\n",
       "    color: blue;\n",
       "}\n",
       "</style>\n"
      ],
      "text/plain": [
       "<IPython.core.display.HTML object>"
      ]
     },
     "metadata": {},
     "output_type": "display_data"
    },
    {
     "data": {
      "application/vnd.jupyter.widget-view+json": {
       "model_id": "d3dd870259ca4a399d6ff49cf9057cbc",
       "version_major": 2,
       "version_minor": 0
      },
      "text/plain": [
       "Text(value='', description='https://www.mywebsite.com/blog.php?file=', layout=Layout(width='600px'), placehold…"
      ]
     },
     "metadata": {},
     "output_type": "display_data"
    },
    {
     "data": {
      "application/vnd.jupyter.widget-view+json": {
       "model_id": "73d61b71e1854a96bf97273d6aaa9c0e",
       "version_major": 2,
       "version_minor": 0
      },
      "text/plain": [
       "Button(description='Check Path', style=ButtonStyle())"
      ]
     },
     "metadata": {},
     "output_type": "display_data"
    },
    {
     "data": {
      "application/vnd.jupyter.widget-view+json": {
       "model_id": "82c5255e6c5f4fe19777ba64d3c3e1d4",
       "version_major": 2,
       "version_minor": 0
      },
      "text/plain": [
       "Output()"
      ]
     },
     "metadata": {},
     "output_type": "display_data"
    }
   ],
   "source": [
    "# Click the button below to check your work.\n",
    "step6Complete = False\n",
    "\n",
    "# Function to save the short answer.\n",
    "def step_6():\n",
    "    # Important variables that must be accessed outside of this function.\n",
    "    global step6Complete, result, user_input_quoted\n",
    "\n",
    "    # Loading, in case saving is slow.\n",
    "    with output6:\n",
    "        output6.clear_output()\n",
    "        display(HTML(\"<span><img width='12px' height='12px' style='margin-left: 3px;' src='resources/loading.gif'></span>\"))\n",
    "\n",
    "    if (userInput6.value == \"\"):\n",
    "        output6.clear_output()\n",
    "        with output6:\n",
    "            display(HTML(\"<span style='color: red;'>You did not type a response.</span>\"))\n",
    "            step6Complete = False\n",
    "\n",
    "    else:\n",
    "        user_input_quoted = (userInput6.value).strip()\n",
    "\n",
    "        # Construct the SSH command for testing the student's response.\n",
    "        test_response = f\"\"\"ssh -i /home/USERNAME_GOES_HERE/.ssh/merge_key USERNAME_GOES_HERE@pathname \"/home/.checker/section_2.py 6 '{user_input_quoted}'\" \"\"\"\n",
    "        result = subprocess.run(test_response, shell=True, stdout=subprocess.PIPE, stderr=subprocess.PIPE)\n",
    "        \n",
    "        # Construct the SSH command for saving the student's response.\n",
    "        save_command = f\"\"\"ssh -i /home/USERNAME_GOES_HERE/.ssh/merge_key USERNAME_GOES_HERE@pathname \"echo '{user_input_quoted}' > /home/.checker/responses/step_6_answer.txt\" \"\"\"\n",
    "        save_result = subprocess.run(save_command, shell=True, stdout=subprocess.PIPE, stderr=subprocess.PIPE)\n",
    "        \n",
    "        if (result.returncode == 0):\n",
    "            output6.clear_output()\n",
    "            with output6:\n",
    "                display(HTML(\"<span style='color: green;'>Your response is correct.</span>\"))\n",
    "                step6Complete = True\n",
    "    \n",
    "        elif (result.returncode == 1):\n",
    "            output6.clear_output()\n",
    "            with output6:\n",
    "                display(HTML(\"<span style='color: red;'>Your response is incorrect.</span>\"))\n",
    "                step6Complete = False\n",
    "\n",
    "def check_step_6(b):\n",
    "    if (warn_student()):\n",
    "        output6.clear_output()\n",
    "        with output6:\n",
    "            display(HTML(\"<span style='color: red;'><strong>WARNING:</strong> You have an autosaved lab that you have not yet loaded. If you would like to load your progress, click \\\"Load Lab\\\" at the top of the notebook. Otherwise, clicking on this button again will assume you're restarting the lab!</span>\"))\n",
    "    else:\n",
    "        step_6()\n",
    "\n",
    "        # Auto-save.\n",
    "        if (not runAllSteps):\n",
    "            trigger_save(\"6\", result.returncode, userInput6.value)\n",
    "\n",
    "# Retrieve the student's response. First, create a loading spinner, since this could take a second or two.\n",
    "loading6 = widgets.Output()\n",
    "display(loading6)\n",
    "with loading6:\n",
    "    loading6.clear_output()\n",
    "    display(HTML(\"<span>Loading your saved response... <img width='12px' height='12px' style='margin-left: 3px;' src='resources/loading.gif'></span>\"))\n",
    "\n",
    "# Custom CSS for styling\n",
    "custom_css = \"\"\"\n",
    "<style>\n",
    ".custom-textarea .widget-label {\n",
    "    white-space: normal !important;\n",
    "    max-width: 600px !important;\n",
    "    font-family: monospace;\n",
    "    color: blue;\n",
    "}\n",
    ".custom-textarea .widget-text {\n",
    "    width: 600px !important;\n",
    "    font-family: monospace;\n",
    "    color: blue;\n",
    "}\n",
    "</style>\n",
    "\"\"\"\n",
    "\n",
    "# Inject custom CSS\n",
    "display(HTML(custom_css))\n",
    "\n",
    "# Creating a text area with custom styling\n",
    "userInput6 = widgets.Text(\n",
    "    placeholder='Your Payload Here',\n",
    "    description='https://www.mywebsite.com/blog.php?file=',\n",
    "    layout=widgets.Layout(width='600px'),\n",
    "    style={'description_width': 'initial'}\n",
    ")\n",
    "\n",
    "# Apply custom class to the text input widget\n",
    "userInput6.add_class('custom-textarea')\n",
    "\n",
    "# Checking if the step has been answered\n",
    "result = subprocess.run('ssh -o StrictHostKeyChecking=no -i /home/USERNAME_GOES_HERE/.ssh/merge_key USERNAME_GOES_HERE@pathname \"cat /home/.checker/responses/step_6_answer.txt 2> /dev/null\"', capture_output=True, text=True, shell=True)\n",
    "userInput6.value = result.stdout\n",
    "\n",
    "# Creating the button\n",
    "button = widgets.Button(description=\"Check Path\")\n",
    "\n",
    "# After the student's response was loaded, clear the output.\n",
    "loading6.clear_output()\n",
    "\n",
    "# Creating an output area\n",
    "output6 = widgets.Output()\n",
    "\n",
    "# Attach the function to button click event\n",
    "button.on_click(check_step_6)\n",
    "\n",
    "# Display the widgets\n",
    "display(userInput6, button, output6)"
   ]
  },
  {
   "cell_type": "markdown",
   "metadata": {
    "deletable": false,
    "editable": false,
    "slideshow": {
     "slide_type": ""
    },
    "tags": []
   },
   "source": [
    "### Step 7: Sanitization (Part 1)\n",
    "\n",
    "From the previous step, you can clearly tell that this is a security risk. The ```/etc/passwd``` file leaks information about the users on the server. \n",
    "\n",
    "<strong>Note</strong>: This doesn't leak information about the users on the website. Rather, it leaks information about users from the computer that the website is hosted from.\n",
    "\n",
    "Each line of the ```/etc/passwd``` file leaks the following information, <a href=\"https://www.ibm.com/docs/en/aix/7.1?topic=passwords-using-etcpasswd-file\">from IBM</a>:\n",
    "\n",
    "- User name\n",
    "- Encrypted password\n",
    "- User ID number (UID)\n",
    "- User's group ID number (GID)\n",
    "- Full name of the user (GECOS)\n",
    "- User home directory\n",
    "- Login shell\n",
    "\n",
    "We cannot have this information viewable from the website. However, we cannot modify where this file exists, nor its permissions. Our website needs to sanitize the pathname.\n",
    "\n",
    "<strong>Here is the sanitization function</strong>: Suppose that ```blog.php``` can detect if a pathname attack is occuring. If the website detects that you're navigating to the `/` directory, it will prepend the directory with this path name: ```/var/www/html/posts/```\n",
    "\n",
    "Your task is to break this sanitization function. You are still supposed to use ```..``` in your payload.\n",
    "\n",
    "<span style=\"color: orange\"><strong><img src=\"resources/alert.png\" style=\"width: 12px\"> Notice:</strong></span> ```posts/``` is prepended to the filename. If you start your payload with ```posts/```, it will not work because ```/var/www/html/posts/posts/``` is an invalid directory!"
   ]
  },
  {
   "cell_type": "code",
   "execution_count": 9,
   "metadata": {
    "deletable": false,
    "editable": false,
    "jupyter": {
     "source_hidden": true
    },
    "slideshow": {
     "slide_type": ""
    },
    "tags": []
   },
   "outputs": [
    {
     "data": {
      "application/vnd.jupyter.widget-view+json": {
       "model_id": "b2ec4cc2d5d4421681a21f4c70da831f",
       "version_major": 2,
       "version_minor": 0
      },
      "text/plain": [
       "Output()"
      ]
     },
     "metadata": {},
     "output_type": "display_data"
    },
    {
     "data": {
      "text/html": [
       "\n",
       "<style>\n",
       ".custom-textarea .widget-label {\n",
       "    white-space: normal !important;\n",
       "    max-width: 600px !important;\n",
       "    font-family: monospace;\n",
       "    color: blue;\n",
       "}\n",
       ".custom-textarea .widget-text {\n",
       "    width: 600px !important;\n",
       "    font-family: monospace;\n",
       "    color: blue;\n",
       "}\n",
       "</style>\n"
      ],
      "text/plain": [
       "<IPython.core.display.HTML object>"
      ]
     },
     "metadata": {},
     "output_type": "display_data"
    },
    {
     "data": {
      "application/vnd.jupyter.widget-view+json": {
       "model_id": "d0bf600d543a4331b8ce60ff2aae8880",
       "version_major": 2,
       "version_minor": 0
      },
      "text/plain": [
       "Text(value='', description='https://www.mywebsite.com/blog.php?file=', layout=Layout(width='600px'), placehold…"
      ]
     },
     "metadata": {},
     "output_type": "display_data"
    },
    {
     "data": {
      "application/vnd.jupyter.widget-view+json": {
       "model_id": "4255b32b6004481aade18118e5d10b38",
       "version_major": 2,
       "version_minor": 0
      },
      "text/plain": [
       "Button(description='Check Path', style=ButtonStyle())"
      ]
     },
     "metadata": {},
     "output_type": "display_data"
    },
    {
     "data": {
      "application/vnd.jupyter.widget-view+json": {
       "model_id": "bea474d5e0084d72a0b6999a3d0e474a",
       "version_major": 2,
       "version_minor": 0
      },
      "text/plain": [
       "Output()"
      ]
     },
     "metadata": {},
     "output_type": "display_data"
    }
   ],
   "source": [
    "# Click the button below to check your work.\n",
    "step7Complete = False\n",
    "\n",
    "# Function to save the short answer.\n",
    "def step_7():\n",
    "    # Important variables that must be accessed outside of this function.\n",
    "    global step7Complete, result\n",
    "\n",
    "    # Loading, in case saving is slow.\n",
    "    with output7:\n",
    "        output7.clear_output()\n",
    "        display(HTML(\"<span><img width='12px' height='12px' style='margin-left: 3px;' src='resources/loading.gif'></span>\"))\n",
    "\n",
    "    if (userInput7.value == \"\"):\n",
    "        output7.clear_output()\n",
    "        with output7:\n",
    "            display(HTML(\"<span style='color: red;'>You did not type a response.</span>\"))\n",
    "            step7Complete = False\n",
    "\n",
    "    else:\n",
    "        user_input_quoted = (userInput7.value).strip()\n",
    "\n",
    "        # Construct the SSH command for testing the student's response.\n",
    "        test_response = f\"\"\"ssh -i /home/USERNAME_GOES_HERE/.ssh/merge_key USERNAME_GOES_HERE@pathname \"/home/.checker/section_2.py 7 '{user_input_quoted}'\" \"\"\"\n",
    "        result = subprocess.run(test_response, shell=True, stdout=subprocess.PIPE, stderr=subprocess.PIPE)\n",
    "        \n",
    "        # Construct the SSH command for saving the student's response.\n",
    "        save_command = f\"\"\"ssh -i /home/USERNAME_GOES_HERE/.ssh/merge_key USERNAME_GOES_HERE@pathname \"echo '{user_input_quoted}' > /home/.checker/responses/step_7_answer.txt\" \"\"\"\n",
    "        save_result = subprocess.run(save_command, shell=True, stdout=subprocess.PIPE, stderr=subprocess.PIPE)\n",
    "        \n",
    "        if (result.returncode == 0):\n",
    "            output7.clear_output()\n",
    "            with output7:\n",
    "                display(HTML(\"<span style='color: green;'>Your response is correct. (Notice that your payload from the previous question also works here?)</span>\"))\n",
    "                step7Complete = True\n",
    "    \n",
    "        elif (result.returncode == 1):\n",
    "            output7.clear_output()\n",
    "            with output7:\n",
    "                display(HTML(\"<span style='color: red;'>Your response is incorrect.</span>\"))\n",
    "                step7Complete = False\n",
    "\n",
    "def check_step_7(b):\n",
    "    if (warn_student()):\n",
    "        output7.clear_output()\n",
    "        with output7:\n",
    "            display(HTML(\"<span style='color: red;'><strong>WARNING:</strong> You have an autosaved lab that you have not yet loaded. If you would like to load your progress, click \\\"Load Lab\\\" at the top of the notebook. Otherwise, clicking on this button again will assume you're restarting the lab!</span>\"))\n",
    "    else:\n",
    "        step_7()\n",
    "\n",
    "        # Auto-save.\n",
    "        if (not runAllSteps):\n",
    "            trigger_save(\"7\", result.returncode, userInput7.value)\n",
    "\n",
    "# Retrieve the student's response. First, create a loading spinner, since this could take a second or two.\n",
    "loading7 = widgets.Output()\n",
    "display(loading7)\n",
    "with loading7:\n",
    "    loading7.clear_output()\n",
    "    display(HTML(\"<span>Loading your saved response... <img width='12px' height='12px' style='margin-left: 3px;' src='resources/loading.gif'></span>\"))\n",
    "\n",
    "# Custom CSS for styling\n",
    "custom_css = \"\"\"\n",
    "<style>\n",
    ".custom-textarea .widget-label {\n",
    "    white-space: normal !important;\n",
    "    max-width: 600px !important;\n",
    "    font-family: monospace;\n",
    "    color: blue;\n",
    "}\n",
    ".custom-textarea .widget-text {\n",
    "    width: 600px !important;\n",
    "    font-family: monospace;\n",
    "    color: blue;\n",
    "}\n",
    "</style>\n",
    "\"\"\"\n",
    "\n",
    "# Inject custom CSS\n",
    "display(HTML(custom_css))\n",
    "\n",
    "# Creating a text area with custom styling\n",
    "userInput7 = widgets.Text(\n",
    "    placeholder='Your Payload Here',\n",
    "    description='https://www.mywebsite.com/blog.php?file=',\n",
    "    layout=widgets.Layout(width='600px'),\n",
    "    style={'description_width': 'initial'}\n",
    ")\n",
    "\n",
    "# Apply custom class to the text input widget\n",
    "userInput7.add_class('custom-textarea')\n",
    "\n",
    "# Checking if the step has been answered\n",
    "result = subprocess.run('ssh -o StrictHostKeyChecking=no -i /home/USERNAME_GOES_HERE/.ssh/merge_key USERNAME_GOES_HERE@pathname \"cat /home/.checker/responses/step_7_answer.txt 2> /dev/null\"', capture_output=True, text=True, shell=True)\n",
    "userInput7.value = result.stdout\n",
    "\n",
    "# Creating the button\n",
    "button = widgets.Button(description=\"Check Path\")\n",
    "\n",
    "# After the student's response was loaded, clear the output.\n",
    "loading7.clear_output()\n",
    "\n",
    "# Creating an output area\n",
    "output7 = widgets.Output()\n",
    "\n",
    "# Attach the function to button click event\n",
    "button.on_click(check_step_7)\n",
    "\n",
    "# Display the widgets\n",
    "display(userInput7, button, output7)"
   ]
  },
  {
   "cell_type": "markdown",
   "metadata": {
    "deletable": false,
    "editable": false,
    "slideshow": {
     "slide_type": ""
    },
    "tags": []
   },
   "source": [
    "### Step 8: Sanitization (Part 2)\n",
    "\n",
    "After breaking the sanitization function from Step 7, you will need to find another way to fix this security issue.\n",
    "\n",
    "<strong>Here is a new sanitization function</strong>: Prepending a path before a filename didn't work, so it will not be used anymore. If a ```..``` appears in the directory, remove it. Assume that the developer(s) for ```blog.php``` forgot to add a check, which allows absolute paths to be called from the command line.\n",
    "\n",
    "Your task is to break this sanitization function."
   ]
  },
  {
   "cell_type": "code",
   "execution_count": 10,
   "metadata": {
    "deletable": false,
    "editable": false,
    "jupyter": {
     "source_hidden": true
    },
    "slideshow": {
     "slide_type": ""
    },
    "tags": []
   },
   "outputs": [
    {
     "data": {
      "application/vnd.jupyter.widget-view+json": {
       "model_id": "13bd4d838cf34fb9a1738519d269d070",
       "version_major": 2,
       "version_minor": 0
      },
      "text/plain": [
       "Output()"
      ]
     },
     "metadata": {},
     "output_type": "display_data"
    },
    {
     "data": {
      "text/html": [
       "\n",
       "<style>\n",
       ".custom-textarea .widget-label {\n",
       "    white-space: normal !important;\n",
       "    max-width: 600px !important;\n",
       "    font-family: monospace;\n",
       "    color: blue;\n",
       "}\n",
       ".custom-textarea .widget-text {\n",
       "    width: 600px !important;\n",
       "    font-family: monospace;\n",
       "    color: blue;\n",
       "}\n",
       "</style>\n"
      ],
      "text/plain": [
       "<IPython.core.display.HTML object>"
      ]
     },
     "metadata": {},
     "output_type": "display_data"
    },
    {
     "data": {
      "application/vnd.jupyter.widget-view+json": {
       "model_id": "2ffcf4a4ab78400db98c6c9ffce49b52",
       "version_major": 2,
       "version_minor": 0
      },
      "text/plain": [
       "Text(value='', description='https://www.mywebsite.com/blog.php?file=', layout=Layout(width='600px'), placehold…"
      ]
     },
     "metadata": {},
     "output_type": "display_data"
    },
    {
     "data": {
      "application/vnd.jupyter.widget-view+json": {
       "model_id": "e9104cce90b2485cb1d22e16af204c43",
       "version_major": 2,
       "version_minor": 0
      },
      "text/plain": [
       "Button(description='Check Path', style=ButtonStyle())"
      ]
     },
     "metadata": {},
     "output_type": "display_data"
    },
    {
     "data": {
      "application/vnd.jupyter.widget-view+json": {
       "model_id": "5a09696cfd844b82a0de090d5c5c96f0",
       "version_major": 2,
       "version_minor": 0
      },
      "text/plain": [
       "Output()"
      ]
     },
     "metadata": {},
     "output_type": "display_data"
    }
   ],
   "source": [
    "# Click the button below to check your work.\n",
    "step8Complete = False\n",
    "\n",
    "# Function to save the short answer.\n",
    "def step_8():\n",
    "    # Important variables that must be accessed outside of this function.\n",
    "    global step8Complete, result\n",
    "\n",
    "    # Loading, in case saving is slow.\n",
    "    with output8:\n",
    "        output8.clear_output()\n",
    "        display(HTML(\"<span><img width='12px' height='12px' style='margin-left: 3px;' src='resources/loading.gif'></span>\"))\n",
    "\n",
    "    if (userInput8.value == \"\"):\n",
    "        output8.clear_output()\n",
    "        with output8:\n",
    "            display(HTML(\"<span style='color: red;'>You did not type a response.</span>\"))\n",
    "            step8Complete = False\n",
    "\n",
    "    else:\n",
    "        user_input_quoted = (userInput8.value).strip()\n",
    "\n",
    "        # Construct the SSH command for testing the student's response.\n",
    "        test_response = f\"\"\"ssh -i /home/USERNAME_GOES_HERE/.ssh/merge_key USERNAME_GOES_HERE@pathname \"/home/.checker/section_2.py 8 '{user_input_quoted}'\" \"\"\"\n",
    "        result = subprocess.run(test_response, shell=True, stdout=subprocess.PIPE, stderr=subprocess.PIPE)\n",
    "        \n",
    "        # Construct the SSH command for saving the student's response.\n",
    "        save_command = f\"\"\"ssh -i /home/USERNAME_GOES_HERE/.ssh/merge_key USERNAME_GOES_HERE@pathname \"echo '{user_input_quoted}' > /home/.checker/responses/step_8_answer.txt\" \"\"\"\n",
    "        save_result = subprocess.run(save_command, shell=True, stdout=subprocess.PIPE, stderr=subprocess.PIPE)\n",
    "        \n",
    "        if (result.returncode == 0):\n",
    "            output8.clear_output()\n",
    "            with output8:\n",
    "                display(HTML(\"<span style='color: green;'>Your response is correct.</span>\"))\n",
    "                step8Complete = True\n",
    "    \n",
    "        elif (result.returncode == 1):\n",
    "            output8.clear_output()\n",
    "            with output8:\n",
    "                display(HTML(\"<span style='color: red;'>Your response is incorrect.</span>\"))\n",
    "                step8Complete = False\n",
    "\n",
    "def check_step_8(b):\n",
    "    if (warn_student()):\n",
    "        output8.clear_output()\n",
    "        with output8:\n",
    "            display(HTML(\"<span style='color: red;'><strong>WARNING:</strong> You have an autosaved lab that you have not yet loaded. If you would like to load your progress, click \\\"Load Lab\\\" at the top of the notebook. Otherwise, clicking on this button again will assume you're restarting the lab!</span>\"))\n",
    "    else:\n",
    "        step_8()\n",
    "\n",
    "        # Auto-save.\n",
    "        if (not runAllSteps):\n",
    "            trigger_save(\"8\", result.returncode, userInput8.value)\n",
    "\n",
    "# Retrieve the student's response. First, create a loading spinner, since this could take a second or two.\n",
    "loading8 = widgets.Output()\n",
    "display(loading8)\n",
    "with loading8:\n",
    "    loading8.clear_output()\n",
    "    display(HTML(\"<span>Loading your saved response... <img width='12px' height='12px' style='margin-left: 3px;' src='resources/loading.gif'></span>\"))\n",
    "\n",
    "# Custom CSS for styling\n",
    "custom_css = \"\"\"\n",
    "<style>\n",
    ".custom-textarea .widget-label {\n",
    "    white-space: normal !important;\n",
    "    max-width: 600px !important;\n",
    "    font-family: monospace;\n",
    "    color: blue;\n",
    "}\n",
    ".custom-textarea .widget-text {\n",
    "    width: 600px !important;\n",
    "    font-family: monospace;\n",
    "    color: blue;\n",
    "}\n",
    "</style>\n",
    "\"\"\"\n",
    "\n",
    "# Inject custom CSS\n",
    "display(HTML(custom_css))\n",
    "\n",
    "# Creating a text area with custom styling\n",
    "userInput8 = widgets.Text(\n",
    "    placeholder='Your Payload Here',\n",
    "    description='https://www.mywebsite.com/blog.php?file=',\n",
    "    layout=widgets.Layout(width='600px'),\n",
    "    style={'description_width': 'initial'}\n",
    ")\n",
    "\n",
    "# Apply custom class to the text input widget\n",
    "userInput8.add_class('custom-textarea')\n",
    "\n",
    "# Checking if the step has been answered\n",
    "result = subprocess.run('ssh -o StrictHostKeyChecking=no -i /home/USERNAME_GOES_HERE/.ssh/merge_key USERNAME_GOES_HERE@pathname \"cat /home/.checker/responses/step_8_answer.txt 2> /dev/null\"', capture_output=True, text=True, shell=True)\n",
    "userInput8.value = result.stdout\n",
    "\n",
    "# Creating the button\n",
    "button = widgets.Button(description=\"Check Path\")\n",
    "\n",
    "# After the student's response was loaded, clear the output.\n",
    "loading8.clear_output()\n",
    "\n",
    "# Creating an output area\n",
    "output8 = widgets.Output()\n",
    "\n",
    "# Attach the function to button click event\n",
    "button.on_click(check_step_8)\n",
    "\n",
    "# Display the widgets\n",
    "display(userInput8, button, output8)"
   ]
  },
  {
   "cell_type": "markdown",
   "metadata": {
    "deletable": false,
    "editable": false,
    "slideshow": {
     "slide_type": ""
    },
    "tags": []
   },
   "source": [
    "### Step 9: Sanitization (Part 3)\n",
    "\n",
    "You should have discovered that Step 8 provided a sanitization function that didn't work.\n",
    "\n",
    "<u>The developers of the website changed how their blogs are processed.</u> In order for the URL to open blog posts, ```posts/``` is no longer required in the ```file``` parameter. Here is an example of how a blog post can be read from the URL:\n",
    "\n",
    "<center style=\"color: blue; font-family:monospace; margin-bottom: 15px;\">https://www.mywebsite.com/blog.php?file=4183</center>\n",
    "\n",
    "The file is still being read from ```/var/www/html/posts/```. The ```posts/``` portion of the URL was removed so that the next sanitization function will work.\n",
    "\n",
    "<strong>Here is the new sanitization function</strong>: If a ```/``` appears in the pathname within ```file=XXXX```, remove it. The parent directory, ```..```, is acceptable, <strong>and is required for this step</strong>.\n",
    "\n",
    "Your task is to break this sanitization function.\n",
    "\n",
    "<span style=\"color: green\"><strong><img src=\"resources/idea.png\" style=\"width: 12px\"> Tip:</strong></span> There is still a way that unsafe characters can be processed within the URL. Take a look at <a href=\"https://www.degraeve.com/reference/urlencoding.php\">this documentation</a> for a clue."
   ]
  },
  {
   "cell_type": "code",
   "execution_count": 11,
   "metadata": {
    "deletable": false,
    "editable": false,
    "jupyter": {
     "source_hidden": true
    },
    "slideshow": {
     "slide_type": ""
    },
    "tags": []
   },
   "outputs": [
    {
     "data": {
      "application/vnd.jupyter.widget-view+json": {
       "model_id": "2bd1dfd08cd641fea5a379ac7c8ab2fe",
       "version_major": 2,
       "version_minor": 0
      },
      "text/plain": [
       "Output()"
      ]
     },
     "metadata": {},
     "output_type": "display_data"
    },
    {
     "data": {
      "text/html": [
       "\n",
       "<style>\n",
       ".custom-textarea .widget-label {\n",
       "    white-space: normal !important;\n",
       "    max-width: 600px !important;\n",
       "    font-family: monospace;\n",
       "    color: blue;\n",
       "}\n",
       ".custom-textarea .widget-text {\n",
       "    width: 600px !important;\n",
       "    font-family: monospace;\n",
       "    color: blue;\n",
       "}\n",
       "</style>\n"
      ],
      "text/plain": [
       "<IPython.core.display.HTML object>"
      ]
     },
     "metadata": {},
     "output_type": "display_data"
    },
    {
     "data": {
      "application/vnd.jupyter.widget-view+json": {
       "model_id": "976629ca3a1e4df8958bc9bb62861a33",
       "version_major": 2,
       "version_minor": 0
      },
      "text/plain": [
       "Text(value='', description='https://www.mywebsite.com/blog.php?file=', layout=Layout(width='600px'), placehold…"
      ]
     },
     "metadata": {},
     "output_type": "display_data"
    },
    {
     "data": {
      "application/vnd.jupyter.widget-view+json": {
       "model_id": "2a595cd7d62645a69d91efa0c1dd1898",
       "version_major": 2,
       "version_minor": 0
      },
      "text/plain": [
       "Button(description='Check Path', style=ButtonStyle())"
      ]
     },
     "metadata": {},
     "output_type": "display_data"
    },
    {
     "data": {
      "application/vnd.jupyter.widget-view+json": {
       "model_id": "038c994fe84b4ac1925aaf7c2d04040c",
       "version_major": 2,
       "version_minor": 0
      },
      "text/plain": [
       "Output()"
      ]
     },
     "metadata": {},
     "output_type": "display_data"
    }
   ],
   "source": [
    "# Click the button below to check your work.\n",
    "step9Complete = False\n",
    "\n",
    "# Function to save the short answer.\n",
    "def step_9():\n",
    "    # Important variables that must be accessed outside of this function.\n",
    "    global step9Complete, result\n",
    "\n",
    "    # Loading, in case saving is slow.\n",
    "    with output9:\n",
    "        output9.clear_output()\n",
    "        display(HTML(\"<span><img width='12px' height='12px' style='margin-left: 3px;' src='resources/loading.gif'></span>\"))\n",
    "\n",
    "    if (userInput9.value == \"\"):\n",
    "        output9.clear_output()\n",
    "        with output9:\n",
    "            display(HTML(\"<span style='color: red;'>You did not type a response.</span>\"))\n",
    "            step9Complete = False\n",
    "\n",
    "    else:\n",
    "        user_input_quoted = (userInput9.value).strip()\n",
    "\n",
    "        # Construct the SSH command for testing the student's response.\n",
    "        test_response = f\"\"\"ssh -i /home/USERNAME_GOES_HERE/.ssh/merge_key USERNAME_GOES_HERE@pathname \"/home/.checker/section_2.py 9 '{user_input_quoted}'\" \"\"\"\n",
    "        result = subprocess.run(test_response, shell=True, stdout=subprocess.PIPE, stderr=subprocess.PIPE)\n",
    "        \n",
    "        # Construct the SSH command for saving the student's response.\n",
    "        save_command = f\"\"\"ssh -i /home/USERNAME_GOES_HERE/.ssh/merge_key USERNAME_GOES_HERE@pathname \"echo '{user_input_quoted}' > /home/.checker/responses/step_9_answer.txt\" \"\"\"\n",
    "        save_result = subprocess.run(save_command, shell=True, stdout=subprocess.PIPE, stderr=subprocess.PIPE)\n",
    "        \n",
    "        if (result.returncode == 0):\n",
    "            output9.clear_output()\n",
    "            with output9:\n",
    "                display(HTML(\"<span style='color: green;'>Your response is correct.</span>\"))\n",
    "                step9Complete = True\n",
    "    \n",
    "        elif (result.returncode == 1):\n",
    "            output9.clear_output()\n",
    "            with output9:\n",
    "                display(HTML(\"<span style='color: red;'>Your response is incorrect.</span>\"))\n",
    "                step9Complete = False\n",
    "\n",
    "def check_step_9(b):\n",
    "    if (warn_student()):\n",
    "        output9.clear_output()\n",
    "        with output9:\n",
    "            display(HTML(\"<span style='color: red;'><strong>WARNING:</strong> You have an autosaved lab that you have not yet loaded. If you would like to load your progress, click \\\"Load Lab\\\" at the top of the notebook. Otherwise, clicking on this button again will assume you're restarting the lab!</span>\"))\n",
    "    else:\n",
    "        step_9()\n",
    "\n",
    "        # Auto-save.\n",
    "        if (not runAllSteps):\n",
    "            trigger_save(\"9\", result.returncode, userInput9.value)\n",
    "\n",
    "# Retrieve the student's response. First, create a loading spinner, since this could take a second or two.\n",
    "loading9 = widgets.Output()\n",
    "display(loading9)\n",
    "with loading9:\n",
    "    loading9.clear_output()\n",
    "    display(HTML(\"<span>Loading your saved response... <img width='12px' height='12px' style='margin-left: 3px;' src='resources/loading.gif'></span>\"))\n",
    "\n",
    "# Custom CSS for styling\n",
    "custom_css = \"\"\"\n",
    "<style>\n",
    ".custom-textarea .widget-label {\n",
    "    white-space: normal !important;\n",
    "    max-width: 600px !important;\n",
    "    font-family: monospace;\n",
    "    color: blue;\n",
    "}\n",
    ".custom-textarea .widget-text {\n",
    "    width: 600px !important;\n",
    "    font-family: monospace;\n",
    "    color: blue;\n",
    "}\n",
    "</style>\n",
    "\"\"\"\n",
    "\n",
    "# Inject custom CSS\n",
    "display(HTML(custom_css))\n",
    "\n",
    "# Creating a text area with custom styling\n",
    "userInput9 = widgets.Text(\n",
    "    placeholder='Your Payload Here',\n",
    "    description='https://www.mywebsite.com/blog.php?file=',\n",
    "    layout=widgets.Layout(width='600px'),\n",
    "    style={'description_width': 'initial'}\n",
    ")\n",
    "\n",
    "# Apply custom class to the text input widget\n",
    "userInput9.add_class('custom-textarea')\n",
    "\n",
    "# Checking if the step has been answered\n",
    "result = subprocess.run('ssh -o StrictHostKeyChecking=no -i /home/USERNAME_GOES_HERE/.ssh/merge_key USERNAME_GOES_HERE@pathname \"cat /home/.checker/responses/step_9_answer.txt 2> /dev/null\"', capture_output=True, text=True, shell=True)\n",
    "userInput9.value = result.stdout\n",
    "\n",
    "# Creating the button\n",
    "button = widgets.Button(description=\"Check Path\")\n",
    "\n",
    "# After the student's response was loaded, clear the output.\n",
    "loading9.clear_output()\n",
    "\n",
    "# Creating an output area\n",
    "output9 = widgets.Output()\n",
    "\n",
    "# Attach the function to button click event\n",
    "button.on_click(check_step_9)\n",
    "\n",
    "# Display the widgets\n",
    "display(userInput9, button, output9)"
   ]
  },
  {
   "cell_type": "markdown",
   "metadata": {
    "deletable": false,
    "editable": false,
    "slideshow": {
     "slide_type": ""
    },
    "tags": []
   },
   "source": [
    "### Step 10: Path Canonicalization\n",
    "\n",
    "In order to properly detect traversal attacks, the idea of \"canonicalizing\" a path is introduced. Another term for this is called the \"shortest absolute path\". When a path is canonicalized, it returns the shortest possible branch from the top of the file hierarchy.\n",
    "\n",
    "Here are some examples:\n",
    "\n",
    "- ```canonical( /var/www/html/../../www/html )``` returns ```/var/www/html```. The final location that the URL returns is ```html```. Therefore, the shortest path to this directory from ```/``` is ```/var/www/html```.\n",
    "- ```canonical( /home/USERNAME_GOES_HERE/../../var/www/html )``` returns ```/var/www/html```, for the same reason above.\n",
    "- ```canonical( /home/USERNAME_GOES_HERE/../../etc/shadow/../udev/rules.d/../xattr.conf )``` returns ```/etc/xattr.conf``` because the final file within ```canonical()``` is ```xattr.conf```. The shortest distance from ```/``` to ```xattr.conf``` is ```/etc/xattr.conf```.\n",
    "\n",
    "The ```canonical()``` function is pseudocode. In the prompt below, describe how the developers can fix their pathname attack by using this function."
   ]
  },
  {
   "cell_type": "code",
   "execution_count": 12,
   "metadata": {
    "deletable": false,
    "editable": false,
    "jupyter": {
     "source_hidden": true
    },
    "slideshow": {
     "slide_type": ""
    },
    "tags": []
   },
   "outputs": [
    {
     "data": {
      "application/vnd.jupyter.widget-view+json": {
       "model_id": "7cfd7beacb3e4799b72c8a8ed4deb5b4",
       "version_major": 2,
       "version_minor": 0
      },
      "text/plain": [
       "Output()"
      ]
     },
     "metadata": {},
     "output_type": "display_data"
    },
    {
     "data": {
      "application/vnd.jupyter.widget-view+json": {
       "model_id": "5de6697e0e264339bc68e7e0311ac235",
       "version_major": 2,
       "version_minor": 0
      },
      "text/plain": [
       "Textarea(value='', description='Response:', layout=Layout(height='150px', margin='10px', width='75%'), placeho…"
      ]
     },
     "metadata": {},
     "output_type": "display_data"
    },
    {
     "data": {
      "application/vnd.jupyter.widget-view+json": {
       "model_id": "d3f53286ff2242daa59c7874631c4afb",
       "version_major": 2,
       "version_minor": 0
      },
      "text/plain": [
       "Button(description='Save Response', style=ButtonStyle())"
      ]
     },
     "metadata": {},
     "output_type": "display_data"
    },
    {
     "data": {
      "application/vnd.jupyter.widget-view+json": {
       "model_id": "b1913b297edf4e0d9c8803c6e90d57eb",
       "version_major": 2,
       "version_minor": 0
      },
      "text/plain": [
       "Output()"
      ]
     },
     "metadata": {},
     "output_type": "display_data"
    }
   ],
   "source": [
    "# Click the button below to check your work.\n",
    "step10Complete = False\n",
    "\n",
    "# Function to save the short answer.\n",
    "def step_10():\n",
    "    # Important variables that must be accessed outside of this function.\n",
    "    global step10Complete, result\n",
    "\n",
    "    # Loading, in case saving is slow.\n",
    "    with output10:\n",
    "        output10.clear_output()\n",
    "        display(HTML(\"<span><img width='12px' height='12px' style='margin-left: 3px;' src='resources/loading.gif'></span>\"))\n",
    "\n",
    "    if (userInput10.value == \"\"):\n",
    "        output10.clear_output()\n",
    "        with output10:\n",
    "            display(HTML(\"<span style='color: red;'>You did not type a response.</span>\"))\n",
    "            step10Complete = False\n",
    "\n",
    "    else:\n",
    "        user_input = userInput10.value\n",
    "        escaped_user_input = user_input.replace('\"', '\\\\\"').replace(\"'\", \"'\\\\''\")\n",
    "\n",
    "        # Send the student's response to the Python file.\n",
    "        ssh_command = f'ssh -i /home/USERNAME_GOES_HERE/.ssh/merge_key USERNAME_GOES_HERE@pathname \"echo \\'{escaped_user_input}\\' > /home/.checker/responses/step_10_answer.txt\"'\n",
    "        result = subprocess.run(ssh_command, shell=True)\n",
    "        \n",
    "        if (result.returncode == 0):\n",
    "            output10.clear_output()\n",
    "            with output10:\n",
    "                display(HTML(\"<span style='color: red;'>There was an error saving your response.</span>\"))\n",
    "                step10Complete = False\n",
    "    \n",
    "        elif (result.returncode == 1):\n",
    "            output10.clear_output()\n",
    "            with output10:\n",
    "                display(HTML(\"<span style='color: green;'>Your response was saved.</span>\"))\n",
    "                step10Complete = True\n",
    "\n",
    "def check_step_10(b):\n",
    "    if (warn_student()):\n",
    "        output10.clear_output()\n",
    "        with output10:\n",
    "            display(HTML(\"<span style='color: red;'><strong>WARNING:</strong> You have an autosaved lab that you have not yet loaded. If you would like to load your progress, click \\\"Load Lab\\\" at the top of the notebook. Otherwise, clicking on this button again will assume you're restarting the lab!</span>\"))\n",
    "    else:\n",
    "        step_10()\n",
    "\n",
    "        # Auto-save.\n",
    "        if (not runAllSteps):\n",
    "            trigger_save(\"10\", result.returncode, userInput10.value)\n",
    "\n",
    "# Retrieve the student's response. First, create a loading spinner, since this could take a second or two.\n",
    "loading10 = widgets.Output()\n",
    "display(loading10)\n",
    "with loading10:\n",
    "    loading10.clear_output()\n",
    "    display(HTML(\"<span>Loading your saved response... <img width='12px' height='12px' style='margin-left: 3px;' src='resources/loading.gif'></span>\"))\n",
    "\n",
    "# Creating a text area. We will need to assign output of process to the value of this input.\n",
    "userInput10 = widgets.Textarea(\n",
    "    placeholder='Type your response here',\n",
    "    description='Response:',\n",
    "    layout=widgets.Layout(width='75%', height='150px', margin='10px')\n",
    ")\n",
    "\n",
    "# Checking if the step has been answered.\n",
    "result = subprocess.run('ssh -o StrictHostKeyChecking=no -i /home/USERNAME_GOES_HERE/.ssh/merge_key USERNAME_GOES_HERE@pathname \"cat /home/.checker/responses/step_10_answer.txt 2> /dev/null\"', capture_output=True, text=True, shell=True)\n",
    "# Output creates a newline. Remove it.\n",
    "userInput10.value = result.stdout[:-1]\n",
    "\n",
    "# After the student's response was loaded, clear the output.\n",
    "loading10.clear_output()\n",
    "\n",
    "# Creating the feedback output area.\n",
    "output10 = widgets.Output()\n",
    "\n",
    "# Creating the button.\n",
    "button = widgets.Button(description=\"Save Response\")\n",
    "\n",
    "# Run the command on click.\n",
    "button.on_click(check_step_10)\n",
    "\n",
    "# Display the output.\n",
    "display(userInput10, button, output10)"
   ]
  },
  {
   "cell_type": "markdown",
   "metadata": {
    "deletable": false,
    "editable": false,
    "slideshow": {
     "slide_type": ""
    },
    "tags": []
   },
   "source": [
    "## <strong>Topic 3: Performing a Pathname Attack</strong>\n",
    "\n",
    "With your knowledge on pathname canonicalization, your final goal for this lab is to break your memo website with a pathname attack.\n",
    "\n",
    "The reason why Topic 1 was so focused on how development in Flask works is so that it will be easier to understand how information is being passed from the URL to your Python file. Since you have worked a little bit in Flask, you should be able to analyze a critical part of how memos are viewed: The decorator uses a <strong>path</strong> as input."
   ]
  },
  {
   "cell_type": "markdown",
   "metadata": {
    "deletable": false,
    "editable": false,
    "slideshow": {
     "slide_type": ""
    },
    "tags": []
   },
   "source": [
    "### Step 11: Retrieve ```/etc/passwd``` From Your Website\n",
    "\n",
    "Your website was written in Python, and not in PHP like the previous topic used for demonstrating pathname attacks. This means that <strong>your website does not accept URL parameters</strong>. This means you cannot access a memo by doing: ```localhost:5000/memo.php?id=1234```. Instead, your website is using a direct path to access memos on the website. You will need to think creatively with how a pathname attack can be sent to this Python decorator: ```@app.route('/memo/<path:memo_id>')```\n",
    "\n",
    "Your website reads files like this: ```127.0.0.1:5000/memo/1```, which reads Memo 1 from your ```memos/``` directory. \n",
    "\n",
    "<strong>There's a slight issue</strong>: Your browser interprets ```../``` before it's sent to the server. This means that calling:\n",
    "\n",
    "<center style=\"color: blue; font-family:monospace; margin-bottom: 15px;\">http://127.0.0.1:5000/memo/../../../../../etc/passwd</center>\n",
    "\n",
    "Returns you to this URL:\n",
    "\n",
    "<center style=\"color: blue; font-family:monospace; margin-bottom: 15px;\">http://127.0.0.1:5000/etc/passwd</center>\n",
    "\n",
    "However, your website <u>returns files that are local to the web server</u>, meaning it's attempting to access ```/lab/etc/passwd```, which doesn't exist.\n",
    "\n",
    "<strong>Your task</strong>: Discover a way to print ```/etc/passwd``` through the memo website that you worked on. Once you have a payload, copy/paste the <strong>payload</strong> that shows the content of ```/etc/passwd``` into the field below. <u>Do not include a URL.</u> Here is an example of the payload that you will need to copy:\n",
    "\n",
    "<center style=\"color: blue; font-family:monospace; margin-bottom: 15px;\">http://127.0.0.1:5000/memo/<u>your_payload_here</u></center>"
   ]
  },
  {
   "cell_type": "code",
   "execution_count": 13,
   "metadata": {
    "deletable": false,
    "editable": false,
    "jupyter": {
     "source_hidden": true
    },
    "slideshow": {
     "slide_type": ""
    },
    "tags": []
   },
   "outputs": [
    {
     "data": {
      "application/vnd.jupyter.widget-view+json": {
       "model_id": "61933864ade7440faef45cf24ddfbb67",
       "version_major": 2,
       "version_minor": 0
      },
      "text/plain": [
       "Output()"
      ]
     },
     "metadata": {},
     "output_type": "display_data"
    },
    {
     "data": {
      "application/vnd.jupyter.widget-view+json": {
       "model_id": "b0ca781ed1444c4699ae6012d2f9e8fc",
       "version_major": 2,
       "version_minor": 0
      },
      "text/plain": [
       "Text(value='', description='Payload:', layout=Layout(width='90%'), placeholder='Type your payload here')"
      ]
     },
     "metadata": {},
     "output_type": "display_data"
    },
    {
     "data": {
      "application/vnd.jupyter.widget-view+json": {
       "model_id": "9ddfdea3c2204a5c8c2533703fdccc2f",
       "version_major": 2,
       "version_minor": 0
      },
      "text/plain": [
       "Button(description='Test Payload', style=ButtonStyle())"
      ]
     },
     "metadata": {},
     "output_type": "display_data"
    },
    {
     "data": {
      "application/vnd.jupyter.widget-view+json": {
       "model_id": "d0aa01ac7b1e41d79493b6e3b49d31de",
       "version_major": 2,
       "version_minor": 0
      },
      "text/plain": [
       "Output()"
      ]
     },
     "metadata": {},
     "output_type": "display_data"
    }
   ],
   "source": [
    "# Click the button below to check your work.\n",
    "step11Complete = False\n",
    "\n",
    "# Function to check if the student's answer was correct.\n",
    "def step_11():\n",
    "    # Important variables that must be accessed outside of this function.\n",
    "    global step11Complete, result\n",
    "\n",
    "    # Loading, in case the check is slow.\n",
    "    with output11:\n",
    "        output11.clear_output()\n",
    "        display(HTML(\"<span><img width='14px' height='14px' style='margin-left: 3px;' src='resources/loading.gif'></span>\"))\n",
    "\n",
    "    # First, check to see if the field is empty.\n",
    "    if (userInput11.value == \"\"):\n",
    "        output11.clear_output()\n",
    "        with output11:\n",
    "            display(HTML(\"<span style='color: red;'>You did not provide input for this step.</span>\"))\n",
    "            step11Complete = False\n",
    "\n",
    "    else:\n",
    "        # Escape single quotes by replacing them with '\\''.\n",
    "        escaped_user_input = re.sub(r\"(\\\"|\\')\", r\"'\\''\", userInput11.value.strip())\n",
    "       \n",
    "        # Construct the SSH command for testing the SQL query.\n",
    "        test_command = f\"\"\"ssh -i /home/USERNAME_GOES_HERE/.ssh/merge_key USERNAME_GOES_HERE@pathname \"/home/.checker/section_3.py 11 '{escaped_user_input}'\" \"\"\"\n",
    "        result = subprocess.run(test_command, shell=True, text=True, capture_output=True)\n",
    "       \n",
    "        # Construct the SSH command for saving the student's response.\n",
    "        save_command = f\"\"\"ssh -i /home/USERNAME_GOES_HERE/.ssh/merge_key USERNAME_GOES_HERE@pathname \"echo '{escaped_user_input}' > /home/.checker/responses/step_11_answer.txt\" \"\"\"\n",
    "        save_result = subprocess.run(save_command, shell=True, stdout=subprocess.PIPE, stderr=subprocess.PIPE)\n",
    "       \n",
    "        if (result.returncode == 0):\n",
    "            output11.clear_output()\n",
    "            with output11:\n",
    "                # Now, if the return code was 1, it returned the correct response. Print the HTML of the response:\n",
    "                display(HTML(\"<span style='color: green;'>Your payload worked! Here is the output from your payload.</span>\"))\n",
    "                display(HTML(result.stdout))\n",
    "                display(HTML(\"<hr>\"))\n",
    "                step11Complete = True\n",
    "                \n",
    "        elif (result.returncode == 1):\n",
    "            output11.clear_output()\n",
    "            with output11:\n",
    "                display(HTML(\"<span style='color: red;'>Your payload did not show the contents of /etc/passwd. The result is displayed below.</span>\"))\n",
    "                display(HTML(result.stdout))\n",
    "                display(HTML(\"<hr>\"))\n",
    "                step11Complete = False\n",
    "\n",
    "        elif (result.returncode == 2):\n",
    "            output11.clear_output()\n",
    "            with output11:\n",
    "                display(HTML(\"<span style='color: red;'>There was an error with the script. Please contact your professor or TA.</span>\"))\n",
    "                step11Complete = False\n",
    "\n",
    "        elif (result.returncode == 3):\n",
    "            output11.clear_output()\n",
    "            with output11:\n",
    "                display(HTML(\"<span style='color: red;'>There was no \\\"etc\\\" or \\\"passwd\\\" detected in your payload. This is required to display the target file for the step.</span>\"))\n",
    "                step11Complete = False\n",
    "       \n",
    "def check_step_11(b):\n",
    "    if (warn_student()):\n",
    "        output11.clear_output()\n",
    "        with output11:\n",
    "            display(HTML(\"<span style='color: red;'><strong>WARNING:</strong> You have an autosaved lab that you have not yet loaded. If you would like to load your progress, click \\\"Load Lab\\\" at the top of the notebook. Otherwise, clicking on this button again will assume you're restarting the lab!</span>\"))\n",
    "    else:\n",
    "        step_11()\n",
    "\n",
    "        # Auto-save.\n",
    "        if (not runAllSteps):\n",
    "            trigger_save(\"11\", result.returncode, userInput11.value)\n",
    "\n",
    "# Retrieve the student's response. First, create a loading spinner, since this could take a second or two.\n",
    "loading11 = widgets.Output()\n",
    "display(loading11)\n",
    "with loading11:\n",
    "    loading11.clear_output()\n",
    "    display(HTML(\"<span>Loading your saved response... <img width='14px' height='14px' style='margin-left: 3px;' src='resources/loading.gif'></span>\"))\n",
    "\n",
    "# Creating a text area.\n",
    "userInput11 = widgets.Text(\n",
    "    placeholder='Type your payload here',\n",
    "    description='Payload:',\n",
    "    layout=widgets.Layout(width='90%')\n",
    ")\n",
    "\n",
    "# Checking if the step has been answered.\n",
    "result = subprocess.run('ssh -o StrictHostKeyChecking=no -i /home/USERNAME_GOES_HERE/.ssh/merge_key USERNAME_GOES_HERE@pathname \"cat /home/.checker/responses/step_11_answer.txt 2> /dev/null\"', capture_output=True, text=True, shell=True)\n",
    "userInput11.value = result.stdout\n",
    "\n",
    "# After the student's response was loaded, clear the output.\n",
    "loading11.clear_output()\n",
    "\n",
    "# Creating the button.\n",
    "button = widgets.Button(description=\"Test Payload\")\n",
    "\n",
    "# Creating an output area.\n",
    "output11 = widgets.Output()\n",
    "\n",
    "# Run the command on click.\n",
    "button.on_click(check_step_11)\n",
    "\n",
    "# Display the output.\n",
    "display(userInput11, button, output11)"
   ]
  },
  {
   "cell_type": "markdown",
   "metadata": {
    "deletable": false,
    "editable": false,
    "slideshow": {
     "slide_type": ""
    },
    "tags": []
   },
   "source": [
    "### Step 12: Fixing the Vulnerability\n",
    "\n",
    "You found the vulnerability on the website, and there are several different ways to fix it. For this activity, your goal for fixing the vulnerability is to focus on pathname canonicalization.\n",
    "\n",
    "Not all languages have a built-in ```canonical()``` function. Fortunately, Python does, which is ```os.path.realpath()```. You may read about it from the documentation <a href=\"https://docs.python.org/3/library/os.path.html#os.path.realpath\">here</a>.\n",
    "\n",
    "In this step, <u>you cannot delete or change any of the existing code inside of ```view_memo()```</u>. Using ```os.path.realpath()```, check to see if the memo's path <u>starts</u> with the directory where the memos are stored. Otherwise, redirect the user back to ```index.html```.\n",
    "\n",
    "Your solution is required to be typed within this code block in ```view_memo()```:\n",
    "\n",
    "```\n",
    "### Step 12 Solution START ###\n",
    "\n",
    "\n",
    "\n",
    "### Step 12 Solution END ###\n",
    "```\n",
    "\n",
    "<strong>Writing code anywhere outside of this comment block will prevent you from passing this step. Do not delete the comments surrounding your answer.</strong> \n",
    "\n",
    "Python provides some easy-to-understand functions, which you may use for your solution. Here are some suggested functions. They will be required in your solution:\n",
    "- ```os.path.realpath()```\n",
    "- ```.startswith()```"
   ]
  },
  {
   "cell_type": "code",
   "execution_count": 14,
   "metadata": {
    "deletable": false,
    "editable": false,
    "jupyter": {
     "source_hidden": true
    },
    "slideshow": {
     "slide_type": ""
    },
    "tags": []
   },
   "outputs": [
    {
     "data": {
      "application/vnd.jupyter.widget-view+json": {
       "model_id": "316618f9f8814e74aea0575b428ab4a2",
       "version_major": 2,
       "version_minor": 0
      },
      "text/plain": [
       "Button(description='Check Fix', style=ButtonStyle())"
      ]
     },
     "metadata": {},
     "output_type": "display_data"
    },
    {
     "data": {
      "application/vnd.jupyter.widget-view+json": {
       "model_id": "9935a71ecbd2410685f10aa33740992d",
       "version_major": 2,
       "version_minor": 0
      },
      "text/plain": [
       "Output()"
      ]
     },
     "metadata": {},
     "output_type": "display_data"
    }
   ],
   "source": [
    "# Click the button below to check your work.\n",
    "step12Complete = False\n",
    "\n",
    "# Function to check the permissions.\n",
    "def step_12():\n",
    "    # Important variables that must be accessed outside of this function.\n",
    "    global step12Complete, result\n",
    "\n",
    "    with output12:\n",
    "        output12.clear_output()\n",
    "        display(HTML(\"<span><img width='14px' height='14px' style='margin-left: 3px;' src='resources/loading.gif'></span>\"))\n",
    "    \n",
    "    # This subprocess statement is a little different. Need to initiate environment variables at the same time when running the command.\n",
    "    result = subprocess.run('ssh -o StrictHostKeyChecking=no -i /home/USERNAME_GOES_HERE/.ssh/merge_key USERNAME_GOES_HERE@pathname /home/.checker/section_3.py 12 NA', shell=True, capture_output=True, text=True)\n",
    "\n",
    "    if (result.returncode == 0):\n",
    "        output12.clear_output()\n",
    "        with output12:\n",
    "            display(HTML(\"<span style='color: green;'>Success! Your payload no longer displays /etc/passwd. It redirects back to the home page.</span>\"))\n",
    "            step12Complete = True\n",
    "\n",
    "    elif (result.returncode == 1):\n",
    "        output12.clear_output()\n",
    "        with output12:\n",
    "            display(HTML(\"<span style='color: red;'>Your payload appears to be mostly patched, but it does not redirect to the home page.</span>\"))\n",
    "            step12Complete = False\n",
    "\n",
    "    elif (result.returncode == 3):\n",
    "        output12.clear_output()\n",
    "        with output12:\n",
    "            display(HTML(\"<span style='color: red;'>A new user-defined function was detected within your memo.py file. Please remove it.</span>\"))\n",
    "            step12Complete = False\n",
    "\n",
    "    elif (result.returncode == 4):\n",
    "        output12.clear_output()\n",
    "        with output12:\n",
    "            display(HTML(\"<span style='color: red;'>There is code written outside of the designated solution block. You are only allowed to type your answer within the provided block.</span>\"))\n",
    "            step12Complete = False\n",
    "\n",
    "    elif (result.returncode == 5):\n",
    "        output12.clear_output()\n",
    "        with output12:\n",
    "            display(HTML(\"<span style='color: red;'>os.path.realpath wasn't found in your solution. This is required in your code block. It cannot be commented out.</span>\"))\n",
    "            step12Complete = False\n",
    "\n",
    "    elif (result.returncode == 6):\n",
    "        output12.clear_output()\n",
    "        with output12:\n",
    "            display(HTML(\"<span style='color: red;'>You do not have an answer for the previous step. You must complete the previous step before doing this step. You will need to revert your changes made to the file before the vulnerability works.</span>\"))\n",
    "            step12Complete = False\n",
    "\n",
    "    elif (result.returncode == 7):\n",
    "        output12.clear_output()\n",
    "        with output12:\n",
    "            display(HTML(\"<span style='color: red;'>A test memo was created, and accessing it redirected the script to the index page. Your patch should only redirect anything accessed outside of memos/.</span>\"))\n",
    "            step12Complete = False\n",
    "\n",
    "    elif (result.returncode == 2):\n",
    "        output12.clear_output()\n",
    "        with output12:\n",
    "            display(HTML(\"<span style='color: red;'>There was an error while checking this step. Please contact your professor or TA.</span>\"))\n",
    "            step12Complete = False\n",
    "    \n",
    "def check_step_12(b):\n",
    "    if (warn_student()):\n",
    "        output12.clear_output()\n",
    "        with output12:\n",
    "            display(HTML(\"<span style='color: red;'><strong>WARNING:</strong> You have an autosaved lab that you have not yet loaded. If you would like to load your progress, click \\\"Load Lab\\\" at the top of the notebook. Otherwise, clicking on this button again will assume you're restarting the lab!</span>\"))\n",
    "    else:\n",
    "        step_12()\n",
    "\n",
    "        # Auto-save.\n",
    "        if (not runAllSteps):\n",
    "            trigger_save(\"12\", result.returncode)\n",
    "\n",
    "# Creating the button.\n",
    "button = widgets.Button(description=\"Check Fix\")\n",
    "\n",
    "# Creating an output area.\n",
    "output12 = widgets.Output()\n",
    "\n",
    "# Run the command on click.\n",
    "button.on_click(check_step_12)\n",
    "\n",
    "# Display the output.\n",
    "display(button, output12)"
   ]
  },
  {
   "cell_type": "markdown",
   "metadata": {
    "deletable": false,
    "editable": false,
    "slideshow": {
     "slide_type": ""
    },
    "tags": []
   },
   "source": [
    "## <strong>Grading</strong>\n",
    "\n",
    "To check your overall grade, click on the button below."
   ]
  },
  {
   "cell_type": "code",
   "execution_count": 15,
   "metadata": {
    "deletable": false,
    "editable": false,
    "jupyter": {
     "source_hidden": true
    },
    "slideshow": {
     "slide_type": ""
    },
    "tags": []
   },
   "outputs": [
    {
     "data": {
      "application/vnd.jupyter.widget-view+json": {
       "model_id": "92b2632fee3b42a1804fc57c503eef19",
       "version_major": 2,
       "version_minor": 0
      },
      "text/plain": [
       "Button(description='Calculate Grade', style=ButtonStyle())"
      ]
     },
     "metadata": {},
     "output_type": "display_data"
    },
    {
     "data": {
      "application/vnd.jupyter.widget-view+json": {
       "model_id": "b3adb47d8d7c4b09b016f36b45339a5e",
       "version_major": 2,
       "version_minor": 0
      },
      "text/plain": [
       "Output()"
      ]
     },
     "metadata": {},
     "output_type": "display_data"
    }
   ],
   "source": [
    "# Click the button below to check your overall grade.\n",
    "steps_to_check = [step_2, step_3, step_4, step_5, step_6, step_7, step_8, step_9, step_10, step_11, step_12]   \n",
    "\n",
    "# Function to calculate grade after refreshing the cell\n",
    "def calculate_grade(b):\n",
    "    # To not auto-save at each step.\n",
    "    global runAllSteps\n",
    "    runAllSteps = True\n",
    "\n",
    "    with gradeOutput:\n",
    "        gradeOutput.clear_output()\n",
    "        display(HTML(\"<span>Testing all steps. Please wait.</span> \\\n",
    "            <span><img width='12px' height='12px' style='margin-left: 3px;' src='resources/loading.gif'></span>\"))\n",
    "    \n",
    "    # Required for checking the boolean values.\n",
    "    for func in steps_to_check:\n",
    "        func()  # Call each function in order.\n",
    "\n",
    "    # Assuming steps are updated above this cell in some way\n",
    "    steps = [step2Complete, step3Complete, step4Complete, step5Complete, step6Complete, step7Complete, step8Complete, step9Complete, step10Complete, step11Complete, step12Complete]\n",
    "    output = \"<div style='color: orange;'>Step 1 is not graded.</div>\"\n",
    "    stepsCorrect = 1\n",
    "    numOfSteps = len(steps)\n",
    "\n",
    "    for i in range(numOfSteps):\n",
    "        if steps[i]:\n",
    "            stepsCorrect += 1\n",
    "            output += \"<div style='color: green;'>Step \" + str(i + 2) + \" is complete.</div>\"\n",
    "        else:\n",
    "            output += \"<div style='color: red;'>Step \" + str(i + 2) + \" is incomplete.</div>\"\n",
    "\n",
    "    output += \"<div style='color: black;'>You have \" + str(stepsCorrect) + \" out of \" + str(numOfSteps + 1) + \" steps completed.</div>\"\n",
    "\n",
    "    with gradeOutput:\n",
    "        gradeOutput.clear_output()\n",
    "        display(HTML(output))\n",
    "\n",
    "    # Allows the individual steps to be auto-graded again.\n",
    "    runAllSteps = False\n",
    "\n",
    "# Create a button to refresh the cell and another to calculate grade.\n",
    "grade_button = widgets.Button(description=\"Calculate Grade\")\n",
    "\n",
    "# Link buttons to functions.\n",
    "grade_button.on_click(calculate_grade)\n",
    "\n",
    "# Output area.\n",
    "gradeOutput = widgets.Output()\n",
    "\n",
    "# Display the buttons and output.\n",
    "display(grade_button, gradeOutput)"
   ]
  },
  {
   "cell_type": "markdown",
   "metadata": {
    "deletable": false,
    "editable": false,
    "slideshow": {
     "slide_type": ""
    },
    "tags": []
   },
   "source": [
    "### Stopping the Lab\n",
    "\n",
    "Once you are done with the lab, click on the \"Stop Lab\" button below. <strong>This will delete your materialization, which will delete all of the lab's resources.</strong> Your progress is saved automatically in ```saves/``` within the sidebar of your XDC. You may load this lab in the future by clicking \"Load Lab\" at the top."
   ]
  },
  {
   "cell_type": "code",
   "execution_count": 16,
   "metadata": {
    "deletable": false,
    "editable": false,
    "jupyter": {
     "source_hidden": true
    },
    "slideshow": {
     "slide_type": ""
    },
    "tags": []
   },
   "outputs": [
    {
     "data": {
      "application/vnd.jupyter.widget-view+json": {
       "model_id": "3db95795c9604981b69e48b7adc26f5c",
       "version_major": 2,
       "version_minor": 0
      },
      "text/plain": [
       "Checkbox(value=False, description='Confirm', indent=False)"
      ]
     },
     "metadata": {},
     "output_type": "display_data"
    },
    {
     "data": {
      "application/vnd.jupyter.widget-view+json": {
       "model_id": "5605e6b59bd242eb8c55202da70f95e6",
       "version_major": 2,
       "version_minor": 0
      },
      "text/plain": [
       "Button(description='Stop Lab', style=ButtonStyle())"
      ]
     },
     "metadata": {},
     "output_type": "display_data"
    },
    {
     "data": {
      "application/vnd.jupyter.widget-view+json": {
       "model_id": "dbeca1f549a44a46bcc74956499082d2",
       "version_major": 2,
       "version_minor": 0
      },
      "text/plain": [
       "Output()"
      ]
     },
     "metadata": {},
     "output_type": "display_data"
    }
   ],
   "source": [
    "# Click the button below to stop the experiment.\n",
    "def stoplab(button):\n",
    "    # Check to make sure that the student wants to confirm ending the lab.\n",
    "    if (confirm.value == False):\n",
    "        with stop_output:\n",
    "            stop_output.clear_output()\n",
    "            display(HTML(\"<newline><span style='color: red;'>Please confirm that you wish to end the lab.</span>\"))\n",
    "\n",
    "    else:\n",
    "        # Defining the lab name.\n",
    "        labname = \"pathname\"\n",
    "    \n",
    "        # Writing the information to an empty field below the button.\n",
    "        with stop_output:\n",
    "            stop_output.clear_output()\n",
    "            \n",
    "            display(HTML(\"<span>Stopping the \" + labname + \" lab. This will take a minute to process. Please wait.</span> \\\n",
    "                <span><img width='12px' height='12px' style='margin-left: 3px;' src='resources/loading.gif'></span>\"))\n",
    "            stopexp = subprocess.run('\"bash /share/stopexp ' + labname + 'jup\"', capture_output=True, text=True, shell=True)\n",
    "            stop_output.clear_output()\n",
    "            display(HTML(\"<span>Done. Result:</span>\"))\n",
    "            print(stopexp.stdout)\n",
    "    \n",
    "            display(HTML(\"<newline><span style='color: green;'><strong>Your lab has been ended.</strong></span>\"))\n",
    "\n",
    "# Creating the button.\n",
    "stopButton = widgets.Button(description=\"Stop Lab\")\n",
    "\n",
    "# Create a confirmation check.\n",
    "confirm = widgets.Checkbox(\n",
    "    value=False,\n",
    "    description='Confirm',\n",
    "    disabled=False,\n",
    "    indent=False\n",
    ")\n",
    "\n",
    "# Creating an output area.\n",
    "stop_output = widgets.Output()\n",
    "\n",
    "# Run the command on click.\n",
    "stopButton.on_click(stoplab)\n",
    "\n",
    "# Display the output.\n",
    "display(confirm, stopButton, stop_output)"
   ]
  }
 ],
 "metadata": {
  "kernelspec": {
   "display_name": "Python 3 (ipykernel)",
   "language": "python",
   "name": "python3"
  },
  "language_info": {
   "codemirror_mode": {
    "name": "ipython",
    "version": 3
   },
   "file_extension": ".py",
   "mimetype": "text/x-python",
   "name": "python",
   "nbconvert_exporter": "python",
   "pygments_lexer": "ipython3",
   "version": "3.12.7"
  }
 },
 "nbformat": 4,
 "nbformat_minor": 4
}
