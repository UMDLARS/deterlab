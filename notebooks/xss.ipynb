{
 "cells": [
  {
   "cell_type": "markdown",
   "metadata": {
    "deletable": false,
    "editable": false,
    "slideshow": {
     "slide_type": ""
    },
    "tags": []
   },
   "source": [
    "# <strong>Cross-Site Scripting (XSS)</strong>\n",
    "\n",
    "Cross-Site Scripting (XSS) is an injection attack where hackers deliver a JavaScript payload to execute malicious code whenever someone visits a website. These types of attacks are common on websites that have message boards or comments. There are three types of XSS attacks.\n",
    "\n",
    "<figure><center><img src=\"resources/xss/xss_example.jpg\" style=\"width: 75%; height: 75%;\"></img></center><em><figcaption>Credit: <a href=\"https://spanning.com/blog/cross-site-scripting-web-based-application-security-part-3/\">Spanning</a></figcaption></em></figure>\n",
    "\n",
    "<strong>Reflected XSS</strong> is where JavaScript is injected through an HTTP request. A website that uses CGI (Common Gateway Interface) retrieves parameters through the address bar of a browser. A reflected XSS attack injects HTML or JavaScript into an HTTP request, then tampers with the page that gets rendered to you.\n",
    "\n",
    "Here is an example from <a href=\"https://portswigger.net/web-security/cross-site-scripting\">PortSwigger</a>: \n",
    "\n",
    "```https://insecure-website.com/status?message=<script>/*+Bad+stuff+here...+*/</script>```\n",
    "\n",
    "When the site is accessed, it will render: ```<p>Status: <script>/* Bad stuff here... */</script></p>```\n",
    "\n",
    "The ```<script>``` tag will execute any JavaScript code that the hacker wishes to write.\n",
    "\n",
    "<strong>Stored XSS</strong> is an attack where injected JavaScript is stored on a website by an attacker. For this lab, you will be working with stored XSS payloads. When message boards don't sanitize a user's input, a hacker can write an attack containing ```<script>```, which gets executed whenever that webpage is visited by anyone.\n",
    "\n",
    "<strong>DOM-Based XSS</strong> is an attack similar to reflected XSS attacks, but does not utilize HTTP requests when delivering the payload. Rather than using CGI parameters, a DOM-Based attack does not send data to the server, and the attack is entirely client-side. These attacks are difficult to differentiate from reflected XSS attacks. \n",
    "\n",
    "<strong>This lab will contain four topics, and you will learn the following:</strong>\n",
    "\n",
    "1. HTTP Protocols\n",
    "2. Session Hijacking\n",
    "3. PHP Sessions and ```document.cookie```\n",
    "4. A Large-Scale Application of Cross-Site Scripting"
   ]
  },
  {
   "cell_type": "code",
   "execution_count": 1,
   "metadata": {
    "deletable": false,
    "editable": false,
    "jupyter": {
     "source_hidden": true
    },
    "jupyterlab-hide-cells:hidden": true,
    "slideshow": {
     "slide_type": ""
    },
    "tags": []
   },
   "outputs": [],
   "source": [
    "# Setting up the lab.\n",
    "import ipywidgets as widgets\n",
    "from IPython.display import display, HTML, Javascript\n",
    "from IPython.core.magic import register_line_magic\n",
    "import os\n",
    "# For accessing the nodes:\n",
    "import subprocess\n",
    "# For the stopexp command:\n",
    "import re\n",
    "import shlex\n",
    "\n",
    "# These are pre-set so that the first three steps will work properly, as they all\n",
    "# depend on each other. Remaining booleans will be set in the cells.\n",
    "step1Complete = step2Complete = step3Complete = False\n",
    "\n",
    "# When true, it will not auto-save at each step.\n",
    "runAllSteps = False\n",
    "\n",
    "###### Used for saving notebooks. ######\n",
    "import threading\n",
    "# Threading required in case steps are progressed too quickly.\n",
    "save_lock = threading.Lock()\n",
    "\n",
    "# The save function itself.\n",
    "def save_notebook():\n",
    "    with save_lock:\n",
    "        result = subprocess.run('su - USERNAME_GOES_HERE -c \"/project/USERNAME_GOES_HERE/notebooks/resources/save.py xss\"', shell=True, capture_output=True, text=True)\n",
    "\n",
    "# Creating a thread to save the notebook.\n",
    "def trigger_save(question, response, answer=\"\"):\n",
    "    save_thread = threading.Thread(target=save_notebook)\n",
    "    save_thread.start()\n",
    "    \n",
    "    if answer == \"\":\n",
    "        inner_cmd = f\"/home/.education/grader.py X {question} {response}\"\n",
    "    else:\n",
    "        inner_cmd = f\"/home/.education/grader.py X {question} {response} {answer}\"\n",
    "\n",
    "    full_cmd = f\"su - USERNAME_GOES_HERE -c {shlex.quote(inner_cmd)}\"\n",
    "    result = subprocess.run(full_cmd, shell=True, capture_output=True, text=True)\n",
    "\n",
    "###### Used for loading notebooks. ######\n",
    "import queue\n",
    "\n",
    "load_lock = threading.Lock()\n",
    "result_queue = queue.Queue()\n",
    "\n",
    "# This variable is used to warn students if they haven't loaded a save yet.\n",
    "def warn_student():\n",
    "    if (os.path.exists(\"/project/USERNAME_GOES_HERE/notebooks/saves/.xss_warning\")):\n",
    "        os.remove(\"/project/USERNAME_GOES_HERE/notebooks/saves/.xss_warning\")\n",
    "        return True\n",
    "\n",
    "def load_notebook():\n",
    "    with load_lock:\n",
    "        result = subprocess.run('su - USERNAME_GOES_HERE -c \"/project/USERNAME_GOES_HERE/notebooks/resources/load.py xss\"', shell=True, capture_output=True, text=True)\n",
    "        result_queue.put(result)  # Put the result in the queue.\n",
    "\n",
    "# Creating a thread to load the notebook.\n",
    "def trigger_load():\n",
    "    load_thread = threading.Thread(target=load_notebook)\n",
    "    load_thread.start()\n",
    "    load_thread.join()  # Wait for the thread to complete before adding result to the queue.\n",
    "    return result_queue.get()  # Get the result from the queue."
   ]
  },
  {
   "cell_type": "markdown",
   "metadata": {
    "deletable": false,
    "editable": false,
    "slideshow": {
     "slide_type": ""
    },
    "tags": []
   },
   "source": [
    "### Step 0: Starting the Lab\n",
    "\n",
    "Click the button to begin creating the experiment.\n",
    "\n",
    "<strong>Note:</strong> If your buttons are not displaying, click on the <img width='20px' height='20px' style='margin-left: 1px;' src='resources/fast_forward.png'> icon at the top of your notebook to render all widgets."
   ]
  },
  {
   "cell_type": "code",
   "execution_count": 2,
   "metadata": {
    "deletable": false,
    "editable": false,
    "jupyter": {
     "source_hidden": true
    },
    "slideshow": {
     "slide_type": ""
    },
    "tags": []
   },
   "outputs": [
    {
     "data": {
      "application/vnd.jupyter.widget-view+json": {
       "model_id": "b701ec721af4446ba3aa3dd1342285ec",
       "version_major": 2,
       "version_minor": 0
      },
      "text/plain": [
       "Button(description='Start Lab', style=ButtonStyle())"
      ]
     },
     "metadata": {},
     "output_type": "display_data"
    },
    {
     "data": {
      "application/vnd.jupyter.widget-view+json": {
       "model_id": "43d2bd7f6d054cd383f353a1bc0e7495",
       "version_major": 2,
       "version_minor": 0
      },
      "text/plain": [
       "Output()"
      ]
     },
     "metadata": {},
     "output_type": "display_data"
    }
   ],
   "source": [
    "# Click the button below to start the experiment.\n",
    "import time\n",
    "\n",
    "def check_autosave():\n",
    "    # Check if the student has an autosave.\n",
    "    if os.path.exists(\"/project/USERNAME_GOES_HERE/notebooks/saves/USERNAME_GOES_HERE_xss.tar.gz\"):\n",
    "        # Create a hidden file that will serve as a \"boolean\" for later.\n",
    "        subprocess.run(\"touch /project/USERNAME_GOES_HERE/notebooks/saves/.xss_warning\", shell=True)\n",
    "\n",
    "def startlab(button):\n",
    "    # Defining the lab name.\n",
    "    labname = \"xss\"\n",
    "\n",
    "    # Writing the information to an empty field below the button.\n",
    "    with output0:\n",
    "        # Fixes a strange error that happens only occasionally.\n",
    "        os.chdir(\"/project/USERNAME_GOES_HERE/notebooks\")\n",
    "        output0.clear_output()\n",
    "\n",
    "        # First, checking if the materialization exists. May have been stopped by a previous lab.\n",
    "        materialPattern = \"real.\" + labname + \"jup.USERNAME_GOES_HERE\"\n",
    "\n",
    "        # Listing the materializations to find if there's an existing one for this lab.\n",
    "        checkMaterial = os.popen('su - USERNAME_GOES_HERE -c \"mrg list materializations\"').read()\n",
    "        regex = re.compile(materialPattern)\n",
    "        # Getting the matches:\n",
    "        match = regex.search(checkMaterial)\n",
    "\n",
    "        if match:\n",
    "            display(HTML(\"<span style='color: orange;'>An existing activation for this lab already exists. </span><span>You might have run another \\\n",
    "            lab without stopping this one. Attaching the existing activation...</span>\"))\n",
    "\n",
    "            # Detaching it and re-attaching.\n",
    "            subprocess.run('su - USERNAME_GOES_HERE -c \"mrg xdc detach xdc.USERNAME_GOES_HERE\"', shell=True, check=True)\n",
    "            subprocess.run('su - USERNAME_GOES_HERE -c \"mrg xdc attach xdc.USERNAME_GOES_HERE real.' + labname + 'jup.USERNAME_GOES_HERE\"', capture_output=True, text=True, shell=True, check=True)\n",
    "            display(HTML(\"<span>Re-running the installation... </span><span><img width='12px' height='12px' style='margin-left: 3px;' src='resources/loading.gif'></span>\"))\n",
    "\n",
    "            # Check if the student has an autosave.\n",
    "            check_autosave()\n",
    "            \n",
    "            # Re-running the installation script.\n",
    "            subprocess.run('su - USERNAME_GOES_HERE -c \"bash /home/runlab ' + labname + 'jup\"', capture_output=True, text=True, shell=True, check=True)\n",
    "            output0.clear_output()\n",
    "            display(HTML(\"<newline><span style='color: green;'><strong>Your lab has been re-installed. </strong></span>\" \\\n",
    "                         \"<span>When you're finished, close your lab at the bottom of the notebook.</span>\"))\n",
    "        \n",
    "        else:\n",
    "            display(HTML(\"<span>No existing activations are found.</span>\"))\n",
    "\n",
    "            # Second, start the lab.\n",
    "            display(HTML(\"<span>Starting the \" + labname + \" lab. This will take a few minutes to process. Please wait.</span> \\\n",
    "            <span><img width='12px' height='12px' style='margin-left: 3px;' src='resources/loading.gif'></span>\"))\n",
    "            try:\n",
    "                startexp = subprocess.run('su - USERNAME_GOES_HERE -c \"bash /home/startexp ' + labname + 'jup\"', capture_output=True, text=True, shell=True, check=True)\n",
    "            except:\n",
    "                output0.clear_output()\n",
    "                display(HTML(\"<span style='color: red;'>There was an error starting your experiment. Make sure your password is written inside of ~/pass.txt, and try again.</span>\"))\n",
    "                return\n",
    "            \n",
    "            print(startexp.stdout, flush=True)\n",
    "            output0.clear_output()\n",
    "            display(HTML(\"<span>Done. Result:</span>\"))\n",
    "            print(startexp.stdout, flush=True)\n",
    "\n",
    "            # Another lab is already attached to the XDC.\n",
    "            if (\"XDC already attached\" in startexp.stdout):\n",
    "                existingLab = re.search(r\"real.(.*).USERNAME_GOES_HERE\", startexp.stdout).group(1)\n",
    "\n",
    "                # Shouldn't happen.\n",
    "                if labname == existingLab:\n",
    "                    display(HTML(\"<span style='color: red;'>Your lab was already started. </span><span>Please continue to the next step.</span>\"))\n",
    "\n",
    "                # Detaching the existing lab, then attaching the current one.\n",
    "                else:\n",
    "                    display(HTML(\"<span style='color: orange;'>Warning: You did not stop your previous experiment. </span><span>Please stop your experiments \\\n",
    "                    before starting a new one. Detaching the \" + existingLab + \" experiment.</span>\"))\n",
    "                    subprocess.run('su - USERNAME_GOES_HERE -c \"mrg xdc detach xdc.USERNAME_GOES_HERE\"', shell=True, check=True)\n",
    "                    display(HTML(\"<span>Attaching the current lab.</span>\"))\n",
    "                    subprocess.run('su - USERNAME_GOES_HERE -c \"mrg xdc attach xdc ' + materialPattern + '\"', shell=True, check=True)\n",
    "    \n",
    "            # Third, get the lab materials onto the node.\n",
    "            display(HTML(\"<span>Allocating lab resources onto the node. <u>Please wait a little longer...</u></span>\"))\n",
    "\n",
    "            # Gives the notebook a couple seconds so that it will recognize the node(s).\n",
    "            time.sleep(2)\n",
    "\n",
    "            # Move the resources over.\n",
    "            runlab = subprocess.run(\n",
    "                'su - USERNAME_GOES_HERE -c \"bash /home/runlab ' + labname + 'jup\"',\n",
    "                capture_output=True, text=True, shell=True\n",
    "            )\n",
    "\n",
    "            # Check if the student has an autosave.\n",
    "            check_autosave()\n",
    "\n",
    "            # Complete. Inform the student.\n",
    "            display(HTML(\"<newline><span style='color: green;'><strong>Setup complete. You may begin the lab! </strong></span>\" \\\n",
    "                         \"<span>When you're finished, close your lab at the bottom of the notebook. Your lab will be active for one week.</span>\"))\n",
    "\n",
    "\n",
    "# Creating the button.\n",
    "startButton = widgets.Button(description=\"Start Lab\")\n",
    "\n",
    "# Creating an output area.\n",
    "output0 = widgets.Output()\n",
    "\n",
    "# Run the command on click.\n",
    "startButton.on_click(startlab)\n",
    "\n",
    "# Display the output.\n",
    "display(startButton, output0)"
   ]
  },
  {
   "cell_type": "markdown",
   "metadata": {
    "deletable": false,
    "editable": false,
    "slideshow": {
     "slide_type": ""
    },
    "tags": []
   },
   "source": [
    "<hr>"
   ]
  },
  {
   "cell_type": "markdown",
   "metadata": {
    "deletable": false,
    "editable": false,
    "slideshow": {
     "slide_type": ""
    },
    "tags": []
   },
   "source": [
    "If you previously stopped your lab, you may restore your progress below by clicking \"Load Lab\". <u>You do not have to load your lab if you signed out, closed your notebook, or exited your node(s) or XDC by using ```exit```.</u>"
   ]
  },
  {
   "cell_type": "code",
   "execution_count": 3,
   "metadata": {
    "deletable": false,
    "editable": false,
    "jupyter": {
     "source_hidden": true
    },
    "slideshow": {
     "slide_type": ""
    },
    "tags": []
   },
   "outputs": [
    {
     "data": {
      "application/vnd.jupyter.widget-view+json": {
       "model_id": "d15c2e60a8564548b20228229ebee37f",
       "version_major": 2,
       "version_minor": 0
      },
      "text/plain": [
       "Button(description='Load Lab', style=ButtonStyle())"
      ]
     },
     "metadata": {},
     "output_type": "display_data"
    },
    {
     "data": {
      "application/vnd.jupyter.widget-view+json": {
       "model_id": "b15957ae4ee345da9ff361e28d577185",
       "version_major": 2,
       "version_minor": 0
      },
      "text/plain": [
       "Output()"
      ]
     },
     "metadata": {},
     "output_type": "display_data"
    }
   ],
   "source": [
    "# Click the button below to load your lab.\n",
    "def loadlab(b):\n",
    "    with output0_2:\n",
    "        output0_2.clear_output()\n",
    "        display(HTML(\"<span>Searching for an existing lab in your notebook...</span>\"))\n",
    "\n",
    "    if (os.path.exists(\"/project/USERNAME_GOES_HERE/notebooks/saves/USERNAME_GOES_HERE_xss.tar.gz\")):\n",
    "        with output0_2:\n",
    "            output0_2.clear_output()\n",
    "            display(HTML(\"<span>Loading your lab...</span> \\\n",
    "                <span><img width='12px' height='12px' style='margin-left: 3px;' src='resources/loading.gif'></span>\"))\n",
    "            result = trigger_load()\n",
    "            if (result.returncode == 0):\n",
    "                output0_2.clear_output()\n",
    "                display(HTML(\"<span style='color: green;'>Your lab has been successfully loaded. Please click on the <img width='20px' height='20px' style='margin-left: 1px;' src='resources/fast_forward.png'> icon at the top of your notebook to reflect your changes.</span>\"))\n",
    "            elif (result.returncode == 2):\n",
    "                output0_2.clear_output()\n",
    "                display(HTML(\"<span style='color: red;'>The server node is inaccessible. Please start your lab. If you have already started it, wait a minute and try again.</span>\"))\n",
    "            else:\n",
    "                output0_2.clear_output()\n",
    "                display(HTML(\"<span style='color: red;'>An error occurred while loading your lab.</span>\"))\n",
    "\n",
    "# Creating the button.\n",
    "loadButton = widgets.Button(description=\"Load Lab\")\n",
    "\n",
    "# Creating an output area.\n",
    "output0_2 = widgets.Output()\n",
    "\n",
    "# Run the command on click.\n",
    "loadButton.on_click(loadlab)\n",
    "\n",
    "# Display the output.\n",
    "display(loadButton, output0_2)"
   ]
  },
  {
   "cell_type": "markdown",
   "metadata": {
    "deletable": false,
    "editable": false,
    "slideshow": {
     "slide_type": ""
    },
    "tags": []
   },
   "source": [
    "## <strong>Topic 1: HTTP Protocols</strong>\n",
    "\n",
    "#### <strong>HTTP Protocols</strong>\n",
    "\n",
    "An HTTP (Hypertext Transfer Protocol) request is a method of sending information across website pages. We are going to look at ```POST``` and ```GET``` requests for this lab.\n",
    "\n",
    "A <strong>```POST```</strong> request consists of sending data to a website, to which it becomes processed by the server. ```POST``` should not be confused with ```PUT```, where ```PUT``` is mainly used for replacing or updating a certain resource on a server. ```PUT``` requires a specific Uniform Resource Identifier (URI), meaning you must specify the exact path and resource that you want to update.\n",
    "\n",
    "The most common use of a ```POST``` request is submitting a form on a website. The website identifies specific names for each field, like name, email, or an \"accept\" checkbox. Then, when the user ```POST```s the information by clicking submit, the server assigns those names with specific values that the user provided on the form, then processes the information, like adding the values to the database.\n",
    "\n",
    "A <strong>```GET```</strong> request gathers a resource from a server. ```GET``` variables are easy to determine from a PHP website, as they appear in the URL of a website. A ```GET``` variable can be obtained by observing a ```?``` after a ```.php``` extension in the URL, then each subsequent name with a ```=``` is the name and value of each ```GET``` variable.\n",
    "\n",
    "Here is an example: ```https://www.testwebsite.com/index.php?name=umdclassXXXX&age=21```, where ```name``` is umdclassXXXX and ```age``` is 21.\n",
    "\n",
    "If you have ```telnet``` installed, you can call a ```GET``` request for the landing page of any website. Simply type ```telnet url 443``` to call an HTTPS request for any provided URL, then type ```GET /``` to get the HTML source code for the landing page of the website.\n",
    "\n",
    "#### <center><strong>Differences Between Both Protocols</strong></center>\n",
    "\n",
    "| Feature        | GET Method                                                                 | POST Method                                                                            |\n",
    "|----------------|----------------------------------------------------------------------------|----------------------------------------------------------------------------------------|\n",
    "| Operation      | Used to retrieve information from the server.                              | Used to send data to the server to create/update a resource.                           |\n",
    "| Data Location  | Appends data to the URL, visible to all.                                   | Includes data in the request body, not displayed in the URL.                           |\n",
    "| Idempotency    | Idempotent; the same request can be repeated with no further changes.      | Non-idempotent; repeating the same request can lead to different results.              |\n",
    "| Data Size      | Limited by the URL length; less data can be sent.                          | No limitations on data size; suitable for large amounts of data.                       |\n",
    "| Caching        | Can be cached.                                                             | Not cached by default.                                                                 |\n",
    "| Security       | Less secure as data is exposed in the URL.                                 | More secure; data is concealed within the request body.                                |\n",
    "| Use Case       | Ideal for searching and retrieving data.                                   | Ideal for transactions and updating data.                                              |\n",
    "\n",
    "\n",
    "<center><em>Source: <a href=\"https://www.akto.io/academy/get-vs-post\">Atko.io</a></center>\n",
    "\n",
    "<br>\n",
    "\n",
    "In PHP, making a ```POST``` request will refresh the page, creating ```$_POST[\"name\"] = key``` variables. These variables go away when the page is refreshed, so you may call them within an \"if\" statement where ```$_SERVER['REQUEST_METHOD'] == 'POST'```. When PHP detects a ```POST``` request, the PHP file will enter this code segment, where you may process the ```POST``` variables. \n",
    "\n",
    "Similarly with ```GET```, you may call ```$var = $_GET[\"key\"]```, allowing PHP to retrieve variables from the address bar."
   ]
  },
  {
   "cell_type": "markdown",
   "metadata": {
    "deletable": false,
    "editable": false,
    "slideshow": {
     "slide_type": ""
    },
    "tags": []
   },
   "source": [
    "### Step 1: Identifying Your Authentication Token\n",
    "\n",
    "<strong>This lab is going to require port forwarding, which requires setup on your own, local machine. If you have not already done port forwarding, you will need to follow the steps from this notebook.</strong>\n",
    "\n",
    "<strong>Additionally, this lab will contain two nodes.</strong> Attempting to access a node called ```xss``` will not work! The two nodes for this lab are ```server``` and ```client```. <u>You will be doing all of your work on the ```server``` node.</u>\n",
    "\n",
    "After you have port forwarded to your ```server``` node, access ```http://localhost:port/xss_practice.php```, where ```port``` is the number that you used in your SSH statement.\n",
    "\n",
    "<strong>For example</strong>, if you have already set up port forwarding, type the following command into your terminal: ```ssh -L 8080:server:80 USERNAME_GOES_HERE-xdc-USERNAME_GOES_HERE```, then access the practice page by typing ```http://localhost:8080/xss_practice.php``` into your web browser.\n",
    "\n",
    "Once you have navigated to this website, you are going to land on a notes page. The notes page is where users may freely post whatever note that they want, as well as stating who has posted the note.\n",
    "\n",
    "You already have an account for this website. These are your credentials:\n",
    "\n",
    "| Username: | Password:    |\n",
    "|-----------|--------------|\n",
    "|  umdsec   |   hacker123  |\n",
    "\n",
    "Using these credentials, sign into the website.\n",
    "\n",
    "<strong>This website's design is very insecure, and you will learn how to break it.</strong> Currently, the website does authentication through the address bar. Every user that has an account has a random authentication token that's 32 characters long. Currently, cookies and sessions will not be introduced yet for authentication. Once you learn the basics of cross-site scripting, you will practice cross-site scripting with cookies and sessions.\n",
    "\n",
    "You can find the authentication token inside of the URL of your website. <u>This is what allows you to access your profile.</u> Changing this token will sign you out, unless you provide someone else's token, which is the goal for this topic.\n",
    "\n",
    "Sign into the website using the credentials that are provided above, then locate the authentication token inside of the address bar. Copy and paste the value of this button into the field below."
   ]
  },
  {
   "cell_type": "code",
   "execution_count": 4,
   "metadata": {
    "deletable": false,
    "editable": false,
    "jupyter": {
     "source_hidden": true
    },
    "slideshow": {
     "slide_type": ""
    },
    "tags": []
   },
   "outputs": [
    {
     "data": {
      "application/vnd.jupyter.widget-view+json": {
       "model_id": "929ec7718383481fabbba84ec11822c3",
       "version_major": 2,
       "version_minor": 0
      },
      "text/plain": [
       "Output()"
      ]
     },
     "metadata": {},
     "output_type": "display_data"
    },
    {
     "data": {
      "application/vnd.jupyter.widget-view+json": {
       "model_id": "58ff38e7f521402fac2b7bc68201d0f8",
       "version_major": 2,
       "version_minor": 0
      },
      "text/plain": [
       "Text(value='', description='Token:', layout=Layout(width='75%'), placeholder='Type your auth token here')"
      ]
     },
     "metadata": {},
     "output_type": "display_data"
    },
    {
     "data": {
      "application/vnd.jupyter.widget-view+json": {
       "model_id": "d51835aaa78445e09afc3d20685c46ec",
       "version_major": 2,
       "version_minor": 0
      },
      "text/plain": [
       "Button(description='Check Auth Token', style=ButtonStyle())"
      ]
     },
     "metadata": {},
     "output_type": "display_data"
    },
    {
     "data": {
      "application/vnd.jupyter.widget-view+json": {
       "model_id": "ad0f4c154d7344adbeceb8fcba26f15f",
       "version_major": 2,
       "version_minor": 0
      },
      "text/plain": [
       "Output()"
      ]
     },
     "metadata": {},
     "output_type": "display_data"
    }
   ],
   "source": [
    "# Click the button below to check your work.\n",
    "step1Complete = False\n",
    "\n",
    "# Function to check if the student's answer was correct.\n",
    "def step_1():\n",
    "    # Important variables that must be accessed outside of this function.\n",
    "    global step1Complete, result\n",
    "\n",
    "    # Loading, in case the check is slow.\n",
    "    with output1:\n",
    "        output1.clear_output()\n",
    "        display(HTML(\"<span><img width='12px' height='12px' style='margin-left: 3px;' src='resources/loading.gif'></span>\"))\n",
    "\n",
    "    # First, check to see if the field is empty.\n",
    "    if (userInput1.value == \"\"):\n",
    "        output1.clear_output()\n",
    "        with output1:\n",
    "            display(HTML(\"<span style='color: red;'>You did not provide input for this step.</span>\"))\n",
    "            step1Complete = False\n",
    "\n",
    "    else:\n",
    "        # Construct the SSH command for testing the SQL query.\n",
    "        auth_token = f\"\"\"ssh -i /home/USERNAME_GOES_HERE/.ssh/merge_key USERNAME_GOES_HERE@server \"/home/.checker/section_1.py 1 {userInput1.value}\" >/dev/null \"\"\"\n",
    "        result = subprocess.run(auth_token, shell=True)\n",
    "\n",
    "        # Construct the SSH command for saving the student's response.\n",
    "        save_command = f\"\"\"ssh -i /home/USERNAME_GOES_HERE/.ssh/merge_key USERNAME_GOES_HERE@server \"echo {userInput1.value} > /home/.checker/responses/step_1_answer.txt\" >/dev/null \"\"\"\n",
    "        save_result = subprocess.run(save_command, shell=True)\n",
    "        \n",
    "        if (result.returncode == 1):\n",
    "            output1.clear_output()\n",
    "            with output1:\n",
    "                display(HTML(\"<span style='color: green;'>You correctly identified your authentication token!</span>\"))\n",
    "                step1Complete = True\n",
    "        \n",
    "        elif (result.returncode == 0):\n",
    "            output1.clear_output()\n",
    "            with output1:\n",
    "                display(HTML(\"<span style='color: red;'>The authentication token you provided for umdsec does not match. Check again.</span>\"))\n",
    "                step1Complete = False\n",
    "        \n",
    "        elif (result.returncode == 2):\n",
    "            output1.clear_output()\n",
    "            with output1:\n",
    "                display(HTML(\"<span style='color: red;'>An error occurred when checking this step. Please contact your professor or TA.</span>\"))\n",
    "                step1Complete = False\n",
    "\n",
    "def check_step_1(b):\n",
    "    if (warn_student()):\n",
    "        output1.clear_output()\n",
    "        with output1:\n",
    "            display(HTML(\"<span style='color: red;'><strong>WARNING:</strong> You have an autosaved lab that you have not yet loaded. If you would like to load your progress, click \\\"Load Lab\\\" at the top of the notebook. Otherwise, clicking on this button again will assume you're restarting the lab!</span>\"))\n",
    "    else:\n",
    "        step_1()\n",
    "\n",
    "        # Auto-save.\n",
    "        if (not runAllSteps):\n",
    "            trigger_save(\"1\", result.returncode, userInput1.value)\n",
    "    \n",
    "# Retrieve the student's response. First, create a loading spinner, since this could take a second or two.\n",
    "loading1 = widgets.Output()\n",
    "display(loading1)\n",
    "with loading1:\n",
    "    loading1.clear_output()\n",
    "    display(HTML(\"<span>Loading your saved response... <img width='12px' height='12px' style='margin-left: 3px;' src='resources/loading.gif'></span>\"))\n",
    "\n",
    "# Creating a text area.\n",
    "userInput1 = widgets.Text(\n",
    "    placeholder='Type your auth token here',\n",
    "    description='Token:',\n",
    "    layout=widgets.Layout(width='75%')\n",
    ")\n",
    "\n",
    "# Checking if the step has been answered.\n",
    "result = subprocess.run('ssh -o StrictHostKeyChecking=no -i /home/USERNAME_GOES_HERE/.ssh/merge_key USERNAME_GOES_HERE@server \"cat /home/.checker/responses/step_1_answer.txt 2> /dev/null\"', capture_output=True, text=True, shell=True)\n",
    "userInput1.value = result.stdout\n",
    "\n",
    "# After the student's response was loaded, clear the output.\n",
    "loading1.clear_output()\n",
    "\n",
    "# Creating the button.\n",
    "button = widgets.Button(description=\"Check Auth Token\")\n",
    "\n",
    "# Creating an output area.\n",
    "output1 = widgets.Output()\n",
    "\n",
    "# Run the command on click.\n",
    "button.on_click(check_step_1)\n",
    "\n",
    "# Display the output.\n",
    "display(userInput1, button, output1)"
   ]
  },
  {
   "cell_type": "markdown",
   "metadata": {
    "deletable": false,
    "editable": false,
    "slideshow": {
     "slide_type": ""
    },
    "tags": []
   },
   "source": [
    "## <strong>Topic 2: Session Hijacking</strong>\n",
    "\n",
    "In this topic, you are going to practice HTTP protocols from Topic 1, and practice how to steal someone's authentication token. This token will allow you to access someone else's account. With the poor design of the website, you are able to access someone else's account by changing the token found in the URL of the website.\n",
    "\n",
    "XSS attacks require some inner knowledge with how websites and its server operate. Since you are working in a learning environment, you will be told how ```xss_practice.php``` is setup.\n",
    "\n",
    "```xss_practice.php``` uses two SQL databases:\n",
    "- ```users``` stores the username and password of each user. Additionally, a random token is assigned to the user which is used for authentication.\n",
    "- ```notes``` stores the notes and the username of the person who wrote the note.\n",
    "\n",
    "When a note is saved, the memo is written to the database, and can only be viewed by that user. Currently, you have written one note that is already written to the website, and you may delete notes, if you wish. <u>It's not necessary to understand how to use SQL for this lab.</u> It's only important to understand that each note is associated with the username in the database.\n",
    "\n",
    "With poor website design, signing into your account will display your authentication token within the URL of the website. The creator of this website thinks that you do not know what this string is. If this authentication token is changed, you will no longer be identified as ```umdsec```, OR you may be identified as someone else.\n",
    "\n",
    "Your goal for this topic is figuring out how to write a victim's authentication token to a note on your own account. Then, signing into their account and viewing private information that they've stored."
   ]
  },
  {
   "cell_type": "markdown",
   "metadata": {
    "deletable": false,
    "editable": false,
    "slideshow": {
     "slide_type": ""
    },
    "tags": []
   },
   "source": [
    "### Step 2: Using Website to Execute JavaScript\n",
    "\n",
    "In HTML, forms are user-friendly POST requests. You're going to learn how to handle POST requests by injecting JavaScript onto the website, instead of filling out the form.\n",
    "\n",
    "You are free to open ```xss_practice.php``` in your ```server``` node and observe how the form works for uploading a note to the website. This is optional, in case you'd like to understand how HTTP requests work in HTML. Upon signing into the website, there is an HTML element called ```<form>```, which is named ```noteForm```. ```<form>``` elements have ```<input>``` fields that have different types to them. There are two input tags that are within this form.\n",
    "\n",
    "- There is a ```<textarea>``` that is named ```note```, where you may type in a note that gets sent to the database.\n",
    "  - The format for this in your POST request is: ```note=YourNoteHere```, where ```YourNoteHere``` is the value of the ```<textarea>```.\n",
    "- There is a ```<input>``` field with the type ```hidden```. The ```hidden``` field is named ```username```.\n",
    "  - The format for this in your POST request is: ```username=umdsec```, where ```umdsec``` is the value of the ```<input type=\"hidden\">```.\n",
    "  - These ```hidden``` types are form fields that are not viewable within the form. They contain information that are pre-determined by the website, which in this case, is the username.\n",
    "\n",
    "<u>Although the input is type ```hidden```, you can still see this field in the source code of the HTML. You may find it yourself by using Inspect Element.</u> \n",
    "\n",
    "<figure><center><img src=\"resources/xss/inspect_element.png\" style=\"width: 75%; height: 75%;\"></img></center></figure>\n",
    "\n",
    "To access Inspect Element on your browser, right-click on the ```xss_practice.php``` website, and look for a button called \"Inspect\" or \"Inspect Element\". Some browsers may have Inspect Element under a \"Developer Tools\" button. If you're stuck, you will need to use a search engine to find instructions for your specific browser.\n",
    "\n",
    "When a form is submitted, a ```POST``` request is sent to ```xss_practice.php```, where the server takes the ```POST``` information from the form, then writes it to the database by safely using prepared statements. SQL injection will not work in this lab, so you will need to use cross-site scripting.\n",
    "\n",
    "First, you are going to find the security vulnerability for this website.\n",
    "\n",
    "<strong>Your task:</strong> Write a ```<script>``` block as a note on the website. Within the script block, use ```console.log()``` to write the value of ```2 * 31```.\n",
    "\n",
    "<span style=\"color: green\"><strong><img src=\"resources/idea.png\" style=\"width: 12px\"> Tips:</strong></span>\n",
    "\n",
    "- Use Inspect Element on your browser to view the \"Console\". The console is where you will be able to view the result of your payload.\n",
    "- Since your payload is containing a ```<script>``` tag, it will not render. If you are not seeing a message displaying on the website, then your payload is working.\n",
    "\n",
    "<span style=\"color: orange\"><strong><img src=\"resources/idea.png\" style=\"width: 12px\"> What is \"Use Previous Work\"?</strong></span> In the ```xss_practice.php``` website, you are given the option to reset the notes on your account or the victim's account. However, at each step, you may wish to delete payloads, so that you are not running previous exploits as you work within the notebook.\n",
    "\n",
    "By checking \"Use Previous Work\", your notebook will check to see if you have already completed this step. If you have previously completed the step, it will check the last response that your notebook has saved. <u>This checkbox will auto-check itself when you complete a step successfully, so that your answer is locked in.</u> If you run a step without checking this box, it will read any existing payload(s) that are currently stored on ```xss_practice.php```."
   ]
  },
  {
   "cell_type": "code",
   "execution_count": 5,
   "metadata": {
    "deletable": false,
    "editable": false,
    "jupyter": {
     "source_hidden": true
    },
    "slideshow": {
     "slide_type": ""
    },
    "tags": []
   },
   "outputs": [
    {
     "data": {
      "application/vnd.jupyter.widget-view+json": {
       "model_id": "9008e86fc1424dabb13dbb580ab38187",
       "version_major": 2,
       "version_minor": 0
      },
      "text/plain": [
       "Button(description='Check Payload', style=ButtonStyle())"
      ]
     },
     "metadata": {},
     "output_type": "display_data"
    },
    {
     "data": {
      "application/vnd.jupyter.widget-view+json": {
       "model_id": "1c0b61b7ed3147c2a3d9d04a9c994940",
       "version_major": 2,
       "version_minor": 0
      },
      "text/plain": [
       "Checkbox(value=False, description='Use Previous Work', indent=False)"
      ]
     },
     "metadata": {},
     "output_type": "display_data"
    },
    {
     "data": {
      "application/vnd.jupyter.widget-view+json": {
       "model_id": "ccba2a96aba847a0b9f7ba26cb9470bd",
       "version_major": 2,
       "version_minor": 0
      },
      "text/plain": [
       "Output()"
      ]
     },
     "metadata": {},
     "output_type": "display_data"
    }
   ],
   "source": [
    "# Click the button below to check your work.\n",
    "step2Complete = False\n",
    "\n",
    "# Function to check the permissions.\n",
    "def step_2():\n",
    "    # Important variables that must be accessed outside of this function.\n",
    "    global step2Complete, result\n",
    "    \n",
    "    with output2:\n",
    "        output2.clear_output()\n",
    "        display(HTML(\"<span>This step will take some extra time to check. Please wait! <img width='12px' height='12px' style='margin-left: 3px;' src='resources/loading.gif'></span>\"))\n",
    "\n",
    "    # Before checking the step, see what the value of \"Use Previous Work\" is.\n",
    "    check_prev_work = prev_work_2.value\n",
    "\n",
    "    # This will be appended to the result subprocess. If check_prev_work is True, then just add one.\n",
    "    prev_work = 0\n",
    "    \n",
    "    if (check_prev_work or runAllSteps):\n",
    "        prev_work += 1\n",
    "\n",
    "    # Run the script.\n",
    "    result = subprocess.run('ssh -i /home/USERNAME_GOES_HERE/.ssh/merge_key USERNAME_GOES_HERE@server \"/home/.checker/section_2.py 2 ' + str(prev_work) + '\"', shell=True, capture_output=True, text=True)\n",
    "\n",
    "    if (result.returncode == 1):\n",
    "        output2.clear_output()\n",
    "        with output2:\n",
    "            display(HTML(\"<span style='color: green;'>Success! You may continue onto the next step.</span>\"))\n",
    "            step2Complete = True\n",
    "\n",
    "            # Mark \"Use Previous Work\" as true to avoid progress loss.\n",
    "            prev_work_2.value = True\n",
    "\n",
    "    elif (result.returncode == 0):\n",
    "        output2.clear_output()\n",
    "        with output2:\n",
    "            display(HTML(\"<span style='color: red;'>The result of 2*31 cannot be found in console.log upon accessing the site. Check your payload.</span>\"))\n",
    "            step2Complete = False\n",
    "    \n",
    "    elif (result.returncode == 2):\n",
    "        output2.clear_output()\n",
    "        with output2:\n",
    "            display(HTML(\"<span style='color: red;'>An error occurred when checking this step. Please contact your professor or TA.</span>\"))\n",
    "            step2Complete = False\n",
    "\n",
    "def check_step_2(b):\n",
    "    if (warn_student()):\n",
    "        output2.clear_output()\n",
    "        with output2:\n",
    "            display(HTML(\"<span style='color: red;'><strong>WARNING:</strong> You have an autosaved lab that you have not yet loaded. If you would like to load your progress, click \\\"Load Lab\\\" at the top of the notebook. Otherwise, clicking on this button again will assume you're restarting the lab!</span>\"))\n",
    "    else:\n",
    "        step_2()\n",
    "\n",
    "        # Auto-save.\n",
    "        if (not runAllSteps):\n",
    "            trigger_save(\"2\", result.returncode)\n",
    "\n",
    "# Creating the button.\n",
    "button = widgets.Button(description=\"Check Payload\")\n",
    "\n",
    "# Creating a checkbox for \"Use Previous Work\".\n",
    "prev_work_2 = widgets.Checkbox(value=False,\n",
    "    description='Use Previous Work',\n",
    "    disabled=False,\n",
    "    indent=False)\n",
    "\n",
    "# Creating an output area.\n",
    "output2 = widgets.Output()\n",
    "\n",
    "# Run the command on click.\n",
    "button.on_click(check_step_2)\n",
    "\n",
    "# Display the output.\n",
    "display(button, prev_work_2, output2)"
   ]
  },
  {
   "cell_type": "markdown",
   "metadata": {
    "deletable": false,
    "editable": false,
    "slideshow": {
     "slide_type": ""
    },
    "tags": []
   },
   "source": [
    "### Step 3: Discovering an Exploit\n",
    "\n",
    "Recently, you discovered another user who exists on the website who managed to take the username: ```Hacker```. You want to attempt to access their account without knowing the password for it. Currently, this is what you know about the website:\n",
    "\n",
    "- Uploading a note to the website only requires the username and note content through a POST request.\n",
    "- You cannot view notes that are made by other users.\n",
    "- JavaScript is freely executing through your notes that you upload.\n",
    "\n",
    "<strong>Using this information, an opportunity arises.</strong> You can post notes onto someone else's account, just as long as you know the username of the account. You can execute a POST request in JavaScript, which contains the username and a note, and it will write it to that user's account.\n",
    "\n",
    "<figure><center><img src=\"resources/xss/topic_2_example_1.png\" style=\"width: 75%; height: 75%;\"></img></center></figure>\n",
    "\n",
    "JavaScript has built-in functions for calling HTTP requests by using either ```fetch``` or ```XMLHttpRequest```. The ```fetch``` statement will be used as an example, since ```XMLHttpRequest``` requires multiple functions to be called. Here is a template of a ```fetch``` statement that can be used to ```POST``` information to ```xss_practice.php```:\n",
    "\n",
    "```\n",
    "<script>\n",
    "  fetch(\"xss_practice.php\", {\n",
    "    method: \"POST\",\n",
    "    headers: {\n",
    "      \"Content-Type\": \"application/x-www-form-urlencoded\"\n",
    "    },\n",
    "    body: \"key=value\"\n",
    "  });\n",
    "</script>\n",
    "```\n",
    "\n",
    "A breakdown:\n",
    "- ```method``` allows you to choose your HTTP request. In this case, a ```POST``` request.\n",
    "- ```headers``` allow you to create additional instructions for your HTTP request.\n",
    "- ```Content-Type``` indicates what type of information is being sent within the body of the request. In this case, ```application/x-www-form-urlencoded``` encodes key-value pairs through HTML requests. You can read more about these from <a href=\"https://developer.mozilla.org/en-US/docs/Web/HTTP/Headers/Content-Type\">Mozilla's documentation</a>.\n",
    "- ```body``` stores the information that you're sending with the request.\n",
    "\n",
    "<strong>This method works best when you are passing one word or value to a request</strong>. It can become difficult to send a ```fetch``` request if you have more than one key, or a larger value that you wish to send. If you're familiar with JSON, you may use JSON in your payload. However, this notebook does not expect you to know JSON. <u>We will just be using ```urlencoded``` for this lab.</u>\n",
    "\n",
    "<strong>Your task:</strong> Post a note with a ```<script>``` tag that executes the following information within your account:\n",
    "- Create a ```POST``` request to the ```xss_practice.php``` page which contains the following information:\n",
    "  - The ```username``` with the value ```Hacker```.\n",
    "  - A ```note``` with the value of anything you'd like to send to ```Hacker```. Such as: \"I'm in your account.\" or \"This website is unsafe!\" You may use whatever note you'd like.\n",
    "    - Do not use ```alert()``` or ```console.log()``` for your message to ```Hacker```. Just include content within the ```note``` parameter.\n",
    "\n",
    "This is what your attack should be doing:\n",
    "- Your payload gets posted as a note to your website, which should not display because your ```<script>``` tag is being rendered in HTML.\n",
    "- Each time that your website gets refreshed, your ```<script>``` tag is executing, which creates a note on ```Hacker```'s, account.\n",
    "- ```Hacker``` will see a new note posted with your content posted on it.\n",
    "\n",
    "<span style=\"color: green\"><strong><img src=\"resources/idea.png\" style=\"width: 12px\"> Tips:</strong></span>\n",
    "- You need to sent two key-value pairs in the body of the HTTP request. You may separate these with ```&``` in between the two key-value pairs within the body of your call.\n",
    "  - If you wish to add spaces in your note, you may use ```+```, since spaces are not interpreted in ```urlencoded```.\n",
    "- You are <strong>strongly encouraged</strong> to try copying the contents from the template above and try executing this code directly within the Console of your browser. Once you have a command working, copy/paste it into a note surrounded by ```<script>``` tags, then post the note. The check for this step will make sure that you have this note posted on the website.\n",
    "  - Your browser may warn you about copy/pasting code into your console, due to security. If this occurs, your browser will give you a command to run to allow it, such as ```allow pasting```. Read your browser's instructions to allow this.\n",
    "- If you are running into troubles with your code, <u>you may view the Console</u> within your browser to view JavaScript errors."
   ]
  },
  {
   "cell_type": "code",
   "execution_count": 6,
   "metadata": {
    "deletable": false,
    "editable": false,
    "jupyter": {
     "source_hidden": true
    },
    "slideshow": {
     "slide_type": ""
    },
    "tags": []
   },
   "outputs": [
    {
     "data": {
      "application/vnd.jupyter.widget-view+json": {
       "model_id": "efa8f4974ddc458cba0ca19aef16f37d",
       "version_major": 2,
       "version_minor": 0
      },
      "text/plain": [
       "Button(description='Check Payload', style=ButtonStyle())"
      ]
     },
     "metadata": {},
     "output_type": "display_data"
    },
    {
     "data": {
      "application/vnd.jupyter.widget-view+json": {
       "model_id": "b03d91c36db54116a314924bb57ae7dd",
       "version_major": 2,
       "version_minor": 0
      },
      "text/plain": [
       "Checkbox(value=False, description='Use Previous Work', indent=False)"
      ]
     },
     "metadata": {},
     "output_type": "display_data"
    },
    {
     "data": {
      "application/vnd.jupyter.widget-view+json": {
       "model_id": "e61a58e2c9d24b6e9e95cb4a194d9330",
       "version_major": 2,
       "version_minor": 0
      },
      "text/plain": [
       "Output()"
      ]
     },
     "metadata": {},
     "output_type": "display_data"
    }
   ],
   "source": [
    "# Click the button below to check your work.\n",
    "step3Complete = False\n",
    "\n",
    "# Function to check the permissions.\n",
    "def step_3():\n",
    "    # Important variables that must be accessed outside of this function.\n",
    "    global step3Complete, result\n",
    "\n",
    "    with output3:\n",
    "        output3.clear_output()\n",
    "        display(HTML(\"<span>This step will take some extra time to check. Please wait! <img width='12px' height='12px' style='margin-left: 3px;' src='resources/loading.gif'></span>\"))\n",
    "    \n",
    "    # Before checking the step, see what the value of \"Use Previous Work\" is.\n",
    "    check_prev_work = prev_work_3.value\n",
    "\n",
    "    # This will be appended to the result subprocess. If check_prev_work is True, then just add one.\n",
    "    prev_work = 0\n",
    "    \n",
    "    if (check_prev_work or runAllSteps):\n",
    "        prev_work += 1\n",
    "\n",
    "    # Run the script.\n",
    "    result = subprocess.run('ssh -i /home/USERNAME_GOES_HERE/.ssh/merge_key USERNAME_GOES_HERE@server \"/home/.checker/section_2.py 3 ' + str(prev_work) + '\"', shell=True, capture_output=True, text=True)\n",
    "    \n",
    "    if (result.returncode == 1):\n",
    "        output3.clear_output()\n",
    "        with output3:\n",
    "            display(HTML(\"<span style='color: green;'>Success! You may continue onto the next step.</span>\"))\n",
    "            step3Complete = True\n",
    "\n",
    "            # Mark \"Use Previous Work\" as true to avoid progress loss.\n",
    "            prev_work_3.value = True\n",
    "\n",
    "    elif (result.returncode == 0):\n",
    "        output3.clear_output()\n",
    "        with output3:\n",
    "            display(HTML(\"<span style='color: red;'>Accessing umdsec's account did not create a new note for the victim. Try again.</span>\"))\n",
    "            step3Complete = False\n",
    "    \n",
    "    elif (result.returncode == 2):\n",
    "        output3.clear_output()\n",
    "        with output3:\n",
    "            display(HTML(\"<span style='color: red;'>An error occurred when checking this step. Please contact your professor or TA.</span>\"))\n",
    "            step3Complete = False\n",
    "\n",
    "def check_step_3(b):\n",
    "    if (warn_student()):\n",
    "        output3.clear_output()\n",
    "        with output3:\n",
    "            display(HTML(\"<span style='color: red;'><strong>WARNING:</strong> You have an autosaved lab that you have not yet loaded. If you would like to load your progress, click \\\"Load Lab\\\" at the top of the notebook. Otherwise, clicking on this button again will assume you're restarting the lab!</span>\"))\n",
    "    else:\n",
    "        step_3()\n",
    "\n",
    "        # Auto-save.\n",
    "        if (not runAllSteps):\n",
    "            trigger_save(\"3\", result.returncode)\n",
    "\n",
    "# Creating the button.\n",
    "button = widgets.Button(description=\"Check Payload\")\n",
    "\n",
    "# Creating a checkbox for \"Use Previous Work\".\n",
    "prev_work_3 = widgets.Checkbox(value=False,\n",
    "    description='Use Previous Work',\n",
    "    disabled=False,\n",
    "    indent=False)\n",
    "\n",
    "# Creating an output area.\n",
    "output3 = widgets.Output()\n",
    "\n",
    "# Run the command on click.\n",
    "button.on_click(check_step_3)\n",
    "\n",
    "# Display the output.\n",
    "display(button, prev_work_3, output3)"
   ]
  },
  {
   "cell_type": "markdown",
   "metadata": {
    "deletable": false,
    "editable": false,
    "slideshow": {
     "slide_type": ""
    },
    "tags": []
   },
   "source": [
    "### Step 4: Stealing Someone's Information\n",
    "\n",
    "Now, you are successfully able to post content on someone else's account by injecting JavaScript as a note on the website. At the moment, your attack is not stealing data from users.\n",
    "\n",
    "From the previous step, you have a working payload that allows you to post whatever you want onto someone else's account. Now, whenever ```Hacker``` accesses their website, you want to deliver a ```POST``` request that sends their URL value to your OWN account. Their URL contains their authentication token, allowing you to sign-in as ```Hacker```.\n",
    "\n",
    "With some careful thought, this is the outline that you plan to use:\n",
    "- Write a ```fetch``` request that writes a note onto ```Hacker```'s account. <u>You know how to do this already from Step 3.</u>\n",
    "- ```Hacker``` opens the page and executes infected JavaScript code that you wrote to their account.\n",
    "- The infected JavaScript code retrieves the current URL of ```Hacker```'s account, which contains their authentication token.\n",
    "- Your payload takes ```Hacker```'s URL, then ```POST```s it as a note to your account.\n",
    "\n",
    "<figure><center><img src=\"resources/xss/topic_2_example_2.png\" style=\"width: 75%; height: 75%;\"></img></center></figure>\n",
    "\n",
    "<strong>Your task</strong>: Create a payload that will send a note containing infected JavaScript to ```Hacker```'s account. The infected JavaScript will take the current URL of their profile, then send it back as a note to your own profile.\n",
    "\n",
    "This step is going to require some creative thinking. A template will be provided to you, then broken down to help demonstrate how it works.\n",
    "\n",
    "```\n",
    "<script>\n",
    "  fetch(\"xss_practice.php\", {\n",
    "    method: \"POST\",\n",
    "    headers: {\n",
    "      \"Content-Type\": \"application/x-www-form-urlencoded\"\n",
    "    },\n",
    "    body: 'username=EnterUserHere&note=' + encodeURIComponent(`<script>\n",
    "             Insert your payload here.\n",
    "             It must be a fetch() statement!\n",
    "           <\\/script>`)\n",
    "  });\n",
    "</script>\n",
    "```\n",
    "\n",
    "This ```fetch``` function works mostly the same as before. However, there are some important instructions to understand with this template:\n",
    "- Special characters inside of a POST request, such as ```, / ? : @ & = + $ #``` can break the data that's being sent. When you wrap your payload with ```encodeURIComponent```, these characters will be safely escaped.\n",
    "- You will need to wrap quotes around your ```encodeURIComponent``` function, since it takes a string for an argument. Instead of quotes, you may also backticks (``` ` ```), like the template uses. That way, you do not need to worry about escaping single/double quotes.\n",
    "- When nesting ```<script>``` tags within each other, the first occurrence of a ```</script>``` will close off the outer-most ```<script>``` tag. To prevent this, use ```<\\/script>``` when closing off the inner ```<script>``` tag.\n",
    "\n",
    "Some additional tips are given below for when you construct your payload.\n",
    "\n",
    "<span style=\"color: green\"><strong><img src=\"resources/idea.png\" style=\"width: 12px\"> Tips:</strong></span>\n",
    "\n",
    "- You are <strong>strongly recommended</strong> to open the Console of your browser and attempt to type a ```fetch()``` request that will post a note to the victim's account. Use the ```Peek``` button to view any payloads/notes that ```Hacker``` will execute/read when they sign in. Once you have a working payload, you can use this for the body of a note within another ```fetch``` request.\n",
    "- ```location.href``` returns the URL of the current page where the JavaScript is executing. Use this to get the URL of ```Hacker```'s account.\n",
    "- Including a URL within a ```POST``` request can cause undefined behavior, since they likely contain unsafe characters that can break your HTTP request. When handling the URL of ```Hacker```'s website, use ```encodeURIComponent``` on the URL to safely escape those characters within the body of your victim's ```POST``` statement."
   ]
  },
  {
   "cell_type": "code",
   "execution_count": 7,
   "metadata": {
    "deletable": false,
    "editable": false,
    "jupyter": {
     "source_hidden": true
    },
    "slideshow": {
     "slide_type": ""
    },
    "tags": []
   },
   "outputs": [
    {
     "data": {
      "application/vnd.jupyter.widget-view+json": {
       "model_id": "00c99a19684b4c04a1fb417ecf8b8706",
       "version_major": 2,
       "version_minor": 0
      },
      "text/plain": [
       "Button(description='Check Payload', style=ButtonStyle())"
      ]
     },
     "metadata": {},
     "output_type": "display_data"
    },
    {
     "data": {
      "application/vnd.jupyter.widget-view+json": {
       "model_id": "c0fb180bcc4842e9b4df795282b38e33",
       "version_major": 2,
       "version_minor": 0
      },
      "text/plain": [
       "Checkbox(value=False, description='Use Previous Work', indent=False)"
      ]
     },
     "metadata": {},
     "output_type": "display_data"
    },
    {
     "data": {
      "application/vnd.jupyter.widget-view+json": {
       "model_id": "c95e522b9a0a4e1e987b2ea7fd1d5660",
       "version_major": 2,
       "version_minor": 0
      },
      "text/plain": [
       "Output()"
      ]
     },
     "metadata": {},
     "output_type": "display_data"
    }
   ],
   "source": [
    "# Click the button below to check your work.\n",
    "step4Complete = False\n",
    "\n",
    "# Function to check the permissions.\n",
    "def step_4():\n",
    "    # Important variables that must be accessed outside of this function.\n",
    "    global step4Complete, result\n",
    "\n",
    "    with output4:\n",
    "        output4.clear_output()\n",
    "        display(HTML(\"<span>This step will take some extra time to check. Please wait! <img width='12px' height='12px' style='margin-left: 3px;' src='resources/loading.gif'></span>\"))\n",
    "    \n",
    "    # Before checking the step, see what the value of \"Use Previous Work\" is.\n",
    "    check_prev_work = prev_work_4.value\n",
    "\n",
    "    # This will be appended to the result subprocess. If check_prev_work is True, then just add one.\n",
    "    prev_work = 0\n",
    "    \n",
    "    if (check_prev_work or runAllSteps):\n",
    "        prev_work += 1\n",
    "\n",
    "    # Run the script.\n",
    "    result = subprocess.run('ssh -i /home/USERNAME_GOES_HERE/.ssh/merge_key USERNAME_GOES_HERE@server \"/home/.checker/section_2.py 4 ' + str(prev_work) + '\"', shell=True, capture_output=True, text=True)\n",
    "    \n",
    "    if (result.returncode == 1):\n",
    "        output4.clear_output()\n",
    "        with output4:\n",
    "            display(HTML(\"<span style='color: green;'>Success! Your payload made hacker's authentication token leak onto your notes page. Try accessing it for the next step.</span>\"))\n",
    "            step4Complete = True\n",
    "\n",
    "            # Mark \"Use Previous Work\" as true to avoid progress loss.\n",
    "            prev_work_4.value = True\n",
    "\n",
    "    elif (result.returncode == 0):\n",
    "        output4.clear_output()\n",
    "        with output4:\n",
    "            display(HTML(\"<span style='color: red;'>The victim's account was accessed, but did not print their URL on your page. Try again.</span>\"))\n",
    "            step4Complete = False\n",
    "    \n",
    "    elif (result.returncode == 2):\n",
    "        output4.clear_output()\n",
    "        with output4:\n",
    "            display(HTML(\"<span style='color: red;'>An error occurred when checking this step. Please contact your professor or TA.</span>\"))\n",
    "            step4Complete = False\n",
    "\n",
    "def check_step_4(b):\n",
    "    if (warn_student()):\n",
    "        output4.clear_output()\n",
    "        with output4:\n",
    "            display(HTML(\"<span style='color: red;'><strong>WARNING:</strong> You have an autosaved lab that you have not yet loaded. If you would like to load your progress, click \\\"Load Lab\\\" at the top of the notebook. Otherwise, clicking on this button again will assume you're restarting the lab!</span>\"))\n",
    "    else:\n",
    "        step_4()\n",
    "\n",
    "        # Auto-save.\n",
    "        if (not runAllSteps):\n",
    "            trigger_save(\"4\", result.returncode)\n",
    "\n",
    "# Creating the button.\n",
    "button = widgets.Button(description=\"Check Payload\")\n",
    "\n",
    "# Creating a checkbox for \"Use Previous Work\".\n",
    "prev_work_4 = widgets.Checkbox(value=False,\n",
    "    description='Use Previous Work',\n",
    "    disabled=False,\n",
    "    indent=False)\n",
    "\n",
    "# Creating an output area.\n",
    "output4 = widgets.Output()\n",
    "\n",
    "# Run the command on click.\n",
    "button.on_click(check_step_4)\n",
    "\n",
    "# Display the output.\n",
    "display(button, prev_work_4, output4)"
   ]
  },
  {
   "cell_type": "markdown",
   "metadata": {
    "deletable": false,
    "editable": false,
    "slideshow": {
     "slide_type": ""
    },
    "tags": []
   },
   "source": [
    "### Step 5: Accessing Someone's Information\n",
    "\n",
    "In the previous step, you successfully stole the URL of ```Hacker```'s account. Now, you may access their account and read their notes.\n",
    "\n",
    "Copy and paste the authentication token of the victim's URL, then replace your authentication token with this. <strong>Note</strong>: The full URL will not work because ```10.0.1.1``` is the ```localhost``` of the ```server``` node. You will need to keep ```localhost:port``` in the address bar. \n",
    "\n",
    "Using the blank below, type in ```Hacker```'s credit card number that they stored on the website."
   ]
  },
  {
   "cell_type": "code",
   "execution_count": 8,
   "metadata": {
    "deletable": false,
    "editable": false,
    "jupyter": {
     "source_hidden": true
    },
    "slideshow": {
     "slide_type": ""
    },
    "tags": []
   },
   "outputs": [
    {
     "data": {
      "application/vnd.jupyter.widget-view+json": {
       "model_id": "6cfc08548e0a48de95aab19048887714",
       "version_major": 2,
       "version_minor": 0
      },
      "text/plain": [
       "Output()"
      ]
     },
     "metadata": {},
     "output_type": "display_data"
    },
    {
     "data": {
      "application/vnd.jupyter.widget-view+json": {
       "model_id": "9d1f0677577f4e809b962fc303242f58",
       "version_major": 2,
       "version_minor": 0
      },
      "text/plain": [
       "Text(value='4816284615375930\\n', description='Number:', layout=Layout(width='75%'), placeholder=\"Type the vict…"
      ]
     },
     "metadata": {},
     "output_type": "display_data"
    },
    {
     "data": {
      "application/vnd.jupyter.widget-view+json": {
       "model_id": "7e30e874d13e4c30bb3fb13ba08d39d5",
       "version_major": 2,
       "version_minor": 0
      },
      "text/plain": [
       "Button(description='Check Work', style=ButtonStyle())"
      ]
     },
     "metadata": {},
     "output_type": "display_data"
    },
    {
     "data": {
      "application/vnd.jupyter.widget-view+json": {
       "model_id": "63c46df30b1a4d78b00e29f59a3b0733",
       "version_major": 2,
       "version_minor": 0
      },
      "text/plain": [
       "Output()"
      ]
     },
     "metadata": {},
     "output_type": "display_data"
    }
   ],
   "source": [
    "# Click the button below to check your work.\n",
    "step5Complete = False\n",
    "\n",
    "# Function to check if the student's answer was correct.\n",
    "def step_5():\n",
    "    # Important variables that must be accessed outside of this function.\n",
    "    global step5Complete, result\n",
    "\n",
    "    # Loading, in case the check is slow.\n",
    "    with output5:\n",
    "        output5.clear_output()\n",
    "        display(HTML(\"<span><img width='12px' height='12px' style='margin-left: 3px;' src='resources/loading.gif'></span>\"))\n",
    "\n",
    "    # First, check to see if the field is empty.\n",
    "    if (userInput5.value == \"\"):\n",
    "        output5.clear_output()\n",
    "        with output5:\n",
    "            display(HTML(\"<span style='color: red;'>You did not provide input for this step.</span>\"))\n",
    "            step5Complete = False\n",
    "\n",
    "    else:\n",
    "        # Construct the SSH command for testing the SQL query.\n",
    "        auth_token = f\"\"\"ssh -i /home/USERNAME_GOES_HERE/.ssh/merge_key USERNAME_GOES_HERE@server \"/home/.checker/section_2.py 5 {userInput5.value}\" >/dev/null\"\"\"\n",
    "        result = subprocess.run(auth_token, shell=True)\n",
    "        \n",
    "        # Construct the SSH command for saving the student's response.\n",
    "        save_command = f\"\"\"ssh -i /home/USERNAME_GOES_HERE/.ssh/merge_key USERNAME_GOES_HERE@server \"echo {userInput5.value} > /home/.checker/responses/step_5_answer.txt\" >/dev/null\"\"\"\n",
    "        save_result = subprocess.run(save_command, shell=True)\n",
    "        \n",
    "        if (result.returncode == 1):\n",
    "            output5.clear_output()\n",
    "            with output5:\n",
    "                display(HTML(\"<span style='color: green;'>Success! You may continue onto the next step.</span>\"))\n",
    "                step5Complete = True\n",
    "        \n",
    "        elif (result.returncode == 0):\n",
    "            output5.clear_output()\n",
    "            with output5:\n",
    "                display(HTML(\"<span style='color: red;'>The card number you provided does not match the number in the victim's account. Check again.</span>\"))\n",
    "                step5Complete = False\n",
    "        \n",
    "        elif (result.returncode == 2):\n",
    "            output5.clear_output()\n",
    "            with output5:\n",
    "                display(HTML(\"<span style='color: red;'>An error occurred when checking this step. Please contact your professor or TA.</span>\"))\n",
    "                step5Complete = False\n",
    "\n",
    "def check_step_5(b):\n",
    "    if (warn_student()):\n",
    "        output5.clear_output()\n",
    "        with output5:\n",
    "            display(HTML(\"<span style='color: red;'><strong>WARNING:</strong> You have an autosaved lab that you have not yet loaded. If you would like to load your progress, click \\\"Load Lab\\\" at the top of the notebook. Otherwise, clicking on this button again will assume you're restarting the lab!</span>\"))\n",
    "    else:\n",
    "        step_5()\n",
    "\n",
    "        # Auto-save.\n",
    "        if (not runAllSteps):\n",
    "            trigger_save(\"5\", result.returncode, userInput5.value)\n",
    "    \n",
    "# Retrieve the student's response. First, create a loading spinner, since this could take a second or two.\n",
    "loading5 = widgets.Output()\n",
    "display(loading5)\n",
    "with loading5:\n",
    "    loading5.clear_output()\n",
    "    display(HTML(\"<span>Loading your saved response... <img width='12px' height='12px' style='margin-left: 3px;' src='resources/loading.gif'></span>\"))\n",
    "\n",
    "# Creating a text area.\n",
    "userInput5 = widgets.Text(\n",
    "    placeholder='Type the victim\\'s credit card number here',\n",
    "    description='Number:',\n",
    "    layout=widgets.Layout(width='75%')\n",
    ")\n",
    "\n",
    "# Checking if the step has been answered.\n",
    "result = subprocess.run('ssh -o StrictHostKeyChecking=no -i /home/USERNAME_GOES_HERE/.ssh/merge_key USERNAME_GOES_HERE@server \"cat /home/.checker/responses/step_5_answer.txt 2> /dev/null\"', capture_output=True, text=True, shell=True)\n",
    "userInput5.value = result.stdout\n",
    "\n",
    "# After the student's response was loaded, clear the output.\n",
    "loading5.clear_output()\n",
    "\n",
    "# Creating the button.\n",
    "button = widgets.Button(description=\"Check Work\")\n",
    "\n",
    "# Creating an output area.\n",
    "output5 = widgets.Output()\n",
    "\n",
    "# Run the command on click.\n",
    "button.on_click(check_step_5)\n",
    "\n",
    "# Display the output.\n",
    "display(userInput5, button, output5)"
   ]
  },
  {
   "cell_type": "markdown",
   "metadata": {
    "deletable": false,
    "editable": false,
    "slideshow": {
     "slide_type": ""
    },
    "tags": []
   },
   "source": [
    "## <strong>Topic 3: PHP Sessions and ```document.cookie```</strong>\n",
    "\n",
    "#### <strong>PHP Sessions</strong>\n",
    "PHP is a server-side language used in web development. PHP handles back-end development tasks such as executing SQL queries for databases, managing transactions, saving data to storage containers, and much more. For this lab, we are focusing on some important concepts for handling user information: sessions and cookies.\n",
    "\n",
    "<strong>Sessions</strong> are stored on a server and expire when the browser is closed. Sessions are generally safer and store data for a shorter duration. However, they do not make you invulnerable, as you will discover later in the lab.\n",
    "\n",
    "<strong>Cookies</strong> are stored on the client's browser and have a set expiration time. Cookies are stored as text files, which the browser retrieves when a website requests them. You can view where your browser stores cookies and examine their contents. A hacker can retrieve cookies in the same way that you can.\n",
    "\n",
    "<em>Side note:</em> The European Union requires websites to be GDPR compliant if they use cookies, which is one of the strictest privacy and security laws in the world. If you are interested in reading more about cookies and the GDPR regulation, you can read more <a href=\"https://gdpr.eu/cookies/\">here</a>. \n",
    "\n",
    "It should be clear that cookies are not intended for storing private data. A safer alternative to cookies is sessions. However, cookies can still be used for storing data that is meant to be public.\n",
    "\n",
    "Sessions and cookies are superglobal variables in PHP, meaning they are accessible across all PHP files on a server. However, a PHP file must \"activate\" a session by using ```session_start()```. They are accessed using ```$_SESSION[\"key\"] = value;``` or ```$_COOKIE[\"key\"] = value;```. Before using sessions in PHP, you must call ```session_start()```. Sessions can be manually ended by using ```session_destroy()```.\n",
    "\n",
    "#### <strong>```document.cookie```</strong>\n",
    "The ```document.cookie``` property is a <strong>JavaScript</strong> property. JavaScript is a language used in browsers, which means you can debug websites that use JavaScript directly from your browser. Each browser is different, but generally, you can access the console by following these steps:\n",
    "\n",
    "- Right-click on a webpage (this does not work on all webpages, such as JupyterLab).\n",
    "- Navigate to \"Inspect Element\" or \"Inspect\".\n",
    "- Select the \"Console\" tab.\n",
    "\n",
    "Since ```document.cookie``` is a property, you can simply type ```document.cookie``` into the console to view its value.\n",
    "\n",
    "Whenever PHP sets a session variable, the user is assigned a value called ```PHPSESSID```. Although session variables are stored on the server, the session ID must be stored in the browser, typically as a cookie named ```PHPSESSID```. When a request is made to the server, it uses this session ID to identify the corresponding session, retrieve the associated variables, and make them available to that user. These session variables cannot be accessed by anyone else unless they have your session ID."
   ]
  },
  {
   "cell_type": "markdown",
   "metadata": {
    "deletable": false,
    "editable": false,
    "slideshow": {
     "slide_type": ""
    },
    "tags": []
   },
   "source": [
    "### Step 6: Finding ```document.cookie```\n",
    "\n",
    "When you access ```xss_practice.php``` in your browser, try typing ```document.cookie``` within the Console of your browser. Why is ```PHPSESSID``` missing? \n",
    "\n",
    "Remember to read about PHP sessions before answering this question."
   ]
  },
  {
   "cell_type": "code",
   "execution_count": 9,
   "metadata": {
    "deletable": false,
    "jupyter": {
     "source_hidden": true
    },
    "slideshow": {
     "slide_type": ""
    },
    "tags": []
   },
   "outputs": [
    {
     "data": {
      "application/vnd.jupyter.widget-view+json": {
       "model_id": "e175fdd66a074ac599773ade6f188f5e",
       "version_major": 2,
       "version_minor": 0
      },
      "text/plain": [
       "Output()"
      ]
     },
     "metadata": {},
     "output_type": "display_data"
    },
    {
     "data": {
      "application/vnd.jupyter.widget-view+json": {
       "model_id": "ca6d199f8a2d4682aa2dd86c549c757a",
       "version_major": 2,
       "version_minor": 0
      },
      "text/plain": [
       "Textarea(value='Hello!', description='Response:', layout=Layout(height='150px', margin='10px', width='75%'), p…"
      ]
     },
     "metadata": {},
     "output_type": "display_data"
    },
    {
     "data": {
      "application/vnd.jupyter.widget-view+json": {
       "model_id": "2d55fa75675c490ba9d552fda7ca4944",
       "version_major": 2,
       "version_minor": 0
      },
      "text/plain": [
       "Button(description='Save Response', style=ButtonStyle())"
      ]
     },
     "metadata": {},
     "output_type": "display_data"
    },
    {
     "data": {
      "application/vnd.jupyter.widget-view+json": {
       "model_id": "cfa3ebb1a326465ea421322b4864a0e7",
       "version_major": 2,
       "version_minor": 0
      },
      "text/plain": [
       "Output()"
      ]
     },
     "metadata": {},
     "output_type": "display_data"
    }
   ],
   "source": [
    "# Type your response below.\n",
    "step6Complete = False\n",
    "\n",
    "# Function to save the short answer.\n",
    "def step_6():\n",
    "    # Important variables that must be accessed outside of this function.\n",
    "    global step6Complete, result\n",
    "\n",
    "    # Loading, in case saving is slow.\n",
    "    with output6:\n",
    "        output6.clear_output()\n",
    "        display(HTML(\"<span><img width='12px' height='12px' style='margin-left: 3px;' src='resources/loading.gif'></span>\"))\n",
    "\n",
    "    if (userInput6.value == \"\"):\n",
    "        output6.clear_output()\n",
    "        with output6:\n",
    "            display(HTML(\"<span style='color: red;'>You did not type a response.</span>\"))\n",
    "            step6Complete = False\n",
    "\n",
    "    else:\n",
    "        # Replace backticks with single quotes in the input.\n",
    "        safe_value = userInput6.value.replace(\"`\", \"'\")\n",
    "        \n",
    "        # Build the SSH command to write to the file using 'cat' reading from stdin.\n",
    "        ssh_command = [\n",
    "            \"ssh\",\n",
    "            \"-i\", \"/home/USERNAME_GOES_HERE/.ssh/merge_key\",\n",
    "            \"USERNAME_GOES_HERE@server\",\n",
    "            \"cat > /home/.checker/responses/step_6_answer.txt\"\n",
    "        ]\n",
    "        \n",
    "        # Pass safe_value as input so that no shell quoting is needed.\n",
    "        result = subprocess.run(ssh_command, input=safe_value, text=True)\n",
    "        \n",
    "        if result.returncode == 1:\n",
    "            output6.clear_output()\n",
    "            with output6:\n",
    "                display(HTML(\"<span style='color: red;'>There was an error saving your response.</span>\"))\n",
    "                step6Complete = False\n",
    "                \n",
    "        elif result.returncode == 0:\n",
    "            output6.clear_output()\n",
    "            with output6:\n",
    "                display(HTML(\"<span style='color: green;'>Your response was saved.</span>\"))\n",
    "                step6Complete = True\n",
    "\n",
    "def check_step_6(b):\n",
    "    if warn_student():\n",
    "        output6.clear_output()\n",
    "        with output6:\n",
    "            display(HTML(\"<span style='color: red;'><strong>WARNING:</strong> You have an autosaved lab that you have not yet loaded. If you would like to load your progress, click \\\"Load Lab\\\" at the top of the notebook. Otherwise, clicking on this button again will assume you're restarting the lab!</span>\"))\n",
    "    else:\n",
    "        step_6()\n",
    "        if not runAllSteps:\n",
    "            safe_value = userInput6.value.replace(\"`\", \"'\")\n",
    "            user_input_quoted = shlex.quote(safe_value)\n",
    "            trigger_save(\"6\", 1 if result.returncode == 0 else 0, user_input_quoted)\n",
    "\n",
    "# Retrieve the student's response. First, create a loading spinner, since this could take a second or two.\n",
    "loading6 = widgets.Output()\n",
    "display(loading6)\n",
    "with loading6:\n",
    "    loading6.clear_output()\n",
    "    display(HTML(\"<span>Loading your saved response... <img width='12px' height='12px' style='margin-left: 3px;' src='resources/loading.gif'></span>\"))\n",
    "\n",
    "# Creating a text area. We will need to assign output of process to the value of this input.\n",
    "userInput6 = widgets.Textarea(\n",
    "    placeholder='Type your response here',\n",
    "    description='Response:',\n",
    "    layout=widgets.Layout(width='75%', height='150px', margin='10px')\n",
    ")\n",
    "\n",
    "def on_input_change(change):\n",
    "    # Replace backticks with single quotes in the new value.\n",
    "    new_val = change['new'].replace(\"`\", \"'\")\n",
    "    # Only update if there's a change (to avoid unnecessary recursion).\n",
    "    if new_val != change['new']:\n",
    "        userInput6.value = new_val\n",
    "\n",
    "userInput6.observe(on_input_change, names='value')\n",
    "\n",
    "# Checking if the step has been answered.\n",
    "result = subprocess.run('ssh -o StrictHostKeyChecking=no -i /home/USERNAME_GOES_HERE/.ssh/merge_key USERNAME_GOES_HERE@server \"cat /home/.checker/responses/step_6_answer.txt 2> /dev/null\"', capture_output=True, text=True, shell=True)\n",
    "# Output creates a newline. Remove it.\n",
    "userInput6.value = result.stdout[:-1]\n",
    "\n",
    "# After the student's response was loaded, clear the output.\n",
    "loading6.clear_output()\n",
    "\n",
    "# Creating the feedback output area.\n",
    "output6 = widgets.Output()\n",
    "\n",
    "# Creating the button.\n",
    "button = widgets.Button(description=\"Save Response\")\n",
    "\n",
    "# Run the command on click.\n",
    "button.on_click(check_step_6)\n",
    "\n",
    "# Display the output.\n",
    "display(userInput6, button, output6)"
   ]
  },
  {
   "cell_type": "markdown",
   "metadata": {
    "deletable": false,
    "editable": false,
    "slideshow": {
     "slide_type": ""
    },
    "tags": []
   },
   "source": [
    "## <strong>Topic 4: A Large-Scale Application of Cross-Site Scripting</strong>\n",
    "\n",
    "The developers of the notes website has now moved to another project called Sloth's Unlimited. After learning about the security vulnerability on their previous website, they decided to design a new website with more added security. In hopes of avoiding another security exploit, they asked you to try breaking the website with your knowledge in cross-site scripting.\n",
    "\n",
    "<strong>You are strongly encouraged to read about the outline of the website before continuing to the first step in this topic.</strong>\n",
    "\n",
    "There are three nodes in this lab: ```client```, ```server```, and ```teshwan```.\n",
    "\n",
    "- The ```server``` node hosts the website. This is the node where all of the PHP files are stored, and this is the node that you will be using for the rest of the lab.\n",
    "- The ```client``` node is where your notebook is accessing the website from. The ```client``` is the root user of the website, which holds the cookie that you wish to steal.\n",
    "- The ```teshwan``` node is Lord Teshwan's computer. Teshwan is a developer for Sloth's Unlimited. Teshwan's computer is infected with a file called ```steal.php```, which he doesn't know about. However, you know about this infected file. This file accepts a cookie for a GET parameter. Recall from Topic 1 that GET parameters are variables that are accessed from the URL of the website.\n",
    "\n",
    "These are the following IP addresses that will be important to know for the lab:\n",
    "\n",
    "| Nodes:        | ```client```   | ```server```   | ```teshwan```  |\n",
    "|---------------|----------------|----------------|----------------|\n",
    "| IP Addresses: | ```10.0.1.1``` | ```10.0.1.2``` | ```10.0.1.3``` |\n",
    "\n",
    "On the website, you will need to create an account to sign into the forum. Once an account is made, you may begin posting. You may choose whatever topic that you would like to post on, or create your own topic.\n",
    "\n",
    "```client```, ```server```, and ```teshwan``` are on the same network, which means that you can call requests to access each other's web files by using cURL requests (not required for the lab). This is the topology of the XSS lab:\n",
    "\n",
    "<figure><center><img src=\"resources/xss/topology.png\" style=\"width: 25%; height: 25%;\"></img></center></figure>\n",
    "\n",
    "<u>Here is the ultimate goal of the following few steps:</u> You are going to write a payload script that ```client``` will access whenever you click \"Check Payload\". Since ```steal.php``` is a web file that's stored in ```/var/www/html``` on ```teshwan```'s node, you will need to write a payload that will redirect ```client``` to ```http://10.0.1.3/steal.php?cookie=COOKIE_VALUE```. This is Teshwan's IP address, which is accessible by ```client```.\n",
    "\n",
    "<u>Here are some important considerations when writing your payload</u>:\n",
    "- You only need to access the ```server``` node for the remainder of the lab, like you have been doing already.\n",
    "  - If you haven't already, you will need to port forward from the ```server``` node. Do not port forward from other nodes or a ```xss``` node. An ```xss``` node doesn't exist.\n",
    "- Using an ```POST``` request will not work. It must be ```GET```. More on this is below.\n",
    "- The ```COOKIE_VALUE``` is the entirety of ```document.cookie``` in JavaScript. You are not required to split the variable or use regular expressions.\n",
    "\n",
    "<strong>Why will a POST request not work?</strong> Secure websites use CORS, which stand for \"Cross-Origin Resource Sharing\". CORS is a security feature built into a browser that will prevent images, videos, files, and more, from being shared across different websites. CORS prevents random websites from using your API to intiate POST requests without being on your website. This means making POST requests to other domains (or IP addresses, in this case) are blocked. The reason why a POST request worked in the first section is because all POST requests were made within the same domain of the website. Since there are three different IP addresses, with an infected payload running on a different IP from the ```server```, CORS will prevent ```client``` from calling something on ```teshwan```'s IP address. Instead, we must redirect ```client``` to ```teshwan```'s IP address and force ```client``` to call a malicious script."
   ]
  },
  {
   "cell_type": "markdown",
   "metadata": {
    "deletable": false,
    "editable": false,
    "slideshow": {
     "slide_type": ""
    },
    "tags": []
   },
   "source": [
    "### Step 7: Testing Your Exploit\n",
    "\n",
    "Navigate to ```localhost:port/index.php``` to access Sloth's Unlimited. Once again, <strong>port forwarding is required</strong> in order to access the website from your browser. ```port``` is a value that you chose in your SSH statement.\n",
    "\n",
    "Currently, there is not a sanitization function applied to the website, making the entire forum prone to cross-site scripting. When a message gets created, this is what the message gets called through:\n",
    "\n",
    "```\n",
    "function sanitize($string) {\n",
    "  return $string;\n",
    "}\n",
    "```\n",
    "\n",
    "This function is stored in ```/var/www/html/sanitize.php```. You do not need to open this file quite yet.\n",
    "\n",
    "Type a payload into the website that causes ```client``` to call ```teshwan```'s ```steal.php``` file. After you have a working payload, you should see the ```Eagles``` category appear on the home page of Sloth's Unlimited. \n",
    "\n",
    "<span style=\"color: orange\"><strong><img src=\"resources/idea.png\" style=\"width: 12px\"> What is \"Reset Entire Forum\"?</strong></span>\n",
    "\n",
    "This button will reset the forum back to its original state so that you may test a new payload. When you're posting infected payloads, these payloads will stay unless you delete them. This button will be useful for testing different payloads, and should be used between each step so that you can test your exploits easier.\n",
    "\n",
    "<span style=\"color: orange\"><strong><img src=\"resources/idea.png\" style=\"width: 12px\"> What is \"Use Previous Work\"?</strong></span>\n",
    "\n",
    "Like from Topic 1, resetting the forum will erase your payloads. Whenever your work is tested, its response will be automatically saved so that you can pass this step later. When checking \"Use Previous Work\", your previous response to the step will be used and see if you previously passed it.\n",
    "\n",
    "<span style=\"color: green\"><strong><img src=\"resources/idea.png\" style=\"width: 12px\"> Tips:</strong></span>\n",
    "- From the first topic, you learned how to use ```fetch``` to send a POST request. However, this approach is simply finding a way to make ```client``` call ```http://10.0.1.3/steal.php?cookie=COOKIE_VALUE```, where ```COOKIE_VALUE``` is the value of ```document.cookie```. The ```10.0.1.3``` IP address is Lord Teshwan's computer, which the ```client``` node has access to.\n",
    "  - You may either find a way to call a GET request with ```fetch```. Or, even easier, use JavaScript to redirect the ```client``` onto another page.\n",
    "  - A redirect in JavaScript is done by setting ```window.location.href``` equal to the URL that you're redirecting the user to.\n",
    "- Send the entire ```PHPSESSID=XXXX``` value to ```COOKIE_VALUE```. Do not try to send only the value of PHPSESSID itself. No need to use string manipulation for your payload.\n",
    "- Like before, a ```<script>``` block will not appear on your website. However, when YOU access the infected page, it will not execute your payload. ```10.0.1.3``` is not an accessible IP address on your computer, so your web browser is not redirecting you to this domain. It's only accessible through ```client``` (this notebook) and the ```server```. This is ```teshwan```'s IP address."
   ]
  },
  {
   "cell_type": "code",
   "execution_count": 10,
   "metadata": {
    "deletable": false,
    "editable": false,
    "jupyter": {
     "source_hidden": true
    },
    "slideshow": {
     "slide_type": ""
    },
    "tags": []
   },
   "outputs": [
    {
     "data": {
      "application/vnd.jupyter.widget-view+json": {
       "model_id": "94f65a9015ae4b38a749e3fbbf49925e",
       "version_major": 2,
       "version_minor": 0
      },
      "text/plain": [
       "Button(description='Check Payload', style=ButtonStyle())"
      ]
     },
     "metadata": {},
     "output_type": "display_data"
    },
    {
     "data": {
      "application/vnd.jupyter.widget-view+json": {
       "model_id": "d6ac228a07ad42af9c7d5bc180f18e0f",
       "version_major": 2,
       "version_minor": 0
      },
      "text/plain": [
       "Button(description='Reset Entire Forum', style=ButtonStyle())"
      ]
     },
     "metadata": {},
     "output_type": "display_data"
    },
    {
     "data": {
      "application/vnd.jupyter.widget-view+json": {
       "model_id": "a4cb9e879fa54fdfbe4ee9160ea4f649",
       "version_major": 2,
       "version_minor": 0
      },
      "text/plain": [
       "Checkbox(value=False, description='Use Previous Work', indent=False)"
      ]
     },
     "metadata": {},
     "output_type": "display_data"
    },
    {
     "data": {
      "application/vnd.jupyter.widget-view+json": {
       "model_id": "ec8f04e0017042e681855795f1ffb7fd",
       "version_major": 2,
       "version_minor": 0
      },
      "text/plain": [
       "Output()"
      ]
     },
     "metadata": {},
     "output_type": "display_data"
    }
   ],
   "source": [
    "# Click the button below to check your work.\n",
    "step7Complete = False\n",
    "\n",
    "# Function to check the permissions.\n",
    "def step_7():\n",
    "    # Important variables that must be accessed outside of this function.\n",
    "    global step7Complete, result\n",
    "\n",
    "    with output7:\n",
    "        output7.clear_output()\n",
    "        if (prev_work_7.value == 0):\n",
    "            display(HTML(\"<span>Accessing all topics on your forum. Please wait. This will take more time than the previous topics... <img width='12px' height='12px' style='margin-left: 3px;' src='resources/loading.gif'></span>\"))\n",
    "\n",
    "        elif (prev_work_7.value == 1):\n",
    "            display(HTML(\"<span>Checking your previous response. Please wait... <img width='12px' height='12px' style='margin-left: 3px;' src='resources/loading.gif'></span>\"))\n",
    "    \n",
    "    # Before checking the step, see what the value of \"Use Previous Work\" is.\n",
    "    check_prev_work = prev_work_7.value\n",
    "\n",
    "    # This will be appended to the result subprocess. If check_prev_work is True, then just add one.\n",
    "    prev_work = 0\n",
    "    \n",
    "    if (check_prev_work or runAllSteps):\n",
    "        prev_work += 1\n",
    "\n",
    "    # This subprocess statement is a little different. Need to initiate environment variables at the same time when running the command.\n",
    "    result = subprocess.run('ssh -i /home/USERNAME_GOES_HERE/.ssh/merge_key USERNAME_GOES_HERE@server \"/home/.checker/section_4.py 7 ' + str(prev_work) + '\"', shell=True, capture_output=True, text=True)\n",
    "    \n",
    "    if (result.returncode == 1):\n",
    "        output7.clear_output()\n",
    "        with output7:\n",
    "            display(HTML(\"<span style='color: green;'>Success! The Eagles page was automatically created. Stealing the admin's cookie was successful.</span>\"))\n",
    "            step7Complete = True\n",
    "\n",
    "            # Automatically check the checkbox so that students don't accidentally run this step later and lose their progress.\n",
    "            prev_work_7.value = True\n",
    "\n",
    "    elif (result.returncode == 0):\n",
    "        output7.clear_output()\n",
    "        with output7:\n",
    "            display(HTML(\"<span style='color: red;'>Every page on the forum was accessed, but Eagles wasn't created on the home page. This means that the admin's cookie was not stolen successfully. Try again.</span>\"))\n",
    "            step7Complete = False\n",
    "    \n",
    "    elif (result.returncode == 2):\n",
    "        output7.clear_output()\n",
    "        with output7:\n",
    "            display(HTML(\"<span style='color: red;'>An error occurred when checking this step. Please contact your professor or TA.</span>\"))\n",
    "            step7Complete = False\n",
    "\n",
    "    elif (result.returncode == 3):\n",
    "        output7.clear_output()\n",
    "        with output7:\n",
    "            display(HTML(\"<span style='color: red;'>It appears this step wasn't attempted. Please run this step without \\\"Use Previous Work\\\" checked.</span>\"))\n",
    "            step7Complete = False\n",
    "\n",
    "def check_step_7(b):\n",
    "    if (warn_student()):\n",
    "        output7.clear_output()\n",
    "        with output7:\n",
    "            display(HTML(\"<span style='color: red;'><strong>WARNING:</strong> You have an autosaved lab that you have not yet loaded. If you would like to load your progress, click \\\"Load Lab\\\" at the top of the notebook. Otherwise, clicking on this button again will assume you're restarting the lab!</span>\"))\n",
    "    else:\n",
    "        step_7()\n",
    "\n",
    "        # Auto-save.\n",
    "        if (not runAllSteps):\n",
    "            trigger_save(\"7\", result.returncode)\n",
    "\n",
    "def reset_forum(b):\n",
    "    subprocess.run(\"ssh -i /home/USERNAME_GOES_HERE/.ssh/merge_key USERNAME_GOES_HERE@server /home/.checker/reset.sh\", shell=True)\n",
    "    with output7:\n",
    "        output7.clear_output()\n",
    "        display(HTML(\"<span style='color: black;'>Your forum was reset. All new messages have been deleted.</span>\"))\n",
    "\n",
    "    # Auto-save.\n",
    "    if (not runAllSteps):\n",
    "        trigger_save(\"7\", result.returncode)\n",
    "\n",
    "# Creating the buttons.\n",
    "button = widgets.Button(description=\"Check Payload\")\n",
    "reset_button = widgets.Button(description=\"Reset Entire Forum\")\n",
    "\n",
    "# Creating a checkbox for \"Use Previous Work\".\n",
    "prev_work_7 = widgets.Checkbox(value=False,\n",
    "    description='Use Previous Work',\n",
    "    disabled=False,\n",
    "    indent=False)\n",
    "\n",
    "# Creating an output area.\n",
    "output7 = widgets.Output()\n",
    "\n",
    "# Run the commands on click.\n",
    "button.on_click(check_step_7)\n",
    "reset_button.on_click(reset_forum)\n",
    "\n",
    "# Display the output.\n",
    "display(button, reset_button, prev_work_7, output7)"
   ]
  },
  {
   "cell_type": "markdown",
   "metadata": {
    "deletable": false,
    "editable": false,
    "slideshow": {
     "slide_type": ""
    },
    "tags": []
   },
   "source": [
    "### Step 8: Breaking The First Sanitization Function\n",
    "\n",
    "The developers of Sloth's Unlimited have decided to use a sanitization function for all posts that are made to their message board. This is the sanitization function that they have decided to use:\n",
    "\n",
    "```\n",
    "function sanitize($string) {\n",
    "  return preg_replace(\"/<\\/?script[^>]*>/\", \"\", $string);\n",
    "}\n",
    "```\n",
    "\n",
    "This function will take a single occurrence of ```<script>``` and ```</script>```, then replace it with an empty string.\n",
    "\n",
    "Adjust your payload so that it will break this sanitization function. Click \"Check Payload\" once you have submitted a payload and would like to test it.\n",
    "\n",
    "<span style=\"color: orange\"><strong><img src=\"resources/idea.png\" style=\"width: 12px\"> Note:</strong></span> After completing the previous step, the Eagles category was created and your previous payload is already on the website. To start with a fresh forum, click \"Reset Entire Forum\" before typing in a new payload. The Eagles category will be wiped upon testing, but your previous payload is patched in this step. It would be best to reset the website as you complete each step."
   ]
  },
  {
   "cell_type": "code",
   "execution_count": 11,
   "metadata": {
    "deletable": false,
    "editable": false,
    "jupyter": {
     "source_hidden": true
    },
    "slideshow": {
     "slide_type": ""
    },
    "tags": []
   },
   "outputs": [
    {
     "data": {
      "application/vnd.jupyter.widget-view+json": {
       "model_id": "40cb35c527524482830d4e32eb7517e9",
       "version_major": 2,
       "version_minor": 0
      },
      "text/plain": [
       "Button(description='Check Payload', style=ButtonStyle())"
      ]
     },
     "metadata": {},
     "output_type": "display_data"
    },
    {
     "data": {
      "application/vnd.jupyter.widget-view+json": {
       "model_id": "74337b60bc8a4867a8789cc39d089501",
       "version_major": 2,
       "version_minor": 0
      },
      "text/plain": [
       "Button(description='Reset Entire Forum', style=ButtonStyle())"
      ]
     },
     "metadata": {},
     "output_type": "display_data"
    },
    {
     "data": {
      "application/vnd.jupyter.widget-view+json": {
       "model_id": "1053e97fe7c049a8ac6335b009566a3a",
       "version_major": 2,
       "version_minor": 0
      },
      "text/plain": [
       "Checkbox(value=False, description='Use Previous Work', indent=False)"
      ]
     },
     "metadata": {},
     "output_type": "display_data"
    },
    {
     "data": {
      "application/vnd.jupyter.widget-view+json": {
       "model_id": "13ea19d4b1a34940abdf52eb3b018fe7",
       "version_major": 2,
       "version_minor": 0
      },
      "text/plain": [
       "Output()"
      ]
     },
     "metadata": {},
     "output_type": "display_data"
    }
   ],
   "source": [
    "# Click the button below to check your work.\n",
    "step8Complete = False\n",
    "\n",
    "# Function to check the permissions.\n",
    "def step_8():\n",
    "    # Important variables that must be accessed outside of this function.\n",
    "    global step8Complete, result\n",
    "\n",
    "    with output8:\n",
    "        output8.clear_output()\n",
    "        if (prev_work_8.value == 0):\n",
    "            display(HTML(\"<span>Accessing all topics on your forum. Please wait. This will take more time than the previous topics... <img width='12px' height='12px' style='margin-left: 3px;' src='resources/loading.gif'></span>\"))\n",
    "\n",
    "        elif (prev_work_8.value == 1):\n",
    "            display(HTML(\"<span>Checking your previous response. Please wait... <img width='12px' height='12px' style='margin-left: 3px;' src='resources/loading.gif'></span>\"))\n",
    "    \n",
    "    # Before checking the step, see what the value of \"Use Previous Work\" is.\n",
    "    check_prev_work = prev_work_8.value\n",
    "\n",
    "    # This will be appended to the result subprocess. If check_prev_work is True, then just add one.\n",
    "    prev_work = 0\n",
    "    \n",
    "    if (check_prev_work or runAllSteps):\n",
    "        prev_work += 1\n",
    "\n",
    "    # This subprocess statement is a little different. Need to initiate environment variables at the same time when running the command.\n",
    "    result = subprocess.run('ssh -i /home/USERNAME_GOES_HERE/.ssh/merge_key USERNAME_GOES_HERE@server \"/home/.checker/section_4.py 8 ' + str(prev_work) + '\"', shell=True, capture_output=True, text=True)\n",
    "    \n",
    "    if (result.returncode == 1):\n",
    "        output8.clear_output()\n",
    "        with output8:\n",
    "            display(HTML(\"<span style='color: green;'>Success! The Eagles page was automatically created. Stealing the admin's cookie was successful.</span>\"))\n",
    "            step8Complete = True\n",
    "\n",
    "            # Automatically check the checkbox so that students don't accidentally run this step later and lose their progress.\n",
    "            prev_work_8.value = True\n",
    "\n",
    "    elif (result.returncode == 0):\n",
    "        output8.clear_output()\n",
    "        with output8:\n",
    "            display(HTML(\"<span style='color: red;'>Every page on the forum was accessed, but Eagles wasn't created on the home page. This means that the admin's cookie was not stolen successfully. Try again.</span>\"))\n",
    "            step8Complete = False\n",
    "    \n",
    "    elif (result.returncode == 2):\n",
    "        output8.clear_output()\n",
    "        with output8:\n",
    "            display(HTML(\"<span style='color: red;'>An error occurred when checking this step. Please contact your professor or TA.</span>\"))\n",
    "            step8Complete = False\n",
    "\n",
    "    elif (result.returncode == 3):\n",
    "        output8.clear_output()\n",
    "        with output8:\n",
    "            display(HTML(\"<span style='color: red;'>It appears this step wasn't attempted. Please run this step without \\\"Use Previous Work\\\" checked.</span>\"))\n",
    "            step8Complete = False\n",
    "\n",
    "def check_step_8(b):\n",
    "    if (warn_student()):\n",
    "        output8.clear_output()\n",
    "        with output8:\n",
    "            display(HTML(\"<span style='color: red;'><strong>WARNING:</strong> You have an autosaved lab that you have not yet loaded. If you would like to load your progress, click \\\"Load Lab\\\" at the top of the notebook. Otherwise, clicking on this button again will assume you're restarting the lab!</span>\"))\n",
    "    else:\n",
    "        step_8()\n",
    "\n",
    "        # Auto-save.\n",
    "        if (not runAllSteps):\n",
    "            trigger_save(\"8\", result.returncode)\n",
    "\n",
    "def reset_forum(b):\n",
    "    subprocess.run(\"ssh -i /home/USERNAME_GOES_HERE/.ssh/merge_key USERNAME_GOES_HERE@server /home/.checker/reset.sh\", shell=True)\n",
    "    with output8:\n",
    "        output8.clear_output()\n",
    "        display(HTML(\"<span style='color: black;'>Your forum was reset. All new messages have been deleted.</span>\"))\n",
    "\n",
    "    # Auto-save.\n",
    "    if (not runAllSteps):\n",
    "        trigger_save(\"8\", result.returncode)\n",
    "\n",
    "# Creating the buttons.\n",
    "button = widgets.Button(description=\"Check Payload\")\n",
    "reset_button = widgets.Button(description=\"Reset Entire Forum\")\n",
    "\n",
    "# Creating a checkbox for \"Use Previous Work\".\n",
    "prev_work_8 = widgets.Checkbox(value=False,\n",
    "    description='Use Previous Work',\n",
    "    disabled=False,\n",
    "    indent=False)\n",
    "\n",
    "# Creating an output area.\n",
    "output8 = widgets.Output()\n",
    "\n",
    "# Run the commands on click.\n",
    "button.on_click(check_step_8)\n",
    "reset_button.on_click(reset_forum)\n",
    "\n",
    "# Display the output.\n",
    "display(button, reset_button, prev_work_8, output8)"
   ]
  },
  {
   "cell_type": "markdown",
   "metadata": {
    "deletable": false,
    "editable": false,
    "slideshow": {
     "slide_type": ""
    },
    "tags": []
   },
   "source": [
    "### Step 9: Breaking The Second Sanitization Function\n",
    "\n",
    "The developers of Sloth's Unlimited created a better sanitization function, in hopes to fix their security. This is the new function that they have written:\n",
    "\n",
    "```\n",
    "function sanitize($string) {\n",
    "  $new = $string;\n",
    "  do {\n",
    "    $string = $new;\n",
    "    $new = preg_replace(\"/<\\/?script[^>]*>/\", \"\", $string);\n",
    "  } while (strcmp($string, $new) != 0);\n",
    "  return $new;\n",
    "}\n",
    "```\n",
    "\n",
    "This function will take all occurrences of ```<script>``` and replace them with an empty string.\n",
    "\n",
    "Adjust your payload so that it will break this sanitization function. Click \"Check Payload\" once you have submitted a payload and would like to test it."
   ]
  },
  {
   "cell_type": "code",
   "execution_count": 12,
   "metadata": {
    "deletable": false,
    "editable": false,
    "jupyter": {
     "source_hidden": true
    },
    "slideshow": {
     "slide_type": ""
    },
    "tags": []
   },
   "outputs": [
    {
     "data": {
      "application/vnd.jupyter.widget-view+json": {
       "model_id": "43c474db673841f1bf009dc821a6f7be",
       "version_major": 2,
       "version_minor": 0
      },
      "text/plain": [
       "Button(description='Check Payload', style=ButtonStyle())"
      ]
     },
     "metadata": {},
     "output_type": "display_data"
    },
    {
     "data": {
      "application/vnd.jupyter.widget-view+json": {
       "model_id": "21cabd2846284b6d9d1202f43dd4b36a",
       "version_major": 2,
       "version_minor": 0
      },
      "text/plain": [
       "Button(description='Reset Entire Forum', style=ButtonStyle())"
      ]
     },
     "metadata": {},
     "output_type": "display_data"
    },
    {
     "data": {
      "application/vnd.jupyter.widget-view+json": {
       "model_id": "0ffffee7f59e448f97b2a0cf29d07d11",
       "version_major": 2,
       "version_minor": 0
      },
      "text/plain": [
       "Checkbox(value=False, description='Use Previous Work', indent=False)"
      ]
     },
     "metadata": {},
     "output_type": "display_data"
    },
    {
     "data": {
      "application/vnd.jupyter.widget-view+json": {
       "model_id": "28d2807542dc47d68f03eec1929bdd90",
       "version_major": 2,
       "version_minor": 0
      },
      "text/plain": [
       "Output()"
      ]
     },
     "metadata": {},
     "output_type": "display_data"
    }
   ],
   "source": [
    "# Click the button below to check your work.\n",
    "step9Complete = False\n",
    "\n",
    "# Function to check the permissions.\n",
    "def step_9():\n",
    "    # Important variables that must be accessed outside of this function.\n",
    "    global step9Complete, result\n",
    "\n",
    "    with output9:\n",
    "        output9.clear_output()\n",
    "        if (prev_work_9.value == 0):\n",
    "            display(HTML(\"<span>Accessing all topics on your forum. Please wait. This will take more time than the previous topics... <img width='12px' height='12px' style='margin-left: 3px;' src='resources/loading.gif'></span>\"))\n",
    "\n",
    "        elif (prev_work_9.value == 1):\n",
    "            display(HTML(\"<span>Checking your previous response. Please wait... <img width='12px' height='12px' style='margin-left: 3px;' src='resources/loading.gif'></span>\"))\n",
    "    \n",
    "    # Before checking the step, see what the value of \"Use Previous Work\" is.\n",
    "    check_prev_work = prev_work_9.value\n",
    "\n",
    "    # This will be appended to the result subprocess. If check_prev_work is True, then just add one.\n",
    "    prev_work = 0\n",
    "    \n",
    "    if (check_prev_work or runAllSteps):\n",
    "        prev_work += 1\n",
    "\n",
    "    # This subprocess statement is a little different. Need to initiate environment variables at the same time when running the command.\n",
    "    result = subprocess.run('ssh -i /home/USERNAME_GOES_HERE/.ssh/merge_key USERNAME_GOES_HERE@server \"export PATH=/home/USERNAME_GOES_HERE/.nvm/versions/node/v18.20.4/bin:$PATH; /home/.checker/section_4.py 9 ' + str(prev_work) + '\"', shell=True, capture_output=True, text=True)\n",
    "    \n",
    "    if (result.returncode == 1):\n",
    "        output9.clear_output()\n",
    "        with output9:\n",
    "            display(HTML(\"<span style='color: green;'>Success! The Eagles page was automatically created. Stealing the admin's cookie was successful.</span>\"))\n",
    "            step9Complete = True\n",
    "\n",
    "            # Automatically check the checkbox so that students don't accidentally run this step later and lose their progress.\n",
    "            prev_work_9.value = True\n",
    "\n",
    "    elif (result.returncode == 0):\n",
    "        output9.clear_output()\n",
    "        with output9:\n",
    "            display(HTML(\"<span style='color: red;'>Every page on the forum was accessed, but Eagles wasn't created on the home page. This means that the admin's cookie was not stolen successfully. Try again.</span>\"))\n",
    "            step9Complete = False\n",
    "    \n",
    "    elif (result.returncode == 2):\n",
    "        output9.clear_output()\n",
    "        with output9:\n",
    "            display(HTML(\"<span style='color: red;'>An error occurred when checking this step. Please contact your professor or TA.</span>\"))\n",
    "            step9Complete = False\n",
    "\n",
    "    elif (result.returncode == 3):\n",
    "        output9.clear_output()\n",
    "        with output9:\n",
    "            display(HTML(\"<span style='color: red;'>It appears this step wasn't attempted. Please run this step without \\\"Use Previous Work\\\" checked.</span>\"))\n",
    "            step9Complete = False\n",
    "\n",
    "def check_step_9(b):\n",
    "    if (warn_student()):\n",
    "        output9.clear_output()\n",
    "        with output9:\n",
    "            display(HTML(\"<span style='color: red;'><strong>WARNING:</strong> You have an autosaved lab that you have not yet loaded. If you would like to load your progress, click \\\"Load Lab\\\" at the top of the notebook. Otherwise, clicking on this button again will assume you're restarting the lab!</span>\"))\n",
    "    else:\n",
    "        step_9()\n",
    "\n",
    "    # Auto-save.\n",
    "    if (not runAllSteps):\n",
    "        trigger_save(\"9\", result.returncode)\n",
    "\n",
    "def reset_forum(b):\n",
    "    subprocess.run(\"ssh -i /home/USERNAME_GOES_HERE/.ssh/merge_key USERNAME_GOES_HERE@server /home/.checker/reset.sh\", shell=True)\n",
    "    with output9:\n",
    "        output9.clear_output()\n",
    "        display(HTML(\"<span style='color: black;'>Your forum was reset. All new messages have been deleted.</span>\"))\n",
    "\n",
    "        # Auto-save.\n",
    "        if (not runAllSteps):\n",
    "            trigger_save(\"9\", result.returncode)\n",
    "\n",
    "# Creating the buttons.\n",
    "button = widgets.Button(description=\"Check Payload\")\n",
    "reset_button = widgets.Button(description=\"Reset Entire Forum\")\n",
    "\n",
    "# Creating a checkbox for \"Use Previous Work\".\n",
    "prev_work_9 = widgets.Checkbox(value=False,\n",
    "    description='Use Previous Work',\n",
    "    disabled=False,\n",
    "    indent=False)\n",
    "\n",
    "# Creating an output area.\n",
    "output9 = widgets.Output()\n",
    "\n",
    "# Run the commands on click.\n",
    "button.on_click(check_step_9)\n",
    "reset_button.on_click(reset_forum)\n",
    "\n",
    "# Display the output.\n",
    "display(button, reset_button, prev_work_9, output9)"
   ]
  },
  {
   "cell_type": "markdown",
   "metadata": {
    "deletable": false,
    "editable": false,
    "slideshow": {
     "slide_type": ""
    },
    "tags": []
   },
   "source": [
    "### Step 10: Breaking The Third Sanitization Function (OPTIONAL)\n",
    "\n",
    "Finally, the developers have decided to use one more sanitization function in hopes to prevent all vulnerabilities involving the ```<script>``` tag. This is what they are going to use:\n",
    "\n",
    "```\n",
    "function sanitize($string) {\n",
    "  $new = $string;\n",
    "  do {\n",
    "    $string = $new;\n",
    "    $new = preg_replace(\"/<[^>]+?>/\", \"\", $string);\n",
    "  } while (strcmp($string, $new) != 0);\n",
    "  return $new;\n",
    "}\n",
    "```\n",
    "\n",
    "<strong>Since this is an optional step</strong>, you are encouraged to think about what this function does, and how it can be broken. View the differences between this step and the previous step, and try to decipher these differences.\n",
    "\n",
    "Adjust your payload so that it will break this sanitization function.\n",
    "\n",
    "<span style=\"color: green\"><strong><img src=\"resources/idea.png\" style=\"width: 12px\"> Tip:</strong></span> If you're unfamiliar with regular expressions, a very useful website to understand the regex pattern is <a href=\"https://regex101.com\">Regex101</a>. You may access this website, and click on \"Substitution\" on the left side of the website. Copy/Paste the regex pattern from this step, then copy/paste a payload into the Test String field of the website. At the bottom of the site, you can view the output of the substitution, and see what your sanitization function is returning."
   ]
  },
  {
   "cell_type": "code",
   "execution_count": 13,
   "metadata": {
    "deletable": false,
    "editable": false,
    "jupyter": {
     "source_hidden": true
    },
    "slideshow": {
     "slide_type": ""
    },
    "tags": []
   },
   "outputs": [
    {
     "data": {
      "application/vnd.jupyter.widget-view+json": {
       "model_id": "00ec4fea76bb4e02abeaddcfdb16cd74",
       "version_major": 2,
       "version_minor": 0
      },
      "text/plain": [
       "Button(description='Check Payload', style=ButtonStyle())"
      ]
     },
     "metadata": {},
     "output_type": "display_data"
    },
    {
     "data": {
      "application/vnd.jupyter.widget-view+json": {
       "model_id": "f3633a17f58c461a894396002213acc2",
       "version_major": 2,
       "version_minor": 0
      },
      "text/plain": [
       "Button(description='Reset Entire Forum', style=ButtonStyle())"
      ]
     },
     "metadata": {},
     "output_type": "display_data"
    },
    {
     "data": {
      "application/vnd.jupyter.widget-view+json": {
       "model_id": "dc351f7bceba4f60ae26b521da8a3eaf",
       "version_major": 2,
       "version_minor": 0
      },
      "text/plain": [
       "Checkbox(value=False, description='Use Previous Work', indent=False)"
      ]
     },
     "metadata": {},
     "output_type": "display_data"
    },
    {
     "data": {
      "application/vnd.jupyter.widget-view+json": {
       "model_id": "8195354db4f34d8cabdefa266528fd6d",
       "version_major": 2,
       "version_minor": 0
      },
      "text/plain": [
       "Output()"
      ]
     },
     "metadata": {},
     "output_type": "display_data"
    }
   ],
   "source": [
    "# Click the button below to check your work.\n",
    "step10Complete = False\n",
    "\n",
    "# Function to check the permissions.\n",
    "def step_10():\n",
    "    # Important variables that must be accessed outside of this function.\n",
    "    global step10Complete, result\n",
    "\n",
    "    with output10:\n",
    "        output10.clear_output()\n",
    "        if (prev_work_10.value == 0):\n",
    "            display(HTML(\"<span>Accessing all topics on your forum. Please wait. This will take more time than the previous topics... <img width='12px' height='12px' style='margin-left: 3px;' src='resources/loading.gif'></span>\"))\n",
    "\n",
    "        elif (prev_work_10.value == 1):\n",
    "            display(HTML(\"<span>Checking your previous response. Please wait... <img width='12px' height='12px' style='margin-left: 3px;' src='resources/loading.gif'></span>\"))\n",
    "    \n",
    "    # Before checking the step, see what the value of \"Use Previous Work\" is.\n",
    "    check_prev_work = prev_work_10.value\n",
    "\n",
    "    # This will be appended to the result subprocess. If check_prev_work is True, then just add one.\n",
    "    prev_work = 0\n",
    "    \n",
    "    if (check_prev_work or runAllSteps):\n",
    "        prev_work += 1\n",
    "\n",
    "    # This subprocess statement is a little different. Need to initiate environment variables at the same time when running the command.\n",
    "    result = subprocess.run('ssh -i /home/USERNAME_GOES_HERE/.ssh/merge_key USERNAME_GOES_HERE@server \"export PATH=/home/USERNAME_GOES_HERE/.nvm/versions/node/v18.20.4/bin:$PATH; /home/.checker/section_4.py 10 ' + str(prev_work) + '\"', shell=True, capture_output=True, text=True)\n",
    "    \n",
    "    if (result.returncode == 1):\n",
    "        output10.clear_output()\n",
    "        with output10:\n",
    "            display(HTML(\"<span style='color: green;'>Success! The Eagles page was automatically created. Stealing the admin's cookie was successful.</span>\"))\n",
    "            step10Complete = True\n",
    "\n",
    "            # Automatically check the checkbox so that students don't accidentally run this step later and lose their progress.\n",
    "            prev_work_10.value = True\n",
    "\n",
    "    elif (result.returncode == 0):\n",
    "        output10.clear_output()\n",
    "        with output10:\n",
    "            display(HTML(\"<span style='color: red;'>Every page on the forum was accessed, but Eagles wasn't created on the home page. This means that the admin's cookie was not stolen successfully. Try again.</span>\"))\n",
    "            step10Complete = False\n",
    "    \n",
    "    elif (result.returncode == 2):\n",
    "        output10.clear_output()\n",
    "        with output10:\n",
    "            display(HTML(\"<span style='color: red;'>An error occurred when checking this step. Please contact your professor or TA.</span>\"))\n",
    "            step10Complete = False\n",
    "\n",
    "    elif (result.returncode == 3):\n",
    "        output10.clear_output()\n",
    "        with output10:\n",
    "            display(HTML(\"<span style='color: red;'>It appears this step wasn't attempted. Please run this step without \\\"Use Previous Work\\\" checked.</span>\"))\n",
    "            step10Complete = False\n",
    "\n",
    "def check_step_10(b):\n",
    "    if (warn_student()):\n",
    "        output10.clear_output()\n",
    "        with output10:\n",
    "            display(HTML(\"<span style='color: red;'><strong>WARNING:</strong> You have an autosaved lab that you have not yet loaded. If you would like to load your progress, click \\\"Load Lab\\\" at the top of the notebook. Otherwise, clicking on this button again will assume you're restarting the lab!</span>\"))\n",
    "    else:\n",
    "        step_10()\n",
    "\n",
    "        # Auto-save.\n",
    "        if (not runAllSteps):\n",
    "            trigger_save(\"10\", result.returncode)\n",
    "\n",
    "def reset_forum(b):\n",
    "    subprocess.run(\"ssh -i /home/USERNAME_GOES_HERE/.ssh/merge_key USERNAME_GOES_HERE@server /home/.checker/reset.sh\", shell=True)\n",
    "    with output10:\n",
    "        output10.clear_output()\n",
    "        display(HTML(\"<span style='color: black;'>Your forum was reset. All new messages have been deleted.</span>\"))\n",
    "\n",
    "    # Auto-save.\n",
    "    if (not runAllSteps):\n",
    "        trigger_save(\"10\", result.returncode)\n",
    "\n",
    "# Creating the buttons.\n",
    "button = widgets.Button(description=\"Check Payload\")\n",
    "reset_button = widgets.Button(description=\"Reset Entire Forum\")\n",
    "\n",
    "# Creating a checkbox for \"Use Previous Work\".\n",
    "prev_work_10 = widgets.Checkbox(value=False,\n",
    "    description='Use Previous Work',\n",
    "    disabled=False,\n",
    "    indent=False)\n",
    "\n",
    "# Creating an output area.\n",
    "output10 = widgets.Output()\n",
    "\n",
    "# Run the commands on click.\n",
    "button.on_click(check_step_10)\n",
    "reset_button.on_click(reset_forum)\n",
    "\n",
    "# Display the output.\n",
    "display(button, reset_button, prev_work_10, output10)"
   ]
  },
  {
   "cell_type": "markdown",
   "metadata": {
    "deletable": false,
    "editable": false,
    "slideshow": {
     "slide_type": ""
    },
    "tags": []
   },
   "source": [
    "### Step 11: Using PHP's Built-In ```htmlspecialchars()``` Function\n",
    "\n",
    "From the previous few steps, you should be able to observe that creating an effective sanitization function is difficult, and should be avoided. Fortunately, PHP contains a built-in function that is used for escaping dangerous characters, named ```htmlspecialchars()```. This function takes a string for an input, and replaces all unsafe characters with escape characters to prevent cross-site scripting attacks. \n",
    "\n",
    "You may read the ```htmlspecialchars()``` documentation <a href=\"https://www.php.net/manual/en/function.htmlspecialchars.php\">here</a>.\n",
    "\n",
    "<strong>While you worked throughout this topic</strong>, the notebook was automatically uncommenting and commenting out the sanitization functions that you saw above. These functions are all located in a PHP file named ```sanitize.php```, which every message gets sent through as they're rendered on the website.\n",
    "\n",
    "Open ```/var/www/html/sanitize.php```, and go to the bottom of the file. You should view a function that looks like this:\n",
    "\n",
    "```\n",
    "/*** Your Routine Here ***/\n",
    "/**\n",
    "function sanitize($string) {\n",
    "\n",
    "}\n",
    "*/\n",
    "/*************************/\n",
    "```\n",
    "\n",
    "This function is currently commented out. You may leave it either commented or uncommented. The \"Check Payload\" button at the bottom will automatically uncomment it if you forgot to do it yourself. After uncommenting, it should appear as this:\n",
    "\n",
    "```\n",
    "/*** Your Routine Here ***/\n",
    "function sanitize($string) {\n",
    "\n",
    "}\n",
    "/*************************/\n",
    "```\n",
    "\n",
    "Create a sanitization function using ```htmlspecialchars()```. Then, using a payload that you previously used from Steps 7-9, test out your payload, then click \"Check Payload\". The admin will access every page on the forum. If the Eagles category doesn't get created, then you pass the step.\n",
    "\n",
    "<span style=\"color: green\"><strong><img src=\"resources/idea.png\" style=\"width: 12px\"> Tips:</strong></span> \n",
    "- The first function you broke from Step 7 provides a very close function to what you need to write. Consider using this payload, then call ```htmlspecialchars()``` onto the string.\n",
    "- One of your sanitization routines is probably already uncommented. You may leave it uncommented, as <u>the notebook will automatically comment it out for you.</u>"
   ]
  },
  {
   "cell_type": "code",
   "execution_count": 14,
   "metadata": {
    "deletable": false,
    "editable": false,
    "jupyter": {
     "source_hidden": true
    },
    "slideshow": {
     "slide_type": ""
    },
    "tags": []
   },
   "outputs": [
    {
     "data": {
      "application/vnd.jupyter.widget-view+json": {
       "model_id": "a8f0aedbafc04a99a64c02097cb0c6b4",
       "version_major": 2,
       "version_minor": 0
      },
      "text/plain": [
       "Button(description='Check Payload', style=ButtonStyle())"
      ]
     },
     "metadata": {},
     "output_type": "display_data"
    },
    {
     "data": {
      "application/vnd.jupyter.widget-view+json": {
       "model_id": "ee62a2d9f8ed40c5a324e891d24e1aa3",
       "version_major": 2,
       "version_minor": 0
      },
      "text/plain": [
       "Button(description='Reset Entire Forum', style=ButtonStyle())"
      ]
     },
     "metadata": {},
     "output_type": "display_data"
    },
    {
     "data": {
      "application/vnd.jupyter.widget-view+json": {
       "model_id": "50df8332f0e5484cbbfd3fbcc10db191",
       "version_major": 2,
       "version_minor": 0
      },
      "text/plain": [
       "Checkbox(value=False, description='Use Previous Work', indent=False)"
      ]
     },
     "metadata": {},
     "output_type": "display_data"
    },
    {
     "data": {
      "application/vnd.jupyter.widget-view+json": {
       "model_id": "5e6484627459410ba094c0630a5241fa",
       "version_major": 2,
       "version_minor": 0
      },
      "text/plain": [
       "Output()"
      ]
     },
     "metadata": {},
     "output_type": "display_data"
    }
   ],
   "source": [
    "# Click the button below to check your work.\n",
    "step11Complete = False\n",
    "\n",
    "# Function to check the permissions.\n",
    "def step_11():\n",
    "    # Important variables that must be accessed outside of this function.\n",
    "    global step11Complete, result\n",
    "\n",
    "    with output11:\n",
    "        output11.clear_output()\n",
    "        if (prev_work_11.value == 0):\n",
    "            display(HTML(\"<span>Accessing all topics on your forum. Please wait. This will take more time than the previous topics... <img width='12px' height='12px' style='margin-left: 3px;' src='resources/loading.gif'></span>\"))\n",
    "\n",
    "        elif (prev_work_11.value == 1):\n",
    "            display(HTML(\"<span>Checking your previous response. Please wait... <img width='12px' height='12px' style='margin-left: 3px;' src='resources/loading.gif'></span>\"))\n",
    "    \n",
    "    # Before checking the step, see what the value of \"Use Previous Work\" is.\n",
    "    check_prev_work = prev_work_11.value\n",
    "\n",
    "    # This will be appended to the result subprocess. If check_prev_work is True, then just add one.\n",
    "    prev_work = 0\n",
    "    \n",
    "    if (check_prev_work or runAllSteps):\n",
    "        prev_work += 1\n",
    "\n",
    "    # This subprocess statement is a little different. Need to initiate environment variables at the same time when running the command.\n",
    "    result = subprocess.run('ssh -i /home/USERNAME_GOES_HERE/.ssh/merge_key USERNAME_GOES_HERE@server \"export PATH=/home/USERNAME_GOES_HERE/.nvm/versions/node/v18.20.4/bin:$PATH; /home/.checker/section_4.py 11 ' + str(prev_work) + '\"', shell=True, capture_output=True, text=True)\n",
    "    \n",
    "    if (result.returncode == 1):\n",
    "        output11.clear_output()\n",
    "        with output11:\n",
    "            display(HTML(\"<span style='color: green;'>Success! The Eagles page was not created and you used htmlspecialchars.</span>\"))\n",
    "            step11Complete = True\n",
    "    \n",
    "    elif (result.returncode == 2):\n",
    "        output11.clear_output()\n",
    "        with output11:\n",
    "            display(HTML(\"<span style='color: red;'>An error occurred when checking this step. sanitize.php cannot be found. Please contact your professor or TA.</span>\"))\n",
    "            step11Complete = False\n",
    "\n",
    "    elif (result.returncode == 3):\n",
    "        output11.clear_output()\n",
    "        with output11:\n",
    "            display(HTML(\"<span style='color: red;'>It appears this step wasn't attempted. Please run this step without \\\"Use Previous Work\\\" checked.</span>\"))\n",
    "            step11Complete = False\n",
    "\n",
    "    elif (result.returncode == 4):\n",
    "        output11.clear_output()\n",
    "        with output11:\n",
    "            display(HTML(\"<span style='color: red;'>Either Eagles was still created, or you did not attempt to use htmlspecialchars in sanitize.php yet. If you are already using htmlspecialchars in your payload, try resetting the forum, post a previously working payload, then try again.</span>\"))\n",
    "            step11Complete = False\n",
    "\n",
    "    elif (result.returncode == 5):\n",
    "        output11.clear_output()\n",
    "        with output11:\n",
    "            display(HTML(\"<span style='color: red;'>You have a payload, but you did not use htmlspecialchars in your sanitize.php file.</span>\"))\n",
    "            step11Complete = False\n",
    "\n",
    "    elif (result.returncode == 0):\n",
    "        output11.clear_output()\n",
    "        with output11:\n",
    "            display(HTML(\"<span style='color: red;'>You either do not have a payload on the forum, or you did not use htmlspecialchars in sanitize.php. Make sure you post your payload AFTER you create your sanitization function. Try again.</span>\"))\n",
    "            step11Complete = False\n",
    "\n",
    "def check_step_11(b):\n",
    "    if (warn_student()):\n",
    "        output11.clear_output()\n",
    "        with output11:\n",
    "            display(HTML(\"<span style='color: red;'><strong>WARNING:</strong> You have an autosaved lab that you have not yet loaded. If you would like to load your progress, click \\\"Load Lab\\\" at the top of the notebook. Otherwise, clicking on this button again will assume you're restarting the lab!</span>\"))\n",
    "    else:\n",
    "        step_11()\n",
    "\n",
    "        # Auto-save.\n",
    "        if (not runAllSteps):\n",
    "            trigger_save(\"11\", result.returncode)\n",
    "\n",
    "def reset_forum(b):\n",
    "    subprocess.run(\"ssh -i /home/USERNAME_GOES_HERE/.ssh/merge_key USERNAME_GOES_HERE@server /home/.checker/reset.sh\", shell=True)\n",
    "    with output11:\n",
    "        output11.clear_output()\n",
    "        display(HTML(\"<span style='color: black;'>Your forum was reset. All new messages have been deleted.</span>\"))\n",
    "\n",
    "    # Auto-save.\n",
    "    if (not runAllSteps):\n",
    "        trigger_save(\"11\", result.returncode)\n",
    "\n",
    "# Creating the buttons.\n",
    "button = widgets.Button(description=\"Check Payload\")\n",
    "reset_button = widgets.Button(description=\"Reset Entire Forum\")\n",
    "\n",
    "# Creating a checkbox for \"Use Previous Work\".\n",
    "prev_work_11 = widgets.Checkbox(value=False,\n",
    "    description='Use Previous Work',\n",
    "    disabled=False,\n",
    "    indent=False)\n",
    "\n",
    "# Creating an output area.\n",
    "output11 = widgets.Output()\n",
    "\n",
    "# Run the commands on click.\n",
    "button.on_click(check_step_11)\n",
    "reset_button.on_click(reset_forum)\n",
    "\n",
    "# Display the output.\n",
    "display(button, reset_button, prev_work_11, output11)"
   ]
  },
  {
   "cell_type": "markdown",
   "metadata": {
    "deletable": false,
    "editable": false,
    "slideshow": {
     "slide_type": ""
    },
    "tags": []
   },
   "source": [
    "### Step 12: Writing Memos\n",
    "\n",
    "Inside of ```/lab```, create two files named ```attack-memo.txt``` and ```fix-memo.txt```.\n",
    "\n",
    "<strong>```attack-memo.txt```</strong>: Suppose that you are King Teshwan, the hacker for this website. Write a memo to Lord Dingwall, the owner of this website, explaining the attack that you made, describing how you broke each of the sanitization functions.\n",
    "\n",
    "<strong>```fix-memo.txt```</strong>: Suppose that you are Lord Dingwall, the owner of this website. Write a memo to King Teshwan, the hacker for the website, explaining how you fixed the attacks that were made against the website.\n",
    "\n",
    "For each of these memos, write no less than one paragraph.\n",
    "\n",
    "Click the button below to save your work."
   ]
  },
  {
   "cell_type": "code",
   "execution_count": 15,
   "metadata": {
    "deletable": false,
    "jupyter": {
     "source_hidden": true
    },
    "slideshow": {
     "slide_type": ""
    },
    "tags": []
   },
   "outputs": [
    {
     "data": {
      "application/vnd.jupyter.widget-view+json": {
       "model_id": "d96617b44f2f4e90921877b723f95cf6",
       "version_major": 2,
       "version_minor": 0
      },
      "text/plain": [
       "Output()"
      ]
     },
     "metadata": {},
     "output_type": "display_data"
    },
    {
     "data": {
      "application/vnd.jupyter.widget-view+json": {
       "model_id": "bf8ca0405db440e1a7376f9f0f0fd559",
       "version_major": 2,
       "version_minor": 0
      },
      "text/plain": [
       "Textarea(value='asdffdsa \\' fdsa \\'  \\' \\' \"', description='To Dingwall (Owner):', layout=Layout(height='150px…"
      ]
     },
     "metadata": {},
     "output_type": "display_data"
    },
    {
     "data": {
      "application/vnd.jupyter.widget-view+json": {
       "model_id": "186d91f0e2f84a8bac9c030a67108427",
       "version_major": 2,
       "version_minor": 0
      },
      "text/plain": [
       "Textarea(value=\"fdsf dsaf ds ' fsd ' '\", description='To Teshwan (Hacker):', layout=Layout(height='150px', mar…"
      ]
     },
     "metadata": {},
     "output_type": "display_data"
    },
    {
     "data": {
      "application/vnd.jupyter.widget-view+json": {
       "model_id": "f24ffa6b45674bfea103453e69aa6a98",
       "version_major": 2,
       "version_minor": 0
      },
      "text/plain": [
       "Button(description='Save Response', style=ButtonStyle())"
      ]
     },
     "metadata": {},
     "output_type": "display_data"
    },
    {
     "data": {
      "application/vnd.jupyter.widget-view+json": {
       "model_id": "39c5e9630eb14344b7ac940092349621",
       "version_major": 2,
       "version_minor": 0
      },
      "text/plain": [
       "Output()"
      ]
     },
     "metadata": {},
     "output_type": "display_data"
    }
   ],
   "source": [
    "# Click the button below to check your work.\n",
    "import base64\n",
    "\n",
    "step12Complete = False\n",
    "\n",
    "# Function to save the short answer.\n",
    "def step_12():\n",
    "    # Important variables that must be accessed outside of this function.\n",
    "    global step12Complete, result\n",
    "\n",
    "    # Loading, in case saving is slow.\n",
    "    with output12:\n",
    "        output12.clear_output()\n",
    "        display(HTML(\"<span><img width='12px' height='12px' style='margin-left: 3px;' src='resources/loading.gif'></span>\"))\n",
    "\n",
    "    if (userInput12_1.value == \"\" or userInput12_2.value == \"\"):\n",
    "        output12.clear_output()\n",
    "        with output12:\n",
    "            display(HTML(\"<span style='color: red;'>You did not type a response for one of your memos.</span>\"))\n",
    "            step12Complete = False\n",
    "\n",
    "    else:\n",
    "        # Getting the student's response:\n",
    "        user_input = userInput12_1.value + \"\\n\\n\" + userInput12_2.value\n",
    "        \n",
    "        # Build the SSH command to write to the file using 'cat' reading from stdin.\n",
    "        ssh_command = [\n",
    "            \"ssh\",\n",
    "            \"-i\", \"/home/USERNAME_GOES_HERE/.ssh/merge_key\",\n",
    "            \"USERNAME_GOES_HERE@server\",\n",
    "            \"cat > /home/.checker/responses/step_12_answer.txt\"\n",
    "        ]\n",
    "        \n",
    "        # Pass safe_value as input so that no shell quoting is needed.\n",
    "        result = subprocess.run(ssh_command, input=user_input, text=True)\n",
    "        \n",
    "        if result.returncode == 1:\n",
    "            output12.clear_output()\n",
    "            with output12:\n",
    "                display(HTML(\"<span style='color: red;'>There was an error saving your response.</span>\"))\n",
    "                step12Complete = False\n",
    "                \n",
    "        elif result.returncode == 0:\n",
    "            output12.clear_output()\n",
    "            with output12:\n",
    "                display(HTML(\"<span style='color: green;'>Your response was saved.</span>\"))\n",
    "                step12Complete = True\n",
    "\n",
    "def check_step_12(b):\n",
    "    if warn_student():\n",
    "        output12.clear_output()\n",
    "        with output12:\n",
    "            display(HTML(\"<span style='color: red;'><strong>WARNING:</strong> You have an autosaved lab that you have not yet loaded. If you would like to load your progress, click \\\"Load Lab\\\" at the top of the notebook. Otherwise, clicking on this button again will assume you're restarting the lab!</span>\"))\n",
    "    else:\n",
    "        step_12()\n",
    "        if not runAllSteps:\n",
    "            safe_value = f\"{userInput12_1.value} {userInput12_2.value}\"\n",
    "            user_input_quoted = shlex.quote(safe_value)\n",
    "            trigger_save(\"12\", 1 if result.returncode == 0 else 0, user_input_quoted)\n",
    "\n",
    "# Retrieve the student's response. First, create a loading spinner, since this could take a second or two.\n",
    "loading12 = widgets.Output()\n",
    "display(loading12)\n",
    "with loading12:\n",
    "    loading12.clear_output()\n",
    "    display(HTML(\"<span>Loading your saved response... <img width='12px' height='12px' style='margin-left: 3px;' src='resources/loading.gif'></span>\"))\n",
    "\n",
    "# Creating a text area.\n",
    "userInput12_1 = widgets.Textarea(\n",
    "    placeholder='From Teshwan (Hacker)',\n",
    "    description='To Dingwall (Owner):',\n",
    "    layout=widgets.Layout(width='90%', height='150px', margin='10px'),\n",
    "    style={'description_width': 'initial'}\n",
    ")\n",
    "\n",
    "userInput12_2 = widgets.Textarea(\n",
    "    placeholder='From Dingwall (Owner)',\n",
    "    description='To Teshwan (Hacker):',\n",
    "    layout=widgets.Layout(width='90%', height='150px', margin='10px'),\n",
    "    style={'description_width': 'initial'}\n",
    ")\n",
    "\n",
    "# Checking if the step has been answered.\n",
    "result = subprocess.run('ssh -o StrictHostKeyChecking=no -i /home/USERNAME_GOES_HERE/.ssh/merge_key USERNAME_GOES_HERE@server \"cat /home/.checker/responses/step_12_answer.txt 2> /dev/null\"', capture_output=True, text=True, shell=True)\n",
    "# Process the output, then separate them.\n",
    "if (result != \"\"):\n",
    "    answers = (result.stdout).split(\"\\n\\n\")\n",
    "    if (len(answers) == 2):\n",
    "        userInput12_1.value = answers[0]\n",
    "        userInput12_2.value = (answers[1])[:-1]\n",
    "\n",
    "    else:\n",
    "        userInput12_1.value = \"\"\n",
    "        userInput12_2.value = \"\"\n",
    "\n",
    "def on_input_change(change):\n",
    "    # Replace backticks with single quotes in the new value.\n",
    "    new_val = change['new'].replace(\"`\", \"'\")\n",
    "    # Only update if there's a change (to avoid unnecessary recursion).\n",
    "    if new_val != change['new']:\n",
    "        change['owner'].value = new_val \n",
    "\n",
    "userInput12_1.observe(on_input_change, names='value')\n",
    "userInput12_2.observe(on_input_change, names='value')\n",
    "\n",
    "# After the student's response was loaded, clear the output.\n",
    "loading12.clear_output()\n",
    "\n",
    "# Creating the feedback output area.\n",
    "output12 = widgets.Output()\n",
    "\n",
    "# Creating the button.\n",
    "button = widgets.Button(description=\"Save Response\")\n",
    "\n",
    "# Run the command on click.\n",
    "button.on_click(check_step_12)\n",
    "\n",
    "# Display the output.\n",
    "display(userInput12_1, userInput12_2, button, output12)"
   ]
  },
  {
   "cell_type": "markdown",
   "metadata": {
    "deletable": false,
    "editable": false,
    "slideshow": {
     "slide_type": ""
    },
    "tags": []
   },
   "source": [
    "## <strong>Grading</strong>\n",
    "\n",
    "To check your overall grade, click on the button below.\n",
    "\n",
    "<strong>This is a specific note for the XSS lab:</strong> When running this auto-grader, any step that has a \"Use Previous Work\" checkbox next to it will use your previous response for that step. This means that in order for the auto-grader to count something as \"correct\", you had to have run it previously. In other labs, unchecked steps would be marked as correct if you did them. In this lab, you must have it done first before the auto-grader will mark it as correct."
   ]
  },
  {
   "cell_type": "code",
   "execution_count": 16,
   "metadata": {
    "deletable": false,
    "editable": false,
    "jupyter": {
     "source_hidden": true
    },
    "slideshow": {
     "slide_type": ""
    },
    "tags": []
   },
   "outputs": [
    {
     "data": {
      "application/vnd.jupyter.widget-view+json": {
       "model_id": "06611a71c4e6419a98c507563bbb5e5d",
       "version_major": 2,
       "version_minor": 0
      },
      "text/plain": [
       "Button(description='Calculate Grade', style=ButtonStyle())"
      ]
     },
     "metadata": {},
     "output_type": "display_data"
    },
    {
     "data": {
      "application/vnd.jupyter.widget-view+json": {
       "model_id": "3c432e4beb1740f98b7968b2d563ae37",
       "version_major": 2,
       "version_minor": 0
      },
      "text/plain": [
       "Output()"
      ]
     },
     "metadata": {},
     "output_type": "display_data"
    }
   ],
   "source": [
    "# Click the button below to check your overall grade.\n",
    "steps_to_check = [step_1, step_2, step_3, step_4, step_5, step_6, step_7, step_8, step_9, step_10, step_11, step_12]   \n",
    "\n",
    "# Function to calculate grade after refreshing the cell\n",
    "def calculate_grade(b):\n",
    "    # To not auto-save at each step.\n",
    "    global runAllSteps\n",
    "    runAllSteps = True\n",
    "\n",
    "    with gradeOutput:\n",
    "        gradeOutput.clear_output()\n",
    "        display(HTML(\"<span>Testing all steps. Please wait.</span> \\\n",
    "            <span><img width='12px' height='12px' style='margin-left: 3px;' src='resources/loading.gif'></span>\"))\n",
    "    \n",
    "    # Required for checking the boolean values.\n",
    "    for func in steps_to_check:\n",
    "        func()  # Call each function in order.\n",
    "\n",
    "    # Assuming steps are updated above this cell in some way\n",
    "    steps = [step1Complete, step2Complete, step3Complete, step4Complete, step5Complete, step6Complete, step7Complete, step8Complete, step9Complete, step10Complete, step11Complete, step12Complete]\n",
    "    output = \"\"\n",
    "    stepsCorrect = 0\n",
    "    numOfSteps = len(steps)\n",
    "\n",
    "    for i in range(numOfSteps):\n",
    "        if (i == 9):\n",
    "            stepsCorrect += 1\n",
    "            output += \"<div style='color: orange;'>Step 10 is optional.</div>\"\n",
    "\n",
    "        else:\n",
    "            if steps[i]:\n",
    "                stepsCorrect += 1\n",
    "                output += \"<div style='color: green;'>Step \" + str(i + 1) + \" is complete.</div>\"\n",
    "            else:\n",
    "                output += \"<div style='color: red;'>Step \" + str(i + 1) + \" is incomplete.</div>\"\n",
    "\n",
    "    output += \"<div style='color: black;'>You have \" + str(stepsCorrect) + \" out of \" + str(numOfSteps) + \" steps completed.</div>\"\n",
    "\n",
    "    with gradeOutput:\n",
    "        gradeOutput.clear_output()\n",
    "        display(HTML(output))\n",
    "\n",
    "    # Allows auto-saving to work on individual steps again.\n",
    "    runAllSteps = False\n",
    "    \n",
    "# Create a button to refresh the cell and another to calculate grade.\n",
    "grade_button = widgets.Button(description=\"Calculate Grade\")\n",
    "\n",
    "# Link buttons to functions.\n",
    "grade_button.on_click(calculate_grade)\n",
    "\n",
    "# Output area.\n",
    "gradeOutput = widgets.Output()\n",
    "\n",
    "# Display the buttons and output.\n",
    "display(grade_button, gradeOutput)"
   ]
  },
  {
   "cell_type": "markdown",
   "metadata": {
    "deletable": false,
    "editable": false,
    "slideshow": {
     "slide_type": ""
    },
    "tags": []
   },
   "source": [
    "### Stopping the Lab\n",
    "\n",
    "Once you are done with the lab, click on the \"Stop Lab\" button below. <strong>This will delete your materialization, which will delete all of the lab's resources.</strong> Your progress is saved automatically in ```saves/``` within the sidebar of your XDC. You may load this lab in the future by clicking \"Load Lab\" at the top."
   ]
  },
  {
   "cell_type": "code",
   "execution_count": 17,
   "metadata": {
    "deletable": false,
    "editable": false,
    "jupyter": {
     "source_hidden": true
    },
    "slideshow": {
     "slide_type": ""
    },
    "tags": []
   },
   "outputs": [
    {
     "data": {
      "application/vnd.jupyter.widget-view+json": {
       "model_id": "b03580314adb4e529195ea3d22d5270b",
       "version_major": 2,
       "version_minor": 0
      },
      "text/plain": [
       "Checkbox(value=False, description='Confirm', indent=False)"
      ]
     },
     "metadata": {},
     "output_type": "display_data"
    },
    {
     "data": {
      "application/vnd.jupyter.widget-view+json": {
       "model_id": "ea006d63472746d98e8d1b54dd1c1ca2",
       "version_major": 2,
       "version_minor": 0
      },
      "text/plain": [
       "Button(description='Stop Lab', style=ButtonStyle())"
      ]
     },
     "metadata": {},
     "output_type": "display_data"
    },
    {
     "data": {
      "application/vnd.jupyter.widget-view+json": {
       "model_id": "87500e810780415799ef2c036a6ee44d",
       "version_major": 2,
       "version_minor": 0
      },
      "text/plain": [
       "Output()"
      ]
     },
     "metadata": {},
     "output_type": "display_data"
    }
   ],
   "source": [
    "# Click the button below to stop the experiment.\n",
    "def stoplab(button):\n",
    "    # Check to make sure that the student wants to confirm ending the lab.\n",
    "    if (confirm.value == False):\n",
    "        with stop_output:\n",
    "            stop_output.clear_output()\n",
    "            display(HTML(\"<newline><span style='color: red;'>Please confirm that you wish to end the lab.</span>\"))\n",
    "\n",
    "    else:\n",
    "        # Defining the lab name.\n",
    "        labname = \"xss\"\n",
    "    \n",
    "        # Writing the information to an empty field below the button.\n",
    "        with stop_output:\n",
    "            stop_output.clear_output()\n",
    "            \n",
    "            display(HTML(\"<span>Stopping the \" + labname + \" lab. This will take a minute to process. Please wait.</span> \\\n",
    "                <span><img width='12px' height='12px' style='margin-left: 3px;' src='resources/loading.gif'></span>\"))\n",
    "            stopexp = subprocess.run('su - USERNAME_GOES_HERE -c \"bash /share/stopexp ' + labname + 'jup\"', capture_output=True, text=True, shell=True)\n",
    "            stop_output.clear_output()\n",
    "            display(HTML(\"<span>Done. Result:</span>\"))\n",
    "            print(stopexp.stdout)\n",
    "    \n",
    "            display(HTML(\"<newline><span style='color: green;'><strong>Your lab has been ended.</strong></span>\"))\n",
    "\n",
    "# Creating the button.\n",
    "stopButton = widgets.Button(description=\"Stop Lab\")\n",
    "\n",
    "# Create a confirmation check.\n",
    "confirm = widgets.Checkbox(\n",
    "    value=False,\n",
    "    description='Confirm',\n",
    "    disabled=False,\n",
    "    indent=False\n",
    ")\n",
    "\n",
    "# Creating an output area.\n",
    "stop_output = widgets.Output()\n",
    "\n",
    "# Run the command on click.\n",
    "stopButton.on_click(stoplab)\n",
    "\n",
    "# Display the output.\n",
    "display(confirm, stopButton, stop_output)"
   ]
  }
 ],
 "metadata": {
  "kernelspec": {
   "display_name": "Python 3 (ipykernel)",
   "language": "python",
   "name": "python3"
  },
  "language_info": {
   "codemirror_mode": {
    "name": "ipython",
    "version": 3
   },
   "file_extension": ".py",
   "mimetype": "text/x-python",
   "name": "python",
   "nbconvert_exporter": "python",
   "pygments_lexer": "ipython3",
   "version": "3.10.12"
  }
 },
 "nbformat": 4,
 "nbformat_minor": 4
}
