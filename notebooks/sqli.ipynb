{
 "cells": [
  {
   "cell_type": "markdown",
   "metadata": {
    "deletable": false,
    "editable": false,
    "slideshow": {
     "slide_type": ""
    },
    "tags": []
   },
   "source": [
    "# <strong>SQL Injection</strong>\n",
    "\n",
    "SQL (Structured Query Language) injection (abbreviated as SQLi) is a type of database attack by typing SQL code into an input field. SQL injection attacks can be very detrimental, as they can be used to leak information, change entries, wipe entire databases, and more. For this lab, you will be experimenting with a bank website that contains insecure code that does not sanitize user input, opening it up to security vulnerabilities.\n",
    "\n",
    "<figure><center><img src=\"resources/sqli/sqli_example.jpg\" style=\"width: 95%; height: 85%;\"></img></center><em><figcaption>Credit: <a href=\"https://www.dnsstuff.com/sql-injection\">DNSstuff</a></figcaption></em></figure>\n",
    "\n",
    "The website where you will practice SQL injection is developed in PHP, which is hosted through Apache. PHP is a server-side language that's used for handling and processing data for websites. Since PHP is server-side, its code cannot be viewed by the user. However, this does not prevent attackers from attemping SQL injection, and you will learn in this lab how hackers can guess-and-check various SQL statements to crack a database.\n",
    "\n",
    "<strong>This lab will contain four topics, and you will learn the following:</strong>\n",
    "\n",
    "1. SQL Basics\n",
    "2. PHP and SQL Practice\n",
    "3. Prepared Statements\n",
    "4. A Large-Scale Application of SQL Injection"
   ]
  },
  {
   "cell_type": "code",
   "execution_count": 31,
   "metadata": {
    "deletable": false,
    "jupyter": {
     "source_hidden": true
    },
    "jupyterlab-hide-cells:hidden": true,
    "slideshow": {
     "slide_type": ""
    },
    "tags": []
   },
   "outputs": [],
   "source": [
    "# Setting up the lab.\n",
    "import ipywidgets as widgets\n",
    "from IPython.display import display, HTML, Javascript\n",
    "from IPython.core.magic import register_line_magic\n",
    "import os\n",
    "# For accessing the nodes:\n",
    "import subprocess\n",
    "# For the stopexp command:\n",
    "import re\n",
    "# For later steps in Topic 4.\n",
    "import shlex\n",
    "\n",
    "# When true, it will not auto-save at each step.\n",
    "runAllSteps = False\n",
    "\n",
    "###### Used for saving notebooks. ######\n",
    "import threading\n",
    "# Threading required in case steps are progressed too quickly.\n",
    "save_lock = threading.Lock()\n",
    "\n",
    "# The save function itself.\n",
    "def save_notebook():\n",
    "    with save_lock:\n",
    "        result = subprocess.run('su - USERNAME_GOES_HERE -c \"/project/USERNAME_GOES_HERE/notebooks/resources/save.py sqli\"', shell=True, capture_output=True, text=True)\n",
    "\n",
    "import threading, subprocess, shlex\n",
    "\n",
    "def trigger_save(question, response, answer=\"\"):\n",
    "    save_thread = threading.Thread(target=save_notebook)\n",
    "    save_thread.start()\n",
    "    \n",
    "    # Build a list of arguments for grader.py.\n",
    "    cmd_args = [\"/home/.education/grader.py\", \"S\", question, response]\n",
    "    if answer != \"\":\n",
    "        cmd_args.append(answer)\n",
    "    \n",
    "    # Quote each argument separately (casting to string) and join them with a space.\n",
    "    inner_cmd = \" \".join(shlex.quote(str(arg)) for arg in cmd_args)\n",
    "    \n",
    "    # Now, pass this whole command to su using shlex.quote.\n",
    "    full_cmd = f\"su - USERNAME_GOES_HERE -c {shlex.quote(inner_cmd)}\"\n",
    "    result = subprocess.run(full_cmd, shell=True, capture_output=True, text=True)\n",
    "    \n",
    "###### Used for loading notebooks. ######\n",
    "import queue\n",
    "\n",
    "load_lock = threading.Lock()\n",
    "result_queue = queue.Queue()\n",
    "\n",
    "# This variable is used to warn students if they haven't loaded a save yet.\n",
    "def warn_student():\n",
    "    if (os.path.exists(\"/project/USERNAME_GOES_HERE/notebooks/saves/.sqli_warning\")):\n",
    "        os.remove(\"/project/USERNAME_GOES_HERE/notebooks/saves/.sqli_warning\")\n",
    "        return True\n",
    "\n",
    "def load_notebook():\n",
    "    with load_lock:\n",
    "        result = subprocess.run('su - USERNAME_GOES_HERE -c \"/project/USERNAME_GOES_HERE/notebooks/resources/load.py sqli\"', shell=True, capture_output=True, text=True)\n",
    "        result_queue.put(result)  # Put the result in the queue.\n",
    "\n",
    "# Creating a thread to load the notebook.\n",
    "def trigger_load():\n",
    "    load_thread = threading.Thread(target=load_notebook)\n",
    "    load_thread.start()\n",
    "    load_thread.join()  # Wait for the thread to complete before adding result to the queue.\n",
    "    return result_queue.get()  # Get the result from the queue.\n",
    "\n",
    "# This is used in Topic 2 after a successful payload:\n",
    "def run_sql_query(payload):\n",
    "    # Convert all double quotes to single quotes so that this will work. Cannot do \\\\' because SQL doesn't accept this.\n",
    "    # Note: If this is Step 14, we cannot insert duplicate keys. So, we will just take the part of the payload that prints the table.\n",
    "    payload = payload.replace('\"', \"'\")\n",
    "    payload = payload.split(';', 1)[0]\n",
    "\n",
    "    # Send to the node.\n",
    "    sql = f\"SELECT student_id, student_name, student_grade FROM students WHERE student_id = {payload}\"\n",
    "    process = subprocess.run(\n",
    "        f'ssh -o StrictHostKeyChecking=no -i /home/USERNAME_GOES_HERE/.ssh/merge_key USERNAME_GOES_HERE@sqli \"mysql -uroot -e \\\\\"{sql}\\\\\" practice\"',\n",
    "        shell=True, capture_output=True, text=True\n",
    "    )\n",
    "\n",
    "    # Return to the \"create_markdown_table\" function.\n",
    "    return process.stdout\n",
    "\n",
    "# This is used in Topic 2 after a successful payload:\n",
    "def create_html_table(results):\n",
    "    # Split the results into lines and process them.\n",
    "    lines = results.strip().split(\"\\n\")\n",
    "    \n",
    "    # Extract the headers and rows.\n",
    "    headers = lines[0].split(\"\\t\")\n",
    "    rows = [line.split(\"\\t\") for line in lines[1:]]\n",
    "    \n",
    "    # Start HTML table\n",
    "    html_table = \"<table><thead><tr>\"\n",
    "    \n",
    "    # Add header row\n",
    "    for header in headers:\n",
    "        html_table += f\"<th>{header}</th>\"\n",
    "    html_table += \"</tr></thead><tbody>\"\n",
    "    \n",
    "    # Add data rows\n",
    "    for row in rows:\n",
    "        html_table += \"<tr>\"\n",
    "        for cell in row:\n",
    "            html_table += f\"<td>{cell}</td>\"\n",
    "        html_table += \"</tr>\"\n",
    "    \n",
    "    # Close the table\n",
    "    html_table += \"</tbody></table>\"\n",
    "    \n",
    "    return html_table"
   ]
  },
  {
   "cell_type": "markdown",
   "metadata": {
    "deletable": false,
    "editable": false,
    "slideshow": {
     "slide_type": ""
    },
    "tags": []
   },
   "source": [
    "### Step 0: Starting the Lab\n",
    "\n",
    "Click the button to begin creating the experiment.\n",
    "\n",
    "<strong>Note:</strong> If your buttons are not displaying, click on the <img width='20px' height='20px' style='margin-left: 1px;' src='resources/fast_forward.png'> icon at the top of your notebook to render all widgets."
   ]
  },
  {
   "cell_type": "code",
   "execution_count": 2,
   "metadata": {
    "deletable": false,
    "editable": false,
    "jupyter": {
     "source_hidden": true
    },
    "slideshow": {
     "slide_type": ""
    },
    "tags": []
   },
   "outputs": [
    {
     "data": {
      "application/vnd.jupyter.widget-view+json": {
       "model_id": "d687ca1c913f4cfa92f5d2f1a06f2fdb",
       "version_major": 2,
       "version_minor": 0
      },
      "text/plain": [
       "Button(description='Start Lab', style=ButtonStyle())"
      ]
     },
     "metadata": {},
     "output_type": "display_data"
    },
    {
     "data": {
      "application/vnd.jupyter.widget-view+json": {
       "model_id": "fc1c7209f81749cc9a4046c12289f6ca",
       "version_major": 2,
       "version_minor": 0
      },
      "text/plain": [
       "Output()"
      ]
     },
     "metadata": {},
     "output_type": "display_data"
    }
   ],
   "source": [
    "# Click the button below to start the experiment.\n",
    "import time\n",
    "\n",
    "def check_autosave():\n",
    "    # Check if the student has an autosave.\n",
    "    if os.path.exists(\"/project/USERNAME_GOES_HERE/notebooks/saves/USERNAME_GOES_HERE_sqli.tar.gz\"):\n",
    "        # Create a hidden file that will serve as a \"boolean\" for later.\n",
    "        subprocess.run(\"touch /project/USERNAME_GOES_HERE/notebooks/saves/.sqli_warning\", shell=True)\n",
    "\n",
    "def startlab(button):\n",
    "    # Defining the lab name.\n",
    "    labname = \"sqli\"\n",
    "\n",
    "    # Writing the information to an empty field below the button.\n",
    "    with output0:\n",
    "        # Fixes a strange error that happens only occasionally.\n",
    "        os.chdir(\"/project/USERNAME_GOES_HERE/notebooks\")\n",
    "        output0.clear_output()\n",
    "\n",
    "        # First, checking if the materialization exists. May have been stopped by a previous lab.\n",
    "        materialPattern = \"real.\" + labname + \"jup.USERNAME_GOES_HERE\"\n",
    "\n",
    "        # Listing the materializations to find if there's an existing one for this lab.\n",
    "        checkMaterial = os.popen('su - USERNAME_GOES_HERE -c \"mrg list materializations\"').read()\n",
    "        regex = re.compile(materialPattern)\n",
    "        # Getting the matches:\n",
    "        match = regex.search(checkMaterial)\n",
    "\n",
    "        if match:\n",
    "            display(HTML(\"<span style='color: orange;'>An existing activation for this lab already exists. </span><span>You might have run another \\\n",
    "            lab without stopping this one. Attaching the existing activation...</span>\"))\n",
    "\n",
    "            # Detaching it and re-attaching.\n",
    "            subprocess.run('su - USERNAME_GOES_HERE -c \"mrg xdc detach xdc.USERNAME_GOES_HERE\"', shell=True, check=True)\n",
    "            subprocess.run('su - USERNAME_GOES_HERE -c \"mrg xdc attach xdc.USERNAME_GOES_HERE real.' + labname + 'jup.USERNAME_GOES_HERE\"', capture_output=True, text=True, shell=True, check=True)\n",
    "            display(HTML(\"<span>Re-running the installation... </span><span><img width='12px' height='12px' style='margin-left: 3px;' src='resources/loading.gif'></span>\"))\n",
    "\n",
    "            # Check if the student has an autosave.\n",
    "            check_autosave()\n",
    "            \n",
    "            # Re-running the installation script.\n",
    "            subprocess.run('su - USERNAME_GOES_HERE -c \"bash /home/runlab ' + labname + 'jup\"', capture_output=True, text=True, shell=True, check=True)\n",
    "            output0.clear_output()\n",
    "            display(HTML(\"<newline><span style='color: green;'><strong>Your lab has been re-installed. </strong></span>\" \\\n",
    "                         \"<span>When you're finished, close your lab at the bottom of the notebook.</span>\"))\n",
    "        \n",
    "        else:\n",
    "            display(HTML(\"<span>No existing activations are found.</span>\"))\n",
    "\n",
    "            # Second, start the lab.\n",
    "            display(HTML(\"<span>Starting the \" + labname + \" lab. This will take a few minutes to process. Please wait.</span> \\\n",
    "            <span><img width='12px' height='12px' style='margin-left: 3px;' src='resources/loading.gif'></span>\"))\n",
    "            try:\n",
    "                startexp = subprocess.run('su - USERNAME_GOES_HERE -c \"bash /home/startexp ' + labname + 'jup\"', capture_output=True, text=True, shell=True, check=True)\n",
    "            except:\n",
    "                output0.clear_output()\n",
    "                display(HTML(\"<span style='color: red;'>There was an error starting your experiment. Make sure your password is written inside of ~/pass.txt, and try again.</span>\"))\n",
    "                return\n",
    "            \n",
    "            print(startexp.stdout, flush=True)\n",
    "            output0.clear_output()\n",
    "            display(HTML(\"<span>Done. Result:</span>\"))\n",
    "            print(startexp.stdout, flush=True)\n",
    "\n",
    "            # Another lab is already attached to the XDC.\n",
    "            if (\"XDC already attached\" in startexp.stdout):\n",
    "                existingLab = re.search(r\"real.(.*).USERNAME_GOES_HERE\", startexp.stdout).group(1)\n",
    "\n",
    "                # Shouldn't happen.\n",
    "                if labname == existingLab:\n",
    "                    display(HTML(\"<span style='color: red;'>Your lab was already started. </span><span>Please continue to the next step.</span>\"))\n",
    "\n",
    "                # Detaching the existing lab, then attaching the current one.\n",
    "                else:\n",
    "                    display(HTML(\"<span style='color: orange;'>Warning: You did not stop your previous experiment. </span><span>Please stop your experiments \\\n",
    "                    before starting a new one. Detaching the \" + existingLab + \" experiment.</span>\"))\n",
    "                    subprocess.run('su - USERNAME_GOES_HERE -c \"mrg xdc detach xdc.USERNAME_GOES_HERE\"', shell=True, check=True)\n",
    "                    display(HTML(\"<span>Attaching the current lab.</span>\"))\n",
    "                    subprocess.run('su - USERNAME_GOES_HERE -c \"mrg xdc attach xdc ' + materialPattern + '\"', shell=True, check=True)\n",
    "    \n",
    "            # Third, get the lab materials onto the node.\n",
    "            display(HTML(\"<span>Allocating lab resources onto the node. <u>Please wait a little longer...</u></span>\"))\n",
    "\n",
    "            # Gives the notebook a couple seconds so that it will recognize the node(s).\n",
    "            time.sleep(2)\n",
    "\n",
    "            # Move the resources over.\n",
    "            runlab = subprocess.run(\n",
    "                'su - USERNAME_GOES_HERE -c \"bash /home/runlab ' + labname + 'jup\"',\n",
    "                capture_output=True, text=True, shell=True\n",
    "            )\n",
    "\n",
    "            # Check if the student has an autosave.\n",
    "            check_autosave()\n",
    "\n",
    "            # Complete. Inform the student.\n",
    "            display(HTML(\"<newline><span style='color: green;'><strong>Setup complete. You may begin the lab! </strong></span>\" \\\n",
    "                         \"<span>When you're finished, close your lab at the bottom of the notebook. Your lab will be active for one week.</span>\"))\n",
    "\n",
    "\n",
    "# Creating the button.\n",
    "startButton = widgets.Button(description=\"Start Lab\")\n",
    "\n",
    "# Creating an output area.\n",
    "output0 = widgets.Output()\n",
    "\n",
    "# Run the command on click.\n",
    "startButton.on_click(startlab)\n",
    "\n",
    "# Display the output.\n",
    "display(startButton, output0)"
   ]
  },
  {
   "cell_type": "markdown",
   "metadata": {
    "deletable": false,
    "editable": false,
    "slideshow": {
     "slide_type": ""
    },
    "tags": []
   },
   "source": [
    "<hr>"
   ]
  },
  {
   "cell_type": "markdown",
   "metadata": {
    "deletable": false,
    "editable": false,
    "slideshow": {
     "slide_type": ""
    },
    "tags": []
   },
   "source": [
    "If you previously stopped your lab, you may restore your progress below by clicking \"Load Lab\". <u>You do not have to load your lab if you signed out, closed your notebook, or exited your node(s) or XDC by using ```exit```.</u>"
   ]
  },
  {
   "cell_type": "code",
   "execution_count": 3,
   "metadata": {
    "deletable": false,
    "editable": false,
    "jupyter": {
     "source_hidden": true
    },
    "slideshow": {
     "slide_type": ""
    },
    "tags": []
   },
   "outputs": [
    {
     "data": {
      "application/vnd.jupyter.widget-view+json": {
       "model_id": "b08fbe14ca4a47829f525a15ea98640a",
       "version_major": 2,
       "version_minor": 0
      },
      "text/plain": [
       "Button(description='Load Lab', style=ButtonStyle())"
      ]
     },
     "metadata": {},
     "output_type": "display_data"
    },
    {
     "data": {
      "application/vnd.jupyter.widget-view+json": {
       "model_id": "cadc39c4392341009087ab56d7d3bcd6",
       "version_major": 2,
       "version_minor": 0
      },
      "text/plain": [
       "Output()"
      ]
     },
     "metadata": {},
     "output_type": "display_data"
    }
   ],
   "source": [
    "# Click the button below to load your lab.\n",
    "def loadlab(b):\n",
    "    with output0_2:\n",
    "        output0_2.clear_output()\n",
    "        display(HTML(\"<span>Searching for an existing lab in your notebook...</span>\"))\n",
    "\n",
    "    if (os.path.exists(\"/project/USERNAME_GOES_HERE/notebooks/saves/USERNAME_GOES_HERE_sqli.tar.gz\")):\n",
    "        with output0_2:\n",
    "            output0_2.clear_output()\n",
    "            display(HTML(\"<span>Loading your lab...</span> \\\n",
    "                <span><img width='12px' height='12px' style='margin-left: 3px;' src='resources/loading.gif'></span>\"))\n",
    "            result = trigger_load()\n",
    "            if (result.returncode == 1):\n",
    "                output0_2.clear_output()\n",
    "                display(HTML(\"<span style='color: green;'>Your lab has been successfully loaded. Please click on the <img width='20px' height='20px' style='margin-left: 1px;' src='resources/fast_forward.png'> icon at the top of your notebook to reflect your changes.</span>\"))\n",
    "            elif (result.returncode == 2):\n",
    "                output0_2.clear_output()\n",
    "                display(HTML(\"<span style='color: red;'>The sqli lab is inaccessible. Please start your lab. If you have already started it, wait a minute and try again.</span>\"))\n",
    "            else:\n",
    "                output0_2.clear_output()\n",
    "                display(HTML(\"<span style='color: red;'>An error occurred while loading your lab.</span>\"))\n",
    "\n",
    "# Creating the button.\n",
    "loadButton = widgets.Button(description=\"Load Lab\")\n",
    "\n",
    "# Creating an output area.\n",
    "output0_2 = widgets.Output()\n",
    "\n",
    "# Run the command on click.\n",
    "loadButton.on_click(loadlab)\n",
    "\n",
    "# Display the output.\n",
    "display(loadButton, output0_2)"
   ]
  },
  {
   "cell_type": "markdown",
   "metadata": {
    "deletable": false,
    "editable": false,
    "slideshow": {
     "slide_type": ""
    },
    "tags": []
   },
   "source": [
    "## <strong>Topic 1: SQL Basics</strong>\n",
    "\n",
    "For the first topic, you are going to learn the basics of SQL, such as creating a database, a table, and practicing queries like adding, updating, and deleting entries from the table.\n",
    "\n",
    "Before practicing SQL, some important background and setup. SQL is a relational database management system (DBMS), meaning that data is stored as tables. Non-relational DBMS's exist, which is where data are stored as document files. An example of a non-relational DBMS is MongoDB. There are a few different variations of SQL which you may find online. A couple that you may find are MySQL, SQLite, PostgreSQL, SQL Server, and MariaDB. These all use SQL, but may have feature and performance differences. \n",
    "\n",
    "This lab is going to use MariaDB, which is backwards compatible with MySQL. This means that applications that use MySQL can easily switch to MariaDB without losing performance or features. MariaDB is designed to have more features, better performance, and fewer bugs than MySQL, and it's also more scalable and has faster query speeds. MariaDB has <a href=\"https://www.geeksforgeeks.org/difference-between-mysql-and-mariadb/\">several extra features</a>, such as ```CREATE OR REPLACE TABLE``` and JSON query support. These features are advanced, and will not be covered in the lab.\n",
    "\n",
    "You may view documentation called <a href=\"https://mariadb.com/kb/en/incompatibilities-and-feature-differences-between-mariadb-10-5-and-mysql-8-/\">Incompatibilities and Feature Differences Between MariaDB 10.5 and MySQL 8.0</a> if you would like to learn more about MariaDB and how it's different from MySQL."
   ]
  },
  {
   "cell_type": "markdown",
   "metadata": {
    "deletable": false,
    "editable": false,
    "slideshow": {
     "slide_type": ""
    },
    "tags": []
   },
   "source": [
    "### Step 1: Create Your First Database\n",
    "\n",
    "<strong>Sign into the ```sqli``` node.</strong>\n",
    "\n",
    "MariaDB is already installed on your system, so you may access it by typing ```mariadb``` to open the interface. If you are more comfortable with MySQL, typing ```mysql``` will also bring up MariaDB since MariaDB is backwards-compatible, as mentioned before.\n",
    "\n",
    "SQL statements are usually typed in UPPERCASE LETTERS, but is not required. However, to follow traditional syntax, queries will be written in UPPERCASE. <u>Additionally, SQL statements end with a semicolon.</u>\n",
    "\n",
    "You can access MySQL by typing ```sudo mysql``` or ```mysql -uroot```. ```sudo mysql``` calls the \"MySQL\" statement as root. ```mysql -uroot``` calls the MySQL statement on your own account (USERNAME_GOES_HERE), but uses the username ```root```. There is no password for the ```root``` account, but if there would be a password, you would use ```mysql -uroot -ppassword```. There are no spaces between the ```-u``` (username) and ```-p``` (password) parameters.\n",
    "\n",
    "First, list your databases by typing ```SHOW DATABASES;```. Currently, there are a couple databases, where one is called ```fccu```. <u>This is required for later in the lab, so at the moment, you will need to create another database.</u>\n",
    "\n",
    "Use ```CREATE DATABASE practice;``` to create a database."
   ]
  },
  {
   "cell_type": "code",
   "execution_count": 4,
   "metadata": {
    "deletable": false,
    "editable": false,
    "jupyter": {
     "source_hidden": true
    },
    "slideshow": {
     "slide_type": ""
    },
    "tags": []
   },
   "outputs": [
    {
     "data": {
      "application/vnd.jupyter.widget-view+json": {
       "model_id": "8e7149a86e4f4b23a3653a6b25747a9d",
       "version_major": 2,
       "version_minor": 0
      },
      "text/plain": [
       "Button(description='Check For Database', style=ButtonStyle())"
      ]
     },
     "metadata": {},
     "output_type": "display_data"
    },
    {
     "data": {
      "application/vnd.jupyter.widget-view+json": {
       "model_id": "03c2e9954f9f4acba82aedc23f3fe39c",
       "version_major": 2,
       "version_minor": 0
      },
      "text/plain": [
       "Output()"
      ]
     },
     "metadata": {},
     "output_type": "display_data"
    }
   ],
   "source": [
    "# Click the button below to check your work.\n",
    "step1Complete = False\n",
    "\n",
    "# Function to check the permissions.\n",
    "def step_1():\n",
    "    # Important variables that must be accessed outside of this function.\n",
    "    global step1Complete, result\n",
    "\n",
    "    with output1:\n",
    "        output1.clear_output()\n",
    "        display(HTML(\"<span><img width='12px' height='12px' style='margin-left: 3px;' src='resources/loading.gif'></span>\"))\n",
    "    \n",
    "    result = subprocess.run('ssh -o StrictHostKeyChecking=no -i /home/USERNAME_GOES_HERE/.ssh/merge_key USERNAME_GOES_HERE@sqli /home/.checker/section_1.py 1 NA', shell=True)\n",
    "\n",
    "    if (result.returncode == 0):\n",
    "        output1.clear_output()\n",
    "        with output1:\n",
    "            display(HTML(\"<span style='color: green;'>Success! You may continue onto the next step.</span>\"))\n",
    "            step1Complete = True\n",
    "    \n",
    "    elif (result.returncode == 1):\n",
    "        output1.clear_output()\n",
    "        with output1:\n",
    "            display(HTML(\"<span style='color: red;'>No database named \\\"practice\\\" was found. Try again.</span>\"))\n",
    "            step1Complete = False\n",
    "    \n",
    "    elif (result.returncode == 2):\n",
    "        output1.clear_output()\n",
    "        with output1:\n",
    "            display(HTML(\"<span style='color: red;'>An error occurred when checking your database. Please contact your professor or TA.</span>\"))\n",
    "            step1Complete = False\n",
    "\n",
    "def check_step_1(b):\n",
    "    if (warn_student()):\n",
    "        output1.clear_output()\n",
    "        with output1:\n",
    "            display(HTML(\"<span style='color: red;'><strong>WARNING:</strong> You have an autosaved lab that you have not yet loaded. If you would like to load your progress, click \\\"Load Lab\\\" at the top of the notebook. Otherwise, clicking on this button again will assume you're restarting the lab!</span>\"))\n",
    "    else:\n",
    "        step_1()\n",
    "\n",
    "        # Auto-save.\n",
    "        if (not runAllSteps):\n",
    "            trigger_save(\"1\", result.returncode)\n",
    "\n",
    "# Creating the button.\n",
    "button = widgets.Button(description=\"Check For Database\")\n",
    "\n",
    "# Creating an output area.\n",
    "output1 = widgets.Output()\n",
    "\n",
    "# Run the command on click.\n",
    "button.on_click(check_step_1)\n",
    "\n",
    "# Display the output.\n",
    "display(button, output1)"
   ]
  },
  {
   "cell_type": "markdown",
   "metadata": {
    "deletable": false,
    "editable": false,
    "slideshow": {
     "slide_type": ""
    },
    "tags": []
   },
   "source": [
    "### Step 2: Create Your First Table\n",
    "\n",
    "You have created a database, and now you will need to \"use\" it. To select the database that you want to use, type ```USE practice;```. After using the ```USE``` command, you will need to create a table. Databases can have multiple tables to them, but you will only create one table for this lab.\n",
    "\n",
    "We are going to create a table called ```students``` which will have three columns to them: ```student_id```, ```student_name```, and ```student_grade```. Each attribute has a type to them, similar to programming languages like C. Additionally, it's common for tables to have keys to them, which are unique identifiers for each entry. There are multiple types of keys, but we are going to use a ```PRIMARY KEY``` for the ```student_id``` attribute. A ```PRIMARY KEY``` is unique and cannot be a duplicate value. There are also candidate keys, super keys, alternate keys, foreign keys, and composite keys.\n",
    "\n",
    "This is the layout of the table that you will create:\n",
    "- ```student_id``` is of type ```SMALLINT UNSIGNED``` and a ```PRIMARY KEY```.\n",
    "  - ```SMALLINT``` ranges between -32,768 to 32,767.\n",
    "  - ```UNSIGNED``` takes the size of ```SMALLINT```, but only consists of positive values. Therefore, it will range from 0 to 65,535. We are using ```UNSIGNED``` so that there are no negative ID values.\n",
    "  - <u>Note</u>: ```UNSIGNED``` is unsupported in PostgreSQL.\n",
    "- ```student_name``` is of type ```VARCHAR(64)```\n",
    "  - ```VARCHAR``` means \"VARiable CHARacter\", which dynamically allocates alphanumeric characters up to 64 characters.\n",
    "  - This allows ```student_name``` to be 10 bytes in length if it's 10 characters long, up to 64 characters.\n",
    "- ```student_grade``` is of type ```CHAR(1)```\n",
    "  - ```CHAR``` is a fixed length of characters.\n",
    "  - ```CHAR(15)``` will always take 15 bytes in memory, even if the string is not 15 characters long itself, like the word \"database\".\n",
    "  - ```CHAR(1)``` is being used since students will be allocated a grade of A, B, C, D, or F.\n",
    "\n",
    "The ```CREATE TABLE``` query can be lengthy, depending on the table. It consists of the following syntax: ```CREATE TABLE table_name (column1 datatype, column2 datatype, ...);```\n",
    "\n",
    "Given the following columns and datatypes, create a table called ```students``` that has the following:\n",
    "- ```student_id SMALLINT UNSIGNED PRIMARY KEY```\n",
    "- ```student_name VARCHAR(64)```\n",
    "- ```student_grade CHAR(1)```\n",
    "\n",
    "<span style=\"color: orange;\"><strong><img src=\"resources/alert.png\" style=\"width: 12px\"> Notice:</strong></span> All SQL commands end with semicolons. If you press \"Enter\" without finishing your statement with ```;```, it will continue to make a new line until you terminate it with a ```;```."
   ]
  },
  {
   "cell_type": "code",
   "execution_count": 5,
   "metadata": {
    "deletable": false,
    "editable": false,
    "jupyter": {
     "source_hidden": true
    },
    "slideshow": {
     "slide_type": ""
    },
    "tags": []
   },
   "outputs": [
    {
     "data": {
      "application/vnd.jupyter.widget-view+json": {
       "model_id": "4fd995f13b7c4fbaaa179d5df43671cc",
       "version_major": 2,
       "version_minor": 0
      },
      "text/plain": [
       "Button(description='Check For Table', style=ButtonStyle())"
      ]
     },
     "metadata": {},
     "output_type": "display_data"
    },
    {
     "data": {
      "application/vnd.jupyter.widget-view+json": {
       "model_id": "4e9993665fdc4850831a1bc56620f8fc",
       "version_major": 2,
       "version_minor": 0
      },
      "text/plain": [
       "Output()"
      ]
     },
     "metadata": {},
     "output_type": "display_data"
    }
   ],
   "source": [
    "# Click the button below to check your work.\n",
    "step2Complete = False\n",
    "\n",
    "# Function to check the permissions.\n",
    "def step_2():\n",
    "    # Important variables that must be accessed outside of this function.\n",
    "    global step2Complete, result\n",
    "\n",
    "    with output2:\n",
    "        output2.clear_output()\n",
    "        display(HTML(\"<span><img width='12px' height='12px' style='margin-left: 3px;' src='resources/loading.gif'></span>\"))\n",
    "    \n",
    "    result = subprocess.run('ssh -o StrictHostKeyChecking=no -i /home/USERNAME_GOES_HERE/.ssh/merge_key USERNAME_GOES_HERE@sqli /home/.checker/section_1.py 2 NA', shell=True)\n",
    "\n",
    "    if (result.returncode == 0):\n",
    "        output2.clear_output()\n",
    "        with output2:\n",
    "            display(HTML(\"<span style='color: green;'>Success! You may continue onto the next step.</span>\"))\n",
    "            step2Complete = True\n",
    "\n",
    "    elif (result.returncode == 2):\n",
    "        output2.clear_output()\n",
    "        with output2:\n",
    "            display(HTML(\"<span style='color: red;'>An error occurred when checking your database. Make sure you have completed the previous step(s). Otherwise, please contact your professor or TA.</span>\"))\n",
    "            step2Complete = False\n",
    "\n",
    "    elif (result.returncode == 1):\n",
    "        output2.clear_output()\n",
    "        with output2:\n",
    "            display(HTML(\"<span style='color: red;'>The \\\"students\\\" table exists, but the datatypes are incorrect. Make sure you specifically create the columns from above.</span>\"))\n",
    "            step2Complete = False\n",
    "\n",
    "    elif (result.returncode == 3):\n",
    "        output2.clear_output()\n",
    "        with output2:\n",
    "            display(HTML(\"<span style='color: red;'>There was no table found named \\\"students\\\" inside of the \\\"practice\\\" database.</span>\"))\n",
    "            step2Complete = False\n",
    "\n",
    "def check_step_2(b):\n",
    "    if (warn_student()):\n",
    "        output2.clear_output()\n",
    "        with output2:\n",
    "            display(HTML(\"<span style='color: red;'><strong>WARNING:</strong> You have an autosaved lab that you have not yet loaded. If you would like to load your progress, click \\\"Load Lab\\\" at the top of the notebook. Otherwise, clicking on this button again will assume you're restarting the lab!</span>\"))\n",
    "    else:\n",
    "        step_2()\n",
    "\n",
    "        # Auto-save.\n",
    "        if (not runAllSteps):\n",
    "            trigger_save(\"2\", result.returncode)\n",
    "\n",
    "# Creating the button.\n",
    "button = widgets.Button(description=\"Check For Table\")\n",
    "\n",
    "# Creating an output area.\n",
    "output2 = widgets.Output()\n",
    "\n",
    "# Run the command on click.\n",
    "button.on_click(check_step_2)\n",
    "\n",
    "# Display the output.\n",
    "display(button, output2)"
   ]
  },
  {
   "cell_type": "markdown",
   "metadata": {
    "deletable": false,
    "editable": false,
    "slideshow": {
     "slide_type": ""
    },
    "tags": []
   },
   "source": [
    "### Step 3: Inserting SQL Entries\n",
    "\n",
    "To add SQL entries into the table, use the ```INSERT INTO``` command. The syntax is: ```INSERT INTO table (column1, column2, ...) VALUES (A, B, ...), (C, D, ...), ...;```\n",
    "\n",
    "These are the following entries that you will need to add into the table:\n",
    "- ID: 100, Name: Aaron, Grade: A\n",
    "- ID: 101, Name: Danny, Grade: B\n",
    "- ID: 102, Name: Hannah, Grade: D\n",
    "- ID: 103, Name: Abby, Grade: ```NULL```\n",
    "\n",
    "When using ```INSERT```, the ```INT``` datatype does not require quotes, but ```CHAR``` or ```VARCHAR``` require quotes around them (similar to strings in programming languages).\n",
    "\n",
    "One of the entries contains a ```NULL``` value. SQL allows ```NULL``` values, but these are not equal to ```0``` or ```\"NULL\"```. <strong>```NULL``` is not a string</strong>. ```NULL``` is a variable itself to describe \"no data\". When you assign something to be ```NULL``` in SQL, it's done by writing ```INSERT INTO (...) VALUES (..., NULL)```.\n",
    "\n",
    "Add the four entries to the ```students``` table.\n",
    "\n",
    "<span style=\"color: green\"><strong><img src=\"resources/idea.png\" style=\"width: 12px\"> Tips:</strong></span>\n",
    "\n",
    "- Order does not matter when using ```INSERT INTO```. If you created your table as ```student_id```, ```student_grade```, then ```student_name```, you may use ```INSERT INTO students (student_id, student_name, student_grade), VALUES (...)```, where ```student_name``` and ```student_grade``` are in opposite order.\n",
    "- Not all DBMS's support double quotes. Some SQL modes only support single quotes. Fortunately, MariaDB supports both single quotes and double quotes. Backticks (``` ` ```) can be used to identify columns, though this is optional. However, it may be required if you make a (poor) decision naming an attribute after a reserved keyword, like ``` `column` ```.\n",
    "- As emphasized before, ```NULL``` is not a string. Consider this when adding your fourth entry. Integers cannot have quotes around them, and strings must have quotes around them.\n",
    "- <strong>If you make a mistake and want to delete a row</strong>, you may look ahead at Step 8, which describes the ```DELETE``` keyword."
   ]
  },
  {
   "cell_type": "code",
   "execution_count": 6,
   "metadata": {
    "deletable": false,
    "editable": false,
    "jupyter": {
     "source_hidden": true
    },
    "slideshow": {
     "slide_type": ""
    },
    "tags": []
   },
   "outputs": [
    {
     "data": {
      "application/vnd.jupyter.widget-view+json": {
       "model_id": "208f5e54470941b48abe26d5c2a9681f",
       "version_major": 2,
       "version_minor": 0
      },
      "text/plain": [
       "Button(description='Check For Table', style=ButtonStyle())"
      ]
     },
     "metadata": {},
     "output_type": "display_data"
    },
    {
     "data": {
      "application/vnd.jupyter.widget-view+json": {
       "model_id": "47b154be68aa4f84b9fbdadede944e91",
       "version_major": 2,
       "version_minor": 0
      },
      "text/plain": [
       "Output()"
      ]
     },
     "metadata": {},
     "output_type": "display_data"
    }
   ],
   "source": [
    "# Click the button below to check your work.\n",
    "step3Complete = False\n",
    "\n",
    "# Function to check the permissions.\n",
    "def step_3():\n",
    "    # Important variables that must be accessed outside of this function.\n",
    "    global step3Complete, step12Complete, result\n",
    "\n",
    "    with output3:\n",
    "        output3.clear_output()\n",
    "        display(HTML(\"<span><img width='12px' height='12px' style='margin-left: 3px;' src='resources/loading.gif'></span>\"))\n",
    "    \n",
    "    result = subprocess.run('ssh -o StrictHostKeyChecking=no -i /home/USERNAME_GOES_HERE/.ssh/merge_key USERNAME_GOES_HERE@sqli /home/.checker/section_1.py 3 NA', shell=True)\n",
    "\n",
    "    # Checking to see if step 12 was completed, because if it is, then this step was previously passed.\n",
    "    if (result.returncode == 0 or step12Complete):\n",
    "        output3.clear_output()\n",
    "        with output3:\n",
    "            display(HTML(\"<span style='color: green;'>Success! You may continue onto the next step.</span>\"))\n",
    "            step3Complete = True\n",
    "\n",
    "    elif (result.returncode == 1):\n",
    "        output3.clear_output()\n",
    "        with output3:\n",
    "            display(HTML(\"<span style='color: red;'>The four rows that were provided either cannot be found or have an incorrect value. Ensure that the only rows in your database are the ones listed above.</span>\"))\n",
    "            step3Complete = False\n",
    "    \n",
    "    elif (result.returncode == 2):\n",
    "        output3.clear_output()\n",
    "        with output3:\n",
    "            display(HTML(\"<span style='color: red;'>An error occurred when checking your database. Make sure you have completed the previous step(s). Otherwise, please contact your professor or TA.</span>\"))\n",
    "            step3Complete = False\n",
    "\n",
    "def check_step_3(b):\n",
    "    if (warn_student()):\n",
    "        output3.clear_output()\n",
    "        with output3:\n",
    "            display(HTML(\"<span style='color: red;'><strong>WARNING:</strong> You have an autosaved lab that you have not yet loaded. If you would like to load your progress, click \\\"Load Lab\\\" at the top of the notebook. Otherwise, clicking on this button again will assume you're restarting the lab!</span>\"))\n",
    "    else:\n",
    "        step_3()\n",
    "\n",
    "        # Auto-save.\n",
    "        if (not runAllSteps):\n",
    "            trigger_save(\"3\", result.returncode)\n",
    "\n",
    "# Creating the button.\n",
    "button = widgets.Button(description=\"Check For Table\")\n",
    "\n",
    "# Creating an output area.\n",
    "output3 = widgets.Output()\n",
    "\n",
    "# Run the command on click.\n",
    "button.on_click(check_step_3)\n",
    "\n",
    "# Display the output.\n",
    "display(button, output3)"
   ]
  },
  {
   "cell_type": "markdown",
   "metadata": {
    "deletable": false,
    "editable": false,
    "slideshow": {
     "slide_type": ""
    },
    "tags": []
   },
   "source": [
    "### Step 4: Practicing SQL Queries (Part 1)\n",
    "\n",
    "You now have a table that's populated with entries. Next, you are going to perform some SQL statements that will return rows from your table.\n",
    "\n",
    "This is an example of a SQL query: ```SELECT * FROM table WHERE condition```\n",
    "\n",
    "- ```SELECT *``` returns all columns. You are able to select certain columns of a table, like ```SELECT student_id```. \n",
    "- The ```FROM``` clause selects the table that you wish to grab entries from.\n",
    "- The ```WHERE``` clause takes a condition that returns entries that match it.\n",
    "\n",
    "Using the text prompt below, type a SQL statement that will print everything in the table. You do not need to use a ```WHERE``` clause for your query.\n",
    "\n",
    "<span style=\"color: green\"><strong><img src=\"resources/idea.png\" style=\"width: 12px\"> Tips:</strong></span> \n",
    "- You are encouraged to try running this in MariaDB on your ```sqli``` node first. When your answer is ready, you may copy your SQL query into the entry box.\n",
    "- <u>It's important to know the order in which you type SQL clauses.</u> You are not allowed to interchange the ```SELECT```, ```FROM```, and ```WHERE``` clauses. They must be in this order.\n",
    "- Remember that all SQL statements end with a semicolon.\n",
    "\n",
    "<strong>The remaining steps throughout this section will contain a \"Reset\" button.</strong> If you made an error to your database, and wish to revert your database to the previous step, click on the \"Reset\" button."
   ]
  },
  {
   "cell_type": "code",
   "execution_count": 7,
   "metadata": {
    "deletable": false,
    "editable": false,
    "jupyter": {
     "source_hidden": true
    },
    "slideshow": {
     "slide_type": ""
    },
    "tags": []
   },
   "outputs": [
    {
     "data": {
      "application/vnd.jupyter.widget-view+json": {
       "model_id": "98b5d88a43934c09858e1af3e1598ddb",
       "version_major": 2,
       "version_minor": 0
      },
      "text/plain": [
       "Output()"
      ]
     },
     "metadata": {},
     "output_type": "display_data"
    },
    {
     "data": {
      "application/vnd.jupyter.widget-view+json": {
       "model_id": "e62954fe922c46ec810a96be5215de9f",
       "version_major": 2,
       "version_minor": 0
      },
      "text/plain": [
       "Text(value='', description='Query:', layout=Layout(width='90%'), placeholder='Type your SQL query here')"
      ]
     },
     "metadata": {},
     "output_type": "display_data"
    },
    {
     "data": {
      "application/vnd.jupyter.widget-view+json": {
       "model_id": "174127c1ac304d2f94fa9f4d55e08c20",
       "version_major": 2,
       "version_minor": 0
      },
      "text/plain": [
       "Button(description='Run SQL Query', style=ButtonStyle())"
      ]
     },
     "metadata": {},
     "output_type": "display_data"
    },
    {
     "data": {
      "application/vnd.jupyter.widget-view+json": {
       "model_id": "eb292008bf57430d8a1f9e68f4720750",
       "version_major": 2,
       "version_minor": 0
      },
      "text/plain": [
       "Button(description='Reset Database', style=ButtonStyle())"
      ]
     },
     "metadata": {},
     "output_type": "display_data"
    },
    {
     "data": {
      "application/vnd.jupyter.widget-view+json": {
       "model_id": "90f264ec84b84c5d98858a2896c7f8f9",
       "version_major": 2,
       "version_minor": 0
      },
      "text/plain": [
       "Output()"
      ]
     },
     "metadata": {},
     "output_type": "display_data"
    }
   ],
   "source": [
    "# Click the button below to check your work.\n",
    "step4Complete = False\n",
    "\n",
    "# Function to check if the student's answer was correct.\n",
    "def step_4():\n",
    "    # Important variables that must be accessed outside of this function.\n",
    "    global step4Complete, result\n",
    "\n",
    "    # Loading, in case the check is slow.\n",
    "    with output4:\n",
    "        output4.clear_output()\n",
    "        display(HTML(\"<span><img width='12px' height='12px' style='margin-left: 3px;' src='resources/loading.gif'></span>\"))\n",
    "\n",
    "    # First, check to see if the field is empty.\n",
    "    if (userInput4.value == \"\"):\n",
    "        output4.clear_output()\n",
    "        with output4:\n",
    "            display(HTML(\"<span style='color: red;'>You did not provide input for this step.</span>\"))\n",
    "            step4Complete = False\n",
    "\n",
    "    else:\n",
    "        # Escape single quotes by replacing them with `'\\''`.\n",
    "        escaped_user_input = re.sub(r\"(\\\"|\\')\", r\"'\\''\", userInput4.value.strip())\n",
    "        \n",
    "        # Construct the SSH command for testing the SQL query.\n",
    "        sql_test_command = f\"\"\"ssh -i /home/USERNAME_GOES_HERE/.ssh/merge_key USERNAME_GOES_HERE@sqli \"/home/.checker/section_1.py 4 '{escaped_user_input}'\" \"\"\"\n",
    "        result = subprocess.run(sql_test_command, shell=True, stdout=subprocess.PIPE, stderr=subprocess.PIPE)\n",
    "        \n",
    "        # Construct the SSH command for saving the student's response.\n",
    "        save_command = f\"\"\"ssh -i /home/USERNAME_GOES_HERE/.ssh/merge_key USERNAME_GOES_HERE@sqli \"echo '{escaped_user_input}' > /home/.checker/responses/step_4_answer.txt\" \"\"\"\n",
    "        save_result = subprocess.run(save_command, shell=True, stdout=subprocess.PIPE, stderr=subprocess.PIPE)\n",
    "        \n",
    "        if (result.returncode == 0):\n",
    "            output4.clear_output()\n",
    "            with output4:\n",
    "                display(HTML(\"<span style='color: green;'>Your SQL query is correct!</span>\"))\n",
    "                step4Complete = True\n",
    "        \n",
    "        elif (result.returncode == 1):\n",
    "            output4.clear_output()\n",
    "            with output4:\n",
    "                display(HTML(\"<span style='color: red;'>Your SQL query is invalid or incorrect. Try again.</span>\"))\n",
    "                step4Complete = False\n",
    "        \n",
    "        elif (result.returncode == 2):\n",
    "            output4.clear_output()\n",
    "            with output4:\n",
    "                display(HTML(\"<span style='color: red;'>An error occurred when checking your database. Make sure you have completed the previous step(s). Otherwise, please contact your professor or TA.</span>\"))\n",
    "                step4Complete = False\n",
    "\n",
    "def check_step_4(b):\n",
    "    if (warn_student()):\n",
    "        output4.clear_output()\n",
    "        with output4:\n",
    "            display(HTML(\"<span style='color: red;'><strong>WARNING:</strong> You have an autosaved lab that you have not yet loaded. If you would like to load your progress, click \\\"Load Lab\\\" at the top of the notebook. Otherwise, clicking on this button again will assume you're restarting the lab!</span>\"))\n",
    "    else:\n",
    "        step_4()\n",
    "\n",
    "        # Auto-save.\n",
    "        if (not runAllSteps):\n",
    "            trigger_save(\"4\", result.returncode, userInput4.value)\n",
    "\n",
    "def reset_step_4(b):\n",
    "    if (not step3Complete or step4Complete):\n",
    "        output4.clear_output()\n",
    "        with output4:\n",
    "            display(HTML(\"<span style='color: red;'>You must complete the previous step before this button is enabled.</span>\"))\n",
    "\n",
    "    else:\n",
    "        result = subprocess.run('ssh -i /home/USERNAME_GOES_HERE/.ssh/merge_key USERNAME_GOES_HERE@sqli /home/.checker/reset_db.py 4', shell=True, stdout=subprocess.DEVNULL)\n",
    "    \n",
    "        output4.clear_output()\n",
    "        with output4:\n",
    "            if (result.returncode == 0):\n",
    "                display(HTML(\"<span>Your database has been reset.</span>\"))\n",
    "            elif (result.returncode == 1):\n",
    "                display(HTML(\"<span>Something wrong occurred and your database wasn't reset. Please contact your professor/TA.</span>\"))\n",
    "            elif (result.returncode == 2):\n",
    "                display(HTML(\"<span>A SQL error occurred. Please contact your professor/TA.</span>\"))\n",
    "\n",
    "    \n",
    "# Retrieve the student's response. First, create a loading spinner, since this could take a second or two.\n",
    "loading4 = widgets.Output()\n",
    "display(loading4)\n",
    "with loading4:\n",
    "    loading4.clear_output()\n",
    "    display(HTML(\"<span>Loading your saved response... <img width='12px' height='12px' style='margin-left: 3px;' src='resources/loading.gif'></span>\"))\n",
    "\n",
    "# Creating a text area.\n",
    "userInput4 = widgets.Text(\n",
    "    placeholder='Type your SQL query here',\n",
    "    description='Query:',\n",
    "    layout=widgets.Layout(width='90%')\n",
    ")\n",
    "\n",
    "# Checking if the step has been answered.\n",
    "result = subprocess.run('ssh -o StrictHostKeyChecking=no -i /home/USERNAME_GOES_HERE/.ssh/merge_key USERNAME_GOES_HERE@sqli \"cat /home/.checker/responses/step_4_answer.txt 2> /dev/null\"', capture_output=True, text=True, shell=True)\n",
    "userInput4.value = result.stdout\n",
    "\n",
    "# After the student's response was loaded, clear the output.\n",
    "loading4.clear_output()\n",
    "\n",
    "# Creating the button.\n",
    "button = widgets.Button(description=\"Run SQL Query\")\n",
    "\n",
    "# Create an extra button for resetting the database.\n",
    "button_step_4 = widgets.Button(description=\"Reset Database\")\n",
    "\n",
    "# Creating an output area.\n",
    "output4 = widgets.Output()\n",
    "\n",
    "# Run the command on click.\n",
    "button.on_click(check_step_4)\n",
    "button_step_4.on_click(reset_step_4)\n",
    "\n",
    "# Display the output.\n",
    "display(userInput4, button, button_step_4, output4)"
   ]
  },
  {
   "cell_type": "markdown",
   "metadata": {
    "deletable": false,
    "editable": false,
    "slideshow": {
     "slide_type": ""
    },
    "tags": []
   },
   "source": [
    "### Step 5: Practicing SQL Queries (Part 2)\n",
    "\n",
    "The ```WHERE``` clause takes different types of conditions. Here are some examples:\n",
    "- ```WHERE id < 200```\n",
    "- ```WHERE name != \"Adam\"```\n",
    "  - ```<>``` is another operator for \"not equal\" in MariaDB.\n",
    "- ```WHERE city LIKE \"San %\"```\n",
    "  - The ```%``` is a wildcard, where any length of characters are accepted.\n",
    "  - The ```_``` is a wildcard for a single character. Using two ```_```'s will match two random characters.\n",
    "\n",
    "Using the ```WHERE``` clause, type a SQL statement that will return all students that have an \"A\" for a grade.\n",
    "\n",
    "<span style=\"color: green\"><strong><img src=\"resources/idea.png\" style=\"width: 12px\"> Tip:</strong></span> Your ```WHERE``` statement must consist of matching one of your columns with a ```VARCHAR``` (a string). Recall that comparing strings in SQL need \"quotes\" around them. You may use either single quotes or double quotes."
   ]
  },
  {
   "cell_type": "code",
   "execution_count": 8,
   "metadata": {
    "deletable": false,
    "editable": false,
    "jupyter": {
     "source_hidden": true
    },
    "slideshow": {
     "slide_type": ""
    },
    "tags": []
   },
   "outputs": [
    {
     "data": {
      "application/vnd.jupyter.widget-view+json": {
       "model_id": "8457e2f00c1946399ddecd7dc658879f",
       "version_major": 2,
       "version_minor": 0
      },
      "text/plain": [
       "Output()"
      ]
     },
     "metadata": {},
     "output_type": "display_data"
    },
    {
     "data": {
      "application/vnd.jupyter.widget-view+json": {
       "model_id": "608c165ae6054106a358781a230dd439",
       "version_major": 2,
       "version_minor": 0
      },
      "text/plain": [
       "Text(value='', description='Query:', layout=Layout(width='90%'), placeholder='Type your SQL query here')"
      ]
     },
     "metadata": {},
     "output_type": "display_data"
    },
    {
     "data": {
      "application/vnd.jupyter.widget-view+json": {
       "model_id": "8573d5903e034d79b29d0b41839bbd65",
       "version_major": 2,
       "version_minor": 0
      },
      "text/plain": [
       "Button(description='Run SQL Query', style=ButtonStyle())"
      ]
     },
     "metadata": {},
     "output_type": "display_data"
    },
    {
     "data": {
      "application/vnd.jupyter.widget-view+json": {
       "model_id": "dfb2f912a3544a5da56f497febcdca8c",
       "version_major": 2,
       "version_minor": 0
      },
      "text/plain": [
       "Button(description='Reset Database', style=ButtonStyle())"
      ]
     },
     "metadata": {},
     "output_type": "display_data"
    },
    {
     "data": {
      "application/vnd.jupyter.widget-view+json": {
       "model_id": "4a24e9c64fc546ee9a57baad6735c147",
       "version_major": 2,
       "version_minor": 0
      },
      "text/plain": [
       "Output()"
      ]
     },
     "metadata": {},
     "output_type": "display_data"
    }
   ],
   "source": [
    "# Click the button below to check your work.\n",
    "step5Complete = False\n",
    "\n",
    "# Function to check if the student's answer was correct.\n",
    "def step_5():\n",
    "    # Important variables that must be accessed outside of this function.\n",
    "    global step5Complete, result\n",
    "\n",
    "    # Loading, in case the check is slow.\n",
    "    with output5:\n",
    "        output5.clear_output()\n",
    "        display(HTML(\"<span><img width='12px' height='12px' style='margin-left: 3px;' src='resources/loading.gif'></span>\"))\n",
    "\n",
    "    # First, check to see if the field is empty.\n",
    "    if (userInput5.value == \"\"):\n",
    "        output5.clear_output()\n",
    "        with output5:\n",
    "            display(HTML(\"<span style='color: red;'>You did not provide input for this step.</span>\"))\n",
    "            step5Complete = False\n",
    "\n",
    "    else:\n",
    "        # Escape single quotes by replacing them with `'\\''`.\n",
    "        escaped_user_input = re.sub(r\"(\\\"|\\')\", r\"'\\''\", userInput5.value.strip())\n",
    "        \n",
    "        # Construct the SSH command for testing the SQL query.\n",
    "        sql_test_command = f\"\"\"ssh -i /home/USERNAME_GOES_HERE/.ssh/merge_key USERNAME_GOES_HERE@sqli \"/home/.checker/section_1.py 5 '{escaped_user_input}'\" \"\"\"\n",
    "        result = subprocess.run(sql_test_command, shell=True, stdout=subprocess.PIPE, stderr=subprocess.PIPE)\n",
    "        \n",
    "        # Construct the SSH command for saving the student's response.\n",
    "        save_command = f\"\"\"ssh -i /home/USERNAME_GOES_HERE/.ssh/merge_key USERNAME_GOES_HERE@sqli \"echo '{escaped_user_input}' > /home/.checker/responses/step_5_answer.txt\" \"\"\"\n",
    "        save_result = subprocess.run(save_command, shell=True, stdout=subprocess.PIPE, stderr=subprocess.PIPE)\n",
    "        \n",
    "        if (result.returncode == 0):\n",
    "            output5.clear_output()\n",
    "            with output5:\n",
    "                display(HTML(\"<span style='color: green;'>Your SQL query is correct!</span>\"))\n",
    "                step5Complete = True\n",
    "        \n",
    "        elif (result.returncode == 1):\n",
    "            output5.clear_output()\n",
    "            with output5:\n",
    "                display(HTML(\"<span style='color: red;'>Your SQL query is invalid or incorrect. Try again.</span>\"))\n",
    "                step5Complete = False\n",
    "        \n",
    "        elif (result.returncode == 2):\n",
    "            output5.clear_output()\n",
    "            with output5:\n",
    "                display(HTML(\"<span style='color: red;'>An error occurred when checking your database. Make sure you have completed the previous step(s). Otherwise, please contact your professor or TA.</span>\"))\n",
    "                step5Complete = False\n",
    "\n",
    "def check_step_5(b):\n",
    "    if (warn_student()):\n",
    "        output5.clear_output()\n",
    "        with output5:\n",
    "            display(HTML(\"<span style='color: red;'><strong>WARNING:</strong> You have an autosaved lab that you have not yet loaded. If you would like to load your progress, click \\\"Load Lab\\\" at the top of the notebook. Otherwise, clicking on this button again will assume you're restarting the lab!</span>\"))\n",
    "    else:\n",
    "        step_5()\n",
    "\n",
    "        # Auto-save.\n",
    "        if (not runAllSteps):\n",
    "            trigger_save(\"5\", result.returncode, userInput5.value)\n",
    "\n",
    "def reset_step_5(b):\n",
    "    global step4Complete, step5Complete\n",
    "    if (not step4Complete or step5Complete):\n",
    "        output5.clear_output()\n",
    "        with output5:\n",
    "            display(HTML(\"<span style='color: red;'>You must complete the previous step before this button is enabled.</span>\"))\n",
    "\n",
    "    else:\n",
    "        result = subprocess.run('ssh -i /home/USERNAME_GOES_HERE/.ssh/merge_key USERNAME_GOES_HERE@sqli /home/.checker/reset_db.py 5', shell=True, stdout=subprocess.DEVNULL)\n",
    "    \n",
    "        output5.clear_output()\n",
    "        with output5:\n",
    "            if (result.returncode == 0):\n",
    "                display(HTML(\"<span>Your database has been reset.</span>\"))\n",
    "            elif (result.returncode == 1):\n",
    "                display(HTML(\"<span>Something wrong occurred and your database wasn't reset. Please contact your professor/TA.</span>\"))\n",
    "            elif (result.returncode == 2):\n",
    "                display(HTML(\"<span>A SQL error occurred. Please contact your professor/TA.</span>\"))\n",
    "\n",
    "# Retrieve the student's response. First, create a loading spinner, since this could take a second or two.\n",
    "loading5 = widgets.Output()\n",
    "display(loading5)\n",
    "with loading5:\n",
    "    loading5.clear_output()\n",
    "    display(HTML(\"<span>Loading your saved response... <img width='12px' height='12px' style='margin-left: 3px;' src='resources/loading.gif'></span>\"))\n",
    "\n",
    "# Creating a text area.\n",
    "userInput5 = widgets.Text(\n",
    "    placeholder='Type your SQL query here',\n",
    "    description='Query:',\n",
    "    layout=widgets.Layout(width='90%')\n",
    ")\n",
    "\n",
    "# Checking if the step has been answered.\n",
    "result = subprocess.run('ssh -o StrictHostKeyChecking=no -i /home/USERNAME_GOES_HERE/.ssh/merge_key USERNAME_GOES_HERE@sqli \"cat /home/.checker/responses/step_5_answer.txt 2> /dev/null\"', capture_output=True, text=True, shell=True)\n",
    "userInput5.value = result.stdout\n",
    "\n",
    "# After the student's response was loaded, clear the output.\n",
    "loading5.clear_output()\n",
    "\n",
    "# Creating the button.\n",
    "button = widgets.Button(description=\"Run SQL Query\")\n",
    "\n",
    "# Create an extra button for resetting the database.\n",
    "button_step_5 = widgets.Button(description=\"Reset Database\")\n",
    "\n",
    "# Creating an output area.\n",
    "output5 = widgets.Output()\n",
    "\n",
    "# Run the command on click.\n",
    "button.on_click(check_step_5)\n",
    "button_step_5.on_click(reset_step_5)\n",
    "\n",
    "# Display the output.\n",
    "display(userInput5, button, button_step_5, output5)"
   ]
  },
  {
   "cell_type": "markdown",
   "metadata": {
    "deletable": false,
    "editable": false,
    "slideshow": {
     "slide_type": ""
    },
    "tags": []
   },
   "source": [
    "### Step 6: Practicing SQL Queries (Part 3)\n",
    "\n",
    "Type a SQL statement that returns all students who do not have a ```NULL``` grade.\n",
    "\n",
    "<span style=\"color: green\"><strong><img src=\"resources/idea.png\" style=\"width: 12px\"> Tip:</strong></span> Recall that ```NULL``` is not a string, therefore it cannot be tested like the previous step. Instead, use ```IS NOT NULL``` in your ```WHERE``` statement."
   ]
  },
  {
   "cell_type": "code",
   "execution_count": 9,
   "metadata": {
    "deletable": false,
    "editable": false,
    "jupyter": {
     "source_hidden": true
    },
    "slideshow": {
     "slide_type": ""
    },
    "tags": []
   },
   "outputs": [
    {
     "data": {
      "application/vnd.jupyter.widget-view+json": {
       "model_id": "e594952dc46043bea7db50369528fda7",
       "version_major": 2,
       "version_minor": 0
      },
      "text/plain": [
       "Output()"
      ]
     },
     "metadata": {},
     "output_type": "display_data"
    },
    {
     "data": {
      "application/vnd.jupyter.widget-view+json": {
       "model_id": "463fcec70b9a4b8eaa8786f2fe2942c7",
       "version_major": 2,
       "version_minor": 0
      },
      "text/plain": [
       "Text(value='', description='Query:', layout=Layout(width='90%'), placeholder='Type your SQL query here')"
      ]
     },
     "metadata": {},
     "output_type": "display_data"
    },
    {
     "data": {
      "application/vnd.jupyter.widget-view+json": {
       "model_id": "40c46867c8444a55b62ad80d67c6197a",
       "version_major": 2,
       "version_minor": 0
      },
      "text/plain": [
       "Button(description='Run SQL Query', style=ButtonStyle())"
      ]
     },
     "metadata": {},
     "output_type": "display_data"
    },
    {
     "data": {
      "application/vnd.jupyter.widget-view+json": {
       "model_id": "8c962eb49ca94562bba386b096df0faa",
       "version_major": 2,
       "version_minor": 0
      },
      "text/plain": [
       "Button(description='Reset Database', style=ButtonStyle())"
      ]
     },
     "metadata": {},
     "output_type": "display_data"
    },
    {
     "data": {
      "application/vnd.jupyter.widget-view+json": {
       "model_id": "baaf1e72a0634a5a841a704768a379a3",
       "version_major": 2,
       "version_minor": 0
      },
      "text/plain": [
       "Output()"
      ]
     },
     "metadata": {},
     "output_type": "display_data"
    }
   ],
   "source": [
    "# Click the button below to check your work.\n",
    "step6Complete = False\n",
    "\n",
    "# Function to check if the student's answer was correct.\n",
    "def step_6():\n",
    "    # Important variables that must be accessed outside of this function.\n",
    "    global step6Complete, result\n",
    "\n",
    "    # Loading, in case the check is slow.\n",
    "    with output6:\n",
    "        output6.clear_output()\n",
    "        display(HTML(\"<span><img width='12px' height='12px' style='margin-left: 3px;' src='resources/loading.gif'></span>\"))\n",
    "\n",
    "    # First, check to see if the field is empty.\n",
    "    if (userInput6.value == \"\"):\n",
    "        output6.clear_output()\n",
    "        with output6:\n",
    "            display(HTML(\"<span style='color: red;'>You did not provide input for this step.</span>\"))\n",
    "            step6Complete = False\n",
    "\n",
    "    else:\n",
    "        # Escape single quotes by replacing them with `'\\''`.\n",
    "        escaped_user_input = re.sub(r\"(\\\"|\\')\", r\"'\\''\", userInput6.value.strip())\n",
    "        \n",
    "        # Construct the SSH command for testing the SQL query.\n",
    "        sql_test_command = f\"\"\"ssh -i /home/USERNAME_GOES_HERE/.ssh/merge_key USERNAME_GOES_HERE@sqli \"/home/.checker/section_1.py 6 '{escaped_user_input}'\" \"\"\"\n",
    "        result = subprocess.run(sql_test_command, shell=True, stdout=subprocess.PIPE, stderr=subprocess.PIPE)\n",
    "        \n",
    "        # Construct the SSH command for saving the student's response.\n",
    "        save_command = f\"\"\"ssh -i /home/USERNAME_GOES_HERE/.ssh/merge_key USERNAME_GOES_HERE@sqli \"echo '{escaped_user_input}' > /home/.checker/responses/step_6_answer.txt\" \"\"\"\n",
    "        save_result = subprocess.run(save_command, shell=True, stdout=subprocess.PIPE, stderr=subprocess.PIPE)\n",
    "        \n",
    "        if (result.returncode == 0):\n",
    "            output6.clear_output()\n",
    "            with output6:\n",
    "                display(HTML(\"<span style='color: green;'>Your SQL query is correct!</span>\"))\n",
    "                step6Complete = True\n",
    "        \n",
    "        elif (result.returncode == 1):\n",
    "            output6.clear_output()\n",
    "            with output6:\n",
    "                display(HTML(\"<span style='color: red;'>Your SQL query is invalid or incorrect. Try again.</span>\"))\n",
    "                step6Complete = False\n",
    "        \n",
    "        elif (result.returncode == 2):\n",
    "            output6.clear_output()\n",
    "            with output6:\n",
    "                display(HTML(\"<span style='color: red;'>An error occurred when checking your database. Make sure you have completed the previous step(s). Otherwise, please contact your professor or TA.</span>\"))\n",
    "                step6Complete = False\n",
    "\n",
    "def check_step_6(b):\n",
    "    if (warn_student()):\n",
    "        output6.clear_output()\n",
    "        with output6:\n",
    "            display(HTML(\"<span style='color: red;'><strong>WARNING:</strong> You have an autosaved lab that you have not yet loaded. If you would like to load your progress, click \\\"Load Lab\\\" at the top of the notebook. Otherwise, clicking on this button again will assume you're restarting the lab!</span>\"))\n",
    "    else:\n",
    "        step_6()\n",
    "\n",
    "        # Auto-save.\n",
    "        if (not runAllSteps):\n",
    "            trigger_save(\"6\", result.returncode, userInput6.value)\n",
    "\n",
    "def reset_step_6(b):\n",
    "    if (not step5Complete):\n",
    "        output6.clear_output()\n",
    "        with output6:\n",
    "            display(HTML(\"<span style='color: red;'>You must complete the previous step before this button is enabled.</span>\"))\n",
    "\n",
    "    else:\n",
    "        result = subprocess.run('ssh -i /home/USERNAME_GOES_HERE/.ssh/merge_key USERNAME_GOES_HERE@sqli /home/.checker/reset_db.py 6', shell=True, stdout=subprocess.DEVNULL)\n",
    "    \n",
    "        output6.clear_output()\n",
    "        with output6:\n",
    "            if (result.returncode == 0):\n",
    "                display(HTML(\"<span>Your database has been reset.</span>\"))\n",
    "            elif (result.returncode == 1):\n",
    "                display(HTML(\"<span>Something wrong occurred and your database wasn't reset. Please contact your professor/TA.</span>\"))\n",
    "            elif (result.returncode == 2):\n",
    "                display(HTML(\"<span>A SQL error occurred. Please contact your professor/TA.</span>\"))\n",
    "\n",
    "# Retrieve the student's response. First, create a loading spinner, since this could take a second or two.\n",
    "loading6 = widgets.Output()\n",
    "display(loading6)\n",
    "with loading6:\n",
    "    loading6.clear_output()\n",
    "    display(HTML(\"<span>Loading your saved response... <img width='12px' height='12px' style='margin-left: 3px;' src='resources/loading.gif'></span>\"))\n",
    "\n",
    "# Creating a text area.\n",
    "userInput6 = widgets.Text(\n",
    "    placeholder='Type your SQL query here',\n",
    "    description='Query:',\n",
    "    layout=widgets.Layout(width='90%')\n",
    ")\n",
    "\n",
    "# Checking if the step has been answered.\n",
    "result = subprocess.run('ssh -o StrictHostKeyChecking=no -i /home/USERNAME_GOES_HERE/.ssh/merge_key USERNAME_GOES_HERE@sqli \"cat /home/.checker/responses/step_6_answer.txt 2> /dev/null\"', capture_output=True, text=True, shell=True)\n",
    "userInput6.value = result.stdout\n",
    "\n",
    "# After the student's response was loaded, clear the output.\n",
    "loading6.clear_output()\n",
    "\n",
    "# Creating the button.\n",
    "button = widgets.Button(description=\"Run SQL Query\")\n",
    "\n",
    "# Create an extra button for resetting the database.\n",
    "button_step_6 = widgets.Button(description=\"Reset Database\")\n",
    "\n",
    "# Creating an output area.\n",
    "output6 = widgets.Output()\n",
    "\n",
    "# Run the command on click.\n",
    "button.on_click(check_step_6)\n",
    "button_step_6.on_click(reset_step_6)\n",
    "\n",
    "# Display the output.\n",
    "display(userInput6, button, button_step_6, output6)"
   ]
  },
  {
   "cell_type": "markdown",
   "metadata": {
    "deletable": false,
    "editable": false,
    "slideshow": {
     "slide_type": ""
    },
    "tags": []
   },
   "source": [
    "### Step 7: Practicing SQL Queries (Part 4)\n",
    "\n",
    "SQL rows can be updated by using the ```UPDATE``` command.\n",
    "\n",
    "The syntax works as follows: ```UPDATE table SET column1 = value1, column2 = value2, ... WHERE condition;```\n",
    "\n",
    "The ```WHERE``` clause is optional within the ```UPDATE``` command. However, when not matching a condition, it will change all values in a given column to a certain amount. Therefore, it's practical to use ```WHERE``` when working with the ```UPDATE``` command.\n",
    "\n",
    "For example, if you didn't use ```WHERE```, the command ```UPDATE students SET student_name = 'Harry';``` will change everyone's name to Harry.\n",
    "\n",
    "Type a SQL statement that changes Aaron's grade to a B.\n",
    "\n",
    "<span style=\"color: green\"><strong><img src=\"resources/idea.png\" style=\"width: 12px\"> Tip:</strong></span> If you need to revert your database back to what it originally was, you may click on the \"Reset\" button. This will add all entries back to your database again."
   ]
  },
  {
   "cell_type": "code",
   "execution_count": 10,
   "metadata": {
    "deletable": false,
    "editable": false,
    "jupyter": {
     "source_hidden": true
    },
    "slideshow": {
     "slide_type": ""
    },
    "tags": []
   },
   "outputs": [
    {
     "data": {
      "application/vnd.jupyter.widget-view+json": {
       "model_id": "b02ea443bea64a52a0a5010cce96720c",
       "version_major": 2,
       "version_minor": 0
      },
      "text/plain": [
       "Output()"
      ]
     },
     "metadata": {},
     "output_type": "display_data"
    },
    {
     "data": {
      "application/vnd.jupyter.widget-view+json": {
       "model_id": "2ed48d757e114b62b5cac14af57d316b",
       "version_major": 2,
       "version_minor": 0
      },
      "text/plain": [
       "Text(value='', description='Query:', layout=Layout(width='90%'), placeholder='Type your SQL query here')"
      ]
     },
     "metadata": {},
     "output_type": "display_data"
    },
    {
     "data": {
      "application/vnd.jupyter.widget-view+json": {
       "model_id": "be5e5b88187c464b8efd2011cd636950",
       "version_major": 2,
       "version_minor": 0
      },
      "text/plain": [
       "Button(description='Run SQL Query', style=ButtonStyle())"
      ]
     },
     "metadata": {},
     "output_type": "display_data"
    },
    {
     "data": {
      "application/vnd.jupyter.widget-view+json": {
       "model_id": "2a04d9a8a05e48519f8975fff1c3d571",
       "version_major": 2,
       "version_minor": 0
      },
      "text/plain": [
       "Button(description='Reset Database', style=ButtonStyle())"
      ]
     },
     "metadata": {},
     "output_type": "display_data"
    },
    {
     "data": {
      "application/vnd.jupyter.widget-view+json": {
       "model_id": "8e6439164cc745da981317c1960ca2c5",
       "version_major": 2,
       "version_minor": 0
      },
      "text/plain": [
       "Output()"
      ]
     },
     "metadata": {},
     "output_type": "display_data"
    }
   ],
   "source": [
    "# Click the button below to check your work.\n",
    "step7Complete = False\n",
    "\n",
    "# Function to check if the student's answer was correct.\n",
    "def step_7():\n",
    "    # Important variables that must be accessed outside of this function.\n",
    "    global step7Complete, result\n",
    "\n",
    "    # Loading, in case the check is slow.\n",
    "    with output7:\n",
    "        output7.clear_output()\n",
    "        display(HTML(\"<span><img width='12px' height='12px' style='margin-left: 3px;' src='resources/loading.gif'></span>\"))\n",
    "\n",
    "    # First, check to see if the field is empty.\n",
    "    if (userInput7.value == \"\"):\n",
    "        output7.clear_output()\n",
    "        with output7:\n",
    "            display(HTML(\"<span style='color: red;'>You did not provide input for this step.</span>\"))\n",
    "            step7Complete = False\n",
    "\n",
    "    else:\n",
    "        # Escape single quotes by replacing them with `'\\''`.\n",
    "        escaped_user_input = re.sub(r\"(\\\"|\\')\", r\"'\\''\", userInput7.value.strip())\n",
    "        \n",
    "        # Construct the SSH command for testing the SQL query.\n",
    "        sql_test_command = f\"\"\"ssh -i /home/USERNAME_GOES_HERE/.ssh/merge_key USERNAME_GOES_HERE@sqli \"/home/.checker/section_1.py 7 '{escaped_user_input}'\" \"\"\"\n",
    "        result = subprocess.run(sql_test_command, shell=True, stdout=subprocess.PIPE, stderr=subprocess.PIPE)\n",
    "        \n",
    "        # Construct the SSH command for saving the student's response.\n",
    "        save_command = f\"\"\"ssh -i /home/USERNAME_GOES_HERE/.ssh/merge_key USERNAME_GOES_HERE@sqli \"echo '{escaped_user_input}' > /home/.checker/responses/step_7_answer.txt\" \"\"\"\n",
    "        save_result = subprocess.run(save_command, shell=True, stdout=subprocess.PIPE, stderr=subprocess.PIPE)\n",
    "        \n",
    "        if (result.returncode == 0):\n",
    "            output7.clear_output()\n",
    "            with output7:\n",
    "                display(HTML(\"<span style='color: green;'>Your SQL query is correct!</span>\"))\n",
    "                step7Complete = True\n",
    "        \n",
    "        elif (result.returncode == 1):\n",
    "            output7.clear_output()\n",
    "            with output7:\n",
    "                display(HTML(\"<span style='color: red;'>Your SQL query is invalid or incorrect. Try again.</span>\"))\n",
    "                step7Complete = False\n",
    "        \n",
    "        elif (result.returncode == 2):\n",
    "            output7.clear_output()\n",
    "            with output7:\n",
    "                display(HTML(\"<span style='color: red;'>An error occurred when checking your database. Make sure you have completed the previous step(s). Otherwise, please contact your professor or TA.</span>\"))\n",
    "                step7Complete = False\n",
    "\n",
    "def check_step_7(b):\n",
    "    if (warn_student()):\n",
    "        output7.clear_output()\n",
    "        with output7:\n",
    "            display(HTML(\"<span style='color: red;'><strong>WARNING:</strong> You have an autosaved lab that you have not yet loaded. If you would like to load your progress, click \\\"Load Lab\\\" at the top of the notebook. Otherwise, clicking on this button again will assume you're restarting the lab!</span>\"))\n",
    "    else:\n",
    "        step_7()\n",
    "\n",
    "        # Auto-save.\n",
    "        if (not runAllSteps):\n",
    "            trigger_save(\"7\", result.returncode, userInput7.value)\n",
    "\n",
    "def reset_step_7(b):\n",
    "    if (not step6Complete):\n",
    "        output7.clear_output()\n",
    "        with output7:\n",
    "            display(HTML(\"<span style='color: red;'>You must complete the previous step before this button is enabled.</span>\"))\n",
    "\n",
    "    else:\n",
    "        result = subprocess.run('ssh -i /home/USERNAME_GOES_HERE/.ssh/merge_key USERNAME_GOES_HERE@sqli /home/.checker/reset_db.py 7', shell=True, stdout=subprocess.DEVNULL)\n",
    "    \n",
    "        output7.clear_output()\n",
    "        with output7:\n",
    "            if (result.returncode == 0):\n",
    "                display(HTML(\"<span>Your database has been reset.</span>\"))\n",
    "            elif (result.returncode == 1):\n",
    "                display(HTML(\"<span>Something wrong occurred and your database wasn't reset. Please contact your professor/TA.</span>\"))\n",
    "            elif (result.returncode == 2):\n",
    "                display(HTML(\"<span>A SQL error occurred. Please contact your professor/TA.</span>\"))\n",
    "\n",
    "# Retrieve the student's response. First, create a loading spinner, since this could take a second or two.\n",
    "loading7 = widgets.Output()\n",
    "display(loading7)\n",
    "with loading7:\n",
    "    loading7.clear_output()\n",
    "    display(HTML(\"<span>Loading your saved response... <img width='12px' height='12px' style='margin-left: 3px;' src='resources/loading.gif'></span>\"))\n",
    "\n",
    "# Creating a text area.\n",
    "userInput7 = widgets.Text(\n",
    "    placeholder='Type your SQL query here',\n",
    "    description='Query:',\n",
    "    layout=widgets.Layout(width='90%')\n",
    ")\n",
    "\n",
    "# Checking if the step has been answered.\n",
    "result = subprocess.run('ssh -o StrictHostKeyChecking=no -i /home/USERNAME_GOES_HERE/.ssh/merge_key USERNAME_GOES_HERE@sqli \"cat /home/.checker/responses/step_7_answer.txt 2> /dev/null\"', capture_output=True, text=True, shell=True)\n",
    "userInput7.value = result.stdout\n",
    "\n",
    "# After the student's response was loaded, clear the output.\n",
    "loading7.clear_output()\n",
    "\n",
    "# Creating the button.\n",
    "button = widgets.Button(description=\"Run SQL Query\")\n",
    "\n",
    "# Create an extra button for resetting the database.\n",
    "button_step_7 = widgets.Button(description=\"Reset Database\")\n",
    "\n",
    "# Creating an output area.\n",
    "output7 = widgets.Output()\n",
    "\n",
    "# Run the command on click.\n",
    "button.on_click(check_step_7)\n",
    "button_step_7.on_click(reset_step_7)\n",
    "\n",
    "# Display the output.\n",
    "display(userInput7, button, button_step_7, output7)"
   ]
  },
  {
   "cell_type": "markdown",
   "metadata": {
    "deletable": false,
    "editable": false,
    "slideshow": {
     "slide_type": ""
    },
    "tags": []
   },
   "source": [
    "### Step 8: Practicing SQL Queries (Part 5)\n",
    "\n",
    "SQL rows can also be removed by using the ```DELETE``` command.\n",
    "\n",
    "The syntax for ```DELETE``` is: ```DELETE FROM table WHERE condition;```\n",
    "\n",
    "Type a SQL statement that removes everyone whose grade is NULL.\n",
    "\n",
    "<span style=\"color: green\"><strong><img src=\"resources/idea.png\" style=\"width: 12px\"> Tip:</strong></span> If you need to revert your database, you may click on the \"Reset\" button. Since you have completed Step 8, it will not reverse your progress from the previous step."
   ]
  },
  {
   "cell_type": "code",
   "execution_count": 11,
   "metadata": {
    "deletable": false,
    "editable": false,
    "jupyter": {
     "source_hidden": true
    },
    "slideshow": {
     "slide_type": ""
    },
    "tags": []
   },
   "outputs": [
    {
     "data": {
      "application/vnd.jupyter.widget-view+json": {
       "model_id": "530f1f4f477443afbbe5d24a51f35356",
       "version_major": 2,
       "version_minor": 0
      },
      "text/plain": [
       "Output()"
      ]
     },
     "metadata": {},
     "output_type": "display_data"
    },
    {
     "data": {
      "application/vnd.jupyter.widget-view+json": {
       "model_id": "a1a4c56af69e4aae89ec1219470b52f7",
       "version_major": 2,
       "version_minor": 0
      },
      "text/plain": [
       "Text(value='', description='Query:', layout=Layout(width='90%'), placeholder='Type your SQL query here')"
      ]
     },
     "metadata": {},
     "output_type": "display_data"
    },
    {
     "data": {
      "application/vnd.jupyter.widget-view+json": {
       "model_id": "397b41c78aa34ef48933a423a3e7de6e",
       "version_major": 2,
       "version_minor": 0
      },
      "text/plain": [
       "Button(description='Run SQL Query', style=ButtonStyle())"
      ]
     },
     "metadata": {},
     "output_type": "display_data"
    },
    {
     "data": {
      "application/vnd.jupyter.widget-view+json": {
       "model_id": "f8a24a73eeb645cd8c5e679cac3075e4",
       "version_major": 2,
       "version_minor": 0
      },
      "text/plain": [
       "Button(description='Reset Database', style=ButtonStyle())"
      ]
     },
     "metadata": {},
     "output_type": "display_data"
    },
    {
     "data": {
      "application/vnd.jupyter.widget-view+json": {
       "model_id": "a1a673c6e19049a19ba31035e02c590a",
       "version_major": 2,
       "version_minor": 0
      },
      "text/plain": [
       "Output()"
      ]
     },
     "metadata": {},
     "output_type": "display_data"
    }
   ],
   "source": [
    "# Click the button below to check your work.\n",
    "step8Complete = False\n",
    "\n",
    "# Function to check if the student's answer was correct.\n",
    "def step_8():\n",
    "    # Important variables that must be accessed outside of this function.\n",
    "    global step8Complete, result\n",
    "\n",
    "    # Loading, in case the check is slow.\n",
    "    with output8:\n",
    "        output8.clear_output()\n",
    "        display(HTML(\"<span><img width='12px' height='12px' style='margin-left: 3px;' src='resources/loading.gif'></span>\"))\n",
    "\n",
    "    # First, check to see if the field is empty.\n",
    "    if (userInput8.value == \"\"):\n",
    "        output8.clear_output()\n",
    "        with output8:\n",
    "            display(HTML(\"<span style='color: red;'>You did not provide input for this step.</span>\"))\n",
    "            step8Complete = False\n",
    "\n",
    "    else:\n",
    "        # Escape single quotes by replacing them with `'\\''`.\n",
    "        escaped_user_input = re.sub(r\"(\\\"|\\')\", r\"'\\''\", userInput8.value.strip())\n",
    "        \n",
    "        # Construct the SSH command for testing the SQL query.\n",
    "        sql_test_command = f\"\"\"ssh -i /home/USERNAME_GOES_HERE/.ssh/merge_key USERNAME_GOES_HERE@sqli \"/home/.checker/section_1.py 8 '{escaped_user_input}'\" \"\"\"\n",
    "        result = subprocess.run(sql_test_command, shell=True, stdout=subprocess.PIPE, stderr=subprocess.PIPE)\n",
    "        \n",
    "        # Construct the SSH command for saving the student's response.\n",
    "        save_command = f\"\"\"ssh -i /home/USERNAME_GOES_HERE/.ssh/merge_key USERNAME_GOES_HERE@sqli \"echo '{escaped_user_input}' > /home/.checker/responses/step_8_answer.txt\" \"\"\"\n",
    "        save_result = subprocess.run(save_command, shell=True, stdout=subprocess.PIPE, stderr=subprocess.PIPE)\n",
    "        \n",
    "        if (result.returncode == 0):\n",
    "            output8.clear_output()\n",
    "            with output8:\n",
    "                display(HTML(\"<span style='color: green;'>Your SQL query is correct!</span>\"))\n",
    "                step8Complete = True\n",
    "        \n",
    "        elif (result.returncode == 1):\n",
    "            output8.clear_output()\n",
    "            with output8:\n",
    "                display(HTML(\"<span style='color: red;'>Your SQL query is invalid or incorrect. Try again.</span>\"))\n",
    "                step8Complete = False\n",
    "        \n",
    "        elif (result.returncode == 2):\n",
    "            output8.clear_output()\n",
    "            with output8:\n",
    "                display(HTML(\"<span style='color: red;'>An error occurred when checking your database. Make sure you have completed the previous step(s). Otherwise, please contact your professor or TA.</span>\"))\n",
    "                step8Complete = False\n",
    "\n",
    "def check_step_8(b):\n",
    "    if (warn_student()):\n",
    "        output8.clear_output()\n",
    "        with output8:\n",
    "            display(HTML(\"<span style='color: red;'><strong>WARNING:</strong> You have an autosaved lab that you have not yet loaded. If you would like to load your progress, click \\\"Load Lab\\\" at the top of the notebook. Otherwise, clicking on this button again will assume you're restarting the lab!</span>\"))\n",
    "    else:\n",
    "        step_8()\n",
    "\n",
    "        # Auto-save.\n",
    "        if (not runAllSteps):\n",
    "            trigger_save(\"8\", result.returncode, userInput8.value)\n",
    "\n",
    "def reset_step_8(b):\n",
    "    if (not step7Complete):\n",
    "        output8.clear_output()\n",
    "        with output8:\n",
    "            display(HTML(\"<span style='color: red;'>You must complete the previous step before this button is enabled.</span>\"))\n",
    "\n",
    "    else:\n",
    "        result = subprocess.run('ssh -i /home/USERNAME_GOES_HERE/.ssh/merge_key USERNAME_GOES_HERE@sqli /home/.checker/reset_db.py 8', shell=True, stdout=subprocess.DEVNULL)\n",
    "    \n",
    "        output8.clear_output()\n",
    "        with output8:\n",
    "            if (result.returncode == 0):\n",
    "                display(HTML(\"<span>Your database has been reset.</span>\"))\n",
    "            elif (result.returncode == 1):\n",
    "                display(HTML(\"<span>Something wrong occurred and your database wasn't reset. Please contact your professor/TA.</span>\"))\n",
    "            elif (result.returncode == 2):\n",
    "                display(HTML(\"<span>A SQL error occurred. Please contact your professor/TA.</span>\"))\n",
    "\n",
    "# Retrieve the student's response. First, create a loading spinner, since this could take a second or two.\n",
    "loading8 = widgets.Output()\n",
    "display(loading8)\n",
    "with loading8:\n",
    "    loading8.clear_output()\n",
    "    display(HTML(\"<span>Loading your saved response... <img width='12px' height='12px' style='margin-left: 3px;' src='resources/loading.gif'></span>\"))\n",
    "\n",
    "# Creating a text area.\n",
    "userInput8 = widgets.Text(\n",
    "    placeholder='Type your SQL query here',\n",
    "    description='Query:',\n",
    "    layout=widgets.Layout(width='90%')\n",
    ")\n",
    "\n",
    "# Checking if the step has been answered.\n",
    "result = subprocess.run('ssh -o StrictHostKeyChecking=no -i /home/USERNAME_GOES_HERE/.ssh/merge_key USERNAME_GOES_HERE@sqli \"cat /home/.checker/responses/step_8_answer.txt 2> /dev/null\"', capture_output=True, text=True, shell=True)\n",
    "userInput8.value = result.stdout\n",
    "\n",
    "# After the student's response was loaded, clear the output.\n",
    "loading8.clear_output()\n",
    "\n",
    "# Creating the button.\n",
    "button = widgets.Button(description=\"Run SQL Query\")\n",
    "\n",
    "# Create an extra button for resetting the database.\n",
    "button_step_8 = widgets.Button(description=\"Reset Database\")\n",
    "\n",
    "# Creating an output area.\n",
    "output8 = widgets.Output()\n",
    "\n",
    "# Run the command on click.\n",
    "button.on_click(check_step_8)\n",
    "button_step_8.on_click(reset_step_8)\n",
    "\n",
    "# Display the output.\n",
    "display(userInput8, button, button_step_8, output8)"
   ]
  },
  {
   "cell_type": "markdown",
   "metadata": {
    "deletable": false,
    "editable": false,
    "slideshow": {
     "slide_type": ""
    },
    "tags": []
   },
   "source": [
    "### Step 9: Intermediate SQL Queries - (OPTIONAL)\n",
    "\n",
    "Additional clauses may be used in SQL queries for more advanced searches. A couple of useful clauses are: ```LIMIT```, ```OFFSET```, ```ORDER BY```, and ```GROUP BY```. There are more clauses than this, but a couple of these clauses might be helpful when doing Topic 4 in this lab.\n",
    "\n",
    "- ```LIMIT``` takes the entries that your query returns, and only returns the top X rows, where X is the integer value from ```LIMIT X```.\n",
    "- ```OFFSET``` is similar to ```LIMIT```, but skips the first X rows where X is the integer value from ```OFFSET X```.\n",
    "  - ```OFFSET``` is useful when implementing previous page and next page functionality for websites.\n",
    "  - ```OFFSET``` cannot be used without the ```LIMIT``` clause.\n",
    "  - ```OFFSET``` cannot be called before ```LIMIT```.\n",
    "- ```ORDER BY``` takes a column from your result query and sorts it numerically/alphabetically.\n",
    "  - ```ASC``` and ```DESC``` are optional after the ```ORDER BY``` statement, which stand for \"ascending\" and \"descending\".\n",
    "- ```GROUP BY``` is similar to ```ORDER BY```, except it is mainly used for aggregation functions, like ```COUNT()```, ```MAX()```, ```MIN()```, ```SUM()```, and ```AVG()```. These aggregation functions are placed in the ```SELECT``` statement of SQL queries, and return numerical values.\n",
    "  - An example of ```GROUP BY``` is: ```SELECT COUNT(student_grade) FROM students WHERE student_grade == 'A' GROUP BY student_grade;```, which returns the number of students that have an A for a grade.\n",
    "  - You cannot call these aggregation functions without ```GROUP BY```.\n",
    " \n",
    "For your task, create a SQL statement that returns all entries in the table, but prints only the first row and offset your result by one."
   ]
  },
  {
   "cell_type": "code",
   "execution_count": 12,
   "metadata": {
    "deletable": false,
    "editable": false,
    "jupyter": {
     "source_hidden": true
    },
    "slideshow": {
     "slide_type": ""
    },
    "tags": []
   },
   "outputs": [
    {
     "data": {
      "application/vnd.jupyter.widget-view+json": {
       "model_id": "b6851e7166ca4d50a22a753b4435ad85",
       "version_major": 2,
       "version_minor": 0
      },
      "text/plain": [
       "Output()"
      ]
     },
     "metadata": {},
     "output_type": "display_data"
    },
    {
     "data": {
      "application/vnd.jupyter.widget-view+json": {
       "model_id": "206e270be29749e2a613c31046b77d9f",
       "version_major": 2,
       "version_minor": 0
      },
      "text/plain": [
       "Text(value='', description='Query:', layout=Layout(width='90%'), placeholder='Type your SQL query here')"
      ]
     },
     "metadata": {},
     "output_type": "display_data"
    },
    {
     "data": {
      "application/vnd.jupyter.widget-view+json": {
       "model_id": "e356dd017f9a443b93ab57c79c68d2e4",
       "version_major": 2,
       "version_minor": 0
      },
      "text/plain": [
       "Button(description='Run SQL Query', style=ButtonStyle())"
      ]
     },
     "metadata": {},
     "output_type": "display_data"
    },
    {
     "data": {
      "application/vnd.jupyter.widget-view+json": {
       "model_id": "638e5e191aac402cb8d1360e96554153",
       "version_major": 2,
       "version_minor": 0
      },
      "text/plain": [
       "Button(description='Reset Database', style=ButtonStyle())"
      ]
     },
     "metadata": {},
     "output_type": "display_data"
    },
    {
     "data": {
      "application/vnd.jupyter.widget-view+json": {
       "model_id": "bcc62c29d30f428c858da022a250a46f",
       "version_major": 2,
       "version_minor": 0
      },
      "text/plain": [
       "Output()"
      ]
     },
     "metadata": {},
     "output_type": "display_data"
    }
   ],
   "source": [
    "# Click the button below to check your work.\n",
    "step9Complete = False\n",
    "\n",
    "# Function to check if the student's answer was correct.\n",
    "def step_9():\n",
    "    # Important variables that must be accessed outside of this function.\n",
    "    global step9Complete, result\n",
    "\n",
    "    # Loading, in case the check is slow.\n",
    "    with output9:\n",
    "        output9.clear_output()\n",
    "        display(HTML(\"<span><img width='12px' height='12px' style='margin-left: 3px;' src='resources/loading.gif'></span>\"))\n",
    "\n",
    "    # First, check to see if the field is empty.\n",
    "    if (userInput9.value == \"\"):\n",
    "        output9.clear_output()\n",
    "        with output9:\n",
    "            display(HTML(\"<span style='color: red;'>You did not provide input for this step.</span>\"))\n",
    "            step9Complete = False\n",
    "\n",
    "    else:\n",
    "        # Escape single quotes by replacing them with `'\\''`.\n",
    "        escaped_user_input = re.sub(r\"(\\\"|\\')\", r\"'\\''\", userInput9.value.strip())\n",
    "        \n",
    "        # Construct the SSH command for testing the SQL query.\n",
    "        sql_test_command = f\"\"\"ssh -i /home/USERNAME_GOES_HERE/.ssh/merge_key USERNAME_GOES_HERE@sqli \"/home/.checker/section_1.py 9 '{escaped_user_input}'\" \"\"\"\n",
    "        result = subprocess.run(sql_test_command, shell=True, stdout=subprocess.PIPE, stderr=subprocess.PIPE)\n",
    "        \n",
    "        # Construct the SSH command for saving the student's response.\n",
    "        save_command = f\"\"\"ssh -i /home/USERNAME_GOES_HERE/.ssh/merge_key USERNAME_GOES_HERE@sqli \"echo '{escaped_user_input}' > /home/.checker/responses/step_9_answer.txt\" \"\"\"\n",
    "        save_result = subprocess.run(save_command, shell=True, stdout=subprocess.PIPE, stderr=subprocess.PIPE)\n",
    "        \n",
    "        if (result.returncode == 0):\n",
    "            output9.clear_output()\n",
    "            with output9:\n",
    "                display(HTML(\"<span style='color: green;'>Your SQL query is correct!</span>\"))\n",
    "                step9Complete = True\n",
    "        \n",
    "        elif (result.returncode == 1):\n",
    "            output9.clear_output()\n",
    "            with output9:\n",
    "                display(HTML(\"<span style='color: red;'>Your SQL query is invalid or incorrect. Try again.</span>\"))\n",
    "                step9Complete = False\n",
    "        \n",
    "        elif (result.returncode == 2):\n",
    "            output9.clear_output()\n",
    "            with output9:\n",
    "                display(HTML(\"<span style='color: red;'>An error occurred when checking your database. Make sure you have completed the previous step(s). Otherwise, please contact your professor or TA.</span>\"))\n",
    "                step9Complete = False\n",
    "\n",
    "def check_step_9(b):\n",
    "    if (warn_student()):\n",
    "        output9.clear_output()\n",
    "        with output9:\n",
    "            display(HTML(\"<span style='color: red;'><strong>WARNING:</strong> You have an autosaved lab that you have not yet loaded. If you would like to load your progress, click \\\"Load Lab\\\" at the top of the notebook. Otherwise, clicking on this button again will assume you're restarting the lab!</span>\"))\n",
    "    else:\n",
    "        step_9()\n",
    "\n",
    "        # Auto-save.\n",
    "        if (not runAllSteps):\n",
    "            trigger_save(\"9\", result.returncode, userInput9.value)\n",
    "\n",
    "def reset_step_9(b):\n",
    "    if (not step8Complete):\n",
    "        output9.clear_output()\n",
    "        with output9:\n",
    "            display(HTML(\"<span style='color: red;'>You must complete the previous step before this button is enabled.</span>\"))\n",
    "\n",
    "    else:\n",
    "        result = subprocess.run('ssh -i /home/USERNAME_GOES_HERE/.ssh/merge_key USERNAME_GOES_HERE@sqli /home/.checker/reset_db.py 9', shell=True, stdout=subprocess.DEVNULL)\n",
    "    \n",
    "        output9.clear_output()\n",
    "        with output9:\n",
    "            if (result.returncode == 0):\n",
    "                display(HTML(\"<span>Your database has been reset.</span>\"))\n",
    "            elif (result.returncode == 1):\n",
    "                display(HTML(\"<span>Something wrong occurred and your database wasn't reset. Please contact your professor/TA.</span>\"))\n",
    "            elif (result.returncode == 2):\n",
    "                display(HTML(\"<span>A SQL error occurred. Please contact your professor/TA.</span>\"))\n",
    "\n",
    "# Retrieve the student's response. First, create a loading spinner, since this could take a second or two.\n",
    "loading9 = widgets.Output()\n",
    "display(loading9)\n",
    "with loading9:\n",
    "    loading9.clear_output()\n",
    "    display(HTML(\"<span>Loading your saved response... <img width='12px' height='12px' style='margin-left: 3px;' src='resources/loading.gif'></span>\"))\n",
    "\n",
    "# Creating a text area.\n",
    "userInput9 = widgets.Text(\n",
    "    placeholder='Type your SQL query here',\n",
    "    description='Query:',\n",
    "    layout=widgets.Layout(width='90%')\n",
    ")\n",
    "\n",
    "# Checking if the step has been answered.\n",
    "result = subprocess.run('ssh -o StrictHostKeyChecking=no -i /home/USERNAME_GOES_HERE/.ssh/merge_key USERNAME_GOES_HERE@sqli \"cat /home/.checker/responses/step_9_answer.txt 2> /dev/null\"', capture_output=True, text=True, shell=True)\n",
    "userInput9.value = result.stdout\n",
    "\n",
    "# After the student's response was loaded, clear the output.\n",
    "loading9.clear_output()\n",
    "\n",
    "# Creating the button.\n",
    "button = widgets.Button(description=\"Run SQL Query\")\n",
    "\n",
    "# Create an extra button for resetting the database.\n",
    "button_step_9 = widgets.Button(description=\"Reset Database\")\n",
    "\n",
    "# Creating an output area.\n",
    "output9 = widgets.Output()\n",
    "\n",
    "# Run the command on click.\n",
    "button.on_click(check_step_9)\n",
    "button_step_9.on_click(reset_step_9)\n",
    "\n",
    "# Display the output.\n",
    "display(userInput9, button, button_step_9, output9)"
   ]
  },
  {
   "cell_type": "markdown",
   "metadata": {
    "deletable": false,
    "editable": false,
    "slideshow": {
     "slide_type": ""
    },
    "tags": []
   },
   "source": [
    "## <strong>Topic 2: PHP and SQL Practice</strong>"
   ]
  },
  {
   "cell_type": "markdown",
   "metadata": {
    "deletable": false,
    "editable": false,
    "slideshow": {
     "slide_type": ""
    },
    "tags": []
   },
   "source": [
    "PHP, as mentioned before, is a programming language to handle server-side processing. It's used in back-end website development, which is everything that the website users cannot see. Front-end web development is everything that the users of a website can see, like HTML, CSS, and JavaScript.\n",
    "\n",
    "Since PHP is back-end, it will hide SQL statements from the user, which provides some security for websites. However, when focusing on computer security, you cannot assume that the hacker doesn't know the system. For this topic, you will learn how SQL statements are called from PHP, which take user input from HTML forms. You are going to view a sample of unsafe PHP code that can put your database at risk. Additionally, you will learn how to break an insecure system.\n",
    "\n",
    "<strong>This portion of the lab is going to require port forwarding, which requires setup on your own, local machine. If you have not already done port forwarding, you will need to follow the steps from this notebook.</strong>"
   ]
  },
  {
   "cell_type": "markdown",
   "metadata": {
    "deletable": false,
    "editable": false,
    "slideshow": {
     "slide_type": ""
    },
    "tags": []
   },
   "source": [
    "### Step 10: Accessing ```php_practice.php```\n",
    "\n",
    "After you have port forwarded to your ```sqli``` node, access ```localhost:port/php_practice.php```, where ```port``` is the number that you used in your SSH statement.\n",
    "\n",
    "<strong>For example</strong>, if you have already set up port forwarding, type the following command into your terminal: ```ssh -L 8080:sqli:80 USERNAME_GOES_HERE-xdc-USERNAME_GOES_HERE```, then access the practice page by typing ```http://localhost:8080/php_practice.php``` into your web browser.\n",
    "\n",
    "The website's source code is located at ```/var/www/html/php_practice.php```.\n",
    "\n",
    "This website contains a simple form which takes a student's ID. When you type in a student's ID into the field, it takes your input, puts it into a SQL statement, sends the SQL statement to the database, retrieve the results, then it displays it on the website. <u>You may test this by typing 100 into the Student ID field.</u>\n",
    "\n",
    "For your convenience and to help demonstrate the lab, the SQL statement that's being sent to the database will display on the page for you, highlighting the statement that you typed in. Feel free to use this to assist your understanding of SQL injection, as it will be unavailable for the large scale portion of the lab."
   ]
  },
  {
   "cell_type": "markdown",
   "metadata": {
    "deletable": false,
    "editable": false,
    "slideshow": {
     "slide_type": ""
    },
    "tags": []
   },
   "source": [
    "### Step 11: Observe the PHP File\n",
    "\n",
    "Now, open ```/var/www/html/php_practice.php``` in your ```sqli``` node, and observe the file contents. Look for the SQL query, and observe how the user input is used in the SQL statement. Additionally, notice that ```mysqli_multi_query()``` is being used to run the query from the input field.\n",
    "\n",
    "In the text field below, explain the possible security vulnerability with this approach."
   ]
  },
  {
   "cell_type": "code",
   "execution_count": 13,
   "metadata": {
    "deletable": false,
    "jupyter": {
     "source_hidden": true
    },
    "slideshow": {
     "slide_type": ""
    },
    "tags": []
   },
   "outputs": [
    {
     "data": {
      "application/vnd.jupyter.widget-view+json": {
       "model_id": "73bf15cf5f45416a9ce1fbf9dee8f4bd",
       "version_major": 2,
       "version_minor": 0
      },
      "text/plain": [
       "Output()"
      ]
     },
     "metadata": {},
     "output_type": "display_data"
    },
    {
     "data": {
      "application/vnd.jupyter.widget-view+json": {
       "model_id": "34f2959c28524936ac56341d641a8caa",
       "version_major": 2,
       "version_minor": 0
      },
      "text/plain": [
       "Textarea(value='', description='Response:', layout=Layout(height='150px', margin='10px', width='75%'), placeho…"
      ]
     },
     "metadata": {},
     "output_type": "display_data"
    },
    {
     "data": {
      "application/vnd.jupyter.widget-view+json": {
       "model_id": "645dc6dfbde7412c94c3437b186cbfec",
       "version_major": 2,
       "version_minor": 0
      },
      "text/plain": [
       "Button(description='Save Response', style=ButtonStyle())"
      ]
     },
     "metadata": {},
     "output_type": "display_data"
    },
    {
     "data": {
      "application/vnd.jupyter.widget-view+json": {
       "model_id": "6fcbbcbb03824d0da039db79f3d39bd6",
       "version_major": 2,
       "version_minor": 0
      },
      "text/plain": [
       "Output()"
      ]
     },
     "metadata": {},
     "output_type": "display_data"
    }
   ],
   "source": [
    "# Click the button below to check your work.\n",
    "step11Complete = False\n",
    "\n",
    "# Function to save the short answer.\n",
    "def step_11():\n",
    "    # Important variables that must be accessed outside of this function.\n",
    "    global step11Complete, result\n",
    "\n",
    "    # Loading, in case saving is slow.\n",
    "    with output11:\n",
    "        output11.clear_output()\n",
    "        display(HTML(\"<span><img width='12px' height='12px' style='margin-left: 3px;' src='resources/loading.gif'></span>\"))\n",
    "\n",
    "    if (userInput11.value == \"\"):\n",
    "        output11.clear_output()\n",
    "        with output11:\n",
    "            display(HTML(\"<span style='color: red;'>You did not type a response.</span>\"))\n",
    "            step11Complete = False\n",
    "\n",
    "    else:\n",
    "        # Replace backticks with single quotes in the input.\n",
    "        safe_value = userInput11.value.replace(\"`\", \"'\")\n",
    "        \n",
    "        # Build the SSH command to write to the file using 'cat' reading from stdin.\n",
    "        ssh_command = [\n",
    "            \"ssh\",\n",
    "            \"-i\", \"/home/USERNAME_GOES_HERE/.ssh/merge_key\",\n",
    "            \"USERNAME_GOES_HERE@sqli\",\n",
    "            \"cat > /home/.checker/responses/step_11_answer.txt\"\n",
    "        ]\n",
    "        \n",
    "        # Pass safe_value as input so that no shell quoting is needed.\n",
    "        result = subprocess.run(ssh_command, input=safe_value, text=True)\n",
    "        \n",
    "        if result.returncode == 0:\n",
    "            output11.clear_output()\n",
    "            with output11:\n",
    "                display(HTML(\"<span style='color: red;'>There was an error saving your response.</span>\"))\n",
    "                step11Complete = False\n",
    "                \n",
    "        elif result.returncode == 1:\n",
    "            output11.clear_output()\n",
    "            with output11:\n",
    "                display(HTML(\"<span style='color: green;'>Your response was saved.</span>\"))\n",
    "                step11Complete = True\n",
    "                \n",
    "\n",
    "def check_step_11(b):\n",
    "    if warn_student():\n",
    "        output11.clear_output()\n",
    "        with output11:\n",
    "            display(HTML(\"<span style='color: red;'><strong>WARNING:</strong> You have an autosaved lab that you have not yet loaded. If you would like to load your progress, click \\\"Load Lab\\\" at the top of the notebook. Otherwise, clicking on this button again will assume you're restarting the lab!</span>\"))\n",
    "    else:\n",
    "        step_11()\n",
    "        if not runAllSteps:\n",
    "            safe_value = userInput11.value.replace(\"`\", \"'\")\n",
    "            user_input_quoted = shlex.quote(safe_value)\n",
    "            trigger_save(\"11\", 1 if result.returncode == 1 else 0, user_input_quoted)\n",
    "\n",
    "# Retrieve the student's response. First, create a loading spinner, since this could take a second or two.\n",
    "loading11 = widgets.Output()\n",
    "display(loading11)\n",
    "with loading11:\n",
    "    loading11.clear_output()\n",
    "    display(HTML(\"<span>Loading your saved response... <img width='12px' height='12px' style='margin-left: 3px;' src='resources/loading.gif'></span>\"))\n",
    "\n",
    "# Creating a text area. We will need to assign output of process to the value of this input.\n",
    "userInput11 = widgets.Textarea(\n",
    "    placeholder='Type your response here',\n",
    "    description='Response:',\n",
    "    layout=widgets.Layout(width='75%', height='150px', margin='10px')\n",
    ")\n",
    "\n",
    "def on_input_change(change):\n",
    "    # Replace backticks with single quotes in the new value.\n",
    "    new_val = change['new'].replace(\"`\", \"'\")\n",
    "    # Only update if there's a change (to avoid unnecessary recursion).\n",
    "    if new_val != change['new']:\n",
    "        userInput11.value = new_val\n",
    "\n",
    "userInput11.observe(on_input_change, names='value')\n",
    "\n",
    "# Checking if the step has been answered.\n",
    "result = subprocess.run('ssh -o StrictHostKeyChecking=no -i /home/USERNAME_GOES_HERE/.ssh/merge_key USERNAME_GOES_HERE@sqli \"cat /home/.checker/responses/step_11_answer.txt 2> /dev/null\"', capture_output=True, text=True, shell=True)\n",
    "# Output creates a newline. Remove it.\n",
    "userInput11.value = result.stdout[:-1]\n",
    "\n",
    "# After the student's response was loaded, clear the output.\n",
    "loading11.clear_output()\n",
    "\n",
    "# Creating the feedback output area.\n",
    "output11 = widgets.Output()\n",
    "\n",
    "# Creating the button.\n",
    "button = widgets.Button(description=\"Save Response\")\n",
    "\n",
    "# Run the command on click.\n",
    "button.on_click(check_step_11)\n",
    "\n",
    "# Display the output.\n",
    "display(userInput11, button, output11)"
   ]
  },
  {
   "cell_type": "markdown",
   "metadata": {
    "deletable": false,
    "editable": false,
    "slideshow": {
     "slide_type": ""
    },
    "tags": []
   },
   "source": [
    "### Step 12: Practicing SQL Injection (Part 1)\n",
    "\n",
    "In the previous step, you should've observed the security vulnerability with this PHP code. From Step 10, you observed that typing a valid student ID works, but there is are some security issues with this setup.\n",
    "\n",
    "<strong>Your task:</strong> Using this to your advantage, type SQL code into the \"Student ID\" field on the website to change Aaron's name to Taylor. \n",
    "\n",
    "After testing your statement, you will need to copy/paste your input into the field below to check your work. Your database will be reset and your query will be tested to determine if your SQL statement is correct. If you would like to reset your database, you may click on the \"Reset\" button, similar to Section 1.\n",
    "\n",
    "<u>If you're lost with where to begin</u>, look at the ```$sql``` variable in the source code: ```SELECT student_id, student_name, student_grade FROM students WHERE student_id = $student_id```. Understand that ```$student_id``` is the value from the input field. Consider this: ```student_id``` needs to be equal to something, but if you use ```OR``` in your statement, then typing another comparison that's <u>always</u> true will create no filtering. Thus, printing everything from ```students```.\n",
    "\n",
    "<span style=\"color: green\"><strong><img src=\"resources/idea.png\" style=\"width: 12px\"> Tip:</strong></span> If you haven't already, try a very basic SQL injection that prints all database entries in the table. If you know how to do this basic SQL injection attack, you can end it with a ```;```, then type in the payload that will change Aaron to Taylor. This works because the PHP file is using ```mysqli_multi_query```, which allows you to process multiple SQL queries in one statement. The PHP file is setup like this so that you can run an ```UPDATE``` command within your payload. If ```mysqli_query``` were to be used instead, your payload would not work. It would only accept one SQL query.\n",
    "\n",
    "<span style=\"color: red;\"><strong><img src=\"resources/alert.png\" style=\"width: 12px\"> Warning:</strong></span> When you perform your SQL injection attack, your ```UPDATE``` statement comes after a ```SELECT``` statement, which prints your table. This means that your changes <u>will not appear reflected until you run another ```SELECT``` statement.</u> If you think your payload worked, try running your payload again to see if your database updated. Or, check your database within MySQL on ```sqli``` to see if the database updated."
   ]
  },
  {
   "cell_type": "code",
   "execution_count": 14,
   "metadata": {
    "deletable": false,
    "jupyter": {
     "source_hidden": true
    },
    "slideshow": {
     "slide_type": ""
    },
    "tags": []
   },
   "outputs": [
    {
     "data": {
      "application/vnd.jupyter.widget-view+json": {
       "model_id": "b9e2c8f276fb4fffb415bb3f4800f541",
       "version_major": 2,
       "version_minor": 0
      },
      "text/plain": [
       "Output()"
      ]
     },
     "metadata": {},
     "output_type": "display_data"
    },
    {
     "data": {
      "application/vnd.jupyter.widget-view+json": {
       "model_id": "10eac13edc3340ac8e370f79bb6a4510",
       "version_major": 2,
       "version_minor": 0
      },
      "text/plain": [
       "Text(value='', description='Payload:', layout=Layout(width='90%'), placeholder='Type your payload here')"
      ]
     },
     "metadata": {},
     "output_type": "display_data"
    },
    {
     "data": {
      "application/vnd.jupyter.widget-view+json": {
       "model_id": "18afd62474ac437eb8072fece7700181",
       "version_major": 2,
       "version_minor": 0
      },
      "text/plain": [
       "Button(description='Test Payload', style=ButtonStyle())"
      ]
     },
     "metadata": {},
     "output_type": "display_data"
    },
    {
     "data": {
      "application/vnd.jupyter.widget-view+json": {
       "model_id": "0189922a4f854ff68614a26ec8245c29",
       "version_major": 2,
       "version_minor": 0
      },
      "text/plain": [
       "Button(description='Reset Database', style=ButtonStyle())"
      ]
     },
     "metadata": {},
     "output_type": "display_data"
    },
    {
     "data": {
      "application/vnd.jupyter.widget-view+json": {
       "model_id": "9401e9ad1a964e22be7f613dd322546b",
       "version_major": 2,
       "version_minor": 0
      },
      "text/plain": [
       "Output()"
      ]
     },
     "metadata": {},
     "output_type": "display_data"
    }
   ],
   "source": [
    "# Click the button below to check your work.\n",
    "step12Complete = False\n",
    "\n",
    "# Function to check if the student's answer was correct.\n",
    "def step_12():\n",
    "    # Important variables that must be accessed outside of this function.\n",
    "    global step12Complete, result\n",
    "\n",
    "    # Loading, in case the check is slow.\n",
    "    with output12:\n",
    "        output12.clear_output()\n",
    "        display(HTML(\"<span><img width='12px' height='12px' style='margin-left: 3px;' src='resources/loading.gif'></span>\"))\n",
    "\n",
    "    # First, check to see if the field is empty.\n",
    "    if (userInput12.value == \"\"):\n",
    "        output12.clear_output()\n",
    "        with output12:\n",
    "            display(HTML(\"<span style='color: red;'>You did not provide input for this step.</span>\"))\n",
    "            step12Complete = False\n",
    "\n",
    "    else:\n",
    "        # Escape single quotes by replacing them with '\\''.\n",
    "        escaped_user_input = re.sub(r\"(\\\"|\\')\", r\"'\\''\", userInput12.value.strip())\n",
    "        \n",
    "        # Construct the SSH command for testing the SQL query.\n",
    "        sql_test_command = f\"\"\"ssh -i /home/USERNAME_GOES_HERE/.ssh/merge_key USERNAME_GOES_HERE@sqli \"/home/.checker/section_2.py 12 '{escaped_user_input}'\" \"\"\"\n",
    "        result = subprocess.run(sql_test_command, shell=True, stdout=subprocess.PIPE, stderr=subprocess.PIPE)\n",
    "        \n",
    "        # Construct the SSH command for saving the student's response.\n",
    "        save_command = f\"\"\"ssh -i /home/USERNAME_GOES_HERE/.ssh/merge_key USERNAME_GOES_HERE@sqli \"echo '{escaped_user_input}' > /home/.checker/responses/step_12_answer.txt\" \"\"\"\n",
    "        save_result = subprocess.run(save_command, shell=True, stdout=subprocess.PIPE, stderr=subprocess.PIPE)\n",
    "        \n",
    "        if (result.returncode == 0):\n",
    "            output12.clear_output()\n",
    "            with output12:\n",
    "                display(HTML(\"<span style='color: green;'>Your payload is correct! After sending your payload to the website, it produced the table below in your SQL database.</span>\"))\n",
    "                step12Complete = True\n",
    "        \n",
    "        elif (result.returncode == 1):\n",
    "            output12.clear_output()\n",
    "            with output12:\n",
    "                display(HTML(\"<span style='color: red;'>Your payload didn't work. Try again.</span>\"))\n",
    "                step12Complete = False\n",
    "        \n",
    "        elif (result.returncode == 2):\n",
    "            output12.clear_output()\n",
    "            with output12:\n",
    "                display(HTML(\"<span style='color: red;'>An error occurred while testing your payload. Please try again or contact your professor or TA.</span>\"))\n",
    "                step12Complete = False\n",
    "\n",
    "        elif (result.returncode == 3):\n",
    "            output12.clear_output()\n",
    "            with output12:\n",
    "                display(HTML(\"<span style='color: green;'>You have completed this step previously, and your file is patched.</span>\"))\n",
    "                step12Complete = True\n",
    "\n",
    "        # Now, if the return code was 0 or 1, it returned a response. Print the HTML of the response:\n",
    "        if (result.returncode == 0 or result.returncode == 1):\n",
    "            result = subprocess.run('ssh -o StrictHostKeyChecking=no -i /home/USERNAME_GOES_HERE/.ssh/merge_key USERNAME_GOES_HERE@sqli \"cat /home/.checker/responses/step_12_response.txt 2> /dev/null\"', capture_output=True, text=True, shell=True)\n",
    "            with output12:\n",
    "                if (\"No results found. Please enter a valid ID.\" in result.stdout):\n",
    "                    display(HTML(\"<br><p style='color: blue;'><em>Your php_practice.php file has its SQL injection vulnerability fixed.</em></p>\"))\n",
    "                \n",
    "                else:\n",
    "                    display(HTML(\"<br><p style='color: blue;'><em>Here is your SQL database after sending your payload:</em></p>\"))\n",
    "                    results = run_sql_query(userInput12.value)\n",
    "\n",
    "                    if results:\n",
    "                        markdown = create_html_table(results)\n",
    "                        display(HTML(markdown))\n",
    "\n",
    "                    else:\n",
    "                        display(HTML(\"<p>The website did not produce any output.</p>\"))\n",
    "\n",
    "def check_step_12(b):\n",
    "    if (warn_student()):\n",
    "        output12.clear_output()\n",
    "        with output12:\n",
    "            display(HTML(\"<span style='color: red;'><strong>WARNING:</strong> You have an autosaved lab that you have not yet loaded. If you would like to load your progress, click \\\"Load Lab\\\" at the top of the notebook. Otherwise, clicking on this button again will assume you're restarting the lab!</span>\"))\n",
    "    else:\n",
    "        step_12()\n",
    "\n",
    "        # Auto-save.\n",
    "        if (not runAllSteps):\n",
    "            trigger_save(\"12\", result.returncode, userInput12.value)\n",
    "\n",
    "def reset_step_12(b):\n",
    "    if (not step11Complete):\n",
    "        output12.clear_output()\n",
    "        with output12:\n",
    "            display(HTML(\"<span style='color: red;'>You must complete Step 11 before this button is enabled.</span>\"))\n",
    "\n",
    "    else:\n",
    "        result = subprocess.run('ssh -i /home/USERNAME_GOES_HERE/.ssh/merge_key USERNAME_GOES_HERE@sqli /home/.checker/reset_db.py 12', shell=True, stdout=subprocess.DEVNULL)\n",
    "    \n",
    "        output12.clear_output()\n",
    "        with output12:\n",
    "            if (result.returncode == 0):\n",
    "                display(HTML(\"<span>Your database has been reset.</span>\"))\n",
    "            elif (result.returncode == 1):\n",
    "                display(HTML(\"<span>Something wrong occurred and your database wasn't reset. Please contact your professor/TA.</span>\"))\n",
    "            elif (result.returncode == 2):\n",
    "                display(HTML(\"<span>A SQL error occurred. Please contact your professor/TA.</span>\"))\n",
    "\n",
    "\n",
    "# Retrieve the student's response. First, create a loading spinner, since this could take a second or two.\n",
    "loading12 = widgets.Output()\n",
    "display(loading12)\n",
    "with loading12:\n",
    "    loading12.clear_output()\n",
    "    display(HTML(\"<span>Loading your saved response... <img width='12px' height='12px' style='margin-left: 3px;' src='resources/loading.gif'></span>\"))\n",
    "\n",
    "# Creating a text area.\n",
    "userInput12 = widgets.Text(\n",
    "    placeholder='Type your payload here',\n",
    "    description='Payload:',\n",
    "    layout=widgets.Layout(width='90%')\n",
    ")\n",
    "\n",
    "# Checking if the step has been answered.\n",
    "result = subprocess.run('ssh -o StrictHostKeyChecking=no -i /home/USERNAME_GOES_HERE/.ssh/merge_key USERNAME_GOES_HERE@sqli \"cat /home/.checker/responses/step_12_answer.txt 2> /dev/null\"', capture_output=True, text=True, shell=True)\n",
    "userInput12.value = result.stdout\n",
    "\n",
    "# After the student's response was loaded, clear the output.\n",
    "loading12.clear_output()\n",
    "\n",
    "# Creating the button.\n",
    "button = widgets.Button(description=\"Test Payload\")\n",
    "\n",
    "# Create an extra button for resetting the database.\n",
    "button_step_12 = widgets.Button(description=\"Reset Database\")\n",
    "\n",
    "# Creating an output area.\n",
    "output12 = widgets.Output()\n",
    "\n",
    "# Run the command on click.\n",
    "button.on_click(check_step_12)\n",
    "button_step_12.on_click(reset_step_12)\n",
    "\n",
    "# Display the output.\n",
    "display(userInput12, button, button_step_12, output12)"
   ]
  },
  {
   "cell_type": "markdown",
   "metadata": {
    "deletable": false,
    "editable": false,
    "slideshow": {
     "slide_type": ""
    },
    "tags": []
   },
   "source": [
    "### Step 13: Practicing SQL Injection (Part 2)\n",
    "\n",
    "Now, using the input field on the website, change Hannah's grade to a B.\n",
    "\n",
    "Once you have a working command, type the command below and check your work. Your database will be reverted back to completing Step 12, and it will be tested. Again, a \"Reset\" button is available for you, and it will not reset your progress from the previous step."
   ]
  },
  {
   "cell_type": "code",
   "execution_count": 15,
   "metadata": {
    "deletable": false,
    "editable": false,
    "jupyter": {
     "source_hidden": true
    },
    "slideshow": {
     "slide_type": ""
    },
    "tags": []
   },
   "outputs": [
    {
     "data": {
      "application/vnd.jupyter.widget-view+json": {
       "model_id": "f89365f2422a490788ec93cb18f10599",
       "version_major": 2,
       "version_minor": 0
      },
      "text/plain": [
       "Output()"
      ]
     },
     "metadata": {},
     "output_type": "display_data"
    },
    {
     "data": {
      "application/vnd.jupyter.widget-view+json": {
       "model_id": "71dd032ec35a4f5e97745ab62d72ac60",
       "version_major": 2,
       "version_minor": 0
      },
      "text/plain": [
       "Text(value='', description='Payload:', layout=Layout(width='90%'), placeholder='Type your payload here')"
      ]
     },
     "metadata": {},
     "output_type": "display_data"
    },
    {
     "data": {
      "application/vnd.jupyter.widget-view+json": {
       "model_id": "489ad8ef3016400eaab5389260fe5b25",
       "version_major": 2,
       "version_minor": 0
      },
      "text/plain": [
       "Button(description='Test Payload', style=ButtonStyle())"
      ]
     },
     "metadata": {},
     "output_type": "display_data"
    },
    {
     "data": {
      "application/vnd.jupyter.widget-view+json": {
       "model_id": "003af505f48542cba43e6e452364184b",
       "version_major": 2,
       "version_minor": 0
      },
      "text/plain": [
       "Button(description='Reset Database', style=ButtonStyle())"
      ]
     },
     "metadata": {},
     "output_type": "display_data"
    },
    {
     "data": {
      "application/vnd.jupyter.widget-view+json": {
       "model_id": "f6d87cac24d7459f930cf2617785f17c",
       "version_major": 2,
       "version_minor": 0
      },
      "text/plain": [
       "Output()"
      ]
     },
     "metadata": {},
     "output_type": "display_data"
    }
   ],
   "source": [
    "# Click the button below to check your work.\n",
    "step13Complete = False\n",
    "\n",
    "# Function to check if the student's answer was correct.\n",
    "def step_13():\n",
    "    # Important variables that must be accessed outside of this function.\n",
    "    global step13Complete, result\n",
    "\n",
    "    # Loading, in case the check is slow.\n",
    "    with output13:\n",
    "        output13.clear_output()\n",
    "        display(HTML(\"<span><img width='12px' height='12px' style='margin-left: 3px;' src='resources/loading.gif'></span>\"))\n",
    "\n",
    "    # First, check to see if the field is empty.\n",
    "    if (userInput13.value == \"\"):\n",
    "        output13.clear_output()\n",
    "        with output13:\n",
    "            display(HTML(\"<span style='color: red;'>You did not provide input for this step.</span>\"))\n",
    "            step13Complete = False\n",
    "\n",
    "    else:\n",
    "        # Escape single quotes by replacing them with '\\''.\n",
    "        escaped_user_input = re.sub(r\"(\\\"|\\')\", r\"'\\''\", userInput13.value.strip())\n",
    "        \n",
    "        # Construct the SSH command for testing the SQL query.\n",
    "        sql_test_command = f\"\"\"ssh -i /home/USERNAME_GOES_HERE/.ssh/merge_key USERNAME_GOES_HERE@sqli \"/home/.checker/section_2.py 13 '{escaped_user_input}'\" \"\"\"\n",
    "        result = subprocess.run(sql_test_command, shell=True, stdout=subprocess.PIPE, stderr=subprocess.PIPE)\n",
    "        \n",
    "        # Construct the SSH command for saving the student's response.\n",
    "        save_command = f\"\"\"ssh -i /home/USERNAME_GOES_HERE/.ssh/merge_key USERNAME_GOES_HERE@sqli \"echo '{escaped_user_input}' > /home/.checker/responses/step_13_answer.txt\" \"\"\"\n",
    "        save_result = subprocess.run(save_command, shell=True, stdout=subprocess.PIPE, stderr=subprocess.PIPE)\n",
    "        \n",
    "        if (result.returncode == 0):\n",
    "            output13.clear_output()\n",
    "            with output13:\n",
    "                display(HTML(\"<span style='color: green;'>Your payload is correct! After sending your payload to the website, it produced the table below in your SQL database.</span>\"))\n",
    "                step13Complete = True\n",
    "        \n",
    "        elif (result.returncode == 1):\n",
    "            output13.clear_output()\n",
    "            with output13:\n",
    "                display(HTML(\"<span style='color: red;'>Your payload didn't work. Try again.</span>\"))\n",
    "                step13Complete = False\n",
    "        \n",
    "        elif (result.returncode == 2):\n",
    "            output13.clear_output()\n",
    "            with output13:\n",
    "                display(HTML(\"<span style='color: red;'>An error occurred while testing your payload. Please try again or contact your professor or TA.</span>\"))\n",
    "                step13Complete = False\n",
    "\n",
    "        elif (result.returncode == 3):\n",
    "            output13.clear_output()\n",
    "            with output13:\n",
    "                display(HTML(\"<span style='color: green;'>You have completed this step previously, and your file is patched.</span>\"))\n",
    "                step13Complete = True\n",
    "\n",
    "        # Now, if the return code was 0 or 1, it returned a response. Print the HTML of the response:\n",
    "        if (result.returncode == 0 or result.returncode == 1):\n",
    "            result = subprocess.run('ssh -o StrictHostKeyChecking=no -i /home/USERNAME_GOES_HERE/.ssh/merge_key USERNAME_GOES_HERE@sqli \"cat /home/.checker/responses/step_13_response.txt 2> /dev/null\"', capture_output=True, text=True, shell=True)\n",
    "            with output13:\n",
    "                if (\"No results found. Please enter a valid ID.\" in result.stdout):\n",
    "                    display(HTML(\"<br><p style='color: blue;'><em>Your php_practice.php file has its SQL injection vulnerability fixed.</em></p>\"))\n",
    "                \n",
    "                else:\n",
    "                    display(HTML(\"<br><p style='color: blue;'><em>Here is your SQL database after sending your payload:</em></p>\"))\n",
    "                    results = run_sql_query(userInput13.value)\n",
    "\n",
    "                    if results:\n",
    "                        markdown = create_html_table(results)\n",
    "                        display(HTML(markdown))\n",
    "\n",
    "def check_step_13(b):\n",
    "    if (warn_student()):\n",
    "        output13.clear_output()\n",
    "        with output13:\n",
    "            display(HTML(\"<span style='color: red;'><strong>WARNING:</strong> You have an autosaved lab that you have not yet loaded. If you would like to load your progress, click \\\"Load Lab\\\" at the top of the notebook. Otherwise, clicking on this button again will assume you're restarting the lab!</span>\"))\n",
    "    else:\n",
    "        step_13()\n",
    "\n",
    "        # Auto-save.\n",
    "        if (not runAllSteps):\n",
    "            trigger_save(\"13\", result.returncode, userInput13.value)\n",
    "\n",
    "def reset_step_13(b):\n",
    "    if (not step11Complete):\n",
    "        output13.clear_output()\n",
    "        with output13:\n",
    "            display(HTML(\"<span style='color: red;'>You must complete the previous step before this button is enabled.</span>\"))\n",
    "\n",
    "    else:\n",
    "        result = subprocess.run('ssh -i /home/USERNAME_GOES_HERE/.ssh/merge_key USERNAME_GOES_HERE@sqli /home/.checker/reset_db.py 13', shell=True, stdout=subprocess.DEVNULL)\n",
    "    \n",
    "        output13.clear_output()\n",
    "        with output13:\n",
    "            if (result.returncode == 0):\n",
    "                display(HTML(\"<span>Your database has been reset.</span>\"))\n",
    "            elif (result.returncode == 1):\n",
    "                display(HTML(\"<span>Something wrong occurred and your database wasn't reset. Please contact your professor/TA.</span>\"))\n",
    "            elif (result.returncode == 2):\n",
    "                display(HTML(\"<span>A SQL error occurred. Please contact your professor/TA.</span>\"))\n",
    "\n",
    "\n",
    "# Retrieve the student's response. First, create a loading spinner, since this could take a second or two.\n",
    "loading13 = widgets.Output()\n",
    "display(loading13)\n",
    "with loading13:\n",
    "    loading13.clear_output()\n",
    "    display(HTML(\"<span>Loading your saved response... <img width='12px' height='12px' style='margin-left: 3px;' src='resources/loading.gif'></span>\"))\n",
    "\n",
    "# Creating a text area.\n",
    "userInput13 = widgets.Text(\n",
    "    placeholder='Type your payload here',\n",
    "    description='Payload:',\n",
    "    layout=widgets.Layout(width='90%')\n",
    ")\n",
    "\n",
    "# Checking if the step has been answered.\n",
    "result = subprocess.run('ssh -o StrictHostKeyChecking=no -i /home/USERNAME_GOES_HERE/.ssh/merge_key USERNAME_GOES_HERE@sqli \"cat /home/.checker/responses/step_13_answer.txt 2> /dev/null\"', capture_output=True, text=True, shell=True)\n",
    "userInput13.value = result.stdout\n",
    "\n",
    "# After the student's response was loaded, clear the output.\n",
    "loading13.clear_output()\n",
    "\n",
    "# Creating the button.\n",
    "button = widgets.Button(description=\"Test Payload\")\n",
    "\n",
    "# Create an extra button for resetting the database.\n",
    "button_step_13 = widgets.Button(description=\"Reset Database\")\n",
    "\n",
    "# Creating an output area.\n",
    "output13 = widgets.Output()\n",
    "\n",
    "# Run the command on click.\n",
    "button.on_click(check_step_13)\n",
    "button_step_13.on_click(reset_step_13)\n",
    "\n",
    "# Display the output.\n",
    "display(userInput13, button, button_step_13, output13)"
   ]
  },
  {
   "cell_type": "markdown",
   "metadata": {
    "deletable": false,
    "editable": false,
    "slideshow": {
     "slide_type": ""
    },
    "tags": []
   },
   "source": [
    "### Step 14: Practicing SQL Injection (Part 3)\n",
    "\n",
    "Finally, using the input field, create a student named Jason whose ID is 200 and has an F for a grade.\n",
    "\n",
    "A \"Reset\" button is available to revert to the previous step."
   ]
  },
  {
   "cell_type": "code",
   "execution_count": 16,
   "metadata": {
    "deletable": false,
    "editable": false,
    "jupyter": {
     "source_hidden": true
    },
    "slideshow": {
     "slide_type": ""
    },
    "tags": []
   },
   "outputs": [
    {
     "data": {
      "application/vnd.jupyter.widget-view+json": {
       "model_id": "56b086dab3164616b1cccb455a4037cb",
       "version_major": 2,
       "version_minor": 0
      },
      "text/plain": [
       "Output()"
      ]
     },
     "metadata": {},
     "output_type": "display_data"
    },
    {
     "data": {
      "application/vnd.jupyter.widget-view+json": {
       "model_id": "63164dbc3cc54fecb68394f4414e29e4",
       "version_major": 2,
       "version_minor": 0
      },
      "text/plain": [
       "Text(value='', description='Payload:', layout=Layout(width='90%'), placeholder='Type your payload here')"
      ]
     },
     "metadata": {},
     "output_type": "display_data"
    },
    {
     "data": {
      "application/vnd.jupyter.widget-view+json": {
       "model_id": "a5be47e7f37141018184873e4cc12c78",
       "version_major": 2,
       "version_minor": 0
      },
      "text/plain": [
       "Button(description='Test Payload', style=ButtonStyle())"
      ]
     },
     "metadata": {},
     "output_type": "display_data"
    },
    {
     "data": {
      "application/vnd.jupyter.widget-view+json": {
       "model_id": "7342e57203544e9786801a77e222e503",
       "version_major": 2,
       "version_minor": 0
      },
      "text/plain": [
       "Button(description='Reset Database', style=ButtonStyle())"
      ]
     },
     "metadata": {},
     "output_type": "display_data"
    },
    {
     "data": {
      "application/vnd.jupyter.widget-view+json": {
       "model_id": "a6443279c3bc4c1e9f5da578ade0414e",
       "version_major": 2,
       "version_minor": 0
      },
      "text/plain": [
       "Output()"
      ]
     },
     "metadata": {},
     "output_type": "display_data"
    }
   ],
   "source": [
    "# Click the button below to check your work.\n",
    "step14Complete = False\n",
    "\n",
    "# Function to check if the student's answer was correct.\n",
    "def step_14():\n",
    "    # Important variables that must be accessed outside of this function.\n",
    "    global step14Complete, result\n",
    "\n",
    "    # Loading, in case the check is slow.\n",
    "    with output14:\n",
    "        output14.clear_output()\n",
    "        display(HTML(\"<span><img width='12px' height='12px' style='margin-left: 3px;' src='resources/loading.gif'></span>\"))\n",
    "\n",
    "    # First, check to see if the field is empty.\n",
    "    if (userInput14.value == \"\"):\n",
    "        output14.clear_output()\n",
    "        with output14:\n",
    "            display(HTML(\"<span style='color: red;'>You did not provide input for this step.</span>\"))\n",
    "            step14Complete = False\n",
    "\n",
    "    else:\n",
    "        # Escape single quotes by replacing them with '\\''.\n",
    "        escaped_user_input = re.sub(r\"(\\\"|\\')\", r\"'\\''\", userInput14.value.strip())\n",
    "        \n",
    "        # Construct the SSH command for testing the SQL query.\n",
    "        sql_test_command = f\"\"\"ssh -i /home/USERNAME_GOES_HERE/.ssh/merge_key USERNAME_GOES_HERE@sqli \"/home/.checker/section_2.py 14 '{escaped_user_input}'\" \"\"\"\n",
    "        result = subprocess.run(sql_test_command, shell=True, stdout=subprocess.PIPE, stderr=subprocess.PIPE)\n",
    "        \n",
    "        # Construct the SSH command for saving the student's response.\n",
    "        save_command = f\"\"\"ssh -i /home/USERNAME_GOES_HERE/.ssh/merge_key USERNAME_GOES_HERE@sqli \"echo '{escaped_user_input}' > /home/.checker/responses/step_14_answer.txt\" \"\"\"\n",
    "        save_result = subprocess.run(save_command, shell=True, stdout=subprocess.PIPE, stderr=subprocess.PIPE)\n",
    "        \n",
    "        if (result.returncode == 0):\n",
    "            output14.clear_output()\n",
    "            with output14:\n",
    "                display(HTML(\"<span style='color: green;'>Your payload is correct! After sending your payload to the website, it produced the table below in your SQL database.</span>\"))\n",
    "                step14Complete = True\n",
    "        \n",
    "        elif (result.returncode == 1):\n",
    "            output14.clear_output()\n",
    "            with output14:\n",
    "                display(HTML(\"<span style='color: red;'>Your payload didn't work. Try again.</span>\"))\n",
    "                step14Complete = False\n",
    "        \n",
    "        elif (result.returncode == 2):\n",
    "            output14.clear_output()\n",
    "            with output14:\n",
    "                display(HTML(\"<span style='color: red;'>An error occurred while testing your payload. Please try again or contact your professor or TA.</span>\"))\n",
    "                step14Complete = False\n",
    "\n",
    "        elif (result.returncode == 3):\n",
    "            output14.clear_output()\n",
    "            with output14:\n",
    "                display(HTML(\"<span style='color: green;'>You have completed this step previously, and your file is patched.</span>\"))\n",
    "                step14Complete = True\n",
    "\n",
    "        # Now, if the return code was 0 or 1, it returned a response. Print the HTML of the response:\n",
    "        if (result.returncode == 0 or result.returncode == 1):\n",
    "            result = subprocess.run('ssh -o StrictHostKeyChecking=no -i /home/USERNAME_GOES_HERE/.ssh/merge_key USERNAME_GOES_HERE@sqli \"cat /home/.checker/responses/step_14_response.txt 2> /dev/null\"', capture_output=True, text=True, shell=True)\n",
    "            with output14:\n",
    "                if (\"No results found. Please enter a valid ID.\" in result.stdout):\n",
    "                    display(HTML(\"<br><p style='color: blue;'><em>Your php_practice.php file has its SQL injection vulnerability fixed.</em></p>\"))\n",
    "                \n",
    "                else:\n",
    "                    display(HTML(\"<br><p style='color: blue;'><em>Here is your SQL database after sending your payload:</em></p>\"))\n",
    "                    results = run_sql_query(userInput14.value)\n",
    "\n",
    "                    if results:\n",
    "                        markdown = create_html_table(results)\n",
    "                        display(HTML(markdown))\n",
    "\n",
    "def check_step_14(b):\n",
    "    if (warn_student()):\n",
    "        output14.clear_output()\n",
    "        with output14:\n",
    "            display(HTML(\"<span style='color: red;'><strong>WARNING:</strong> You have an autosaved lab that you have not yet loaded. If you would like to load your progress, click \\\"Load Lab\\\" at the top of the notebook. Otherwise, clicking on this button again will assume you're restarting the lab!</span>\"))\n",
    "    else:\n",
    "        step_14()\n",
    "\n",
    "        # Auto-save.\n",
    "        if (not runAllSteps):\n",
    "            trigger_save(\"14\", result.returncode, userInput14.value)\n",
    "\n",
    "def reset_step_14(b):\n",
    "    if (not step11Complete):\n",
    "        output14.clear_output()\n",
    "        with output14:\n",
    "            display(HTML(\"<span style='color: red;'>You must complete the previous step before this button is enabled.</span>\"))\n",
    "\n",
    "    else:\n",
    "        result = subprocess.run('ssh -i /home/USERNAME_GOES_HERE/.ssh/merge_key USERNAME_GOES_HERE@sqli /home/.checker/reset_db.py 14', shell=True, stdout=subprocess.DEVNULL)\n",
    "    \n",
    "        output14.clear_output()\n",
    "        with output14:\n",
    "            if (result.returncode == 0):\n",
    "                display(HTML(\"<span>Your database has been reset.</span>\"))\n",
    "            elif (result.returncode == 1):\n",
    "                display(HTML(\"<span>Something wrong occurred and your database wasn't reset. Please contact your professor/TA.</span>\"))\n",
    "            elif (result.returncode == 2):\n",
    "                display(HTML(\"<span>A SQL error occurred. Please contact your professor/TA.</span>\"))\n",
    "\n",
    "\n",
    "# Retrieve the student's response. First, create a loading spinner, since this could take a second or two.\n",
    "loading14 = widgets.Output()\n",
    "display(loading14)\n",
    "with loading14:\n",
    "    loading14.clear_output()\n",
    "    display(HTML(\"<span>Loading your saved response... <img width='12px' height='12px' style='margin-left: 3px;' src='resources/loading.gif'></span>\"))\n",
    "\n",
    "# Creating a text area.\n",
    "userInput14 = widgets.Text(\n",
    "    placeholder='Type your payload here',\n",
    "    description='Payload:',\n",
    "    layout=widgets.Layout(width='90%')\n",
    ")\n",
    "\n",
    "# Checking if the step has been answered.\n",
    "result = subprocess.run('ssh -o StrictHostKeyChecking=no -i /home/USERNAME_GOES_HERE/.ssh/merge_key USERNAME_GOES_HERE@sqli \"cat /home/.checker/responses/step_14_answer.txt 2> /dev/null\"', capture_output=True, text=True, shell=True)\n",
    "userInput14.value = result.stdout\n",
    "\n",
    "# After the student's response was loaded, clear the output.\n",
    "loading14.clear_output()\n",
    "\n",
    "# Creating the button.\n",
    "button = widgets.Button(description=\"Test Payload\")\n",
    "\n",
    "# Create an extra button for resetting the database.\n",
    "button_step_14 = widgets.Button(description=\"Reset Database\")\n",
    "\n",
    "# Creating an output area.\n",
    "output14 = widgets.Output()\n",
    "\n",
    "# Run the command on click.\n",
    "button.on_click(check_step_14)\n",
    "button_step_14.on_click(reset_step_14)\n",
    "\n",
    "# Display the output.\n",
    "display(userInput14, button, button_step_14, output14)"
   ]
  },
  {
   "cell_type": "markdown",
   "metadata": {
    "deletable": false,
    "editable": false,
    "slideshow": {
     "slide_type": ""
    },
    "tags": []
   },
   "source": [
    "## <strong>Topic 3: Prepared Statements</strong>"
   ]
  },
  {
   "cell_type": "markdown",
   "metadata": {
    "deletable": false,
    "editable": false,
    "slideshow": {
     "slide_type": ""
    },
    "tags": []
   },
   "source": [
    "PHP has a built-in functionality to mitigate the risks of SQL injection.\n",
    "\n",
    "### mysqli_real_escape_string() - <em style=\"color: red;\">Unsafe</em>\n",
    "\n",
    "First, there is a function called ```mysqli_real_escape_string()```, which is an <strong>unsafe</strong> sanitization function. \n",
    "\n",
    "This function requires a connection to be made with the SQL server before it can be called. This function takes any unsafe characters that can occur within a SQL statement, and safely escapes characters so that it treats SQL tokens as regular string characters. However, there are security vulnerabilities to this statement, which you can <a href=\"https://stackoverflow.com/questions/5741187/sql-injection-that-gets-around-mysql-real-escape-string\">read about here</a>. \n",
    "\n",
    "To put simply, this function becomes unsafe if your database character set does not match your PHP character set. This means using double quotes for your SQL statement, but single quotes for your user input, or vice versa, can break your security.\n",
    "\n",
    "### mysqli_prepare() - <em style=\"color: green;\">Safe</em>\n",
    "\n",
    "The safer alternative of ```mysqli_real_escape_string()``` is ```mysqli_prepare()```, which is a <strong>prepared statement</strong>.\n",
    "\n",
    "A prepared statement is a pre-compiled query, which means that it's sent to the database before it takes input. Once it has been compiled, the user input is replaced by ```?``` within the query, and becomes impossible to inject SQL code into. Prepared statements take the input type for each ```?``` within the query, and their types get checked when compiling the code before replacing the ```?``` with the user's input.\n",
    "\n",
    "Here is an example of a prepared statement:\n",
    "\n",
    "```$stmt = $conn->prepare(\"INSERT INTO table (column1, column2) VALUES (?, ?)\");```\n",
    "\n",
    "Before a statement can be executed, you need to bind parameters to the ```?``` values in the prepared statement. This tells PHP which variable types are being assigned to the question marks in the statement. So, the next line would be:\n",
    "\n",
    "```$stmt->bind_param('ss', $userInput1, $userInput2);```\n",
    "\n",
    "The ```ss``` tells SQL that ```$userInput1``` is a string, as well as ```$userInput2```. Additionally, if any inputs are an ```i``` type, it tells SQL that you are sending an int, ```d``` is a float, and ```b``` is a blob. You only need to worry about ```i``` and ```s``` for this lab.\n",
    "\n",
    "Finally, the last step is to run ```$stmt->execute();``` to execute the statement. If your SQL query returns a row from a table, it can be retrieved with ```$result = $stmt->get_result();```, then you can convert the result into an array with ```fetch_row``` or ```fetch_array```. Place this statement within a ```while``` loop if you would like to read all rows from the query."
   ]
  },
  {
   "cell_type": "markdown",
   "metadata": {
    "deletable": false,
    "editable": false,
    "slideshow": {
     "slide_type": ""
    },
    "tags": []
   },
   "source": [
    "### Step 15: Writing Your First Prepared Statement\n",
    "\n",
    "Using the instructions above, turn the SQL statement in ```php_practice.php``` into a prepared statement. Once you have converted the SQL queries into prepared statements, you are encouraged to take your payloads from above and test your work.\n",
    "\n",
    "To help direct you with what to do, you will need to do the following:\n",
    "- Convert the ```$student_id``` in ```$sql``` with a ```?```.\n",
    "- Replace ```$conn->multi_query($sql)``` with ```$conn->prepare($sql);``` and assign it to a variable, like ```$stmt```.\n",
    "- Call ```$stmt->bind_param(\"i\", $student_id)``` after the prepared statement.\n",
    "- Execute the query with ```$stmt->execute()```.\n",
    "- Replace ```$conn->store_result()``` with ```$stmt->get_result()```, then leave it assigned to ```$result```.\n",
    "\n",
    "If you're stuck, the PHP documentation is very helpful with demonstrating prepared statements. Feel free to view these examples. <u>While reading these documentation pages, you must use the OOP approach in your answer. Not the procedural approach.</u> You're heavily encouraged to look at these two documentation pages for examples that relate to this question.\n",
    "- <a href=\"https://www.php.net/manual/en/mysqli.prepare.php\">mysqli_prepare</a>\n",
    "- <a href=\"https://www.php.net/manual/en/mysqli-stmt.execute.php\">mysqli_stmt_execute</a>\n",
    "\n",
    "If you would like to revert the database to completing Step 14, you may click on the reset button. This will not reset your PHP file.\n",
    "\n",
    "When you have finished writing your prepared statement, click on the \"Check Work\" button to test this step. A SQL injection will be tested on your database, which should fail.\n",
    "\n",
    "<span style=\"color: red;\"><strong><img src=\"resources/alert.png\" style=\"width: 12px\"> Warning:</strong></span> If you comment out any of your prepared statement lines, it will be marked as missing. If you miss any statements, the check for this step will tell you what function(s) you missed. Make sure that you use the OOP approach (with ```->``` symbols) instead of procedural when using documentation online."
   ]
  },
  {
   "cell_type": "code",
   "execution_count": 17,
   "metadata": {
    "deletable": false,
    "editable": false,
    "jupyter": {
     "source_hidden": true
    },
    "slideshow": {
     "slide_type": ""
    },
    "tags": []
   },
   "outputs": [
    {
     "data": {
      "application/vnd.jupyter.widget-view+json": {
       "model_id": "aa86f8d6e3324ee591509f2a58e5129e",
       "version_major": 2,
       "version_minor": 0
      },
      "text/plain": [
       "Button(description='Test for SQL Injection', style=ButtonStyle())"
      ]
     },
     "metadata": {},
     "output_type": "display_data"
    },
    {
     "data": {
      "application/vnd.jupyter.widget-view+json": {
       "model_id": "d813367495df4fecb9c7cad125116624",
       "version_major": 2,
       "version_minor": 0
      },
      "text/plain": [
       "Button(description='Reset Database', style=ButtonStyle())"
      ]
     },
     "metadata": {},
     "output_type": "display_data"
    },
    {
     "data": {
      "application/vnd.jupyter.widget-view+json": {
       "model_id": "ee13b49ec0764f71a1113c587711a417",
       "version_major": 2,
       "version_minor": 0
      },
      "text/plain": [
       "Output()"
      ]
     },
     "metadata": {},
     "output_type": "display_data"
    }
   ],
   "source": [
    "# Click the button below to check your work.\n",
    "step15Complete = False\n",
    "\n",
    "# Function to check the permissions.\n",
    "def step_15():\n",
    "    # Important variables that must be accessed outside of this function.\n",
    "    global step15Complete, result\n",
    "\n",
    "    with output15:\n",
    "        output15.clear_output()\n",
    "        display(HTML(\"<span><img width='12px' height='12px' style='margin-left: 3px;' src='resources/loading.gif'></span>\"))\n",
    "    \n",
    "    result = subprocess.run('ssh -o StrictHostKeyChecking=no -i /home/USERNAME_GOES_HERE/.ssh/merge_key USERNAME_GOES_HERE@sqli /home/.checker/section_3.py', shell=True, text=True, capture_output=True)\n",
    "\n",
    "    if (result.returncode == 0):\n",
    "        output15.clear_output()\n",
    "        with output15:\n",
    "            display(HTML(\"<span style='color: green;'>Success! SQL injection did not occur on your website.</span>\"))\n",
    "            step15Complete = True\n",
    "\n",
    "    elif (result.returncode == 1):\n",
    "        output15.clear_output()\n",
    "        with output15:\n",
    "            display(HTML(\"<span style='color: red;'>You are using the correct functions in your PHP file, but SQL injection still occurred.</span>\"))\n",
    "            step15Complete = False\n",
    "    \n",
    "    elif (result.returncode == 2):\n",
    "        output15.clear_output()\n",
    "        with output15:\n",
    "            display(HTML(\"<span style='color: red;'>There is an error with this step. Either php_practice.php or SQL is not working. Please contact your professor or TA.</span>\"))\n",
    "            step15Complete = False\n",
    "\n",
    "    elif (result.returncode == 3):\n",
    "        output15.clear_output()\n",
    "        with output15:\n",
    "            display(HTML(\"<span style='color: red;'>You don't have all of the necessary functions used for a prepared statement. \" + result.stdout + \"</span>\"))\n",
    "            step15Complete = False\n",
    "\n",
    "def check_step_15(b):\n",
    "    if (warn_student()):\n",
    "        output15.clear_output()\n",
    "        with output15:\n",
    "            display(HTML(\"<span style='color: red;'><strong>WARNING:</strong> You have an autosaved lab that you have not yet loaded. If you would like to load your progress, click \\\"Load Lab\\\" at the top of the notebook. Otherwise, clicking on this button again will assume you're restarting the lab!</span>\"))\n",
    "    else:\n",
    "        step_15()\n",
    "\n",
    "        # Auto-save.\n",
    "        if (not runAllSteps):\n",
    "            trigger_save(\"15\", result.returncode)\n",
    "\n",
    "def reset_step_15(b):\n",
    "    if (not step14Complete):\n",
    "        output15.clear_output()\n",
    "        with output15:\n",
    "            display(HTML(\"<span style='color: red;'>You must complete the previous step before this button is enabled.</span>\"))\n",
    "\n",
    "    else:\n",
    "        result = subprocess.run('ssh -i /home/USERNAME_GOES_HERE/.ssh/merge_key USERNAME_GOES_HERE@sqli /home/.checker/reset_db.py 15', shell=True, stdout=subprocess.DEVNULL)\n",
    "   \n",
    "        output15.clear_output()\n",
    "        with output15:\n",
    "            if (result.returncode == 0):\n",
    "                display(HTML(\"<span>Your database has been reset.</span>\"))\n",
    "            elif (result.returncode == 1):\n",
    "                display(HTML(\"<span>Something wrong occurred and your database wasn't reset. Please contact your professor/TA.</span>\"))\n",
    "            elif (result.returncode == 2):\n",
    "                display(HTML(\"<span>A SQL error occurred. Please contact your professor/TA.</span>\"))\n",
    "\n",
    "# Creating the button.\n",
    "button = widgets.Button(description=\"Test for SQL Injection\")\n",
    "\n",
    "# Create an extra button for resetting the database.\n",
    "button_step_15 = widgets.Button(description=\"Reset Database\")\n",
    "\n",
    "# Creating an output area.\n",
    "output15 = widgets.Output()\n",
    "\n",
    "# Run the command on click.\n",
    "button.on_click(check_step_15)\n",
    "button_step_15.on_click(reset_step_15)\n",
    "\n",
    "# Display the output.\n",
    "display(button, button_step_15, output15)"
   ]
  },
  {
   "cell_type": "markdown",
   "metadata": {
    "deletable": false,
    "editable": false,
    "slideshow": {
     "slide_type": ""
    },
    "tags": []
   },
   "source": [
    "## <strong>Topic 4: A Large-Scale Application of SQL Injection</strong>\n",
    "\n",
    "For the final topic, you will be testing your knowledge on a website called FrobozzCo Community Credit Union (FCCU). The developers for FCCU have written the database without knowledge about SQL injection, and you will be responsible for attacking their website, draining someone's savings, then fixing their website.\n",
    "\n",
    "Navigate to ```localhost:port/index.html``` to go to the bank's landing page. Once again, <strong>port forwarding is required</strong> in order to access the website from your browser. ```port``` is a value that you used in your SSH statement.\n",
    "\n",
    "The source code for this site is located in ```/usr/lib/cgi-bin/FCCU.php```.\n",
    "\n",
    "Earlier in the lab, you saw a database called ```fccu``` in MySQL. The website that you will break is doing to use this database. If you are currently signed into MySQL, type ```USE fccu;``` to switch databases. Inside of the database, you will be able to view the usernames and passwords of all accounts. You may try signing into any account to view what customers can view.\n",
    "\n",
    "For this topic, you will not be shown the SQL query upon submitting the forum. You will need to think critically and understand how your input will be placed within the SQL statements."
   ]
  },
  {
   "cell_type": "markdown",
   "metadata": {
    "deletable": false,
    "editable": false,
    "slideshow": {
     "slide_type": ""
    },
    "tags": []
   },
   "source": [
    "### Step 16: Accessing Someone Else's Account\n",
    "\n",
    "On the sign-in page, type a SQL statement into the ID field so that you can access anyone's account without knowing the ID numbers ahead of time. <u>You are not allowed to use any of the customer's ID numbers in the payload.</u>\n",
    "\n",
    "When you have a working payload, copy/paste it below to check your work.\n",
    "\n",
    "<span style=\"color: green\"><strong><img src=\"resources/idea.png\" style=\"width: 12px\"> Tips:</strong></span>\n",
    "- Consider using a similar attack to what you used in Topic 2.\n",
    "- The ID field of the user's input is placed in the middle of a SQL statement. Consider using a SQL comment (```--```) to remove everything after your injection so that there is no error.\n",
    "- When signing into accounts, the PHP file will take the first row from the SQL query then sign into that user. Therefore, when delivering your payload, the first row of your payload will be the target. <u>This will be important to know for the next step.</u>\n",
    "- You must type something into the password field for the attack to work.\n",
    "- Your browser may show you the input history when you enter something into the text field. If you forgot to copy your working payload, you can go back and click on the entry box to view past inputs."
   ]
  },
  {
   "cell_type": "code",
   "execution_count": 18,
   "metadata": {
    "deletable": false,
    "editable": false,
    "slideshow": {
     "slide_type": ""
    },
    "tags": []
   },
   "outputs": [
    {
     "data": {
      "application/vnd.jupyter.widget-view+json": {
       "model_id": "bd1c491f243649eb9827ee4fd24f96e5",
       "version_major": 2,
       "version_minor": 0
      },
      "text/plain": [
       "Output()"
      ]
     },
     "metadata": {},
     "output_type": "display_data"
    },
    {
     "data": {
      "application/vnd.jupyter.widget-view+json": {
       "model_id": "f59b6c8a391e4aeca325c2218af3eaee",
       "version_major": 2,
       "version_minor": 0
      },
      "text/plain": [
       "Text(value='', description='Payload:', layout=Layout(width='90%'), placeholder='Type your payload here')"
      ]
     },
     "metadata": {},
     "output_type": "display_data"
    },
    {
     "data": {
      "application/vnd.jupyter.widget-view+json": {
       "model_id": "b5fd08c0683a49ee803524e14f1ab782",
       "version_major": 2,
       "version_minor": 0
      },
      "text/plain": [
       "Button(description='Test Payload', style=ButtonStyle())"
      ]
     },
     "metadata": {},
     "output_type": "display_data"
    },
    {
     "data": {
      "application/vnd.jupyter.widget-view+json": {
       "model_id": "87dd15b8a2404e1b88ee8b2f5f8f637a",
       "version_major": 2,
       "version_minor": 0
      },
      "text/plain": [
       "Output()"
      ]
     },
     "metadata": {},
     "output_type": "display_data"
    }
   ],
   "source": [
    "# Click the button below to check your work.\n",
    "step16Complete = False\n",
    "\n",
    "# Function to check if the student's answer was correct.\n",
    "def step_16():\n",
    "    # Important variables that must be accessed outside of this function.\n",
    "    global step16Complete, result\n",
    "\n",
    "    # Loading, in case the check is slow.\n",
    "    with output16:\n",
    "        output16.clear_output()\n",
    "        display(HTML(\"<span><img width='14px' height='14px' style='margin-left: 3px;' src='resources/loading.gif'></span>\"))\n",
    "\n",
    "    # First, check to see if the field is empty.\n",
    "    if (userInput16.value == \"\"):\n",
    "        output16.clear_output()\n",
    "        with output16:\n",
    "            display(HTML(\"<span style='color: red;'>You did not provide input for this step.</span>\"))\n",
    "            step16Complete = False\n",
    "\n",
    "    else:\n",
    "        # Escape single quotes by replacing them with '\\''.\n",
    "        escaped_user_input = shlex.quote(userInput16.value.strip())\n",
    "       \n",
    "        # Construct the SSH command for testing the SQL query.\n",
    "        sql_test_command = f\"\"\"ssh -i /home/USERNAME_GOES_HERE/.ssh/merge_key USERNAME_GOES_HERE@sqli \"/home/.checker/section_4.py 16 {escaped_user_input}\" \"\"\"\n",
    "        result = subprocess.run(sql_test_command, shell=True, stdout=subprocess.PIPE, stderr=subprocess.PIPE)\n",
    "        \n",
    "        # Construct the SSH command for saving the student's response.\n",
    "        save_command = f\"\"\"ssh -i /home/USERNAME_GOES_HERE/.ssh/merge_key USERNAME_GOES_HERE@sqli \"echo {escaped_user_input} > /home/.checker/responses/step_16_answer.txt\" \"\"\"\n",
    "        save_result = subprocess.run(save_command, shell=True, stdout=subprocess.PIPE, stderr=subprocess.PIPE)\n",
    "       \n",
    "        if (result.returncode == 0):\n",
    "            output16.clear_output()\n",
    "            with output16:\n",
    "                # Now, if the return code was 1, it returned the correct response. Print the HTML of the response:\n",
    "                display(HTML(\"<span style='color: green;'>Your payload worked! Here is the output from your payload.</span>\"))\n",
    "                step16Complete = True\n",
    "                result = subprocess.run('ssh -o StrictHostKeyChecking=no -i /home/USERNAME_GOES_HERE/.ssh/merge_key USERNAME_GOES_HERE@sqli \"cat /home/.checker/responses/step_16_response.txt 2> /dev/null\"', capture_output=True, text=True, shell=True)\n",
    "                display(HTML(result.stdout))\n",
    "\n",
    "        # Student is using a three-digit number.\n",
    "        elif (result.returncode == 3):\n",
    "            output16.clear_output()\n",
    "            with output16:\n",
    "                display(HTML(\"<span style='color: red;'>It appears you may be using a customer's ID in your payload. That is, a number that's three digits or more. Please remove it and try a different approach.</span>\"))\n",
    "                step16Complete = False\n",
    "\n",
    "        # Did not include a comment, which would not allow the student into the account.\n",
    "        elif (result.returncode == 4):\n",
    "            output16.clear_output()\n",
    "            with output16:\n",
    "                display(HTML(\"<span style='color: red;'>You did not use a SQL comment (--) in your payload. This is required for your payload to work.</span>\"))\n",
    "                step16Complete = False\n",
    "\n",
    "        # Payload did not allow the student into someone's account.\n",
    "        elif (result.returncode == 1):\n",
    "            output16.clear_output()\n",
    "            with output16:\n",
    "                display(HTML(\"<span style='color: red;'>Your payload did not sign you into someone's account. Please try again.</span>\"))\n",
    "                step16Complete = False\n",
    "\n",
    "        # Something else would've happened to cause this.\n",
    "        elif (result.returncode == 2):\n",
    "            output16.clear_output()\n",
    "            with output16:\n",
    "                display(HTML(\"<span style='color: red;'>An error occurred when testing your payload. Please contact your professor or TA.</span>\"))\n",
    "                step16Complete = False\n",
    "\n",
    "def check_step_16(b):\n",
    "    if (warn_student()):\n",
    "        output16.clear_output()\n",
    "        with output16:\n",
    "            display(HTML(\"<span style='color: red;'><strong>WARNING:</strong> You have an autosaved lab that you have not yet loaded. If you would like to load your progress, click \\\"Load Lab\\\" at the top of the notebook. Otherwise, clicking on this button again will assume you're restarting the lab!</span>\"))\n",
    "    else:\n",
    "        step_16()\n",
    "\n",
    "        # Auto-save.\n",
    "        if (not runAllSteps):\n",
    "            trigger_save(\"16\", result.returncode, userInput16.value)\n",
    "\n",
    "# Retrieve the student's response. First, create a loading spinner, since this could take a second or two.\n",
    "loading16 = widgets.Output()\n",
    "display(loading16)\n",
    "with loading16:\n",
    "    loading16.clear_output()\n",
    "    display(HTML(\"<span>Loading your saved response... <img width='14px' height='14px' style='margin-left: 3px;' src='resources/loading.gif'></span>\"))\n",
    "\n",
    "# Creating a text area.\n",
    "userInput16 = widgets.Text(\n",
    "    placeholder='Type your payload here',\n",
    "    description='Payload:',\n",
    "    layout=widgets.Layout(width='90%')\n",
    ")\n",
    "\n",
    "# Checking if the step has been answered.\n",
    "result = subprocess.run('ssh -o StrictHostKeyChecking=no -i /home/USERNAME_GOES_HERE/.ssh/merge_key USERNAME_GOES_HERE@sqli \"cat /home/.checker/responses/step_16_answer.txt 2> /dev/null\"', capture_output=True, text=True, shell=True)\n",
    "userInput16.value = result.stdout\n",
    "\n",
    "# After the student's response was loaded, clear the output.\n",
    "loading16.clear_output()\n",
    "\n",
    "# Creating the button.\n",
    "button = widgets.Button(description=\"Test Payload\")\n",
    "\n",
    "# Creating an output area.\n",
    "output16 = widgets.Output()\n",
    "\n",
    "# Run the command on click.\n",
    "button.on_click(check_step_16)\n",
    "\n",
    "# Display the output.\n",
    "display(userInput16, button, output16)"
   ]
  },
  {
   "cell_type": "markdown",
   "metadata": {
    "deletable": false,
    "editable": false,
    "slideshow": {
     "slide_type": ""
    },
    "tags": []
   },
   "source": [
    "### Step 17: Accessing Multiple Accounts\n",
    "\n",
    "In the previous step, you found a way to access someone's account by using SQL injection. Now, on the sign-in page, type a SQL statement into the ID field so that you can access the next valid ID. <u>The output of your SQL injection cannot attack the user from the previous step.</u>\n",
    "\n",
    "When you have a working payload, copy/paste it below to check your work. <u>You ARE allowed to use the ID from the previous step for your payload.</u>\n",
    "\n",
    "<span style=\"color: green\"><strong><img src=\"resources/idea.png\" style=\"width: 12px\"> Tip:</strong></span> This payload will be very similar to the previous one. However, consider using ```OFFSET```. Recall that this clause cannot be used without ```LIMIT```. If you prefer not to use these clauses, consider using another payload like ```id > number```, where ```number``` is the ID that you found from the previous user that you compromised."
   ]
  },
  {
   "cell_type": "code",
   "execution_count": 19,
   "metadata": {
    "deletable": false,
    "editable": false,
    "jupyter": {
     "source_hidden": true
    },
    "slideshow": {
     "slide_type": ""
    },
    "tags": []
   },
   "outputs": [
    {
     "data": {
      "application/vnd.jupyter.widget-view+json": {
       "model_id": "8911cc257769461bb8f234e8fc6619b9",
       "version_major": 2,
       "version_minor": 0
      },
      "text/plain": [
       "Output()"
      ]
     },
     "metadata": {},
     "output_type": "display_data"
    },
    {
     "data": {
      "application/vnd.jupyter.widget-view+json": {
       "model_id": "22bd516e7d05472392e03aff5c8c48de",
       "version_major": 2,
       "version_minor": 0
      },
      "text/plain": [
       "Text(value='', description='Payload:', layout=Layout(width='90%'), placeholder='Type your payload here')"
      ]
     },
     "metadata": {},
     "output_type": "display_data"
    },
    {
     "data": {
      "application/vnd.jupyter.widget-view+json": {
       "model_id": "413e3e350a654a0daaf7688c3208edc3",
       "version_major": 2,
       "version_minor": 0
      },
      "text/plain": [
       "Button(description='Test Payload', style=ButtonStyle())"
      ]
     },
     "metadata": {},
     "output_type": "display_data"
    },
    {
     "data": {
      "application/vnd.jupyter.widget-view+json": {
       "model_id": "6390689b413643fdb145a35dc4dc5fbb",
       "version_major": 2,
       "version_minor": 0
      },
      "text/plain": [
       "Output()"
      ]
     },
     "metadata": {},
     "output_type": "display_data"
    }
   ],
   "source": [
    "# Click the button below to check your work.\n",
    "step17Complete = False\n",
    "\n",
    "# Function to check if the student's answer was correct.\n",
    "def step_17():\n",
    "    # Important variables that must be accessed outside of this function.\n",
    "    global step16Complete, step17Complete, result\n",
    "\n",
    "    # Loading, in case the check is slow.\n",
    "    with output17:\n",
    "        output17.clear_output()\n",
    "        display(HTML(\"<span><img width='14px' height='14px' style='margin-left: 3px;' src='resources/loading.gif'></span>\"))\n",
    "\n",
    "    # First, check to see if the field is empty.\n",
    "    if (userInput17.value == \"\"):\n",
    "        output17.clear_output()\n",
    "        with output17:\n",
    "            display(HTML(\"<span style='color: red;'>You did not provide input for this step.</span>\"))\n",
    "            step17Complete = False\n",
    "\n",
    "    # Additionally, check to see if the previous step was completed.\n",
    "    # Required for the checker script! Will break if this step is completed correctly before Step 16 is attempted.\n",
    "    elif (not step16Complete):\n",
    "        output17.clear_output()\n",
    "        with output17:\n",
    "            display(HTML(\"<span style='color: red;'>You must complete Step 16 before attempting this step.</span>\"))\n",
    "            step17Complete = False\n",
    "\n",
    "    else:\n",
    "        # Escape single quotes by replacing them with '\\''.\n",
    "        escaped_user_input = shlex.quote(userInput17.value.strip())\n",
    "       \n",
    "        # Construct the SSH command for testing the SQL query.\n",
    "        sql_test_command = f\"\"\"ssh -i /home/USERNAME_GOES_HERE/.ssh/merge_key USERNAME_GOES_HERE@sqli \"/home/.checker/section_4.py 17 {escaped_user_input}\" \"\"\"\n",
    "        result = subprocess.run(sql_test_command, shell=True, stdout=subprocess.PIPE, stderr=subprocess.PIPE)\n",
    "        \n",
    "        # Construct the SSH command for saving the student's response.\n",
    "        save_command = f\"\"\"ssh -i /home/USERNAME_GOES_HERE/.ssh/merge_key USERNAME_GOES_HERE@sqli \"echo {escaped_user_input} > /home/.checker/responses/step_17_answer.txt\" \"\"\"\n",
    "        save_result = subprocess.run(save_command, shell=True, stdout=subprocess.PIPE, stderr=subprocess.PIPE)\n",
    "       \n",
    "        if (result.returncode == 0):\n",
    "            output17.clear_output()\n",
    "            with output17:\n",
    "                # Now, if the return code was 1, it returned the correct response. Print the HTML of the response:\n",
    "                display(HTML(\"<span style='color: green;'>Your payload worked! Here is the output from your payload.</span>\"))\n",
    "                step17Complete = True\n",
    "\n",
    "        # Student may be using a customer's ID (or not the previous customer's ID) in their payload.\n",
    "        elif (result.returncode == 3):\n",
    "            output17.clear_output()\n",
    "            with output17:\n",
    "                display(HTML(\"<span style='color: red;'>It appears you may be using a customer's ID in your payload. You may only use the ID used from the previous response. Please remove it and try a different approach.</span>\"))\n",
    "                step17Complete = False\n",
    "\n",
    "        # Did not include a comment, which would not allow the student into the account.\n",
    "        elif (result.returncode == 4):\n",
    "            output17.clear_output()\n",
    "            with output17:\n",
    "                display(HTML(\"<span style='color: red;'>You did not use a SQL comment (--) in your payload. This is required for your payload to work.</span>\"))\n",
    "                step17Complete = False\n",
    "\n",
    "        # Shouldn't happen, because this should've been caught previously.\n",
    "        elif (result.returncode == 5):\n",
    "            output17.clear_output()\n",
    "            with output17:\n",
    "                display(HTML(\"<span style='color: red;'>The previous step was not completed or your response was never saved. Please re-attempt Step 16. Contact your professor/TA if you need assistance.</span>\"))\n",
    "                step17Complete = False\n",
    "\n",
    "        # SQLi was correct, but did not return another user from the previous step.\n",
    "        elif (result.returncode == 6):\n",
    "            output17.clear_output()\n",
    "            with output17:\n",
    "                display(HTML(\"<span style='color: red;'>Your attack was successful, but did not return a different user from the previous step. Here is the result of your payload. Try again.</span>\"))\n",
    "                step17Complete = False\n",
    "\n",
    "        # Payload did not sign into a user's account.\n",
    "        elif (result.returncode == 1):\n",
    "            output17.clear_output()\n",
    "            with output17:\n",
    "                display(HTML(\"<span style='color: red;'>Your payload did not sign you into someone's account. Please try again.</span>\"))\n",
    "                step16Complete = False\n",
    "\n",
    "        # Something else went wrong.\n",
    "        elif (result.returncode == 2):\n",
    "            output17.clear_output()\n",
    "            with output17:\n",
    "                display(HTML(\"<span style='color: red;'>An error occurred when testing your payload. Please contact your professor or TA.</span>\"))\n",
    "                step16Complete = False\n",
    "\n",
    "        # If the return code is 1 or 6, then a response was successful, and can be displayed to the student.\n",
    "        # Return code 5 also writes output, but the check cannot be finished because it cannot be compared to the previous step.\n",
    "        # Shouldn't happen, but in case it does, you can check the step_16_response.txt file to see what's wrong.\n",
    "        if (result.returncode == 0 or result.returncode == 6):\n",
    "            with output17:\n",
    "                result = subprocess.run('ssh -o StrictHostKeyChecking=no -i /home/USERNAME_GOES_HERE/.ssh/merge_key USERNAME_GOES_HERE@sqli \"cat /home/.checker/responses/step_17_response.txt 2> /dev/null\"', capture_output=True, text=True, shell=True)\n",
    "                display(HTML(result.stdout))\n",
    "\n",
    "        \n",
    "def check_step_17(b):\n",
    "    if (warn_student()):\n",
    "        output17.clear_output()\n",
    "        with output17:\n",
    "            display(HTML(\"<span style='color: red;'><strong>WARNING:</strong> You have an autosaved lab that you have not yet loaded. If you would like to load your progress, click \\\"Load Lab\\\" at the top of the notebook. Otherwise, clicking on this button again will assume you're restarting the lab!</span>\"))\n",
    "    else:\n",
    "        step_17()\n",
    "\n",
    "        # Auto-save.\n",
    "        if (not runAllSteps):\n",
    "            trigger_save(\"17\", result.returncode, userInput17.value)\n",
    "\n",
    "# Retrieve the student's response. First, create a loading spinner, since this could take a second or two.\n",
    "loading17 = widgets.Output()\n",
    "display(loading17)\n",
    "with loading17:\n",
    "    loading17.clear_output()\n",
    "    display(HTML(\"<span>Loading your saved response... <img width='14px' height='14px' style='margin-left: 3px;' src='resources/loading.gif'></span>\"))\n",
    "\n",
    "# Creating a text area.\n",
    "userInput17 = widgets.Text(\n",
    "    placeholder='Type your payload here',\n",
    "    description='Payload:',\n",
    "    layout=widgets.Layout(width='90%')\n",
    ")\n",
    "\n",
    "# Checking if the step has been answered.\n",
    "result = subprocess.run('ssh -o StrictHostKeyChecking=no -i /home/USERNAME_GOES_HERE/.ssh/merge_key USERNAME_GOES_HERE@sqli \"cat /home/.checker/responses/step_17_answer.txt 2> /dev/null\"', capture_output=True, text=True, shell=True)\n",
    "userInput17.value = result.stdout\n",
    "\n",
    "# After the student's response was loaded, clear the output.\n",
    "loading17.clear_output()\n",
    "\n",
    "# Creating the button.\n",
    "button = widgets.Button(description=\"Test Payload\")\n",
    "\n",
    "# Creating an output area.\n",
    "output17 = widgets.Output()\n",
    "\n",
    "# Run the command on click.\n",
    "button.on_click(check_step_17)\n",
    "\n",
    "# Display the output.\n",
    "display(userInput17, button, output17)"
   ]
  },
  {
   "cell_type": "markdown",
   "metadata": {
    "deletable": false,
    "editable": false,
    "slideshow": {
     "slide_type": ""
    },
    "tags": []
   },
   "source": [
    "### Step 18: Wiping a Bank Account\n",
    "\n",
    "Make some account (your choice) wire its total balance to the bank with routing number: ```314159265``` and account number: ```271828182845```"
   ]
  },
  {
   "cell_type": "code",
   "execution_count": 20,
   "metadata": {
    "deletable": false,
    "editable": false,
    "jupyter": {
     "source_hidden": true
    },
    "slideshow": {
     "slide_type": ""
    },
    "tags": []
   },
   "outputs": [
    {
     "data": {
      "application/vnd.jupyter.widget-view+json": {
       "model_id": "26b0ada030824a2ebcf566cc68fe80d3",
       "version_major": 2,
       "version_minor": 0
      },
      "text/plain": [
       "Button(description='Check Work', style=ButtonStyle())"
      ]
     },
     "metadata": {},
     "output_type": "display_data"
    },
    {
     "data": {
      "application/vnd.jupyter.widget-view+json": {
       "model_id": "87a8c2f4116a44abad3055953c23b3f0",
       "version_major": 2,
       "version_minor": 0
      },
      "text/plain": [
       "Output()"
      ]
     },
     "metadata": {},
     "output_type": "display_data"
    }
   ],
   "source": [
    "# Click the button below to check your work.\n",
    "step18Complete = False\n",
    "\n",
    "# Function to check the permissions.\n",
    "def step_18():\n",
    "    # Important variables that must be accessed outside of this function.\n",
    "    global step18Complete, result\n",
    "\n",
    "    with output18:\n",
    "        output18.clear_output()\n",
    "        display(HTML(\"<span><img width='12px' height='12px' style='margin-left: 3px;' src='resources/loading.gif'></span>\"))\n",
    "    \n",
    "    result = subprocess.run('ssh -o StrictHostKeyChecking=no -i /home/USERNAME_GOES_HERE/.ssh/merge_key USERNAME_GOES_HERE@sqli /home/.checker/section_4.py 18 NA', shell=True)\n",
    "\n",
    "    if (result.returncode == 0):\n",
    "        output18.clear_output()\n",
    "        with output18:\n",
    "            display(HTML(\"<span style='color: green;'>Success! You may continue onto the next step.</span>\"))\n",
    "            step18Complete = True\n",
    "\n",
    "    elif (result.returncode == 1):\n",
    "        output18.clear_output()\n",
    "        with output18:\n",
    "            display(HTML(\"<span style='color: red;'>A wire transfer to 271828182845 cannot be found.</span>\"))\n",
    "            step18Complete = False\n",
    "    \n",
    "def check_step_18(b):\n",
    "    if (warn_student()):\n",
    "        output18.clear_output()\n",
    "        with output18:\n",
    "            display(HTML(\"<span style='color: red;'><strong>WARNING:</strong> You have an autosaved lab that you have not yet loaded. If you would like to load your progress, click \\\"Load Lab\\\" at the top of the notebook. Otherwise, clicking on this button again will assume you're restarting the lab!</span>\"))\n",
    "    else:\n",
    "        step_18()\n",
    "\n",
    "        # Auto-save.\n",
    "        if (not runAllSteps):\n",
    "            trigger_save(\"18\", result.returncode)\n",
    "\n",
    "# Creating the button.\n",
    "button = widgets.Button(description=\"Check Work\")\n",
    "\n",
    "# Creating an output area.\n",
    "output18 = widgets.Output()\n",
    "\n",
    "# Run the command on click.\n",
    "button.on_click(check_step_18)\n",
    "\n",
    "# Display the output.\n",
    "display(button, output18)"
   ]
  },
  {
   "cell_type": "markdown",
   "metadata": {
    "deletable": false,
    "editable": false,
    "slideshow": {
     "slide_type": ""
    },
    "tags": []
   },
   "source": [
    "### Step 19: Adding/Updating Accounts\n",
    "\n",
    "Why you can't create a new account or arbitrarily update account balances within the username field?\n",
    "\n",
    "This is a multiple choice question."
   ]
  },
  {
   "cell_type": "code",
   "execution_count": 21,
   "metadata": {
    "deletable": false,
    "editable": false,
    "jupyter": {
     "source_hidden": true
    },
    "slideshow": {
     "slide_type": ""
    },
    "tags": []
   },
   "outputs": [
    {
     "data": {
      "text/html": [
       "\n",
       "<style>\n",
       ".custom-radio .widget-radio-box label {\n",
       "    white-space: nowrap;\n",
       "    overflow: hidden;\n",
       "    text-overflow: ellipsis;\n",
       "    display: block;\n",
       "}\n",
       "</style>\n"
      ],
      "text/plain": [
       "<IPython.core.display.HTML object>"
      ]
     },
     "metadata": {},
     "output_type": "display_data"
    },
    {
     "data": {
      "application/vnd.jupyter.widget-view+json": {
       "model_id": "96ddef3053f3421c919398b577e0fb99",
       "version_major": 2,
       "version_minor": 0
      },
      "text/plain": [
       "RadioButtons(description='Select your answer:', layout=Layout(height='120px', margin='10px', width='650px'), o…"
      ]
     },
     "metadata": {},
     "output_type": "display_data"
    },
    {
     "data": {
      "application/vnd.jupyter.widget-view+json": {
       "model_id": "eee0a8c938884badb41934be005a0de7",
       "version_major": 2,
       "version_minor": 0
      },
      "text/plain": [
       "Button(description='Check Answer', style=ButtonStyle())"
      ]
     },
     "metadata": {},
     "output_type": "display_data"
    },
    {
     "data": {
      "application/vnd.jupyter.widget-view+json": {
       "model_id": "47d9cb0e6ed94c9d9b5f00f71624e531",
       "version_major": 2,
       "version_minor": 0
      },
      "text/plain": [
       "Output()"
      ]
     },
     "metadata": {},
     "output_type": "display_data"
    }
   ],
   "source": [
    "# Click the button below to check your work.\n",
    "step19Complete = False\n",
    "\n",
    "# Function to check if the student's answer was correct.\n",
    "def step_19():\n",
    "    # Important variables that must be accessed outside of this function.\n",
    "    global step19Complete, result\n",
    "\n",
    "    if (multchoice.value == None):\n",
    "        output19.clear_output()\n",
    "        with output19:\n",
    "            display(HTML(\"<span style='color: red;'>You did not select an answer.</span>\"))\n",
    "            step19Complete = False\n",
    "\n",
    "    else:\n",
    "        # Checking the answer:\n",
    "        result = subprocess.run('ssh -i /home/USERNAME_GOES_HERE/.ssh/merge_key USERNAME_GOES_HERE@sqli \"/home/.checker/section_4.py 19 \\\\\"' + multchoice.value + '\\\\\"\"', shell=True, text=True, capture_output=True)\n",
    "        \n",
    "        if (result.returncode == 0):\n",
    "            output19.clear_output()\n",
    "            with output19:\n",
    "                display(HTML(\"<span style='color: green;'>Correct! \" + result.stdout + \"</span>\"))\n",
    "                step19Complete = True\n",
    "    \n",
    "        elif (result.returncode == 1):\n",
    "            output19.clear_output()\n",
    "            with output19:\n",
    "                display(HTML(\"<span style='color: red;'>Double-check your answer. \" + result.stdout + \"</span>\"))\n",
    "                step19Complete = False\n",
    "            \n",
    "def check_step_19(b):\n",
    "    if (warn_student()):\n",
    "        output19.clear_output()\n",
    "        with output19:\n",
    "            display(HTML(\"<span style='color: red;'><strong>WARNING:</strong> You have an autosaved lab that you have not yet loaded. If you would like to load your progress, click \\\"Load Lab\\\" at the top of the notebook. Otherwise, clicking on this button again will assume you're restarting the lab!</span>\"))\n",
    "    else:\n",
    "        step_19()\n",
    "\n",
    "        # Auto-save.\n",
    "        if (not runAllSteps):\n",
    "            trigger_save(\"19\", result.returncode)\n",
    "\n",
    "# Creating the button.\n",
    "button = widgets.Button(description=\"Check Answer\")\n",
    "\n",
    "# Creating an output area.\n",
    "output19 = widgets.Output()\n",
    "\n",
    "# Run the command on click.\n",
    "button.on_click(check_step_19)\n",
    "\n",
    "display(HTML(\"\"\"\n",
    "<style>\n",
    ".custom-radio .widget-radio-box label {\n",
    "    white-space: nowrap;\n",
    "    overflow: hidden;\n",
    "    text-overflow: ellipsis;\n",
    "    display: block;\n",
    "}\n",
    "</style>\n",
    "\"\"\"))\n",
    "\n",
    "# Creating a text area.\n",
    "multchoice = widgets.RadioButtons(\n",
    "    options=['A SELECT statement cannot be nested with a INSERT or UPDATE statement.',\n",
    "             'The ID field restricts how many characters you can type. You would max out the character limit.',\n",
    "            'INSERT or UPDATE provides no output. So, the statement(s) cannot be used.',\n",
    "            'You cannot have more than one query when executing statements in FCCU.php.'],\n",
    "    description='Select your answer:',\n",
    "    index=None,  # No initial selection\n",
    "    layout=widgets.Layout(width='650px', height='120px', margin='10px')\n",
    ")\n",
    "\n",
    "# Getting a previously saved response, if any.\n",
    "result = subprocess.run('ssh -o StrictHostKeyChecking=no -i /home/USERNAME_GOES_HERE/.ssh/merge_key USERNAME_GOES_HERE@sqli \"cat /home/.checker/responses/step_19_answer.txt 2> /dev/null\"', capture_output=True, text=True, shell=True)\n",
    "\n",
    "# Pre-setting the index to whatever the student has answered.\n",
    "if (result.stdout == 'A SELECT statement cannot be nested with a INSERT or UPDATE statement.'):\n",
    "    multchoice.index = 0\n",
    "\n",
    "elif (result.stdout == 'The ID field restricts how many characters you can type. You would max out the character limit.'):\n",
    "    multchoice.index = 1\n",
    "\n",
    "elif (result.stdout == 'INSERT or UPDATE provides no output. So, the statement(s) cannot be used.'):\n",
    "    multchoice.index = 2\n",
    "\n",
    "elif (result.stdout == 'You cannot have more than one query when executing statements in FCCU.php.'):\n",
    "    multchoice.index = 3\n",
    "\n",
    "# Display the output.\n",
    "display(multchoice, button, output19)"
   ]
  },
  {
   "cell_type": "markdown",
   "metadata": {
    "deletable": false,
    "slideshow": {
     "slide_type": ""
    },
    "tags": []
   },
   "source": [
    "### Step 20: Fixing the Vulnerability\n",
    "\n",
    "For the final step of the lab, you will have to convert the following entries into prepared statements:\n",
    "\n",
    "- The sign-in field of the website.\n",
    "- The \"wire funds\" field.\n",
    "- The \"transfer money\" field.\n",
    "- The \"withdraw cash\" field.\n",
    "\n",
    "To assist you with fixing these statements, every query that needs to be updated in ```FCCU.php``` will appear like this:\n",
    "\n",
    "```\n",
    "/*** Block #1: CONVERT TO PREPARED STATEMENT ***/\n",
    "$query = \"SQL statement here\";\n",
    "$result = $mysqli->query($query) or die($mysqli->error());\n",
    "$row = $result->fetch_array();\n",
    "/***********************************************/\n",
    "```\n",
    "\n",
    "Here's a template of a fixed statement:\n",
    "```\n",
    "/*** Block #1: CONVERT TO PREPARED STATEMENT ***/\n",
    "$query = \"Updated SQL statement here\";\n",
    "$stmt = $mysqli->prepare($query);\n",
    "$stmt->bind_param(\"si\", $string_param, $int_param);\n",
    "$stmt->execute();\n",
    "$result = $stmt->get_result() or die($mysqli->error());\n",
    "$row = $result->fetch_row();\n",
    "/***********************************************/\n",
    "```\n",
    "\n",
    "Note that you are switching from ```fetch_array()``` to ```fetch_row()``` when using the prepared statements. You cannot use ```fetch_array()``` on the statement object, a value returned by <a href=\"https://www.php.net/manual/en/mysqli.prepare.php\">prepare()</a>. Instead, you need to use methods associated with the <a href=\"https://www.php.net/manual/en/class.mysqli-stmt.php\">mysqli_stmt</a> object to fetch results. Here is some documentation on <a href=\"https://www.php.net/manual/en/mysqli-result.fetch-row.php\">mysqli_fetch_row</a>, which is what you're using instead.\n",
    "\n",
    "The sign-in field will be tested to ensure that SQL injection will not occur. Every other field will be checked, but not tested. Recall that the source code for this site is located in ```/usr/lib/cgi-bin/FCCU.php```. <u>You need to use ```sudo``` to write into this file.\n",
    "\n",
    "<strong>Do not remove the comments that surround the code that needs to be edited.</strong> For the grader to function properly, these two lines need to remain around your answers. \n",
    "\n",
    "<span style=\"color: green\"><strong><img src=\"resources/idea.png\" style=\"width: 12px\"> Tips:</strong></span>\n",
    "- There are a total of 9 statements which needs to be converted. The template is provided to you, and you can copy/paste the code into ```FCCU.php```, then make adjustments to the ```$query``` string and the variables in ```bind_param```.\n",
    "- Whenever a variable is wrapped around 'single quotes', that indicates you must bind a <u>string</u> parameter. Likewise, if a variable does not have 'single quotes' around it, bind an integer to it.\n",
    "  - Inside of your SQL statement, use ```?``` for your string, not ```'?'```.\n",
    "- Be aware of the number of parameters in your SQL statements. Blocks #1-#4 and #6 have two parameters, block #5 and #7 use three parameters, and blocks #8 and #9 only have one parameter.\n",
    "- Some prepared statements that need to be made are completely identical to other blocks. If you're patching a SQL statement that appears familiar, you should consider copy/pasting previous fixes that you made.\n",
    "- <u>When using the template above, be careful not to delete the original ```$query``` that you're attempting to patch.</u> If you accidentally do this, you can find a copy of ```FCCU.php``` inside of ```/tmp``` on the ```sqli``` node."
   ]
  },
  {
   "cell_type": "code",
   "execution_count": 22,
   "metadata": {
    "deletable": false,
    "editable": false,
    "jupyter": {
     "source_hidden": true
    },
    "slideshow": {
     "slide_type": ""
    },
    "tags": []
   },
   "outputs": [
    {
     "data": {
      "application/vnd.jupyter.widget-view+json": {
       "model_id": "79d92653f1884761b9f75f7dd1b0f35b",
       "version_major": 2,
       "version_minor": 0
      },
      "text/plain": [
       "Button(description='Check Work', style=ButtonStyle())"
      ]
     },
     "metadata": {},
     "output_type": "display_data"
    },
    {
     "data": {
      "application/vnd.jupyter.widget-view+json": {
       "model_id": "1533fd3dc91a4015bb5c574d9d179690",
       "version_major": 2,
       "version_minor": 0
      },
      "text/plain": [
       "Output()"
      ]
     },
     "metadata": {},
     "output_type": "display_data"
    }
   ],
   "source": [
    "# Click the button below to check your work.\n",
    "step20Complete = False\n",
    "\n",
    "# Function to check the permissions.\n",
    "def step_20():\n",
    "    # Important variables that must be accessed outside of this function.\n",
    "    global step20Complete, result\n",
    "\n",
    "    with output20:\n",
    "        output20.clear_output()\n",
    "        display(HTML(\"<span><img width='12px' height='12px' style='margin-left: 3px;' src='resources/loading.gif'></span>\"))\n",
    "    \n",
    "    result = subprocess.run('ssh -o StrictHostKeyChecking=no -i /home/USERNAME_GOES_HERE/.ssh/merge_key USERNAME_GOES_HERE@sqli /home/.checker/section_4.py 20 NA', shell=True, capture_output=True, text=True)\n",
    "\n",
    "    if (result.returncode == 0):\n",
    "        output20.clear_output()\n",
    "        with output20:\n",
    "            display(HTML(\"<span style='color: green;'>Success! All prepared statements were fixed and a payload doesn't allow you into anyone's account.</span>\"))\n",
    "            step20Complete = True\n",
    "\n",
    "    elif (result.returncode == 1):\n",
    "        # This error code will produce output. Gather the output:\n",
    "        error_message = result.stdout\n",
    "        output20.clear_output()\n",
    "        with output20:\n",
    "            display(HTML(\"<span style='color: red;'>FCCU.php is not fully secure. \" + str(error_message) + \" Try again.</span>\"))\n",
    "            step20Complete = False\n",
    "\n",
    "    elif (result.returncode == 3):\n",
    "        error_message = result.stdout\n",
    "        output20.clear_output()\n",
    "        with output20:\n",
    "            display(HTML(\"<span style='color: red;'>All prepared statements were fixed, but a SQL injection attack still occurs on the sign-in page. Check Block #1 and fix any error(s) with your prepared statement.</span>\"))\n",
    "            step20Complete = False\n",
    "\n",
    "    elif (result.returncode == 2):\n",
    "        error_message = result.stdout\n",
    "        output20.clear_output()\n",
    "        with output20:\n",
    "            display(HTML(\"<span style='color: red;'>Either FCCU.php is missing, or all nine segments of SQL queries cannot be found. You may need to reset your FCCU.php file. Did you alter a comment surrounding a SQL query?</span>\"))\n",
    "            step20Complete = False\n",
    "\n",
    "    elif (result.returncode == 4):\n",
    "        error_message = result.stdout\n",
    "        output20.clear_output()\n",
    "        with output20:\n",
    "            display(HTML(\"<span style='color: red;'>Your SQL statements are fixed, but the SQLi payload failed. Please contact your professor/TA.</span>\"))\n",
    "            step20Complete = False\n",
    "\n",
    "def check_step_20(b):\n",
    "    if (warn_student()):\n",
    "        output20.clear_output()\n",
    "        with output20:\n",
    "            display(HTML(\"<span style='color: red;'><strong>WARNING:</strong> You have an autosaved lab that you have not yet loaded. If you would like to load your progress, click \\\"Load Lab\\\" at the top of the notebook. Otherwise, clicking on this button again will assume you're restarting the lab!</span>\"))\n",
    "    else:\n",
    "        step_20()\n",
    "\n",
    "        # Auto-save.\n",
    "        if (not runAllSteps):\n",
    "            trigger_save(\"20\", result.returncode)\n",
    "\n",
    "# Creating the button.\n",
    "button = widgets.Button(description=\"Check Work\")\n",
    "\n",
    "# Creating an output area.\n",
    "output20 = widgets.Output()\n",
    "\n",
    "# Run the command on click.\n",
    "button.on_click(check_step_20)\n",
    "\n",
    "# Display the output.\n",
    "display(button, output20)"
   ]
  },
  {
   "cell_type": "markdown",
   "metadata": {
    "deletable": false,
    "editable": false,
    "slideshow": {
     "slide_type": ""
    },
    "tags": []
   },
   "source": [
    "## <strong>Grading</strong>\n",
    "\n",
    "To check your overall grade, click on the button below."
   ]
  },
  {
   "cell_type": "code",
   "execution_count": 23,
   "metadata": {
    "deletable": false,
    "editable": false,
    "jupyter": {
     "source_hidden": true
    },
    "slideshow": {
     "slide_type": ""
    },
    "tags": []
   },
   "outputs": [
    {
     "data": {
      "application/vnd.jupyter.widget-view+json": {
       "model_id": "b187469a1fa844b48d8a6baff6957a16",
       "version_major": 2,
       "version_minor": 0
      },
      "text/plain": [
       "Button(description='Calculate Grade', style=ButtonStyle())"
      ]
     },
     "metadata": {},
     "output_type": "display_data"
    },
    {
     "data": {
      "application/vnd.jupyter.widget-view+json": {
       "model_id": "820cb01b8ec241e0811bc9e6b934f1e3",
       "version_major": 2,
       "version_minor": 0
      },
      "text/plain": [
       "Output()"
      ]
     },
     "metadata": {},
     "output_type": "display_data"
    }
   ],
   "source": [
    "# Click the button below to check your overall grade.\n",
    "steps_to_check = [\n",
    "    step_1, step_2, step_3, step_4, step_5, step_6, step_7, step_8, \n",
    "    step_11, step_12, step_13, step_14, step_15, step_16, step_17, \n",
    "    step_18, step_19, step_20\n",
    "]\n",
    "\n",
    "# Function to calculate grade after refreshing the cell.\n",
    "def calculate_grade(b):\n",
    "    # To not auto-save at each step.\n",
    "    global runAllSteps\n",
    "    runAllSteps = True\n",
    "\n",
    "    with gradeOutput:\n",
    "        gradeOutput.clear_output()\n",
    "        display(HTML(\"<span>Testing all steps. Please wait.</span> \\\n",
    "            <span><img width='12px' height='12px' style='margin-left: 3px;' src='resources/loading.gif'></span>\"))\n",
    "    \n",
    "    # Required for checking the boolean values.\n",
    "    for func in steps_to_check:\n",
    "        func()  # Call each function in order.\n",
    "\n",
    "    # The array that stores all of the steps' results.\n",
    "    steps = [\n",
    "        step1Complete, step2Complete, step3Complete, step4Complete, step5Complete, \n",
    "        step6Complete, step7Complete, step8Complete, step11Complete, step12Complete, \n",
    "        step13Complete, step14Complete, step15Complete, step16Complete, step17Complete, \n",
    "        step18Complete, step19Complete, step20Complete\n",
    "    ]\n",
    "\n",
    "    output = \"\"\n",
    "    stepsCorrect = 0\n",
    "    total_steps = 20  # Total number of steps including optional steps\n",
    "\n",
    "    for i in range(1, total_steps + 1):\n",
    "        \n",
    "        # Step 9 is optional.\n",
    "        if i == 9:\n",
    "            output += \"<div style='color: orange;'>Step 9 is optional, and does not count towards your final grade.</div>\"\n",
    "            continue\n",
    "\n",
    "        # Step 10 is a reading.\n",
    "        if i == 10:\n",
    "            output += \"<div style='color: black;'>Step 10 is a reading section.</div>\"\n",
    "            continue\n",
    "\n",
    "        # Check the corresponding step in the steps list.\n",
    "        steps_index = i - 1\n",
    "        if i > 10:\n",
    "            steps_index -= 2  # Adjust index for steps 11-20.\n",
    "\n",
    "        if steps[steps_index]:\n",
    "            stepsCorrect += 1\n",
    "            output += f\"<div style='color: green;'>Step {i} is complete.</div>\"\n",
    "        else:\n",
    "            output += f\"<div style='color: red;'>Step {i} is incomplete.</div>\"\n",
    "\n",
    "    # The number of steps that count towards the final grade.\n",
    "    stepsCorrect += 2  # Steps 9 and 10 are optional, and are considered correct no matter what.\n",
    "\n",
    "    output += \"<div style='color: black;'>You have \" + str(stepsCorrect) + \" out of \" + str(total_steps) + \" steps completed.</div>\"\n",
    "\n",
    "    with gradeOutput:\n",
    "        gradeOutput.clear_output()\n",
    "        display(HTML(output))\n",
    "\n",
    "    # Allow each step to be auto-graded again.\n",
    "    runAllSteps = False\n",
    "\n",
    "# Create a button to refresh the cell and another to calculate grade.\n",
    "grade_button = widgets.Button(description=\"Calculate Grade\")\n",
    "\n",
    "# Link buttons to functions.\n",
    "grade_button.on_click(calculate_grade)\n",
    "\n",
    "# Output area.\n",
    "gradeOutput = widgets.Output()\n",
    "\n",
    "# Display the buttons and output.\n",
    "display(grade_button, gradeOutput)"
   ]
  },
  {
   "cell_type": "markdown",
   "metadata": {
    "deletable": false,
    "editable": false,
    "slideshow": {
     "slide_type": ""
    },
    "tags": []
   },
   "source": [
    "### Stopping the Lab\n",
    "\n",
    "Once you are done with the lab, click on the \"Stop Lab\" button below. <strong>This will delete your materialization, which will delete all of the lab's resources.</strong> Your progress is saved automatically in ```saves/``` within the sidebar of your XDC. You may load this lab in the future by clicking \"Load Lab\" at the top."
   ]
  },
  {
   "cell_type": "code",
   "execution_count": 24,
   "metadata": {
    "deletable": false,
    "editable": false,
    "jupyter": {
     "source_hidden": true
    },
    "slideshow": {
     "slide_type": ""
    },
    "tags": []
   },
   "outputs": [
    {
     "data": {
      "application/vnd.jupyter.widget-view+json": {
       "model_id": "a50ec25500994d958bf93339018f9dea",
       "version_major": 2,
       "version_minor": 0
      },
      "text/plain": [
       "Checkbox(value=False, description='Confirm', indent=False)"
      ]
     },
     "metadata": {},
     "output_type": "display_data"
    },
    {
     "data": {
      "application/vnd.jupyter.widget-view+json": {
       "model_id": "a602e3d4bc3c4812bcf72ecdb95e7818",
       "version_major": 2,
       "version_minor": 0
      },
      "text/plain": [
       "Button(description='Stop Lab', style=ButtonStyle())"
      ]
     },
     "metadata": {},
     "output_type": "display_data"
    },
    {
     "data": {
      "application/vnd.jupyter.widget-view+json": {
       "model_id": "4919c638d3f54ccebf708201b9507741",
       "version_major": 2,
       "version_minor": 0
      },
      "text/plain": [
       "Output()"
      ]
     },
     "metadata": {},
     "output_type": "display_data"
    }
   ],
   "source": [
    "# Click the button below to stop the experiment.\n",
    "def stoplab(button):\n",
    "    # Check to make sure that the student wants to confirm ending the lab.\n",
    "    if (confirm.value == False):\n",
    "        with stop_output:\n",
    "            stop_output.clear_output()\n",
    "            display(HTML(\"<newline><span style='color: red;'>Please confirm that you wish to end the lab.</span>\"))\n",
    "\n",
    "    else:\n",
    "        # Defining the lab name.\n",
    "        labname = \"sqli\"\n",
    "    \n",
    "        # Writing the information to an empty field below the button.\n",
    "        with stop_output:\n",
    "            stop_output.clear_output()\n",
    "            \n",
    "            display(HTML(\"<span>Stopping the \" + labname + \" lab. This will take a minute to process. Please wait.</span> \\\n",
    "                <span><img width='12px' height='12px' style='margin-left: 3px;' src='resources/loading.gif'></span>\"))\n",
    "            stopexp = subprocess.run('su - USERNAME_GOES_HERE -c \"bash /share/stopexp ' + labname + 'jup\"', capture_output=True, text=True, shell=True)\n",
    "            stop_output.clear_output()\n",
    "            display(HTML(\"<span>Done. Result:</span>\"))\n",
    "            print(stopexp.stdout)\n",
    "    \n",
    "            display(HTML(\"<newline><span style='color: green;'><strong>Your lab has been ended.</strong></span>\"))\n",
    "\n",
    "# Creating the button.\n",
    "stopButton = widgets.Button(description=\"Stop Lab\")\n",
    "\n",
    "# Create a confirmation check.\n",
    "confirm = widgets.Checkbox(\n",
    "    value=False,\n",
    "    description='Confirm',\n",
    "    disabled=False,\n",
    "    indent=False\n",
    ")\n",
    "\n",
    "# Creating an output area.\n",
    "stop_output = widgets.Output()\n",
    "\n",
    "# Run the command on click.\n",
    "stopButton.on_click(stoplab)\n",
    "\n",
    "# Display the output.\n",
    "display(confirm, stopButton, stop_output)"
   ]
  }
 ],
 "metadata": {
  "kernelspec": {
   "display_name": "Python 3 (ipykernel)",
   "language": "python",
   "name": "python3"
  },
  "language_info": {
   "codemirror_mode": {
    "name": "ipython",
    "version": 3
   },
   "file_extension": ".py",
   "mimetype": "text/x-python",
   "name": "python",
   "nbconvert_exporter": "python",
   "pygments_lexer": "ipython3",
   "version": "3.10.12"
  }
 },
 "nbformat": 4,
 "nbformat_minor": 4
}
