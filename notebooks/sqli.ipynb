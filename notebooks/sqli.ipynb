{
 "cells": [
  {
   "cell_type": "markdown",
   "metadata": {
    "editable": true,
    "slideshow": {
     "slide_type": ""
    },
    "tags": []
   },
   "source": [
    "# <strong>SQL Injection</strong>\n",
    "\n",
    "SQL (Structured Query Language) injection (abbreviated as SQLi) is a type of database attack by typing SQL code into an input field. SQL injection attacks can be very detrimental, as they can be used to leak information, change entries, wipe entire databases, and more. For this lab, you will be experimenting with a bank website that contains insecure code that does not sanitize user input, opening it up to security vulnerabilities.\n",
    "\n",
    "<figure><center><img src=\"resources/sqli/sqli_example.jpg\" style=\"width: 95%; height: 85%;\"></img></center><em><figcaption>Credit: <a href=\"https://www.dnsstuff.com/sql-injection\">DNSstuff</a></figcaption></em></figure>\n",
    "\n",
    "The website where you will practice SQL injection is developed in PHP, which is hosted through Apache. PHP is a server-side language that's used for handling and processing data for websites. Since PHP is server-side, its code cannot be viewed by the user. However, this does not prevent attackers from attemping SQL injection, and you will learn in this lab how hackers can guess-and-check various SQL statements to crack a database.\n",
    "\n",
    "<strong>This lab will contain four topics, and you will learn the following:</strong>\n",
    "\n",
    "1. SQL Basics\n",
    "2. PHP and SQL Practice\n",
    "3. Prepared Statements\n",
    "4. A Large-Scale Application of SQL Injection"
   ]
  },
  {
   "cell_type": "code",
   "execution_count": 1,
   "metadata": {
    "editable": true,
    "jupyter": {
     "source_hidden": true
    },
    "jupyterlab-hide-cells:hidden": true,
    "slideshow": {
     "slide_type": ""
    },
    "tags": []
   },
   "outputs": [],
   "source": [
    "# Setting up the lab.\n",
    "import ipywidgets as widgets\n",
    "from IPython.display import display, HTML, Javascript\n",
    "from IPython.core.magic import register_line_magic\n",
    "import os\n",
    "# For accessing the nodes:\n",
    "import subprocess\n",
    "# For the stopexp command:\n",
    "import re\n",
    "\n",
    "# When true, it will not auto-save at each step.\n",
    "runAllSteps = False\n",
    "\n",
    "###### Used for saving notebooks. ######\n",
    "import threading\n",
    "# Threading required in case steps are progressed too quickly.\n",
    "save_lock = threading.Lock()\n",
    "\n",
    "# The save function itself.\n",
    "def save_notebook():\n",
    "    with save_lock:\n",
    "        result = subprocess.run('su - umdsectc -c \"/home/umdsectc/notebooks/resources/save.py sqli\"', shell=True, capture_output=True, text=True)\n",
    "\n",
    "# Creating a thread to save the notebook.\n",
    "def trigger_save():\n",
    "    save_thread = threading.Thread(target=save_notebook)\n",
    "    save_thread.start()\n",
    "\n",
    "###### Used for loading notebooks. ######\n",
    "import queue\n",
    "\n",
    "load_lock = threading.Lock()\n",
    "result_queue = queue.Queue()\n",
    "\n",
    "def load_notebook():\n",
    "    with load_lock:\n",
    "        result = subprocess.run('su - umdsectc -c \"/home/umdsectc/notebooks/resources/load.py sqli\"', shell=True, capture_output=True, text=True)\n",
    "        result_queue.put(result)  # Put the result in the queue.\n",
    "\n",
    "# Creating a thread to load the notebook.\n",
    "def trigger_load():\n",
    "    load_thread = threading.Thread(target=load_notebook)\n",
    "    load_thread.start()\n",
    "    load_thread.join()  # Wait for the thread to complete before adding result to the queue.\n",
    "    return result_queue.get()  # Get the result from the queue."
   ]
  },
  {
   "cell_type": "markdown",
   "metadata": {},
   "source": [
    "### Step 0: Begin the experiment.\n",
    "\n",
    "Click the button to begin creating the experiment."
   ]
  },
  {
   "cell_type": "code",
   "execution_count": 2,
   "metadata": {
    "jupyter": {
     "source_hidden": true
    }
   },
   "outputs": [
    {
     "data": {
      "application/vnd.jupyter.widget-view+json": {
       "model_id": "4f555c1a4e994e16879c5b1a724b7755",
       "version_major": 2,
       "version_minor": 0
      },
      "text/plain": [
       "Button(description='Start Lab', style=ButtonStyle())"
      ]
     },
     "metadata": {},
     "output_type": "display_data"
    },
    {
     "data": {
      "application/vnd.jupyter.widget-view+json": {
       "model_id": "419c6358e37d4e16bea8b9507ae724d2",
       "version_major": 2,
       "version_minor": 0
      },
      "text/plain": [
       "Output()"
      ]
     },
     "metadata": {},
     "output_type": "display_data"
    }
   ],
   "source": [
    "# Click the button below to start the experiment.\n",
    "def startlab(button):\n",
    "    # Defining the lab name.\n",
    "    labname = \"sqli\"\n",
    "\n",
    "    # Writing the information to an empty field below the button.\n",
    "    with output0:\n",
    "        output0.clear_output()\n",
    "        \n",
    "        # First, checking if the materialization exists. May have been stopped by a previous lab.\n",
    "        materialPattern = \"real.\" + labname + \".umdsec[a-z]{1,2}\"\n",
    "\n",
    "        # Listing the materializations to find if there's an existing one for this lab.\n",
    "        checkMaterial = os.popen('su - umdsectc -c \"mrg list materializations\"').read()\n",
    "        regex = re.compile(materialPattern)\n",
    "        # Getting the matches:\n",
    "        match = regex.search(checkMaterial)\n",
    "\n",
    "        if match:\n",
    "            display(HTML(\"<span style='color: orange;'>An existing materialization for this lab already exists. </span><span>You might have ran another \\\n",
    "            lab without stopping this one. Attaching the existing materialization.</span>\"))\n",
    "            subprocess.run(f'su - umdsectc -c \"mrg xdc attach xdc '+ match.group(0) + '\"', capture_output=True, text=True, shell=True)\n",
    "            display(HTML(\"<newline><span style='color: green;'><strong>Setup complete. You may begin the lab! </strong></span>\" \\\n",
    "                         \"<span>When you're finished, close your lab at the bottom of the notebook.</span>\"))\n",
    "        \n",
    "        else:\n",
    "            display(HTML(\"<span>No existing materializations are found.</span>\"))\n",
    "        \n",
    "            # Second, start the lab.\n",
    "            display(HTML(\"<span>Starting \" + labname + \" lab. This will take a few minutes to process. Please wait.</span> \\\n",
    "            <span><img width='12px' height='12px' style='margin-left: 3px;' src='resources/loading.gif'></span>\"))\n",
    "            startexp = subprocess.run('su - umdsectc -c \"bash /share/startexp ' + labname + '\"', capture_output=True, text=True, shell=True)\n",
    "            output0.clear_output()\n",
    "            display(HTML(\"<span>Done. Result:</span>\"))\n",
    "            print(startexp.stdout)\n",
    "\n",
    "            # Another lab is already attached to the XDC.\n",
    "            if ((\"XDC already attached\") in startexp.stdout):\n",
    "                existingLab = re.search(r\"real.(.*).umdsec[a-z]{1,2}\", startexp.stdout).group(1)\n",
    "\n",
    "                # Shouldn't happen.\n",
    "                if (labname == existingLab):\n",
    "                    display(HTML(\"<span style='color: red;'>Your lab was already started. </span><span>Please continue to the next step.</span>\"))\n",
    "\n",
    "                # Detaching the existing lab, then attaching the current one.\n",
    "                else:\n",
    "                    display(HTML(\"<span style='color: orange;'>Warning: You did not stop your previous experiment. </span><span>Please stop your experiments \\\n",
    "                    before starting a new one. Detaching the \" + existingLab + \" experiment.</span>\"))\n",
    "                    os.popen('su - umdsectc -c \"mrg xdc detach xdc.umdsectc\"')\n",
    "                    display(HTML(\"<span>Attaching the current lab.</span>\"))\n",
    "                    os.popen('su - umdsectc -c \"mrg xdc attach xdc ' + materialPattern + '\"')\n",
    "    \n",
    "            # Third, get the lab materials onto the node.\n",
    "            display(HTML(\"<span>Allocating lab resources onto the node. <u>Please wait a little longer...</u></span>\"))\n",
    "            runlab = subprocess.run('su - umdsectc -c \"bash /home/runlab ' + labname + '\"', capture_output=True, text=True, shell=True)\n",
    "            display(HTML(\"<newline><span style='color: green;'><strong>Setup complete. You may begin the lab! </strong></span>\" \\\n",
    "                         \"<span>When you're finished, close your lab at the bottom of the notebook. Your lab will be active for one week.</span>\"))\n",
    "\n",
    "# Creating the button.\n",
    "startButton = widgets.Button(description=\"Start Lab\")\n",
    "\n",
    "# Creating an output area.\n",
    "output0 = widgets.Output()\n",
    "\n",
    "# Run the command on click.\n",
    "startButton.on_click(startlab)\n",
    "\n",
    "# Display the output.\n",
    "display(startButton, output0)"
   ]
  },
  {
   "cell_type": "markdown",
   "metadata": {},
   "source": [
    "If you previously stopped your lab, you may restore your progress below by clicking \"Load Lab\". <u>You do not have to load your lab if you signed out, closed your notebook, or exited your node(s) or XDC by using ```exit```.</u>"
   ]
  },
  {
   "cell_type": "code",
   "execution_count": 3,
   "metadata": {
    "jupyter": {
     "source_hidden": true
    }
   },
   "outputs": [
    {
     "data": {
      "application/vnd.jupyter.widget-view+json": {
       "model_id": "5e9f712b21db48a49aefde23837d8cf3",
       "version_major": 2,
       "version_minor": 0
      },
      "text/plain": [
       "Button(description='Load Lab', style=ButtonStyle())"
      ]
     },
     "metadata": {},
     "output_type": "display_data"
    },
    {
     "data": {
      "application/vnd.jupyter.widget-view+json": {
       "model_id": "d80b772c21ce41a6a4971c1a0836aa4b",
       "version_major": 2,
       "version_minor": 0
      },
      "text/plain": [
       "Output()"
      ]
     },
     "metadata": {},
     "output_type": "display_data"
    }
   ],
   "source": [
    "# Click the button below to load your lab.\n",
    "def loadlab(b):\n",
    "    with output0_2:\n",
    "        output0_2.clear_output()\n",
    "        display(HTML(\"<span>Searching for an existing lab in your notebook...</span>\"))\n",
    "\n",
    "    if (os.path.exists(\"/home/umdsectc/notebooks/saves/umdsectc_sqli.tar.gz\")):\n",
    "        with output0_2:\n",
    "            output0_2.clear_output()\n",
    "            display(HTML(\"<span>Loading your lab...</span> \\\n",
    "                <span><img width='12px' height='12px' style='margin-left: 3px;' src='resources/loading.gif'></span>\"))\n",
    "            result = trigger_load()\n",
    "            if (result.returncode == 0):\n",
    "                    output0_2.clear_output()\n",
    "                    display(HTML(\"<span style='color: green;'>Your lab has been successfully loaded.</span>\"))\n",
    "            elif (result.returncode == 2):\n",
    "                    output0_2.clear_output()\n",
    "                    display(HTML(\"<span style='color: red;'>The sqli lab is inaccessible. Please start your lab. If you have already started it, wait a minute and try again.</span>\"))\n",
    "            else:\n",
    "                    output0_2.clear_output()\n",
    "                    display(HTML(\"<span style='color: red;'>An error occurred while loading your lab.</span>\"))\n",
    "\n",
    "# Creating the button.\n",
    "loadButton = widgets.Button(description=\"Load Lab\")\n",
    "\n",
    "# Creating an output area.\n",
    "output0_2 = widgets.Output()\n",
    "\n",
    "# Run the command on click.\n",
    "loadButton.on_click(loadlab)\n",
    "\n",
    "# Display the output.\n",
    "display(loadButton, output0_2)"
   ]
  },
  {
   "cell_type": "markdown",
   "metadata": {
    "editable": true,
    "slideshow": {
     "slide_type": ""
    },
    "tags": []
   },
   "source": [
    "## <strong>Topic 1: SQL Basics</strong>\n",
    "\n",
    "For the first topic, you are going to learn the basics of SQL, such as creating a database, a table, and practicing queries like adding, updating, and deleting entries from the table.\n",
    "\n",
    "Before practicing SQL, some important background and setup. SQL is a relational database management system (DBMS), meaning that data is stored as tables. Non-relational DBMS's exist, which is where data are stored as document files. An example of a non-relational DBMS is MongoDB. There are a few different variations of SQL which you may find online. A couple that you may find are MySQL, SQLite, PostgreSQL, SQL Server, and MariaDB. These all use SQL, but may have feature and performance differences. \n",
    "\n",
    "This lab is going to use MariaDB, which is backwards compatible with MySQL. This means that applications that use MySQL can easily switch to MariaDB without losing performance or features. MariaDB is designed to have more features, better performance, and fewer bugs than MySQL, and it's also more scalable and has faster query speeds. MariaDB has <a href=\"https://www.geeksforgeeks.org/difference-between-mysql-and-mariadb/\">several extra features</a>, such as ```CREATE OR REPLACE TABLE``` and JSON query support. These features are advanced, and will not be covered in the lab.\n",
    "\n",
    "You may view documentation called <a href=\"https://mariadb.com/kb/en/incompatibilities-and-feature-differences-between-mariadb-10-5-and-mysql-8-/\">Incompatibilities and Feature Differences Between MariaDB 10.5 and MySQL 8.0</a> if you would like to learn more about MariaDB and how it's different from MySQL."
   ]
  },
  {
   "cell_type": "markdown",
   "metadata": {
    "editable": true,
    "slideshow": {
     "slide_type": ""
    },
    "tags": []
   },
   "source": [
    "### Step 1: Create Your First Database\n",
    "\n",
    "MariaDB is already installed on your system, so you may access it by typing ```mariadb``` to open the interface. If you are more comfortable with MySQL, typing ```mysql``` will also bring up MariaDB since MariaDB is backwards-compatible, as mentioned before.\n",
    "\n",
    "SQL statements are usually typed in UPPERCASE LETTERS, but is not required. However, to follow traditional syntax, queries will be written in UPPERCASE. Additionally, SQL statements end with a semicolon.\n",
    "\n",
    "First, list your databases by typing ```SHOW DATABASES;```. Currently, there are a couple databases, where one is called ```fccu```. <u>This is required for later in the lab, so at the moment, you will need to create another database.</u>\n",
    "\n",
    "Use ```CREATE DATABASE practice;``` to create a database."
   ]
  },
  {
   "cell_type": "code",
   "execution_count": 4,
   "metadata": {
    "jupyter": {
     "source_hidden": true
    }
   },
   "outputs": [
    {
     "data": {
      "application/vnd.jupyter.widget-view+json": {
       "model_id": "908d39fe37bf422c9d63a180f0477147",
       "version_major": 2,
       "version_minor": 0
      },
      "text/plain": [
       "Button(description='Check For Database', style=ButtonStyle())"
      ]
     },
     "metadata": {},
     "output_type": "display_data"
    },
    {
     "data": {
      "application/vnd.jupyter.widget-view+json": {
       "model_id": "c24ca9013c1f42468100f7a580a88dec",
       "version_major": 2,
       "version_minor": 0
      },
      "text/plain": [
       "Output()"
      ]
     },
     "metadata": {},
     "output_type": "display_data"
    }
   ],
   "source": [
    "# Click the button below to check your work.\n",
    "step1Complete = False\n",
    "\n",
    "# Function to check the permissions.\n",
    "def step_1():\n",
    "    # Required to change boolean value.\n",
    "    global step1Complete\n",
    "\n",
    "    with output1:\n",
    "        output1.clear_output()\n",
    "        display(HTML(\"<span><img width='12px' height='12px' style='margin-left: 3px;' src='resources/loading.gif'></span>\"))\n",
    "    \n",
    "    result = subprocess.run('ssh -o StrictHostKeyChecking=no -i /home/umdsectc/.ssh/merge_key umdsectc@sqli /home/.checker/section_1.py 1 NA', shell=True)\n",
    "\n",
    "    if (result.returncode == 0):\n",
    "        output1.clear_output()\n",
    "        with output1:\n",
    "            display(HTML(\"<span style='color: green;'>Success! You may continue onto the next step.</span>\"))\n",
    "            step1Complete = True\n",
    "\n",
    "    elif (result.returncode == 1):\n",
    "        output1.clear_output()\n",
    "        with output1:\n",
    "            display(HTML(\"<span style='color: red;'>No database named \\\"practice\\\" was found. Try again.</span>\"))\n",
    "            step1Complete = False\n",
    "    \n",
    "    elif (result.returncode == 2):\n",
    "        output1.clear_output()\n",
    "        with output1:\n",
    "            display(HTML(\"<span style='color: red;'>An error occurred when checking your database. Please contact your professor or TA.</span>\"))\n",
    "            step1Complete = False\n",
    "\n",
    "def check_step_1(b):\n",
    "    step_1()\n",
    "\n",
    "    \"\"\"\n",
    "    # Auto-save.\n",
    "    if (not runAllSteps):\n",
    "        trigger_save()\n",
    "    \"\"\"\n",
    "\n",
    "# Creating the button.\n",
    "button = widgets.Button(description=\"Check For Database\")\n",
    "\n",
    "# Creating an output area.\n",
    "output1 = widgets.Output()\n",
    "\n",
    "# Run the command on click.\n",
    "button.on_click(check_step_1)\n",
    "\n",
    "# Display the output.\n",
    "display(button, output1)"
   ]
  },
  {
   "cell_type": "markdown",
   "metadata": {},
   "source": [
    "### Step 2: Create Your First Table\n",
    "\n",
    "You have created a database, and now you will need to \"use\" it. To select the database that you want to use, type ```USE practice;```. After using the ```USE``` command, you will need to create a table. Databases can have multiple tables to them, but you will only use one table for this lab.\n",
    "\n",
    "We are going to create a table called ```students``` which will have three columns to them: ```student_id```, ```student_name```, and ```student_grade```. Each attribute has a type to them, similar to programming languages like C. Additionally, it's common for tables to have keys to them, which are unique identifiers for each entry. There are multiple types of keys, but we are going to use a ```PRIMARY KEY``` for the ```student_id``` attribute. A ```PRIMARY KEY``` is unique and cannot be a duplicate value. There are also candidate keys, super keys, alternate keys, foreign keys, and composite keys.\n",
    "\n",
    "This is the layout of the table that you will create:\n",
    "- ```student_id``` is of type ```SMALLINT UNSIGNED``` and a ```PRIMARY KEY```.\n",
    "  - ```SMALLINT``` ranges between -32,768 to 32,767.\n",
    "  - ```UNSIGNED``` takes the size of ```SMALLINT```, but only consists of positive values. Therefore, it will range from 0 to 65,535. We are using ```UNSIGNED``` so that there are no negative ID values.\n",
    "  - <u>Note</u>: ```UNSIGNED``` is unsupported in PostgreSQL.\n",
    "- ```student_name``` is of type ```VARCHAR(64)```\n",
    "  - ```VARCHAR``` means \"VARiable CHARacter\", which dynamically allocates alphanumeric characters up to 64 characters.\n",
    "  - This allows ```student_name``` to be 10 bytes in length if it's 10 characters long, up to 64 characters.\n",
    "- ```student_grade``` is of type ```CHAR(1)```\n",
    "  - ```CHAR``` is a fixed length of characters.\n",
    "  - ```CHAR(15)``` will always take 15 bytes in memory, even if the string is not 15 characters long itself, like the word \"database\".\n",
    "  - ```CHAR(1)``` is being used since students will be allocated a grade of A, B, C, D, or F.\n",
    "\n",
    "The ```CREATE TABLE``` query can be lengthy, depending on the table. It consists of the following syntax: ```CREATE TABLE table_name (column1 datatype, column2 datatype, ...);```\n",
    "\n",
    "Given the following columns and datatypes, create a table called ```students``` that has the following:\n",
    "- ```student_id SMALLINT UNSIGNED PRIMARY KEY```\n",
    "- ```student_name VARCHAR(64)```\n",
    "- ```student_grade CHAR(1)```"
   ]
  },
  {
   "cell_type": "code",
   "execution_count": 5,
   "metadata": {
    "jupyter": {
     "source_hidden": true
    }
   },
   "outputs": [
    {
     "data": {
      "application/vnd.jupyter.widget-view+json": {
       "model_id": "9cf87a711aee40a8bd8edae30791a756",
       "version_major": 2,
       "version_minor": 0
      },
      "text/plain": [
       "Button(description='Check For Table', style=ButtonStyle())"
      ]
     },
     "metadata": {},
     "output_type": "display_data"
    },
    {
     "data": {
      "application/vnd.jupyter.widget-view+json": {
       "model_id": "09d93fbcf9414410ac7000b248ee58e7",
       "version_major": 2,
       "version_minor": 0
      },
      "text/plain": [
       "Output()"
      ]
     },
     "metadata": {},
     "output_type": "display_data"
    }
   ],
   "source": [
    "# Click the button below to check your work.\n",
    "step2Complete = False\n",
    "\n",
    "# Function to check the permissions.\n",
    "def step_2():\n",
    "    # Required to change boolean value.\n",
    "    global step2Complete\n",
    "\n",
    "    with output2:\n",
    "        output2.clear_output()\n",
    "        display(HTML(\"<span><img width='12px' height='12px' style='margin-left: 3px;' src='resources/loading.gif'></span>\"))\n",
    "    \n",
    "    result = subprocess.run('ssh -o StrictHostKeyChecking=no -i /home/umdsectc/.ssh/merge_key umdsectc@sqli /home/.checker/section_1.py 2 NA', shell=True)\n",
    "\n",
    "    if (result.returncode == 1):\n",
    "        output2.clear_output()\n",
    "        with output2:\n",
    "            display(HTML(\"<span style='color: green;'>Success! You may continue onto the next step.</span>\"))\n",
    "            step2Complete = True\n",
    "\n",
    "    elif (result.returncode == 0):\n",
    "        output2.clear_output()\n",
    "        with output2:\n",
    "            display(HTML(\"<span style='color: red;'>There was no table found named \\\"students\\\" inside of the \\\"practice\\\" database.</span>\"))\n",
    "            step2Complete = False\n",
    "    \n",
    "    elif (result.returncode == 2):\n",
    "        output2.clear_output()\n",
    "        with output2:\n",
    "            display(HTML(\"<span style='color: red;'>An error occurred when checking your database. Make sure you have completed the previous step(s). Otherwise, please contact your professor or TA.</span>\"))\n",
    "            step2Complete = False\n",
    "\n",
    "def check_step_2(b):\n",
    "    step_2()\n",
    "\n",
    "    \"\"\"\n",
    "    # Auto-save.\n",
    "    if (not runAllSteps):\n",
    "        trigger_save()\n",
    "    \"\"\"\n",
    "\n",
    "# Creating the button.\n",
    "button = widgets.Button(description=\"Check For Table\")\n",
    "\n",
    "# Creating an output area.\n",
    "output2 = widgets.Output()\n",
    "\n",
    "# Run the command on click.\n",
    "button.on_click(check_step_2)\n",
    "\n",
    "# Display the output.\n",
    "display(button, output2)"
   ]
  },
  {
   "cell_type": "markdown",
   "metadata": {},
   "source": [
    "### Step 3: Inserting SQL Entries\n",
    "\n",
    "To add SQL entries into the table, use the ```INSERT INTO``` command. The syntax is: ```INSERT INTO table (column1, column2, ...) VALUES (A, B, ...);```\n",
    "\n",
    "These are the following entries that you will need to add into the table:\n",
    "- ID: 100, Name: Aaron, Grade: A\n",
    "- ID: 101, Name: Danny, Grade: B\n",
    "- ID: 102, Name: Hannah, Grade: D\n",
    "- ID: 103, Name: Abby, Grade: NULL\n",
    "\n",
    "The order of the ```column1, column2, ...``` attributes must match the type of the ```VALUES```. For example, inserting an ```INT``` datatype does not require quotes, but ```CHAR``` or ```VARCHAR``` require quotes around them (similar to strings in programming languages).\n",
    "\n",
    "One of the entries contains a ```NULL``` value. SQL allows ```NULL``` values, which are not equal to ```0``` or ```\"NULL\"```. NULL is not a string, it's a datatype.\n",
    "\n",
    "Add the four entries to the ```students``` table.\n",
    "\n",
    "<u>Tips<u>:\n",
    "- Order does not matter when using ```INSERT INTO```. If you created your table as ```student_id```, ```student_grade```, then ```student_name```, you may use ```INSERT INTO students (student_id, student_name, student_grade), VALUES (...)```, where ```student_name``` and ```student_grade``` are in opposite order.\n",
    "- Not all DBMS's support double quotes. Some SQL modes only support single quotes. Fortunately, MariaDB supports both single quotes and double quotes. Backticks (``` ` ```) can be used to identify columns, though this is optional. However, it may be required if you make a (poor) decision naming an attribute after a reserved keyword, like ``` `column` ```.\n",
    "- As emphasized before, ```NULL``` is not a string. Consider this when adding your fourth entry."
   ]
  },
  {
   "cell_type": "code",
   "execution_count": 6,
   "metadata": {
    "jupyter": {
     "source_hidden": true
    }
   },
   "outputs": [
    {
     "data": {
      "application/vnd.jupyter.widget-view+json": {
       "model_id": "773660ebd36749369cd75d7b73c3afd2",
       "version_major": 2,
       "version_minor": 0
      },
      "text/plain": [
       "Button(description='Check For Table', style=ButtonStyle())"
      ]
     },
     "metadata": {},
     "output_type": "display_data"
    },
    {
     "data": {
      "application/vnd.jupyter.widget-view+json": {
       "model_id": "5920fc70278947fb9dde3d5bfd4c0a44",
       "version_major": 2,
       "version_minor": 0
      },
      "text/plain": [
       "Output()"
      ]
     },
     "metadata": {},
     "output_type": "display_data"
    }
   ],
   "source": [
    "# Click the button below to check your work.\n",
    "step3Complete = False\n",
    "\n",
    "# Function to check the permissions.\n",
    "def step_3():\n",
    "    # Required to change boolean value.\n",
    "    global step3Complete\n",
    "\n",
    "    with output3:\n",
    "        output3.clear_output()\n",
    "        display(HTML(\"<span><img width='12px' height='12px' style='margin-left: 3px;' src='resources/loading.gif'></span>\"))\n",
    "    \n",
    "    result = subprocess.run('ssh -o StrictHostKeyChecking=no -i /home/umdsectc/.ssh/merge_key umdsectc@sqli /home/.checker/section_1.py 3 NA', shell=True)\n",
    "\n",
    "    if (result.returncode == 1):\n",
    "        output3.clear_output()\n",
    "        with output3:\n",
    "            display(HTML(\"<span style='color: green;'>Success! You may continue onto the next step.</span>\"))\n",
    "            step3Complete = True\n",
    "\n",
    "    elif (result.returncode == 0):\n",
    "        output3.clear_output()\n",
    "        with output3:\n",
    "            display(HTML(\"<span style='color: red;'>The four rows that were provided either cannot be found or have an incorrect value. Ensure that the only rows in your database are the ones listed above.</span>\"))\n",
    "            step3Complete = False\n",
    "    \n",
    "    elif (result.returncode == 2):\n",
    "        output3.clear_output()\n",
    "        with output3:\n",
    "            display(HTML(\"<span style='color: red;'>An error occurred when checking your database. Make sure you have completed the previous step(s). Otherwise, please contact your professor or TA.</span>\"))\n",
    "            step3Complete = False\n",
    "\n",
    "def check_step_3(b):\n",
    "    step_3()\n",
    "\n",
    "    \"\"\"\n",
    "    # Auto-save.\n",
    "    if (not runAllSteps):\n",
    "        trigger_save()\n",
    "    \"\"\"\n",
    "\n",
    "# Creating the button.\n",
    "button = widgets.Button(description=\"Check For Table\")\n",
    "\n",
    "# Creating an output area.\n",
    "output3 = widgets.Output()\n",
    "\n",
    "# Run the command on click.\n",
    "button.on_click(check_step_3)\n",
    "\n",
    "# Display the output.\n",
    "display(button, output3)"
   ]
  },
  {
   "cell_type": "markdown",
   "metadata": {},
   "source": [
    "### Step 4: Practicing SQL Queries (Part 1)\n",
    "\n",
    "You now have a table that's populated with entries. Now, you are going to perform some SQL statements that will return entries based on boolean values.\n",
    "\n",
    "This is an example of a SQL query: ```SELECT * FROM table WHERE condition```\n",
    "\n",
    "- ```SELECT *``` returns all columns. You are able to select certain columns of a table, like ```SELECT student_id```. \n",
    "- The ```FROM``` clause selects the table that you wish to grab entries from.\n",
    "- The ```WHERE``` clause takes a condition that gives entries that match it.\n",
    "\n",
    "Using the text prompt below, type a SQL statement that will print everything in the table. You do not need to use a ```WHERE``` clause for your query.\n",
    "\n",
    "<u>Tip</u>: You are encouraged to try running this in MariaDB in your ```sqli``` node first. When your answer is ready, you may copy your SQL query into the entry box.\n",
    "\n",
    "<strong>The remaining steps throughout this section will contain a \"Reset\" button.</strong> If you made an error to your database, and wish to revert your database to the previous step, click on the \"Reset\" button."
   ]
  },
  {
   "cell_type": "code",
   "execution_count": 14,
   "metadata": {
    "jupyter": {
     "source_hidden": true
    }
   },
   "outputs": [
    {
     "data": {
      "application/vnd.jupyter.widget-view+json": {
       "model_id": "349822c15c7f4a589ad361559ca11169",
       "version_major": 2,
       "version_minor": 0
      },
      "text/plain": [
       "Output()"
      ]
     },
     "metadata": {},
     "output_type": "display_data"
    },
    {
     "data": {
      "application/vnd.jupyter.widget-view+json": {
       "model_id": "e42bd0b20cb44b85b094288eafbf596d",
       "version_major": 2,
       "version_minor": 0
      },
      "text/plain": [
       "Text(value='SELECT * FROM students;\\n', description='Query:', layout=Layout(width='90%'), placeholder='Type yo…"
      ]
     },
     "metadata": {},
     "output_type": "display_data"
    },
    {
     "data": {
      "application/vnd.jupyter.widget-view+json": {
       "model_id": "1a49bac0c1fe4b1ea3dfbb786c712406",
       "version_major": 2,
       "version_minor": 0
      },
      "text/plain": [
       "Button(description='Run SQL Query', style=ButtonStyle())"
      ]
     },
     "metadata": {},
     "output_type": "display_data"
    },
    {
     "data": {
      "application/vnd.jupyter.widget-view+json": {
       "model_id": "4780cf7c1a8a4dcc978b727079503456",
       "version_major": 2,
       "version_minor": 0
      },
      "text/plain": [
       "Button(description='Reset Database', style=ButtonStyle())"
      ]
     },
     "metadata": {},
     "output_type": "display_data"
    },
    {
     "data": {
      "application/vnd.jupyter.widget-view+json": {
       "model_id": "f1da42b7615c47579e4f52943ef2327b",
       "version_major": 2,
       "version_minor": 0
      },
      "text/plain": [
       "Output()"
      ]
     },
     "metadata": {},
     "output_type": "display_data"
    }
   ],
   "source": [
    "# Click the button below to check your work.\n",
    "step4Complete = False\n",
    "\n",
    "# Function to check if the student's answer was correct.\n",
    "def step_4():\n",
    "    # Required to change boolean values.\n",
    "    global step4Complete\n",
    "\n",
    "    # Loading, in case the check is slow.\n",
    "    with output4:\n",
    "        output4.clear_output()\n",
    "        display(HTML(\"<span><img width='12px' height='12px' style='margin-left: 3px;' src='resources/loading.gif'></span>\"))\n",
    "\n",
    "    # First, check to see if the field is empty.\n",
    "    if (userInput4.value == \"\"):\n",
    "        output4.clear_output()\n",
    "        with output4:\n",
    "            display(HTML(\"<span style='color: red;'>You did not provide input for this step.</span>\"))\n",
    "            step4Complete = False\n",
    "\n",
    "    else:\n",
    "        # Escape single quotes by replacing them with `'\\''`\n",
    "        escaped_user_input = re.sub(r\"(\\\"|\\')\", r\"'\\''\", userInput4.value.strip())\n",
    "        \n",
    "        # Construct the SSH command for testing the SQL query.\n",
    "        sql_test_command = f\"\"\"ssh -i /home/umdsectc/.ssh/merge_key umdsectc@sqli \"/home/.checker/section_1.py 4 '{escaped_user_input}'\" \"\"\"\n",
    "        result = subprocess.run(sql_test_command, shell=True, stdout=subprocess.PIPE, stderr=subprocess.PIPE)\n",
    "        \n",
    "        # Construct the SSH command for saving the student's response.\n",
    "        save_command = f\"\"\"ssh -i /home/umdsectc/.ssh/merge_key umdsectc@sqli \"echo '{escaped_user_input}' > /home/.checker/responses/step_4_answer.txt\" \"\"\"\n",
    "        save_result = subprocess.run(save_command, shell=True, stdout=subprocess.PIPE, stderr=subprocess.PIPE)\n",
    "        \n",
    "        if (result.returncode == 1):\n",
    "            output4.clear_output()\n",
    "            with output4:\n",
    "                display(HTML(\"<span style='color: green;'>Your SQL query is correct!</span>\"))\n",
    "                step4Complete = True\n",
    "        \n",
    "        elif (result.returncode == 0):\n",
    "            output4.clear_output()\n",
    "            with output4:\n",
    "                display(HTML(\"<span style='color: red;'>Your SQL query is invalid or incorrect. Try again.</span>\"))\n",
    "                step4Complete = False\n",
    "        \n",
    "        elif (result.returncode == 2):\n",
    "            output4.clear_output()\n",
    "            with output4:\n",
    "                display(HTML(\"<span style='color: red;'>An error occurred when checking your database. Make sure you have completed the previous step(s). Otherwise, please contact your professor or TA.</span>\"))\n",
    "                step4Complete = False\n",
    "\n",
    "def check_step_4(b):\n",
    "    step_4()\n",
    "\n",
    "def reset_step_4(b):\n",
    "    if (not step3Complete or step4Complete):\n",
    "        output4.clear_output()\n",
    "        with output4:\n",
    "            display(HTML(\"<span style='color: red;'>You must complete the previous step before this button is enabled.</span>\"))\n",
    "\n",
    "    else:\n",
    "        result = subprocess.run('ssh -i /home/umdsectc/.ssh/merge_key umdsectc@sqli /home/.checker/reset_db.py 4', shell=True, stdout=subprocess.DEVNULL)\n",
    "    \n",
    "        output4.clear_output()\n",
    "        with output4:\n",
    "            if (result.returncode == 1):\n",
    "                display(HTML(\"<span>Your database has been reset.</span>\"))\n",
    "            elif (result.returncode == 0):\n",
    "                display(HTML(\"<span>Something wrong occurred and your database wasn't reset. Please contact your professor/TA.</span>\"))\n",
    "            elif (result.returncode == 2):\n",
    "                display(HTML(\"<span>A SQL error occurred. Please contact your professor/TA.</span>\"))\n",
    "    \"\"\"\n",
    "    # Auto-save.\n",
    "    if (not runAllSteps):\n",
    "        trigger_save()\n",
    "    \"\"\"\n",
    "\n",
    "# Retrieve the student's response. First, create a loading spinner, since this could take a second or two.\n",
    "loading4 = widgets.Output()\n",
    "display(loading4)\n",
    "with loading4:\n",
    "    loading4.clear_output()\n",
    "    display(HTML(\"<span>Loading your saved response... <img width='12px' height='12px' style='margin-left: 3px;' src='resources/loading.gif'></span>\"))\n",
    "\n",
    "# Creating a text area.\n",
    "userInput4 = widgets.Text(\n",
    "    placeholder='Type your SQL query here',\n",
    "    description='Query:',\n",
    "    layout=widgets.Layout(width='90%')\n",
    ")\n",
    "\n",
    "# Checking if the step has been answered.\n",
    "result = subprocess.run('ssh -o StrictHostKeyChecking=no -i /home/umdsectc/.ssh/merge_key umdsectc@sqli \"cat /home/.checker/responses/step_4_answer.txt 2> /dev/null\"', capture_output=True, text=True, shell=True)\n",
    "userInput4.value = result.stdout\n",
    "\n",
    "# After the student's response was loaded, clear the output.\n",
    "loading4.clear_output()\n",
    "\n",
    "# Creating the button.\n",
    "button = widgets.Button(description=\"Run SQL Query\")\n",
    "\n",
    "# Create an extra button for resetting the database.\n",
    "button_step_4 = widgets.Button(description=\"Reset Database\")\n",
    "\n",
    "# Creating an output area.\n",
    "output4 = widgets.Output()\n",
    "\n",
    "# Run the command on click.\n",
    "button.on_click(check_step_4)\n",
    "button_step_4.on_click(reset_step_4)\n",
    "\n",
    "# Display the output.\n",
    "display(userInput4, button, button_step_4, output4)"
   ]
  },
  {
   "cell_type": "markdown",
   "metadata": {},
   "source": [
    "### Step 5: Practicing SQL Queries (Part 2)\n",
    "\n",
    "Using the ```WHERE``` clause, type a SQL statement that will return all students that have an \"A\" for a grade.\n",
    "\n",
    "<u>Tip</u>: Your ```WHERE``` statement must consist of matching one of your columns with a ```VARCHAR``` (a string). Recall that comparing strings in SQL need \"quotes\" around them. You may use either single quotes or double quotes."
   ]
  },
  {
   "cell_type": "code",
   "execution_count": 8,
   "metadata": {
    "jupyter": {
     "source_hidden": true
    }
   },
   "outputs": [
    {
     "data": {
      "application/vnd.jupyter.widget-view+json": {
       "model_id": "913db538c31647cabf037ee6bf00d091",
       "version_major": 2,
       "version_minor": 0
      },
      "text/plain": [
       "Output()"
      ]
     },
     "metadata": {},
     "output_type": "display_data"
    },
    {
     "data": {
      "application/vnd.jupyter.widget-view+json": {
       "model_id": "3bf4ff5b7b7d41aba1fa86d6c170d6e4",
       "version_major": 2,
       "version_minor": 0
      },
      "text/plain": [
       "Text(value=\"SELECT * FROM students WHERE student_grade = 'A';\\n\", description='Query:', layout=Layout(width='9…"
      ]
     },
     "metadata": {},
     "output_type": "display_data"
    },
    {
     "data": {
      "application/vnd.jupyter.widget-view+json": {
       "model_id": "3c9824a9e3634c659795a5741f67fd7c",
       "version_major": 2,
       "version_minor": 0
      },
      "text/plain": [
       "Button(description='Run SQL Query', style=ButtonStyle())"
      ]
     },
     "metadata": {},
     "output_type": "display_data"
    },
    {
     "data": {
      "application/vnd.jupyter.widget-view+json": {
       "model_id": "7ee9ed96254d43c3954fcbc61676c691",
       "version_major": 2,
       "version_minor": 0
      },
      "text/plain": [
       "Button(description='Reset Database', style=ButtonStyle())"
      ]
     },
     "metadata": {},
     "output_type": "display_data"
    },
    {
     "data": {
      "application/vnd.jupyter.widget-view+json": {
       "model_id": "ac9a4771a5574bcaba8792c1eee42112",
       "version_major": 2,
       "version_minor": 0
      },
      "text/plain": [
       "Output()"
      ]
     },
     "metadata": {},
     "output_type": "display_data"
    }
   ],
   "source": [
    "# Click the button below to check your work.\n",
    "step5Complete = False\n",
    "\n",
    "# Function to check if the student's answer was correct.\n",
    "def step_5():\n",
    "    # Required to change boolean values.\n",
    "    global step5Complete\n",
    "\n",
    "    # Loading, in case the check is slow.\n",
    "    with output5:\n",
    "        output5.clear_output()\n",
    "        display(HTML(\"<span><img width='12px' height='12px' style='margin-left: 3px;' src='resources/loading.gif'></span>\"))\n",
    "\n",
    "    # First, check to see if the field is empty.\n",
    "    if (userInput5.value == \"\"):\n",
    "        output5.clear_output()\n",
    "        with output5:\n",
    "            display(HTML(\"<span style='color: red;'>You did not provide input for this step.</span>\"))\n",
    "            step5Complete = False\n",
    "\n",
    "    else:\n",
    "        # Escape single quotes by replacing them with `'\\''`\n",
    "        escaped_user_input = re.sub(r\"(\\\"|\\')\", r\"'\\''\", userInput5.value.strip())\n",
    "        \n",
    "        # Construct the SSH command for testing the SQL query.\n",
    "        sql_test_command = f\"\"\"ssh -i /home/umdsectc/.ssh/merge_key umdsectc@sqli \"/home/.checker/section_1.py 5 '{escaped_user_input}'\" \"\"\"\n",
    "        result = subprocess.run(sql_test_command, shell=True, stdout=subprocess.PIPE, stderr=subprocess.PIPE)\n",
    "        \n",
    "        # Construct the SSH command for saving the student's response.\n",
    "        save_command = f\"\"\"ssh -i /home/umdsectc/.ssh/merge_key umdsectc@sqli \"echo '{escaped_user_input}' > /home/.checker/responses/step_5_answer.txt\" \"\"\"\n",
    "        save_result = subprocess.run(save_command, shell=True, stdout=subprocess.PIPE, stderr=subprocess.PIPE)\n",
    "        \n",
    "        if (result.returncode == 1):\n",
    "            output5.clear_output()\n",
    "            with output5:\n",
    "                display(HTML(\"<span style='color: green;'>Your SQL query is correct!</span>\"))\n",
    "                step5Complete = True\n",
    "        \n",
    "        elif (result.returncode == 0):\n",
    "            output5.clear_output()\n",
    "            with output5:\n",
    "                display(HTML(\"<span style='color: red;'>Your SQL query is invalid or incorrect. Try again.</span>\"))\n",
    "                step5Complete = False\n",
    "        \n",
    "        elif (result.returncode == 2):\n",
    "            output5.clear_output()\n",
    "            with output5:\n",
    "                display(HTML(\"<span style='color: red;'>An error occurred when checking your database. Make sure you have completed the previous step(s). Otherwise, please contact your professor or TA.</span>\"))\n",
    "                step5Complete = False\n",
    "\n",
    "def check_step_5(b):\n",
    "    step_5()\n",
    "\n",
    "def reset_step_5(b):\n",
    "    if (not step4Complete):\n",
    "        output5.clear_output()\n",
    "        with output5:\n",
    "            display(HTML(\"<span style='color: red;'>You must complete the previous step before this button is enabled.</span>\"))\n",
    "\n",
    "    else:\n",
    "        result = subprocess.run('ssh -i /home/umdsectc/.ssh/merge_key umdsectc@sqli /home/.checker/reset_db.py 5', shell=True, stdout=subprocess.DEVNULL)\n",
    "    \n",
    "        output5.clear_output()\n",
    "        with output5:\n",
    "            if (result.returncode == 1):\n",
    "                display(HTML(\"<span>Your database has been reset.</span>\"))\n",
    "            elif (result.returncode == 0):\n",
    "                display(HTML(\"<span>Something wrong occurred and your database wasn't reset. Please contact your professor/TA.</span>\"))\n",
    "            elif (result.returncode == 2):\n",
    "                display(HTML(\"<span>A SQL error occurred. Please contact your professor/TA.</span>\"))\n",
    "    \"\"\"\n",
    "    # Auto-save.\n",
    "    if (not runAllSteps):\n",
    "        trigger_save()\n",
    "    \"\"\"\n",
    "\n",
    "# Retrieve the student's response. First, create a loading spinner, since this could take a second or two.\n",
    "loading5 = widgets.Output()\n",
    "display(loading5)\n",
    "with loading5:\n",
    "    loading5.clear_output()\n",
    "    display(HTML(\"<span>Loading your saved response... <img width='12px' height='12px' style='margin-left: 3px;' src='resources/loading.gif'></span>\"))\n",
    "\n",
    "# Creating a text area.\n",
    "userInput5 = widgets.Text(\n",
    "    placeholder='Type your SQL query here',\n",
    "    description='Query:',\n",
    "    layout=widgets.Layout(width='90%')\n",
    ")\n",
    "\n",
    "# Checking if the step has been answered.\n",
    "result = subprocess.run('ssh -o StrictHostKeyChecking=no -i /home/umdsectc/.ssh/merge_key umdsectc@sqli \"cat /home/.checker/responses/step_5_answer.txt 2> /dev/null\"', capture_output=True, text=True, shell=True)\n",
    "userInput5.value = result.stdout\n",
    "\n",
    "# After the student's response was loaded, clear the output.\n",
    "loading5.clear_output()\n",
    "\n",
    "# Creating the button.\n",
    "button = widgets.Button(description=\"Run SQL Query\")\n",
    "\n",
    "# Create an extra button for resetting the database.\n",
    "button_step_5 = widgets.Button(description=\"Reset Database\")\n",
    "\n",
    "# Creating an output area.\n",
    "output5 = widgets.Output()\n",
    "\n",
    "# Run the command on click.\n",
    "button.on_click(check_step_5)\n",
    "button_step_5.on_click(reset_step_5)\n",
    "\n",
    "# Display the output.\n",
    "display(userInput5, button, button_step_5, output5)"
   ]
  },
  {
   "cell_type": "markdown",
   "metadata": {},
   "source": [
    "### Step 6: Practicing SQL Queries (Part 3)\n",
    "\n",
    "Type a SQL statement that returns all students who do not have a ```NULL``` grade.\n",
    "\n",
    "<u>Tip</u>: Recall that ```NULL``` is not a string, therefore it cannot be tested like the previous step. Instead, use ```IS NOT NULL``` in your ```WHERE``` statement."
   ]
  },
  {
   "cell_type": "code",
   "execution_count": 9,
   "metadata": {
    "jupyter": {
     "source_hidden": true
    }
   },
   "outputs": [
    {
     "data": {
      "application/vnd.jupyter.widget-view+json": {
       "model_id": "05a20daee58f4e238db6245cf52236e8",
       "version_major": 2,
       "version_minor": 0
      },
      "text/plain": [
       "Output()"
      ]
     },
     "metadata": {},
     "output_type": "display_data"
    },
    {
     "data": {
      "application/vnd.jupyter.widget-view+json": {
       "model_id": "2584339aac2a4e1fa65923f7352e7dd4",
       "version_major": 2,
       "version_minor": 0
      },
      "text/plain": [
       "Text(value='SELECT * FROM students WHERE student_grade IS NOT NULL;\\n', description='Query:', layout=Layout(wi…"
      ]
     },
     "metadata": {},
     "output_type": "display_data"
    },
    {
     "data": {
      "application/vnd.jupyter.widget-view+json": {
       "model_id": "bddf4dcc4531478294e1fae6140d2799",
       "version_major": 2,
       "version_minor": 0
      },
      "text/plain": [
       "Button(description='Run SQL Query', style=ButtonStyle())"
      ]
     },
     "metadata": {},
     "output_type": "display_data"
    },
    {
     "data": {
      "application/vnd.jupyter.widget-view+json": {
       "model_id": "a36856fde8ad418b8c96b93fae5a27d2",
       "version_major": 2,
       "version_minor": 0
      },
      "text/plain": [
       "Button(description='Reset Database', style=ButtonStyle())"
      ]
     },
     "metadata": {},
     "output_type": "display_data"
    },
    {
     "data": {
      "application/vnd.jupyter.widget-view+json": {
       "model_id": "6436f3d722e64fa0b1c4b8afcc30ae78",
       "version_major": 2,
       "version_minor": 0
      },
      "text/plain": [
       "Output()"
      ]
     },
     "metadata": {},
     "output_type": "display_data"
    }
   ],
   "source": [
    "# Click the button below to check your work.\n",
    "step6Complete = False\n",
    "\n",
    "# Function to check if the student's answer was correct.\n",
    "def step_6():\n",
    "    # Required to change boolean values.\n",
    "    global step6Complete\n",
    "\n",
    "    # Loading, in case the check is slow.\n",
    "    with output6:\n",
    "        output6.clear_output()\n",
    "        display(HTML(\"<span><img width='12px' height='12px' style='margin-left: 3px;' src='resources/loading.gif'></span>\"))\n",
    "\n",
    "    # First, check to see if the field is empty.\n",
    "    if (userInput6.value == \"\"):\n",
    "        output6.clear_output()\n",
    "        with output6:\n",
    "            display(HTML(\"<span style='color: red;'>You did not provide input for this step.</span>\"))\n",
    "            step6Complete = False\n",
    "\n",
    "    else:\n",
    "        # Escape single quotes by replacing them with `'\\''`\n",
    "        escaped_user_input = re.sub(r\"(\\\"|\\')\", r\"'\\''\", userInput6.value.strip())\n",
    "        \n",
    "        # Construct the SSH command for testing the SQL query.\n",
    "        sql_test_command = f\"\"\"ssh -i /home/umdsectc/.ssh/merge_key umdsectc@sqli \"/home/.checker/section_1.py 6 '{escaped_user_input}'\" \"\"\"\n",
    "        result = subprocess.run(sql_test_command, shell=True, stdout=subprocess.PIPE, stderr=subprocess.PIPE)\n",
    "        \n",
    "        # Construct the SSH command for saving the student's response.\n",
    "        save_command = f\"\"\"ssh -i /home/umdsectc/.ssh/merge_key umdsectc@sqli \"echo '{escaped_user_input}' > /home/.checker/responses/step_6_answer.txt\" \"\"\"\n",
    "        save_result = subprocess.run(save_command, shell=True, stdout=subprocess.PIPE, stderr=subprocess.PIPE)\n",
    "        \n",
    "        if (result.returncode == 1):\n",
    "            output6.clear_output()\n",
    "            with output6:\n",
    "                display(HTML(\"<span style='color: green;'>Your SQL query is correct!</span>\"))\n",
    "                step6Complete = True\n",
    "        \n",
    "        elif (result.returncode == 0):\n",
    "            output6.clear_output()\n",
    "            with output6:\n",
    "                display(HTML(\"<span style='color: red;'>Your SQL query is invalid or incorrect. Try again.</span>\"))\n",
    "                step6Complete = False\n",
    "        \n",
    "        elif (result.returncode == 2):\n",
    "            output6.clear_output()\n",
    "            with output6:\n",
    "                display(HTML(\"<span style='color: red;'>An error occurred when checking your database. Make sure you have completed the previous step(s). Otherwise, please contact your professor or TA.</span>\"))\n",
    "                step6Complete = False\n",
    "\n",
    "def check_step_6(b):\n",
    "    step_6()\n",
    "\n",
    "def reset_step_6(b):\n",
    "    if (not step5Complete):\n",
    "        output6.clear_output()\n",
    "        with output6:\n",
    "            display(HTML(\"<span style='color: red;'>You must complete the previous step before this button is enabled.</span>\"))\n",
    "\n",
    "    else:\n",
    "        result = subprocess.run('ssh -i /home/umdsectc/.ssh/merge_key umdsectc@sqli /home/.checker/reset_db.py 6', shell=True, stdout=subprocess.DEVNULL)\n",
    "    \n",
    "        output6.clear_output()\n",
    "        with output6:\n",
    "            if (result.returncode == 1):\n",
    "                display(HTML(\"<span>Your database has been reset.</span>\"))\n",
    "            elif (result.returncode == 0):\n",
    "                display(HTML(\"<span>Something wrong occurred and your database wasn't reset. Please contact your professor/TA.</span>\"))\n",
    "            elif (result.returncode == 2):\n",
    "                display(HTML(\"<span>A SQL error occurred. Please contact your professor/TA.</span>\"))\n",
    "    \"\"\"\n",
    "    # Auto-save.\n",
    "    if (not runAllSteps):\n",
    "        trigger_save()\n",
    "    \"\"\"\n",
    "\n",
    "# Retrieve the student's response. First, create a loading spinner, since this could take a second or two.\n",
    "loading6 = widgets.Output()\n",
    "display(loading6)\n",
    "with loading6:\n",
    "    loading6.clear_output()\n",
    "    display(HTML(\"<span>Loading your saved response... <img width='12px' height='12px' style='margin-left: 3px;' src='resources/loading.gif'></span>\"))\n",
    "\n",
    "# Creating a text area.\n",
    "userInput6 = widgets.Text(\n",
    "    placeholder='Type your SQL query here',\n",
    "    description='Query:',\n",
    "    layout=widgets.Layout(width='90%')\n",
    ")\n",
    "\n",
    "# Checking if the step has been answered.\n",
    "result = subprocess.run('ssh -o StrictHostKeyChecking=no -i /home/umdsectc/.ssh/merge_key umdsectc@sqli \"cat /home/.checker/responses/step_6_answer.txt 2> /dev/null\"', capture_output=True, text=True, shell=True)\n",
    "userInput6.value = result.stdout\n",
    "\n",
    "# After the student's response was loaded, clear the output.\n",
    "loading6.clear_output()\n",
    "\n",
    "# Creating the button.\n",
    "button = widgets.Button(description=\"Run SQL Query\")\n",
    "\n",
    "# Create an extra button for resetting the database.\n",
    "button_step_6 = widgets.Button(description=\"Reset Database\")\n",
    "\n",
    "# Creating an output area.\n",
    "output6 = widgets.Output()\n",
    "\n",
    "# Run the command on click.\n",
    "button.on_click(check_step_6)\n",
    "button_step_6.on_click(reset_step_6)\n",
    "\n",
    "# Display the output.\n",
    "display(userInput6, button, button_step_6, output6)"
   ]
  },
  {
   "cell_type": "markdown",
   "metadata": {},
   "source": [
    "### Step 7: Practicing SQL Queries (Part 4)\n",
    "\n",
    "SQL entries can be updated by using the ```UPDATE``` command.\n",
    "\n",
    "The syntax works as follows: ```UPDATE table SET column1 = value1, column2 = value2, ... WHERE condition;```\n",
    "\n",
    "The ```WHERE``` clause is also optional within the ```UPDATE``` command. However, when not matching a condition, it will change all values in a given column to a certain amount. Therefore, it's practical to use ```WHERE``` when working with the ```UPDATE``` command.\n",
    "\n",
    "Type a SQL statement that changes Aaron's grade to a B.\n",
    "\n",
    "<u>Tip</u>: If you need to revert your database back to what it originally was, you may click on the \"Reset\" button. This will add all entries back to your database again."
   ]
  },
  {
   "cell_type": "code",
   "execution_count": 10,
   "metadata": {
    "jupyter": {
     "source_hidden": true
    }
   },
   "outputs": [
    {
     "data": {
      "application/vnd.jupyter.widget-view+json": {
       "model_id": "3829b8a7f27f42129b93e2b24e6fdd5c",
       "version_major": 2,
       "version_minor": 0
      },
      "text/plain": [
       "Output()"
      ]
     },
     "metadata": {},
     "output_type": "display_data"
    },
    {
     "data": {
      "application/vnd.jupyter.widget-view+json": {
       "model_id": "2aceb0f5aa0f40809ebb2299a61764aa",
       "version_major": 2,
       "version_minor": 0
      },
      "text/plain": [
       "Text(value=\"UPDATE students SET student_grade = 'B' WHERE student_name = 'Aaron';\\n\", description='Query:', la…"
      ]
     },
     "metadata": {},
     "output_type": "display_data"
    },
    {
     "data": {
      "application/vnd.jupyter.widget-view+json": {
       "model_id": "faad2061d4ad4a888311a9acc3cc43c1",
       "version_major": 2,
       "version_minor": 0
      },
      "text/plain": [
       "Button(description='Run SQL Query', style=ButtonStyle())"
      ]
     },
     "metadata": {},
     "output_type": "display_data"
    },
    {
     "data": {
      "application/vnd.jupyter.widget-view+json": {
       "model_id": "f8cff638d5384c539805c78f96127fed",
       "version_major": 2,
       "version_minor": 0
      },
      "text/plain": [
       "Button(description='Reset Database', style=ButtonStyle())"
      ]
     },
     "metadata": {},
     "output_type": "display_data"
    },
    {
     "data": {
      "application/vnd.jupyter.widget-view+json": {
       "model_id": "deb63fdcdebf4e2b96edd86ec88bfa52",
       "version_major": 2,
       "version_minor": 0
      },
      "text/plain": [
       "Output()"
      ]
     },
     "metadata": {},
     "output_type": "display_data"
    }
   ],
   "source": [
    "# Click the button below to check your work.\n",
    "step7Complete = False\n",
    "\n",
    "# Function to check if the student's answer was correct.\n",
    "def step_7():\n",
    "    # Required to change boolean values.\n",
    "    global step7Complete\n",
    "\n",
    "    # Loading, in case the check is slow.\n",
    "    with output7:\n",
    "        output7.clear_output()\n",
    "        display(HTML(\"<span><img width='12px' height='12px' style='margin-left: 3px;' src='resources/loading.gif'></span>\"))\n",
    "\n",
    "    # First, check to see if the field is empty.\n",
    "    if (userInput7.value == \"\"):\n",
    "        output7.clear_output()\n",
    "        with output7:\n",
    "            display(HTML(\"<span style='color: red;'>You did not provide input for this step.</span>\"))\n",
    "            step7Complete = False\n",
    "\n",
    "    else:\n",
    "        # Escape single quotes by replacing them with `'\\''`\n",
    "        escaped_user_input = re.sub(r\"(\\\"|\\')\", r\"'\\''\", userInput7.value.strip())\n",
    "        \n",
    "        # Construct the SSH command for testing the SQL query.\n",
    "        sql_test_command = f\"\"\"ssh -i /home/umdsectc/.ssh/merge_key umdsectc@sqli \"/home/.checker/section_1.py 7 '{escaped_user_input}'\" \"\"\"\n",
    "        result = subprocess.run(sql_test_command, shell=True, stdout=subprocess.PIPE, stderr=subprocess.PIPE)\n",
    "        \n",
    "        # Construct the SSH command for saving the student's response.\n",
    "        save_command = f\"\"\"ssh -i /home/umdsectc/.ssh/merge_key umdsectc@sqli \"echo '{escaped_user_input}' > /home/.checker/responses/step_7_answer.txt\" \"\"\"\n",
    "        save_result = subprocess.run(save_command, shell=True, stdout=subprocess.PIPE, stderr=subprocess.PIPE)\n",
    "        \n",
    "        if (result.returncode == 1):\n",
    "            output7.clear_output()\n",
    "            with output7:\n",
    "                display(HTML(\"<span style='color: green;'>Your SQL query is correct!</span>\"))\n",
    "                step7Complete = True\n",
    "        \n",
    "        elif (result.returncode == 0):\n",
    "            output7.clear_output()\n",
    "            with output7:\n",
    "                display(HTML(\"<span style='color: red;'>Your SQL query is invalid or incorrect. Try again.</span>\"))\n",
    "                step7Complete = False\n",
    "        \n",
    "        elif (result.returncode == 2):\n",
    "            output7.clear_output()\n",
    "            with output7:\n",
    "                display(HTML(\"<span style='color: red;'>An error occurred when checking your database. Make sure you have completed the previous step(s). Otherwise, please contact your professor or TA.</span>\"))\n",
    "                step7Complete = False\n",
    "\n",
    "def check_step_7(b):\n",
    "    step_7()\n",
    "\n",
    "def reset_step_7(b):\n",
    "    if (not step6Complete):\n",
    "        output7.clear_output()\n",
    "        with output7:\n",
    "            display(HTML(\"<span style='color: red;'>You must complete the previous step before this button is enabled.</span>\"))\n",
    "\n",
    "    else:\n",
    "        result = subprocess.run('ssh -i /home/umdsectc/.ssh/merge_key umdsectc@sqli /home/.checker/reset_db.py 7', shell=True, stdout=subprocess.DEVNULL)\n",
    "    \n",
    "        output7.clear_output()\n",
    "        with output7:\n",
    "            if (result.returncode == 1):\n",
    "                display(HTML(\"<span>Your database has been reset.</span>\"))\n",
    "            elif (result.returncode == 0):\n",
    "                display(HTML(\"<span>Something wrong occurred and your database wasn't reset. Please contact your professor/TA.</span>\"))\n",
    "            elif (result.returncode == 2):\n",
    "                display(HTML(\"<span>A SQL error occurred. Please contact your professor/TA.</span>\"))\n",
    "    \"\"\"\n",
    "    # Auto-save.\n",
    "    if (not runAllSteps):\n",
    "        trigger_save()\n",
    "    \"\"\"\n",
    "\n",
    "# Retrieve the student's response. First, create a loading spinner, since this could take a second or two.\n",
    "loading7 = widgets.Output()\n",
    "display(loading7)\n",
    "with loading7:\n",
    "    loading7.clear_output()\n",
    "    display(HTML(\"<span>Loading your saved response... <img width='12px' height='12px' style='margin-left: 3px;' src='resources/loading.gif'></span>\"))\n",
    "\n",
    "# Creating a text area.\n",
    "userInput7 = widgets.Text(\n",
    "    placeholder='Type your SQL query here',\n",
    "    description='Query:',\n",
    "    layout=widgets.Layout(width='90%')\n",
    ")\n",
    "\n",
    "# Checking if the step has been answered.\n",
    "result = subprocess.run('ssh -o StrictHostKeyChecking=no -i /home/umdsectc/.ssh/merge_key umdsectc@sqli \"cat /home/.checker/responses/step_7_answer.txt 2> /dev/null\"', capture_output=True, text=True, shell=True)\n",
    "userInput7.value = result.stdout\n",
    "\n",
    "# After the student's response was loaded, clear the output.\n",
    "loading7.clear_output()\n",
    "\n",
    "# Creating the button.\n",
    "button = widgets.Button(description=\"Run SQL Query\")\n",
    "\n",
    "# Create an extra button for resetting the database.\n",
    "button_step_7 = widgets.Button(description=\"Reset Database\")\n",
    "\n",
    "# Creating an output area.\n",
    "output7 = widgets.Output()\n",
    "\n",
    "# Run the command on click.\n",
    "button.on_click(check_step_7)\n",
    "button_step_7.on_click(reset_step_7)\n",
    "\n",
    "# Display the output.\n",
    "display(userInput7, button, button_step_7, output7)"
   ]
  },
  {
   "cell_type": "markdown",
   "metadata": {},
   "source": [
    "### Step 8: Practicing SQL Queries (Part 5)\n",
    "\n",
    "SQL entries can also be removed by using the ```DELETE``` command.\n",
    "\n",
    "The syntax for ```DELETE``` is: ```DELETE FROM table WHERE condition;```\n",
    "\n",
    "Type a SQL statement that removes everyone whose grade is NULL.\n",
    "\n",
    "<u>Tip:</u> If you need to revert your database, you may click on the \"Reset\" button. Since you have completed Step 8, it will not reverse your progress from the previous step."
   ]
  },
  {
   "cell_type": "code",
   "execution_count": 11,
   "metadata": {
    "jupyter": {
     "source_hidden": true
    }
   },
   "outputs": [
    {
     "data": {
      "application/vnd.jupyter.widget-view+json": {
       "model_id": "6df9aae8ed574f88a1238aa1abe58f59",
       "version_major": 2,
       "version_minor": 0
      },
      "text/plain": [
       "Output()"
      ]
     },
     "metadata": {},
     "output_type": "display_data"
    },
    {
     "data": {
      "application/vnd.jupyter.widget-view+json": {
       "model_id": "2035a3466edf441dba0e13c3f2f2f625",
       "version_major": 2,
       "version_minor": 0
      },
      "text/plain": [
       "Text(value='DELETE FROM students WHERE student_grade IS NULL;\\n', description='Query:', layout=Layout(width='9…"
      ]
     },
     "metadata": {},
     "output_type": "display_data"
    },
    {
     "data": {
      "application/vnd.jupyter.widget-view+json": {
       "model_id": "ba4d953f60104eb1951ad02f74a1212e",
       "version_major": 2,
       "version_minor": 0
      },
      "text/plain": [
       "Button(description='Run SQL Query', style=ButtonStyle())"
      ]
     },
     "metadata": {},
     "output_type": "display_data"
    },
    {
     "data": {
      "application/vnd.jupyter.widget-view+json": {
       "model_id": "7c194ab0f958463c9e2767ea3aba0da0",
       "version_major": 2,
       "version_minor": 0
      },
      "text/plain": [
       "Button(description='Reset Database', style=ButtonStyle())"
      ]
     },
     "metadata": {},
     "output_type": "display_data"
    },
    {
     "data": {
      "application/vnd.jupyter.widget-view+json": {
       "model_id": "74464918b84a4d17a836c926824a5beb",
       "version_major": 2,
       "version_minor": 0
      },
      "text/plain": [
       "Output()"
      ]
     },
     "metadata": {},
     "output_type": "display_data"
    }
   ],
   "source": [
    "# Click the button below to check your work.\n",
    "step8Complete = False\n",
    "\n",
    "# Function to check if the student's answer was correct.\n",
    "def step_8():\n",
    "    # Required to change boolean values.\n",
    "    global step8Complete\n",
    "\n",
    "    # Loading, in case the check is slow.\n",
    "    with output8:\n",
    "        output8.clear_output()\n",
    "        display(HTML(\"<span><img width='12px' height='12px' style='margin-left: 3px;' src='resources/loading.gif'></span>\"))\n",
    "\n",
    "    # First, check to see if the field is empty.\n",
    "    if (userInput8.value == \"\"):\n",
    "        output8.clear_output()\n",
    "        with output8:\n",
    "            display(HTML(\"<span style='color: red;'>You did not provide input for this step.</span>\"))\n",
    "            step8Complete = False\n",
    "\n",
    "    else:\n",
    "        # Escape single quotes by replacing them with `'\\''`\n",
    "        escaped_user_input = re.sub(r\"(\\\"|\\')\", r\"'\\''\", userInput8.value.strip())\n",
    "        \n",
    "        # Construct the SSH command for testing the SQL query.\n",
    "        sql_test_command = f\"\"\"ssh -i /home/umdsectc/.ssh/merge_key umdsectc@sqli \"/home/.checker/section_1.py 8 '{escaped_user_input}'\" \"\"\"\n",
    "        result = subprocess.run(sql_test_command, shell=True, stdout=subprocess.PIPE, stderr=subprocess.PIPE)\n",
    "        \n",
    "        # Construct the SSH command for saving the student's response.\n",
    "        save_command = f\"\"\"ssh -i /home/umdsectc/.ssh/merge_key umdsectc@sqli \"echo '{escaped_user_input}' > /home/.checker/responses/step_8_answer.txt\" \"\"\"\n",
    "        save_result = subprocess.run(save_command, shell=True, stdout=subprocess.PIPE, stderr=subprocess.PIPE)\n",
    "        \n",
    "        if (result.returncode == 1):\n",
    "            output8.clear_output()\n",
    "            with output8:\n",
    "                display(HTML(\"<span style='color: green;'>Your SQL query is correct!</span>\"))\n",
    "                step8Complete = True\n",
    "        \n",
    "        elif (result.returncode == 0):\n",
    "            output8.clear_output()\n",
    "            with output8:\n",
    "                display(HTML(\"<span style='color: red;'>Your SQL query is invalid or incorrect. Try again.</span>\"))\n",
    "                step8Complete = False\n",
    "        \n",
    "        elif (result.returncode == 2):\n",
    "            output8.clear_output()\n",
    "            with output8:\n",
    "                display(HTML(\"<span style='color: red;'>An error occurred when checking your database. Make sure you have completed the previous step(s). Otherwise, please contact your professor or TA.</span>\"))\n",
    "                step8Complete = False\n",
    "\n",
    "def check_step_8(b):\n",
    "    step_8()\n",
    "\n",
    "def reset_step_8(b):\n",
    "    if (not step7Complete):\n",
    "        output8.clear_output()\n",
    "        with output8:\n",
    "            display(HTML(\"<span style='color: red;'>You must complete the previous step before this button is enabled.</span>\"))\n",
    "\n",
    "    else:\n",
    "        result = subprocess.run('ssh -i /home/umdsectc/.ssh/merge_key umdsectc@sqli /home/.checker/reset_db.py 8', shell=True, stdout=subprocess.DEVNULL)\n",
    "    \n",
    "        output8.clear_output()\n",
    "        with output8:\n",
    "            if (result.returncode == 1):\n",
    "                display(HTML(\"<span>Your database has been reset.</span>\"))\n",
    "            elif (result.returncode == 0):\n",
    "                display(HTML(\"<span>Something wrong occurred and your database wasn't reset. Please contact your professor/TA.</span>\"))\n",
    "            elif (result.returncode == 2):\n",
    "                display(HTML(\"<span>A SQL error occurred. Please contact your professor/TA.</span>\"))\n",
    "    \"\"\"\n",
    "    # Auto-save.\n",
    "    if (not runAllSteps):\n",
    "        trigger_save()\n",
    "    \"\"\"\n",
    "\n",
    "# Retrieve the student's response. First, create a loading spinner, since this could take a second or two.\n",
    "loading8 = widgets.Output()\n",
    "display(loading8)\n",
    "with loading8:\n",
    "    loading8.clear_output()\n",
    "    display(HTML(\"<span>Loading your saved response... <img width='12px' height='12px' style='margin-left: 3px;' src='resources/loading.gif'></span>\"))\n",
    "\n",
    "# Creating a text area.\n",
    "userInput8 = widgets.Text(\n",
    "    placeholder='Type your SQL query here',\n",
    "    description='Query:',\n",
    "    layout=widgets.Layout(width='90%')\n",
    ")\n",
    "\n",
    "# Checking if the step has been answered.\n",
    "result = subprocess.run('ssh -o StrictHostKeyChecking=no -i /home/umdsectc/.ssh/merge_key umdsectc@sqli \"cat /home/.checker/responses/step_8_answer.txt 2> /dev/null\"', capture_output=True, text=True, shell=True)\n",
    "userInput8.value = result.stdout\n",
    "\n",
    "# After the student's response was loaded, clear the output.\n",
    "loading8.clear_output()\n",
    "\n",
    "# Creating the button.\n",
    "button = widgets.Button(description=\"Run SQL Query\")\n",
    "\n",
    "# Create an extra button for resetting the database.\n",
    "button_step_8 = widgets.Button(description=\"Reset Database\")\n",
    "\n",
    "# Creating an output area.\n",
    "output8 = widgets.Output()\n",
    "\n",
    "# Run the command on click.\n",
    "button.on_click(check_step_8)\n",
    "button_step_8.on_click(reset_step_8)\n",
    "\n",
    "# Display the output.\n",
    "display(userInput8, button, button_step_8, output8)"
   ]
  },
  {
   "cell_type": "markdown",
   "metadata": {},
   "source": [
    "### Step 9: Intermediate SQL Queries\n",
    "\n",
    "Additional clauses may be used in SQL queries for more advanced searches. A couple of useful clauses are: ```LIMIT```, ```OFFSET```, ```ORDER BY```, and ```GROUP BY```. There are more clauses than this, but a couple of these clauses should be known when doing this lab.\n",
    "\n",
    "- ```LIMIT``` takes the entries that your query returns, and only returns the top X rows, where X is the integer value from ```LIMIT X```.\n",
    "- ```OFFSET``` is similar to ```LIMIT```, but skips the first X rows where X is the integer value from ```OFFSET X```.\n",
    "  - ```OFFSET``` is useful when implementing previous page and next page functionality for websites.\n",
    "  - ```OFFSET``` cannot be used without the ```LIMIT``` clause.\n",
    "  - ```OFFSET``` cannot be called before ```LIMIT```.\n",
    "- ```ORDER BY``` takes a column from your result query and sorts it numerically/alphabetically.\n",
    "  - ```ASC``` and ```DESC``` are optional after the ```ORDER BY``` statement, which stand for \"ascending\" and \"descending\".\n",
    "- ```GROUP BY``` is similar to ```ORDER BY```, except it is mainly used for aggregation functions, like ```COUNT()```, ```MAX()```, ```MIN()```, ```SUM()```, and ```AVG()```. These aggregation functions are placed in the ```SELECT``` statement of SQL queries, and return numerical values.\n",
    "  - An example of ```GROUP BY``` is: ```SELECT COUNT(student_grade) FROM students WHERE student_grade == 'A' GROUP BY student_grade;```, which returns the number of students that have an A for a grade.\n",
    " \n",
    "For your task, create a SQL statement that returns all entries in the table, but prints only the first row and offset your result by one."
   ]
  },
  {
   "cell_type": "code",
   "execution_count": 12,
   "metadata": {
    "jupyter": {
     "source_hidden": true
    }
   },
   "outputs": [
    {
     "data": {
      "application/vnd.jupyter.widget-view+json": {
       "model_id": "49618a9bebe04e2fa23a8ee462ee481e",
       "version_major": 2,
       "version_minor": 0
      },
      "text/plain": [
       "Output()"
      ]
     },
     "metadata": {},
     "output_type": "display_data"
    },
    {
     "data": {
      "application/vnd.jupyter.widget-view+json": {
       "model_id": "706af6643ad4425ab2bcf88fb2f57a63",
       "version_major": 2,
       "version_minor": 0
      },
      "text/plain": [
       "Text(value='SELECT * FROM students LIMIT 1 OFFSET 1;\\n', description='Query:', layout=Layout(width='90%'), pla…"
      ]
     },
     "metadata": {},
     "output_type": "display_data"
    },
    {
     "data": {
      "application/vnd.jupyter.widget-view+json": {
       "model_id": "af6251aacb29489d9ff7668cee2eab3a",
       "version_major": 2,
       "version_minor": 0
      },
      "text/plain": [
       "Button(description='Run SQL Query', style=ButtonStyle())"
      ]
     },
     "metadata": {},
     "output_type": "display_data"
    },
    {
     "data": {
      "application/vnd.jupyter.widget-view+json": {
       "model_id": "2c5b0e58fbe74a76afad578d13879443",
       "version_major": 2,
       "version_minor": 0
      },
      "text/plain": [
       "Button(description='Reset Database', style=ButtonStyle())"
      ]
     },
     "metadata": {},
     "output_type": "display_data"
    },
    {
     "data": {
      "application/vnd.jupyter.widget-view+json": {
       "model_id": "f0078a8417ab4061b2a67bda362103ea",
       "version_major": 2,
       "version_minor": 0
      },
      "text/plain": [
       "Output()"
      ]
     },
     "metadata": {},
     "output_type": "display_data"
    }
   ],
   "source": [
    "# Click the button below to check your work.\n",
    "step9Complete = False\n",
    "\n",
    "# Function to check if the student's answer was correct.\n",
    "def step_9():\n",
    "    # Required to change boolean values.\n",
    "    global step9Complete\n",
    "\n",
    "    # Loading, in case the check is slow.\n",
    "    with output9:\n",
    "        output9.clear_output()\n",
    "        display(HTML(\"<span><img width='12px' height='12px' style='margin-left: 3px;' src='resources/loading.gif'></span>\"))\n",
    "\n",
    "    # First, check to see if the field is empty.\n",
    "    if (userInput9.value == \"\"):\n",
    "        output9.clear_output()\n",
    "        with output9:\n",
    "            display(HTML(\"<span style='color: red;'>You did not provide input for this step.</span>\"))\n",
    "            step9Complete = False\n",
    "\n",
    "    else:\n",
    "        # Escape single quotes by replacing them with `'\\''`\n",
    "        escaped_user_input = re.sub(r\"(\\\"|\\')\", r\"'\\''\", userInput9.value.strip())\n",
    "        \n",
    "        # Construct the SSH command for testing the SQL query.\n",
    "        sql_test_command = f\"\"\"ssh -i /home/umdsectc/.ssh/merge_key umdsectc@sqli \"/home/.checker/section_1.py 9 '{escaped_user_input}'\" \"\"\"\n",
    "        result = subprocess.run(sql_test_command, shell=True, stdout=subprocess.PIPE, stderr=subprocess.PIPE)\n",
    "        \n",
    "        # Construct the SSH command for saving the student's response.\n",
    "        save_command = f\"\"\"ssh -i /home/umdsectc/.ssh/merge_key umdsectc@sqli \"echo '{escaped_user_input}' > /home/.checker/responses/step_9_answer.txt\" \"\"\"\n",
    "        save_result = subprocess.run(save_command, shell=True, stdout=subprocess.PIPE, stderr=subprocess.PIPE)\n",
    "        \n",
    "        if (result.returncode == 1):\n",
    "            output9.clear_output()\n",
    "            with output9:\n",
    "                display(HTML(\"<span style='color: green;'>Your SQL query is correct!</span>\"))\n",
    "                step9Complete = True\n",
    "        \n",
    "        elif (result.returncode == 0):\n",
    "            output9.clear_output()\n",
    "            with output9:\n",
    "                display(HTML(\"<span style='color: red;'>Your SQL query is invalid or incorrect. Try again.</span>\"))\n",
    "                step9Complete = False\n",
    "        \n",
    "        elif (result.returncode == 2):\n",
    "            output9.clear_output()\n",
    "            with output9:\n",
    "                display(HTML(\"<span style='color: red;'>An error occurred when checking your database. Make sure you have completed the previous step(s). Otherwise, please contact your professor or TA.</span>\"))\n",
    "                step9Complete = False\n",
    "\n",
    "def check_step_9(b):\n",
    "    step_9()\n",
    "\n",
    "def reset_step_9(b):\n",
    "    if (not step8Complete):\n",
    "        output9.clear_output()\n",
    "        with output9:\n",
    "            display(HTML(\"<span style='color: red;'>You must complete the previous step before this button is enabled.</span>\"))\n",
    "\n",
    "    else:\n",
    "        result = subprocess.run('ssh -i /home/umdsectc/.ssh/merge_key umdsectc@sqli /home/.checker/reset_db.py 9', shell=True, stdout=subprocess.DEVNULL)\n",
    "    \n",
    "        output9.clear_output()\n",
    "        with output9:\n",
    "            if (result.returncode == 1):\n",
    "                display(HTML(\"<span>Your database has been reset.</span>\"))\n",
    "            elif (result.returncode == 0):\n",
    "                display(HTML(\"<span>Something wrong occurred and your database wasn't reset. Please contact your professor/TA.</span>\"))\n",
    "            elif (result.returncode == 2):\n",
    "                display(HTML(\"<span>A SQL error occurred. Please contact your professor/TA.</span>\"))\n",
    "    \"\"\"\n",
    "    # Auto-save.\n",
    "    if (not runAllSteps):\n",
    "        trigger_save()\n",
    "    \"\"\"\n",
    "\n",
    "# Retrieve the student's response. First, create a loading spinner, since this could take a second or two.\n",
    "loading9 = widgets.Output()\n",
    "display(loading9)\n",
    "with loading9:\n",
    "    loading9.clear_output()\n",
    "    display(HTML(\"<span>Loading your saved response... <img width='12px' height='12px' style='margin-left: 3px;' src='resources/loading.gif'></span>\"))\n",
    "\n",
    "# Creating a text area.\n",
    "userInput9 = widgets.Text(\n",
    "    placeholder='Type your SQL query here',\n",
    "    description='Query:',\n",
    "    layout=widgets.Layout(width='90%')\n",
    ")\n",
    "\n",
    "# Checking if the step has been answered.\n",
    "result = subprocess.run('ssh -o StrictHostKeyChecking=no -i /home/umdsectc/.ssh/merge_key umdsectc@sqli \"cat /home/.checker/responses/step_9_answer.txt 2> /dev/null\"', capture_output=True, text=True, shell=True)\n",
    "userInput9.value = result.stdout\n",
    "\n",
    "# After the student's response was loaded, clear the output.\n",
    "loading9.clear_output()\n",
    "\n",
    "# Creating the button.\n",
    "button = widgets.Button(description=\"Run SQL Query\")\n",
    "\n",
    "# Create an extra button for resetting the database.\n",
    "button_step_9 = widgets.Button(description=\"Reset Database\")\n",
    "\n",
    "# Creating an output area.\n",
    "output9 = widgets.Output()\n",
    "\n",
    "# Run the command on click.\n",
    "button.on_click(check_step_9)\n",
    "button_step_9.on_click(reset_step_9)\n",
    "\n",
    "# Display the output.\n",
    "display(userInput9, button, button_step_9, output9)"
   ]
  },
  {
   "cell_type": "markdown",
   "metadata": {},
   "source": [
    "## <strong>Topic 2: PHP and SQL Practice</strong>"
   ]
  },
  {
   "cell_type": "markdown",
   "metadata": {},
   "source": [
    "PHP, as mentioned before, is a programming language to handle server-side processing. It's used in back-end website development, which is everything that the website users cannot see. Front-end web development is everything that the users of a website can see, like HTML, CSS, and JavaScript.\n",
    "\n",
    "Since PHP is back-end, it will hide SQL statements from the user, which provides some security for websites. However, when focusing on computer security, you cannot assume that the hacker doesn't know the system. For this topic, you will learn how SQL statements are called from PHP, which take user input from HTML forms. You are going to view a sample of unsafe PHP code that can put your database at risk. Additionally, you will learn how to break an insecure system.\n",
    "\n",
    "<strong>This portion of the lab is going to require port forwarding, which requires setup on your own, local machine. If you have not already done port forwarding, you will need to follow the steps from this notebook.</strong>"
   ]
  },
  {
   "cell_type": "markdown",
   "metadata": {},
   "source": [
    "### Step 10: Accessing ```php_practice.php```\n",
    "\n",
    "After you have port forwarded to your ```sqli``` node, access ```localhost:port/cgi-bin/php_practice.php```, where ```port``` is the number that you used in your SSH statement.\n",
    "\n",
    "<strong>For example</strong>, if you have already set up port forwarding, type the following command into your terminal: ```ssh -L 8080:sqli:80 umdsecXX-xdc-umdsecXX```, then access the practice page by typing ```localhost:8080/cgi-bin/php_practice.php``` into your web browser.\n",
    "\n",
    "The website's source code is located at ```/usr/lib/cgi-bin/php_practice.php```.\n",
    "\n",
    "This website contains a simple form which takes a student's ID. When you type in a student's ID into the field, it takes your input, puts it into a SQL statement, sends the SQL statement to the database, retrieve the results, then it displays it on the website.\n",
    "\n",
    "For your convenience and to help demonstrate the lab, the SQL statement that's being sent to the database will display on the page for you, highlighting the statement that you typed in. Feel free to use this to assist your understanding of SQL injection, as it will be unavailable for the large scale portion of the lab."
   ]
  },
  {
   "cell_type": "code",
   "execution_count": null,
   "metadata": {},
   "outputs": [],
   "source": []
  },
  {
   "cell_type": "markdown",
   "metadata": {},
   "source": [
    "### Step 11: Observe the PHP File\n",
    "\n",
    "Now, open ```/usr/lib/cgi-bin/php_practice.php``` in your ```sqli``` node, and observe the file contents. Look for the SQL query, and observe how the user input is used in the SQL statement.\n",
    "\n",
    "In the text field below, explain the possible security vulnerability with this approach."
   ]
  },
  {
   "cell_type": "code",
   "execution_count": null,
   "metadata": {},
   "outputs": [],
   "source": []
  },
  {
   "cell_type": "markdown",
   "metadata": {},
   "source": [
    "### Step 12: Practicing SQL Injection (Part 1)\n",
    "\n",
    "In the previous step, you should've observed the security vulnerability with this PHP code. From Step 10, you observed that this SQL statement works, but there is a major flaw with this design.\n",
    "\n",
    "Using this to your advantage, type SQL code into the \"Student ID\" field on the website to change Aaron's name to Taylor.\n",
    "\n",
    "After testing your statement, you will need to copy/paste your input into the field below to check your work. Your database will be reset and your query will be tested to determine if your SQL statement is correct. If you would like to reset your database, you may click on the \"Reset\" button on the website.\n",
    "\n",
    "<u>Tip</u>: Notice that SQL statements end with a semicolon. Observe how your SQL statement gets inserted into the PHP string. In order for this injection attack to work, it must be a valid SQL statement. SQL statements can be concatenated into a single query by using semicolons."
   ]
  },
  {
   "cell_type": "code",
   "execution_count": null,
   "metadata": {},
   "outputs": [],
   "source": []
  },
  {
   "cell_type": "markdown",
   "metadata": {},
   "source": [
    "### Step 13: Practicing SQL Injection (Part 2)\n",
    "\n",
    "Now, using the input field on the website, change Hannah's grade to a B.\n",
    "\n",
    "Once you have a working command, type the command below and check your work. Your database will be reverted back to completing Step 12, and it will be tested. Again, a \"Reset\" button is available for you, and it will not reset your progress from the previous step."
   ]
  },
  {
   "cell_type": "code",
   "execution_count": null,
   "metadata": {},
   "outputs": [],
   "source": []
  },
  {
   "cell_type": "markdown",
   "metadata": {},
   "source": [
    "### Step 14: Practicing SQL Injection (Part 3)\n",
    "\n",
    "Finally, using the input field, create a student named Jason whose ID is 200 and has an F for a grade.\n",
    "\n",
    "Like the checks, your database will be reverted to the previous step, and it will be tested for correctness. A \"Reset\" button is available to revert to the previous step."
   ]
  },
  {
   "cell_type": "code",
   "execution_count": null,
   "metadata": {},
   "outputs": [],
   "source": []
  },
  {
   "cell_type": "markdown",
   "metadata": {},
   "source": [
    "## <strong>Topic 3: Prepared Statements</strong>"
   ]
  },
  {
   "cell_type": "markdown",
   "metadata": {},
   "source": [
    "PHP has a built-in functionality to mitigate the risks of SQL injection.\n",
    "\n",
    "### mysqli_real_escape_string() - <em style=\"color: red;\">Unsafe</em>\n",
    "\n",
    "First, there is a function called ```mysqli_real_escape_string()```, which is an <strong>unsafe</strong> sanitization function. \n",
    "\n",
    "This function requires a connection to be made with the SQL server, which can provide undefined behavior if a connection isn't made before the function is called. This function takes any unsafe characters that can occur within a SQL statement, and safely escapes characters so that it treats SQL tokens as regular string characters. However, there are security vulnerabilities to this statement, which you can <a href=\"https://stackoverflow.com/questions/5741187/sql-injection-that-gets-around-mysql-real-escape-string\">read about here</a>. \n",
    "\n",
    "To put simply, this function becomes unsafe if your database character set does not match your PHP character set. This means using double quotes for your SQL statement, but single quotes for your user input, or vice versa.\n",
    "\n",
    "### mysqli_prepare() - <em style=\"color: green;\">Safe</em>\n",
    "\n",
    "The safer alternative of ```mysqli_real_escape_string()``` is ```mysqli_prepare()```, which is a <u>prepared statement</u>.\n",
    "\n",
    "A prepared statement is a pre-compiled query, which means that it's sent to the database before it takes input. Once it has been compiled, the user input is replaced by ```?``` within the query, and becomes impossible to inject SQL code into. Prepared statements take the input type for each ```?``` within the query, and their types get checked when compiling the code before replacing the ```?``` with the user's input.\n",
    "\n",
    "Here is an example of a prepared statement:\n",
    "\n",
    "```$stmt = mysqli_prepare(conn, \"INSERT INTO table (column1, column2) VALUES (?, ?)\");```\n",
    "\n",
    "Before a statement can be executed, you need to bind parameters to the ```?``` values in the prepared statement. This tells PHP which variables are being assigned to the question marks in the statement. So, the next line would be:\n",
    "\n",
    "```mysqli_stmt_bind_param($stmt, 'ss', $userInput1, $userInput2);```\n",
    "\n",
    "The ```ss``` tells SQL that ```$userInput1``` is a string, as well as ```$userInput2```. Additionally, if any inputs are ```i```, it tells SQL that you are sending an int, ```d``` is a float, and ```b``` is a blob. You only need to worry about ```i``` and ```s``` for this lab.\n",
    "\n",
    "Finally, the last step is to run ```mysqli_stmt_execute($stmt);``` to execute the statement. <u>This is not specific to prepared statements, and is already written for you in the exercises.</u> If your SQL query returns a row from a table, it can be retrieved with ```$result = mysqli_stmt_get_result($stmt);```, then you can convert the result into an array with ```$row = mysqli_fetch_array($result);```. Place this statement within a ```while``` loop if you would like to read all rows from the query."
   ]
  },
  {
   "cell_type": "markdown",
   "metadata": {},
   "source": [
    "### Step 15: Making a Prepared Statement\n",
    "\n",
    "Using the instructions above, turn the SQL statement in ```php_practice.php``` into a prepared statement. You are encouraged to take your payloads from above and try to alter the database through the input field.\n",
    "\n",
    "If you would like to revert the database to completing Step 14, you may click on the reset button. This will not reset your PHP file.\n",
    "\n",
    "When you have finished writing your prepared statement, click on the \"Check Work\" button to test this step. A SQL injection will be tested on your database, which should fail."
   ]
  },
  {
   "cell_type": "code",
   "execution_count": null,
   "metadata": {},
   "outputs": [],
   "source": []
  },
  {
   "cell_type": "markdown",
   "metadata": {},
   "source": [
    "## <strong>Topic 4: A Large-Scale Application of SQL Injection</strong>\n",
    "\n",
    "For the final topic, you will be testing your knowledge on a website called FrobozzCo Community Credit Union (FCCU). The developers for FCCU have written the database without knowledge about SQL injection, and you will be responsible for attacking their website, draining someone's savings, then fixing their website.\n",
    "\n",
    "Navigate to ```localhost:port/index.html``` to go to the bank's landing page. Once again, <strong>port forwarding is required</strong> in order to access the website from your browser. ```port``` is a value that you chose in your SSH statement.\n",
    "\n",
    "Earlier in the lab, you saw a database called ```fccu``` in MySQL. The website that you will break is doing to use this database. If you are currently signed into MySQL, type ```USE fccu``` to switch databases. Inside of the database, you will be able to view the usernames and passwords of all accounts. You may try signing into any account to view what customers can view.\n",
    "\n",
    "For this topic, you will not be shown the SQL query upon submitting the forum. You will need to think critically and understand how your input will be placed within the SQL statements."
   ]
  },
  {
   "cell_type": "markdown",
   "metadata": {},
   "source": [
    "### Step 16: Accessing Someone Else's Account - CHECK LATER\n",
    "\n",
    "On the sign-in page, type a SQL statement into the ID field so that you can access anyone's account, without knowing the ID numbers ahead of time.\n",
    "\n",
    "When you have a working payload, copy/paste it below to check your work.\n",
    "\n",
    "<u>Tips<u>:\n",
    "- The ID field of the user's input is placed in the middle of a SQL statement. Consider using a SQL comment (```--```) to remove everything after your injection so that there is no error.\n",
    "- Signing into the website works when a statement only returns one row. Consider using ```LIMIT``` within your statement. - CHECK LATER\n",
    "- It's impossible to comment out a SQL statement before your payload. This means that ```id``` must be checked, since ```WHERE id = $id``` is the SQL statement that you're injecting into. You do not know anyone's ID, so consider using the ```OR``` clause within your payload, and provided a valid argument for the ```id = XXX``` within the statement. - CHECK LATER"
   ]
  },
  {
   "cell_type": "code",
   "execution_count": null,
   "metadata": {},
   "outputs": [],
   "source": []
  },
  {
   "cell_type": "markdown",
   "metadata": {},
   "source": [
    "### Step 17: Accessing Multiple Accounts\n",
    "\n",
    "In the previous step, you found a way to access someone's account by using SQL injection. Now, on the sign-in page, type a SQL statement into the ID field so that you can access the next valid ID.\n",
    "\n",
    "When you have a working payload, copy/paste it below to check your work.\n",
    "\n",
    "<u>Tip</u>: This payload will be very similar to the previous one. However, consider using ```OFFSET```. (Also consider ID > something)"
   ]
  },
  {
   "cell_type": "code",
   "execution_count": null,
   "metadata": {},
   "outputs": [],
   "source": []
  },
  {
   "cell_type": "markdown",
   "metadata": {},
   "source": [
    "### Step 18: Wiping a Bank Account\n",
    "\n",
    "Make some account (your choice) wire its total balance to the bank with routing number: 314159265 and account number: 271828182845\n",
    "\n",
    "<em>This step will not be checked, but you can do this to view the danger of what your payload allowed you to do.</em> - (Create a log file of transfers and check to see if balances have updated.)"
   ]
  },
  {
   "cell_type": "markdown",
   "metadata": {},
   "source": [
    "### Step 19: Adding/Updating Accounts\n",
    "\n",
    "Explain why you can't create a new account or arbitrarily update account balances within the username field.\n",
    "\n",
    "This is a multiple choice question:\n",
    "\n",
    "a) <u>You cannot have more than one query in a statement when executing from PHP.</u> \n",
    "\n",
    "Correct! When not using prepared statements, the ```query()``` statement is being used. However, if you want to execute multiple queries within one statement, you need to use ```mysqli_multi_query()```. Source: https://www.php.net/manual/en/mysqli.multi-query.php\n",
    "\n",
    "b) <u>A ```SELECT``` statement cannot be nested with a ```INSERT``` or ```UPDATE``` statement.</u> \n",
    "\n",
    "Incorrect. Multiple queries can be called together, no matter their behavior. They can be separated with semicolons, and it's still a valid SQL query.\n",
    "\n",
    "c) <u>```fccu.php``` needs to read output from the SQL statement, and ```INSERT``` or ```UPDATE``` provides no output. So, the statement(s) cannot be used.</u>\n",
    "\n",
    "Incorrect. Although ```INSERT``` and ```UPDATE``` return zero rows, it will still be a valid query. If such an attack worked, returning zero rows would likely produce a \"User Not Found\" error, but insertion/updating would still happen.\n",
    "\n",
    "d) <u>The ID field restricts the number of characters you can type, and doing an insertion would max out the character limit.</u>\n",
    "\n",
    "Incorrect. The ID field allows an unlimited amount of characters. However, not restricting the ID field is a security vulnerability, as well as allowing characters instead of just numbers."
   ]
  },
  {
   "cell_type": "code",
   "execution_count": null,
   "metadata": {},
   "outputs": [],
   "source": []
  },
  {
   "cell_type": "markdown",
   "metadata": {},
   "source": [
    "### Step 20: Fixing the Vulnerability\n",
    "\n",
    "Convert the ID field that you broke into a prepared statement. Click on the button to test your work. If the test passes, then your prepared statement works and you will have finished the lab.\n",
    "\n",
    "- Log in page\n",
    "- Transfer page\n",
    "- Anywhere that user input is possible"
   ]
  },
  {
   "cell_type": "code",
   "execution_count": null,
   "metadata": {},
   "outputs": [],
   "source": []
  },
  {
   "cell_type": "markdown",
   "metadata": {},
   "source": [
    "### NOTES FOR RUNLAB:\n",
    "\n",
    "You will need to run these for them to work:\n",
    "- sudo apt install python3-pip\n",
    "- pip install mysql-connector-python"
   ]
  },
  {
   "cell_type": "code",
   "execution_count": null,
   "metadata": {},
   "outputs": [],
   "source": []
  }
 ],
 "metadata": {
  "kernelspec": {
   "display_name": "Python 3 (ipykernel)",
   "language": "python",
   "name": "python3"
  },
  "language_info": {
   "codemirror_mode": {
    "name": "ipython",
    "version": 3
   },
   "file_extension": ".py",
   "mimetype": "text/x-python",
   "name": "python",
   "nbconvert_exporter": "python",
   "pygments_lexer": "ipython3",
   "version": "3.10.12"
  }
 },
 "nbformat": 4,
 "nbformat_minor": 4
}
