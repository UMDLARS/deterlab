{
 "cells": [
  {
   "cell_type": "markdown",
   "metadata": {
    "editable": true,
    "slideshow": {
     "slide_type": ""
    },
    "tags": []
   },
   "source": [
    "# <strong>POSIX Permissions</strong>\n",
    "\n",
    "POSIX (Portable Operating System Interface for UniX) permissions are important to understand because they're commonly used for configuring Unix environments among users. Companies that use Unix environments split the ownership of files among single users and groups. Permissions are an effective way of preventing certain users from reading, writing, or executing files and directories. By preventing specific users from being able to read, modify, and execute files, you are also creating a barrier of security in case users have malicious intent towards a company, or their account becomes compromised.\n",
    "\n",
    "POSIX permissions can be viewed on any file by typing ```ls -l``` inside of a directory. A sample output of this command would be the following: \n",
    "\n",
    "<figure><center><img src=\"resources/posix/posix_example.png\" style=\"width: 75%; height: 75%;\"></img></center><em><figcaption>Credit: <a href=\"https://docs.oracle.com/cd/E19253-01/806-7612/files-26/index.html\">Oracle Documentation</a></figcaption></em></figure>\n",
    "\n",
    "For this lab, we are interested in changing the permissions, owner, and group. The way we read permissions is as follows:\n",
    "\n",
    "<figure><center><img src=\"resources/posix/permissions_example.png\" style=\"width: 75%; height: 75%;\"></img></center><em><figcaption>Credit: <a href=\"https://www.semanticscholar.org/paper/POSIX-Access-Control-Lists-on-Linux-Gr%C3%BCnbacher/ab66cf18f024f9b1e56a14c9f233d753a1d5c878\">Semantic Scholar</a></figcaption></em></figure>\n",
    "\n",
    "There are three groups of users. First is the ```owner```, which is the user who's listed first in the POSIX output. The ```owner``` is the user who created the file or directory. The ```group``` is a set of people who are assigned to a tag/group within the Unix environment. Finally, ```other``` is everyone else that's not the ```owner``` nor in the ```group```.\n",
    "\n",
    "There are three permissions that each type of user can acquire:\n",
    "- ```r``` stands for ```read```. This permission allows the user to read the contents of a file or directory.\n",
    "- ```w``` stands for ```write```. This permission allows the user to write to a directory or modify an existing file that has the ```write``` tag applied to it.\n",
    "- ```x``` stands for ```execute```. This permission allows the user to run scripts or other executables within a directory. The ```x``` tag on a directory means that the user can navigate within the directory, but they may not be able to read the contents without the ```r``` tag applied to it.\n",
    "\n",
    "<strong>This lab will contain four topics, and you will learn the following:</strong>\n",
    "\n",
    "1. Symbolic POSIX Permissions\n",
    "2. Octal POSIX Permissions\n",
    "3. Special POSIX Permissions\n",
    "4. Applying POSIX Permissions"
   ]
  },
  {
   "cell_type": "code",
   "execution_count": 1,
   "metadata": {
    "editable": true,
    "jupyter": {
     "source_hidden": true
    },
    "jupyterlab-hide-cells:hidden": true,
    "slideshow": {
     "slide_type": ""
    },
    "tags": []
   },
   "outputs": [],
   "source": [
    "# Setting up the lab.\n",
    "import ipywidgets as widgets\n",
    "from IPython.display import display, HTML, Javascript\n",
    "from IPython.core.magic import register_line_magic\n",
    "import os\n",
    "# For accessing the nodes:\n",
    "import subprocess\n",
    "# For the stopexp command:\n",
    "import re\n",
    "\n",
    "# These are pre-set so that the first three steps will work properly, as they all\n",
    "# depend on each other. Remaining booleans will be set in the cells.\n",
    "step1Complete = step2Complete = step3Complete = False\n",
    "\n",
    "# When true, it will not auto-save at each step.\n",
    "runAllSteps = False\n",
    "\n",
    "###### Used for saving notebooks. ######\n",
    "import threading\n",
    "# Threading required in case steps are progressed too quickly.\n",
    "save_lock = threading.Lock()\n",
    "\n",
    "# The save function itself.\n",
    "def save_notebook():\n",
    "    with save_lock:\n",
    "        result = subprocess.run('su - umdsectc -c \"/home/umdsectc/notebooks/resources/save.py intro\"', shell=True, capture_output=True, text=True)\n",
    "\n",
    "# Creating a thread to save the notebook.\n",
    "def trigger_save():\n",
    "    save_thread = threading.Thread(target=save_notebook)\n",
    "    save_thread.start()\n",
    "\n",
    "###### Used for loading notebooks. ######\n",
    "import queue\n",
    "\n",
    "load_lock = threading.Lock()\n",
    "result_queue = queue.Queue()\n",
    "\n",
    "def load_notebook():\n",
    "    with load_lock:\n",
    "        result = subprocess.run('su - umdsectc -c \"/home/umdsectc/notebooks/resources/load.py intro\"', shell=True, capture_output=True, text=True)\n",
    "        result_queue.put(result)  # Put the result in the queue.\n",
    "\n",
    "# Creating a thread to load the notebook.\n",
    "def trigger_load():\n",
    "    load_thread = threading.Thread(target=load_notebook)\n",
    "    load_thread.start()\n",
    "    load_thread.join()  # Wait for the thread to complete before adding result to the queue.\n",
    "    return result_queue.get()  # Get the result from the queue."
   ]
  },
  {
   "cell_type": "markdown",
   "metadata": {},
   "source": [
    "### Step 0: Begin the experiment.\n",
    "\n",
    "Click the button to begin creating the experiment."
   ]
  },
  {
   "cell_type": "code",
   "execution_count": 2,
   "metadata": {
    "jupyter": {
     "source_hidden": true
    }
   },
   "outputs": [
    {
     "data": {
      "application/vnd.jupyter.widget-view+json": {
       "model_id": "c200f916be334814951b3ce47b7410ce",
       "version_major": 2,
       "version_minor": 0
      },
      "text/plain": [
       "Button(description='Start Lab', style=ButtonStyle())"
      ]
     },
     "metadata": {},
     "output_type": "display_data"
    },
    {
     "data": {
      "application/vnd.jupyter.widget-view+json": {
       "model_id": "9decbdf977bb453387f9fa1f8aefa71c",
       "version_major": 2,
       "version_minor": 0
      },
      "text/plain": [
       "Output()"
      ]
     },
     "metadata": {},
     "output_type": "display_data"
    }
   ],
   "source": [
    "# Click the button below to start the experiment.\n",
    "def startlab(button):\n",
    "    # Defining the lab name.\n",
    "    labname = \"intro\"\n",
    "\n",
    "    # Writing the information to an empty field below the button.\n",
    "    with output0:\n",
    "        output0.clear_output()\n",
    "        \n",
    "        # First, checking if the materialization exists. May have been stopped by a previous lab.\n",
    "        materialPattern = \"real.\" + labname + \".umdsec[a-z]{1,2}\"\n",
    "\n",
    "        # Listing the materializations to find if there's an existing one for this lab.\n",
    "        checkMaterial = os.popen('su - umdsectc -c \"mrg list materializations\"').read()\n",
    "        regex = re.compile(materialPattern)\n",
    "        # Getting the matches:\n",
    "        match = regex.search(checkMaterial)\n",
    "\n",
    "        if match:\n",
    "            display(HTML(\"<span style='color: orange;'>An existing materialization for this lab already exists. </span><span>You might have ran another \\\n",
    "            lab without stopping this one. Attaching the existing materialization.</span>\"))\n",
    "            subprocess.run(f'su - umdsectc -c \"mrg xdc attach xdc '+ match.group(0) + '\"', capture_output=True, text=True, shell=True)\n",
    "            display(HTML(\"<newline><span style='color: green;'><strong>Setup complete. You may begin the lab! </strong></span>\" \\\n",
    "                         \"<span>When you're finished, close your lab at the bottom of the notebook.</span>\"))\n",
    "        \n",
    "        else:\n",
    "            display(HTML(\"<span>No existing materializations are found.</span>\"))\n",
    "        \n",
    "            # Second, start the lab.\n",
    "            display(HTML(\"<span>Starting \" + labname + \" lab. This will take a few minutes to process. Please wait.</span> \\\n",
    "            <span><img width='12px' height='12px' style='margin-left: 3px;' src='resources/loading.gif'></span>\"))\n",
    "            startexp = subprocess.run('su - umdsectc -c \"bash /share/startexp ' + labname + '\"', capture_output=True, text=True, shell=True)\n",
    "            output0.clear_output()\n",
    "            display(HTML(\"<span>Done. Result:</span>\"))\n",
    "            print(startexp.stdout)\n",
    "\n",
    "            # Another lab is already attached to the XDC.\n",
    "            if ((\"XDC already attached\") in startexp.stdout):\n",
    "                existingLab = re.search(r\"real.(.*).umdsec[a-z]{1,2}\", startexp.stdout).group(1)\n",
    "\n",
    "                # Shouldn't happen.\n",
    "                if (labname == existingLab):\n",
    "                    display(HTML(\"<span style='color: red;'>Your lab was already started. </span><span>Please continue to the next step.</span>\"))\n",
    "\n",
    "                # Detaching the existing lab, then attaching the current one.\n",
    "                else:\n",
    "                    display(HTML(\"<span style='color: orange;'>Warning: You did not stop your previous experiment. </span><span>Please stop your experiments \\\n",
    "                    before starting a new one. Detaching the \" + existingLab + \" experiment.</span>\"))\n",
    "                    os.popen('su - umdsectc -c \"mrg xdc detach xdc.umdsectc\"')\n",
    "                    display(HTML(\"<span>Attaching the current lab.</span>\"))\n",
    "                    os.popen('su - umdsectc -c \"mrg xdc attach xdc ' + materialPattern + '\"')\n",
    "    \n",
    "            # Third, get the lab materials onto the node.\n",
    "            display(HTML(\"<span>Allocating lab resources onto the node. <u>Please wait a little longer...</u></span>\"))\n",
    "            runlab = subprocess.run('su - umdsectc -c \"bash /home/runlab ' + labname + '\"', capture_output=True, text=True, shell=True)\n",
    "            display(HTML(\"<newline><span style='color: green;'><strong>Setup complete. You may begin the lab! </strong></span>\" \\\n",
    "                         \"<span>When you're finished, close your lab at the bottom of the notebook. Your lab will be active for one week.</span>\"))\n",
    "\n",
    "# Creating the button.\n",
    "startButton = widgets.Button(description=\"Start Lab\")\n",
    "\n",
    "# Creating an output area.\n",
    "output0 = widgets.Output()\n",
    "\n",
    "# Run the command on click.\n",
    "startButton.on_click(startlab)\n",
    "\n",
    "# Display the output.\n",
    "display(startButton, output0)"
   ]
  },
  {
   "cell_type": "markdown",
   "metadata": {},
   "source": [
    "If you previously stopped your lab, you may restore your progress below by clicking \"Load Lab\". <u>You do not have to load your lab if you signed out, closed your notebook, or exited your node(s) or XDC by using ```exit```.</u>"
   ]
  },
  {
   "cell_type": "code",
   "execution_count": 3,
   "metadata": {
    "jupyter": {
     "source_hidden": true
    }
   },
   "outputs": [
    {
     "data": {
      "application/vnd.jupyter.widget-view+json": {
       "model_id": "ad692bd3c1244e2aac28d41ace0a9f7b",
       "version_major": 2,
       "version_minor": 0
      },
      "text/plain": [
       "Button(description='Load Lab', style=ButtonStyle())"
      ]
     },
     "metadata": {},
     "output_type": "display_data"
    },
    {
     "data": {
      "application/vnd.jupyter.widget-view+json": {
       "model_id": "85e4cfc84ef54c1499a40b919856e0cf",
       "version_major": 2,
       "version_minor": 0
      },
      "text/plain": [
       "Output()"
      ]
     },
     "metadata": {},
     "output_type": "display_data"
    }
   ],
   "source": [
    "# Click the button below to load your lab.\n",
    "def loadlab(b):\n",
    "    with output0_2:\n",
    "        output0_2.clear_output()\n",
    "        display(HTML(\"<span>Searching for an existing lab in your notebook...</span>\"))\n",
    "\n",
    "    if (os.path.exists(\"/home/umdsectc/notebooks/saves/umdsectc_intro.tar.gz\")):\n",
    "        with output0_2:\n",
    "            output0_2.clear_output()\n",
    "            display(HTML(\"<span>Loading your lab...</span> \\\n",
    "                <span><img width='12px' height='12px' style='margin-left: 3px;' src='resources/loading.gif'></span>\"))\n",
    "            result = trigger_load()\n",
    "            if (result.returncode == 0):\n",
    "                    output0_2.clear_output()\n",
    "                    display(HTML(\"<span style='color: green;'>Your lab has been successfully loaded.</span>\"))\n",
    "            elif (result.returncode == 2):\n",
    "                    output0_2.clear_output()\n",
    "                    display(HTML(\"<span style='color: red;'>The intro lab is inaccessible. Please start your lab. If you have already started it, wait a minute and try again.</span>\"))\n",
    "            else:\n",
    "                    output0_2.clear_output()\n",
    "                    display(HTML(\"<span style='color: red;'>An error occurred while loading your lab.</span>\"))\n",
    "\n",
    "# Creating the button.\n",
    "loadButton = widgets.Button(description=\"Load Lab\")\n",
    "\n",
    "# Creating an output area.\n",
    "output0_2 = widgets.Output()\n",
    "\n",
    "# Run the command on click.\n",
    "loadButton.on_click(loadlab)\n",
    "\n",
    "# Display the output.\n",
    "display(loadButton, output0_2)"
   ]
  },
  {
   "cell_type": "markdown",
   "metadata": {
    "editable": true,
    "slideshow": {
     "slide_type": ""
    },
    "tags": []
   },
   "source": [
    "## <strong>Topic 1: Symbolic POSIX Permissions</strong>\n",
    "\n",
    "For the first topic, you will learn how to set POSIX permissions symbolically. Setting permissions this way are more intuitive, as there are two different ways to set permissions: symbolically and octally. \n",
    "\n",
    "Permissions are set using the ```chmod``` command, which is short for \"change mode\". The \"mode\" of a file is another way of saying \"permissions\". When you change the permissions of a file that you do not own, you need to use ```sudo```. Otherwise, if you're the owner of a file, then ```sudo``` is not required. Here is an example of using the ```chmod``` command: ```sudo chmod u+x file```\n",
    "\n",
    "A breakdown of the command:\n",
    "- ```u``` can be either ```u``` for ```user/owner```, ```g``` for ```group```, and ```o``` for ```other```.\n",
    "- ```+``` can be either ```+``` or ```-```, meaning you want to add or remove the following permission.\n",
    "- ```x``` can be either ```r``` for reading, ```w``` for writing, or ```x``` for execution.\n",
    "- ```file``` is the name of the file or directory that you would like to change the permissions of.\n",
    "\n",
    "<u>Tips:</u> \n",
    "- You can use more than one letter when using ```chmod```. If you want to remove read/write permissions from ```owner``` and ```other```, you can use ```sudo chmod uo+rw file```</u>.\n",
    "- If you do not want to treat ```+``` or ```-``` as a \"switch on/off\", you can also explicitly state what you want a user's permissions to be. For example: ```sudo chmod u=rwx file``` sets full permissions for the owner.\n",
    "\n",
    "Using this information, answer the next few steps using the ```chmod``` command."
   ]
  },
  {
   "cell_type": "markdown",
   "metadata": {
    "editable": true,
    "slideshow": {
     "slide_type": ""
    },
    "tags": []
   },
   "source": [
    "### Step 1: Set POSIX Permissions on ```q1.txt```.\n",
    "\n",
    "Inside of the home directory is a folder called ```posix_practice/```, with a few files called ```q1.txt```, ```q2.txt```, and ```q3.txt```, inside of it. Currently, there are zero permissions on these files.\n",
    "\n",
    "Give <strong>executable</strong> permissions to everyone for ```q1.txt```."
   ]
  },
  {
   "cell_type": "code",
   "execution_count": 4,
   "metadata": {
    "editable": true,
    "jupyter": {
     "source_hidden": true
    },
    "slideshow": {
     "slide_type": ""
    },
    "tags": []
   },
   "outputs": [
    {
     "data": {
      "application/vnd.jupyter.widget-view+json": {
       "model_id": "13d39fefe1714af986c517f64882d255",
       "version_major": 2,
       "version_minor": 0
      },
      "text/plain": [
       "Button(description='Check Permissions', style=ButtonStyle())"
      ]
     },
     "metadata": {},
     "output_type": "display_data"
    },
    {
     "data": {
      "application/vnd.jupyter.widget-view+json": {
       "model_id": "5a1b655973334c21b0a6b1ac4d363f6f",
       "version_major": 2,
       "version_minor": 0
      },
      "text/plain": [
       "Output()"
      ]
     },
     "metadata": {},
     "output_type": "display_data"
    }
   ],
   "source": [
    "# Click the button below to check your work.\n",
    "step1Complete = False\n",
    "\n",
    "# Function to check the permissions.\n",
    "def step_1():\n",
    "    # Required to change boolean value.\n",
    "    global step1Complete\n",
    "\n",
    "    with output1:\n",
    "        output1.clear_output()\n",
    "        display(HTML(\"<span><img width='12px' height='12px' style='margin-left: 3px;' src='resources/loading.gif'></span>\"))\n",
    "    \n",
    "    result = subprocess.run('ssh -o StrictHostKeyChecking=no -i /home/umdsectc/.ssh/merge_key umdsectc@posix /home/.checker/section_1.py 1', shell=True)\n",
    "\n",
    "    if (result.returncode == 1):\n",
    "        output1.clear_output()\n",
    "        with output1:\n",
    "            display(HTML(\"<span style='color: green;'>Success! You may continue onto the next step.</span>\"))\n",
    "            step1Complete = True\n",
    "    \n",
    "    elif (result.returncode == 2):\n",
    "        output1.clear_output()\n",
    "        with output1:\n",
    "            display(HTML(\"<span style='color: red;'>q1.txt was not found. Check the directory and see if you may have deleted it.</span>\"))\n",
    "            step1Complete = False\n",
    "\n",
    "    elif (result.returncode == 0):\n",
    "        output1.clear_output()\n",
    "        with output1:\n",
    "            display(HTML(\"<span style='color: red;'>Check your permissions and try again.</span>\"))\n",
    "            step1Complete = False\n",
    "\n",
    "def check_step_1(b):\n",
    "    step_1()\n",
    "\n",
    "    \"\"\"\n",
    "    # Auto-save.\n",
    "    if (not runAllSteps):\n",
    "        trigger_save()\n",
    "    \"\"\"\n",
    "\n",
    "# Creating the button.\n",
    "button = widgets.Button(description=\"Check Permissions\")\n",
    "\n",
    "# Creating an output area.\n",
    "output1 = widgets.Output()\n",
    "\n",
    "# Run the command on click.\n",
    "button.on_click(check_step_1)\n",
    "\n",
    "# Display the output.\n",
    "display(button, output1)"
   ]
  },
  {
   "cell_type": "markdown",
   "metadata": {},
   "source": [
    "### Step 2: Set POSIX Permissions on ```q2.txt```.\n",
    "\n",
    "Now, give <strong>write</strong> permissions to just the ```owner``` for ```q2.txt```."
   ]
  },
  {
   "cell_type": "code",
   "execution_count": 5,
   "metadata": {
    "editable": true,
    "jupyter": {
     "source_hidden": true
    },
    "slideshow": {
     "slide_type": ""
    },
    "tags": []
   },
   "outputs": [
    {
     "data": {
      "application/vnd.jupyter.widget-view+json": {
       "model_id": "62cef3b4fa0a47d0b3567e5a115a9f2b",
       "version_major": 2,
       "version_minor": 0
      },
      "text/plain": [
       "Button(description='Check Permissions', style=ButtonStyle())"
      ]
     },
     "metadata": {},
     "output_type": "display_data"
    },
    {
     "data": {
      "application/vnd.jupyter.widget-view+json": {
       "model_id": "27bdec2125ce48e1ae9b10251431764d",
       "version_major": 2,
       "version_minor": 0
      },
      "text/plain": [
       "Output()"
      ]
     },
     "metadata": {},
     "output_type": "display_data"
    }
   ],
   "source": [
    "# Click the button below to check your work.\n",
    "step2Complete = False\n",
    "\n",
    "# Function to check the permissions.\n",
    "def step_2():\n",
    "    # Required to change boolean value.\n",
    "    global step2Complete\n",
    "\n",
    "    with output2:\n",
    "        output2.clear_output()\n",
    "        display(HTML(\"<span><img width='12px' height='12px' style='margin-left: 3px;' src='resources/loading.gif'></span>\"))\n",
    "    \n",
    "    result = subprocess.run('ssh -o StrictHostKeyChecking=no -i /home/umdsectc/.ssh/merge_key umdsectc@posix /home/.checker/section_1.py 2', shell=True)\n",
    "\n",
    "    if (result.returncode == 1):\n",
    "        output2.clear_output()\n",
    "        with output2:\n",
    "            display(HTML(\"<span style='color: green;'>Success! You may continue onto the next step.</span>\"))\n",
    "            step2Complete = True\n",
    "    \n",
    "    elif (result.returncode == 2):\n",
    "        output2.clear_output()\n",
    "        with output2:\n",
    "            display(HTML(\"<span style='color: red;'>q2.txt was not found. Check the directory and see if you may have deleted it.</span>\"))\n",
    "            step2Complete = False\n",
    "\n",
    "    elif (result.returncode == 0):\n",
    "        output2.clear_output()\n",
    "        with output2:\n",
    "            display(HTML(\"<span style='color: red;'>Check your permissions and try again.</span>\"))\n",
    "            step2Complete = False\n",
    "\n",
    "def check_step_2(b):\n",
    "    step_2()\n",
    "\n",
    "    \"\"\"\n",
    "    # Auto-save.\n",
    "    if (not runAllSteps):\n",
    "        trigger_save()\n",
    "    \"\"\"\n",
    "\n",
    "# Creating the button.\n",
    "button = widgets.Button(description=\"Check Permissions\")\n",
    "\n",
    "# Creating an output area.\n",
    "output2 = widgets.Output()\n",
    "\n",
    "# Run the command on click.\n",
    "button.on_click(check_step_2)\n",
    "\n",
    "# Display the output.\n",
    "display(button, output2)"
   ]
  },
  {
   "cell_type": "markdown",
   "metadata": {},
   "source": [
    "### Step 3: Set POSIX Permissions on ```q3.txt```.\n",
    "\n",
    "Finally, give <strong>read/write</strong> permissions to the ```owner```, <strong>executable</strong> permissions to the ```group```, and <strong>read/execute</strong> permissions to ```other``` for ```q3.txt```. <u>Do not add any other permissions besides the ones that were stated.</u>"
   ]
  },
  {
   "cell_type": "code",
   "execution_count": 6,
   "metadata": {
    "editable": true,
    "jupyter": {
     "source_hidden": true
    },
    "slideshow": {
     "slide_type": ""
    },
    "tags": []
   },
   "outputs": [
    {
     "data": {
      "application/vnd.jupyter.widget-view+json": {
       "model_id": "be8c56de995d4d638b91b19f522c2344",
       "version_major": 2,
       "version_minor": 0
      },
      "text/plain": [
       "Button(description='Check Permissions', style=ButtonStyle())"
      ]
     },
     "metadata": {},
     "output_type": "display_data"
    },
    {
     "data": {
      "application/vnd.jupyter.widget-view+json": {
       "model_id": "2dfd1827e46648c3b68add10a021100e",
       "version_major": 2,
       "version_minor": 0
      },
      "text/plain": [
       "Output()"
      ]
     },
     "metadata": {},
     "output_type": "display_data"
    }
   ],
   "source": [
    "# Click the button below to check your work.\n",
    "step3Complete = False\n",
    "\n",
    "# Function to check the permissions.\n",
    "def step_3():\n",
    "    # Required to change boolean value.\n",
    "    global step3Complete\n",
    "\n",
    "    with output3:\n",
    "        output3.clear_output()\n",
    "        display(HTML(\"<span><img width='12px' height='12px' style='margin-left: 3px;' src='resources/loading.gif'></span>\"))\n",
    "    \n",
    "    result = subprocess.run('ssh -o StrictHostKeyChecking=no -i /home/umdsectc/.ssh/merge_key umdsectc@posix /home/.checker/section_1.py 3', shell=True)\n",
    "\n",
    "    if (result.returncode == 1):\n",
    "        output3.clear_output()\n",
    "        with output3:\n",
    "            display(HTML(\"<span style='color: green;'>Success! You may continue onto the next step.</span>\"))\n",
    "            step2Complete = True\n",
    "    \n",
    "    elif (result.returncode == 2):\n",
    "        output3.clear_output()\n",
    "        with output3:\n",
    "            display(HTML(\"<span style='color: red;'>q3.txt was not found. Check the directory and see if you may have deleted it.</span>\"))\n",
    "            step2Complete = False\n",
    "\n",
    "    elif (result.returncode == 0):\n",
    "        output3.clear_output()\n",
    "        with output3:\n",
    "            display(HTML(\"<span style='color: red;'>Check your permissions and try again.</span>\"))\n",
    "            step2Complete = False\n",
    "\n",
    "def check_step_3(b):\n",
    "    step_3()\n",
    "\n",
    "    \"\"\"\n",
    "    # Auto-save.\n",
    "    if (not runAllSteps):\n",
    "        trigger_save()\n",
    "    \"\"\"\n",
    "\n",
    "# Creating the button.\n",
    "button = widgets.Button(description=\"Check Permissions\")\n",
    "\n",
    "# Creating an output area.\n",
    "output3 = widgets.Output()\n",
    "\n",
    "# Run the command on click.\n",
    "button.on_click(check_step_3)\n",
    "\n",
    "# Display the output.\n",
    "display(button, output3)"
   ]
  },
  {
   "cell_type": "markdown",
   "metadata": {
    "editable": true,
    "slideshow": {
     "slide_type": ""
    },
    "tags": []
   },
   "source": [
    "### Step 4: Short Answer\n",
    "\n",
    "The next step is a short answer question. Therefore, it cannot be auto-graded.\n",
    "\n",
    "<em>What does the ‘x’ bit allow you to do with directories?</em>\n",
    "\n",
    "Type your answer in the answer box below, and click \"Save Response\" to save your response to your submission."
   ]
  },
  {
   "cell_type": "code",
   "execution_count": 17,
   "metadata": {
    "editable": true,
    "jupyter": {
     "source_hidden": true
    },
    "slideshow": {
     "slide_type": ""
    },
    "tags": []
   },
   "outputs": [
    {
     "data": {
      "application/vnd.jupyter.widget-view+json": {
       "model_id": "d7f34d4d4f1544b59a022c8b9acf4966",
       "version_major": 2,
       "version_minor": 0
      },
      "text/plain": [
       "Output()"
      ]
     },
     "metadata": {},
     "output_type": "display_data"
    },
    {
     "data": {
      "application/vnd.jupyter.widget-view+json": {
       "model_id": "c01c4d54b8434d5c995712702202629e",
       "version_major": 2,
       "version_minor": 0
      },
      "text/plain": [
       "Textarea(value='Hello!', description='Response:', layout=Layout(height='150px', margin='10px', width='75%'), p…"
      ]
     },
     "metadata": {},
     "output_type": "display_data"
    },
    {
     "data": {
      "application/vnd.jupyter.widget-view+json": {
       "model_id": "f45728cfec644e31a35486c88034718d",
       "version_major": 2,
       "version_minor": 0
      },
      "text/plain": [
       "Button(description='Save Response', style=ButtonStyle())"
      ]
     },
     "metadata": {},
     "output_type": "display_data"
    },
    {
     "data": {
      "application/vnd.jupyter.widget-view+json": {
       "model_id": "e25cb1ba46174de7b826974507e3a031",
       "version_major": 2,
       "version_minor": 0
      },
      "text/plain": [
       "Output()"
      ]
     },
     "metadata": {},
     "output_type": "display_data"
    }
   ],
   "source": [
    "# Click the button below to check your work.\n",
    "step4Complete = False\n",
    "\n",
    "# Function to save the short answer.\n",
    "def step_4():\n",
    "    # Required to change boolean values.\n",
    "    global step4Complete\n",
    "\n",
    "    # Loading, in case saving is slow.\n",
    "    with output4:\n",
    "        output4.clear_output()\n",
    "        display(HTML(\"<span><img width='12px' height='12px' style='margin-left: 3px;' src='resources/loading.gif'></span>\"))\n",
    "\n",
    "    # Adding functionality here.\n",
    "    result = subprocess.run('ssh -o StrictHostKeyChecking=no -i /home/umdsectc/.ssh/merge_key umdsectc@posix \"echo \\\"' + userInput4.value + '\\\" > /home/.checker/responses/step_4_answer.txt\"', shell=True)\n",
    "\n",
    "    if (result.returncode == 1):\n",
    "        output4.clear_output()\n",
    "        with output4:\n",
    "            display(HTML(\"<span style='color: red;'>There was an error saving your response.</span>\"))\n",
    "            step4Complete = True\n",
    "\n",
    "    elif (result.returncode == 0):\n",
    "        output4.clear_output()\n",
    "        with output4:\n",
    "            display(HTML(\"<span style='color: green;'>Your response was saved.</span>\"))\n",
    "            step4Complete = False\n",
    "    \"\"\"\n",
    "    # Auto-save.\n",
    "    if (not runAllSteps):\n",
    "        trigger_save()\n",
    "    \"\"\"\n",
    "\n",
    "def check_step_4(b):\n",
    "    step_4()\n",
    "\n",
    "# Retrieve the student's response. First, create a loading spinner, since this could take a second or two.\n",
    "loading4 = widgets.Output()\n",
    "display(loading4)\n",
    "with loading4:\n",
    "    loading4.clear_output()\n",
    "    display(HTML(\"<span>Loading your saved response... <img width='12px' height='12px' style='margin-left: 3px;' src='resources/loading.gif'></span>\"))\n",
    "\n",
    "# Creating a text area. We will need to assign output of process to the value of this input.\n",
    "userInput4 = widgets.Textarea(\n",
    "    placeholder='Type your response here',\n",
    "    description='Response:',\n",
    "    layout=widgets.Layout(width='75%', height='150px', margin='10px')\n",
    ")\n",
    "\n",
    "# Checking if the step has been answered.\n",
    "result = subprocess.run('ssh -o StrictHostKeyChecking=no -i /home/umdsectc/.ssh/merge_key umdsectc@posix \"cat /home/.checker/responses/step_4_answer.txt 2> /dev/null\"', capture_output=True, text=True, shell=True)\n",
    "# Output creates a newline. Remove it.\n",
    "userInput4.value = result.stdout[:-1]\n",
    "\n",
    "# After the student's response was loaded, clear the output.\n",
    "loading4.clear_output()\n",
    "\n",
    "# Creating the feedback output area.\n",
    "output4 = widgets.Output()\n",
    "\n",
    "# Creating the button.\n",
    "button = widgets.Button(description=\"Save Response\")\n",
    "\n",
    "# Run the command on click.\n",
    "button.on_click(check_step_4)\n",
    "\n",
    "# Display the output.\n",
    "display(userInput4, button, output4)"
   ]
  },
  {
   "cell_type": "markdown",
   "metadata": {},
   "source": [
    "## <strong>Topic 2: Octal POSIX Permissions</strong>\n",
    "\n",
    "Now, you are ready to move onto the second topic, which is learning how to apply POSIX permissions using octal notation.\n",
    "\n",
    "Symbolic notation is easy to use since you can explicitly state what user(s) have which permissions. However, if you are drastically changing the permissions, you may need to use multiple ```chmod``` commands, otherwise your ```chmod``` can begin to appear cluttered. <em>Why?</em> Take a look at this example:\n",
    "\n",
    "```sudo chmod ug+rw,o-w+r,g+x``` will take the current permissions, add read/write privileges to the ```owner``` and ```group```, remove write permissions from ```other```, but give them read permissions, and give executable permissions to the group. However, the existing execution permissions for ```owner``` will remain unchanged, but with symbolic notation, you will not know what the current executable permissions are. ```owner``` may or may not have executable permissions, and we cannot tell based off of this command.\n",
    "\n",
    "Octal notation is useful when you have an exact set of permissions that you want to use for a certain file or directory. The way that you read permissions in octal format is the following:\n",
    "\n",
    "| Octal | Binary | Permissions |\n",
    "|-------|--------|-------------|\n",
    "| 0     | 000    | ---         |\n",
    "| 1     | 001    | --x         |\n",
    "| 2     | 010    | -w-         |\n",
    "| 3     | 011    | -wx         |\n",
    "| 4     | 100    | r--         |\n",
    "| 5     | 101    | r-x         |\n",
    "| 6     | 110    | rw-         |\n",
    "| 7     | 111    | rwx         |\n",
    "\n",
    "Notice that as a permission gets \"toggled on\", it displays a 1 in binary. Converting the number from binary to decimal is the octal representation of that user's permission. Since there are three users who can have permissions applied to them, there are three numbers that range from 0-7 in octal notation.\n",
    "\n",
    "Now, to show an example. Whenever a file is made, it's set to ```-rw-r--r--``` by default. The octal representation of this permission is ```644```. \n",
    "<u>A breakdown:</u>\n",
    "- ```owner```: ```rw-``` converts to ```110```, which is $2^2 + 2^1 + 0 = 4 + 2 + 0 = 6$\n",
    "- ```group```: ```r--``` converts to ```100```, which is $2^2 + 0 + 0 = 4 + 0 + 0 = 4$\n",
    "- ```other```: Same permissions as ```group```, which is $4$.\n",
    "- Final octal permissions: ```644```\n",
    "\n",
    "<center><strong>You may use a calculator below to calculate the octal notation of a given set of permissions.</strong></center>"
   ]
  },
  {
   "cell_type": "code",
   "execution_count": 8,
   "metadata": {
    "jupyter": {
     "source_hidden": true
    }
   },
   "outputs": [
    {
     "data": {
      "application/vnd.jupyter.widget-view+json": {
       "model_id": "a5b8cb07502f4ea49c4ff4c0089514a2",
       "version_major": 2,
       "version_minor": 0
      },
      "text/plain": [
       "HBox(children=(VBox(children=(Label(value='Owner'), Checkbox(value=False, description='Read'), Checkbox(value=…"
      ]
     },
     "metadata": {},
     "output_type": "display_data"
    },
    {
     "data": {
      "application/vnd.jupyter.widget-view+json": {
       "model_id": "75e219ebef9f4842be9e4ff48248bc33",
       "version_major": 2,
       "version_minor": 0
      },
      "text/plain": [
       "Label(value='Octal Notation: 000')"
      ]
     },
     "metadata": {},
     "output_type": "display_data"
    },
    {
     "data": {
      "application/vnd.jupyter.widget-view+json": {
       "model_id": "0fdf7abc8e3a4e44afc57338efdbccfd",
       "version_major": 2,
       "version_minor": 0
      },
      "text/plain": [
       "Label(value='Permission String: ---------')"
      ]
     },
     "metadata": {},
     "output_type": "display_data"
    }
   ],
   "source": [
    "# An interactive calculator for learning octal notation below.\n",
    "from ipywidgets import Layout, Button, VBox, Label\n",
    "\n",
    "# Function to update the octal and permission string.\n",
    "def update_permissions(change):\n",
    "    octal = 000\n",
    "    permission_string = \"\"\n",
    "    \n",
    "    if owner_read.value:\n",
    "        octal += 400\n",
    "        permission_string += \"r\"\n",
    "    else:\n",
    "        permission_string += \"-\"\n",
    "        \n",
    "    if owner_write.value:\n",
    "        octal += 200\n",
    "        permission_string += \"w\"\n",
    "    else:\n",
    "        permission_string += \"-\"\n",
    "        \n",
    "    if owner_execute.value:\n",
    "        octal += 100\n",
    "        permission_string += \"x\"\n",
    "    else:\n",
    "        permission_string += \"-\"\n",
    "    \n",
    "    if group_read.value:\n",
    "        octal += 40\n",
    "        permission_string += \"r\"\n",
    "    else:\n",
    "        permission_string += \"-\"\n",
    "        \n",
    "    if group_write.value:\n",
    "        octal += 20\n",
    "        permission_string += \"w\"\n",
    "    else:\n",
    "        permission_string += \"-\"\n",
    "        \n",
    "    if group_execute.value:\n",
    "        octal += 10\n",
    "        permission_string += \"x\"\n",
    "    else:\n",
    "        permission_string += \"-\"\n",
    "    \n",
    "    if others_read.value:\n",
    "        octal += 4\n",
    "        permission_string += \"r\"\n",
    "    else:\n",
    "        permission_string += \"-\"\n",
    "        \n",
    "    if others_write.value:\n",
    "        octal += 2\n",
    "        permission_string += \"w\"\n",
    "    else:\n",
    "        permission_string += \"-\"\n",
    "        \n",
    "    if others_execute.value:\n",
    "        octal += 1\n",
    "        permission_string += \"x\"\n",
    "    else:\n",
    "        permission_string += \"-\"\n",
    "\n",
    "    # Permissions done. Convert to string. Checking to see if it's only 1-2 digits long. If so, add padding to make it three digits.\n",
    "    if (len(str(octal)) == 1):\n",
    "        octal = \"00\" + str(octal)\n",
    "\n",
    "    elif (len(str(octal)) == 2):\n",
    "        octal = \"0\" + str(octal)\n",
    "\n",
    "    elif (octal == 0):\n",
    "        octal = str(\"000\")\n",
    "    \n",
    "    octal_label.value = f\"Octal Notation: {octal}\"\n",
    "    permission_label.value = f\"Permission String: {permission_string}\"\n",
    "\n",
    "# Create widgets.\n",
    "owner_read = widgets.Checkbox(value=False, description='Owner Read')\n",
    "owner_write = widgets.Checkbox(value=False, description='Owner Write')\n",
    "owner_execute = widgets.Checkbox(value=False, description='Owner Execute')\n",
    "\n",
    "group_read = widgets.Checkbox(value=False, description='Group Read')\n",
    "group_write = widgets.Checkbox(value=False, description='Group Write')\n",
    "group_execute = widgets.Checkbox(value=False, description='Group Execute')\n",
    "\n",
    "others_read = widgets.Checkbox(value=False, description='Others Read')\n",
    "others_write = widgets.Checkbox(value=False, description='Others Write')\n",
    "others_execute = widgets.Checkbox(value=False, description='Others Execute')\n",
    "\n",
    "octal_label = widgets.Label(value=\"Octal Notation: 0\")\n",
    "permission_label = widgets.Label(value=\"Permissions: ---------\")\n",
    "\n",
    "# Create widgets\n",
    "owner_read = widgets.Checkbox(value=False, description='Read')\n",
    "owner_write = widgets.Checkbox(value=False, description='Write')\n",
    "owner_execute = widgets.Checkbox(value=False, description='Execute')\n",
    "\n",
    "group_read = widgets.Checkbox(value=False, description='Read')\n",
    "group_write = widgets.Checkbox(value=False, description='Write')\n",
    "group_execute = widgets.Checkbox(value=False, description='Execute')\n",
    "\n",
    "others_read = widgets.Checkbox(value=False, description='Read')\n",
    "others_write = widgets.Checkbox(value=False, description='Write')\n",
    "others_execute = widgets.Checkbox(value=False, description='Execute')\n",
    "\n",
    "octal_label = widgets.Label(value=\"Octal Notation: 000\")\n",
    "permission_label = widgets.Label(value=\"Permission String: ---------\")\n",
    "\n",
    "# Add observers to widgets\n",
    "owner_read.observe(update_permissions, 'value')\n",
    "owner_write.observe(update_permissions, 'value')\n",
    "owner_execute.observe(update_permissions, 'value')\n",
    "\n",
    "group_read.observe(update_permissions, 'value')\n",
    "group_write.observe(update_permissions, 'value')\n",
    "group_execute.observe(update_permissions, 'value')\n",
    "\n",
    "others_read.observe(update_permissions, 'value')\n",
    "others_write.observe(update_permissions, 'value')\n",
    "others_execute.observe(update_permissions, 'value')\n",
    "\n",
    "# Create columns for each user category\n",
    "owner_column = widgets.VBox(\n",
    "    [widgets.Label(value=\"Owner\"), owner_read, owner_write, owner_execute],\n",
    "    layout=widgets.Layout(overflow='hidden')\n",
    ")\n",
    "group_column = widgets.VBox(\n",
    "    [widgets.Label(value=\"Group\"), group_read, group_write, group_execute],\n",
    "    layout=widgets.Layout(overflow='hidden')\n",
    ")\n",
    "others_column = widgets.VBox(\n",
    "    [widgets.Label(value=\"Others\"), others_read, others_write, others_execute],\n",
    "    layout=widgets.Layout(overflow='hidden')\n",
    ")\n",
    "\n",
    "# Arrange the columns in a single row\n",
    "permissions_table = widgets.HBox([owner_column, group_column, others_column])\n",
    "\n",
    "# Display table and labels\n",
    "display(permissions_table, octal_label, permission_label)"
   ]
  },
  {
   "cell_type": "markdown",
   "metadata": {},
   "source": [
    "### Step 5: Calculate Octal Permissions of ```q1.txt```\n",
    "\n",
    "What is the octal representation of ```q1.txt``` that you previously set symbolically? Just use the three numbers for your response.\n",
    "\n",
    "<u>You're encouraged to try answering this exercise without the calculator!</u> "
   ]
  },
  {
   "cell_type": "code",
   "execution_count": 9,
   "metadata": {
    "editable": true,
    "jupyter": {
     "source_hidden": true
    },
    "slideshow": {
     "slide_type": ""
    },
    "tags": []
   },
   "outputs": [
    {
     "data": {
      "application/vnd.jupyter.widget-view+json": {
       "model_id": "70bdbe54c10e4dcfb115d5782674d0b4",
       "version_major": 2,
       "version_minor": 0
      },
      "text/plain": [
       "Output()"
      ]
     },
     "metadata": {},
     "output_type": "display_data"
    },
    {
     "data": {
      "application/vnd.jupyter.widget-view+json": {
       "model_id": "34b4a2957e8147b883edcb30ca8ae823",
       "version_major": 2,
       "version_minor": 0
      },
      "text/plain": [
       "Text(value='755', description='Octal:', placeholder='Type the octal value')"
      ]
     },
     "metadata": {},
     "output_type": "display_data"
    },
    {
     "data": {
      "application/vnd.jupyter.widget-view+json": {
       "model_id": "0296a3fe01a641a594fbbf63821a203b",
       "version_major": 2,
       "version_minor": 0
      },
      "text/plain": [
       "Button(description='Check Permissions', style=ButtonStyle())"
      ]
     },
     "metadata": {},
     "output_type": "display_data"
    },
    {
     "data": {
      "application/vnd.jupyter.widget-view+json": {
       "model_id": "aa711d0b01594811b9df58370cd28a05",
       "version_major": 2,
       "version_minor": 0
      },
      "text/plain": [
       "Output()"
      ]
     },
     "metadata": {},
     "output_type": "display_data"
    }
   ],
   "source": [
    "# Click the button below to check your work.\n",
    "step5Complete = False\n",
    "\n",
    "# Function to check if the student's answer was correct.\n",
    "def step_5():\n",
    "    # Required to change boolean values.\n",
    "    global step1Complete, step2Complete, step3Complete, step5Complete\n",
    "\n",
    "    # Loading, in case the check is slow.\n",
    "    with output5:\n",
    "        output5.clear_output()\n",
    "        display(HTML(\"<span><img width='12px' height='12px' style='margin-left: 3px;' src='resources/loading.gif'></span>\"))\n",
    "\n",
    "    # First, we need to see if the previous step(s) were completed.\n",
    "    if (not step1Complete and not step2Complete and not step3Complete):\n",
    "        output5.clear_output()\n",
    "        with output5:\n",
    "            display(HTML(\"<span style='color: red;'>You must complete Steps 1-3 before attempting this question.</span>\"))\n",
    "            step5Complete = False\n",
    "\n",
    "    # Next, check to make sure that the input is valid:\n",
    "    elif (len(str(userInput5.value)) != 3 or not userInput5.value.isnumeric()):\n",
    "        output5.clear_output()\n",
    "        with output5:\n",
    "            display(HTML(\"<span style='color: red;'>Double check your octal permissions. It should be three numbers.</span>\"))\n",
    "            step5Complete = False\n",
    "\n",
    "    # Input is valid.\n",
    "    else:\n",
    "        # Now, run the command.\n",
    "        result = subprocess.run('ssh -i /home/umdsectc/.ssh/merge_key umdsectc@posix /home/.checker/section_2.py 5 ' + userInput5.value, shell=True, stdout=subprocess.DEVNULL)\n",
    "        \n",
    "        if (result.returncode == 1):\n",
    "            output5.clear_output()\n",
    "            with output5:\n",
    "                display(HTML(\"<span style='color: green;'>Your octal value is correct!</span>\"))\n",
    "                step5Complete = True\n",
    "    \n",
    "        elif (result.returncode == 0):\n",
    "            output5.clear_output()\n",
    "            with output5:\n",
    "                display(HTML(\"<span style='color: red;'>Double check your octal value.</span>\"))\n",
    "                step5Complete = False\n",
    "    \n",
    "        elif (result.returncode == 2):\n",
    "            output5.clear_output()\n",
    "            with output5:\n",
    "                display(HTML(\"<span style='color: red;'>There was an error. Check to make sure that q*.txt files exist in ~/posix_practice.</span>\"))\n",
    "                step5Complete = False\n",
    "\n",
    "def check_step_5(b):\n",
    "    step_5()\n",
    "\n",
    "    \"\"\"\n",
    "    # Auto-save.\n",
    "    if (not runAllSteps):\n",
    "        trigger_save()\n",
    "    \"\"\"\n",
    "\n",
    "# Retrieve the student's response. First, create a loading spinner, since this could take a second or two.\n",
    "loading5 = widgets.Output()\n",
    "display(loading5)\n",
    "with loading5:\n",
    "    loading5.clear_output()\n",
    "    display(HTML(\"<span>Loading your saved response... <img width='12px' height='12px' style='margin-left: 3px;' src='resources/loading.gif'></span>\"))\n",
    "\n",
    "# Creating a text area.\n",
    "userInput5 = widgets.Text(\n",
    "    placeholder='Type the octal value',\n",
    "    description='Octal:',\n",
    ")\n",
    "\n",
    "# Checking if the step has been answered.\n",
    "result = subprocess.run('ssh -o StrictHostKeyChecking=no -i /home/umdsectc/.ssh/merge_key umdsectc@posix \"cat /home/.checker/responses/step_5_answer.txt 2> /dev/null\"', capture_output=True, text=True, shell=True)\n",
    "userInput5.value = result.stdout\n",
    "\n",
    "# After the student's response was loaded, clear the output.\n",
    "loading5.clear_output()\n",
    "\n",
    "# Creating the button.\n",
    "button = widgets.Button(description=\"Check Permissions\")\n",
    "\n",
    "# Creating an output area.\n",
    "output5 = widgets.Output()\n",
    "\n",
    "# Run the command on click.\n",
    "button.on_click(check_step_5)\n",
    "\n",
    "# Display the output.\n",
    "display(userInput5, button, output5)"
   ]
  },
  {
   "cell_type": "markdown",
   "metadata": {},
   "source": [
    "### Step 6: Calculate Octal Permissions of ```q2.txt```\n",
    "\n",
    "What is the octal representation of ```q2.txt``` that you previously set symbolically? Just use the three numbers for your response.\n",
    "\n",
    "<u>You're encouraged to try answering this exercise without the calculator!</u> "
   ]
  },
  {
   "cell_type": "code",
   "execution_count": 10,
   "metadata": {
    "editable": true,
    "jupyter": {
     "source_hidden": true
    },
    "slideshow": {
     "slide_type": ""
    },
    "tags": []
   },
   "outputs": [
    {
     "data": {
      "application/vnd.jupyter.widget-view+json": {
       "model_id": "058748504e56410ca5a15391fcb7fd03",
       "version_major": 2,
       "version_minor": 0
      },
      "text/plain": [
       "Output()"
      ]
     },
     "metadata": {},
     "output_type": "display_data"
    },
    {
     "data": {
      "application/vnd.jupyter.widget-view+json": {
       "model_id": "9294b25df8a0442093ff4781ab0de7f1",
       "version_major": 2,
       "version_minor": 0
      },
      "text/plain": [
       "Text(value='744', description='Octal:', placeholder='Type the octal value')"
      ]
     },
     "metadata": {},
     "output_type": "display_data"
    },
    {
     "data": {
      "application/vnd.jupyter.widget-view+json": {
       "model_id": "605b9e65decb42689e66507b10129aca",
       "version_major": 2,
       "version_minor": 0
      },
      "text/plain": [
       "Button(description='Check Permissions', style=ButtonStyle())"
      ]
     },
     "metadata": {},
     "output_type": "display_data"
    },
    {
     "data": {
      "application/vnd.jupyter.widget-view+json": {
       "model_id": "475852ad2e39479fb5773aa14f6429ce",
       "version_major": 2,
       "version_minor": 0
      },
      "text/plain": [
       "Output()"
      ]
     },
     "metadata": {},
     "output_type": "display_data"
    }
   ],
   "source": [
    "# Click the button below to check your work.\n",
    "step6Complete = False\n",
    "\n",
    "# Function to check if the student's answer was correct.\n",
    "def step_6():\n",
    "    # Required to change boolean values.\n",
    "    global step1Complete, step2Complete, step3Complete, step6Complete\n",
    "\n",
    "    # Loading, in case the check is slow.\n",
    "    with output6:\n",
    "        output6.clear_output()\n",
    "        display(HTML(\"<span><img width='12px' height='12px' style='margin-left: 3px;' src='resources/loading.gif'></span>\"))\n",
    "\n",
    "    # First, we need to see if the previous step(s) were completed.\n",
    "    if (not step1Complete and not step2Complete and not step3Complete):\n",
    "        output6.clear_output()\n",
    "        with output6:\n",
    "            display(HTML(\"<span style='color: red;'>You must complete Steps 1-3 before attempting this question.</span>\"))\n",
    "            step6Complete = False\n",
    "\n",
    "    # Next, check to make sure that the input is valid:\n",
    "    elif (len(str(userInput6.value)) != 3 or not userInput6.value.isnumeric()):\n",
    "        output6.clear_output()\n",
    "        with output6:\n",
    "            display(HTML(\"<span style='color: red;'>Double check your octal permissions. It should be three numbers.</span>\"))\n",
    "            step6Complete = False\n",
    "\n",
    "    # Input is valid.\n",
    "    else:\n",
    "        # Now, run the command.\n",
    "        result = subprocess.run('ssh -i /home/umdsectc/.ssh/merge_key umdsectc@posix /home/.checker/section_2.py 6 ' + userInput6.value, shell=True, stdout=subprocess.DEVNULL)\n",
    "        \n",
    "        if (result.returncode == 1):\n",
    "            output6.clear_output()\n",
    "            with output6:\n",
    "                display(HTML(\"<span style='color: green;'>Your octal value is correct!</span>\"))\n",
    "                step6Complete = True\n",
    "    \n",
    "        elif (result.returncode == 0):\n",
    "            output6.clear_output()\n",
    "            with output6:\n",
    "                display(HTML(\"<span style='color: red;'>Double check your octal value.</span>\"))\n",
    "                step6Complete = False\n",
    "    \n",
    "        elif (result.returncode == 2):\n",
    "            output6.clear_output()\n",
    "            with output6:\n",
    "                display(HTML(\"<span style='color: red;'>There was an error. Check to make sure that q*.txt files exist in ~/posix_practice.</span>\"))\n",
    "                step6Complete = False\n",
    "\n",
    "def check_step_6(b):\n",
    "    step_6()\n",
    "\n",
    "    \"\"\"\n",
    "    # Auto-save.\n",
    "    if (not runAllSteps):\n",
    "        trigger_save()\n",
    "    \"\"\"\n",
    "\n",
    "# Retrieve the student's response. First, create a loading spinner, since this could take a second or two.\n",
    "loading6 = widgets.Output()\n",
    "display(loading6)\n",
    "with loading6:\n",
    "    loading6.clear_output()\n",
    "    display(HTML(\"<span>Loading your saved response... <img width='12px' height='12px' style='margin-left: 3px;' src='resources/loading.gif'></span>\"))\n",
    "\n",
    "# Creating a text area.\n",
    "userInput6 = widgets.Text(\n",
    "    placeholder='Type the octal value',\n",
    "    description='Octal:',\n",
    ")\n",
    "\n",
    "# Checking if the step has been answered.\n",
    "result = subprocess.run('ssh -o StrictHostKeyChecking=no -i /home/umdsectc/.ssh/merge_key umdsectc@posix \"cat /home/.checker/responses/step_6_answer.txt 2> /dev/null\"', capture_output=True, text=True, shell=True)\n",
    "userInput6.value = result.stdout\n",
    "\n",
    "# After the student's response was loaded, clear the output.\n",
    "loading6.clear_output()\n",
    "\n",
    "# Creating the button.\n",
    "button = widgets.Button(description=\"Check Permissions\")\n",
    "\n",
    "# Creating an output area.\n",
    "output6 = widgets.Output()\n",
    "\n",
    "# Run the command on click.\n",
    "button.on_click(check_step_6)\n",
    "\n",
    "# Display the output.\n",
    "display(userInput6, button, output6)"
   ]
  },
  {
   "cell_type": "markdown",
   "metadata": {
    "editable": true,
    "slideshow": {
     "slide_type": ""
    },
    "tags": []
   },
   "source": [
    "### Step 7: Calculate Octal Permissions of ```q3.txt```\n",
    "\n",
    "What is the octal representation of ```q3.txt``` that you previously set symbolically? Just use the three numbers for your response.\n",
    "\n",
    "<u>You're encouraged to try answering this exercise without the calculator!</u> "
   ]
  },
  {
   "cell_type": "code",
   "execution_count": 11,
   "metadata": {
    "jupyter": {
     "source_hidden": true
    }
   },
   "outputs": [
    {
     "data": {
      "application/vnd.jupyter.widget-view+json": {
       "model_id": "dffafd418ca940c988cf199f60eb2419",
       "version_major": 2,
       "version_minor": 0
      },
      "text/plain": [
       "Output()"
      ]
     },
     "metadata": {},
     "output_type": "display_data"
    },
    {
     "data": {
      "application/vnd.jupyter.widget-view+json": {
       "model_id": "ceea1ce3af204d2dbbe08b140ecbad08",
       "version_major": 2,
       "version_minor": 0
      },
      "text/plain": [
       "Text(value='615', description='Octal:', placeholder='Type the octal value')"
      ]
     },
     "metadata": {},
     "output_type": "display_data"
    },
    {
     "data": {
      "application/vnd.jupyter.widget-view+json": {
       "model_id": "7efab53f7c834a28b6ac54c3d3adc561",
       "version_major": 2,
       "version_minor": 0
      },
      "text/plain": [
       "Button(description='Check Permissions', style=ButtonStyle())"
      ]
     },
     "metadata": {},
     "output_type": "display_data"
    },
    {
     "data": {
      "application/vnd.jupyter.widget-view+json": {
       "model_id": "cf77278f2fbe44189b9622cb2a297f2d",
       "version_major": 2,
       "version_minor": 0
      },
      "text/plain": [
       "Output()"
      ]
     },
     "metadata": {},
     "output_type": "display_data"
    }
   ],
   "source": [
    "# Click the button below to check your work.\n",
    "step7Complete = False\n",
    "\n",
    "# Function to check if the student's answer was correct.\n",
    "def step_7():\n",
    "    # Required to change boolean values.\n",
    "    global step1Complete, step2Complete, step3Complete, step7Complete\n",
    "\n",
    "    # Loading, in case the check is slow.\n",
    "    with output7:\n",
    "        output7.clear_output()\n",
    "        display(HTML(\"<span><img width='12px' height='12px' style='margin-left: 3px;' src='resources/loading.gif'></span>\"))\n",
    "\n",
    "    # First, we need to see if the previous step(s) were completed.\n",
    "    if (not step1Complete and not step2Complete and not step3Complete):\n",
    "        output7.clear_output()\n",
    "        with output7:\n",
    "            display(HTML(\"<span style='color: red;'>You must complete Steps 1-3 before attempting this question.</span>\"))\n",
    "            step7Complete = False\n",
    "\n",
    "    # Next, check to make sure that the input is valid:\n",
    "    elif (len(str(userInput7.value)) != 3 or not userInput7.value.isnumeric()):\n",
    "        output7.clear_output()\n",
    "        with output7:\n",
    "            display(HTML(\"<span style='color: red;'>Double check your octal permissions. It should be three numbers.</span>\"))\n",
    "            step7Complete = False\n",
    "\n",
    "    # Input is valid.\n",
    "    else:\n",
    "        # Now, run the command.\n",
    "        result = subprocess.run('ssh -i /home/umdsectc/.ssh/merge_key umdsectc@posix /home/.checker/section_2.py 7 ' + userInput7.value, shell=True, stdout=subprocess.DEVNULL)\n",
    "        \n",
    "        if (result.returncode == 1):\n",
    "            output7.clear_output()\n",
    "            with output7:\n",
    "                display(HTML(\"<span style='color: green;'>Your octal value is correct!</span>\"))\n",
    "                step7Complete = True\n",
    "    \n",
    "        elif (result.returncode == 0):\n",
    "            output7.clear_output()\n",
    "            with output7:\n",
    "                display(HTML(\"<span style='color: red;'>Double check your octal value.</span>\"))\n",
    "                step7Complete = False\n",
    "    \n",
    "        elif (result.returncode == 2):\n",
    "            output7.clear_output()\n",
    "            with output7:\n",
    "                display(HTML(\"<span style='color: red;'>There was an error. Check to make sure that q*.txt files exist in ~/posix_practice.</span>\"))\n",
    "                step7Complete = False\n",
    "\n",
    "def check_step_7(b):\n",
    "    step_7()\n",
    "\n",
    "    \"\"\"\n",
    "    # Auto-save.\n",
    "    if (not runAllSteps):\n",
    "        trigger_save()\n",
    "    \"\"\"\n",
    "\n",
    "# Retrieve the student's response. First, create a loading spinner, since this could take a second or two.\n",
    "loading7 = widgets.Output()\n",
    "display(loading7)\n",
    "with loading7:\n",
    "    loading7.clear_output()\n",
    "    display(HTML(\"<span>Loading your saved response... <img width='12px' height='12px' style='margin-left: 3px;' src='resources/loading.gif'></span>\"))\n",
    "\n",
    "# Creating a text area.\n",
    "userInput7 = widgets.Text(\n",
    "    placeholder='Type the octal value',\n",
    "    description='Octal:',\n",
    ")\n",
    "\n",
    "# Checking if the step has been answered.\n",
    "result = subprocess.run('ssh -o StrictHostKeyChecking=no -i /home/umdsectc/.ssh/merge_key umdsectc@posix \"cat /home/.checker/responses/step_7_answer.txt 2> /dev/null\"', capture_output=True, text=True, shell=True)\n",
    "userInput7.value = result.stdout\n",
    "\n",
    "# After the student's response was loaded, clear the output.\n",
    "loading7.clear_output()\n",
    "\n",
    "# Creating the button.\n",
    "button = widgets.Button(description=\"Check Permissions\")\n",
    "\n",
    "# Creating an output area.\n",
    "output7 = widgets.Output()\n",
    "\n",
    "# Run the command on click.\n",
    "button.on_click(check_step_7)\n",
    "\n",
    "# Display the output.\n",
    "display(userInput7, button, output7)"
   ]
  },
  {
   "cell_type": "markdown",
   "metadata": {},
   "source": [
    "## <strong>Topic 3: Special POSIX Permissions</strong>\n",
    "\n",
    "Next, you are going to experiment with special permissions. There are three types of special permissions that are used in Unix, with special cases to them. They are called the <strong>Set User ID (SUID)</strong> bit, the <strong>Set Group ID (SGID)</strong> bit, and the <strong>\"sticky bit\"</strong>.\n",
    "\n",
    "The <strong>SUID</strong> bit on an executable file means that the file will run as the User ID of the file's owner as opposed to the User ID of the user executing the file. This is done to allow users to perform tasks that temporarily require the user to be someone else, such as changing passwords or restarting a service. Any program with the UID bit set must be carefully written so as to block all misuse. Innumerable vulnerabilities have stemmed from <strong>SUID</strong> root programs with security holes that allowed users to execute other commands as root.\n",
    "\n",
    "The <strong>SGID</strong> bit on an executable file is like the <strong>SUID</strong> bit, except that the process gains the effective user of the file's group, not its owner or the user executing the file.\n",
    "\n",
    "The <strong>\"sticky bit\"</strong> is a permission that's set on directories. It prevents anyone from being able to delete the directory, unless you're the owner itself. \n",
    "\n",
    "<em>Side Note: The \"sticky bit\" was used in the olden days to tell the kernel to keep an executable's image in memory so that it would not have to be reloaded from disk. This was commonly done with programs such as editors that were used regularly but had a significant load time. Modern systems use the \"sticky bit\" for other uses.</em>\n",
    "\n",
    "There are different ways to apply these special permissions by using ```chmod```.\n",
    "\n",
    "- Symbolic:\n",
    "  - user + s(pecial): ```sudo chmod u+s file```\n",
    "  - group + s(pecial): ```sudo chmod g+s file```\n",
    "  - other + (s)t(icky): ```sudo chmod o+t dir```\n",
    "- Octal: When applying the special permissions, your octal representation will change from 3-digits to 4-digits. The first digit is the special permission, and the last three digits are your standard permissions.\n",
    "  - SUID: 4\n",
    "  - SGID: 2\n",
    "  - Sticky bit: 1\n",
    "    - Example with applying the SGID: ```sudo chmod 2674 file```\n",
    "   \n",
    "Special permissions override the executable bit. When you apply the <strong>SUID</strong> bit, the permissions may look like the following: ```-rwsrw-rw-```. Since the special permission overrides the executable bit (in terms of display), an uppercase letter may be used to show that the special permission is applied <u>and</u> the file is executable by the owner. The example that was just shown indicates that the owner does not have executable permissions. To add executable permissions, the permissions will appear as: ```-rwSrw-rw-```."
   ]
  },
  {
   "cell_type": "markdown",
   "metadata": {
    "editable": true,
    "slideshow": {
     "slide_type": ""
    },
    "tags": []
   },
   "source": [
    "### Step 8: Locating a Sticky Bit\n",
    "\n",
    "Navigate to the top of the directory, which is the ```/``` directory. List the contents of it. Which directory contains the sticky bit? Type the folder name or the absolute path of it. (Fill in the blank)"
   ]
  },
  {
   "cell_type": "code",
   "execution_count": 12,
   "metadata": {
    "jupyter": {
     "source_hidden": true
    }
   },
   "outputs": [
    {
     "data": {
      "application/vnd.jupyter.widget-view+json": {
       "model_id": "01ba795758be49cab2fe2350b53f88b4",
       "version_major": 2,
       "version_minor": 0
      },
      "text/plain": [
       "Output()"
      ]
     },
     "metadata": {},
     "output_type": "display_data"
    },
    {
     "data": {
      "application/vnd.jupyter.widget-view+json": {
       "model_id": "ca6be88e62bd4a069c7b4874b897097b",
       "version_major": 2,
       "version_minor": 0
      },
      "text/plain": [
       "Text(value='tmp', description='Directory:', placeholder='Type the directory here')"
      ]
     },
     "metadata": {},
     "output_type": "display_data"
    },
    {
     "data": {
      "application/vnd.jupyter.widget-view+json": {
       "model_id": "27ef14c3b6294fa098a35ccde00b5c82",
       "version_major": 2,
       "version_minor": 0
      },
      "text/plain": [
       "Button(description='Check Permissions', style=ButtonStyle())"
      ]
     },
     "metadata": {},
     "output_type": "display_data"
    },
    {
     "data": {
      "application/vnd.jupyter.widget-view+json": {
       "model_id": "503887a9f5494bebae42adfed4ae1109",
       "version_major": 2,
       "version_minor": 0
      },
      "text/plain": [
       "Output()"
      ]
     },
     "metadata": {},
     "output_type": "display_data"
    }
   ],
   "source": [
    "# Click the button below to check your work.\n",
    "step8Complete = False\n",
    "\n",
    "# Function to check if the student's answer was correct.\n",
    "def step_8():\n",
    "    # Required to change boolean values.\n",
    "    global step8Complete\n",
    "\n",
    "    # Loading, in case the check is slow.\n",
    "    with output8:\n",
    "        output8.clear_output()\n",
    "        display(HTML(\"<span><img width='12px' height='12px' style='margin-left: 3px;' src='resources/loading.gif'></span>\"))\n",
    "\n",
    "    # Run the command.\n",
    "    result = subprocess.run('ssh -i /home/umdsectc/.ssh/merge_key umdsectc@posix /home/.checker/section_3.py 8 ' + userInput8.value, shell=True, stdout=subprocess.DEVNULL)\n",
    "    \n",
    "    if (result.returncode == 1):\n",
    "        output8.clear_output()\n",
    "        with output8:\n",
    "            display(HTML(\"<span style='color: green;'>Correct! You will need to use your solution to answer the next step.</span>\"))\n",
    "            step8Complete = True\n",
    "\n",
    "    elif (result.returncode == 0):\n",
    "        output8.clear_output()\n",
    "        with output8:\n",
    "            display(HTML(\"<span style='color: red;'>Double-check your answer.</span>\"))\n",
    "            step8Complete = False\n",
    "\n",
    "    elif (result.returncode == 2):\n",
    "        output8.clear_output()\n",
    "        with output8:\n",
    "            display(HTML(\"<span style='color: red;'>There was an error. Check to make sure that q*.txt files exist in ~/posix_practice.</span>\"))\n",
    "            step8Complete = False\n",
    "\n",
    "def check_step_8(b):\n",
    "    step_8()\n",
    "\n",
    "    \"\"\"\n",
    "    # Auto-save.\n",
    "    if (not runAllSteps):\n",
    "        trigger_save()\n",
    "    \"\"\"\n",
    "\n",
    "# Retrieve the student's response. First, create a loading spinner, since this could take a second or two.\n",
    "loading8 = widgets.Output()\n",
    "display(loading8)\n",
    "with loading8:\n",
    "    loading8.clear_output()\n",
    "    display(HTML(\"<span>Loading your saved response... <img width='12px' height='12px' style='margin-left: 3px;' src='resources/loading.gif'></span>\"))\n",
    "\n",
    "# Creating a text area.\n",
    "userInput8 = widgets.Text(\n",
    "    placeholder='Type the directory here',\n",
    "    description='Directory:',\n",
    ")\n",
    "\n",
    "# Checking if the step has been answered.\n",
    "result = subprocess.run('ssh -o StrictHostKeyChecking=no -i /home/umdsectc/.ssh/merge_key umdsectc@posix \"cat /home/.checker/responses/step_8_answer.txt 2> /dev/null\"', capture_output=True, text=True, shell=True)\n",
    "userInput8.value = result.stdout\n",
    "\n",
    "# After the student's response was loaded, clear the output.\n",
    "loading8.clear_output()\n",
    "\n",
    "# Creating the button.\n",
    "button = widgets.Button(description=\"Check Permissions\")\n",
    "\n",
    "# Creating an output area.\n",
    "output8 = widgets.Output()\n",
    "\n",
    "# Run the command on click.\n",
    "button.on_click(check_step_8)\n",
    "\n",
    "# Display the output.\n",
    "display(userInput8, button, output8)"
   ]
  },
  {
   "cell_type": "markdown",
   "metadata": {},
   "source": [
    "### Step 9: Explain Your Reasoning\n",
    "\n",
    "The next step is a short answer question. Therefore, it cannot be auto-graded.\n",
    "\n",
    "<em>Why is there a sticky bit specifically on the directory that you previously answered?</em>\n",
    "\n",
    "Type your answer in the answer box below, and click \"Save\" to save your response to your submission. (Will add this later.)"
   ]
  },
  {
   "cell_type": "code",
   "execution_count": 13,
   "metadata": {
    "jupyter": {
     "source_hidden": true
    }
   },
   "outputs": [
    {
     "data": {
      "application/vnd.jupyter.widget-view+json": {
       "model_id": "267ed8581916469da80e9dec62e48c25",
       "version_major": 2,
       "version_minor": 0
      },
      "text/plain": [
       "Output()"
      ]
     },
     "metadata": {},
     "output_type": "display_data"
    },
    {
     "data": {
      "application/vnd.jupyter.widget-view+json": {
       "model_id": "b7c158c14e0044b4b2f1802fad820d90",
       "version_major": 2,
       "version_minor": 0
      },
      "text/plain": [
       "Textarea(value='asdf', description='Response:', layout=Layout(height='150px', margin='10px', width='75%'), pla…"
      ]
     },
     "metadata": {},
     "output_type": "display_data"
    },
    {
     "data": {
      "application/vnd.jupyter.widget-view+json": {
       "model_id": "43327b60447c4e0089ce97f00717635c",
       "version_major": 2,
       "version_minor": 0
      },
      "text/plain": [
       "Button(description='Check Permissions', style=ButtonStyle())"
      ]
     },
     "metadata": {},
     "output_type": "display_data"
    },
    {
     "data": {
      "application/vnd.jupyter.widget-view+json": {
       "model_id": "2b279aad54c844d0b3d841756f06fd5a",
       "version_major": 2,
       "version_minor": 0
      },
      "text/plain": [
       "Output()"
      ]
     },
     "metadata": {},
     "output_type": "display_data"
    }
   ],
   "source": [
    "# Click the button below to check your work.\n",
    "step9Complete = False\n",
    "\n",
    "# Function to save the short answer.\n",
    "def step_9():\n",
    "    # Required to change boolean values.\n",
    "    global step9Complete\n",
    "\n",
    "    # Loading, in case saving is slow.\n",
    "    with output9:\n",
    "        output9.clear_output()\n",
    "        display(HTML(\"<span><img width='12px' height='12px' style='margin-left: 3px;' src='resources/loading.gif'></span>\"))\n",
    "\n",
    "    # Adding functionality here.\n",
    "    result = subprocess.run('ssh -o StrictHostKeyChecking=no -i /home/umdsectc/.ssh/merge_key umdsectc@posix \"echo \\\"' + userInput9.value + '\\\" > /home/.checker/responses/step_9_answer.txt\"', shell=True)\n",
    "\n",
    "    if (result.returncode == 1):\n",
    "        output9.clear_output()\n",
    "        with output9:\n",
    "            display(HTML(\"<span style='color: red;'>There was an error saving your response.</span>\"))\n",
    "            step9Complete = True\n",
    "\n",
    "    elif (result.returncode == 0):\n",
    "        output9.clear_output()\n",
    "        with output9:\n",
    "            display(HTML(\"<span style='color: green;'>Your response was saved.</span>\"))\n",
    "            step9Complete = False\n",
    "    \"\"\"\n",
    "    # Auto-save.\n",
    "    if (not runAllSteps):\n",
    "        trigger_save()\n",
    "    \"\"\"\n",
    "\n",
    "def check_step_9(b):\n",
    "    step_9()\n",
    "\n",
    "# Retrieve the student's response. First, create a loading spinner, since this could take a second or two.\n",
    "loading9 = widgets.Output()\n",
    "display(loading9)\n",
    "with loading9:\n",
    "    loading9.clear_output()\n",
    "    display(HTML(\"<span>Loading your saved response... <img width='12px' height='12px' style='margin-left: 3px;' src='resources/loading.gif'></span>\"))\n",
    "\n",
    "# Creating a text area.\n",
    "userInput9 = widgets.Textarea(\n",
    "    placeholder='Type your response here',\n",
    "    description='Response:',\n",
    "    layout=widgets.Layout(width='75%', height='150px', margin='10px')\n",
    ")\n",
    "\n",
    "# Checking if the step has been answered.\n",
    "result = subprocess.run('ssh -o StrictHostKeyChecking=no -i /home/umdsectc/.ssh/merge_key umdsectc@posix \"cat /home/.checker/responses/step_9_answer.txt 2> /dev/null\"', capture_output=True, text=True, shell=True)\n",
    "# Output creates a newline. Remove it.\n",
    "userInput9.value = result.stdout[:-1]\n",
    "\n",
    "# After the student's response was loaded, clear the output.\n",
    "loading9.clear_output()\n",
    "\n",
    "# Creating the button.\n",
    "button = widgets.Button(description=\"Check Permissions\")\n",
    "\n",
    "# Creating an output area.\n",
    "output9 = widgets.Output()\n",
    "\n",
    "# Run the command on click.\n",
    "button.on_click(check_step_9)\n",
    "\n",
    "# Display the output.\n",
    "display(userInput9, button, output9)"
   ]
  },
  {
   "cell_type": "markdown",
   "metadata": {},
   "source": [
    "### Step 10: Applying the Special Permissions\n",
    "\n",
    "Inside of your home folder, there is a directory that's called ```special_permissions/```. This directory contains three files, ```suid.sh```, ```sgid.sh```, and ```sticky/```. Practice applying the SUID, SGID, and sticky bit to the appropriate files and directory."
   ]
  },
  {
   "cell_type": "code",
   "execution_count": 14,
   "metadata": {
    "jupyter": {
     "source_hidden": true
    }
   },
   "outputs": [
    {
     "data": {
      "application/vnd.jupyter.widget-view+json": {
       "model_id": "aae60eee3e124b3ea4ac4de7c7853fc1",
       "version_major": 2,
       "version_minor": 0
      },
      "text/plain": [
       "Button(description='Check Permissions', style=ButtonStyle())"
      ]
     },
     "metadata": {},
     "output_type": "display_data"
    },
    {
     "data": {
      "application/vnd.jupyter.widget-view+json": {
       "model_id": "f1c8260a0a4c44cea78782bd81e8fe81",
       "version_major": 2,
       "version_minor": 0
      },
      "text/plain": [
       "Output()"
      ]
     },
     "metadata": {},
     "output_type": "display_data"
    }
   ],
   "source": [
    "# Click the button below to check your work.\n",
    "step10Complete = False\n",
    "\n",
    "# Function to check the permissions.\n",
    "def step_10():\n",
    "    # Required to change boolean value.\n",
    "    global step10Complete\n",
    "\n",
    "    with output10:\n",
    "        output10.clear_output()\n",
    "        display(HTML(\"<span><img width='12px' height='12px' style='margin-left: 3px;' src='resources/loading.gif'></span>\"))\n",
    "    \n",
    "    result = subprocess.run('ssh -o StrictHostKeyChecking=no -i /home/umdsectc/.ssh/merge_key umdsectc@posix /home/.checker/section_3.py 10 foo', shell=True)\n",
    "\n",
    "    if (result.returncode == 1):\n",
    "        output10.clear_output()\n",
    "        with output10:\n",
    "            display(HTML(\"<span style='color: green;'>Success! You may continue onto the next step.</span>\"))\n",
    "            step10Complete = True\n",
    "    \n",
    "    elif (result.returncode == 2):\n",
    "        output10.clear_output()\n",
    "        with output10:\n",
    "            display(HTML(\"<span style='color: red;'>q3.txt was not found. Check the directory and see if you may have deleted it.</span>\"))\n",
    "            step10Complete = False\n",
    "\n",
    "    elif (result.returncode == 0):\n",
    "        output10.clear_output()\n",
    "        with output10:\n",
    "            display(HTML(\"<span style='color: red;'>Check your permissions and try again.</span>\"))\n",
    "            step10Complete = False\n",
    "\n",
    "def check_step_10(b):\n",
    "    step_10()\n",
    "\n",
    "    \"\"\"\n",
    "    # Auto-save.\n",
    "    if (not runAllSteps):\n",
    "        trigger_save()\n",
    "    \"\"\"\n",
    "\n",
    "# Creating the button.\n",
    "button = widgets.Button(description=\"Check Permissions\")\n",
    "\n",
    "# Creating an output area.\n",
    "output10 = widgets.Output()\n",
    "\n",
    "# Run the command on click.\n",
    "button.on_click(check_step_10)\n",
    "\n",
    "# Display the output.\n",
    "display(button, output10)"
   ]
  },
  {
   "cell_type": "markdown",
   "metadata": {},
   "source": [
    "### Step 11: Octal Notation with Special Permissions\n",
    "\n",
    "Suppose a file exists where the ```owner``` has read permissions and Set-User ID, the ```group``` has write and executable permissions, and ```other``` has full permissions. What is the octal notation for this? (Fill in the blank)"
   ]
  },
  {
   "cell_type": "code",
   "execution_count": 15,
   "metadata": {
    "jupyter": {
     "source_hidden": true
    }
   },
   "outputs": [
    {
     "data": {
      "application/vnd.jupyter.widget-view+json": {
       "model_id": "59dd8eeecb21407d8255b9bff85e72bd",
       "version_major": 2,
       "version_minor": 0
      },
      "text/plain": [
       "Output()"
      ]
     },
     "metadata": {},
     "output_type": "display_data"
    },
    {
     "data": {
      "application/vnd.jupyter.widget-view+json": {
       "model_id": "69db077af5aa4f6ca265f6af030a60d7",
       "version_major": 2,
       "version_minor": 0
      },
      "text/plain": [
       "Text(value='443', description='Octal:', placeholder='Type the octal value')"
      ]
     },
     "metadata": {},
     "output_type": "display_data"
    },
    {
     "data": {
      "application/vnd.jupyter.widget-view+json": {
       "model_id": "cd954236d432492b8e39cc23fe2b04ed",
       "version_major": 2,
       "version_minor": 0
      },
      "text/plain": [
       "Button(description='Check Permissions', style=ButtonStyle())"
      ]
     },
     "metadata": {},
     "output_type": "display_data"
    },
    {
     "data": {
      "application/vnd.jupyter.widget-view+json": {
       "model_id": "db45631be9fa41b89dc99da482c17813",
       "version_major": 2,
       "version_minor": 0
      },
      "text/plain": [
       "Output()"
      ]
     },
     "metadata": {},
     "output_type": "display_data"
    }
   ],
   "source": [
    "# Click the button below to check your work.\n",
    "step11Complete = False\n",
    "\n",
    "# Function to check if the student's answer was correct.\n",
    "def step_11():\n",
    "    # Required to change boolean values.\n",
    "    global step10Complete, step11Complete\n",
    "\n",
    "    # Loading, in case the check is slow.\n",
    "    with output11:\n",
    "        output11.clear_output()\n",
    "        display(HTML(\"<span><img width='12px' height='12px' style='margin-left: 3px;' src='resources/loading.gif'></span>\"))\n",
    "\n",
    "    # First, we need to see if the previous step(s) were completed.\n",
    "    if (not step10Complete):\n",
    "        output11.clear_output()\n",
    "        with output11:\n",
    "            display(HTML(\"<span style='color: red;'>You must complete Step 10 before attempting this question.</span>\"))\n",
    "            step11Complete = False\n",
    "\n",
    "    # Next, check to make sure that the input is valid:\n",
    "    elif (len(str(userInput6.value)) != 4 or not userInput6.value.isnumeric()):\n",
    "        output11.clear_output()\n",
    "        with output11:\n",
    "            display(HTML(\"<span style='color: red;'>Double check your octal permissions. It should be four numbers.</span>\"))\n",
    "            step11Complete = False\n",
    "\n",
    "    # Input is valid.\n",
    "    else:\n",
    "        # Now, run the command.\n",
    "        result = subprocess.run('ssh -i /home/umdsectc/.ssh/merge_key umdsectc@posix /home/.checker/section_3.py 11 ' + userInput6.value, shell=True, stdout=subprocess.DEVNULL)\n",
    "        \n",
    "        if (result.returncode == 1):\n",
    "            output11.clear_output()\n",
    "            with output11:\n",
    "                display(HTML(\"<span style='color: green;'>Your octal value is correct!</span>\"))\n",
    "                step11Complete = True\n",
    "    \n",
    "        elif (result.returncode == 0):\n",
    "            output11.clear_output()\n",
    "            with output11:\n",
    "                display(HTML(\"<span style='color: red;'>Double check your octal value.</span>\"))\n",
    "                step11Complete = False\n",
    "    \n",
    "        elif (result.returncode == 2):\n",
    "            output11.clear_output()\n",
    "            with output11:\n",
    "                display(HTML(\"<span style='color: red;'>There was an error. Check to make sure that q*.txt files exist in ~/posix_practice.</span>\"))\n",
    "                step11Complete = False\n",
    "\n",
    "def check_step_11(b):\n",
    "    step_11()\n",
    "\n",
    "    \"\"\"\n",
    "    # Auto-save.\n",
    "    if (not runAllSteps):\n",
    "        trigger_save()\n",
    "    \"\"\"\n",
    "\n",
    "# Retrieve the student's response. First, create a loading spinner, since this could take a second or two.\n",
    "loading11 = widgets.Output()\n",
    "display(loading11)\n",
    "with loading11:\n",
    "    loading11.clear_output()\n",
    "    display(HTML(\"<span>Loading your saved response... <img width='12px' height='12px' style='margin-left: 3px;' src='resources/loading.gif'></span>\"))\n",
    "\n",
    "# Creating a text area.\n",
    "userInput11 = widgets.Text(\n",
    "    placeholder='Type the octal value',\n",
    "    description='Octal:',\n",
    ")\n",
    "\n",
    "# Checking if the step has been answered.\n",
    "result = subprocess.run('ssh -o StrictHostKeyChecking=no -i /home/umdsectc/.ssh/merge_key umdsectc@posix \"cat /home/.checker/responses/step_11_answer.txt 2> /dev/null\"', capture_output=True, text=True, shell=True)\n",
    "# Output creates a newline. Remove it.\n",
    "userInput11.value = result.stdout[:-1]\n",
    "\n",
    "# After the student's response was loaded, clear the output.\n",
    "loading11.clear_output()\n",
    "\n",
    "# Creating the button.\n",
    "button = widgets.Button(description=\"Check Permissions\")\n",
    "\n",
    "# Creating an output area.\n",
    "output11 = widgets.Output()\n",
    "\n",
    "# Run the command on click.\n",
    "button.on_click(check_step_11)\n",
    "\n",
    "# Display the output.\n",
    "display(userInput11, button, output11)"
   ]
  },
  {
   "cell_type": "markdown",
   "metadata": {},
   "source": [
    "### Step 12: Check your Understanding\n",
    "\n",
    "True or False?\n",
    "\n",
    "<em>1612 and 1613 set the same permissions.</em>"
   ]
  },
  {
   "cell_type": "code",
   "execution_count": 16,
   "metadata": {
    "jupyter": {
     "source_hidden": true
    }
   },
   "outputs": [
    {
     "data": {
      "application/vnd.jupyter.widget-view+json": {
       "model_id": "ad46afb148a74f73a41bbbfae3ab8024",
       "version_major": 2,
       "version_minor": 0
      },
      "text/plain": [
       "RadioButtons(description='Select your answer:', options=('True', 'False'), value='True')"
      ]
     },
     "metadata": {},
     "output_type": "display_data"
    },
    {
     "data": {
      "application/vnd.jupyter.widget-view+json": {
       "model_id": "c9df07c457954f8fa79dddec28083b3b",
       "version_major": 2,
       "version_minor": 0
      },
      "text/plain": [
       "Button(description='Check Answer', style=ButtonStyle())"
      ]
     },
     "metadata": {},
     "output_type": "display_data"
    },
    {
     "data": {
      "application/vnd.jupyter.widget-view+json": {
       "model_id": "3b4b3539d1314a52bbfc316219e0541b",
       "version_major": 2,
       "version_minor": 0
      },
      "text/plain": [
       "Output()"
      ]
     },
     "metadata": {},
     "output_type": "display_data"
    }
   ],
   "source": [
    "# Click the button below to check your work.\n",
    "step12Complete = False\n",
    "\n",
    "# Function to check if the student's answer was correct.\n",
    "def step_12():\n",
    "    # Required to change boolean values.\n",
    "    global step12Complete\n",
    "\n",
    "    # Checking the answer:\n",
    "    result = subprocess.run('ssh -i /home/umdsectc/.ssh/merge_key umdsectc@posix /home/.checker/section_3.py 12 ' + truefalse1.value, shell=True, stdout=subprocess.DEVNULL)\n",
    "\n",
    "    if (result.returncode == 1):\n",
    "        output12.clear_output()\n",
    "        with output12:\n",
    "            display(HTML(\"<span style='color: green;'>Correct!</span>\"))\n",
    "            step12Complete = True\n",
    "\n",
    "    elif (result.returncode == 0):\n",
    "        output12.clear_output()\n",
    "        with output12:\n",
    "            display(HTML(\"<span style='color: red;'>Double-check your answer.</span>\"))\n",
    "            step12Complete = False\n",
    "            \n",
    "def check_step_12(b):\n",
    "    step_12()\n",
    "\n",
    "    \"\"\"\n",
    "    # Auto-save.\n",
    "    if (not runAllSteps):\n",
    "        trigger_save()\n",
    "    \"\"\"\n",
    "\n",
    "# Creating the button.\n",
    "button = widgets.Button(description=\"Check Answer\")\n",
    "\n",
    "# Creating an output area.\n",
    "output12 = widgets.Output()\n",
    "\n",
    "# Run the command on click.\n",
    "button.on_click(check_step_12)\n",
    "\n",
    "# Creating a text area.\n",
    "truefalse1 = widgets.RadioButtons(\n",
    "    options=['True', 'False'],\n",
    "    description='Select your answer:'\n",
    ")\n",
    "\n",
    "# Display the output.\n",
    "display(truefalse1, button, output12)"
   ]
  },
  {
   "cell_type": "code",
   "execution_count": null,
   "metadata": {},
   "outputs": [],
   "source": []
  }
 ],
 "metadata": {
  "kernelspec": {
   "display_name": "Python 3 (ipykernel)",
   "language": "python",
   "name": "python3"
  },
  "language_info": {
   "codemirror_mode": {
    "name": "ipython",
    "version": 3
   },
   "file_extension": ".py",
   "mimetype": "text/x-python",
   "name": "python",
   "nbconvert_exporter": "python",
   "pygments_lexer": "ipython3",
   "version": "3.10.12"
  }
 },
 "nbformat": 4,
 "nbformat_minor": 4
}
