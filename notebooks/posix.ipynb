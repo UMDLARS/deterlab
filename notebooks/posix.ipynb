{
 "cells": [
  {
   "cell_type": "markdown",
   "metadata": {
    "editable": true,
    "slideshow": {
     "slide_type": ""
    },
    "tags": []
   },
   "source": [
    "# <strong>POSIX Permissions</strong>\n",
    "\n",
    "POSIX (Portable Operating System Interface for UniX) permissions are important to understand because they're commonly used for configuring Unix environments among users. Companies that use Unix environments split the ownership of files among single users and groups. Permissions are an effective way of preventing certain users from reading, writing, or executing files and directories. By preventing specific users from being able to read, modify, and execute files, you are also creating a barrier of security in case users have malicious intent towards a company, or their account becomes compromised.\n",
    "\n",
    "POSIX permissions can be viewed on any file by typing ```ls -l``` inside of a directory. A sample output of this command would be the following: \n",
    "\n",
    "<figure><center><img src=\"resources/posix/posix_example.png\" style=\"width: 75%; height: 75%;\"></img></center><em><figcaption>Credit: <a href=\"https://docs.oracle.com/cd/E19253-01/806-7612/files-26/index.html\">Oracle Documentation</a></figcaption></em></figure>\n",
    "\n",
    "For this lab, we are interested in changing the permissions, owner, and group. The way we read permissions is as follows:\n",
    "\n",
    "<figure><center><img src=\"resources/posix/permissions_example.png\" style=\"width: 75%; height: 75%;\"></img></center><em><figcaption>Credit: <a href=\"https://www.semanticscholar.org/paper/POSIX-Access-Control-Lists-on-Linux-Gr%C3%BCnbacher/ab66cf18f024f9b1e56a14c9f233d753a1d5c878\">Semantic Scholar</a></figcaption></em></figure>\n",
    "\n",
    "There are three groups of users. First is the ```owner```, which is the user who's listed first in the POSIX output. The ```owner``` is the user who created the file or directory. The ```group``` is a set of people who are assigned to a tag/group within the Unix environment. Finally, ```other``` is everyone else that's not the ```owner``` nor in the ```group```.\n",
    "\n",
    "There are three permissions that each type of user can acquire:\n",
    "- ```r``` stands for ```read```. This permission allows the user to read the contents of a file or directory.\n",
    "- ```w``` stands for ```write```. This permission allows the user to write to a directory or modify an existing file that has the ```write``` tag applied to it.\n",
    "- ```x``` stands for ```execute```. This permission allows the user to run scripts or other executables within a directory. The ```x``` tag on a directory means that the user can navigate within the directory, but they may not be able to read the contents without the ```r``` tag applied to it.\n",
    "\n",
    "<strong>This lab will contain four topics, and you will learn the following:</strong>\n",
    "\n",
    "1. Symbolic POSIX Permissions\n",
    "2. Octal POSIX Permissions\n",
    "3. Special POSIX Permissions\n",
    "4. Applying POSIX Permissions"
   ]
  },
  {
   "cell_type": "code",
   "execution_count": 1,
   "metadata": {
    "editable": true,
    "jupyter": {
     "source_hidden": true
    },
    "jupyterlab-hide-cells:hidden": true,
    "slideshow": {
     "slide_type": ""
    },
    "tags": []
   },
   "outputs": [],
   "source": [
    "# Setting up the lab.\n",
    "import ipywidgets as widgets\n",
    "from IPython.display import display, HTML, Javascript\n",
    "from IPython.core.magic import register_line_magic\n",
    "import os\n",
    "# For accessing the nodes:\n",
    "import subprocess\n",
    "# For the stopexp command:\n",
    "import re\n",
    "\n",
    "# When true, it will not auto-save at each step.\n",
    "runAllSteps = False\n",
    "\n",
    "###### Used for saving notebooks. ######\n",
    "import threading\n",
    "# Threading required in case steps are progressed too quickly.\n",
    "save_lock = threading.Lock()\n",
    "\n",
    "# The save function itself.\n",
    "def save_notebook():\n",
    "    with save_lock:\n",
    "        result = subprocess.run('su - USERNAME_GOES_HERE -c \"/home/USERNAME_GOES_HERE/notebooks/resources/save.py posix\"', shell=True, capture_output=True, text=True)\n",
    "\n",
    "# Creating a thread to save the notebook.\n",
    "def trigger_save():\n",
    "    save_thread = threading.Thread(target=save_notebook)\n",
    "    save_thread.start()\n",
    "\n",
    "###### Used for loading notebooks. ######\n",
    "import queue\n",
    "\n",
    "load_lock = threading.Lock()\n",
    "result_queue = queue.Queue()\n",
    "\n",
    "def load_notebook():\n",
    "    with load_lock:\n",
    "        result = subprocess.run('su - USERNAME_GOES_HERE -c \"/home/USERNAME_GOES_HERE/notebooks/resources/load.py posix\"', shell=True, capture_output=True, text=True)\n",
    "        result_queue.put(result)  # Put the result in the queue.\n",
    "\n",
    "# Creating a thread to load the notebook.\n",
    "def trigger_load():\n",
    "    load_thread = threading.Thread(target=load_notebook)\n",
    "    load_thread.start()\n",
    "    load_thread.join()  # Wait for the thread to complete before adding result to the queue.\n",
    "    return result_queue.get()  # Get the result from the queue."
   ]
  },
  {
   "cell_type": "markdown",
   "metadata": {},
   "source": [
    "### Step 0: Begin the experiment.\n",
    "\n",
    "Click the button to begin creating the experiment."
   ]
  },
  {
   "cell_type": "code",
   "execution_count": 30,
   "metadata": {
    "jupyter": {
     "source_hidden": true
    }
   },
   "outputs": [
    {
     "data": {
      "application/vnd.jupyter.widget-view+json": {
       "model_id": "df93a24674174e97aa635fa2f49f3a18",
       "version_major": 2,
       "version_minor": 0
      },
      "text/plain": [
       "Button(description='Start Lab', style=ButtonStyle())"
      ]
     },
     "metadata": {},
     "output_type": "display_data"
    },
    {
     "data": {
      "application/vnd.jupyter.widget-view+json": {
       "model_id": "efb5ed4c6d284a7282f9e859eba55fd1",
       "version_major": 2,
       "version_minor": 0
      },
      "text/plain": [
       "Output()"
      ]
     },
     "metadata": {},
     "output_type": "display_data"
    }
   ],
   "source": [
    "# Click the button below to start the experiment.\n",
    "import time\n",
    "def startlab(button):\n",
    "    # Defining the lab name.\n",
    "    labname = \"posix\"\n",
    "\n",
    "    # Writing the information to an empty field below the button.\n",
    "    with output0:\n",
    "        # Fixes a strange error that happens only occasionally.\n",
    "        os.chdir(\"/home/USERNAME_GOES_HERE/notebooks\")\n",
    "        output0.clear_output()\n",
    "\n",
    "        # First, checking if the materialization exists. May have been stopped by a previous lab.\n",
    "        materialPattern = \"real.\" + labname + \"jup.USERNAME_GOES_HERE\"\n",
    "\n",
    "        # Listing the materializations to find if there's an existing one for this lab.\n",
    "        checkMaterial = os.popen('su - USERNAME_GOES_HERE -c \"mrg list materializations\"').read()\n",
    "        regex = re.compile(materialPattern)\n",
    "        # Getting the matches:\n",
    "        match = regex.search(checkMaterial)\n",
    "\n",
    "        if match:\n",
    "            display(HTML(\"<span style='color: orange;'>An existing activation for this lab already exists. </span><span>You might have run another \\\n",
    "            lab without stopping this one. Attaching the existing activation...</span>\"))\n",
    "\n",
    "            # Detaching it and re-attaching.\n",
    "            subprocess.run('su - USERNAME_GOES_HERE -c \"mrg xdc detach xdc.USERNAME_GOES_HERE\"', shell=True, check=True)\n",
    "            subprocess.run('su - USERNAME_GOES_HERE -c \"mrg xdc attach xdc.USERNAME_GOES_HERE real.' + labname + 'jup.USERNAME_GOES_HERE\"', capture_output=True, text=True, shell=True, check=True)\n",
    "            display(HTML(\"<span>Re-running the installation... </span><span><img width='12px' height='12px' style='margin-left: 3px;' src='resources/loading.gif'></span>\"))\n",
    "\n",
    "            # Re-running the installation script.\n",
    "            subprocess.run('su - USERNAME_GOES_HERE -c \"bash /home/runlab ' + labname + 'jup\"', capture_output=True, text=True, shell=True, check=True)\n",
    "            output0.clear_output()\n",
    "            display(HTML(\"<newline><span style='color: green;'><strong>Your lab has been re-installed. </strong></span>\" \\\n",
    "                         \"<span>When you're finished, close your lab at the bottom of the notebook.</span>\"))\n",
    "        \n",
    "        else:\n",
    "            display(HTML(\"<span>No existing activations are found.</span>\"))\n",
    "\n",
    "            # Second, start the lab.\n",
    "            display(HTML(\"<span>Starting the \" + labname + \" lab. This will take a few minutes to process. Please wait.</span> \\\n",
    "            <span><img width='12px' height='12px' style='margin-left: 3px;' src='resources/loading.gif'></span>\"))\n",
    "            try:\n",
    "                startexp = subprocess.run('su - USERNAME_GOES_HERE -c \"bash /home/startexp ' + labname + 'jup\"', capture_output=True, text=True, shell=True, check=True)\n",
    "            except:\n",
    "                output0.clear_output()\n",
    "                display(HTML(\"<span style='color: red;'>There was an error starting your experiment. Make sure your password is written inside of ~/pass.txt, and try again.</span>\"))\n",
    "                return\n",
    "            \n",
    "            print(startexp.stdout, flush=True)\n",
    "            output0.clear_output()\n",
    "            display(HTML(\"<span>Done. Result:</span>\"))\n",
    "            print(startexp.stdout, flush=True)\n",
    "\n",
    "            # Another lab is already attached to the XDC.\n",
    "            if (\"XDC already attached\" in startexp.stdout):\n",
    "                existingLab = re.search(r\"real.(.*).USERNAME_GOES_HERE\", startexp.stdout).group(1)\n",
    "\n",
    "                # Shouldn't happen.\n",
    "                if labname == existingLab:\n",
    "                    display(HTML(\"<span style='color: red;'>Your lab was already started. </span><span>Please continue to the next step.</span>\"))\n",
    "\n",
    "                # Detaching the existing lab, then attaching the current one.\n",
    "                else:\n",
    "                    display(HTML(\"<span style='color: orange;'>Warning: You did not stop your previous experiment. </span><span>Please stop your experiments \\\n",
    "                    before starting a new one. Detaching the \" + existingLab + \" experiment.</span>\"))\n",
    "                    subprocess.run('su - USERNAME_GOES_HERE -c \"mrg xdc detach xdc.USERNAME_GOES_HERE\"', shell=True, check=True)\n",
    "                    display(HTML(\"<span>Attaching the current lab.</span>\"))\n",
    "                    subprocess.run('su - USERNAME_GOES_HERE -c \"mrg xdc attach xdc ' + materialPattern + '\"', shell=True, check=True)\n",
    "    \n",
    "            # Third, get the lab materials onto the node.\n",
    "            display(HTML(\"<span>Allocating lab resources onto the node. <u>Please wait a little longer...</u></span>\"))\n",
    "\n",
    "            # Gives the notebook a couple seconds so that it will recognize the node(s).\n",
    "            time.sleep(2)\n",
    "\n",
    "            # Move the resources over.\n",
    "            runlab = subprocess.run(\n",
    "                'su - USERNAME_GOES_HERE -c \"bash /home/runlab ' + labname + 'jup\"',\n",
    "                capture_output=True, text=True, shell=True\n",
    "            )\n",
    "\n",
    "            # Complete. Inform the student.\n",
    "            display(HTML(\"<newline><span style='color: green;'><strong>Setup complete. You may begin the lab! </strong></span>\" \\\n",
    "                         \"<span>When you're finished, close your lab at the bottom of the notebook. Your lab will be active for one week.</span>\"))\n",
    "\n",
    "\n",
    "# Creating the button.\n",
    "startButton = widgets.Button(description=\"Start Lab\")\n",
    "\n",
    "# Creating an output area.\n",
    "output0 = widgets.Output()\n",
    "\n",
    "# Run the command on click.\n",
    "startButton.on_click(startlab)\n",
    "\n",
    "# Display the output.\n",
    "display(startButton, output0)"
   ]
  },
  {
   "cell_type": "markdown",
   "metadata": {},
   "source": [
    "<hr>"
   ]
  },
  {
   "cell_type": "markdown",
   "metadata": {},
   "source": [
    "If you previously stopped your lab, you may restore your progress below by clicking \"Load Lab\". <u>You do not have to load your lab if you signed out, closed your notebook, or exited your node(s) or XDC by using ```exit```.</u>"
   ]
  },
  {
   "cell_type": "code",
   "execution_count": 3,
   "metadata": {
    "jupyter": {
     "source_hidden": true
    }
   },
   "outputs": [
    {
     "data": {
      "application/vnd.jupyter.widget-view+json": {
       "model_id": "01e5f7e54e8e47a38e38cc1d94500b26",
       "version_major": 2,
       "version_minor": 0
      },
      "text/plain": [
       "Button(description='Load Lab', style=ButtonStyle())"
      ]
     },
     "metadata": {},
     "output_type": "display_data"
    },
    {
     "data": {
      "application/vnd.jupyter.widget-view+json": {
       "model_id": "ea8717ed4d7c48c29b76822a21ce699c",
       "version_major": 2,
       "version_minor": 0
      },
      "text/plain": [
       "Output()"
      ]
     },
     "metadata": {},
     "output_type": "display_data"
    }
   ],
   "source": [
    "# Click the button below to load your lab.\n",
    "def loadlab(b):\n",
    "    with output0_2:\n",
    "        output0_2.clear_output()\n",
    "        display(HTML(\"<span>Searching for an existing lab in your notebook...</span>\"))\n",
    "\n",
    "    if (os.path.exists(\"/home/USERNAME_GOES_HERE/notebooks/saves/USERNAME_GOES_HERE_posix.tar.gz\")):\n",
    "        with output0_2:\n",
    "            output0_2.clear_output()\n",
    "            display(HTML(\"<span>Loading your lab...</span> \\\n",
    "                <span><img width='12px' height='12px' style='margin-left: 3px;' src='resources/loading.gif'></span>\"))\n",
    "            result = trigger_load()\n",
    "            if (result.returncode == 0):\n",
    "                    output0_2.clear_output()\n",
    "                    display(HTML(\"<span style='color: green;'>Your lab has been successfully loaded. Please click on the <img width='20px' height='20px' style='margin-left: 1px;' src='resources/fast_forward.png'> icon at the top of your notebook to reflect your changes.</span>\"))\n",
    "            elif (result.returncode == 2):\n",
    "                    output0_2.clear_output()\n",
    "                    display(HTML(\"<span style='color: red;'>The posix lab is inaccessible. Please start your lab. If you have already started it, wait a minute and try again.</span>\"))\n",
    "            else:\n",
    "                    output0_2.clear_output()\n",
    "                    display(HTML(\"<span style='color: red;'>An error occurred while loading your lab.</span>\"))\n",
    "\n",
    "# Creating the button.\n",
    "loadButton = widgets.Button(description=\"Load Lab\")\n",
    "\n",
    "# Creating an output area.\n",
    "output0_2 = widgets.Output()\n",
    "\n",
    "# Run the command on click.\n",
    "loadButton.on_click(loadlab)\n",
    "\n",
    "# Display the output.\n",
    "display(loadButton, output0_2)"
   ]
  },
  {
   "cell_type": "markdown",
   "metadata": {
    "editable": true,
    "slideshow": {
     "slide_type": ""
    },
    "tags": []
   },
   "source": [
    "## <strong>Topic 1: Symbolic POSIX Permissions</strong>\n",
    "\n",
    "For the first topic, you will learn how to set POSIX permissions symbolically. Setting permissions this way are more intuitive, as there are two different ways to set permissions: symbolically and octally. \n",
    "\n",
    "Permissions are set using the ```chmod``` command, which is short for \"change mode\". The \"mode\" of a file is another way of saying \"permissions\". When you change the permissions of a file that you do not own, you need to use ```sudo```. Otherwise, if you're the owner of a file, then ```sudo``` is not required. Here is an example of using the ```chmod``` command: ```sudo chmod u+x file```\n",
    "\n",
    "A breakdown of the command:\n",
    "- ```u``` can be either ```u``` for ```user/owner```, ```g``` for ```group```, and ```o``` for ```other```.\n",
    "- ```+``` can be either ```+``` or ```-```, meaning you want to add or remove the following permission.\n",
    "- ```x``` can be either ```r``` for reading, ```w``` for writing, or ```x``` for execution.\n",
    "- ```file``` is the name of the file or directory that you would like to change the permissions of.\n",
    "\n",
    "<u>Tips:</u> \n",
    "- You can use more than one letter when using ```chmod```. If you want to remove read/write permissions from ```owner``` and ```other```, you can use ```sudo chmod uo+rw file```</u>.\n",
    "- If you do not want to treat ```+``` or ```-``` as a \"switch on/off\", you can also explicitly state what you want a user's permissions to be. For example: ```sudo chmod u=rwx file``` sets full permissions for the owner.\n",
    "\n",
    "Using this information, answer the next few steps using the ```chmod``` command."
   ]
  },
  {
   "cell_type": "markdown",
   "metadata": {
    "editable": true,
    "slideshow": {
     "slide_type": ""
    },
    "tags": []
   },
   "source": [
    "### Step 1: Set POSIX Permissions on ```q1.txt```.\n",
    "\n",
    "Inside of the home directory is a folder called ```posix_practice/```, with a few files called ```q1.txt```, ```q2.txt```, and ```q3.txt```, inside of it. Currently, there are zero permissions on these files.\n",
    "\n",
    "Give <strong>executable</strong> permissions to everyone for ```q1.txt```."
   ]
  },
  {
   "cell_type": "code",
   "execution_count": 4,
   "metadata": {
    "editable": true,
    "jupyter": {
     "source_hidden": true
    },
    "slideshow": {
     "slide_type": ""
    },
    "tags": []
   },
   "outputs": [
    {
     "data": {
      "application/vnd.jupyter.widget-view+json": {
       "model_id": "d0316dd94ee048b392e2343cbdb799f1",
       "version_major": 2,
       "version_minor": 0
      },
      "text/plain": [
       "Button(description='Check Permissions', style=ButtonStyle())"
      ]
     },
     "metadata": {},
     "output_type": "display_data"
    },
    {
     "data": {
      "application/vnd.jupyter.widget-view+json": {
       "model_id": "c99a82bd0a4b41cab6bbe449643e4f73",
       "version_major": 2,
       "version_minor": 0
      },
      "text/plain": [
       "Output()"
      ]
     },
     "metadata": {},
     "output_type": "display_data"
    }
   ],
   "source": [
    "# Click the button below to check your work.\n",
    "step1Complete = False\n",
    "\n",
    "# Function to check the permissions.\n",
    "def step_1():\n",
    "    # Required to change boolean value.\n",
    "    global step1Complete\n",
    "\n",
    "    with output1:\n",
    "        output1.clear_output()\n",
    "        display(HTML(\"<span><img width='12px' height='12px' style='margin-left: 3px;' src='resources/loading.gif'></span>\"))\n",
    "    \n",
    "    result = subprocess.run('ssh -o StrictHostKeyChecking=no -i /home/USERNAME_GOES_HERE/.ssh/merge_key USERNAME_GOES_HERE@posix /home/.checker/section_1.py 1', shell=True)\n",
    "\n",
    "    if (result.returncode == 1):\n",
    "        output1.clear_output()\n",
    "        with output1:\n",
    "            display(HTML(\"<span style='color: green;'>Success! You may continue onto the next step.</span>\"))\n",
    "            step1Complete = True\n",
    "    \n",
    "    elif (result.returncode == 2):\n",
    "        output1.clear_output()\n",
    "        with output1:\n",
    "            display(HTML(\"<span style='color: red;'>q1.txt was not found. Check the directory and see if you may have deleted it.</span>\"))\n",
    "            step1Complete = False\n",
    "\n",
    "    elif (result.returncode == 0):\n",
    "        output1.clear_output()\n",
    "        with output1:\n",
    "            display(HTML(\"<span style='color: red;'>Check your permissions and try again.</span>\"))\n",
    "            step1Complete = False\n",
    "\n",
    "def check_step_1(b):\n",
    "    step_1()\n",
    "\n",
    "    # Auto-save.\n",
    "    if (not runAllSteps):\n",
    "        trigger_save()\n",
    "\n",
    "# Creating the button.\n",
    "button = widgets.Button(description=\"Check Permissions\")\n",
    "\n",
    "# Creating an output area.\n",
    "output1 = widgets.Output()\n",
    "\n",
    "# Run the command on click.\n",
    "button.on_click(check_step_1)\n",
    "\n",
    "# Display the output.\n",
    "display(button, output1)"
   ]
  },
  {
   "cell_type": "markdown",
   "metadata": {},
   "source": [
    "### Step 2: Set POSIX Permissions on ```q2.txt```.\n",
    "\n",
    "Now, give <strong>write</strong> permissions to just the ```owner``` for ```q2.txt```."
   ]
  },
  {
   "cell_type": "code",
   "execution_count": 5,
   "metadata": {
    "editable": true,
    "jupyter": {
     "source_hidden": true
    },
    "slideshow": {
     "slide_type": ""
    },
    "tags": []
   },
   "outputs": [
    {
     "data": {
      "application/vnd.jupyter.widget-view+json": {
       "model_id": "c10c9eb8462641948ff264f7c55216b2",
       "version_major": 2,
       "version_minor": 0
      },
      "text/plain": [
       "Button(description='Check Permissions', style=ButtonStyle())"
      ]
     },
     "metadata": {},
     "output_type": "display_data"
    },
    {
     "data": {
      "application/vnd.jupyter.widget-view+json": {
       "model_id": "18190cd46db34b42a2cf8eb30d399ceb",
       "version_major": 2,
       "version_minor": 0
      },
      "text/plain": [
       "Output()"
      ]
     },
     "metadata": {},
     "output_type": "display_data"
    }
   ],
   "source": [
    "# Click the button below to check your work.\n",
    "step2Complete = False\n",
    "\n",
    "# Function to check the permissions.\n",
    "def step_2():\n",
    "    # Required to change boolean value.\n",
    "    global step2Complete\n",
    "\n",
    "    with output2:\n",
    "        output2.clear_output()\n",
    "        display(HTML(\"<span><img width='12px' height='12px' style='margin-left: 3px;' src='resources/loading.gif'></span>\"))\n",
    "    \n",
    "    result = subprocess.run('ssh -o StrictHostKeyChecking=no -i /home/USERNAME_GOES_HERE/.ssh/merge_key USERNAME_GOES_HERE@posix /home/.checker/section_1.py 2', shell=True)\n",
    "\n",
    "    if (result.returncode == 1):\n",
    "        output2.clear_output()\n",
    "        with output2:\n",
    "            display(HTML(\"<span style='color: green;'>Success! You may continue onto the next step.</span>\"))\n",
    "            step2Complete = True\n",
    "    \n",
    "    elif (result.returncode == 2):\n",
    "        output2.clear_output()\n",
    "        with output2:\n",
    "            display(HTML(\"<span style='color: red;'>q2.txt was not found. Check the directory and see if you may have deleted it.</span>\"))\n",
    "            step2Complete = False\n",
    "\n",
    "    elif (result.returncode == 0):\n",
    "        output2.clear_output()\n",
    "        with output2:\n",
    "            display(HTML(\"<span style='color: red;'>Check your permissions and try again.</span>\"))\n",
    "            step2Complete = False\n",
    "\n",
    "def check_step_2(b):\n",
    "    step_2()\n",
    "\n",
    "    # Auto-save.\n",
    "    if (not runAllSteps):\n",
    "        trigger_save()\n",
    "\n",
    "# Creating the button.\n",
    "button = widgets.Button(description=\"Check Permissions\")\n",
    "\n",
    "# Creating an output area.\n",
    "output2 = widgets.Output()\n",
    "\n",
    "# Run the command on click.\n",
    "button.on_click(check_step_2)\n",
    "\n",
    "# Display the output.\n",
    "display(button, output2)"
   ]
  },
  {
   "cell_type": "markdown",
   "metadata": {},
   "source": [
    "### Step 3: Set POSIX Permissions on ```q3.txt```.\n",
    "\n",
    "Finally, give <strong>read/write</strong> permissions to the ```owner```, <strong>executable</strong> permissions to the ```group```, and <strong>read/execute</strong> permissions to ```other``` for ```q3.txt```. <u>Do not add any other permissions besides the ones that were stated.</u>"
   ]
  },
  {
   "cell_type": "code",
   "execution_count": 6,
   "metadata": {
    "editable": true,
    "jupyter": {
     "source_hidden": true
    },
    "slideshow": {
     "slide_type": ""
    },
    "tags": []
   },
   "outputs": [
    {
     "data": {
      "application/vnd.jupyter.widget-view+json": {
       "model_id": "ab0eef3e414f42d78a01b45eafd9cc25",
       "version_major": 2,
       "version_minor": 0
      },
      "text/plain": [
       "Button(description='Check Permissions', style=ButtonStyle())"
      ]
     },
     "metadata": {},
     "output_type": "display_data"
    },
    {
     "data": {
      "application/vnd.jupyter.widget-view+json": {
       "model_id": "63f62cea73ee4646b77d57660c7f974a",
       "version_major": 2,
       "version_minor": 0
      },
      "text/plain": [
       "Output()"
      ]
     },
     "metadata": {},
     "output_type": "display_data"
    }
   ],
   "source": [
    "# Click the button below to check your work.\n",
    "step3Complete = False\n",
    "\n",
    "# Function to check the permissions.\n",
    "def step_3():\n",
    "    # Required to change boolean value.\n",
    "    global step3Complete\n",
    "\n",
    "    with output3:\n",
    "        output3.clear_output()\n",
    "        display(HTML(\"<span><img width='12px' height='12px' style='margin-left: 3px;' src='resources/loading.gif'></span>\"))\n",
    "    \n",
    "    result = subprocess.run('ssh -o StrictHostKeyChecking=no -i /home/USERNAME_GOES_HERE/.ssh/merge_key USERNAME_GOES_HERE@posix /home/.checker/section_1.py 3', shell=True)\n",
    "\n",
    "    if (result.returncode == 1):\n",
    "        output3.clear_output()\n",
    "        with output3:\n",
    "            display(HTML(\"<span style='color: green;'>Success! You may continue onto the next step.</span>\"))\n",
    "            step3Complete = True\n",
    "    \n",
    "    elif (result.returncode == 2):\n",
    "        output3.clear_output()\n",
    "        with output3:\n",
    "            display(HTML(\"<span style='color: red;'>q3.txt was not found. Check the directory and see if you may have deleted it.</span>\"))\n",
    "            step3Complete = False\n",
    "\n",
    "    elif (result.returncode == 0):\n",
    "        output3.clear_output()\n",
    "        with output3:\n",
    "            display(HTML(\"<span style='color: red;'>Check your permissions and try again.</span>\"))\n",
    "            step3Complete = False\n",
    "\n",
    "def check_step_3(b):\n",
    "    step_3()\n",
    "\n",
    "    # Auto-save.\n",
    "    if (not runAllSteps):\n",
    "        trigger_save()\n",
    "\n",
    "# Creating the button.\n",
    "button = widgets.Button(description=\"Check Permissions\")\n",
    "\n",
    "# Creating an output area.\n",
    "output3 = widgets.Output()\n",
    "\n",
    "# Run the command on click.\n",
    "button.on_click(check_step_3)\n",
    "\n",
    "# Display the output.\n",
    "display(button, output3)"
   ]
  },
  {
   "cell_type": "markdown",
   "metadata": {
    "editable": true,
    "slideshow": {
     "slide_type": ""
    },
    "tags": []
   },
   "source": [
    "### Step 4: Short Answer\n",
    "\n",
    "The next step is a short answer question. Therefore, it cannot be auto-graded.\n",
    "\n",
    "<em>What does the ‘x’ bit allow you to do with directories?</em>\n",
    "\n",
    "Type your answer in the answer box below, and click \"Save Response\" to save your response to your submission."
   ]
  },
  {
   "cell_type": "code",
   "execution_count": 7,
   "metadata": {
    "editable": true,
    "jupyter": {
     "source_hidden": true
    },
    "slideshow": {
     "slide_type": ""
    },
    "tags": []
   },
   "outputs": [
    {
     "data": {
      "application/vnd.jupyter.widget-view+json": {
       "model_id": "cb145179b69041049d7c6c131632f5ac",
       "version_major": 2,
       "version_minor": 0
      },
      "text/plain": [
       "Output()"
      ]
     },
     "metadata": {},
     "output_type": "display_data"
    },
    {
     "data": {
      "application/vnd.jupyter.widget-view+json": {
       "model_id": "80f118f4900e4e83819a120eaa51f81f",
       "version_major": 2,
       "version_minor": 0
      },
      "text/plain": [
       "Textarea(value='asdf', description='Response:', layout=Layout(height='150px', margin='10px', width='75%'), pla…"
      ]
     },
     "metadata": {},
     "output_type": "display_data"
    },
    {
     "data": {
      "application/vnd.jupyter.widget-view+json": {
       "model_id": "f6b6a01fde11490aa90576742bfaaa37",
       "version_major": 2,
       "version_minor": 0
      },
      "text/plain": [
       "Button(description='Save Response', style=ButtonStyle())"
      ]
     },
     "metadata": {},
     "output_type": "display_data"
    },
    {
     "data": {
      "application/vnd.jupyter.widget-view+json": {
       "model_id": "016924a8a7bc442aba9ef25977729986",
       "version_major": 2,
       "version_minor": 0
      },
      "text/plain": [
       "Output()"
      ]
     },
     "metadata": {},
     "output_type": "display_data"
    }
   ],
   "source": [
    "# This is for escaping characters in the response field.\n",
    "import shlex\n",
    "\n",
    "# Click the button below to check your work.\n",
    "step4Complete = False\n",
    "\n",
    "# Function to save the short answer.\n",
    "def step_4():\n",
    "    # Required to change boolean values.\n",
    "    global step4Complete\n",
    "\n",
    "    # Loading, in case saving is slow.\n",
    "    with output4:\n",
    "        output4.clear_output()\n",
    "        display(HTML(\"<span><img width='12px' height='12px' style='margin-left: 3px;' src='resources/loading.gif'></span>\"))\n",
    "\n",
    "    if (userInput4.value == \"\"):\n",
    "        output4.clear_output()\n",
    "        with output4:\n",
    "            display(HTML(\"<span style='color: red;'>You did not type a response.</span>\"))\n",
    "            step4Complete = False\n",
    "\n",
    "    else:\n",
    "        user_input_quoted = shlex.quote(userInput4.value)\n",
    "        ssh_command = f'ssh -i /home/USERNAME_GOES_HERE/.ssh/merge_key USERNAME_GOES_HERE@posix \"echo {user_input_quoted} > /home/.checker/responses/step_4_answer.txt\"'\n",
    "        result = subprocess.run(ssh_command, shell=True)\n",
    "        \n",
    "        if (result.returncode == 1):\n",
    "            output4.clear_output()\n",
    "            with output4:\n",
    "                display(HTML(\"<span style='color: red;'>There was an error saving your response.</span>\"))\n",
    "                step4Complete = False\n",
    "    \n",
    "        elif (result.returncode == 0):\n",
    "            output4.clear_output()\n",
    "            with output4:\n",
    "                display(HTML(\"<span style='color: green;'>Your response was saved.</span>\"))\n",
    "                step4Complete = True\n",
    "\n",
    "    # Auto-save.\n",
    "    if (not runAllSteps):\n",
    "        trigger_save()\n",
    "\n",
    "def check_step_4(b):\n",
    "    step_4()\n",
    "\n",
    "# Retrieve the student's response. First, create a loading spinner, since this could take a second or two.\n",
    "loading4 = widgets.Output()\n",
    "display(loading4)\n",
    "with loading4:\n",
    "    loading4.clear_output()\n",
    "    display(HTML(\"<span>Loading your saved response... <img width='12px' height='12px' style='margin-left: 3px;' src='resources/loading.gif'></span>\"))\n",
    "\n",
    "# Creating a text area. We will need to assign output of process to the value of this input.\n",
    "userInput4 = widgets.Textarea(\n",
    "    placeholder='Type your response here',\n",
    "    description='Response:',\n",
    "    layout=widgets.Layout(width='75%', height='150px', margin='10px')\n",
    ")\n",
    "\n",
    "# Checking if the step has been answered.\n",
    "result = subprocess.run('ssh -o StrictHostKeyChecking=no -i /home/USERNAME_GOES_HERE/.ssh/merge_key USERNAME_GOES_HERE@posix \"cat /home/.checker/responses/step_4_answer.txt 2> /dev/null\"', capture_output=True, text=True, shell=True)\n",
    "# Output creates a newline. Remove it.\n",
    "userInput4.value = result.stdout[:-1]\n",
    "\n",
    "# After the student's response was loaded, clear the output.\n",
    "loading4.clear_output()\n",
    "\n",
    "# Creating the feedback output area.\n",
    "output4 = widgets.Output()\n",
    "\n",
    "# Creating the button.\n",
    "button = widgets.Button(description=\"Save Response\")\n",
    "\n",
    "# Run the command on click.\n",
    "button.on_click(check_step_4)\n",
    "\n",
    "# Display the output.\n",
    "display(userInput4, button, output4)"
   ]
  },
  {
   "cell_type": "markdown",
   "metadata": {},
   "source": [
    "## <strong>Topic 2: Octal POSIX Permissions</strong>\n",
    "\n",
    "Now, you are ready to move onto the second topic, which is learning how to apply POSIX permissions using octal notation.\n",
    "\n",
    "Symbolic notation is easy to use since you can explicitly state what user(s) have which permissions. However, if you are drastically changing the permissions, you may need to use multiple ```chmod``` commands, otherwise your ```chmod``` can begin to appear cluttered. <em>Why?</em> Take a look at this example:\n",
    "\n",
    "```sudo chmod ug+rw,o-w+r,g+x``` will take the current permissions, add read/write privileges to the ```owner``` and ```group```, remove write permissions from ```other```, but give them read permissions, and give executable permissions to the group. However, the existing execution permissions for ```owner``` will remain unchanged, but with symbolic notation, you will not know what the current executable permissions are. ```owner``` may or may not have executable permissions, and we cannot tell based off of this command.\n",
    "\n",
    "Octal notation is useful when you have an exact set of permissions that you want to use for a certain file or directory. The way that you read permissions in octal format is the following:\n",
    "\n",
    "| Octal | Binary | Permissions |\n",
    "|-------|--------|-------------|\n",
    "| 0     | 000    | ---         |\n",
    "| 1     | 001    | --x         |\n",
    "| 2     | 010    | -w-         |\n",
    "| 3     | 011    | -wx         |\n",
    "| 4     | 100    | r--         |\n",
    "| 5     | 101    | r-x         |\n",
    "| 6     | 110    | rw-         |\n",
    "| 7     | 111    | rwx         |\n",
    "\n",
    "Notice that as a permission gets \"toggled on\", it displays a 1 in binary. Converting the number from binary to decimal is the octal representation of that user's permission. Since there are three users who can have permissions applied to them, there are three numbers that range from 0-7 in octal notation.\n",
    "\n",
    "Now, to show an example. Whenever a file is made, it's set to ```-rw-r--r--``` by default. The octal representation of this permission is ```644```. \n",
    "<u>A breakdown:</u>\n",
    "- ```owner```: ```rw-``` converts to ```110```, which is $2^2 + 2^1 + 0 = 4 + 2 + 0 = 6$\n",
    "- ```group```: ```r--``` converts to ```100```, which is $2^2 + 0 + 0 = 4 + 0 + 0 = 4$\n",
    "- ```other```: Same permissions as ```group```, which is $4$.\n",
    "- Final octal permissions: ```644```\n",
    "\n",
    "<center><strong>You may use a calculator below to calculate the octal notation of a given set of permissions.</strong></center>"
   ]
  },
  {
   "cell_type": "code",
   "execution_count": 8,
   "metadata": {
    "jupyter": {
     "source_hidden": true
    }
   },
   "outputs": [
    {
     "data": {
      "application/vnd.jupyter.widget-view+json": {
       "model_id": "f3d5d87b2c684618bce4cde67fa79cc4",
       "version_major": 2,
       "version_minor": 0
      },
      "text/plain": [
       "HBox(children=(VBox(children=(Label(value='Owner'), Checkbox(value=False, description='Read'), Checkbox(value=…"
      ]
     },
     "metadata": {},
     "output_type": "display_data"
    },
    {
     "data": {
      "application/vnd.jupyter.widget-view+json": {
       "model_id": "5d0340802b5e4087a00474209b70e65e",
       "version_major": 2,
       "version_minor": 0
      },
      "text/plain": [
       "Label(value='Octal Notation: 000')"
      ]
     },
     "metadata": {},
     "output_type": "display_data"
    },
    {
     "data": {
      "application/vnd.jupyter.widget-view+json": {
       "model_id": "777e8302e2a940faab059d71efaa4965",
       "version_major": 2,
       "version_minor": 0
      },
      "text/plain": [
       "Label(value='Permission String: ---------')"
      ]
     },
     "metadata": {},
     "output_type": "display_data"
    }
   ],
   "source": [
    "# An interactive calculator for learning octal notation below.\n",
    "from ipywidgets import Layout, Button, VBox, Label\n",
    "\n",
    "# Function to update the octal and permission string.\n",
    "def update_permissions(change):\n",
    "    octal = 000\n",
    "    permission_string = \"\"\n",
    "    \n",
    "    if owner_read.value:\n",
    "        octal += 400\n",
    "        permission_string += \"r\"\n",
    "    else:\n",
    "        permission_string += \"-\"\n",
    "        \n",
    "    if owner_write.value:\n",
    "        octal += 200\n",
    "        permission_string += \"w\"\n",
    "    else:\n",
    "        permission_string += \"-\"\n",
    "        \n",
    "    if owner_execute.value:\n",
    "        octal += 100\n",
    "        permission_string += \"x\"\n",
    "    else:\n",
    "        permission_string += \"-\"\n",
    "    \n",
    "    if group_read.value:\n",
    "        octal += 40\n",
    "        permission_string += \"r\"\n",
    "    else:\n",
    "        permission_string += \"-\"\n",
    "        \n",
    "    if group_write.value:\n",
    "        octal += 20\n",
    "        permission_string += \"w\"\n",
    "    else:\n",
    "        permission_string += \"-\"\n",
    "        \n",
    "    if group_execute.value:\n",
    "        octal += 10\n",
    "        permission_string += \"x\"\n",
    "    else:\n",
    "        permission_string += \"-\"\n",
    "    \n",
    "    if others_read.value:\n",
    "        octal += 4\n",
    "        permission_string += \"r\"\n",
    "    else:\n",
    "        permission_string += \"-\"\n",
    "        \n",
    "    if others_write.value:\n",
    "        octal += 2\n",
    "        permission_string += \"w\"\n",
    "    else:\n",
    "        permission_string += \"-\"\n",
    "        \n",
    "    if others_execute.value:\n",
    "        octal += 1\n",
    "        permission_string += \"x\"\n",
    "    else:\n",
    "        permission_string += \"-\"\n",
    "\n",
    "    # Permissions done. Convert to string. Checking to see if it's only 1-2 digits long. If so, add padding to make it three digits.\n",
    "    if (len(str(octal)) == 1):\n",
    "        octal = \"00\" + str(octal)\n",
    "\n",
    "    elif (len(str(octal)) == 2):\n",
    "        octal = \"0\" + str(octal)\n",
    "\n",
    "    elif (octal == 0):\n",
    "        octal = str(\"000\")\n",
    "    \n",
    "    octal_label.value = f\"Octal Notation: {octal}\"\n",
    "    permission_label.value = f\"Permission String: {permission_string}\"\n",
    "\n",
    "# Create widgets.\n",
    "owner_read = widgets.Checkbox(value=False, description='Owner Read')\n",
    "owner_write = widgets.Checkbox(value=False, description='Owner Write')\n",
    "owner_execute = widgets.Checkbox(value=False, description='Owner Execute')\n",
    "\n",
    "group_read = widgets.Checkbox(value=False, description='Group Read')\n",
    "group_write = widgets.Checkbox(value=False, description='Group Write')\n",
    "group_execute = widgets.Checkbox(value=False, description='Group Execute')\n",
    "\n",
    "others_read = widgets.Checkbox(value=False, description='Others Read')\n",
    "others_write = widgets.Checkbox(value=False, description='Others Write')\n",
    "others_execute = widgets.Checkbox(value=False, description='Others Execute')\n",
    "\n",
    "octal_label = widgets.Label(value=\"Octal Notation: 0\")\n",
    "permission_label = widgets.Label(value=\"Permissions: ---------\")\n",
    "\n",
    "# Create widgets\n",
    "owner_read = widgets.Checkbox(value=False, description='Read')\n",
    "owner_write = widgets.Checkbox(value=False, description='Write')\n",
    "owner_execute = widgets.Checkbox(value=False, description='Execute')\n",
    "\n",
    "group_read = widgets.Checkbox(value=False, description='Read')\n",
    "group_write = widgets.Checkbox(value=False, description='Write')\n",
    "group_execute = widgets.Checkbox(value=False, description='Execute')\n",
    "\n",
    "others_read = widgets.Checkbox(value=False, description='Read')\n",
    "others_write = widgets.Checkbox(value=False, description='Write')\n",
    "others_execute = widgets.Checkbox(value=False, description='Execute')\n",
    "\n",
    "octal_label = widgets.Label(value=\"Octal Notation: 000\")\n",
    "permission_label = widgets.Label(value=\"Permission String: ---------\")\n",
    "\n",
    "# Add observers to widgets\n",
    "owner_read.observe(update_permissions, 'value')\n",
    "owner_write.observe(update_permissions, 'value')\n",
    "owner_execute.observe(update_permissions, 'value')\n",
    "\n",
    "group_read.observe(update_permissions, 'value')\n",
    "group_write.observe(update_permissions, 'value')\n",
    "group_execute.observe(update_permissions, 'value')\n",
    "\n",
    "others_read.observe(update_permissions, 'value')\n",
    "others_write.observe(update_permissions, 'value')\n",
    "others_execute.observe(update_permissions, 'value')\n",
    "\n",
    "# Create columns for each user category\n",
    "owner_column = widgets.VBox(\n",
    "    [widgets.Label(value=\"Owner\"), owner_read, owner_write, owner_execute],\n",
    "    layout=widgets.Layout(overflow='hidden')\n",
    ")\n",
    "group_column = widgets.VBox(\n",
    "    [widgets.Label(value=\"Group\"), group_read, group_write, group_execute],\n",
    "    layout=widgets.Layout(overflow='hidden')\n",
    ")\n",
    "others_column = widgets.VBox(\n",
    "    [widgets.Label(value=\"Others\"), others_read, others_write, others_execute],\n",
    "    layout=widgets.Layout(overflow='hidden')\n",
    ")\n",
    "\n",
    "# Arrange the columns in a single row\n",
    "permissions_table = widgets.HBox([owner_column, group_column, others_column])\n",
    "\n",
    "# Display table and labels\n",
    "display(permissions_table, octal_label, permission_label)"
   ]
  },
  {
   "cell_type": "markdown",
   "metadata": {},
   "source": [
    "### Step 5: Calculate Octal Permissions of ```q1.txt```\n",
    "\n",
    "What is the octal representation of ```q1.txt``` that you previously set symbolically? Just use the three numbers for your response.\n",
    "\n",
    "<u>You're encouraged to try answering this exercise without the calculator!</u> "
   ]
  },
  {
   "cell_type": "code",
   "execution_count": 9,
   "metadata": {
    "editable": true,
    "jupyter": {
     "source_hidden": true
    },
    "slideshow": {
     "slide_type": ""
    },
    "tags": []
   },
   "outputs": [
    {
     "data": {
      "application/vnd.jupyter.widget-view+json": {
       "model_id": "f10ca2c62066452bbd48b956d531480c",
       "version_major": 2,
       "version_minor": 0
      },
      "text/plain": [
       "Output()"
      ]
     },
     "metadata": {},
     "output_type": "display_data"
    },
    {
     "data": {
      "application/vnd.jupyter.widget-view+json": {
       "model_id": "fd7bf06d26d44d48854a14225a891aa6",
       "version_major": 2,
       "version_minor": 0
      },
      "text/plain": [
       "Text(value='113', description='Octal:', placeholder='Type the octal value')"
      ]
     },
     "metadata": {},
     "output_type": "display_data"
    },
    {
     "data": {
      "application/vnd.jupyter.widget-view+json": {
       "model_id": "027bb199425048dea6b0c506ba4827af",
       "version_major": 2,
       "version_minor": 0
      },
      "text/plain": [
       "Button(description='Check Permissions', style=ButtonStyle())"
      ]
     },
     "metadata": {},
     "output_type": "display_data"
    },
    {
     "data": {
      "application/vnd.jupyter.widget-view+json": {
       "model_id": "82c038659cd54692850ec23a281183f3",
       "version_major": 2,
       "version_minor": 0
      },
      "text/plain": [
       "Output()"
      ]
     },
     "metadata": {},
     "output_type": "display_data"
    }
   ],
   "source": [
    "# Click the button below to check your work.\n",
    "step5Complete = False\n",
    "\n",
    "# Function to check if the student's answer was correct.\n",
    "def step_5():\n",
    "    # Required to change boolean values.\n",
    "    global step1Complete, step2Complete, step3Complete, step5Complete\n",
    "\n",
    "    # Loading, in case the check is slow.\n",
    "    with output5:\n",
    "        output5.clear_output()\n",
    "        display(HTML(\"<span><img width='12px' height='12px' style='margin-left: 3px;' src='resources/loading.gif'></span>\"))\n",
    "\n",
    "    # First, we need to see if the previous step(s) were completed.\n",
    "    if (not step1Complete and not step2Complete and not step3Complete):\n",
    "        output5.clear_output()\n",
    "        with output5:\n",
    "            display(HTML(\"<span style='color: red;'>You must complete Steps 1-3 before attempting this question.</span>\"))\n",
    "            step5Complete = False\n",
    "\n",
    "    # Next, check to make sure that the input is valid:\n",
    "    elif (len(str(userInput5.value)) != 3 or not userInput5.value.isnumeric()):\n",
    "        output5.clear_output()\n",
    "        with output5:\n",
    "            display(HTML(\"<span style='color: red;'>Double check your octal permissions. It should be three numbers.</span>\"))\n",
    "            step5Complete = False\n",
    "\n",
    "    # Input is valid.\n",
    "    else:\n",
    "        # Now, run the command.\n",
    "        result = subprocess.run('ssh -i /home/USERNAME_GOES_HERE/.ssh/merge_key USERNAME_GOES_HERE@posix /home/.checker/section_2.py 5 ' + userInput5.value, shell=True, stdout=subprocess.DEVNULL)\n",
    "        \n",
    "        if (result.returncode == 1):\n",
    "            output5.clear_output()\n",
    "            with output5:\n",
    "                display(HTML(\"<span style='color: green;'>Your octal value is correct!</span>\"))\n",
    "                step5Complete = True\n",
    "    \n",
    "        elif (result.returncode == 0):\n",
    "            output5.clear_output()\n",
    "            with output5:\n",
    "                display(HTML(\"<span style='color: red;'>Double check your octal value.</span>\"))\n",
    "                step5Complete = False\n",
    "    \n",
    "        elif (result.returncode == 2):\n",
    "            output5.clear_output()\n",
    "            with output5:\n",
    "                display(HTML(\"<span style='color: red;'>There was an error. Check to make sure that q*.txt files exist in ~/posix_practice.</span>\"))\n",
    "                step5Complete = False\n",
    "\n",
    "def check_step_5(b):\n",
    "    step_5()\n",
    "\n",
    "    # Auto-save.\n",
    "    if (not runAllSteps):\n",
    "        trigger_save()\n",
    "\n",
    "# Retrieve the student's response. First, create a loading spinner, since this could take a second or two.\n",
    "loading5 = widgets.Output()\n",
    "display(loading5)\n",
    "with loading5:\n",
    "    loading5.clear_output()\n",
    "    display(HTML(\"<span>Loading your saved response... <img width='12px' height='12px' style='margin-left: 3px;' src='resources/loading.gif'></span>\"))\n",
    "\n",
    "# Creating a text area.\n",
    "userInput5 = widgets.Text(\n",
    "    placeholder='Type the octal value',\n",
    "    description='Octal:',\n",
    ")\n",
    "\n",
    "# Checking if the step has been answered.\n",
    "result = subprocess.run('ssh -o StrictHostKeyChecking=no -i /home/USERNAME_GOES_HERE/.ssh/merge_key USERNAME_GOES_HERE@posix \"cat /home/.checker/responses/step_5_answer.txt 2> /dev/null\"', capture_output=True, text=True, shell=True)\n",
    "userInput5.value = result.stdout\n",
    "\n",
    "# After the student's response was loaded, clear the output.\n",
    "loading5.clear_output()\n",
    "\n",
    "# Creating the button.\n",
    "button = widgets.Button(description=\"Check Permissions\")\n",
    "\n",
    "# Creating an output area.\n",
    "output5 = widgets.Output()\n",
    "\n",
    "# Run the command on click.\n",
    "button.on_click(check_step_5)\n",
    "\n",
    "# Display the output.\n",
    "display(userInput5, button, output5)"
   ]
  },
  {
   "cell_type": "markdown",
   "metadata": {},
   "source": [
    "### Step 6: Calculate Octal Permissions of ```q2.txt```\n",
    "\n",
    "What is the octal representation of ```q2.txt``` that you previously set symbolically? Just use the three numbers for your response.\n",
    "\n",
    "<u>You're encouraged to try answering this exercise without the calculator!</u> "
   ]
  },
  {
   "cell_type": "code",
   "execution_count": 10,
   "metadata": {
    "editable": true,
    "jupyter": {
     "source_hidden": true
    },
    "slideshow": {
     "slide_type": ""
    },
    "tags": []
   },
   "outputs": [
    {
     "data": {
      "application/vnd.jupyter.widget-view+json": {
       "model_id": "36b10fc9b8c64801bcb5ef9ab87cc85c",
       "version_major": 2,
       "version_minor": 0
      },
      "text/plain": [
       "Output()"
      ]
     },
     "metadata": {},
     "output_type": "display_data"
    },
    {
     "data": {
      "application/vnd.jupyter.widget-view+json": {
       "model_id": "5667561fe94c42d7a48ca26cc9fa4e24",
       "version_major": 2,
       "version_minor": 0
      },
      "text/plain": [
       "Text(value='200', description='Octal:', placeholder='Type the octal value')"
      ]
     },
     "metadata": {},
     "output_type": "display_data"
    },
    {
     "data": {
      "application/vnd.jupyter.widget-view+json": {
       "model_id": "d695ea652bf74497bf800efd8e897314",
       "version_major": 2,
       "version_minor": 0
      },
      "text/plain": [
       "Button(description='Check Permissions', style=ButtonStyle())"
      ]
     },
     "metadata": {},
     "output_type": "display_data"
    },
    {
     "data": {
      "application/vnd.jupyter.widget-view+json": {
       "model_id": "00fbf8f67fd24ab9b3286c337ac4a9e2",
       "version_major": 2,
       "version_minor": 0
      },
      "text/plain": [
       "Output()"
      ]
     },
     "metadata": {},
     "output_type": "display_data"
    }
   ],
   "source": [
    "# Click the button below to check your work.\n",
    "step6Complete = False\n",
    "\n",
    "# Function to check if the student's answer was correct.\n",
    "def step_6():\n",
    "    # Required to change boolean values.\n",
    "    global step1Complete, step2Complete, step3Complete, step6Complete\n",
    "\n",
    "    # Loading, in case the check is slow.\n",
    "    with output6:\n",
    "        output6.clear_output()\n",
    "        display(HTML(\"<span><img width='12px' height='12px' style='margin-left: 3px;' src='resources/loading.gif'></span>\"))\n",
    "\n",
    "    # First, we need to see if the previous step(s) were completed.\n",
    "    if (not step1Complete and not step2Complete and not step3Complete):\n",
    "        output6.clear_output()\n",
    "        with output6:\n",
    "            display(HTML(\"<span style='color: red;'>You must complete Steps 1-3 before attempting this question.</span>\"))\n",
    "            step6Complete = False\n",
    "\n",
    "    # Next, check to make sure that the input is valid:\n",
    "    elif (len(str(userInput6.value)) != 3 or not userInput6.value.isnumeric()):\n",
    "        output6.clear_output()\n",
    "        with output6:\n",
    "            display(HTML(\"<span style='color: red;'>Double check your octal permissions. It should be three numbers.</span>\"))\n",
    "            step6Complete = False\n",
    "\n",
    "    # Input is valid.\n",
    "    else:\n",
    "        # Now, run the command.\n",
    "        result = subprocess.run('ssh -i /home/USERNAME_GOES_HERE/.ssh/merge_key USERNAME_GOES_HERE@posix /home/.checker/section_2.py 6 ' + userInput6.value, shell=True, stdout=subprocess.DEVNULL)\n",
    "        \n",
    "        if (result.returncode == 1):\n",
    "            output6.clear_output()\n",
    "            with output6:\n",
    "                display(HTML(\"<span style='color: green;'>Your octal value is correct!</span>\"))\n",
    "                step6Complete = True\n",
    "    \n",
    "        elif (result.returncode == 0):\n",
    "            output6.clear_output()\n",
    "            with output6:\n",
    "                display(HTML(\"<span style='color: red;'>Double check your octal value.</span>\"))\n",
    "                step6Complete = False\n",
    "    \n",
    "        elif (result.returncode == 2):\n",
    "            output6.clear_output()\n",
    "            with output6:\n",
    "                display(HTML(\"<span style='color: red;'>There was an error. Check to make sure that q*.txt files exist in ~/posix_practice.</span>\"))\n",
    "                step6Complete = False\n",
    "\n",
    "def check_step_6(b):\n",
    "    step_6()\n",
    "\n",
    "    # Auto-save.\n",
    "    if (not runAllSteps):\n",
    "        trigger_save()\n",
    "\n",
    "# Retrieve the student's response. First, create a loading spinner, since this could take a second or two.\n",
    "loading6 = widgets.Output()\n",
    "display(loading6)\n",
    "with loading6:\n",
    "    loading6.clear_output()\n",
    "    display(HTML(\"<span>Loading your saved response... <img width='12px' height='12px' style='margin-left: 3px;' src='resources/loading.gif'></span>\"))\n",
    "\n",
    "# Creating a text area.\n",
    "userInput6 = widgets.Text(\n",
    "    placeholder='Type the octal value',\n",
    "    description='Octal:',\n",
    ")\n",
    "\n",
    "# Checking if the step has been answered.\n",
    "result = subprocess.run('ssh -o StrictHostKeyChecking=no -i /home/USERNAME_GOES_HERE/.ssh/merge_key USERNAME_GOES_HERE@posix \"cat /home/.checker/responses/step_6_answer.txt 2> /dev/null\"', capture_output=True, text=True, shell=True)\n",
    "userInput6.value = result.stdout\n",
    "\n",
    "# After the student's response was loaded, clear the output.\n",
    "loading6.clear_output()\n",
    "\n",
    "# Creating the button.\n",
    "button = widgets.Button(description=\"Check Permissions\")\n",
    "\n",
    "# Creating an output area.\n",
    "output6 = widgets.Output()\n",
    "\n",
    "# Run the command on click.\n",
    "button.on_click(check_step_6)\n",
    "\n",
    "# Display the output.\n",
    "display(userInput6, button, output6)"
   ]
  },
  {
   "cell_type": "markdown",
   "metadata": {
    "editable": true,
    "slideshow": {
     "slide_type": ""
    },
    "tags": []
   },
   "source": [
    "### Step 7: Calculate Octal Permissions of ```q3.txt```\n",
    "\n",
    "What is the octal representation of ```q3.txt``` that you previously set symbolically? Just use the three numbers for your response.\n",
    "\n",
    "<u>You're encouraged to try answering this exercise without the calculator!</u> "
   ]
  },
  {
   "cell_type": "code",
   "execution_count": 11,
   "metadata": {
    "jupyter": {
     "source_hidden": true
    }
   },
   "outputs": [
    {
     "data": {
      "application/vnd.jupyter.widget-view+json": {
       "model_id": "e2cd0bee2a5d4a78a7d73c54e6982bc7",
       "version_major": 2,
       "version_minor": 0
      },
      "text/plain": [
       "Output()"
      ]
     },
     "metadata": {},
     "output_type": "display_data"
    },
    {
     "data": {
      "application/vnd.jupyter.widget-view+json": {
       "model_id": "db4a15e047bb49b0a1649f2f5348b230",
       "version_major": 2,
       "version_minor": 0
      },
      "text/plain": [
       "Text(value='615', description='Octal:', placeholder='Type the octal value')"
      ]
     },
     "metadata": {},
     "output_type": "display_data"
    },
    {
     "data": {
      "application/vnd.jupyter.widget-view+json": {
       "model_id": "df44a5e45dac4144bdd918643a00565b",
       "version_major": 2,
       "version_minor": 0
      },
      "text/plain": [
       "Button(description='Check Permissions', style=ButtonStyle())"
      ]
     },
     "metadata": {},
     "output_type": "display_data"
    },
    {
     "data": {
      "application/vnd.jupyter.widget-view+json": {
       "model_id": "7b6a86ca3d8c47c9bea15e200b1cb208",
       "version_major": 2,
       "version_minor": 0
      },
      "text/plain": [
       "Output()"
      ]
     },
     "metadata": {},
     "output_type": "display_data"
    }
   ],
   "source": [
    "# Click the button below to check your work.\n",
    "step7Complete = False\n",
    "\n",
    "# Function to check if the student's answer was correct.\n",
    "def step_7():\n",
    "    # Required to change boolean values.\n",
    "    global step1Complete, step2Complete, step3Complete, step7Complete\n",
    "\n",
    "    # Loading, in case the check is slow.\n",
    "    with output7:\n",
    "        output7.clear_output()\n",
    "        display(HTML(\"<span><img width='12px' height='12px' style='margin-left: 3px;' src='resources/loading.gif'></span>\"))\n",
    "\n",
    "    # First, we need to see if the previous step(s) were completed.\n",
    "    if (not step1Complete and not step2Complete and not step3Complete):\n",
    "        output7.clear_output()\n",
    "        with output7:\n",
    "            display(HTML(\"<span style='color: red;'>You must complete Steps 1-3 before attempting this question.</span>\"))\n",
    "            step7Complete = False\n",
    "\n",
    "    # Next, check to make sure that the input is valid:\n",
    "    elif (len(str(userInput7.value)) != 3 or not userInput7.value.isnumeric()):\n",
    "        output7.clear_output()\n",
    "        with output7:\n",
    "            display(HTML(\"<span style='color: red;'>Double check your octal permissions. It should be three numbers.</span>\"))\n",
    "            step7Complete = False\n",
    "\n",
    "    # Input is valid.\n",
    "    else:\n",
    "        # Now, run the command.\n",
    "        result = subprocess.run('ssh -i /home/USERNAME_GOES_HERE/.ssh/merge_key USERNAME_GOES_HERE@posix /home/.checker/section_2.py 7 ' + userInput7.value, shell=True, stdout=subprocess.DEVNULL)\n",
    "        \n",
    "        if (result.returncode == 1):\n",
    "            output7.clear_output()\n",
    "            with output7:\n",
    "                display(HTML(\"<span style='color: green;'>Your octal value is correct!</span>\"))\n",
    "                step7Complete = True\n",
    "    \n",
    "        elif (result.returncode == 0):\n",
    "            output7.clear_output()\n",
    "            with output7:\n",
    "                display(HTML(\"<span style='color: red;'>Double check your octal value.</span>\"))\n",
    "                step7Complete = False\n",
    "    \n",
    "        elif (result.returncode == 2):\n",
    "            output7.clear_output()\n",
    "            with output7:\n",
    "                display(HTML(\"<span style='color: red;'>There was an error. Check to make sure that q*.txt files exist in ~/posix_practice.</span>\"))\n",
    "                step7Complete = False\n",
    "\n",
    "def check_step_7(b):\n",
    "    step_7()\n",
    "\n",
    "    # Auto-save.\n",
    "    if (not runAllSteps):\n",
    "        trigger_save()\n",
    "\n",
    "# Retrieve the student's response. First, create a loading spinner, since this could take a second or two.\n",
    "loading7 = widgets.Output()\n",
    "display(loading7)\n",
    "with loading7:\n",
    "    loading7.clear_output()\n",
    "    display(HTML(\"<span>Loading your saved response... <img width='12px' height='12px' style='margin-left: 3px;' src='resources/loading.gif'></span>\"))\n",
    "\n",
    "# Creating a text area.\n",
    "userInput7 = widgets.Text(\n",
    "    placeholder='Type the octal value',\n",
    "    description='Octal:',\n",
    ")\n",
    "\n",
    "# Checking if the step has been answered.\n",
    "result = subprocess.run('ssh -o StrictHostKeyChecking=no -i /home/USERNAME_GOES_HERE/.ssh/merge_key USERNAME_GOES_HERE@posix \"cat /home/.checker/responses/step_7_answer.txt 2> /dev/null\"', capture_output=True, text=True, shell=True)\n",
    "userInput7.value = result.stdout\n",
    "\n",
    "# After the student's response was loaded, clear the output.\n",
    "loading7.clear_output()\n",
    "\n",
    "# Creating the button.\n",
    "button = widgets.Button(description=\"Check Permissions\")\n",
    "\n",
    "# Creating an output area.\n",
    "output7 = widgets.Output()\n",
    "\n",
    "# Run the command on click.\n",
    "button.on_click(check_step_7)\n",
    "\n",
    "# Display the output.\n",
    "display(userInput7, button, output7)"
   ]
  },
  {
   "cell_type": "markdown",
   "metadata": {},
   "source": [
    "## <strong>Topic 3: Special POSIX Permissions</strong>\n",
    "\n",
    "Next, you are going to experiment with special permissions. There are three types of special permissions that are used in Unix, with special cases to them. They are called the <strong>Set User ID (SUID)</strong> bit, the <strong>Set Group ID (SGID)</strong> bit, and the <strong>\"sticky bit\"</strong>.\n",
    "\n",
    "The <strong>SUID</strong> bit on an executable file means that the file will run as the User ID of the file's owner as opposed to the User ID of the user executing the file. This is done to allow users to perform tasks that temporarily require the user to be someone else, such as changing passwords or restarting a service. Any program with the UID bit set must be carefully written so as to block all misuse. Innumerable vulnerabilities have stemmed from <strong>SUID</strong> root programs with security holes that allowed users to execute other commands as root.\n",
    "\n",
    "The <strong>SGID</strong> bit on an executable file is like the <strong>SUID</strong> bit, except that the process gains the effective user of the file's group, not its owner or the user executing the file.\n",
    "\n",
    "The <strong>\"sticky bit\"</strong> is a permission that's set on directories. It prevents anyone from being able to delete the directory, unless you're the owner itself. \n",
    "\n",
    "<em>Side Note: The \"sticky bit\" was used in the olden days to tell the kernel to keep an executable's image in memory so that it would not have to be reloaded from disk. This was commonly done with programs such as editors that were used regularly but had a significant load time. Modern systems use the \"sticky bit\" for other uses.</em>\n",
    "\n",
    "There are different ways to apply these special permissions by using ```chmod```.\n",
    "\n",
    "- Symbolic:\n",
    "  - user + s(pecial): ```sudo chmod u+s file```\n",
    "  - group + s(pecial): ```sudo chmod g+s file```\n",
    "  - other + (s)t(icky): ```sudo chmod o+t dir```\n",
    "- Octal: When applying the special permissions, your octal representation will change from 3-digits to 4-digits. The first digit is the special permission, and the last three digits are your standard permissions.\n",
    "  - SUID: 4\n",
    "  - SGID: 2\n",
    "  - Sticky bit: 1\n",
    "    - Example with applying the SGID: ```sudo chmod 2674 file```\n",
    "   \n",
    "Special permissions override the executable bit. When you apply the <strong>SUID</strong> bit, the permissions may look like the following: ```-rwsrw-rw-```. Since the special permission overrides the executable bit (in terms of display), an uppercase letter may be used to show that the special permission is applied <u>and</u> the file is executable by the owner. The example that was just shown indicates that the owner does not have executable permissions. To add executable permissions, the permissions will appear as: ```-rwSrw-rw-```. The sticky bit is a little different. When you see a capital T, it means that it's not world-writable, meaning that not everybody can write to it. If you see a lowercase T, then it's world-writable."
   ]
  },
  {
   "cell_type": "markdown",
   "metadata": {
    "editable": true,
    "slideshow": {
     "slide_type": ""
    },
    "tags": []
   },
   "source": [
    "### Step 8: Locating a Sticky Bit\n",
    "\n",
    "Navigate to the top of the directory, which is the ```/``` directory. List the contents of it. Which directory contains the sticky bit? Type the folder name or the absolute path of it. (Fill in the blank)"
   ]
  },
  {
   "cell_type": "code",
   "execution_count": 12,
   "metadata": {
    "jupyter": {
     "source_hidden": true
    }
   },
   "outputs": [
    {
     "data": {
      "application/vnd.jupyter.widget-view+json": {
       "model_id": "16fe2660d55748318d7f944df90df8ca",
       "version_major": 2,
       "version_minor": 0
      },
      "text/plain": [
       "Output()"
      ]
     },
     "metadata": {},
     "output_type": "display_data"
    },
    {
     "data": {
      "application/vnd.jupyter.widget-view+json": {
       "model_id": "b882789bac0b49c2a1da60fa16d01fe9",
       "version_major": 2,
       "version_minor": 0
      },
      "text/plain": [
       "Text(value='/tmp', description='Directory:', placeholder='Type the directory here')"
      ]
     },
     "metadata": {},
     "output_type": "display_data"
    },
    {
     "data": {
      "application/vnd.jupyter.widget-view+json": {
       "model_id": "9f88985130984e2b879467de717ce19e",
       "version_major": 2,
       "version_minor": 0
      },
      "text/plain": [
       "Button(description='Check Permissions', style=ButtonStyle())"
      ]
     },
     "metadata": {},
     "output_type": "display_data"
    },
    {
     "data": {
      "application/vnd.jupyter.widget-view+json": {
       "model_id": "394450469b0b4175b93440f170e69883",
       "version_major": 2,
       "version_minor": 0
      },
      "text/plain": [
       "Output()"
      ]
     },
     "metadata": {},
     "output_type": "display_data"
    }
   ],
   "source": [
    "# Click the button below to check your work.\n",
    "step8Complete = False\n",
    "\n",
    "# Function to check if the student's answer was correct.\n",
    "def step_8():\n",
    "    # Required to change boolean values.\n",
    "    global step8Complete\n",
    "\n",
    "    # Loading, in case the check is slow.\n",
    "    with output8:\n",
    "        output8.clear_output()\n",
    "        display(HTML(\"<span><img width='12px' height='12px' style='margin-left: 3px;' src='resources/loading.gif'></span>\"))\n",
    "\n",
    "    # Run the command.\n",
    "    result = subprocess.run('ssh -i /home/USERNAME_GOES_HERE/.ssh/merge_key USERNAME_GOES_HERE@posix /home/.checker/section_3.py 8 ' + userInput8.value, shell=True, stdout=subprocess.DEVNULL)\n",
    "    \n",
    "    if (result.returncode == 1):\n",
    "        output8.clear_output()\n",
    "        with output8:\n",
    "            display(HTML(\"<span style='color: green;'>Correct! You will need to use your solution to answer the next step.</span>\"))\n",
    "            step8Complete = True\n",
    "\n",
    "    elif (result.returncode == 0):\n",
    "        output8.clear_output()\n",
    "        with output8:\n",
    "            display(HTML(\"<span style='color: red;'>Double-check your answer.</span>\"))\n",
    "            step8Complete = False\n",
    "\n",
    "    elif (result.returncode == 2):\n",
    "        output8.clear_output()\n",
    "        with output8:\n",
    "            display(HTML(\"<span style='color: red;'>There was an error. Check to make sure that q*.txt files exist in ~/posix_practice.</span>\"))\n",
    "            step8Complete = False\n",
    "\n",
    "def check_step_8(b):\n",
    "    step_8()\n",
    "\n",
    "    # Auto-save.\n",
    "    if (not runAllSteps):\n",
    "        trigger_save()\n",
    "\n",
    "# Retrieve the student's response. First, create a loading spinner, since this could take a second or two.\n",
    "loading8 = widgets.Output()\n",
    "display(loading8)\n",
    "with loading8:\n",
    "    loading8.clear_output()\n",
    "    display(HTML(\"<span>Loading your saved response... <img width='12px' height='12px' style='margin-left: 3px;' src='resources/loading.gif'></span>\"))\n",
    "\n",
    "# Creating a text area.\n",
    "userInput8 = widgets.Text(\n",
    "    placeholder='Type the directory here',\n",
    "    description='Directory:',\n",
    ")\n",
    "\n",
    "# Checking if the step has been answered.\n",
    "result = subprocess.run('ssh -o StrictHostKeyChecking=no -i /home/USERNAME_GOES_HERE/.ssh/merge_key USERNAME_GOES_HERE@posix \"cat /home/.checker/responses/step_8_answer.txt 2> /dev/null\"', capture_output=True, text=True, shell=True)\n",
    "userInput8.value = result.stdout\n",
    "\n",
    "# After the student's response was loaded, clear the output.\n",
    "loading8.clear_output()\n",
    "\n",
    "# Creating the button.\n",
    "button = widgets.Button(description=\"Check Permissions\")\n",
    "\n",
    "# Creating an output area.\n",
    "output8 = widgets.Output()\n",
    "\n",
    "# Run the command on click.\n",
    "button.on_click(check_step_8)\n",
    "\n",
    "# Display the output.\n",
    "display(userInput8, button, output8)"
   ]
  },
  {
   "cell_type": "markdown",
   "metadata": {},
   "source": [
    "### Step 9: Explain Your Reasoning\n",
    "\n",
    "The next step is a short answer question. Therefore, it cannot be auto-graded.\n",
    "\n",
    "<em>Why is there a sticky bit specifically on the directory that you previously answered?</em>\n",
    "\n",
    "Type your answer in the answer box below, and click \"Save\" to save your response to your submission. (Will add this later.)"
   ]
  },
  {
   "cell_type": "code",
   "execution_count": 13,
   "metadata": {
    "jupyter": {
     "source_hidden": true
    }
   },
   "outputs": [
    {
     "data": {
      "application/vnd.jupyter.widget-view+json": {
       "model_id": "bcd13de883ea4a558a7e754a248760f5",
       "version_major": 2,
       "version_minor": 0
      },
      "text/plain": [
       "Output()"
      ]
     },
     "metadata": {},
     "output_type": "display_data"
    },
    {
     "data": {
      "application/vnd.jupyter.widget-view+json": {
       "model_id": "eba782e50a3f43848d7d45d34c0f30b5",
       "version_major": 2,
       "version_minor": 0
      },
      "text/plain": [
       "Textarea(value='', description='Response:', layout=Layout(height='150px', margin='10px', width='75%'), placeho…"
      ]
     },
     "metadata": {},
     "output_type": "display_data"
    },
    {
     "data": {
      "application/vnd.jupyter.widget-view+json": {
       "model_id": "5596cc2820c343cc8a6841fc6c21603a",
       "version_major": 2,
       "version_minor": 0
      },
      "text/plain": [
       "Button(description='Check Permissions', style=ButtonStyle())"
      ]
     },
     "metadata": {},
     "output_type": "display_data"
    },
    {
     "data": {
      "application/vnd.jupyter.widget-view+json": {
       "model_id": "a301d73936e54a4d9d6498ff3e11ff90",
       "version_major": 2,
       "version_minor": 0
      },
      "text/plain": [
       "Output()"
      ]
     },
     "metadata": {},
     "output_type": "display_data"
    }
   ],
   "source": [
    "# Click the button below to check your work.\n",
    "step9Complete = False\n",
    "\n",
    "# Function to save the short answer.\n",
    "def step_9():\n",
    "    # Required to change boolean values.\n",
    "    global step9Complete\n",
    "\n",
    "    # Loading, in case saving is slow.\n",
    "    with output9:\n",
    "        output9.clear_output()\n",
    "        display(HTML(\"<span><img width='12px' height='12px' style='margin-left: 3px;' src='resources/loading.gif'></span>\"))\n",
    "\n",
    "    user_input_quoted = shlex.quote(userInput9.value)\n",
    "    ssh_command = f'ssh -i /home/USERNAME_GOES_HERE/.ssh/merge_key USERNAME_GOES_HERE@posix \"echo {user_input_quoted} > /home/.checker/responses/step_9_answer.txt\"'\n",
    "    result = subprocess.run(ssh_command, shell=True)\n",
    "\n",
    "    if (result.returncode == 1):\n",
    "        output9.clear_output()\n",
    "        with output9:\n",
    "            display(HTML(\"<span style='color: red;'>There was an error saving your response.</span>\"))\n",
    "            step9Complete = False\n",
    "\n",
    "    elif (result.returncode == 0):\n",
    "        output9.clear_output()\n",
    "        with output9:\n",
    "            display(HTML(\"<span style='color: green;'>Your response was saved.</span>\"))\n",
    "            step9Complete = True\n",
    "    \n",
    "    # Auto-save.\n",
    "    if (not runAllSteps):\n",
    "        trigger_save()\n",
    "\n",
    "def check_step_9(b):\n",
    "    step_9()\n",
    "\n",
    "# Retrieve the student's response. First, create a loading spinner, since this could take a second or two.\n",
    "loading9 = widgets.Output()\n",
    "display(loading9)\n",
    "with loading9:\n",
    "    loading9.clear_output()\n",
    "    display(HTML(\"<span>Loading your saved response... <img width='12px' height='12px' style='margin-left: 3px;' src='resources/loading.gif'></span>\"))\n",
    "\n",
    "# Creating a text area.\n",
    "userInput9 = widgets.Textarea(\n",
    "    placeholder='Type your response here',\n",
    "    description='Response:',\n",
    "    layout=widgets.Layout(width='75%', height='150px', margin='10px')\n",
    ")\n",
    "\n",
    "# Checking if the step has been answered.\n",
    "result = subprocess.run('ssh -o StrictHostKeyChecking=no -i /home/USERNAME_GOES_HERE/.ssh/merge_key USERNAME_GOES_HERE@posix \"cat /home/.checker/responses/step_9_answer.txt 2> /dev/null\"', capture_output=True, text=True, shell=True)\n",
    "# Output creates a newline. Remove it.\n",
    "userInput9.value = result.stdout[:-1]\n",
    "\n",
    "# After the student's response was loaded, clear the output.\n",
    "loading9.clear_output()\n",
    "\n",
    "# Creating the button.\n",
    "button = widgets.Button(description=\"Check Permissions\")\n",
    "\n",
    "# Creating an output area.\n",
    "output9 = widgets.Output()\n",
    "\n",
    "# Run the command on click.\n",
    "button.on_click(check_step_9)\n",
    "\n",
    "# Display the output.\n",
    "display(userInput9, button, output9)"
   ]
  },
  {
   "cell_type": "markdown",
   "metadata": {},
   "source": [
    "### Step 10: Applying the Special Permissions\n",
    "\n",
    "Inside of your home folder, there is a directory that's called ```special_permissions/```. This directory contains three files, ```suid.sh```, ```sgid.sh```, and ```sticky/```. Practice applying the SUID, SGID, and sticky bit to the appropriate files and directory."
   ]
  },
  {
   "cell_type": "code",
   "execution_count": 14,
   "metadata": {
    "jupyter": {
     "source_hidden": true
    }
   },
   "outputs": [
    {
     "data": {
      "application/vnd.jupyter.widget-view+json": {
       "model_id": "6c2d8c8532fc49d880222f60e12eb09e",
       "version_major": 2,
       "version_minor": 0
      },
      "text/plain": [
       "Button(description='Check Permissions', style=ButtonStyle())"
      ]
     },
     "metadata": {},
     "output_type": "display_data"
    },
    {
     "data": {
      "application/vnd.jupyter.widget-view+json": {
       "model_id": "5d19489f55a042658ae4803854e72b1a",
       "version_major": 2,
       "version_minor": 0
      },
      "text/plain": [
       "Output()"
      ]
     },
     "metadata": {},
     "output_type": "display_data"
    }
   ],
   "source": [
    "# Click the button below to check your work.\n",
    "step10Complete = False\n",
    "\n",
    "# Function to check the permissions.\n",
    "def step_10():\n",
    "    # Required to change boolean value.\n",
    "    global step10Complete\n",
    "\n",
    "    with output10:\n",
    "        output10.clear_output()\n",
    "        display(HTML(\"<span><img width='12px' height='12px' style='margin-left: 3px;' src='resources/loading.gif'></span>\"))\n",
    "    \n",
    "    result = subprocess.run('ssh -o StrictHostKeyChecking=no -i /home/USERNAME_GOES_HERE/.ssh/merge_key USERNAME_GOES_HERE@posix /home/.checker/section_3.py 10 foo', shell=True)\n",
    "\n",
    "    if (result.returncode == 1):\n",
    "        output10.clear_output()\n",
    "        with output10:\n",
    "            display(HTML(\"<span style='color: green;'>Success! You may continue onto the next step.</span>\"))\n",
    "            step10Complete = True\n",
    "    \n",
    "    elif (result.returncode == 2):\n",
    "        output10.clear_output()\n",
    "        with output10:\n",
    "            display(HTML(\"<span style='color: red;'>q3.txt was not found. Check the directory and see if you may have deleted it.</span>\"))\n",
    "            step10Complete = False\n",
    "\n",
    "    elif (result.returncode == 0):\n",
    "        output10.clear_output()\n",
    "        with output10:\n",
    "            display(HTML(\"<span style='color: red;'>Check your permissions and try again.</span>\"))\n",
    "            step10Complete = False\n",
    "\n",
    "def check_step_10(b):\n",
    "    step_10()\n",
    "\n",
    "    # Auto-save.\n",
    "    if (not runAllSteps):\n",
    "        trigger_save()\n",
    "\n",
    "# Creating the button.\n",
    "button = widgets.Button(description=\"Check Permissions\")\n",
    "\n",
    "# Creating an output area.\n",
    "output10 = widgets.Output()\n",
    "\n",
    "# Run the command on click.\n",
    "button.on_click(check_step_10)\n",
    "\n",
    "# Display the output.\n",
    "display(button, output10)"
   ]
  },
  {
   "cell_type": "markdown",
   "metadata": {},
   "source": [
    "### Step 11: Octal Notation with Special Permissions\n",
    "\n",
    "Suppose a file exists where the ```owner``` has read permissions and Set-User ID, the ```group``` has write and executable permissions, and ```other``` has full permissions. What is the octal notation for this? (Fill in the blank)"
   ]
  },
  {
   "cell_type": "code",
   "execution_count": 15,
   "metadata": {
    "jupyter": {
     "source_hidden": true
    }
   },
   "outputs": [
    {
     "data": {
      "application/vnd.jupyter.widget-view+json": {
       "model_id": "0aabc34d884140c19b4134a2b1543398",
       "version_major": 2,
       "version_minor": 0
      },
      "text/plain": [
       "Output()"
      ]
     },
     "metadata": {},
     "output_type": "display_data"
    },
    {
     "data": {
      "application/vnd.jupyter.widget-view+json": {
       "model_id": "8b9e07b0b77c4fba93b9e770d417d138",
       "version_major": 2,
       "version_minor": 0
      },
      "text/plain": [
       "Text(value='4437', description='Octal:', placeholder='Type the octal value')"
      ]
     },
     "metadata": {},
     "output_type": "display_data"
    },
    {
     "data": {
      "application/vnd.jupyter.widget-view+json": {
       "model_id": "ef29007d3e3149b5ad18786b3e7a21fb",
       "version_major": 2,
       "version_minor": 0
      },
      "text/plain": [
       "Button(description='Check Permissions', style=ButtonStyle())"
      ]
     },
     "metadata": {},
     "output_type": "display_data"
    },
    {
     "data": {
      "application/vnd.jupyter.widget-view+json": {
       "model_id": "5310995a456a42e58346d277947dbc50",
       "version_major": 2,
       "version_minor": 0
      },
      "text/plain": [
       "Output()"
      ]
     },
     "metadata": {},
     "output_type": "display_data"
    }
   ],
   "source": [
    "# Click the button below to check your work.\n",
    "step11Complete = False\n",
    "\n",
    "# Function to check if the student's answer was correct.\n",
    "def step_11():\n",
    "    # Required to change boolean values.\n",
    "    global step10Complete, step11Complete\n",
    "\n",
    "    # Loading, in case the check is slow.\n",
    "    with output11:\n",
    "        output11.clear_output()\n",
    "        display(HTML(\"<span><img width='12px' height='12px' style='margin-left: 3px;' src='resources/loading.gif'></span>\"))\n",
    "\n",
    "    # First, we need to see if the previous step(s) were completed.\n",
    "    if (not step10Complete):\n",
    "        output11.clear_output()\n",
    "        with output11:\n",
    "            display(HTML(\"<span style='color: red;'>You must complete Step 10 before attempting this question.</span>\"))\n",
    "            step11Complete = False\n",
    "\n",
    "    # Next, check to make sure that the input is valid:\n",
    "    elif (len(str(userInput11.value)) != 4 or not userInput11.value.isnumeric()):\n",
    "        output11.clear_output()\n",
    "        with output11:\n",
    "            display(HTML(\"<span style='color: red;'>Double check your octal permissions. It should be four numbers.</span>\"))\n",
    "            step11Complete = False\n",
    "\n",
    "    # Input is valid.\n",
    "    else:\n",
    "        # Now, run the command.\n",
    "        result = subprocess.run('ssh -i /home/USERNAME_GOES_HERE/.ssh/merge_key USERNAME_GOES_HERE@posix /home/.checker/section_3.py 11 ' + userInput11.value, shell=True, stdout=subprocess.DEVNULL)\n",
    "        \n",
    "        if (result.returncode == 1):\n",
    "            output11.clear_output()\n",
    "            with output11:\n",
    "                display(HTML(\"<span style='color: green;'>Your octal value is correct!</span>\"))\n",
    "                step11Complete = True\n",
    "    \n",
    "        elif (result.returncode == 0):\n",
    "            output11.clear_output()\n",
    "            with output11:\n",
    "                display(HTML(\"<span style='color: red;'>Double check your octal value.</span>\"))\n",
    "                step11Complete = False\n",
    "    \n",
    "        elif (result.returncode == 2):\n",
    "            output11.clear_output()\n",
    "            with output11:\n",
    "                display(HTML(\"<span style='color: red;'>There was an error. Check to make sure that q*.txt files exist in ~/posix_practice.</span>\"))\n",
    "                step11Complete = False\n",
    "\n",
    "def check_step_11(b):\n",
    "    step_11()\n",
    "\n",
    "    # Auto-save.\n",
    "    if (not runAllSteps):\n",
    "        trigger_save()\n",
    "\n",
    "# Retrieve the student's response. First, create a loading spinner, since this could take a second or two.\n",
    "loading11 = widgets.Output()\n",
    "display(loading11)\n",
    "with loading11:\n",
    "    loading11.clear_output()\n",
    "    display(HTML(\"<span>Loading your saved response... <img width='12px' height='12px' style='margin-left: 3px;' src='resources/loading.gif'></span>\"))\n",
    "\n",
    "# Creating a text area.\n",
    "userInput11 = widgets.Text(\n",
    "    placeholder='Type the octal value',\n",
    "    description='Octal:',\n",
    ")\n",
    "\n",
    "# Checking if the step has been answered.\n",
    "result = subprocess.run('ssh -o StrictHostKeyChecking=no -i /home/USERNAME_GOES_HERE/.ssh/merge_key USERNAME_GOES_HERE@posix \"cat /home/.checker/responses/step_11_answer.txt 2> /dev/null\"', capture_output=True, text=True, shell=True)\n",
    "userInput11.value = result.stdout\n",
    "\n",
    "# After the student's response was loaded, clear the output.\n",
    "loading11.clear_output()\n",
    "\n",
    "# Creating the button.\n",
    "button = widgets.Button(description=\"Check Permissions\")\n",
    "\n",
    "# Creating an output area.\n",
    "output11 = widgets.Output()\n",
    "\n",
    "# Run the command on click.\n",
    "button.on_click(check_step_11)\n",
    "\n",
    "# Display the output.\n",
    "display(userInput11, button, output11)"
   ]
  },
  {
   "cell_type": "markdown",
   "metadata": {},
   "source": [
    "### Step 12: Check your Understanding\n",
    "\n",
    "True or False?\n",
    "\n",
    "<em>1612 and 1613 set the same permissions.</em>"
   ]
  },
  {
   "cell_type": "code",
   "execution_count": 16,
   "metadata": {
    "jupyter": {
     "source_hidden": true
    }
   },
   "outputs": [
    {
     "data": {
      "application/vnd.jupyter.widget-view+json": {
       "model_id": "c7ecf03c8906480a8ca45661ce22045d",
       "version_major": 2,
       "version_minor": 0
      },
      "text/plain": [
       "RadioButtons(description='Select your answer:', index=1, options=('True', 'False'), value='False')"
      ]
     },
     "metadata": {},
     "output_type": "display_data"
    },
    {
     "data": {
      "application/vnd.jupyter.widget-view+json": {
       "model_id": "b072b787178a4137b480f8a0c395459a",
       "version_major": 2,
       "version_minor": 0
      },
      "text/plain": [
       "Button(description='Check Answer', style=ButtonStyle())"
      ]
     },
     "metadata": {},
     "output_type": "display_data"
    },
    {
     "data": {
      "application/vnd.jupyter.widget-view+json": {
       "model_id": "484087b58a544f99bc18dbc556501cd1",
       "version_major": 2,
       "version_minor": 0
      },
      "text/plain": [
       "Output()"
      ]
     },
     "metadata": {},
     "output_type": "display_data"
    }
   ],
   "source": [
    "# Click the button below to check your work.\n",
    "step12Complete = False\n",
    "\n",
    "# Function to check if the student's answer was correct.\n",
    "def step_12():\n",
    "    # Required to change boolean values.\n",
    "    global step12Complete\n",
    "\n",
    "    # Checking the answer:\n",
    "    result = subprocess.run('ssh -i /home/USERNAME_GOES_HERE/.ssh/merge_key USERNAME_GOES_HERE@posix /home/.checker/section_3.py 12 ' + str(truefalse1.value), shell=True, stdout=subprocess.DEVNULL)\n",
    "\n",
    "    if (result.returncode == 1):\n",
    "        output12.clear_output()\n",
    "        with output12:\n",
    "            display(HTML(\"<span style='color: green;'>Correct!</span>\"))\n",
    "            step12Complete = True\n",
    "\n",
    "    elif (result.returncode == 0):\n",
    "        output12.clear_output()\n",
    "        with output12:\n",
    "            display(HTML(\"<span style='color: red;'>Double-check your answer.</span>\"))\n",
    "            step12Complete = False\n",
    "            \n",
    "def check_step_12(b):\n",
    "    step_12()\n",
    "\n",
    "    # Auto-save.\n",
    "    if (not runAllSteps):\n",
    "        trigger_save()\n",
    "\n",
    "# Creating the button.\n",
    "button = widgets.Button(description=\"Check Answer\")\n",
    "\n",
    "# Creating an output area.\n",
    "output12 = widgets.Output()\n",
    "\n",
    "# Run the command on click.\n",
    "button.on_click(check_step_12)\n",
    "\n",
    "# Creating a text area.\n",
    "truefalse1 = widgets.RadioButtons(\n",
    "    options=['True', 'False'],\n",
    "    description='Select your answer:',\n",
    "    index=None  # No initial selection\n",
    ")\n",
    "\n",
    "# Getting a previously saved response, if any.\n",
    "result = subprocess.run('ssh -o StrictHostKeyChecking=no -i /home/USERNAME_GOES_HERE/.ssh/merge_key USERNAME_GOES_HERE@posix \"cat /home/.checker/responses/step_12_answer.txt 2> /dev/null\"', capture_output=True, text=True, shell=True)\n",
    "\n",
    "# Pre-setting the index to whatever the student has answered.\n",
    "if (result.stdout == 'False'):\n",
    "    truefalse1.index = 1\n",
    "\n",
    "elif (result.stdout == 'True'):\n",
    "    truefalse1.index = 0\n",
    "\n",
    "# Display the output.\n",
    "display(truefalse1, button, output12)"
   ]
  },
  {
   "cell_type": "markdown",
   "metadata": {},
   "source": [
    "## <strong>Topic 4: Applying POSIX Permissions</strong>\n",
    "\n",
    "For the final section of the lab, you are going to be applying what you have previously learned. You are going to be provided a situation involving four users, and work through a set of instructions to set up a small environment where several users will need different permissions for files/directories."
   ]
  },
  {
   "cell_type": "markdown",
   "metadata": {},
   "source": [
    "### Step 13: Creating Users\n",
    "\n",
    "Create four users named ```ash```, ```misty```, ```brock``` and ```james``` (all lowercase). You can use one of two commands: ```adduser``` or ```useradd```. If you prefer an easier command, you are suggested to use ```adduser```.\n",
    "\n",
    "This is the syntax for ```adduser```: ```adduser [options] username```\n",
    "\n",
    "You will be prompted to fill in some fields for this user, like the user's password and some miscellaneous information like phone number(s). You may leave these blank, if you would like.\n",
    "\n",
    "If you would like to view the users on your machine, you may view the ```/etc/passwd``` file. Newer users appear at the bottom of the file.\n",
    "\n",
    "When creating a user, they will not be automatically added to the ```sudo``` group. This means that using ```sudo``` as this user will not work. Do not add them to the ```sudo``` group, otherwise this will easily allow the four users to bypass their permissions."
   ]
  },
  {
   "cell_type": "code",
   "execution_count": 17,
   "metadata": {
    "jupyter": {
     "source_hidden": true
    }
   },
   "outputs": [
    {
     "data": {
      "application/vnd.jupyter.widget-view+json": {
       "model_id": "8516739318374982a883e355ba1345a3",
       "version_major": 2,
       "version_minor": 0
      },
      "text/plain": [
       "Button(description='Check Users', style=ButtonStyle())"
      ]
     },
     "metadata": {},
     "output_type": "display_data"
    },
    {
     "data": {
      "application/vnd.jupyter.widget-view+json": {
       "model_id": "0b2498f0671349f8b5b0a3fde67a403f",
       "version_major": 2,
       "version_minor": 0
      },
      "text/plain": [
       "Output()"
      ]
     },
     "metadata": {},
     "output_type": "display_data"
    }
   ],
   "source": [
    "# Click the button below to check your work.\n",
    "step13Complete = False\n",
    "\n",
    "# Function to check the permissions.\n",
    "def step_13():\n",
    "    # Required to change boolean value.\n",
    "    global step13Complete\n",
    "\n",
    "    with output13:\n",
    "        output13.clear_output()\n",
    "        display(HTML(\"<span><img width='12px' height='12px' style='margin-left: 3px;' src='resources/loading.gif'></span>\"))\n",
    "    \n",
    "    result = subprocess.run('ssh -o StrictHostKeyChecking=no -i /home/USERNAME_GOES_HERE/.ssh/merge_key USERNAME_GOES_HERE@posix /home/.checker/section_4.py 13', shell=True)\n",
    "\n",
    "    if (result.returncode == 1):\n",
    "        output13.clear_output()\n",
    "        with output13:\n",
    "            display(HTML(\"<span style='color: green;'>Success! You may continue onto the next step.</span>\"))\n",
    "            step13Complete = True\n",
    "    \n",
    "    elif (result.returncode == 2):\n",
    "        output13.clear_output()\n",
    "        with output13:\n",
    "            display(HTML(\"<span style='color: red;'>An error occurred with checking your step.</span>\"))\n",
    "            step13Complete = False\n",
    "\n",
    "    elif (result.returncode == 0):\n",
    "        output13.clear_output()\n",
    "        with output13:\n",
    "            display(HTML(\"<span style='color: red;'>At least one of your users were not found in your posix node. Double-check your work.</span>\"))\n",
    "            step13Complete = False\n",
    "\n",
    "def check_step_13(b):\n",
    "    step_13()\n",
    "\n",
    "    # Auto-save.\n",
    "    if (not runAllSteps):\n",
    "        trigger_save()\n",
    "\n",
    "# Creating the button.\n",
    "button = widgets.Button(description=\"Check Users\")\n",
    "\n",
    "# Creating an output area.\n",
    "output13 = widgets.Output()\n",
    "\n",
    "# Run the command on click.\n",
    "button.on_click(check_step_13)\n",
    "\n",
    "# Display the output.\n",
    "display(button, output13)"
   ]
  },
  {
   "cell_type": "markdown",
   "metadata": {},
   "source": [
    "### Step 14: Creating a Group\n",
    "\n",
    "Now, create a group called ```trainers```. Like the previous step, you can use one of two commands: ```addgroup``` or ```groupadd```. If you prefer an easier command, you are suggested to use ```groupadd```.\n",
    "\n",
    "This is the syntax for ```groupadd```: ```groupadd [options] group_name```\n",
    "\n",
    "If you would like to view the groups on your machine, you may use the ```groups``` command. Otherwise, similar to viewing users, you may view the ```/etc/group``` file."
   ]
  },
  {
   "cell_type": "code",
   "execution_count": 18,
   "metadata": {
    "jupyter": {
     "source_hidden": true
    }
   },
   "outputs": [
    {
     "data": {
      "application/vnd.jupyter.widget-view+json": {
       "model_id": "06ee7ca80adc4bb2a3f58c1bda276864",
       "version_major": 2,
       "version_minor": 0
      },
      "text/plain": [
       "Button(description='Check Group', style=ButtonStyle())"
      ]
     },
     "metadata": {},
     "output_type": "display_data"
    },
    {
     "data": {
      "application/vnd.jupyter.widget-view+json": {
       "model_id": "ffc44f8de89f48d6b5f8c07ed2df5585",
       "version_major": 2,
       "version_minor": 0
      },
      "text/plain": [
       "Output()"
      ]
     },
     "metadata": {},
     "output_type": "display_data"
    }
   ],
   "source": [
    "# Click the button below to check your work.\n",
    "step14Complete = False\n",
    "\n",
    "# Function to check the permissions.\n",
    "def step_14():\n",
    "    # Required to change boolean value.\n",
    "    global step14Complete\n",
    "\n",
    "    with output14:\n",
    "        output14.clear_output()\n",
    "        display(HTML(\"<span><img width='12px' height='12px' style='margin-left: 3px;' src='resources/loading.gif'></span>\"))\n",
    "    \n",
    "    result = subprocess.run('ssh -o StrictHostKeyChecking=no -i /home/USERNAME_GOES_HERE/.ssh/merge_key USERNAME_GOES_HERE@posix /home/.checker/section_4.py 14', shell=True)\n",
    "\n",
    "    if (result.returncode == 1):\n",
    "        output14.clear_output()\n",
    "        with output14:\n",
    "            display(HTML(\"<span style='color: green;'>Success! You may continue onto the next step.</span>\"))\n",
    "            step14Complete = True\n",
    "    \n",
    "    elif (result.returncode == 2):\n",
    "        output14.clear_output()\n",
    "        with output14:\n",
    "            display(HTML(\"<span style='color: red;'>An error occurred with checking your step.</span>\"))\n",
    "            step14Complete = False\n",
    "\n",
    "    elif (result.returncode == 0):\n",
    "        output14.clear_output()\n",
    "        with output14:\n",
    "            display(HTML(\"<span style='color: red;'>The trainers group cannot be found in your posix node. Double-check your work.</span>\"))\n",
    "            step14Complete = False\n",
    "\n",
    "def check_step_14(b):\n",
    "    step_14()\n",
    "\n",
    "    # Auto-save.\n",
    "    if (not runAllSteps):\n",
    "        trigger_save()\n",
    "\n",
    "# Creating the button.\n",
    "button = widgets.Button(description=\"Check Group\")\n",
    "\n",
    "# Creating an output area.\n",
    "output14 = widgets.Output()\n",
    "\n",
    "# Run the command on click.\n",
    "button.on_click(check_step_14)\n",
    "\n",
    "# Display the output.\n",
    "display(button, output14)"
   ]
  },
  {
   "cell_type": "markdown",
   "metadata": {},
   "source": [
    "### Step 15: Adding Users to Groups\n",
    "\n",
    "Add ```ash```, ```misty```, and ```brock``` to the ```trainers``` group. Use the ```usermod``` command to add them to the group (short for \"user modification\"). Do not add ```james``` to the ```trainers``` group.\n",
    "\n",
    "This command takes a few parameters, but here’s the general outline for how to add a user to a group: ```sudo usermod -a -G group user```, where ```-a``` means \"add\", ```-G``` means \"group\", and ```group/user``` are the name of the user and the group you wish to add them to."
   ]
  },
  {
   "cell_type": "code",
   "execution_count": 31,
   "metadata": {},
   "outputs": [
    {
     "data": {
      "application/vnd.jupyter.widget-view+json": {
       "model_id": "8c15cf2b138547b096f837a359900ea8",
       "version_major": 2,
       "version_minor": 0
      },
      "text/plain": [
       "Button(description='Check Group', style=ButtonStyle())"
      ]
     },
     "metadata": {},
     "output_type": "display_data"
    },
    {
     "data": {
      "application/vnd.jupyter.widget-view+json": {
       "model_id": "781f4f8b01a94694b65e879fcca39245",
       "version_major": 2,
       "version_minor": 0
      },
      "text/plain": [
       "Output()"
      ]
     },
     "metadata": {},
     "output_type": "display_data"
    }
   ],
   "source": [
    "# Click the button below to check your work.\n",
    "step15Complete = False\n",
    "\n",
    "# Function to check the permissions.\n",
    "def step_15():\n",
    "    # Required to change boolean value.\n",
    "    global step15Complete\n",
    "\n",
    "    with output15:\n",
    "        output15.clear_output()\n",
    "        display(HTML(\"<span><img width='12px' height='12px' style='margin-left: 3px;' src='resources/loading.gif'></span>\"))\n",
    "    \n",
    "    result = subprocess.run('ssh -o StrictHostKeyChecking=no -i /home/USERNAME_GOES_HERE/.ssh/merge_key USERNAME_GOES_HERE@posix /home/.checker/section_4.py 15', shell=True)\n",
    "\n",
    "    if (result.returncode == 1):\n",
    "        output15.clear_output()\n",
    "        with output15:\n",
    "            display(HTML(\"<span style='color: green;'>Success! You may continue onto the next step.</span>\"))\n",
    "            step15Complete = True\n",
    "    \n",
    "    elif (result.returncode == 2):\n",
    "        output15.clear_output()\n",
    "        with output15:\n",
    "            display(HTML(\"<span style='color: red;'>An error occurred with checking your step.</span>\"))\n",
    "            step15Complete = False\n",
    "\n",
    "    elif (result.returncode == 0):\n",
    "        output15.clear_output()\n",
    "        with output15:\n",
    "            display(HTML(\"<span style='color: red;'>The three users cannot be found in the trainers group. Try again.</span>\"))\n",
    "            step15Complete = False\n",
    "\n",
    "    elif (result.returncode == 3):\n",
    "        output15.clear_output()\n",
    "        with output15:\n",
    "            display(HTML(\"<span style='color: red;'>James is inside of the trainers group. Please remove him.</span>\"))\n",
    "            step15Complete = False\n",
    "\n",
    "def check_step_15(b):\n",
    "    step_15()\n",
    "\n",
    "    # Auto-save.\n",
    "    if (not runAllSteps):\n",
    "        trigger_save()\n",
    "\n",
    "# Creating the button.\n",
    "button = widgets.Button(description=\"Check Group\")\n",
    "\n",
    "# Creating an output area.\n",
    "output15 = widgets.Output()\n",
    "\n",
    "# Run the command on click.\n",
    "button.on_click(check_step_15)\n",
    "\n",
    "# Display the output.\n",
    "display(button, output15)"
   ]
  },
  {
   "cell_type": "markdown",
   "metadata": {},
   "source": [
    "### Step 16: Groups and Directories\n",
    "\n",
    "Create a directory named ```/collections/```, but set the group to the ```trainers``` group. This means that any group permissions applied to ```/collections/``` will affect ```ash```, ```misty```, and ```brock```. However, since ```james``` is not in the ```trainers``` group, this means that he will be categorized as ```other```.\n",
    "\n",
    "Use the ```chgrp``` command to change the group of ```/collections/```. This command is similar to ```chmod```."
   ]
  },
  {
   "cell_type": "code",
   "execution_count": 20,
   "metadata": {
    "jupyter": {
     "source_hidden": true
    }
   },
   "outputs": [
    {
     "data": {
      "application/vnd.jupyter.widget-view+json": {
       "model_id": "573332bf3287494080c489a82fcb3d7d",
       "version_major": 2,
       "version_minor": 0
      },
      "text/plain": [
       "Button(description='Check Ownership', style=ButtonStyle())"
      ]
     },
     "metadata": {},
     "output_type": "display_data"
    },
    {
     "data": {
      "application/vnd.jupyter.widget-view+json": {
       "model_id": "6444ffa8c60045ff977d49d53c4df7fb",
       "version_major": 2,
       "version_minor": 0
      },
      "text/plain": [
       "Output()"
      ]
     },
     "metadata": {},
     "output_type": "display_data"
    }
   ],
   "source": [
    "# Click the button below to check your work.\n",
    "step16Complete = False\n",
    "\n",
    "# Function to check the permissions.\n",
    "def step_16():\n",
    "    # Required to change boolean value.\n",
    "    global step16Complete\n",
    "\n",
    "    with output16:\n",
    "        output16.clear_output()\n",
    "        display(HTML(\"<span><img width='12px' height='12px' style='margin-left: 3px;' src='resources/loading.gif'></span>\"))\n",
    "    \n",
    "    result = subprocess.run('ssh -o StrictHostKeyChecking=no -i /home/USERNAME_GOES_HERE/.ssh/merge_key USERNAME_GOES_HERE@posix /home/.checker/section_4.py 16', shell=True)\n",
    "\n",
    "    if (result.returncode == 1):\n",
    "        output16.clear_output()\n",
    "        with output16:\n",
    "            display(HTML(\"<span style='color: green;'>Success! You may continue onto the next step.</span>\"))\n",
    "            step16Complete = True\n",
    "    \n",
    "    elif (result.returncode == 2):\n",
    "        output16.clear_output()\n",
    "        with output16:\n",
    "            display(HTML(\"<span style='color: red;'>An error occurred with checking your step.</span>\"))\n",
    "            step16Complete = False\n",
    "\n",
    "    elif (result.returncode == 0):\n",
    "        output16.clear_output()\n",
    "        with output16:\n",
    "            display(HTML(\"<span style='color: red;'>The group is incorrect for your /collections/ directory.</span>\"))\n",
    "            step16Complete = False\n",
    "\n",
    "    elif (result.returncode == 3):\n",
    "        output16.clear_output()\n",
    "        with output16:\n",
    "            display(HTML(\"<span style='color: red;'>The /collections/ directory cannot be found.</span>\"))\n",
    "            step16Complete = False\n",
    "\n",
    "def check_step_16(b):\n",
    "    step_16()\n",
    "\n",
    "    # Auto-save.\n",
    "    if (not runAllSteps):\n",
    "        trigger_save()\n",
    "\n",
    "# Creating the button.\n",
    "button = widgets.Button(description=\"Check Ownership\")\n",
    "\n",
    "# Creating an output area.\n",
    "output16 = widgets.Output()\n",
    "\n",
    "# Run the command on click.\n",
    "button.on_click(check_step_16)\n",
    "\n",
    "# Display the output.\n",
    "display(button, output16)"
   ]
  },
  {
   "cell_type": "markdown",
   "metadata": {},
   "source": [
    "### Step 17: Changing the ```/collections/``` Permissions\n",
    "\n",
    "Set the ```owner``` of ```/collections/``` to ```ash```. Give ```ash``` and the ```trainers``` full permissions, but give ```james``` no writing permissions to the directory. Allow him to read and execute the directory."
   ]
  },
  {
   "cell_type": "code",
   "execution_count": 21,
   "metadata": {
    "jupyter": {
     "source_hidden": true
    }
   },
   "outputs": [
    {
     "data": {
      "application/vnd.jupyter.widget-view+json": {
       "model_id": "607679109a7c49b0ae2fe3bc25398490",
       "version_major": 2,
       "version_minor": 0
      },
      "text/plain": [
       "Button(description='Check Ownership', style=ButtonStyle())"
      ]
     },
     "metadata": {},
     "output_type": "display_data"
    },
    {
     "data": {
      "application/vnd.jupyter.widget-view+json": {
       "model_id": "b43cf3dc401640a19d408f32c395f18a",
       "version_major": 2,
       "version_minor": 0
      },
      "text/plain": [
       "Output()"
      ]
     },
     "metadata": {},
     "output_type": "display_data"
    }
   ],
   "source": [
    "# Click the button below to check your work.\n",
    "step17Complete = False\n",
    "\n",
    "# Function to check the permissions.\n",
    "def step_17():\n",
    "    # Required to change boolean value.\n",
    "    global step17Complete\n",
    "\n",
    "    with output17:\n",
    "        output17.clear_output()\n",
    "        display(HTML(\"<span><img width='12px' height='12px' style='margin-left: 3px;' src='resources/loading.gif'></span>\"))\n",
    "    \n",
    "    result = subprocess.run('ssh -o StrictHostKeyChecking=no -i /home/USERNAME_GOES_HERE/.ssh/merge_key USERNAME_GOES_HERE@posix /home/.checker/section_4.py 17', shell=True)\n",
    "\n",
    "    if (result.returncode == 1):\n",
    "        output17.clear_output()\n",
    "        with output17:\n",
    "            display(HTML(\"<span style='color: green;'>Success! You may continue onto the next step.</span>\"))\n",
    "            step17Complete = True\n",
    "    \n",
    "    elif (result.returncode == 2):\n",
    "        output17.clear_output()\n",
    "        with output17:\n",
    "            display(HTML(\"<span style='color: red;'>An error occurred with checking your step.</span>\"))\n",
    "            step17Complete = False\n",
    "\n",
    "    elif (result.returncode == 0):\n",
    "        output17.clear_output()\n",
    "        with output17:\n",
    "            display(HTML(\"<span style='color: red;'>Your permissions are incorrect or the owner was not set to ash. Try again.</span>\"))\n",
    "            step17Complete = False\n",
    "\n",
    "    elif (result.returncode == 3):\n",
    "        output17.clear_output()\n",
    "        with output17:\n",
    "            display(HTML(\"<span style='color: red;'>The /collections/ directory cannot be found.</span>\"))\n",
    "            step17Complete = False\n",
    "\n",
    "def check_step_17(b):\n",
    "    step_17()\n",
    "\n",
    "    # Auto-save.\n",
    "    if (not runAllSteps):\n",
    "        trigger_save()\n",
    "\n",
    "# Creating the button.\n",
    "button = widgets.Button(description=\"Check Ownership\")\n",
    "\n",
    "# Creating an output area.\n",
    "output17 = widgets.Output()\n",
    "\n",
    "# Run the command on click.\n",
    "button.on_click(check_step_17)\n",
    "\n",
    "# Display the output.\n",
    "display(button, output17)"
   ]
  },
  {
   "cell_type": "markdown",
   "metadata": {},
   "source": [
    "### Step 18: Switching Users and Ownership\n",
    "\n",
    "Sign in as ```brock```, then create the file called ```personal_notebook.txt``` inside of the ```/collections/``` directory. Do not give anyone else permissions. ```brock``` should be the only one to read/write the file. \n",
    "\n",
    "<u>Tips:</u>\n",
    "- You cannot execute text files.\n",
    "- You can switch users by using the ```su [user]``` command. To exit back to your original account, type ```exit```.\n",
    "- The four users that you made are not ```sudoer```s, so you cannot use ```sudo``` for this."
   ]
  },
  {
   "cell_type": "code",
   "execution_count": 22,
   "metadata": {
    "jupyter": {
     "source_hidden": true
    }
   },
   "outputs": [
    {
     "data": {
      "application/vnd.jupyter.widget-view+json": {
       "model_id": "d48b84ad733c42389751665b7fe1374a",
       "version_major": 2,
       "version_minor": 0
      },
      "text/plain": [
       "Button(description='Check Permissions', style=ButtonStyle())"
      ]
     },
     "metadata": {},
     "output_type": "display_data"
    },
    {
     "data": {
      "application/vnd.jupyter.widget-view+json": {
       "model_id": "5a47e90460b7493386776af7f9531177",
       "version_major": 2,
       "version_minor": 0
      },
      "text/plain": [
       "Output()"
      ]
     },
     "metadata": {},
     "output_type": "display_data"
    }
   ],
   "source": [
    "# Click the button below to check your work.\n",
    "step18Complete = False\n",
    "\n",
    "# Function to check the permissions.\n",
    "def step_18():\n",
    "    # Required to change boolean value.\n",
    "    global step18Complete\n",
    "\n",
    "    with output18:\n",
    "        output18.clear_output()\n",
    "        display(HTML(\"<span><img width='12px' height='12px' style='margin-left: 3px;' src='resources/loading.gif'></span>\"))\n",
    "    \n",
    "    result = subprocess.run('ssh -o StrictHostKeyChecking=no -i /home/USERNAME_GOES_HERE/.ssh/merge_key USERNAME_GOES_HERE@posix /home/.checker/section_4.py 18', shell=True)\n",
    "\n",
    "    if (result.returncode == 1):\n",
    "        output18.clear_output()\n",
    "        with output18:\n",
    "            display(HTML(\"<span style='color: green;'>Success! You may continue onto the next step.</span>\"))\n",
    "            step18Complete = True\n",
    "\n",
    "    elif (result.returncode == 2):\n",
    "        output18.clear_output()\n",
    "        with output18:\n",
    "            display(HTML(\"<span style='color: red;'>An error occurred with checking your step.</span>\"))\n",
    "            step18Complete = False\n",
    "\n",
    "    elif (result.returncode == 0):\n",
    "        output18.clear_output()\n",
    "        with output18:\n",
    "            display(HTML(\"<span style='color: red;'>Your permissions are incorrect, or brock does not have ownership of the file. Try again.</span>\"))\n",
    "            step18Complete = False\n",
    "\n",
    "    elif (result.returncode == 3):\n",
    "        output18.clear_output()\n",
    "        with output18:\n",
    "            display(HTML(\"<span style='color: red;'>The personal_notebook.txt file cannot be found in your /collections/ directory.</span>\"))\n",
    "            step18Complete = False\n",
    "\n",
    "def check_step_18(b):\n",
    "    step_18()\n",
    "\n",
    "    # Auto-save.\n",
    "    if (not runAllSteps):\n",
    "        trigger_save()\n",
    "\n",
    "# Creating the button.\n",
    "button = widgets.Button(description=\"Check Permissions\")\n",
    "\n",
    "# Creating an output area.\n",
    "output18 = widgets.Output()\n",
    "\n",
    "# Run the command on click.\n",
    "button.on_click(check_step_18)\n",
    "\n",
    "# Display the output.\n",
    "display(button, output18)"
   ]
  },
  {
   "cell_type": "markdown",
   "metadata": {},
   "source": [
    "### Step 19: Applying a Special Permission\n",
    "\n",
    "A file called ```run_me``` was created inside of ```/collections/```, which is a C binary file. The source code was removed to prevent possible confusion for this step. \n",
    "\n",
    "```run_me``` is owned by ```ash```. The file returns a single line of output, but for demonstration purposes, we require that ```ash``` is the user that runs this file, no matter what.\n",
    "\n",
    "Currently, no permissions exist on this binary file. Give the ```ash``` and the ```trainers``` executable permissions. Since it’s a binary file, we do not need to read/write to it. However, since ```misty``` and ```brock``` can run this file, we need the file to still be run as ```ash```, no matter who the user is. Do not give ```james``` any permissions to the file. \n",
    "\n",
    "Apply the special permission that allows them to do this."
   ]
  },
  {
   "cell_type": "code",
   "execution_count": 23,
   "metadata": {
    "jupyter": {
     "source_hidden": true
    }
   },
   "outputs": [
    {
     "data": {
      "application/vnd.jupyter.widget-view+json": {
       "model_id": "9eab59b2003f40a2a1bc915a31e5ae4f",
       "version_major": 2,
       "version_minor": 0
      },
      "text/plain": [
       "Button(description='Check Permissions', style=ButtonStyle())"
      ]
     },
     "metadata": {},
     "output_type": "display_data"
    },
    {
     "data": {
      "application/vnd.jupyter.widget-view+json": {
       "model_id": "9b7596394ac5482e80c98e0d9ef7a296",
       "version_major": 2,
       "version_minor": 0
      },
      "text/plain": [
       "Output()"
      ]
     },
     "metadata": {},
     "output_type": "display_data"
    }
   ],
   "source": [
    "# Click the button below to check your work.\n",
    "step19Complete = False\n",
    "\n",
    "# Function to check the permissions.\n",
    "def step_19():\n",
    "    # Required to change boolean value.\n",
    "    global step19Complete\n",
    "\n",
    "    with output19:\n",
    "        output19.clear_output()\n",
    "        display(HTML(\"<span><img width='12px' height='12px' style='margin-left: 3px;' src='resources/loading.gif'></span>\"))\n",
    "    \n",
    "    result = subprocess.run('ssh -o StrictHostKeyChecking=no -i /home/USERNAME_GOES_HERE/.ssh/merge_key USERNAME_GOES_HERE@posix /home/.checker/section_4.py 19', shell=True)\n",
    "\n",
    "    if (result.returncode == 1):\n",
    "        output19.clear_output()\n",
    "        with output19:\n",
    "            display(HTML(\"<span style='color: green;'>Success! You may continue onto the next step.</span>\"))\n",
    "            step19Complete = True\n",
    "    \n",
    "    elif (result.returncode == 2):\n",
    "        output19.clear_output()\n",
    "        with output19:\n",
    "            display(HTML(\"<span style='color: red;'>An error occurred with checking your step.</span>\"))\n",
    "            step19Complete = False\n",
    "\n",
    "    elif (result.returncode == 0):\n",
    "        output19.clear_output()\n",
    "        with output19:\n",
    "            display(HTML(\"<span style='color: red;'>Your permissions are incorrect. Observe the scenario and ensure your special permission is correct, then try again.</span>\"))\n",
    "            step19Complete = False\n",
    "\n",
    "    elif (result.returncode == 3):\n",
    "        output19.clear_output()\n",
    "        with output19:\n",
    "            display(HTML(\"<span style='color: red;'>The run_me file cannot be found. Try re-running the previous step, then repeat this step.</span>\"))\n",
    "            step19Complete = False\n",
    "\n",
    "def check_step_19(b):\n",
    "    step_19()\n",
    "\n",
    "    # Auto-save.\n",
    "    if (not runAllSteps):\n",
    "        trigger_save()\n",
    "\n",
    "# Creating the button.\n",
    "button = widgets.Button(description=\"Check Permissions\")\n",
    "\n",
    "# Creating an output area.\n",
    "output19 = widgets.Output()\n",
    "\n",
    "# Run the command on click.\n",
    "button.on_click(check_step_19)\n",
    "\n",
    "# Display the output.\n",
    "display(button, output19)"
   ]
  },
  {
   "cell_type": "markdown",
   "metadata": {},
   "source": [
    "### Step 20: The ```project/``` Directory\n",
    "\n",
    "```misty``` wants to create a directory for a project that the ```trainers``` group is working on. Sign in as ```misty``` and create a directory called ```project/``` within ```/collections/```, and make sure that it’s owned by ```misty```."
   ]
  },
  {
   "cell_type": "code",
   "execution_count": 24,
   "metadata": {
    "jupyter": {
     "source_hidden": true
    }
   },
   "outputs": [
    {
     "data": {
      "application/vnd.jupyter.widget-view+json": {
       "model_id": "634fc693df364685874e6b114580e674",
       "version_major": 2,
       "version_minor": 0
      },
      "text/plain": [
       "Button(description='Check Ownership', style=ButtonStyle())"
      ]
     },
     "metadata": {},
     "output_type": "display_data"
    },
    {
     "data": {
      "application/vnd.jupyter.widget-view+json": {
       "model_id": "b92c8304f527405cafc0743a8a67510d",
       "version_major": 2,
       "version_minor": 0
      },
      "text/plain": [
       "Output()"
      ]
     },
     "metadata": {},
     "output_type": "display_data"
    }
   ],
   "source": [
    "# Click the button below to check your work.\n",
    "step20Complete = False\n",
    "\n",
    "# Function to check the permissions.\n",
    "def step_20():\n",
    "    # Required to change boolean value.\n",
    "    global step20Complete\n",
    "\n",
    "    with output20:\n",
    "        output20.clear_output()\n",
    "        display(HTML(\"<span><img width='12px' height='12px' style='margin-left: 3px;' src='resources/loading.gif'></span>\"))\n",
    "    \n",
    "    result = subprocess.run('ssh -o StrictHostKeyChecking=no -i /home/USERNAME_GOES_HERE/.ssh/merge_key USERNAME_GOES_HERE@posix /home/.checker/section_4.py 20', shell=True)\n",
    "\n",
    "    if (result.returncode == 1):\n",
    "        output20.clear_output()\n",
    "        with output20:\n",
    "            display(HTML(\"<span style='color: green;'>Success! You may continue onto the next step.</span>\"))\n",
    "            step20Complete = True\n",
    "    \n",
    "    elif (result.returncode == 2):\n",
    "        output20.clear_output()\n",
    "        with output20:\n",
    "            display(HTML(\"<span style='color: red;'>An error occurred with checking your step.</span>\"))\n",
    "            step20Complete = False\n",
    "\n",
    "    elif (result.returncode == 0):\n",
    "        output20.clear_output()\n",
    "        with output20:\n",
    "            display(HTML(\"<span style='color: red;'>Your permissions are incorrect. Observe the scenario and ensure your special permission is correct, then try again.</span>\"))\n",
    "            step20Complete = False\n",
    "\n",
    "    elif (result.returncode == 3):\n",
    "        output20.clear_output()\n",
    "        with output20:\n",
    "            display(HTML(\"<span style='color: red;'>The /collections/project directory cannot be found. Try again.</span>\"))\n",
    "            step20Complete = False\n",
    "\n",
    "def check_step_20(b):\n",
    "    step_20()\n",
    "\n",
    "    # Auto-save.\n",
    "    if (not runAllSteps):\n",
    "        trigger_save()\n",
    "\n",
    "# Creating the button.\n",
    "button = widgets.Button(description=\"Check Ownership\")\n",
    "\n",
    "# Creating an output area.\n",
    "output20 = widgets.Output()\n",
    "\n",
    "# Run the command on click.\n",
    "button.on_click(check_step_20)\n",
    "\n",
    "# Display the output.\n",
    "display(button, output20)"
   ]
  },
  {
   "cell_type": "markdown",
   "metadata": {},
   "source": [
    "### Step 21: The ```project/``` Permissions\n",
    "\n",
    "The trainer's project allows everyone within the ```trainers``` group to contribute to it. Ensure that everyone from ```trainers``` can read, write, and execute the directory. ```misty```, the owner, should have full permissions, as well. \n",
    "\n",
    "```james``` can see the ```project/``` directory. However, ```james``` is not part of the project. Make sure that he has zero permissions on the directory.\n",
    "\n",
    "<u>Tip</u>: When ```misty``` created this directory, the group automatically defaults to ```misty```. If your test is failing, make sure that ```trainers``` is the group."
   ]
  },
  {
   "cell_type": "code",
   "execution_count": 25,
   "metadata": {
    "jupyter": {
     "source_hidden": true
    }
   },
   "outputs": [
    {
     "data": {
      "application/vnd.jupyter.widget-view+json": {
       "model_id": "156150efadc2494c8dc68f68343a0f15",
       "version_major": 2,
       "version_minor": 0
      },
      "text/plain": [
       "Button(description='Check Permissions', style=ButtonStyle())"
      ]
     },
     "metadata": {},
     "output_type": "display_data"
    },
    {
     "data": {
      "application/vnd.jupyter.widget-view+json": {
       "model_id": "5cac1ccfef26460b99737fa209ee4578",
       "version_major": 2,
       "version_minor": 0
      },
      "text/plain": [
       "Output()"
      ]
     },
     "metadata": {},
     "output_type": "display_data"
    }
   ],
   "source": [
    "# Click the button below to check your work.\n",
    "step21Complete = False\n",
    "\n",
    "# Function to check the permissions.\n",
    "def step_21():\n",
    "    # Required to change boolean value.\n",
    "    global step21Complete, step22Complete, step23Complete\n",
    "\n",
    "    with output21:\n",
    "        output21.clear_output()\n",
    "        display(HTML(\"<span><img width='12px' height='12px' style='margin-left: 3px;' src='resources/loading.gif'></span>\"))\n",
    "    \n",
    "    result = subprocess.run('ssh -o StrictHostKeyChecking=no -i /home/USERNAME_GOES_HERE/.ssh/merge_key USERNAME_GOES_HERE@posix /home/.checker/section_4.py 21', shell=True)\n",
    "\n",
    "    if (result.returncode == 1 or step22Complete or step23Complete):\n",
    "        output21.clear_output()\n",
    "        with output21:\n",
    "            display(HTML(\"<span style='color: green;'>Success! You may continue onto the next step.</span>\"))\n",
    "            step21Complete = True\n",
    "    \n",
    "    elif (result.returncode == 2):\n",
    "        output21.clear_output()\n",
    "        with output21:\n",
    "            display(HTML(\"<span style='color: red;'>An error occurred with checking your step.</span>\"))\n",
    "            step21Complete = False\n",
    "\n",
    "    elif (result.returncode == 0):\n",
    "        output21.clear_output()\n",
    "        with output21:\n",
    "            display(HTML(\"<span style='color: red;'>Your permissions are incorrect. Observe the scenario and try again.</span>\"))\n",
    "            step21Complete = False\n",
    "\n",
    "    elif (result.returncode == 3):\n",
    "        output21.clear_output()\n",
    "        with output21:\n",
    "            display(HTML(\"<span style='color: red;'>The run_me file cannot be found. Try re-running the previous step, then repeat this step.</span>\"))\n",
    "            step21Complete = False\n",
    "\n",
    "def check_step_21(b):\n",
    "    step_21()\n",
    "\n",
    "    # Auto-save.\n",
    "    if (not runAllSteps):\n",
    "        trigger_save()\n",
    "\n",
    "# Creating the button.\n",
    "button = widgets.Button(description=\"Check Permissions\")\n",
    "\n",
    "# Creating an output area.\n",
    "output21 = widgets.Output()\n",
    "\n",
    "# Run the command on click.\n",
    "button.on_click(check_step_21)\n",
    "\n",
    "# Display the output.\n",
    "display(button, output21)"
   ]
  },
  {
   "cell_type": "markdown",
   "metadata": {},
   "source": [
    "### Step 22: Applying Another Special Permission\n",
    "\n",
    "```misty``` wants to be cautious and does not want ```ash``` or ```brock``` to accidentally delete the directory. ```misty```, the owner, should be the only one who can delete this directory. Set the special permission on ```project/``` to allow this to happen."
   ]
  },
  {
   "cell_type": "code",
   "execution_count": 26,
   "metadata": {
    "jupyter": {
     "source_hidden": true
    }
   },
   "outputs": [
    {
     "data": {
      "application/vnd.jupyter.widget-view+json": {
       "model_id": "e3e5e0af008848a4a8f77d5e89d5330b",
       "version_major": 2,
       "version_minor": 0
      },
      "text/plain": [
       "Button(description='Check Permissions', style=ButtonStyle())"
      ]
     },
     "metadata": {},
     "output_type": "display_data"
    },
    {
     "data": {
      "application/vnd.jupyter.widget-view+json": {
       "model_id": "3fe2c73cf0a74e4080213875e10228f2",
       "version_major": 2,
       "version_minor": 0
      },
      "text/plain": [
       "Output()"
      ]
     },
     "metadata": {},
     "output_type": "display_data"
    }
   ],
   "source": [
    "# Click the button below to check your work.\n",
    "step22Complete = False\n",
    "\n",
    "# Function to check the permissions.\n",
    "def step_22():\n",
    "    # Required to change boolean value.\n",
    "    global step22Complete\n",
    "\n",
    "    with output22:\n",
    "        output22.clear_output()\n",
    "        display(HTML(\"<span><img width='12px' height='12px' style='margin-left: 3px;' src='resources/loading.gif'></span>\"))\n",
    "    \n",
    "    result = subprocess.run('ssh -o StrictHostKeyChecking=no -i /home/USERNAME_GOES_HERE/.ssh/merge_key USERNAME_GOES_HERE@posix /home/.checker/section_4.py 22', shell=True)\n",
    "\n",
    "    if (result.returncode == 1):\n",
    "        output22.clear_output()\n",
    "        with output22:\n",
    "            display(HTML(\"<span style='color: green;'>Success! You may continue onto the next step.</span>\"))\n",
    "            step22Complete = True\n",
    "    \n",
    "    elif (result.returncode == 2):\n",
    "        output22.clear_output()\n",
    "        with output22:\n",
    "            display(HTML(\"<span style='color: red;'>An error occurred with checking your step.</span>\"))\n",
    "            step22Complete = False\n",
    "\n",
    "    elif (result.returncode == 0):\n",
    "        output22.clear_output()\n",
    "        with output22:\n",
    "            display(HTML(\"<span style='color: red;'>Your permissions are incorrect. Observe the scenario and ensure your special permission is correct, then try again.</span>\"))\n",
    "            step22Complete = False\n",
    "\n",
    "    elif (result.returncode == 3):\n",
    "        output22.clear_output()\n",
    "        with output22:\n",
    "            display(HTML(\"<span style='color: red;'>The run_me file cannot be found. Try re-running the previous step, then repeat this step.</span>\"))\n",
    "            step22Complete = False\n",
    "\n",
    "def check_step_22(b):\n",
    "    step_22()\n",
    "\n",
    "    # Auto-save.\n",
    "    if (not runAllSteps):\n",
    "        trigger_save()\n",
    "\n",
    "# Creating the button.\n",
    "button = widgets.Button(description=\"Check Permissions\")\n",
    "\n",
    "# Creating an output area.\n",
    "output22 = widgets.Output()\n",
    "\n",
    "# Run the command on click.\n",
    "button.on_click(check_step_22)\n",
    "\n",
    "# Display the output.\n",
    "display(button, output22)"
   ]
  },
  {
   "cell_type": "markdown",
   "metadata": {},
   "source": [
    "### Step 23: Write Protection\n",
    "\n",
    "```ash``` wrote a file called ```progress_report.txt``` inside of the ```project/``` directory. The ```trainers``` finished their project, and they do not want anything to be changed or overwritten. However, they still want to be able to see their results. Revoke the write permissions across everyone in the ```project/``` directory, but allow ```misty``` and the ```trainers``` to still read/execute the ```project/``` directory.\n",
    "\n",
    "<u>Tips</u>: \n",
    "- If you are using symbolic notation instead of octal notation, you may need to use the ```a``` tag, which means \"all\". Using ```sudo chmod -w project/``` will not work because it will only affect the owner, due to the sticky bit. Not the trainers.\n",
    "- Your account, ```USERNAME_GOES_HERE```, does not have permission into the ```project``` directory. Either be ```root``` or sign into a ```trainers``` account to access the directory."
   ]
  },
  {
   "cell_type": "code",
   "execution_count": 27,
   "metadata": {
    "jupyter": {
     "source_hidden": true
    }
   },
   "outputs": [
    {
     "data": {
      "application/vnd.jupyter.widget-view+json": {
       "model_id": "15620dc761b8477e835d3ea75c7efade",
       "version_major": 2,
       "version_minor": 0
      },
      "text/plain": [
       "Button(description='Check Permissions', style=ButtonStyle())"
      ]
     },
     "metadata": {},
     "output_type": "display_data"
    },
    {
     "data": {
      "application/vnd.jupyter.widget-view+json": {
       "model_id": "98901f2b93a24137aa005d433c50d65e",
       "version_major": 2,
       "version_minor": 0
      },
      "text/plain": [
       "Output()"
      ]
     },
     "metadata": {},
     "output_type": "display_data"
    }
   ],
   "source": [
    "# Click the button below to check your work.\n",
    "step23Complete = False\n",
    "\n",
    "# Function to check the permissions.\n",
    "def step_23():\n",
    "    # Required to change boolean value.\n",
    "    global step23Complete\n",
    "\n",
    "    with output23:\n",
    "        output23.clear_output()\n",
    "        display(HTML(\"<span><img width='12px' height='12px' style='margin-left: 3px;' src='resources/loading.gif'></span>\"))\n",
    "    \n",
    "    result = subprocess.run('ssh -o StrictHostKeyChecking=no -i /home/USERNAME_GOES_HERE/.ssh/merge_key USERNAME_GOES_HERE@posix /home/.checker/section_4.py 23', shell=True)\n",
    "\n",
    "    if (result.returncode == 1):\n",
    "        output23.clear_output()\n",
    "        with output23:\n",
    "            display(HTML(\"<span style='color: green;'>Success! You have completed the lab!</span>\"))\n",
    "            step23Complete = True\n",
    "    \n",
    "    elif (result.returncode == 2):\n",
    "        output23.clear_output()\n",
    "        with output23:\n",
    "            display(HTML(\"<span style='color: red;'>An error occurred with checking your step.</span>\"))\n",
    "            step23Complete = False\n",
    "\n",
    "    elif (result.returncode == 0):\n",
    "        output23.clear_output()\n",
    "        with output23:\n",
    "            display(HTML(\"<span style='color: red;'>Check your permissions, then try again.</span>\"))\n",
    "            step23Complete = False\n",
    "\n",
    "    elif (result.returncode == 3):\n",
    "        output23.clear_output()\n",
    "        with output23:\n",
    "            display(HTML(\"<span style='color: red;'>The progress_report.txt file cannot be found. Try re-running the previous step, then repeat this step.</span>\"))\n",
    "            step23Complete = False\n",
    "\n",
    "def check_step_23(b):\n",
    "    step_23()\n",
    "\n",
    "    # Auto-save.\n",
    "    if (not runAllSteps):\n",
    "        trigger_save()\n",
    "\n",
    "# Creating the button.\n",
    "button = widgets.Button(description=\"Check Permissions\")\n",
    "\n",
    "# Creating an output area.\n",
    "output23 = widgets.Output()\n",
    "\n",
    "# Run the command on click.\n",
    "button.on_click(check_step_23)\n",
    "\n",
    "# Display the output.\n",
    "display(button, output23)"
   ]
  },
  {
   "cell_type": "markdown",
   "metadata": {},
   "source": [
    "## <strong>Grading</strong>\n",
    "\n",
    "To check your overall grade, click on the button below."
   ]
  },
  {
   "cell_type": "code",
   "execution_count": 28,
   "metadata": {
    "jupyter": {
     "source_hidden": true
    }
   },
   "outputs": [
    {
     "data": {
      "application/vnd.jupyter.widget-view+json": {
       "model_id": "4c306354a0b04a7d910145a8de5c0669",
       "version_major": 2,
       "version_minor": 0
      },
      "text/plain": [
       "Button(description='Calculate Grade', style=ButtonStyle())"
      ]
     },
     "metadata": {},
     "output_type": "display_data"
    },
    {
     "data": {
      "application/vnd.jupyter.widget-view+json": {
       "model_id": "b78637c748a34189929e0f872970ff97",
       "version_major": 2,
       "version_minor": 0
      },
      "text/plain": [
       "Output()"
      ]
     },
     "metadata": {},
     "output_type": "display_data"
    }
   ],
   "source": [
    "# Click the button below to check your overall grade.\n",
    "steps_to_check = [step_1, step_2, step_3, step_4, step_5, step_6, step_7, step_8, step_9, step_10, step_11, step_12, step_13, step_14, step_15, step_16, step_17, step_18, step_19, step_20, step_21, step_22, step_23]   \n",
    "\n",
    "# Function to calculate grade after refreshing the cell\n",
    "def calculate_grade(b):\n",
    "    # To not auto-save at each step.\n",
    "    global runAllSteps\n",
    "    runAllSteps = True\n",
    "\n",
    "    with gradeOutput:\n",
    "        gradeOutput.clear_output()\n",
    "        display(HTML(\"<span>Testing all steps. Please wait.</span> \\\n",
    "            <span><img width='12px' height='12px' style='margin-left: 3px;' src='resources/loading.gif'></span>\"))\n",
    "    \n",
    "    # Required for checking the boolean values.\n",
    "    for func in steps_to_check:\n",
    "        func()  # Call each function in order.\n",
    "\n",
    "    # Assuming steps are updated above this cell in some way\n",
    "    steps = [step1Complete, step2Complete, step3Complete, step4Complete, step5Complete, step6Complete, step7Complete, step8Complete, step9Complete, step10Complete, step11Complete, step12Complete, step13Complete, step14Complete, step15Complete, step16Complete, step17Complete, step18Complete, step19Complete, step20Complete, step21Complete, step22Complete, step23Complete]\n",
    "    output = \"\"\n",
    "    stepsCorrect = 0\n",
    "    numOfSteps = len(steps)\n",
    "\n",
    "    for i in range(numOfSteps):\n",
    "        if steps[i]:\n",
    "            stepsCorrect += 1\n",
    "            output += \"<div style='color: green;'>Step \" + str(i + 1) + \" is complete.</div>\"\n",
    "        else:\n",
    "            output += \"<div style='color: red;'>Step \" + str(i + 1) + \" is incomplete.</div>\"\n",
    "\n",
    "    output += \"<div style='color: black;'>You have \" + str(stepsCorrect) + \" out of \" + str(numOfSteps) + \" steps completed.</div>\"\n",
    "\n",
    "    with gradeOutput:\n",
    "        gradeOutput.clear_output()\n",
    "        display(HTML(output))\n",
    "\n",
    "    # Auto-save at the very end.\n",
    "    runAllSteps = False\n",
    "    if (not runAllSteps):\n",
    "        trigger_save()\n",
    "\n",
    "# Create a button to refresh the cell and another to calculate grade.\n",
    "grade_button = widgets.Button(description=\"Calculate Grade\")\n",
    "\n",
    "# Link buttons to functions.\n",
    "grade_button.on_click(calculate_grade)\n",
    "\n",
    "# Output area.\n",
    "gradeOutput = widgets.Output()\n",
    "\n",
    "# Display the buttons and output.\n",
    "display(grade_button, gradeOutput)"
   ]
  },
  {
   "cell_type": "markdown",
   "metadata": {},
   "source": [
    "### Stopping the Lab\n",
    "\n",
    "Once you are done with the lab, click on the \"Stop Lab\" button below. <strong>This will delete your materialization, which will delete all of the lab's resources.</strong> Your progress is saved automatically in ```saves/``` within the sidebar of your XDC. You may load this lab in the future by clicking \"Load Lab\" at the top."
   ]
  },
  {
   "cell_type": "code",
   "execution_count": 29,
   "metadata": {
    "jupyter": {
     "source_hidden": true
    }
   },
   "outputs": [
    {
     "data": {
      "application/vnd.jupyter.widget-view+json": {
       "model_id": "ae1c2d19dcc0480dab035f6f8470e618",
       "version_major": 2,
       "version_minor": 0
      },
      "text/plain": [
       "Checkbox(value=False, description='Confirm', indent=False)"
      ]
     },
     "metadata": {},
     "output_type": "display_data"
    },
    {
     "data": {
      "application/vnd.jupyter.widget-view+json": {
       "model_id": "48b532d3c75b4c92afe08d3cbda06efa",
       "version_major": 2,
       "version_minor": 0
      },
      "text/plain": [
       "Button(description='Stop Lab', style=ButtonStyle())"
      ]
     },
     "metadata": {},
     "output_type": "display_data"
    },
    {
     "data": {
      "application/vnd.jupyter.widget-view+json": {
       "model_id": "c321def5f5f84f9fb0663951514f3c7c",
       "version_major": 2,
       "version_minor": 0
      },
      "text/plain": [
       "Output()"
      ]
     },
     "metadata": {},
     "output_type": "display_data"
    }
   ],
   "source": [
    "# Click the button below to stop the experiment.\n",
    "def stoplab(button):\n",
    "    # Check to make sure that the student wants to confirm ending the lab.\n",
    "    if (confirm.value == False):\n",
    "        with stop_output:\n",
    "            stop_output.clear_output()\n",
    "            display(HTML(\"<newline><span style='color: red;'>Please confirm that you wish to end the lab.</span>\"))\n",
    "\n",
    "    else:\n",
    "        # Defining the lab name.\n",
    "        labname = \"posix\"\n",
    "    \n",
    "        # Writing the information to an empty field below the button.\n",
    "        with stop_output:\n",
    "            stop_output.clear_output()\n",
    "            \n",
    "            display(HTML(\"<span>Stopping the \" + labname + \" lab. This will take a minute to process. Please wait.</span> \\\n",
    "                <span><img width='12px' height='12px' style='margin-left: 3px;' src='resources/loading.gif'></span>\"))\n",
    "            stopexp = subprocess.run('su - USERNAME_GOES_HERE -c \"bash /share/stopexp ' + labname + 'jup\"', capture_output=True, text=True, shell=True)\n",
    "            stop_output.clear_output()\n",
    "            display(HTML(\"<span>Done. Result:</span>\"))\n",
    "            print(stopexp.stdout)\n",
    "    \n",
    "            display(HTML(\"<newline><span style='color: green;'><strong>Your lab has been ended.</strong></span>\"))\n",
    "\n",
    "# Creating the button.\n",
    "stopButton = widgets.Button(description=\"Stop Lab\")\n",
    "\n",
    "# Create a confirmation check.\n",
    "confirm = widgets.Checkbox(\n",
    "    value=False,\n",
    "    description='Confirm',\n",
    "    disabled=False,\n",
    "    indent=False\n",
    ")\n",
    "\n",
    "# Creating an output area.\n",
    "stop_output = widgets.Output()\n",
    "\n",
    "# Run the command on click.\n",
    "stopButton.on_click(stoplab)\n",
    "\n",
    "# Display the output.\n",
    "display(confirm, stopButton, stop_output)"
   ]
  }
 ],
 "metadata": {
  "kernelspec": {
   "display_name": "Python 3 (ipykernel)",
   "language": "python",
   "name": "python3"
  },
  "language_info": {
   "codemirror_mode": {
    "name": "ipython",
    "version": 3
   },
   "file_extension": ".py",
   "mimetype": "text/x-python",
   "name": "python",
   "nbconvert_exporter": "python",
   "pygments_lexer": "ipython3",
   "version": "3.10.12"
  }
 },
 "nbformat": 4,
 "nbformat_minor": 4
}
