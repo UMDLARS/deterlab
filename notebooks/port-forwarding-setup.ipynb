{
 "cells": [
  {
   "cell_type": "markdown",
   "metadata": {
    "editable": true,
    "slideshow": {
     "slide_type": ""
    },
    "tags": [
     "hide-input"
    ]
   },
   "source": [
    "# <strong>Setting Up Port Forwarding</strong>\n",
    "\n",
    "Two labs (SQL Injection and Cross-Site Scripting) require port forwarding to be set up in order to access a web server that's hosted from these nodes. This notebook will be a guide that will assist you with how to configure port forwarding for your machine.\n",
    "\n",
    "First, click \"Create Key\" below. This will automatically generate a zip file that contains required files that your machine will need to use."
   ]
  },
  {
   "cell_type": "code",
   "execution_count": 4,
   "metadata": {
    "editable": true,
    "jupyter": {
     "source_hidden": true
    },
    "jupyterlab-hide-cells:hidden": true,
    "slideshow": {
     "slide_type": ""
    },
    "tags": []
   },
   "outputs": [
    {
     "data": {
      "application/vnd.jupyter.widget-view+json": {
       "model_id": "6c0c742f55c1448da6790e5047f70620",
       "version_major": 2,
       "version_minor": 0
      },
      "text/plain": [
       "Button(description='Check Folder', style=ButtonStyle())"
      ]
     },
     "metadata": {},
     "output_type": "display_data"
    },
    {
     "data": {
      "application/vnd.jupyter.widget-view+json": {
       "model_id": "53e2c7f0a40d436eb09632a6b7aefd60",
       "version_major": 2,
       "version_minor": 0
      },
      "text/plain": [
       "Output()"
      ]
     },
     "metadata": {},
     "output_type": "display_data"
    }
   ],
   "source": [
    "# Click the button below to check your work.\n",
    "\n",
    "# Function to check if the folder exists\n",
    "def step_1():\n",
    "    # Required to change boolean value.\n",
    "    global step1Complete, step2Complete\n",
    "\n",
    "    with output1:\n",
    "        output1.clear_output()\n",
    "        display(HTML(\"<span><img width='12px' height='12px' style='margin-left: 3px;' src='resources/loading.gif'></span>\"))\n",
    "    \n",
    "    result = subprocess.run('ssh -o StrictHostKeyChecking=no -i /home/umdsectc/.ssh/merge_key umdsectc@intro /home/.checker/step1.py', shell=True)\n",
    "\n",
    "    if (result.returncode == 1 or (result.returncode == 0 and step2Complete)):\n",
    "        output1.clear_output()\n",
    "        with output1:\n",
    "            display(HTML(\"<span style='color: green;'>Success! You may continue onto the next step.</span>\"))\n",
    "            step1Complete = True\n",
    "    \n",
    "    else:\n",
    "        output1.clear_output()\n",
    "        with output1:\n",
    "            display(HTML(\"<span style='color: red;'>Check your work and try again. Did you mistype the folder name?</span>\"))\n",
    "            step1Complete = False\n",
    "\n",
    "def check_step_1(b):\n",
    "    step_1()\n",
    "\n",
    "    # Auto-save.\n",
    "    if (not runAllSteps):\n",
    "        trigger_save()\n",
    "\n",
    "# Creating the button.\n",
    "button = widgets.Button(description=\"Check Folder\")\n",
    "\n",
    "# Creating an output area.\n",
    "output1 = widgets.Output()\n",
    "\n",
    "# Run the command on click.\n",
    "button.on_click(check_step_1)\n",
    "\n",
    "# Display the output.\n",
    "display(button, output1)"
   ]
  },
  {
   "cell_type": "code",
   "execution_count": 5,
   "metadata": {
    "editable": true,
    "jupyter": {
     "source_hidden": true
    },
    "slideshow": {
     "slide_type": ""
    },
    "tags": []
   },
   "outputs": [
    {
     "data": {
      "application/vnd.jupyter.widget-view+json": {
       "model_id": "793b59803f3247a8bb4b3e687e6cd155",
       "version_major": 2,
       "version_minor": 0
      },
      "text/plain": [
       "Button(description='Check File', style=ButtonStyle())"
      ]
     },
     "metadata": {},
     "output_type": "display_data"
    },
    {
     "data": {
      "application/vnd.jupyter.widget-view+json": {
       "model_id": "a3565a5fbfd949efb6ca841d936b8b2c",
       "version_major": 2,
       "version_minor": 0
      },
      "text/plain": [
       "Output()"
      ]
     },
     "metadata": {},
     "output_type": "display_data"
    }
   ],
   "source": [
    "# Click the button below to check your work.\n",
    "\n",
    "# Function to check if the file was created and perms were changed.\n",
    "def step_2():\n",
    "    # Required to change boolean value.\n",
    "    global step2Complete, step3Complete\n",
    "\n",
    "    # Loading, in case the check is slow.\n",
    "    with output2:\n",
    "        output2.clear_output()\n",
    "        display(HTML(\"<span><img width='12px' height='12px' style='margin-left: 3px;' src='resources/loading.gif'></span>\"))\n",
    "    \n",
    "    result = subprocess.run('ssh -i /home/umdsectc/.ssh/merge_key umdsectc@intro /home/.checker/step2.py', shell=True)\n",
    "\n",
    "    # Note: If already completed, it cannot be accidentally \"undone\" since it's part of the next step.\n",
    "    if (result.returncode == 2 or step3Complete) or step2Complete:\n",
    "        output2.clear_output()\n",
    "        with output2:\n",
    "            display(HTML(\"<span style='color: green;'>Success! You may continue onto the next step.</span>\"))\n",
    "            step2Complete = True\n",
    "    elif (result.returncode == 1):\n",
    "        output2.clear_output()\n",
    "        with output2:\n",
    "            display(HTML(\"<span style='color: red;'>The text file is created, but you forgot to change the permissions.</span>\"))\n",
    "            step2Complete = False\n",
    "    else:\n",
    "        output2.clear_output()\n",
    "        with output2:\n",
    "            display(HTML(\"<span style='color: red;'>Check your work and try again.</span>\"))\n",
    "            step2Complete = False\n",
    "\n",
    "def check_step_2(b):\n",
    "    step_2()\n",
    "\n",
    "    # Auto-save.\n",
    "    if (not runAllSteps):\n",
    "        trigger_save()\n",
    "\n",
    "# Creating the button.\n",
    "button = widgets.Button(description=\"Check File\")\n",
    "\n",
    "# Creating an output area.\n",
    "output2 = widgets.Output()\n",
    "\n",
    "# Run the command on click.\n",
    "button.on_click(check_step_2)\n",
    "\n",
    "# Display the output.\n",
    "display(button, output2)"
   ]
  },
  {
   "cell_type": "code",
   "execution_count": 6,
   "metadata": {
    "editable": true,
    "jupyter": {
     "source_hidden": true
    },
    "slideshow": {
     "slide_type": ""
    },
    "tags": []
   },
   "outputs": [
    {
     "data": {
      "application/vnd.jupyter.widget-view+json": {
       "model_id": "eb742981fd7847398c4329d5f55fbeba",
       "version_major": 2,
       "version_minor": 0
      },
      "text/plain": [
       "Button(description='Check Folder', style=ButtonStyle())"
      ]
     },
     "metadata": {},
     "output_type": "display_data"
    },
    {
     "data": {
      "application/vnd.jupyter.widget-view+json": {
       "model_id": "b80571dd7430472d829108ab8eca179a",
       "version_major": 2,
       "version_minor": 0
      },
      "text/plain": [
       "Output()"
      ]
     },
     "metadata": {},
     "output_type": "display_data"
    }
   ],
   "source": [
    "# Click the button below to check your work.\n",
    "\n",
    "# Function to check if the folder exists\n",
    "def step_3():\n",
    "    # Required to change boolean values.\n",
    "    global step1Complete, step3Complete\n",
    "\n",
    "    # Loading, in case the check is slow.\n",
    "    with output3:\n",
    "        output3.clear_output()\n",
    "        display(HTML(\"<span><img width='12px' height='12px' style='margin-left: 3px;' src='resources/loading.gif'></span>\"))\n",
    "    \n",
    "    result = subprocess.run(['ssh -i /home/umdsectc/.ssh/merge_key umdsectc@intro /home/.checker/step3.py /home/umdsectc/jupyterintro'], shell=True)\n",
    "    \n",
    "    if (result.returncode == 1 and step1Complete):\n",
    "        output3.clear_output()\n",
    "        with output3:\n",
    "            display(HTML(\"<span style='color: red;'>Check your work and try again.</span>\"))\n",
    "            step3Complete = False\n",
    "    elif step1Complete == False:\n",
    "        output3.clear_output()\n",
    "        with output3:\n",
    "            display(HTML(\"<span style='color: red;'>You need to complete Step 1 before continuing.</span>\"))\n",
    "            step3Complete = False\n",
    "    else:\n",
    "        output3.clear_output()\n",
    "        with output3:\n",
    "            display(HTML(\"<span style='color: green;'>Success! You may continue onto the next step.</span>\"))\n",
    "            step3Complete = True\n",
    "\n",
    "def check_step_3(b):\n",
    "    step_3()\n",
    "\n",
    "    # Auto-save.\n",
    "    if (not runAllSteps):\n",
    "        trigger_save()\n",
    "\n",
    "# Creating the button.\n",
    "button = widgets.Button(description=\"Check Folder\")\n",
    "\n",
    "# Creating an output area.\n",
    "output3 = widgets.Output()\n",
    "\n",
    "# Run the command on click.\n",
    "button.on_click(check_step_3)\n",
    "\n",
    "# Display the output.\n",
    "display(button, output3)"
   ]
  },
  {
   "cell_type": "code",
   "execution_count": 7,
   "metadata": {
    "jupyter": {
     "source_hidden": true
    }
   },
   "outputs": [
    {
     "data": {
      "application/vnd.jupyter.widget-view+json": {
       "model_id": "2415ad8f54904c1499885f345a2ff86a",
       "version_major": 2,
       "version_minor": 0
      },
      "text/plain": [
       "Button(description='Check File', style=ButtonStyle())"
      ]
     },
     "metadata": {},
     "output_type": "display_data"
    },
    {
     "data": {
      "application/vnd.jupyter.widget-view+json": {
       "model_id": "8f6404d926b74ce5b48ff901ca827b21",
       "version_major": 2,
       "version_minor": 0
      },
      "text/plain": [
       "Output()"
      ]
     },
     "metadata": {},
     "output_type": "display_data"
    }
   ],
   "source": [
    "# Click the button below to check your work.\n",
    "step4Complete = False\n",
    "\n",
    "# Function to check if the file was deleted.\n",
    "def step_4():\n",
    "    # Required to change boolean values.\n",
    "    global step4Complete\n",
    "\n",
    "    # Loading, in case the check is slow.\n",
    "    with output4:\n",
    "        output4.clear_output()\n",
    "        display(HTML(\"<span><img width='12px' height='12px' style='margin-left: 3px;' src='resources/loading.gif'></span>\"))\n",
    "    \n",
    "    result = subprocess.run(['ssh -i /home/umdsectc/.ssh/merge_key umdsectc@intro /home/.checker/step4'], shell=True)\n",
    "    \n",
    "    if (result.returncode == 1):\n",
    "        output4.clear_output()\n",
    "        with output4:\n",
    "            display(HTML(\"<span style='color: red;'>Check your work and try again.</span>\"))\n",
    "            step4Complete = False\n",
    "    elif (result.returncode == 0):\n",
    "        output4.clear_output()\n",
    "        with output4:\n",
    "            display(HTML(\"<span style='color: green;'>Success! You may continue onto the next step.</span>\"))\n",
    "            step4Complete = True\n",
    "\n",
    "def check_step_4(b):\n",
    "    step_4()\n",
    "\n",
    "    # Auto-save.\n",
    "    if (not runAllSteps):\n",
    "        trigger_save()\n",
    "\n",
    "# Creating the button.\n",
    "button = widgets.Button(description=\"Check File\")\n",
    "\n",
    "# Creating an output area.\n",
    "output4 = widgets.Output()\n",
    "\n",
    "# Run the command on click.\n",
    "button.on_click(check_step_4)\n",
    "\n",
    "# Display the output.\n",
    "display(button, output4)"
   ]
  },
  {
   "cell_type": "code",
   "execution_count": 10,
   "metadata": {
    "jupyter": {
     "source_hidden": true
    }
   },
   "outputs": [
    {
     "data": {
      "application/vnd.jupyter.widget-view+json": {
       "model_id": "5a0a433867ba4168ab1fd4d9834288ba",
       "version_major": 2,
       "version_minor": 0
      },
      "text/plain": [
       "Button(description='Check Folder', style=ButtonStyle())"
      ]
     },
     "metadata": {},
     "output_type": "display_data"
    },
    {
     "data": {
      "application/vnd.jupyter.widget-view+json": {
       "model_id": "d9b0d31465db481384fbe1f82ecedf1b",
       "version_major": 2,
       "version_minor": 0
      },
      "text/plain": [
       "Output()"
      ]
     },
     "metadata": {},
     "output_type": "display_data"
    }
   ],
   "source": [
    "# Click the button below to check your work.\n",
    "step7Complete = False\n",
    "\n",
    "# Function to check if the file was moved.\n",
    "def step_7():\n",
    "    # Required to change boolean value.\n",
    "    global step6Complete, step7Complete\n",
    "\n",
    "    # Loading, in case the check is slow.\n",
    "    with output7:\n",
    "        output7.clear_output()\n",
    "        display(HTML(\"<span><img width='12px' height='12px' style='margin-left: 3px;' src='resources/loading.gif'></span>\"))\n",
    "    \n",
    "    result = subprocess.run('ssh -i /home/umdsectc/.ssh/merge_key umdsectc@intro \"/home/.checker/step7.py \\'/home/umdsectc/Important Data/output.txt\\'\"', shell=True)\n",
    "    \n",
    "    if (result.returncode == 1 and step6Complete):\n",
    "        output7.clear_output()\n",
    "        with output7:\n",
    "            display(HTML(\"<span style='color: green;'>Success! You may continue onto the next step.</span>\"))\n",
    "            step7Complete = True\n",
    "    else:\n",
    "        output7.clear_output()\n",
    "        with output7:\n",
    "            display(HTML(\"<span style='color: red;'>Check your work and try again.</span>\"))\n",
    "            step7Complete = False\n",
    "\n",
    "def check_step_7(b):\n",
    "    step_7()\n",
    "\n",
    "    # Auto-save.\n",
    "    if (not runAllSteps):\n",
    "        trigger_save()\n",
    "\n",
    "# Creating the button.\n",
    "button = widgets.Button(description=\"Check Folder\")\n",
    "\n",
    "# Creating an output area.\n",
    "output7 = widgets.Output()\n",
    "\n",
    "# Run the command on click.\n",
    "button.on_click(check_step_7)\n",
    "\n",
    "# Display the output.\n",
    "display(button, output7)"
   ]
  },
  {
   "cell_type": "code",
   "execution_count": 11,
   "metadata": {
    "jupyter": {
     "source_hidden": true
    }
   },
   "outputs": [
    {
     "data": {
      "application/vnd.jupyter.widget-view+json": {
       "model_id": "0becba525c634311bf61d566252bbd21",
       "version_major": 2,
       "version_minor": 0
      },
      "text/plain": [
       "Button(description='Check Work', style=ButtonStyle())"
      ]
     },
     "metadata": {},
     "output_type": "display_data"
    },
    {
     "data": {
      "application/vnd.jupyter.widget-view+json": {
       "model_id": "7ee0b0fa2e3946fca237d23ff22652a9",
       "version_major": 2,
       "version_minor": 0
      },
      "text/plain": [
       "Output()"
      ]
     },
     "metadata": {},
     "output_type": "display_data"
    }
   ],
   "source": [
    "# Click the button below to check your work.\n",
    "step8Complete = False\n",
    "\n",
    "# Function to check if the file was copied.\n",
    "def step_8():\n",
    "    # Required to change boolean values.\n",
    "    global step8Complete\n",
    "\n",
    "    # Loading, in case the check is slow.\n",
    "    with output8:\n",
    "        output8.clear_output()\n",
    "        display(HTML(\"<span><img width='12px' height='12px' style='margin-left: 3px;' src='resources/loading.gif'></span>\"))\n",
    "    \n",
    "    result = subprocess.run(['ssh -i /home/umdsectc/.ssh/merge_key umdsectc@intro /home/.checker/step8.py'], shell=True)\n",
    "\n",
    "    # File wasn't copied yet.\n",
    "    if (result.returncode == 0):\n",
    "        output8.clear_output()\n",
    "        with output8:\n",
    "            display(HTML(\"<span style='color: red;'>output_copy.txt is not found.</span>\"))\n",
    "            step8Complete = False\n",
    "\n",
    "    elif (result.returncode == 2):\n",
    "        output8.clear_output()\n",
    "        with output8:\n",
    "            display(HTML(\"<span style='color: red;'>output.txt and output_copy.txt are not the same.</span>\"))\n",
    "            step8Complete = False\n",
    "\n",
    "    elif (result.returncode == 3):\n",
    "        output8.clear_output()\n",
    "        with output8:\n",
    "            display(HTML(\"<span style='color: red;'>Error. Please consult your professor/TA.</span>\"))\n",
    "            step8Complete = False\n",
    "    \n",
    "    elif (result.returncode == 1):\n",
    "        output8.clear_output()\n",
    "        with output8:\n",
    "            display(HTML(\"<span style='color: green;'>Success! You may continue onto the next step.</span>\"))\n",
    "            step8Complete = True\n",
    "\n",
    "def check_step_8(b):\n",
    "    step_8()\n",
    "\n",
    "    # Auto-save.\n",
    "    if (not runAllSteps):\n",
    "        trigger_save()\n",
    "\n",
    "# Creating the button.\n",
    "button = widgets.Button(description=\"Check Work\")\n",
    "\n",
    "# Creating an output area.\n",
    "output8 = widgets.Output()\n",
    "\n",
    "# Run the command on click.\n",
    "button.on_click(check_step_8)\n",
    "\n",
    "# Display the output.\n",
    "display(button, output8)"
   ]
  },
  {
   "cell_type": "code",
   "execution_count": 12,
   "metadata": {
    "jupyter": {
     "source_hidden": true
    }
   },
   "outputs": [
    {
     "data": {
      "application/vnd.jupyter.widget-view+json": {
       "model_id": "e03047e35e514730820277f968a1062a",
       "version_major": 2,
       "version_minor": 0
      },
      "text/plain": [
       "Button(description='Check Work', style=ButtonStyle())"
      ]
     },
     "metadata": {},
     "output_type": "display_data"
    },
    {
     "data": {
      "application/vnd.jupyter.widget-view+json": {
       "model_id": "3f951fb427234599be87e28c6c232edd",
       "version_major": 2,
       "version_minor": 0
      },
      "text/plain": [
       "Output()"
      ]
     },
     "metadata": {},
     "output_type": "display_data"
    }
   ],
   "source": [
    "# Click the button below to check your work.\n",
    "step9Complete = False\n",
    "\n",
    "# Function to check the answer was correctly made.\n",
    "def step_9():\n",
    "    # Required to change boolean values.\n",
    "    global step9Complete\n",
    "\n",
    "    # Loading, in case the check is slow.\n",
    "    with output9:\n",
    "        output9.clear_output()\n",
    "        display(HTML(\"<span><img width='12px' height='12px' style='margin-left: 3px;' src='resources/loading.gif'></span>\"))\n",
    "    \n",
    "    result = subprocess.run(['ssh -i /home/umdsectc/.ssh/merge_key umdsectc@intro /home/.checker/step9'], shell=True)\n",
    "\n",
    "    # No attempt made.\n",
    "    if (result.returncode == 3):\n",
    "        output9.clear_output()\n",
    "        with output9:\n",
    "            display(HTML(\"<span style='color: red;'>listdiff.txt was not found. Is it in the correct directory?</span>\"))\n",
    "            step9Complete = False\n",
    "            \n",
    "    # Check fails.\n",
    "    elif (result.returncode == 0):\n",
    "        output9.clear_output()\n",
    "        with output9:\n",
    "            display(HTML(\"<span style='color: red;'>Error. This check script failed. Please consult your professor/TA.</span>\"))\n",
    "            step9Complete = False\n",
    "\n",
    "    # Exists, but not correct.\n",
    "    elif (result.returncode == 2):\n",
    "        output9.clear_output()\n",
    "        with output9:\n",
    "            display(HTML(\"<span style='color: red;'>Your answer is incorrect. Double check your diff command.</span>\"))\n",
    "            step9Complete = False\n",
    "\n",
    "    elif (result.returncode == 1):\n",
    "        output9.clear_output()\n",
    "        with output9:\n",
    "            display(HTML(\"<span style='color: green;'>Success! You may continue onto the next step.</span>\"))\n",
    "            step9Complete = True\n",
    "\n",
    "def check_step_9(b):\n",
    "    step_9()\n",
    "\n",
    "    # Auto-save.\n",
    "    if (not runAllSteps):\n",
    "        trigger_save()\n",
    "\n",
    "# Creating the button.\n",
    "button = widgets.Button(description=\"Check Work\")\n",
    "\n",
    "# Creating an output area.\n",
    "output9 = widgets.Output()\n",
    "\n",
    "# Run the command on click.\n",
    "button.on_click(check_step_9)\n",
    "\n",
    "# Display the output.\n",
    "display(button, output9)"
   ]
  },
  {
   "cell_type": "code",
   "execution_count": 13,
   "metadata": {
    "editable": true,
    "jupyter": {
     "source_hidden": true
    },
    "slideshow": {
     "slide_type": ""
    },
    "tags": []
   },
   "outputs": [
    {
     "data": {
      "application/vnd.jupyter.widget-view+json": {
       "model_id": "24d166ff17004079abe5b55daec6c6e1",
       "version_major": 2,
       "version_minor": 0
      },
      "text/plain": [
       "Button(description='Check Work', style=ButtonStyle())"
      ]
     },
     "metadata": {},
     "output_type": "display_data"
    },
    {
     "data": {
      "application/vnd.jupyter.widget-view+json": {
       "model_id": "fe4638feafd749eab09b90560fb9d611",
       "version_major": 2,
       "version_minor": 0
      },
      "text/plain": [
       "Output()"
      ]
     },
     "metadata": {},
     "output_type": "display_data"
    }
   ],
   "source": [
    "# Click the button below to check your work.\n",
    "step10Complete = False\n",
    "\n",
    "# Function to check if the tarball was created properly.\n",
    "def step_10():\n",
    "    # Required to change boolean values.\n",
    "    global step10Complete\n",
    "\n",
    "    # Loading, in case the check is slow.\n",
    "    with output10:\n",
    "        output10.clear_output()\n",
    "        display(HTML(\"<span><img width='12px' height='12px' style='margin-left: 3px;' src='resources/loading.gif'></span>\"))\n",
    "    \n",
    "    result = subprocess.run('ssh -i /home/umdsectc/.ssh/merge_key umdsectc@intro /home/.checker/step10.py', shell=True, stdout=subprocess.DEVNULL)\n",
    "\n",
    "    # File wasn't copied yet.\n",
    "    if (result.returncode == 0):\n",
    "        output10.clear_output()\n",
    "        with output10:\n",
    "            display(HTML(\"<span style='color: red;'>data.tar.gz was not found in your home directory.</span>\"))\n",
    "            step10Complete = False\n",
    "\n",
    "    elif (result.returncode == 2):\n",
    "        output10.clear_output()\n",
    "        with output10:\n",
    "            display(HTML(\"<span style='color: red;'>Your tarball was not created correctly. Review the directions and try again.</span>\"))\n",
    "            step10Complete = False\n",
    "\n",
    "    elif (result.returncode == 3):\n",
    "        output10.clear_output()\n",
    "        with output10:\n",
    "            display(HTML(\"<span style='color: red;'>There is an issue with how you created your tarball. Ensure that the arguments you used are -czvf for the tar command.</span>\"))\n",
    "            step10Complete = False\n",
    "\n",
    "    elif (result.returncode == 1):\n",
    "        output10.clear_output()\n",
    "        with output10:\n",
    "            display(HTML(\"<span style='color: green;'>Success! You may continue onto the next step.</span>\"))\n",
    "            step10Complete = True\n",
    "\n",
    "def check_step_10(b):\n",
    "    step_10()\n",
    "\n",
    "    # Auto-save.\n",
    "    if (not runAllSteps):\n",
    "        trigger_save()\n",
    "\n",
    "# Creating the button.\n",
    "button = widgets.Button(description=\"Check Work\")\n",
    "\n",
    "# Creating an output area.\n",
    "output10 = widgets.Output()\n",
    "\n",
    "# Run the command on click.\n",
    "button.on_click(check_step_10)\n",
    "\n",
    "# Display the output.\n",
    "display(button, output10)"
   ]
  },
  {
   "cell_type": "code",
   "execution_count": 15,
   "metadata": {
    "editable": true,
    "jupyter": {
     "source_hidden": true
    },
    "slideshow": {
     "slide_type": ""
    },
    "tags": []
   },
   "outputs": [
    {
     "data": {
      "application/vnd.jupyter.widget-view+json": {
       "model_id": "ffbd7a824cd143be962a06d5423ff96b",
       "version_major": 2,
       "version_minor": 0
      },
      "text/plain": [
       "Text(value='', description='Command:', layout=Layout(width='500px'), placeholder='Type a command here')"
      ]
     },
     "metadata": {},
     "output_type": "display_data"
    },
    {
     "data": {
      "application/vnd.jupyter.widget-view+json": {
       "model_id": "ddc57062d82a4dd995c4eb74a6d574b5",
       "version_major": 2,
       "version_minor": 0
      },
      "text/plain": [
       "Button(description='Run Command', style=ButtonStyle())"
      ]
     },
     "metadata": {},
     "output_type": "display_data"
    },
    {
     "data": {
      "application/vnd.jupyter.widget-view+json": {
       "model_id": "5920faf8b8364d98aa3944da841915a7",
       "version_major": 2,
       "version_minor": 0
      },
      "text/plain": [
       "Output()"
      ]
     },
     "metadata": {},
     "output_type": "display_data"
    }
   ],
   "source": [
    "# Click the button below to check your work.\n",
    "step12Complete = False\n",
    "\n",
    "# Function to check the command.\n",
    "def step_12():\n",
    "    # Required to change boolean values.\n",
    "    global step12Complete\n",
    "\n",
    "    # Loading, in case the check is slow.\n",
    "    with output12:\n",
    "        output12.clear_output()\n",
    "        display(HTML(\"<span><img width='12px' height='12px' style='margin-left: 3px;' src='resources/loading.gif'></span>\"))\n",
    "\n",
    "    # First, regenerate the numbers.txt file.\n",
    "    command = \"ssh -i /home/umdsectc/.ssh/merge_key umdsectc@intro \\\"awk -v loop=500 -v range=1000 'BEGIN{srand(); do {numb = 1 + int(rand() * range); if (!(numb in prev)) {print numb; prev[numb] = 1; count++}} while (count<loop)}' > numbers.txt\\\"\"\n",
    "    subprocess.run(command, shell=True)\n",
    "\n",
    "    # Second, check if the input is blank. If it is, do not do anything.\n",
    "    if (userInput.value == \"\"):\n",
    "        with output12:\n",
    "            output12.clear_output()\n",
    "            display(HTML(\"<span>numbers.txt has been reset.</span>\"))\n",
    "\n",
    "    # Otherwise, send the input to the home directory.\n",
    "    else:\n",
    "        # Next, make sure the command contains a pipe, does not have a comment, and contains sortedlists.txt.\n",
    "        pattern = r'^(?=.*\\|)(?!.*#)(?=.*\\bsortednumbers\\.txt\\b).+$'\n",
    "        if re.match(pattern, userInput.value):\n",
    "            # Finally, run the command if everything looks good.\n",
    "            subprocess.run('ssh -i /home/umdsectc/.ssh/merge_key umdsectc@intro \"' + userInput.value + '\"', shell=True)\n",
    "        \n",
    "            result = subprocess.run('ssh -i /home/umdsectc/.ssh/merge_key umdsectc@intro /home/.checker/step12.py', shell=True)\n",
    "        \n",
    "            # File wasn't copied yet. Might not happen because it gets checked in the regular expression.\n",
    "            if (result.returncode == 0):\n",
    "                output12.clear_output()\n",
    "                with output12:\n",
    "                    display(HTML(\"<span style='color: red;'>sortednumbers.txt was not found in your home directory.</span>\"))\n",
    "                    step12Complete = False\n",
    "        \n",
    "            elif (result.returncode == 2):\n",
    "                output12.clear_output()\n",
    "                with output12:\n",
    "                    display(HTML(\"<span style='color: red;'>Your sortednumbers.txt file is incorrect.</span>\"))\n",
    "                    step12Complete = False\n",
    "        \n",
    "            elif (result.returncode == 1):\n",
    "                output12.clear_output()\n",
    "                with output12:\n",
    "                    display(HTML(\"<span style='color: green;'>Success! You may continue onto the next step.</span>\"))\n",
    "                    step12Complete = True\n",
    "        \n",
    "                subprocess.run('ssh -i /home/umdsectc/.ssh/merge_key umdsectc@intro \"echo \\'echo Congrats! You finished the lab!\\' > message.sh\"', shell=True)\n",
    "\n",
    "        else:\n",
    "            output12.clear_output()\n",
    "            with output12:\n",
    "                display(HTML(\"<span style='color: red;'>Check to make sure that you are using a pipe, do not have comments, and ensure that sortednumbers.txt is in your command.</span>\"))\n",
    "                step12Complete = False\n",
    "    \n",
    "    # Auto-save.\n",
    "    if (not runAllSteps):\n",
    "        trigger_save()\n",
    "\n",
    "def check_step_12(b):\n",
    "    step_12()\n",
    "\n",
    "# Creating a text area.\n",
    "userInput = widgets.Text(\n",
    "    placeholder='Type a command here',\n",
    "    description='Command:',\n",
    "    layout=widgets.Layout(width='500px')\n",
    ")\n",
    "\n",
    "# Creating the button.\n",
    "button = widgets.Button(description=\"Run Command\")\n",
    "\n",
    "# Creating an output area.\n",
    "output12 = widgets.Output()\n",
    "\n",
    "# Run the command on click.\n",
    "button.on_click(check_step_12)\n",
    "\n",
    "# Display the output.\n",
    "display(userInput, button, output12)"
   ]
  },
  {
   "cell_type": "code",
   "execution_count": 17,
   "metadata": {
    "jupyter": {
     "source_hidden": true
    },
    "tags": [
     "grade"
    ]
   },
   "outputs": [
    {
     "data": {
      "application/vnd.jupyter.widget-view+json": {
       "model_id": "4d25341d91194b2a9774c2c6291c012a",
       "version_major": 2,
       "version_minor": 0
      },
      "text/plain": [
       "Button(description='Calculate Grade', style=ButtonStyle())"
      ]
     },
     "metadata": {},
     "output_type": "display_data"
    },
    {
     "data": {
      "application/vnd.jupyter.widget-view+json": {
       "model_id": "6cbfda5cce454d7fbac0e8131202cfcd",
       "version_major": 2,
       "version_minor": 0
      },
      "text/plain": [
       "Output()"
      ]
     },
     "metadata": {},
     "output_type": "display_data"
    }
   ],
   "source": [
    "# Click the button below to check your overall grade.\n",
    "steps_to_check = [step_1, step_2, step_3, step_4, step_5, step_6, step_7, step_8, step_9, step_10, step_11, step_12, step_13]   \n",
    "\n",
    "# Function to calculate grade after refreshing the cell\n",
    "def calculate_grade(b):\n",
    "    # To not auto-save at each step.\n",
    "    runAllSteps = True\n",
    "\n",
    "    with gradeOutput:\n",
    "        gradeOutput.clear_output()\n",
    "        display(HTML(\"<span>Testing all steps. Please wait.</span> \\\n",
    "            <span><img width='12px' height='12px' style='margin-left: 3px;' src='resources/loading.gif'></span>\"))\n",
    "    \n",
    "    # Required for checking the boolean values.\n",
    "    # global step1Complete, step2Complete, step3Complete\n",
    "    for func in steps_to_check:\n",
    "        func()  # Call each function in order\n",
    "\n",
    "    # Assuming steps are updated above this cell in some way\n",
    "    steps = [step1Complete, step2Complete, step3Complete, step4Complete, step5Complete, step6Complete, step7Complete, step8Complete, step9Complete, step10Complete, step11Complete, step12Complete, step13Complete]\n",
    "    output = \"\"\n",
    "    stepsCorrect = 0\n",
    "    numOfSteps = len(steps)\n",
    "\n",
    "    for i in range(numOfSteps):\n",
    "        if steps[i]:\n",
    "            stepsCorrect += 1\n",
    "            output += \"<div style='color: green;'>Step \" + str(i + 1) + \" is complete.</div>\"\n",
    "        else:\n",
    "            output += \"<div style='color: red;'>Step \" + str(i + 1) + \" is incomplete.</div>\"\n",
    "\n",
    "    output += \"<div style='color: black;'>You have \" + str(stepsCorrect) + \" out of \" + str(numOfSteps) + \" steps completed.</div>\"\n",
    "\n",
    "    with gradeOutput:\n",
    "        gradeOutput.clear_output()\n",
    "        display(HTML(output))\n",
    "\n",
    "    # Auto-save at the very end.\n",
    "    runAllSteps = False\n",
    "    # Auto-save.\n",
    "    if (not runAllSteps):\n",
    "        trigger_save()\n",
    "\n",
    "# Create a button to refresh the cell and another to calculate grade\n",
    "grade_button = widgets.Button(description=\"Calculate Grade\")\n",
    "\n",
    "# Link buttons to functions\n",
    "grade_button.on_click(calculate_grade)\n",
    "\n",
    "# Output area\n",
    "gradeOutput = widgets.Output()\n",
    "\n",
    "# Display the buttons and output\n",
    "display(grade_button, gradeOutput)"
   ]
  },
  {
   "cell_type": "markdown",
   "metadata": {},
   "source": [
    "### Stopping the Lab\n",
    "\n",
    "Once you are done with the lab, click on the \"Stop Lab\" button below. <strong>This will delete your materialization, which will delete all of the lab's resources.</strong> Your progress is saved automatically in ```~/notebooks/submissions```. This folder is stored on your XDC, and will not be deleted upon stopping the lab."
   ]
  },
  {
   "cell_type": "code",
   "execution_count": 18,
   "metadata": {
    "editable": true,
    "jupyter": {
     "source_hidden": true
    },
    "slideshow": {
     "slide_type": ""
    },
    "tags": []
   },
   "outputs": [
    {
     "data": {
      "application/vnd.jupyter.widget-view+json": {
       "model_id": "3b7b58a64b5343ac9fdd1777e1478682",
       "version_major": 2,
       "version_minor": 0
      },
      "text/plain": [
       "Checkbox(value=False, description='Confirm', indent=False)"
      ]
     },
     "metadata": {},
     "output_type": "display_data"
    },
    {
     "data": {
      "application/vnd.jupyter.widget-view+json": {
       "model_id": "73e4abd9e2364fe7a5d2fff17585f1de",
       "version_major": 2,
       "version_minor": 0
      },
      "text/plain": [
       "Button(description='Stop Lab', style=ButtonStyle())"
      ]
     },
     "metadata": {},
     "output_type": "display_data"
    },
    {
     "data": {
      "application/vnd.jupyter.widget-view+json": {
       "model_id": "3c33bd3cd9aa4bbebb76f6d6e3ee9de6",
       "version_major": 2,
       "version_minor": 0
      },
      "text/plain": [
       "Output()"
      ]
     },
     "metadata": {},
     "output_type": "display_data"
    }
   ],
   "source": [
    "# Click the button below to stop the experiment.\n",
    "def stoplab(button):\n",
    "    # Check to make sure that the student wants to confirm ending the lab.\n",
    "    if (confirm.value == False):\n",
    "        with stop_output:\n",
    "            stop_output.clear_output()\n",
    "            display(HTML(\"<newline><span style='color: red;'>Please confirm that you wish to end the lab.</span>\"))\n",
    "\n",
    "    else:\n",
    "        # Defining the lab name.\n",
    "        labname = \"intro\"\n",
    "    \n",
    "        # Writing the information to an empty field below the button.\n",
    "        with stop_output:\n",
    "            stop_output.clear_output()\n",
    "            \n",
    "            display(HTML(\"<span>Stopping the \" + labname + \" lab. This will take a minute to process. Please wait.</span> \\\n",
    "                <span><img width='12px' height='12px' style='margin-left: 3px;' src='resources/loading.gif'></span>\"))\n",
    "            stopexp = subprocess.run('su - umdsectc -c \"bash /share/stopexp ' + labname + 'umd\"', capture_output=True, text=True, shell=True)\n",
    "            stop_output.clear_output()\n",
    "            display(HTML(\"<span>Done. Result:</span>\"))\n",
    "            print(stopexp.stdout)\n",
    "    \n",
    "            display(HTML(\"<newline><span style='color: green;'><strong>Your lab has been ended.</strong></span>\"))\n",
    "\n",
    "# Creating the button.\n",
    "stopButton = widgets.Button(description=\"Stop Lab\")\n",
    "\n",
    "# Create a confirmation check.\n",
    "confirm = widgets.Checkbox(\n",
    "    value=False,\n",
    "    description='Confirm',\n",
    "    disabled=False,\n",
    "    indent=False\n",
    ")\n",
    "\n",
    "# Creating an output area.\n",
    "stop_output = widgets.Output()\n",
    "\n",
    "# Run the command on click.\n",
    "stopButton.on_click(stoplab)\n",
    "\n",
    "# Display the output.\n",
    "display(confirm, stopButton, stop_output)"
   ]
  },
  {
   "cell_type": "code",
   "execution_count": 3,
   "metadata": {},
   "outputs": [
    {
     "data": {
      "application/vnd.jupyter.widget-view+json": {
       "model_id": "39c370ca4b654fabb3e03a950e097b93",
       "version_major": 2,
       "version_minor": 0
      },
      "text/plain": [
       "Button(description='Create Key', style=ButtonStyle())"
      ]
     },
     "metadata": {},
     "output_type": "display_data"
    },
    {
     "data": {
      "application/vnd.jupyter.widget-view+json": {
       "model_id": "09bb5676197a4766ad5f282cdaba08c4",
       "version_major": 2,
       "version_minor": 0
      },
      "text/plain": [
       "Output()"
      ]
     },
     "metadata": {},
     "output_type": "display_data"
    }
   ],
   "source": [
    "import ipywidgets as widgets\n",
    "import subprocess\n",
    "from IPython.display import display, HTML, Javascript\n",
    "\n",
    "def create_key(b):\n",
    "    with output1:\n",
    "        output1.clear_output()\n",
    "        display(HTML(\"<span>Loading... <img width='12px' height='12px' style='margin-left: 3px;' src='resources/loading.gif'></span>\"))\n",
    "        \n",
    "    result = subprocess.run(\"notebooks/resources/port-forward/port-forward-setup\", shell=True, capture_output=True, text=True)\n",
    "\n",
    "# Creating the button.\n",
    "button = widgets.Button(description=\"Create Key\")\n",
    "\n",
    "# Creating an output area.\n",
    "output1 = widgets.Output()\n",
    "\n",
    "# Run the command on click.\n",
    "button.on_click(create_key)\n",
    "\n",
    "# Display the output.\n",
    "display(button, output1)"
   ]
  },
  {
   "cell_type": "code",
   "execution_count": null,
   "metadata": {},
   "outputs": [],
   "source": []
  }
 ],
 "metadata": {
  "kernelspec": {
   "display_name": "Python 3 (ipykernel)",
   "language": "python",
   "name": "python3"
  },
  "language_info": {
   "codemirror_mode": {
    "name": "ipython",
    "version": 3
   },
   "file_extension": ".py",
   "mimetype": "text/x-python",
   "name": "python",
   "nbconvert_exporter": "python",
   "pygments_lexer": "ipython3",
   "version": "3.10.12"
  }
 },
 "nbformat": 4,
 "nbformat_minor": 4
}
