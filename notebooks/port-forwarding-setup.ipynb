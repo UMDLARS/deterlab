{
 "cells": [
  {
   "cell_type": "markdown",
   "metadata": {
    "deletable": false,
    "editable": false,
    "slideshow": {
     "slide_type": ""
    },
    "tags": [
     "hide-input"
    ]
   },
   "source": [
    "# <strong>Setting Up Port Forwarding</strong>\n",
    "\n",
    "Three labs (Pathname, SQL Injection and Cross-Site Scripting) require port forwarding to be set up in order to access a web server that's hosted from these nodes. This notebook will be a guide that will assist you with how to configure port forwarding for your machine.\n",
    "\n",
    "### Step 1: Creating The Required Files\n",
    "\n",
    "First, click \"Create Key\" below. This will automatically generate a zip file that contains required files that your machine will need to use."
   ]
  },
  {
   "cell_type": "code",
   "execution_count": 1,
   "metadata": {
    "deletable": false,
    "editable": false,
    "jupyter": {
     "source_hidden": true
    },
    "slideshow": {
     "slide_type": ""
    },
    "tags": []
   },
   "outputs": [
    {
     "data": {
      "application/vnd.jupyter.widget-view+json": {
       "model_id": "89d7e73c78804f95b43923fba9371e60",
       "version_major": 2,
       "version_minor": 0
      },
      "text/plain": [
       "Button(description='Create Key', style=ButtonStyle())"
      ]
     },
     "metadata": {},
     "output_type": "display_data"
    },
    {
     "data": {
      "application/vnd.jupyter.widget-view+json": {
       "model_id": "7650e4b95cef4b258cb24f399b54ccc6",
       "version_major": 2,
       "version_minor": 0
      },
      "text/plain": [
       "Output()"
      ]
     },
     "metadata": {},
     "output_type": "display_data"
    }
   ],
   "source": [
    "# Click the button below to create a zip file.\n",
    "import ipywidgets as widgets\n",
    "import subprocess\n",
    "from IPython.display import display, HTML, Javascript\n",
    "\n",
    "def create_key(b):\n",
    "    with output1:\n",
    "        output1.clear_output()\n",
    "        display(HTML(\"<span>Loading... This will take some time.<img width='12px' height='12px' style='margin-left: 5px;' src='resources/loading.gif'></span>\"))\n",
    "        \n",
    "    result = subprocess.run(\"sudo su USERNAME_GOES_HERE -c 'resources/port-forward/port-forward-setup'\", shell=True, capture_output=True, text=True)\n",
    "\n",
    "    with output1:\n",
    "        output1.clear_output()\n",
    "        display(HTML(\"<span style='color: green;'>Completed!</span><span> You may continue to the next step.</span>\"))\n",
    "\n",
    "# Creating the button.\n",
    "button = widgets.Button(description=\"Create Key\")\n",
    "\n",
    "# Creating an output area.\n",
    "output1 = widgets.Output()\n",
    "\n",
    "# Run the command on click.\n",
    "button.on_click(create_key)\n",
    "\n",
    "# Display the output.\n",
    "display(button, output1)"
   ]
  },
  {
   "cell_type": "markdown",
   "metadata": {
    "deletable": false,
    "editable": false,
    "slideshow": {
     "slide_type": ""
    },
    "tags": []
   },
   "source": [
    "### Step 2: Moving the Data to Your Machine\n",
    "\n",
    "Inside of your notebooks directory (in ```/project/USERNAME_GOES_HERE/notebooks```), a new zip file was made called ```port-forward-data.zip```. You can view this in the file explorer menu to the left of your XDC. Right-click on this file, and select Download. <strong>Delete the ```port-forward-data.zip``` file from your XDC after you have downloaded it, as it contains your SSH key to your XDC.</strong>"
   ]
  },
  {
   "cell_type": "markdown",
   "metadata": {
    "deletable": false,
    "editable": false,
    "slideshow": {
     "slide_type": ""
    },
    "tags": []
   },
   "source": [
    "### Step 3: OS-Specific Instructions\n",
    "\n",
    "Unzip the ```port-forward-data.zip``` file anywhere onto your machine. Inside of the folder, there are three files:\n",
    "- ```deterlab-port-forwarding/```\n",
    "- ```merge_key```\n",
    "- ```config```\n",
    "\n",
    "Now, depending on your operating system, you will need to follow some slightly different steps. \n",
    "\n",
    "#### <strong><u>Windows 10 (or newer)</u></strong>\n",
    "\n",
    "- Navigate into ```deterlab-port-forwarding/```. Inside of there should be three files. The file that you will need is ```port-forward-windows.ps1```. <strong>Do not right-click on the file and select \"Run with Powershell\".</strong> This will not work due to Windows' security system.\n",
    "- Open a terminal on your computer, such as Terminal, Command Prompt, or Powershell, and <strong>run as administrator</strong>. Then, type in the following command: ```powershell -ExecutionPolicy Bypass -File \"\\\\path\\\\to\\\\port-forward-windows.ps1\"```\n",
    "    - For example, if you extracted the .zip file to your Downloads folder, then you would have to run: ```powershell -ExecutionPolicy Bypass -File \"c:\\\\Users\\\\[YourName]\\\\Downloads\\\\port-forward-data\\\\deterlab-port-forwarding\\\\port-forward-windows.ps1\"```\n",
    "\n",
    "Here is what your terminal should say:\n",
    "\n",
    "<figure><center><img src=\"resources/port-forward/windows_demo.jpg\" style=\"width: 75%; height: 75%;\"></img></center></figure>\n",
    "\n",
    "<strong>If you are facing issues with this script, you may manually do what the script is attempting to do:</strong>\n",
    "- Navigate to ```C:/Users/[YourName]```.\n",
    "- Navigate into ```.ssh```.\n",
    "  - If you do not have this folder, then simply create a new folder inside of ```C:/Users/[YourName]``` called ```.ssh```.\n",
    "- Take the ```config``` and ```merge_key``` from your extracted folder, then cut/paste them into your ```.ssh``` folder.\n",
    "\n",
    "<strong>Finally, delete your zip file and your extracted folder when you are complete.</strong>\n",
    "\n",
    "#### <strong><u>MacOS and Linux</u></strong>\n",
    "- Navigate into ```deterlab-port-forwarding/```. Inside of there should be three files. The file that you will need is ```port-forward-unix.sh```.\n",
    "- Open Terminal, then type ```/path/to/port-forward-unix.sh```.\n",
    "  - For example, if you extracted the .zip file to your Downloads folder, then you would have to run: ```~/Downloads/port-forward-data/deterlab-port-forwarding/port-forward-unix.sh```.\n",
    " \n",
    "<strong>Finally, delete your zip file and your extracted folder when you are complete.</strong>"
   ]
  },
  {
   "cell_type": "markdown",
   "metadata": {
    "deletable": false,
    "editable": false,
    "slideshow": {
     "slide_type": ""
    },
    "tags": []
   },
   "source": [
    "### Step 4: Navigating Into Your XDC\n",
    "\n",
    "Now that port forwarding is complete, you are able to SSH into your Deterlab from your own machine.\n",
    "\n",
    "To test this, type ```ssh USERNAME_GOES_HERE-xdc-USERNAME_GOES_HERE``` into your terminal. You will be asked if you wish to continue connecting with the footprint. Type \"yes\" twice. The first time is to add SPHERE as a known host, and the second time is to add your ```USERNAME_GOES_HERE``` account as a known host. This only needs to be done once.\n",
    "\n",
    "When successful, you can access your XDC from your own terminal. You may exit by typing ```exit```."
   ]
  },
  {
   "cell_type": "markdown",
   "metadata": {
    "deletable": false,
    "editable": false,
    "slideshow": {
     "slide_type": ""
    },
    "tags": []
   },
   "source": [
    "### Step 5: Port Forwarding to Access Web Server\n",
    "\n",
    "If you are currently attempting to access your Pathname, SQL Injection, or Cross-Site Scripting labs, you will have to modify the way that you SSH into SPHERE.\n",
    "\n",
    "Here is the general outline:\n",
    "\n",
    "```ssh -L port:node:80 USERNAME_GOES_HERE-xdc-USERNAME_GOES_HERE```\n",
    "\n",
    "Here are the three SSH commands that you will need to use to access the ```pathname```, ```sqli```, and ```xss``` labs:\n",
    "- Pathname: ```ssh -L 5000:pathname:5001 USERNAME_GOES_HERE-xdc-USERNAME_GOES_HERE```\n",
    "  - Please read Step 1 of the Pathname lab to understand how to connect to your lab.\n",
    "- SQLi: ```ssh -L 8080:sqli:80 USERNAME_GOES_HERE-xdc-USERNAME_GOES_HERE```\n",
    "- XSS: ```ssh -L 8080:server:80 USERNAME_GOES_HERE-xdc-USERNAME_GOES_HERE```\n",
    "  - Note that XSS does not have an ```xss``` node. Instead, you will need to SSH into the ```server``` node instead."
   ]
  },
  {
   "cell_type": "markdown",
   "metadata": {
    "deletable": false,
    "editable": false,
    "slideshow": {
     "slide_type": ""
    },
    "tags": []
   },
   "source": [
    "### Step 6: Accessing a Web Server\n",
    "\n",
    "After you have SSH'ed into your XDC with a port forward command, you can now access the web server that your node is hosting. To do this, open your web browser and navigate into ```localhost:port```, where ```port``` is a number from 1-65535 that you can choose from. In the examples above, ```8080``` (or ```5000```) were used for a port number. So, if you used the example(s) above, you will need to navigate to ```localhost:port``` in your web browser, where the ```port``` was provided above.\n",
    "\n",
    "When you type the SSH command from Step 5, <strong>you do not need to type ```ssh <node>``` to complete the port forwarding process</strong>. When you use the SSH command, you will be signed in as ```USERNAME_GOES_HERE@xdc```. You will need to leave the terminal open as you work through the lab, but you may minimize it to keep the connection open."
   ]
  }
 ],
 "metadata": {
  "kernelspec": {
   "display_name": "Python 3 (ipykernel)",
   "language": "python",
   "name": "python3"
  },
  "language_info": {
   "codemirror_mode": {
    "name": "ipython",
    "version": 3
   },
   "file_extension": ".py",
   "mimetype": "text/x-python",
   "name": "python",
   "nbconvert_exporter": "python",
   "pygments_lexer": "ipython3",
   "version": "3.10.12"
  }
 },
 "nbformat": 4,
 "nbformat_minor": 4
}
