{
 "cells": [
  {
   "cell_type": "markdown",
   "metadata": {
    "editable": true,
    "slideshow": {
     "slide_type": ""
    },
    "tags": [
     "hide-input"
    ]
   },
   "source": [
    "# <strong>Intro to JupyterLab</strong>\n",
    "\n",
    "This is a tutorial that will guide you through how to navigate through a Jupyter Notebook, as well as how to experiment with Deterlab and use basic Unix commands. While working in Deterlab, you will have access to individual computers that are called <strong>nodes</strong>. For this lab, we are working in a node called ```intro```. Future labs will contain a couple nodes, but you will only be working with one node in this notebook.\n",
    "\n",
    "You will be working within a container called an \"XDC\", which stands for \"eXperiment Development Container\". You can have multiple XDCs, but your files are shared across XDCs. You will not need to create any XDCs besides the one that was automatically generated for you on Deterlab. The XDC that was generated for you is simply called ```xdc```. For now and in future labs, when referring to the XDC, it means your machine on Deterlab. Whenever you're located in your XDC, your command line will start with ```USERNAME_GOES_HERE@xdc```. In the left sidebar, you may move, delete, create, and even download files easily with the user interface. Currently, you cannot download/upload directories in JupyterLab.\n",
    "\n",
    "<figure><center><img src=\"resources/intro/intro_xdc.png\" style=\"width: 75%; height: 75%;\"></img></center></figure>\n",
    "\n",
    "Now, a Jupyter Notebook is an interactive Python file that you will be using for your class. A notebook has the \"ipynb\" extension, which stands for \"interactive python notebook\". Inside of the notebook contains input and output cells. You only need to be concerned about the output cells, as the input cells are pre-written for you to check your work.\n",
    "\n",
    "Upon launching a new notebook, an input cell must be executed before you can view the output cells. <u>At the beginning of each lab</u>, click on the \"fast forward\" icon to run all of the cells in the notebook. View the image below to understand where to look for this button.\n",
    "\n",
    "<figure><center><img src=\"resources/intro/intro_button.png\" style=\"width: 75%; height: 75%;\"></img></center></figure>\n",
    "\n",
    "All input cells are expanded by default, and can make the notebook difficult to read. If you would like to collapse all cells, you can go to ```View > Collapse All Code``` to hide all input cells.\n",
    "\n",
    "<figure><center><img src=\"resources/intro/intro_collapse.png\" style=\"width: 50%; height: 50%;\"></img></center></figure>\n",
    "\n",
    "Upon running each step in the lab, you will notice a file called ```USERNAME_GOES_HERE_labname.tar.gz``` become created in your ```saves/``` directory. An auto-save feature was implemented in every notebook, and you will use this file as your submission for the corresponding lab. This lab can also be loaded in case you lose progress on your ```intro``` node.\n",
    "\n",
    "The input cell that appears below this markdown cell will be ran before \"Step 0\". You may ignore this cell, as it's preparing libraries and functions that are required for this lab."
   ]
  },
  {
   "cell_type": "code",
   "execution_count": 1,
   "metadata": {
    "editable": true,
    "jupyter": {
     "source_hidden": true
    },
    "jupyterlab-hide-cells:hidden": true,
    "slideshow": {
     "slide_type": ""
    },
    "tags": []
   },
   "outputs": [],
   "source": [
    "# Setting up the lab.\n",
    "import ipywidgets as widgets\n",
    "from IPython.display import display, HTML, Javascript\n",
    "from IPython.core.magic import register_line_magic\n",
    "import os\n",
    "# For accessing the nodes:\n",
    "import subprocess\n",
    "# For the stopexp command:\n",
    "import re\n",
    "\n",
    "# These are pre-set so that the first three steps will work properly, as they all\n",
    "# depend on each other. Remaining booleans will be set in the cells.\n",
    "step1Complete = step2Complete = step3Complete = False\n",
    "\n",
    "# When true, it will not auto-save at each step.\n",
    "runAllSteps = False\n",
    "\n",
    "###### Used for saving notebooks. ######\n",
    "import threading\n",
    "# Threading required in case steps are progressed too quickly.\n",
    "save_lock = threading.Lock()\n",
    "\n",
    "# The save function itself.\n",
    "def save_notebook():\n",
    "    with save_lock:\n",
    "        result = subprocess.run('su - USERNAME_GOES_HERE -c \"/project/USERNAME_GOES_HERE/notebooks/resources/save.py intro\"', shell=True, capture_output=True, text=True)\n",
    "\n",
    "# Creating a thread to save the notebook.\n",
    "def trigger_save():\n",
    "    save_thread = threading.Thread(target=save_notebook)\n",
    "    save_thread.start()\n",
    "\n",
    "###### Used for loading notebooks. ######\n",
    "import queue\n",
    "\n",
    "load_lock = threading.Lock()\n",
    "result_queue = queue.Queue()\n",
    "\n",
    "def load_notebook():\n",
    "    with load_lock:\n",
    "        result = subprocess.run('su - USERNAME_GOES_HERE -c \"/project/USERNAME_GOES_HERE/notebooks/resources/load.py intro\"', shell=True, capture_output=True, text=True)\n",
    "        result_queue.put(result)  # Put the result in the queue.\n",
    "\n",
    "# Creating a thread to load the notebook.\n",
    "def trigger_load():\n",
    "    load_thread = threading.Thread(target=load_notebook)\n",
    "    load_thread.start()\n",
    "    load_thread.join()  # Wait for the thread to complete before adding result to the queue.\n",
    "    return result_queue.get()  # Get the result from the queue."
   ]
  },
  {
   "cell_type": "markdown",
   "metadata": {},
   "source": [
    "### Step 0: Starting the Lab\n",
    "\n",
    "Click the button to begin creating the experiment."
   ]
  },
  {
   "cell_type": "code",
   "execution_count": 2,
   "metadata": {
    "jupyter": {
     "source_hidden": true
    }
   },
   "outputs": [
    {
     "data": {
      "application/vnd.jupyter.widget-view+json": {
       "model_id": "91493196e1b2417e802c89030a87ddc1",
       "version_major": 2,
       "version_minor": 0
      },
      "text/plain": [
       "Button(description='Start Lab', style=ButtonStyle())"
      ]
     },
     "metadata": {},
     "output_type": "display_data"
    },
    {
     "data": {
      "application/vnd.jupyter.widget-view+json": {
       "model_id": "5a92b4b11a754c85b66b202ba9944f90",
       "version_major": 2,
       "version_minor": 0
      },
      "text/plain": [
       "Output()"
      ]
     },
     "metadata": {},
     "output_type": "display_data"
    }
   ],
   "source": [
    "# Click the button below to start the experiment.\n",
    "import time\n",
    "def startlab(button):\n",
    "    # Defining the lab name.\n",
    "    labname = \"intro\"\n",
    "\n",
    "    # Writing the information to an empty field below the button.\n",
    "    with output0:\n",
    "        # Fixes a strange error that happens only occasionally.\n",
    "        os.chdir(\"/project/USERNAME_GOES_HERE/notebooks\")\n",
    "        output0.clear_output()\n",
    "\n",
    "        # First, checking if the materialization exists. May have been stopped by a previous lab.\n",
    "        materialPattern = \"real.\" + labname + \"jup.USERNAME_GOES_HERE\"\n",
    "\n",
    "        # Listing the materializations to find if there's an existing one for this lab.\n",
    "        checkMaterial = os.popen('su - USERNAME_GOES_HERE -c \"mrg list materializations\"').read()\n",
    "        regex = re.compile(materialPattern)\n",
    "        # Getting the matches:\n",
    "        match = regex.search(checkMaterial)\n",
    "\n",
    "        if match:\n",
    "            display(HTML(\"<span style='color: orange;'>An existing activation for this lab already exists. </span><span>You might have run another \\\n",
    "            lab without stopping this one. Attaching the existing activation...</span>\"))\n",
    "\n",
    "            # Detaching it and re-attaching.\n",
    "            subprocess.run('su - USERNAME_GOES_HERE -c \"mrg xdc detach xdc.USERNAME_GOES_HERE\"', shell=True, check=True)\n",
    "            subprocess.run('su - USERNAME_GOES_HERE -c \"mrg xdc attach xdc.USERNAME_GOES_HERE real.' + labname + 'jup.USERNAME_GOES_HERE\"', capture_output=True, text=True, shell=True, check=True)\n",
    "            display(HTML(\"<span>Re-running the installation... </span><span><img width='12px' height='12px' style='margin-left: 3px;' src='resources/loading.gif'></span>\"))\n",
    "\n",
    "            # Re-running the installation script.\n",
    "            subprocess.run('su - USERNAME_GOES_HERE -c \"bash /home/runlab ' + labname + 'jup\"', capture_output=True, text=True, shell=True, check=True)\n",
    "            output0.clear_output()\n",
    "            display(HTML(\"<newline><span style='color: green;'><strong>Your lab has been re-installed. </strong></span>\" \\\n",
    "                         \"<span>When you're finished, close your lab at the bottom of the notebook.</span>\"))\n",
    "        \n",
    "        else:\n",
    "            display(HTML(\"<span>No existing activations are found.</span>\"))\n",
    "\n",
    "            # Second, start the lab.\n",
    "            display(HTML(\"<span>Starting the \" + labname + \" lab. This will take a few minutes to process. Please wait.</span> \\\n",
    "            <span><img width='12px' height='12px' style='margin-left: 3px;' src='resources/loading.gif'></span>\"))\n",
    "            try:\n",
    "                startexp = subprocess.run('su - USERNAME_GOES_HERE -c \"bash /home/startexp ' + labname + 'jup\"', capture_output=True, text=True, shell=True, check=True)\n",
    "            except:\n",
    "                output0.clear_output()\n",
    "                display(HTML(\"<span style='color: red;'>There was an error starting your experiment. Make sure your password is written inside of ~/pass.txt, and try again.</span>\"))\n",
    "                return\n",
    "            \n",
    "            print(startexp.stdout, flush=True)\n",
    "            output0.clear_output()\n",
    "            display(HTML(\"<span>Done. Result:</span>\"))\n",
    "            print(startexp.stdout, flush=True)\n",
    "\n",
    "            # Another lab is already attached to the XDC.\n",
    "            if (\"XDC already attached\" in startexp.stdout):\n",
    "                existingLab = re.search(r\"real.(.*).USERNAME_GOES_HERE\", startexp.stdout).group(1)\n",
    "\n",
    "                # Shouldn't happen.\n",
    "                if labname == existingLab:\n",
    "                    display(HTML(\"<span style='color: red;'>Your lab was already started. </span><span>Please continue to the next step.</span>\"))\n",
    "\n",
    "                # Detaching the existing lab, then attaching the current one.\n",
    "                else:\n",
    "                    display(HTML(\"<span style='color: orange;'>Warning: You did not stop your previous experiment. </span><span>Please stop your experiments \\\n",
    "                    before starting a new one. Detaching the \" + existingLab + \" experiment.</span>\"))\n",
    "                    subprocess.run('su - USERNAME_GOES_HERE -c \"mrg xdc detach xdc.USERNAME_GOES_HERE\"', shell=True, check=True)\n",
    "                    display(HTML(\"<span>Attaching the current lab.</span>\"))\n",
    "                    subprocess.run('su - USERNAME_GOES_HERE -c \"mrg xdc attach xdc ' + materialPattern + '\"', shell=True, check=True)\n",
    "    \n",
    "            # Third, get the lab materials onto the node.\n",
    "            display(HTML(\"<span>Allocating lab resources onto the node. <u>Please wait a little longer...</u></span>\"))\n",
    "\n",
    "            # Gives the notebook a couple seconds so that it will recognize the node(s).\n",
    "            time.sleep(2)\n",
    "\n",
    "            # Move the resources over.\n",
    "            runlab = subprocess.run(\n",
    "                'su - USERNAME_GOES_HERE -c \"bash /home/runlab ' + labname + 'jup\"',\n",
    "                capture_output=True, text=True, shell=True\n",
    "            )\n",
    "\n",
    "            # Complete. Inform the student.\n",
    "            display(HTML(\"<newline><span style='color: green;'><strong>Setup complete. You may begin the lab! </strong></span>\" \\\n",
    "                         \"<span>When you're finished, close your lab at the bottom of the notebook. Your lab will be active for one week.</span>\"))\n",
    "\n",
    "\n",
    "# Creating the button.\n",
    "startButton = widgets.Button(description=\"Start Lab\")\n",
    "\n",
    "# Creating an output area.\n",
    "output0 = widgets.Output()\n",
    "\n",
    "# Run the command on click.\n",
    "startButton.on_click(startlab)\n",
    "\n",
    "# Display the output.\n",
    "display(startButton, output0)"
   ]
  },
  {
   "cell_type": "markdown",
   "metadata": {},
   "source": [
    "<hr>"
   ]
  },
  {
   "cell_type": "markdown",
   "metadata": {},
   "source": [
    "If you previously stopped your lab by using the \"Stop Lab\" button at the bottom of the notebook, you may restore your progress below by clicking \"Load Lab\". <u>You do not have to load your lab if you signed out, closed your notebook, or exited your node(s) or XDC by using ```exit```.</u>"
   ]
  },
  {
   "cell_type": "code",
   "execution_count": 3,
   "metadata": {
    "jupyter": {
     "source_hidden": true
    }
   },
   "outputs": [
    {
     "data": {
      "application/vnd.jupyter.widget-view+json": {
       "model_id": "eaf1a18e956c4edd94c1db416daa5af5",
       "version_major": 2,
       "version_minor": 0
      },
      "text/plain": [
       "Button(description='Load Lab', style=ButtonStyle())"
      ]
     },
     "metadata": {},
     "output_type": "display_data"
    },
    {
     "data": {
      "application/vnd.jupyter.widget-view+json": {
       "model_id": "e43b75c6af0d401bb8a024c4b5c0a163",
       "version_major": 2,
       "version_minor": 0
      },
      "text/plain": [
       "Output()"
      ]
     },
     "metadata": {},
     "output_type": "display_data"
    }
   ],
   "source": [
    "# Click the button below to load your lab.\n",
    "def loadlab(b):\n",
    "    with output0_2:\n",
    "        output0_2.clear_output()\n",
    "        display(HTML(\"<span>Searching for an existing lab in your notebook...</span>\"))\n",
    "\n",
    "    if (os.path.exists(\"/project/USERNAME_GOES_HERE/notebooks/saves/USERNAME_GOES_HERE_intro.tar.gz\")):\n",
    "        with output0_2:\n",
    "            output0_2.clear_output()\n",
    "            display(HTML(\"<span>Loading your lab...</span> \\\n",
    "                <span><img width='12px' height='12px' style='margin-left: 3px;' src='resources/loading.gif'></span>\"))\n",
    "            result = trigger_load()\n",
    "            if (result.returncode == 0):\n",
    "                output0_2.clear_output()\n",
    "                display(HTML(\"<span style='color: green;'>Your lab has been successfully loaded. Please click on the <img width='20px' height='20px' style='margin-left: 1px;' src='resources/fast_forward.png'> icon at the top of your notebook to reflect your changes.</span>\"))\n",
    "            elif (result.returncode == 2):\n",
    "                output0_2.clear_output()\n",
    "                display(HTML(\"<span style='color: red;'>The intro lab is inaccessible. Please start your lab. If you have already started it, wait a minute and try again.</span>\"))\n",
    "            else:\n",
    "                output0_2.clear_output()\n",
    "                display(HTML(\"<span style='color: red;'>An error occurred while loading your lab.</span>\"))\n",
    "\n",
    "    else:\n",
    "        with output0_2:\n",
    "            output0_2.clear_output()\n",
    "            display(HTML(\"<span style='color: red;'>You do not have a saved tarball for this lab.</span>\"))\n",
    "\n",
    "# Creating the button.\n",
    "loadButton = widgets.Button(description=\"Load Lab\")\n",
    "\n",
    "# Creating an output area.\n",
    "output0_2 = widgets.Output()\n",
    "\n",
    "# Run the command on click.\n",
    "loadButton.on_click(loadlab)\n",
    "\n",
    "# Display the output.\n",
    "display(loadButton, output0_2)"
   ]
  },
  {
   "cell_type": "markdown",
   "metadata": {
    "editable": true,
    "slideshow": {
     "slide_type": ""
    },
    "tags": []
   },
   "source": [
    "### Step 1: Create a Folder\n",
    "\n",
    "The ```mkdir``` command stands for \"make directory\". The syntax is ```mkdir name```, where ```name``` is the directory that you want to make. Note that this will make a directory inside of your current directory. You can use ```pwd``` to view where you're located, or look at the prompt in your terminal, which says: <font color=\"#2eeb10\"><strong>USERNAME_GOES_HERE@intro</strong></font><strong>:directory</strong>, where \"directory\" is your current location.\n",
    "\n",
    "If you want to create a directory in a location that's outside of your current directory, you may consider using an absolute path or use relative paths. \n",
    "- Absolute paths start with a ```/```, and you work down from the top of the directory. In the case of a home directory, the absolute path would be ```/home/USERNAME_GOES_HERE```.\n",
    "- Relative paths use ```..``` to represent the parent directory of your current directory, or in other words, back one directory. An example would be ```../USERNAME_GOES_HERE```, where you go back into your ```/home``` directory, then return into your ```USERNAME_GOES_HERE``` directory. You will have more practice using path traversals in the ```pathname``` lab.\n",
    "\n",
    "The ```mkdir``` accepts these two types of paths.\n",
    "\n",
    "One of the most important commands to be used in Unix is the ```ls``` command. ```ls``` stands for \"list\", which shows all of the files and directories in your current directory. Consider using ```ls -l```, where ```-l``` stands for \"long\", as it displays every file and directory in your current directory, as well as permissions, links, owner, group, size, time, and name. It's not required anywhere in this lab, but you will use it everywhere on Unix.\n",
    "\n",
    "<strong>Your task:</strong> On your XDC, sign into your ```intro``` node. To do this, type ```ssh intro```. Normally when you SSH into a computer, you would type ```ssh [user@]host```. However, since ```intro``` is recognized by your XDC as a node, you only need to type ```ssh intro```. \n",
    "\n",
    "You are going to be placed into ```/home/USERNAME_GOES_HERE``` (a simplified way to express your home directory is ```~```). Create a folder called ```jupyterintro``` in your home directory (```/home/USERNAME_GOES_HERE```) by using the ```mkdir``` command. Make sure that you are on your ```intro``` node first. Otherwise, you won't be able to continue."
   ]
  },
  {
   "cell_type": "code",
   "execution_count": 4,
   "metadata": {
    "editable": true,
    "jupyter": {
     "source_hidden": true
    },
    "jupyterlab-hide-cells:hidden": true,
    "slideshow": {
     "slide_type": ""
    },
    "tags": []
   },
   "outputs": [
    {
     "data": {
      "application/vnd.jupyter.widget-view+json": {
       "model_id": "1cd7837d3d5e4e8facbab171cdd3f01b",
       "version_major": 2,
       "version_minor": 0
      },
      "text/plain": [
       "Button(description='Check Folder', style=ButtonStyle())"
      ]
     },
     "metadata": {},
     "output_type": "display_data"
    },
    {
     "data": {
      "application/vnd.jupyter.widget-view+json": {
       "model_id": "22f87d3f8d7849eda815b24ddfaa7495",
       "version_major": 2,
       "version_minor": 0
      },
      "text/plain": [
       "Output()"
      ]
     },
     "metadata": {},
     "output_type": "display_data"
    }
   ],
   "source": [
    "# Click the button below to check your work.\n",
    "\n",
    "# Function to check if the folder exists\n",
    "def step_1():\n",
    "    # Required to change boolean value.\n",
    "    global step1Complete, step2Complete\n",
    "\n",
    "    with output1:\n",
    "        output1.clear_output()\n",
    "        display(HTML(\"<span><img width='12px' height='12px' style='margin-left: 3px;' src='resources/loading.gif'></span>\"))\n",
    "    \n",
    "    result = subprocess.run('ssh -o StrictHostKeyChecking=no -i /home/USERNAME_GOES_HERE/.ssh/merge_key USERNAME_GOES_HERE@intro /home/.checker/step1.py', shell=True)\n",
    "\n",
    "    if (result.returncode == 1 or (result.returncode == 0 and step2Complete)):\n",
    "        output1.clear_output()\n",
    "        with output1:\n",
    "            display(HTML(\"<span style='color: green;'>Success! You may continue onto the next step.</span>\"))\n",
    "            step1Complete = True\n",
    "    \n",
    "    else:\n",
    "        output1.clear_output()\n",
    "        with output1:\n",
    "            display(HTML(\"<span style='color: red;'>Check your work and try again. Did you mistype the folder name?</span>\"))\n",
    "            step1Complete = False\n",
    "\n",
    "def check_step_1(b):\n",
    "    step_1()\n",
    "\n",
    "    # Auto-save.\n",
    "    if (not runAllSteps):\n",
    "        trigger_save()\n",
    "\n",
    "# Creating the button.\n",
    "button = widgets.Button(description=\"Check Folder\")\n",
    "\n",
    "# Creating an output area.\n",
    "output1 = widgets.Output()\n",
    "\n",
    "# Run the command on click.\n",
    "button.on_click(check_step_1)\n",
    "\n",
    "# Display the output.\n",
    "display(button, output1)"
   ]
  },
  {
   "cell_type": "markdown",
   "metadata": {
    "editable": true,
    "slideshow": {
     "slide_type": ""
    },
    "tags": []
   },
   "source": [
    "### Step 2: Make a Text File\n",
    "\n",
    "In your previous step, you have learned about to create a directory. To navigate into another directory, use the ```cd``` command, which stands for \"change directory\". The ```cd``` command accepts the same two paths that ```mkdir``` accepts: absolute and relative paths. Some examples:\n",
    "- ```cd ..``` navigates into your parent directory.\n",
    "- ```cd ~``` navigates into your home directory.\n",
    "- ```cd /tmp``` navigates you into your ```/tmp``` directory.\n",
    "\n",
    "A second command that you will learn about is the ```touch``` command. The ```touch``` command has the following syntax: ```touch name```, where ```name``` is the name of a file. This command will create an empty file with whatever extension you specify. Keep in mind that ```touch``` allows you to create files that do not have an extension, so it's important to specify an extension when using ```touch``` for this step.\n",
    "\n",
    "A third command that you will learn how to use is ```chmod```. This command stands for \"change mode\", where the \"mode\" of a file is the permissions. You will learn about this significantly command in the POSIX lab, so it's not important right now to understand what it's doing. The ```chmod``` command has syntax that looks like the following: ```chmod u+x file```, where ```u``` represents \"user\", ```+``` represents \"add the following permission\", and ```x``` is the executable permission that you're adding (or removing if using ```-```). You may use this syntax for the next task.\n",
    "\n",
    "You may read more about the [<font color=\"blue\">touch</font>](https://www.geeksforgeeks.org/touch-command-in-linux-with-examples/) command and [<font color=\"blue\">chmod</font>](https://www.freecodecamp.org/news/file-permissions-in-linux-chmod-command-explained/) command with these resources.\n",
    "\n",
    "<strong>Your task:</strong> Navigate into the ```jupyterintro/``` directory that you made and create a file called ```jupytertest.txt``` by using the touch command. Try changing the permissions by using the chmod command. You can use any permissions that you'd like."
   ]
  },
  {
   "cell_type": "code",
   "execution_count": 5,
   "metadata": {
    "editable": true,
    "jupyter": {
     "source_hidden": true
    },
    "slideshow": {
     "slide_type": ""
    },
    "tags": []
   },
   "outputs": [
    {
     "data": {
      "application/vnd.jupyter.widget-view+json": {
       "model_id": "e946435e377e4b669ed3a94dced1b719",
       "version_major": 2,
       "version_minor": 0
      },
      "text/plain": [
       "Button(description='Check File', style=ButtonStyle())"
      ]
     },
     "metadata": {},
     "output_type": "display_data"
    },
    {
     "data": {
      "application/vnd.jupyter.widget-view+json": {
       "model_id": "d113eb554df4495988006c222f457ee6",
       "version_major": 2,
       "version_minor": 0
      },
      "text/plain": [
       "Output()"
      ]
     },
     "metadata": {},
     "output_type": "display_data"
    }
   ],
   "source": [
    "# Click the button below to check your work.\n",
    "\n",
    "# Function to check if the file was created and perms were changed.\n",
    "def step_2():\n",
    "    # Required to change boolean value.\n",
    "    global step2Complete, step3Complete\n",
    "\n",
    "    # Loading, in case the check is slow.\n",
    "    with output2:\n",
    "        output2.clear_output()\n",
    "        display(HTML(\"<span><img width='12px' height='12px' style='margin-left: 3px;' src='resources/loading.gif'></span>\"))\n",
    "    \n",
    "    result = subprocess.run('ssh -i /home/USERNAME_GOES_HERE/.ssh/merge_key USERNAME_GOES_HERE@intro /home/.checker/step2.py', shell=True)\n",
    "\n",
    "    # Note: If already completed, it cannot be accidentally \"undone\" since it's part of the next step.\n",
    "    if (result.returncode == 2 or step3Complete) or step2Complete:\n",
    "        output2.clear_output()\n",
    "        with output2:\n",
    "            display(HTML(\"<span style='color: green;'>Success! You may continue onto the next step.</span>\"))\n",
    "            step2Complete = True\n",
    "    elif (result.returncode == 1):\n",
    "        output2.clear_output()\n",
    "        with output2:\n",
    "            display(HTML(\"<span style='color: red;'>The text file is created, but you forgot to change the permissions.</span>\"))\n",
    "            step2Complete = False\n",
    "    else:\n",
    "        output2.clear_output()\n",
    "        with output2:\n",
    "            display(HTML(\"<span style='color: red;'>Check your work and try again.</span>\"))\n",
    "            step2Complete = False\n",
    "\n",
    "def check_step_2(b):\n",
    "    step_2()\n",
    "\n",
    "    # Auto-save.\n",
    "    if (not runAllSteps):\n",
    "        trigger_save()\n",
    "\n",
    "# Creating the button.\n",
    "button = widgets.Button(description=\"Check File\")\n",
    "\n",
    "# Creating an output area.\n",
    "output2 = widgets.Output()\n",
    "\n",
    "# Run the command on click.\n",
    "button.on_click(check_step_2)\n",
    "\n",
    "# Display the output.\n",
    "display(button, output2)"
   ]
  },
  {
   "cell_type": "markdown",
   "metadata": {},
   "source": [
    "### Step 3: Delete the Folder\n",
    "\n",
    "Now, you are going to learn how to delete content from a Unix environment by using the ```rm``` command, which stands for \"remove\". The ```rm``` command works as: ```rm file```, much like the previous commands you have used for creating files and directories. The ```rm``` command works with multiple files, so to delete multiple files, you can use ```rm file1 file2 file3``` to delete multiple files at a time.\n",
    "\n",
    "The ```rm``` command uses parameters to add more functionality to your command. Here are a few common tags:\n",
    "- ```rm -i name``` indicates \"interactive\", where you must type \"y\" or \"n\" to indicate if the file should be deleted.\n",
    "- ```rm -r name``` indicates \"recursive\", which can delete directories, as well as all of its contained files. Hence, the name \"recursive\".\n",
    "- ```rm -f name``` indicates \"force\", which allows you to delete files that are write-protected. You can tell that a file is write-protected if you do not have write permissions on it, which you will learn about in the POSIX lab.\n",
    "\n",
    "An additional resource for the [<font color=\"blue\">rm</font>](https://www.howtogeek.com/858815/linux-rm-command/) command is available for you to read.\n",
    "\n",
    "<strong>Your task:</strong> Delete the ```jupyterintro/``` directory, then check your work below."
   ]
  },
  {
   "cell_type": "code",
   "execution_count": 6,
   "metadata": {
    "editable": true,
    "jupyter": {
     "source_hidden": true
    },
    "slideshow": {
     "slide_type": ""
    },
    "tags": []
   },
   "outputs": [
    {
     "data": {
      "application/vnd.jupyter.widget-view+json": {
       "model_id": "a46755a321204cd082ecc0afbe97cc15",
       "version_major": 2,
       "version_minor": 0
      },
      "text/plain": [
       "Button(description='Check Folder', style=ButtonStyle())"
      ]
     },
     "metadata": {},
     "output_type": "display_data"
    },
    {
     "data": {
      "application/vnd.jupyter.widget-view+json": {
       "model_id": "c781bba6f6ee47558ab9ad2b4d9bde1b",
       "version_major": 2,
       "version_minor": 0
      },
      "text/plain": [
       "Output()"
      ]
     },
     "metadata": {},
     "output_type": "display_data"
    }
   ],
   "source": [
    "# Click the button below to check your work.\n",
    "\n",
    "# Function to check if the folder exists\n",
    "def step_3():\n",
    "    # Required to change boolean values.\n",
    "    global step1Complete, step3Complete\n",
    "\n",
    "    # Loading, in case the check is slow.\n",
    "    with output3:\n",
    "        output3.clear_output()\n",
    "        display(HTML(\"<span><img width='12px' height='12px' style='margin-left: 3px;' src='resources/loading.gif'></span>\"))\n",
    "    \n",
    "    result = subprocess.run(['ssh -i /home/USERNAME_GOES_HERE/.ssh/merge_key USERNAME_GOES_HERE@intro /home/.checker/step3.py /home/USERNAME_GOES_HERE/jupyterintro'], shell=True)\n",
    "    \n",
    "    if (result.returncode == 1 and step1Complete):\n",
    "        output3.clear_output()\n",
    "        with output3:\n",
    "            display(HTML(\"<span style='color: red;'>Check your work and try again.</span>\"))\n",
    "            step3Complete = False\n",
    "    elif step1Complete == False:\n",
    "        output3.clear_output()\n",
    "        with output3:\n",
    "            display(HTML(\"<span style='color: red;'>You need to complete Step 1 before continuing.</span>\"))\n",
    "            step3Complete = False\n",
    "    else:\n",
    "        output3.clear_output()\n",
    "        with output3:\n",
    "            display(HTML(\"<span style='color: green;'>Success! You may continue onto the next step.</span>\"))\n",
    "            step3Complete = True\n",
    "\n",
    "def check_step_3(b):\n",
    "    step_3()\n",
    "\n",
    "    # Auto-save.\n",
    "    if (not runAllSteps):\n",
    "        trigger_save()\n",
    "\n",
    "# Creating the button.\n",
    "button = widgets.Button(description=\"Check Folder\")\n",
    "\n",
    "# Creating an output area.\n",
    "output3 = widgets.Output()\n",
    "\n",
    "# Run the command on click.\n",
    "button.on_click(check_step_3)\n",
    "\n",
    "# Display the output.\n",
    "display(button, output3)"
   ]
  },
  {
   "cell_type": "markdown",
   "metadata": {},
   "source": [
    "### Step 4: Search For a File\n",
    "\n",
    "The ```find``` command is used for locating files in a Unix environment. The syntax for the command is: ```find [path] [options] [expression]```.\n",
    "- ```[path]``` is the directory that you want to search in.\n",
    "- ```[options]``` allows you to set optional parameters, such as a specific name of a file (```-name pattern```), the type of file you're searching for, like regular files or directories (```-type f``` or ```-type r```), and many more.\n",
    "- ```[expression]``` is the filter of the file that you wish to search for. This is where the name of the file you're searching for can be typed in, with quotes around it.\n",
    "\n",
    "This article on the [<font color=\"blue\">find</font>](https://www.geeksforgeeks.org/find-command-in-linux-with-examples/) command lists many different uses of the ```find``` command.\n",
    "\n",
    "Additionally, you were reminded in Step 1 of a command called ```ls -l``` in Unix. The ```ls -al``` command is similar, but the ```-a``` means \"all\", which will allow you to view hidden files. Hidden files have a ```.``` in front of it, so ```.hidden_file``` is not viewable with ```ls -l```.\n",
    "\n",
    "<strong>Your task:</strong> A file was stored in your ```intro``` node called ```.findme.txt```. Its location is unknown, so you need to use the  command to search for it. Check the top-most hierarchy of the ```intro``` node, which is ```/```. When you have found the file, delete it.\n",
    "\n",
    "The file will be hidden, so you cannot view it with ```ls -l```. You will need to type the ```.``` in front of the file name when using the ```find``` command so that you can find it properly."
   ]
  },
  {
   "cell_type": "code",
   "execution_count": 7,
   "metadata": {
    "jupyter": {
     "source_hidden": true
    }
   },
   "outputs": [
    {
     "data": {
      "application/vnd.jupyter.widget-view+json": {
       "model_id": "7846f80047db46ebad8cc4dfcbf7e9f9",
       "version_major": 2,
       "version_minor": 0
      },
      "text/plain": [
       "Button(description='Check File', style=ButtonStyle())"
      ]
     },
     "metadata": {},
     "output_type": "display_data"
    },
    {
     "data": {
      "application/vnd.jupyter.widget-view+json": {
       "model_id": "47f55adf689543719172b3168ae4f659",
       "version_major": 2,
       "version_minor": 0
      },
      "text/plain": [
       "Output()"
      ]
     },
     "metadata": {},
     "output_type": "display_data"
    }
   ],
   "source": [
    "# Click the button below to check your work.\n",
    "step4Complete = False\n",
    "\n",
    "# Function to check if the file was deleted.\n",
    "def step_4():\n",
    "    # Required to change boolean values.\n",
    "    global step4Complete\n",
    "\n",
    "    # Loading, in case the check is slow.\n",
    "    with output4:\n",
    "        output4.clear_output()\n",
    "        display(HTML(\"<span><img width='12px' height='12px' style='margin-left: 3px;' src='resources/loading.gif'></span>\"))\n",
    "    \n",
    "    result = subprocess.run(['ssh -i /home/USERNAME_GOES_HERE/.ssh/merge_key USERNAME_GOES_HERE@intro /home/.checker/step4'], shell=True)\n",
    "    \n",
    "    if (result.returncode == 1):\n",
    "        output4.clear_output()\n",
    "        with output4:\n",
    "            display(HTML(\"<span style='color: red;'>Check your work and try again.</span>\"))\n",
    "            step4Complete = False\n",
    "    elif (result.returncode == 0):\n",
    "        output4.clear_output()\n",
    "        with output4:\n",
    "            display(HTML(\"<span style='color: green;'>Success! You may continue onto the next step.</span>\"))\n",
    "            step4Complete = True\n",
    "\n",
    "def check_step_4(b):\n",
    "    step_4()\n",
    "\n",
    "    # Auto-save.\n",
    "    if (not runAllSteps):\n",
    "        trigger_save()\n",
    "\n",
    "# Creating the button.\n",
    "button = widgets.Button(description=\"Check File\")\n",
    "\n",
    "# Creating an output area.\n",
    "output4 = widgets.Output()\n",
    "\n",
    "# Run the command on click.\n",
    "button.on_click(check_step_4)\n",
    "\n",
    "# Display the output.\n",
    "display(button, output4)"
   ]
  },
  {
   "cell_type": "markdown",
   "metadata": {},
   "source": [
    "### Step 5: Retrieve Files from Online\n",
    "\n",
    "Unix environments allow you to download information from online, such as website source code, RAW files, and more. To do this, we can use a command called [<font color=\"blue\">wget</font>](https://www.geeksforgeeks.org/wget-command-in-linux-unix/). The ```wget``` command is straightforward for our needs, as it just requires a URL. The syntax is: ```wget [url]```\n",
    "\n",
    "<strong>Your task:</strong> In your home directory, download this RAW file by using ```wget```: ```https://raw.githubusercontent.com/jesstess/Scrabble/master/scrabble/sowpods.txt```\n",
    "\n",
    "Make sure that the file is named ```sowpods.txt```."
   ]
  },
  {
   "cell_type": "code",
   "execution_count": 8,
   "metadata": {
    "jupyter": {
     "source_hidden": true
    }
   },
   "outputs": [
    {
     "data": {
      "application/vnd.jupyter.widget-view+json": {
       "model_id": "7f6e09238e1e47c8aab2d99cb90dcd43",
       "version_major": 2,
       "version_minor": 0
      },
      "text/plain": [
       "Button(description='Check File', style=ButtonStyle())"
      ]
     },
     "metadata": {},
     "output_type": "display_data"
    },
    {
     "data": {
      "application/vnd.jupyter.widget-view+json": {
       "model_id": "0f52ff7fdb87466cb9ae198067ba042f",
       "version_major": 2,
       "version_minor": 0
      },
      "text/plain": [
       "Output()"
      ]
     },
     "metadata": {},
     "output_type": "display_data"
    }
   ],
   "source": [
    "# Click the button below to check your work.\n",
    "step5Complete = False\n",
    "\n",
    "# Function to check if wget was called correctly.\n",
    "def step_5():\n",
    "    # Required to change boolean values.\n",
    "    global step5Complete\n",
    "\n",
    "    # Loading, in case the check is slow.\n",
    "    with output5:\n",
    "        output5.clear_output()\n",
    "        display(HTML(\"<span><img width='12px' height='12px' style='margin-left: 3px;' src='resources/loading.gif'></span>\"))\n",
    "    \n",
    "    result = subprocess.run(['ssh -i /home/USERNAME_GOES_HERE/.ssh/merge_key USERNAME_GOES_HERE@intro /home/.checker/step5.py'], shell=True)\n",
    "\n",
    "    # Triggers when wget has an issue when downloading the file for validity.\n",
    "    if (result.returncode == 1):\n",
    "        output5.clear_output()\n",
    "        with output5:\n",
    "            display(HTML(\"<span style='color: red;'>Error. File cannot be downloaded to check validity.</span>\"))\n",
    "            step5Complete = False\n",
    "    # File isn't made.\n",
    "    elif (result.returncode == 2):\n",
    "        output5.clear_output()\n",
    "        with output5:\n",
    "            display(HTML(\"<span style='color: red;'>The sowpods.txt file cannot be found in your home directory.</span>\"))\n",
    "            step5Complete = False\n",
    "    # In case the two files don't match.\n",
    "    elif (result.returncode == 0):\n",
    "        output5.clear_output()\n",
    "        with output5:\n",
    "            display(HTML(\"<span style='color: red;'>Your sowpods.txt file does not match the text file. Delete the file and try again.</span>\"))\n",
    "            step5Complete = False\n",
    "    # Success.\n",
    "    elif (result.returncode == 3):\n",
    "        output5.clear_output()\n",
    "        with output5:\n",
    "            display(HTML(\"<span style='color: green;'>Success! You may continue onto the next step.</span>\"))\n",
    "            step5Complete = True\n",
    "\n",
    "def check_step_5(b):\n",
    "    step_5()\n",
    "\n",
    "    # Auto-save.\n",
    "    if (not runAllSteps):\n",
    "        trigger_save()\n",
    "\n",
    "# Creating the button.\n",
    "button = widgets.Button(description=\"Check File\")\n",
    "\n",
    "# Creating an output area.\n",
    "output5 = widgets.Output()\n",
    "\n",
    "# Run the command on click.\n",
    "button.on_click(check_step_5)\n",
    "\n",
    "# Display the output.\n",
    "display(button, output5)"
   ]
  },
  {
   "cell_type": "markdown",
   "metadata": {},
   "source": [
    "### Step 6: Use a Regular Expression\n",
    "\n",
    "Regular expressions (regex) are used to find/change strings in a file. They are in programming languages, but they are also available in Unix environments. The command, [<font color=\"blue\">grep</font>](https://www.geeksforgeeks.org/grep-command-in-unixlinux/), supports regexes, and is used for searching and filtering text in Unix. Most programming languages support regexes, and they are supported on the Unix command-line using programs.\n",
    "\n",
    "Some useful cases of using grep are:\n",
    "- You have several .c files stored in a directory, but you want to know which .c files have the line ```#include <time.h>``` inside of them.\n",
    "- You are trying to find a specific error inside of ```/var/log```.\n",
    "- You want to find all occurrences of a database name in a collection of PHP files, and you want to rename them all in one command.\n",
    "\n",
    "The ```grep``` command stands for \"global regular expression print\". The syntax works as follows: ```grep [options] pattern [files]```.\n",
    "- ```[options]``` is a set of tags, much like the previous ```[options]``` that you have seen in the previous steps.\n",
    "- ```pattern``` is the string that you wish to match. Regex is allowed in the pattern, but is not required to know for the lab.\n",
    "- ```[files]``` is/are the file(s) that you wish to match with.\n",
    "\n",
    "<strong>Your task:</strong> In the previous step, you downloaded ```sowpods.txt```. Use the ```grep``` command and find all strings that begin with the word ```CAMP``` inside of this file. Once you have printed all of the strings that start with ```CAMP```, create a text file called ```output.txt``` inside of ```/home/USERNAME_GOES_HERE```. \n",
    "\n",
    "<span style=\"color: green\"><strong><img src=\"resources/idea.png\" style=\"width: 12px\"> Tips:</strong></span>\n",
    "\n",
    "- Use the following command to take your ```grep``` command and write it as a text file. This is called a redirection, which takes your output from the ```grep``` command, then writes it as a new text file: ```grep ... > /home/USERNAME_GOES_HERE/output.txt```\n",
    "- You will want to find words that start with \"CAMP\". Regex is not required to know, but you will need to use ```^``` in front of your pattern to match with anything starting with \"CAMP\".\n",
    "- Notice that all strings in ```sowpods.txt``` are in CAPS. You will either need to add the ```-i``` tag to your ```grep``` command (meaning case-insensitive) or set your pattern to be in CAPS."
   ]
  },
  {
   "cell_type": "code",
   "execution_count": 9,
   "metadata": {
    "jupyter": {
     "source_hidden": true
    }
   },
   "outputs": [
    {
     "data": {
      "application/vnd.jupyter.widget-view+json": {
       "model_id": "2c1e23e57ac542cb9274bb82ec888fef",
       "version_major": 2,
       "version_minor": 0
      },
      "text/plain": [
       "Button(description='Check Work', style=ButtonStyle())"
      ]
     },
     "metadata": {},
     "output_type": "display_data"
    },
    {
     "data": {
      "application/vnd.jupyter.widget-view+json": {
       "model_id": "0db1798da8eb4d678d34dca5b28031da",
       "version_major": 2,
       "version_minor": 0
      },
      "text/plain": [
       "Output()"
      ]
     },
     "metadata": {},
     "output_type": "display_data"
    }
   ],
   "source": [
    "# Click the button below to check your work.\n",
    "step6Complete = False\n",
    "\n",
    "# Function to check if the file was created correctly.\n",
    "def step_6():\n",
    "    # Required to change boolean values.\n",
    "    global step5Complete, step6Complete, step7Complete\n",
    "\n",
    "    # Loading, in case the check is slow.\n",
    "    with output6:\n",
    "        output6.clear_output()\n",
    "        display(HTML(\"<span><img width='12px' height='12px' style='margin-left: 3px;' src='resources/loading.gif'></span>\"))\n",
    "\n",
    "    result = subprocess.run(['ssh -i /home/USERNAME_GOES_HERE/.ssh/merge_key USERNAME_GOES_HERE@intro /home/.checker/step6'], shell=True)\n",
    "\n",
    "    # If the file was moved already, change the file location. Send \"1\" as an argument to step6.\n",
    "    if (step7Complete):\n",
    "        output6.clear_output()\n",
    "        with output6:\n",
    "            display(HTML(\"<span style='color: green;'>Success! You may continue onto the next step.</span>\"))\n",
    "            step6Complete = True\n",
    "            \n",
    "    # sowpods.txt doesn't exist.\n",
    "    if (result.returncode == 1 or not step5Complete):\n",
    "        output6.clear_output()\n",
    "        with output6:\n",
    "            display(HTML(\"<span style='color: red;'>sowpods.txt doesn't exist. Did you complete the previous step yet?</span>\"))\n",
    "            step6Complete = False\n",
    "            \n",
    "    # Check fails.\n",
    "    elif (result.returncode == 0):\n",
    "        output6.clear_output()\n",
    "        with output6:\n",
    "            display(HTML(\"<span style='color: red;'>Error. This check script failed. Please consult your professor/TA.</span>\"))\n",
    "            step6Complete = False\n",
    "\n",
    "    # File cannot be found.\n",
    "    elif (result.returncode == 2):\n",
    "        output6.clear_output()\n",
    "        with output6:\n",
    "            display(HTML(\"<span style='color: red;'>Your answer cannot be found. Did you name it as output.txt?</span>\"))\n",
    "            step6Complete = False\n",
    "\n",
    "    # output.txt is different from the correct answer.\n",
    "    elif (result.returncode == 4):\n",
    "        output6.clear_output()\n",
    "        with output6:\n",
    "            display(HTML(\"<span style='color: red;'>output.txt exists, but is incorrect.</span>\"))\n",
    "            step6Complete = False\n",
    "\n",
    "    elif (result.returncode == 3):\n",
    "        output6.clear_output()\n",
    "        with output6:\n",
    "            display(HTML(\"<span style='color: green;'>Success! You may continue onto the next step.</span>\"))\n",
    "            step6Complete = True\n",
    "\n",
    "            # For the next step, create the new folder if it doesn't exist yet.\n",
    "            subprocess.run(\"ssh -i /home/USERNAME_GOES_HERE/.ssh/merge_key USERNAME_GOES_HERE@intro 'mkdir -p \\\"Important Data\\\"'\", shell=True)\n",
    "    \n",
    "\n",
    "def check_step_6(b):\n",
    "    step_6()\n",
    "\n",
    "    # Auto-save.\n",
    "    if (not runAllSteps):\n",
    "        trigger_save()\n",
    "\n",
    "# Creating the button.\n",
    "button = widgets.Button(description=\"Check Work\")\n",
    "\n",
    "# Creating an output area.\n",
    "output6 = widgets.Output()\n",
    "\n",
    "# Run the command on click.\n",
    "button.on_click(check_step_6)\n",
    "\n",
    "# Display the output.\n",
    "display(button, output6)"
   ]
  },
  {
   "cell_type": "markdown",
   "metadata": {},
   "source": [
    "### Step 7: Moving a File\n",
    "\n",
    "The ```mv``` command means \"move\". As the name implies, you can move files/directories around with this command. The syntax is: ```mv source dest```.\n",
    "- ```source``` is the file that you wish to move.\n",
    "- ```dest``` is the location that you wish to move the file to.\n",
    "\n",
    "If you'd like to read more about the [<font color=\"blue\">mv</font>](https://www.geeksforgeeks.org/mv-command-linux-examples/) command, you may follow the hyperlink.\n",
    "\n",
    "<strong>Your task:</strong> After completing Step 6, a new folder was created in your home directory, named ```Important Data```. Move your ```output.txt``` file into this directory by using the mv command.\n",
    "\n",
    "<span style=\"color: green\"><strong><img src=\"resources/idea.png\" style=\"width: 12px\"> Tips:</strong></span>\n",
    "\n",
    "- There is a space in your directory name. You will have to [<font color=\"blue\">escape space characters</font>](https://linuxhandbook.com/filename-spaces-linux/) in your command.\n",
    "- You can rename files use this same command! To rename a file, use ```mv oldname newname```. You are moving it to/from the same directory, but with a different name. <u>This is not required for the lab.</u>"
   ]
  },
  {
   "cell_type": "code",
   "execution_count": 10,
   "metadata": {
    "jupyter": {
     "source_hidden": true
    }
   },
   "outputs": [
    {
     "data": {
      "application/vnd.jupyter.widget-view+json": {
       "model_id": "a516a8790efc417f92287e39c2b1f300",
       "version_major": 2,
       "version_minor": 0
      },
      "text/plain": [
       "Button(description='Check Folder', style=ButtonStyle())"
      ]
     },
     "metadata": {},
     "output_type": "display_data"
    },
    {
     "data": {
      "application/vnd.jupyter.widget-view+json": {
       "model_id": "40fdd26d0cf9416e86e3508eb3b29f88",
       "version_major": 2,
       "version_minor": 0
      },
      "text/plain": [
       "Output()"
      ]
     },
     "metadata": {},
     "output_type": "display_data"
    }
   ],
   "source": [
    "# Click the button below to check your work.\n",
    "step7Complete = False\n",
    "\n",
    "# Function to check if the file was moved.\n",
    "def step_7():\n",
    "    # Required to change boolean value.\n",
    "    global step6Complete, step7Complete\n",
    "\n",
    "    # Loading, in case the check is slow.\n",
    "    with output7:\n",
    "        output7.clear_output()\n",
    "        display(HTML(\"<span><img width='12px' height='12px' style='margin-left: 3px;' src='resources/loading.gif'></span>\"))\n",
    "    \n",
    "    result = subprocess.run('ssh -i /home/USERNAME_GOES_HERE/.ssh/merge_key USERNAME_GOES_HERE@intro \"/home/.checker/step7.py \\'/home/USERNAME_GOES_HERE/Important Data/output.txt\\'\"', shell=True)\n",
    "    \n",
    "    if (result.returncode == 1 and step6Complete):\n",
    "        output7.clear_output()\n",
    "        with output7:\n",
    "            display(HTML(\"<span style='color: green;'>Success! You may continue onto the next step.</span>\"))\n",
    "            step7Complete = True\n",
    "    else:\n",
    "        output7.clear_output()\n",
    "        with output7:\n",
    "            display(HTML(\"<span style='color: red;'>Check your work and try again.</span>\"))\n",
    "            step7Complete = False\n",
    "\n",
    "def check_step_7(b):\n",
    "    step_7()\n",
    "\n",
    "    # Auto-save.\n",
    "    if (not runAllSteps):\n",
    "        trigger_save()\n",
    "\n",
    "# Creating the button.\n",
    "button = widgets.Button(description=\"Check Folder\")\n",
    "\n",
    "# Creating an output area.\n",
    "output7 = widgets.Output()\n",
    "\n",
    "# Run the command on click.\n",
    "button.on_click(check_step_7)\n",
    "\n",
    "# Display the output.\n",
    "display(button, output7)"
   ]
  },
  {
   "cell_type": "markdown",
   "metadata": {},
   "source": [
    "### Step 8: Copying a File\n",
    "\n",
    "Similar to moving files/directories, we can copy files/directories. The ```cp``` command means \"copy\". The syntax is the same as the ```mv``` command: ```cp source dest```.\n",
    "- ```source``` is the file that you wish to copy.\n",
    "- ```dest``` is the location that you wish to copy the file to.\n",
    "  - ```dest``` can either end with a directory, but if you specify the path to end with a file name, it will rename the copied file to what you indicated in ```cp```.\n",
    " \n",
    "You may read more about the [<font color=\"blue\">cp</font>](https://www.geeksforgeeks.org/cp-command-linux-examples/) command here.\n",
    "\n",
    "<strong>Your task:</strong> Now, create a copy of the file using the ```cp``` command. Call this file ```output_copy.txt```. Make sure that it remains in the same directory as your ```output.txt``` file. You should still be in your ```Important Data``` folder.\n",
    "\n",
    "<span style=\"color: green\"><strong><img src=\"resources/idea.png\" style=\"width: 12px\"> Note:</strong></span> Physically copying all the lines and creating a new text file will not work. You will need to use the copy command."
   ]
  },
  {
   "cell_type": "code",
   "execution_count": 11,
   "metadata": {
    "jupyter": {
     "source_hidden": true
    }
   },
   "outputs": [
    {
     "data": {
      "application/vnd.jupyter.widget-view+json": {
       "model_id": "daacee8b8140451e8d935614f2ab9b4b",
       "version_major": 2,
       "version_minor": 0
      },
      "text/plain": [
       "Button(description='Check Work', style=ButtonStyle())"
      ]
     },
     "metadata": {},
     "output_type": "display_data"
    },
    {
     "data": {
      "application/vnd.jupyter.widget-view+json": {
       "model_id": "a44c6d2bc0914c69815a879f265701ad",
       "version_major": 2,
       "version_minor": 0
      },
      "text/plain": [
       "Output()"
      ]
     },
     "metadata": {},
     "output_type": "display_data"
    }
   ],
   "source": [
    "# Click the button below to check your work.\n",
    "step8Complete = False\n",
    "\n",
    "# Function to check if the file was copied.\n",
    "def step_8():\n",
    "    # Required to change boolean values.\n",
    "    global step8Complete\n",
    "\n",
    "    # Loading, in case the check is slow.\n",
    "    with output8:\n",
    "        output8.clear_output()\n",
    "        display(HTML(\"<span><img width='12px' height='12px' style='margin-left: 3px;' src='resources/loading.gif'></span>\"))\n",
    "    \n",
    "    result = subprocess.run(['ssh -i /home/USERNAME_GOES_HERE/.ssh/merge_key USERNAME_GOES_HERE@intro /home/.checker/step8.py'], shell=True)\n",
    "\n",
    "    # File wasn't copied yet.\n",
    "    if (result.returncode == 0):\n",
    "        output8.clear_output()\n",
    "        with output8:\n",
    "            display(HTML(\"<span style='color: red;'>output_copy.txt is not found.</span>\"))\n",
    "            step8Complete = False\n",
    "\n",
    "    elif (result.returncode == 2):\n",
    "        output8.clear_output()\n",
    "        with output8:\n",
    "            display(HTML(\"<span style='color: red;'>output.txt and output_copy.txt are not the same.</span>\"))\n",
    "            step8Complete = False\n",
    "\n",
    "    elif (result.returncode == 3):\n",
    "        output8.clear_output()\n",
    "        with output8:\n",
    "            display(HTML(\"<span style='color: red;'>Error. Please consult your professor/TA.</span>\"))\n",
    "            step8Complete = False\n",
    "    \n",
    "    elif (result.returncode == 1):\n",
    "        output8.clear_output()\n",
    "        with output8:\n",
    "            display(HTML(\"<span style='color: green;'>Success! You may continue onto the next step.</span>\"))\n",
    "            step8Complete = True\n",
    "\n",
    "def check_step_8(b):\n",
    "    step_8()\n",
    "\n",
    "    # Auto-save.\n",
    "    if (not runAllSteps):\n",
    "        trigger_save()\n",
    "\n",
    "# Creating the button.\n",
    "button = widgets.Button(description=\"Check Work\")\n",
    "\n",
    "# Creating an output area.\n",
    "output8 = widgets.Output()\n",
    "\n",
    "# Run the command on click.\n",
    "button.on_click(check_step_8)\n",
    "\n",
    "# Display the output.\n",
    "display(button, output8)"
   ]
  },
  {
   "cell_type": "markdown",
   "metadata": {},
   "source": [
    "### Step 9: Finding the Difference Between Two Files\n",
    "\n",
    "The ```diff``` command means \"difference\", which can be used to find the difference between two files. The syntax works as: ```diff [options] file1 file2```.\n",
    "\n",
    "You will not need to use options for the ```diff``` command, but you may read more about the [<font color=\"blue\">diff</font>](https://www.geeksforgeeks.org/diff-command-linux-examples/) command here.\n",
    "\n",
    "<strong>Your task:</strong> Upon completing Step 8, a new folder was created inside of your ```Important Data/``` directory called ```lists/```. This contains two files: ```list1.txt``` and ```list2.txt```. One line is different between the two, very similar text files. It's too difficult to find what the difference is by hand, so we will use the diff command to find the difference between the two files.\n",
    "\n",
    "After finding what the difference is between the two files, you will use a similar command from Step 6 to redirect the output to a text file. Call this file ```listdiff.txt```, and keep it inside of your ```lists/``` directory."
   ]
  },
  {
   "cell_type": "code",
   "execution_count": 12,
   "metadata": {
    "jupyter": {
     "source_hidden": true
    }
   },
   "outputs": [
    {
     "data": {
      "application/vnd.jupyter.widget-view+json": {
       "model_id": "b3333fa9a2e649e88260488f3e17f5fb",
       "version_major": 2,
       "version_minor": 0
      },
      "text/plain": [
       "Button(description='Check Work', style=ButtonStyle())"
      ]
     },
     "metadata": {},
     "output_type": "display_data"
    },
    {
     "data": {
      "application/vnd.jupyter.widget-view+json": {
       "model_id": "cad8314eba9d468eb9581ea8b43bd1c2",
       "version_major": 2,
       "version_minor": 0
      },
      "text/plain": [
       "Output()"
      ]
     },
     "metadata": {},
     "output_type": "display_data"
    }
   ],
   "source": [
    "# Click the button below to check your work.\n",
    "step9Complete = False\n",
    "\n",
    "# Function to check the answer was correctly made.\n",
    "def step_9():\n",
    "    # Required to change boolean values.\n",
    "    global step9Complete\n",
    "\n",
    "    # Loading, in case the check is slow.\n",
    "    with output9:\n",
    "        output9.clear_output()\n",
    "        display(HTML(\"<span><img width='12px' height='12px' style='margin-left: 3px;' src='resources/loading.gif'></span>\"))\n",
    "    \n",
    "    result = subprocess.run(['ssh -i /home/USERNAME_GOES_HERE/.ssh/merge_key USERNAME_GOES_HERE@intro /home/.checker/step9'], shell=True)\n",
    "\n",
    "    # No attempt made.\n",
    "    if (result.returncode == 3):\n",
    "        output9.clear_output()\n",
    "        with output9:\n",
    "            display(HTML(\"<span style='color: red;'>listdiff.txt was not found. Is it in the correct directory?</span>\"))\n",
    "            step9Complete = False\n",
    "            \n",
    "    # Check fails.\n",
    "    elif (result.returncode == 0):\n",
    "        output9.clear_output()\n",
    "        with output9:\n",
    "            display(HTML(\"<span style='color: red;'>Error. This check script failed. Please consult your professor/TA.</span>\"))\n",
    "            step9Complete = False\n",
    "\n",
    "    # Exists, but not correct.\n",
    "    elif (result.returncode == 2):\n",
    "        output9.clear_output()\n",
    "        with output9:\n",
    "            display(HTML(\"<span style='color: red;'>Your answer is incorrect. Double check your diff command.</span>\"))\n",
    "            step9Complete = False\n",
    "\n",
    "    elif (result.returncode == 1):\n",
    "        output9.clear_output()\n",
    "        with output9:\n",
    "            display(HTML(\"<span style='color: green;'>Success! You may continue onto the next step.</span>\"))\n",
    "            step9Complete = True\n",
    "\n",
    "def check_step_9(b):\n",
    "    step_9()\n",
    "\n",
    "    # Auto-save.\n",
    "    if (not runAllSteps):\n",
    "        trigger_save()\n",
    "\n",
    "# Creating the button.\n",
    "button = widgets.Button(description=\"Check Work\")\n",
    "\n",
    "# Creating an output area.\n",
    "output9 = widgets.Output()\n",
    "\n",
    "# Run the command on click.\n",
    "button.on_click(check_step_9)\n",
    "\n",
    "# Display the output.\n",
    "display(button, output9)"
   ]
  },
  {
   "cell_type": "markdown",
   "metadata": {},
   "source": [
    "### Step 10: Creating Tarballs\n",
    "\n",
    "Now, you will create a tarball consisting of the ```Important Data/``` directory. Tarballs (```.tar.gz```) are similar to zip (```.zip```) files, except tarballs are more widely-supported in Unix environments. They are able to preserve file permissions. The ```gz``` extension means \"g-zip\", which is a compression type. Tarballs are usually zipped with this extension at the end of it.\n",
    "\n",
    "Use the [<font color=\"blue\">tar</font>](https://www.cyberciti.biz/faq/how-to-create-tar-gz-file-in-linux-using-command-line/) command to create a tarball containing the three files from above. Name the tarball ```data.tar.gz```, and make sure it's in your home directory.\n",
    "\n",
    "<span style=\"color: green\"><strong><img src=\"resources/idea.png\" style=\"width: 12px\"> Tip:</strong></span> If you were to extract your tarball, the first file you should see is ```Important Data/```. It's not required that you extract your tarball, but if this step is failing to complete, this would be a good starting point to debug. If you compressed the contents inside of ```Important Data/```, rather the folder itself, then you performed the step incorrectly."
   ]
  },
  {
   "cell_type": "code",
   "execution_count": 13,
   "metadata": {
    "editable": true,
    "jupyter": {
     "source_hidden": true
    },
    "slideshow": {
     "slide_type": ""
    },
    "tags": []
   },
   "outputs": [
    {
     "data": {
      "application/vnd.jupyter.widget-view+json": {
       "model_id": "33d267b4aac9476d804b655e42600278",
       "version_major": 2,
       "version_minor": 0
      },
      "text/plain": [
       "Button(description='Check Work', style=ButtonStyle())"
      ]
     },
     "metadata": {},
     "output_type": "display_data"
    },
    {
     "data": {
      "application/vnd.jupyter.widget-view+json": {
       "model_id": "80168942fe9842f694a38d7b4cc187b0",
       "version_major": 2,
       "version_minor": 0
      },
      "text/plain": [
       "Output()"
      ]
     },
     "metadata": {},
     "output_type": "display_data"
    }
   ],
   "source": [
    "# Click the button below to check your work.\n",
    "step10Complete = False\n",
    "\n",
    "# Function to check if the tarball was created properly.\n",
    "def step_10():\n",
    "    # Required to change boolean values.\n",
    "    global step10Complete\n",
    "\n",
    "    # Loading, in case the check is slow.\n",
    "    with output10:\n",
    "        output10.clear_output()\n",
    "        display(HTML(\"<span><img width='12px' height='12px' style='margin-left: 3px;' src='resources/loading.gif'></span>\"))\n",
    "    \n",
    "    result = subprocess.run('ssh -i /home/USERNAME_GOES_HERE/.ssh/merge_key USERNAME_GOES_HERE@intro /home/.checker/step10.py', shell=True, stdout=subprocess.DEVNULL)\n",
    "\n",
    "    # File wasn't copied yet.\n",
    "    if (result.returncode == 0):\n",
    "        output10.clear_output()\n",
    "        with output10:\n",
    "            display(HTML(\"<span style='color: red;'>data.tar.gz was not found in your home directory.</span>\"))\n",
    "            step10Complete = False\n",
    "\n",
    "    elif (result.returncode == 2):\n",
    "        output10.clear_output()\n",
    "        with output10:\n",
    "            display(HTML(\"<span style='color: red;'>Your tarball was not created correctly. Review the directions and try again.</span>\"))\n",
    "            step10Complete = False\n",
    "\n",
    "    elif (result.returncode == 3):\n",
    "        output10.clear_output()\n",
    "        with output10:\n",
    "            display(HTML(\"<span style='color: red;'>There is an issue with how you created your tarball. Ensure that the arguments you used are -czvf for the tar command.</span>\"))\n",
    "            step10Complete = False\n",
    "\n",
    "    elif (result.returncode == 1):\n",
    "        output10.clear_output()\n",
    "        with output10:\n",
    "            display(HTML(\"<span style='color: green;'>Success! You may continue onto the next step.</span>\"))\n",
    "            step10Complete = True\n",
    "\n",
    "def check_step_10(b):\n",
    "    step_10()\n",
    "\n",
    "    # Auto-save.\n",
    "    if (not runAllSteps):\n",
    "        trigger_save()\n",
    "\n",
    "# Creating the button.\n",
    "button = widgets.Button(description=\"Check Work\")\n",
    "\n",
    "# Creating an output area.\n",
    "output10 = widgets.Output()\n",
    "\n",
    "# Run the command on click.\n",
    "button.on_click(check_step_10)\n",
    "\n",
    "# Display the output.\n",
    "display(button, output10)"
   ]
  },
  {
   "cell_type": "markdown",
   "metadata": {},
   "source": [
    "### Step 11: Secure Copying a File\n",
    "\n",
    "We want to copy ```data.tar.gz``` to our XDC. If you forgot what your XDC is, revisit the top of your notebook. Technically, when moving files that can be copied and pasted, it is possible to copy a file by copying/pasting contents from our terminal window to a text editor. However, this isn't a viable approach when we are working with very large (and/or binary) files. We can't copy and paste a ```.tar.gz``` file from a terminal, so it will be easier to use the [<font color=\"blue\">scp</font>](https://www.geeksforgeeks.org/scp-command-in-linux-with-examples/) command. ```scp``` stands for \"secure copy\", and we use this whenever we want to transfer files from one system to another.\n",
    "\n",
    "This is the syntax: \n",
    "\n",
    "```scp [-args] [[user@]host1:]source_file_or_directory [[user@]host2:]destination```\n",
    "\n",
    "This command may appear a little daunting, but it's incredibly important and useful to know. Other courses may require you to transfer files from your system to a server or vice versa. A table is provided below to describe the syntax in an easier to understand way.\n",
    "\n",
    "|           Command             |       File I Want       |   Where To Go To     |\n",
    "|:-----------------------------:|:-----------------------:|:--------------------:|\n",
    "|  ```scp [-optional_args]```   |  ```~/example.txt```    |   ```intro:/tmp```   |\n",
    "\n",
    "The final command is: ```scp ~/example.txt intro:/tmp```, which means that you want to take a file from your home directory (presumably on your XDC), then copy it to the ```intro``` node, and into the ```/tmp``` folder.\n",
    "\n",
    "You will see that on the ```intro``` node, your terminal says <font color=\"#2eeb10\"><strong>USERNAME_GOES_HERE@intro</strong></font>, which is a recognizable host. When you are typing commands on your XDC, <strong>USERNAME_GOES_HERE@xdc</strong> is also a recognizable host. It's good practice to look at these names on the command line so that you know what name(s) to use when using ```scp```.\n",
    "\n",
    "Using this information, carefully type a ```scp``` command that will transfer ```/home/USERNAME_GOES_HERE/data.tar.gz``` from your ```intro``` node to ```/home/USERNAME_GOES_HERE``` on your XDC.\n",
    "\n",
    "<span style=\"color: green\"><strong><img src=\"resources/idea.png\" style=\"width: 12px\"> Tips:</strong></span>\n",
    "\n",
    "- You will need to be on <strong>USERNAME_GOES_HERE@xdc</strong>, then using the ```scp``` command. This will mean that your source is your ```intro``` node, and your destination will be ```~```, which is the home directory on your XDC.\n",
    "- When you sign in to the ```intro``` node, you are typing ```ssh intro```. The terminal recognizes that ```intro``` is a host, so you do not need to include ```user@``` when using the ```scp``` command.\n",
    "- When providing a local directory to ```scp```, such as ```~```, you do not need to include the host name.\n",
    "\n",
    "<u>The check for this step will extract your tarball and double-check that everything from Steps 5-9 were performed correctly.</u>"
   ]
  },
  {
   "cell_type": "code",
   "execution_count": 14,
   "metadata": {
    "jupyter": {
     "source_hidden": true
    }
   },
   "outputs": [
    {
     "data": {
      "application/vnd.jupyter.widget-view+json": {
       "model_id": "3fa31d2edb0646d4bb51a08d4d8c160a",
       "version_major": 2,
       "version_minor": 0
      },
      "text/plain": [
       "Button(description='Check Work', style=ButtonStyle())"
      ]
     },
     "metadata": {},
     "output_type": "display_data"
    },
    {
     "data": {
      "application/vnd.jupyter.widget-view+json": {
       "model_id": "701ed51d0b864d33b1bf7aa2a5053214",
       "version_major": 2,
       "version_minor": 0
      },
      "text/plain": [
       "Output()"
      ]
     },
     "metadata": {},
     "output_type": "display_data"
    }
   ],
   "source": [
    "# Click the button below to check your work.\n",
    "step11Complete = False\n",
    "\n",
    "def check_tar():\n",
    "    import filecmp\n",
    "    \n",
    "    path = os.path.expanduser(\"/home/USERNAME_GOES_HERE/data.tar.gz\")\n",
    "    imp_data = os.path.expanduser(\"Important Data/\")\n",
    "    ret = os.path.exists(path)\n",
    "\n",
    "    if ret:\n",
    "        # Create temp folder.\n",
    "        temp = \"/tmp/step11/\"\n",
    "        subprocess.run(f\"mkdir -p {temp}\", shell=True)\n",
    "\n",
    "        try:\n",
    "            # Check if the tarball contains all the correct contents.\n",
    "            subprocess.run(f\"tar -xzf {path} -C /tmp/step11\", shell=True, check=True)\n",
    "\n",
    "            # Checking if all files are in there. A more rigourous check to ensure all content is in the files.\n",
    "            files = [\"output.txt\", \"output_copy.txt\", \"lists/\", \"lists/list1.txt\", \"lists/list2.txt\", \"lists/listdiff.txt\"]\n",
    "            for name in files:\n",
    "                name = imp_data + name\n",
    "                if not os.path.exists(temp + name):\n",
    "                    subprocess.run(f\"rm -rf {temp}\", shell=True)\n",
    "                    # A file doesn't exist.\n",
    "                    return 2\n",
    "\n",
    "                if (name == \"lists/list1.txt\" or name == \"lists/list2.txt\"):\n",
    "                    size = subprocess.run(f\"sed -n '$=' {temp}{name}\", shell=True, capture_output=True, text=True)\n",
    "                    if (not size.stdout == \"1000\\n\"):\n",
    "                        return 4\n",
    "\n",
    "                elif (name == \"lists/listdiff.txt\"):\n",
    "                    f = open(temp + name, \"r\")\n",
    "                    contents = f.read()\n",
    "                    if (not bool(re.search(r'^\\d{3}c\\d{3}\\n\\< .{37}\\n---\\n> .{37}$', contents))):\n",
    "                        return 5\n",
    "                    f.close()\n",
    "\n",
    "                elif (name == \"output.txt\" or name == \"output_copy.txt\"):\n",
    "                    if (not filecmp.cmp(temp + \"output.txt\", temp + \"output_copy.txt\")):\n",
    "                        return 6\n",
    "                    f = open(temp + \"output.txt\", \"r\")\n",
    "                    lines = f.readlines()\n",
    "                    for line in lines:\n",
    "                        if (not bool(re.search(\"^CAMP\", line))):\n",
    "                            return 7\n",
    "                    f.close()\n",
    "                            \n",
    "            # All files exist.\n",
    "            return 1\n",
    "\n",
    "        except subprocess.CalledProcessError:\n",
    "            # Not a valid .tar.gz file type.\n",
    "            return 3\n",
    "    else:\n",
    "        # Tarball not created.\n",
    "        return 0\n",
    "\n",
    "# Function to check if the file was copied.\n",
    "def step_11():\n",
    "    # Required to change boolean values.\n",
    "    global step11Complete\n",
    "\n",
    "    # Loading, in case the check is slow.\n",
    "    with output11:\n",
    "        output11.clear_output()\n",
    "        display(HTML(\"<span><img width='12px' height='12px' style='margin-left: 3px;' src='resources/loading.gif'></span>\"))\n",
    "\n",
    "    # Similar check to step10.py, except done locally.\n",
    "    result = check_tar()\n",
    "\n",
    "    # Clean-up.\n",
    "    subprocess.run(\"rm -rf /tmp/step11\", shell=True)\n",
    "\n",
    "    # File wasn't copied yet.\n",
    "    if (result == 0):\n",
    "        output11.clear_output()\n",
    "        with output11:\n",
    "            display(HTML(\"<span style='color: red;'>data.tar.gz is not found in your home directory in your XDC.</span>\"))\n",
    "            step11Complete = False\n",
    "\n",
    "    # File is missing.\n",
    "    elif (result == 2):\n",
    "        output11.clear_output()\n",
    "        with output11:\n",
    "            display(HTML(\"<span style='color: red;'>One or more of the files in your tarball is missing.</span>\"))\n",
    "            step11Complete = False\n",
    "\n",
    "    # One of the lists is incorrect.\n",
    "    elif (result == 4):\n",
    "        output11.clear_output()\n",
    "        with output11:\n",
    "            display(HTML(\"<span style='color: red;'>list1.txt or list2.txt is incorrect.</span>\"))\n",
    "            step11Complete = False\n",
    "\n",
    "    # listdiff.txt is incorrect.\n",
    "    elif (result == 5):\n",
    "        output11.clear_output()\n",
    "        with output11:\n",
    "            display(HTML(\"<span style='color: red;'>listdiff.txt is incorrect.</span>\"))\n",
    "            step11Complete = False\n",
    "\n",
    "    # Files don't match.\n",
    "    elif (result == 6):\n",
    "        output11.clear_output()\n",
    "        with output11:\n",
    "            display(HTML(\"<span style='color: red;'>Your output.txt and output_copy.txt don't match.</span>\"))\n",
    "            step11Complete = False\n",
    "\n",
    "    # Error with output.txt.\n",
    "    elif (result == 7):\n",
    "        output11.clear_output()\n",
    "        with output11:\n",
    "            display(HTML(\"<span style='color: red;'>Your output.txt file is incorrect.</span>\"))\n",
    "            step11Complete = False\n",
    "\n",
    "    elif (result == 1):\n",
    "        output11.clear_output()\n",
    "        with output11:\n",
    "            display(HTML(\"<span style='color: green;'>Success! You may continue onto the next step.</span>\"))\n",
    "            step11Complete = True\n",
    "\n",
    "            command = \"ssh -i /home/USERNAME_GOES_HERE/.ssh/merge_key USERNAME_GOES_HERE@intro '[ -f ~/numbers.txt ] && [ \\\"$(wc -l < ~/numbers.txt)\\\" -eq 500 ] && exit 1 || exit 2'\"\n",
    "            answer = subprocess.run(command, shell=True)\n",
    "\n",
    "            # If the numbers.txt file is not made yet, then run the next command.\n",
    "            if (answer.returncode == 2):\n",
    "                command = \"ssh -i /home/USERNAME_GOES_HERE/.ssh/merge_key USERNAME_GOES_HERE@intro \\\"awk -v loop=500 -v range=1000 'BEGIN{srand(); do {numb = 1 + int(rand() * range); if (!(numb in prev)) {print numb; prev[numb] = 1; count++}} while (count<loop)}' > numbers.txt\\\"\"\n",
    "                subprocess.run(command, shell=True)\n",
    "\n",
    "def check_step_11(b):\n",
    "    step_11()\n",
    "\n",
    "    # Auto-save.\n",
    "    if (not runAllSteps):\n",
    "        trigger_save()\n",
    "\n",
    "# Creating the button.\n",
    "button = widgets.Button(description=\"Check Work\")\n",
    "\n",
    "# Creating an output area.\n",
    "output11 = widgets.Output()\n",
    "\n",
    "# Run the command on click.\n",
    "button.on_click(check_step_11)\n",
    "\n",
    "# Display the output.\n",
    "display(button, output11)"
   ]
  },
  {
   "cell_type": "markdown",
   "metadata": {},
   "source": [
    "### Step 12: Piping and Sorting Content\n",
    "\n",
    "Piping refers to using the output of one command as the input to a second command. For example, using ```ls -l | grep \".txt\"``` takes the output from ```ls -l```, then runs ```grep \".txt\"``` on it. This returns the lines that contain ```.txt```.\n",
    "\n",
    "You will be using the ```sort``` command for this step. The ```sort``` syntax is: ```sort [-options] input```.\n",
    "- ```[-output]``` can be any set of tags, depending on what kind of output that you would like, such as reversing the sort, check if it's sorted, or specifying output to a certain file.\n",
    "- ```input``` is the file that you would like to sort.\n",
    "\n",
    "To read more about the [<font color=\"blue\">sort</font>](https://www.geeksforgeeks.org/sort-command-linuxunix-examples/) command, you may check out this article.\n",
    "\n",
    "<strong>Your task:</strong> <strong>Navigate back into the ```intro``` node.</strong> For this step, a text file called ```numbers.txt``` has been generated. It's located in your home directory. Using piping, run the  command to sort the text file. Put this in a new text file called ```sortednumbers.txt```. \n",
    "\n",
    "It is required that you use ```grep``` for this step. You will need to type the command for completing this step in the text area below. This command will be ran in the same directory as the ```numbers.txt``` file. Before submitting your answer, you're encouraged to try experimenting with ```sort``` on your ```intro``` node first. Once you feel like you have a command that works, you may input it below and see if your test passes. Recall that you are not sorting ```numbers.txt``` itself. You are sorting the text file, then outputting it to ```sortednumbers.txt```.\n",
    "\n",
    "When you run the command in the field below, a new set of numbers will be generated and your input will be tested on it.\n",
    "\n",
    "<span style=\"color: green\"><strong><img src=\"resources/idea.png\" style=\"width: 12px\"> Tips:</strong></span>\n",
    "\n",
    "- Upon running the ```sort``` command, you will notice that your ```sortednumbers.txt``` file is not sorted numerically. It's sorted by leading characters. <u>You don't need to worry about sorting it numerically for this exercise.</u> If you would like to sort it numerically, you can use the ```-n``` flag.\n",
    "- If you need to reset the ```numbers.txt``` file, you can simply run the test without a command in the text entry."
   ]
  },
  {
   "cell_type": "code",
   "execution_count": 15,
   "metadata": {
    "editable": true,
    "jupyter": {
     "source_hidden": true
    },
    "slideshow": {
     "slide_type": ""
    },
    "tags": []
   },
   "outputs": [
    {
     "data": {
      "application/vnd.jupyter.widget-view+json": {
       "model_id": "dc3febc569eb4ce9ad6e8d8f66953b8a",
       "version_major": 2,
       "version_minor": 0
      },
      "text/plain": [
       "Output()"
      ]
     },
     "metadata": {},
     "output_type": "display_data"
    },
    {
     "data": {
      "application/vnd.jupyter.widget-view+json": {
       "model_id": "512611a00dd34c39b38e9c7b37f6ed93",
       "version_major": 2,
       "version_minor": 0
      },
      "text/plain": [
       "Text(value='cat ~/numbers.txt | sort > sortednumbers.txt', description='Command:', layout=Layout(width='500px'…"
      ]
     },
     "metadata": {},
     "output_type": "display_data"
    },
    {
     "data": {
      "application/vnd.jupyter.widget-view+json": {
       "model_id": "adc6729cce6542c1800e6bfcd8a685ca",
       "version_major": 2,
       "version_minor": 0
      },
      "text/plain": [
       "Button(description='Run Command', style=ButtonStyle())"
      ]
     },
     "metadata": {},
     "output_type": "display_data"
    },
    {
     "data": {
      "application/vnd.jupyter.widget-view+json": {
       "model_id": "ac98ad7883fd44cc9f88bd8fce8633e6",
       "version_major": 2,
       "version_minor": 0
      },
      "text/plain": [
       "Output()"
      ]
     },
     "metadata": {},
     "output_type": "display_data"
    }
   ],
   "source": [
    "# Click the button below to check your work.\n",
    "step12Complete = False\n",
    "\n",
    "# Function to check the command.\n",
    "def step_12():\n",
    "    # Required to change boolean values.\n",
    "    global step12Complete\n",
    "\n",
    "    # Loading, in case the check is slow.\n",
    "    with output12:\n",
    "        output12.clear_output()\n",
    "        display(HTML(\"<span><img width='12px' height='12px' style='margin-left: 3px;' src='resources/loading.gif'></span>\"))\n",
    "\n",
    "    # A preliminary check before regenerating the numbers.txt file.\n",
    "    if (not step11Complete):\n",
    "        with output12:\n",
    "            output12.clear_output()\n",
    "            display(HTML(\"<span style='color: red;'>You must complete the previous step before attempting this.</span>\"))\n",
    "\n",
    "    elif (\"\\\"\" in userInput.value or \"'\" in userInput.value):\n",
    "        with output12:\n",
    "            output12.clear_output()\n",
    "            display(HTML(\"<span style='color: red;'>Please do not use quotes in your answer.</span>\"))\n",
    "\n",
    "    # Otherwise, send the input to the home directory.\n",
    "    else:\n",
    "        # Saving their response.\n",
    "        ssh_command = f'ssh -i /home/USERNAME_GOES_HERE/.ssh/merge_key USERNAME_GOES_HERE@intro \"echo \\'{userInput.value}\\' > /home/.checker/step_12_answer.txt\"'\n",
    "        result = subprocess.run(ssh_command, shell=True)\n",
    "    \n",
    "        # Regenerate the numbers.txt file.\n",
    "        command = \"ssh -i /home/USERNAME_GOES_HERE/.ssh/merge_key USERNAME_GOES_HERE@intro \\\"awk -v loop=500 -v range=1000 'BEGIN{srand(); do {numb = 1 + int(rand() * range); if (!(numb in prev)) {print numb; prev[numb] = 1; count++}} while (count<loop)}' > numbers.txt\\\"\"\n",
    "        subprocess.run(command, shell=True)\n",
    "        \n",
    "        if (userInput.value == \"\" and step11Complete):\n",
    "            with output12:\n",
    "                output12.clear_output()\n",
    "                display(HTML(\"<span>numbers.txt has been reset.</span>\"))\n",
    "\n",
    "        # If the student actually has input, then we can run the test.\n",
    "        else:\n",
    "            # Next, make sure the command contains a pipe, does not have a comment, and contains sortedlists.txt.\n",
    "            pattern = r'^(?=.*\\|)(?!.*#)(?=.*sortednumbers\\.txt).+$'\n",
    "\n",
    "            if re.match(pattern, userInput.value):\n",
    "                # Finally, run the command if everything looks good.\n",
    "                command = 'ssh -i /home/USERNAME_GOES_HERE/.ssh/merge_key USERNAME_GOES_HERE@intro \"/home/.checker/step12.py \\\\\"' + userInput.value + '\\\\\"\"'\n",
    "                result = subprocess.run(command, shell=True, capture_output=True, text=True)\n",
    "                \n",
    "                # File wasn't copied yet. Might not happen because it gets checked in the regular expression.\n",
    "                if (result.returncode == 0):\n",
    "                    output12.clear_output()\n",
    "                    with output12:\n",
    "                        display(HTML(\"<span style='color: red;'>sortednumbers.txt was not found in your home directory.</span>\"))\n",
    "                        step12Complete = False\n",
    "            \n",
    "                elif (result.returncode == 2):\n",
    "                    output12.clear_output()\n",
    "                    with output12:\n",
    "                        display(HTML(\"<span style='color: red;'>Your sortednumbers.txt file is incorrect.</span>\"))\n",
    "                        step12Complete = False\n",
    "\n",
    "                elif (result.returncode == 3):\n",
    "                    output12.clear_output()\n",
    "                    with output12:\n",
    "                        display(HTML(\"<span style='color: red;'>You're either using an unsafe command, or \\\"sort\\\" cannot be found in your input.</span>\"))\n",
    "                        step12Complete = False\n",
    "            \n",
    "                elif (result.returncode == 1):\n",
    "                    output12.clear_output()\n",
    "                    with output12:\n",
    "                        display(HTML(\"<span style='color: green;'>Success! You may continue onto the next step.</span>\"))\n",
    "                        step12Complete = True\n",
    "                        subprocess.run('ssh -i /home/USERNAME_GOES_HERE/.ssh/merge_key USERNAME_GOES_HERE@intro \"echo \\'echo Congrats! You finished the lab!\\' > message.sh\"', shell=True)\n",
    "\n",
    "                # This also gets reached if return code is 4.\n",
    "                else:\n",
    "                    output12.clear_output()\n",
    "                    with output12:\n",
    "                        display(HTML(\"<span style='color: red;'>An error occurred. Please contact your professor or TA.</span>\"))\n",
    "                        step12Complete = False\n",
    "    \n",
    "            else:\n",
    "                output12.clear_output()\n",
    "                with output12:\n",
    "                    display(HTML(\"<span style='color: red;'>Check to make sure that you are using a pipe, do not have comments, and ensure that sortednumbers.txt is in your command.</span>\"))\n",
    "                    step12Complete = False\n",
    "    \n",
    "    # Auto-save.\n",
    "    if (not runAllSteps):\n",
    "        trigger_save()\n",
    "\n",
    "def check_step_12(b):\n",
    "    step_12()\n",
    "\n",
    "# Retrieve the student's response. First, create a loading spinner, since this could take a second or two.\n",
    "loading12 = widgets.Output()\n",
    "display(loading12)\n",
    "with loading12:\n",
    "    loading12.clear_output()\n",
    "    display(HTML(\"<span>Loading your saved response... <img width='12px' height='12px' style='margin-left: 3px;' src='resources/loading.gif'></span>\"))\n",
    "\n",
    "# Creating a text area.\n",
    "userInput = widgets.Text(\n",
    "    placeholder='Type a command here',\n",
    "    description='Command:',\n",
    "    layout=widgets.Layout(width='500px')\n",
    ")\n",
    "\n",
    "# Checking if the step has been answered.\n",
    "result = subprocess.run('ssh -o StrictHostKeyChecking=no -i /home/USERNAME_GOES_HERE/.ssh/merge_key USERNAME_GOES_HERE@intro \"cat /home/.checker/step_12_answer.txt 2> /dev/null\"', capture_output=True, text=True, shell=True)\n",
    "userInput.value = result.stdout[:-1]\n",
    "\n",
    "# Creating the button.\n",
    "button = widgets.Button(description=\"Run Command\")\n",
    "\n",
    "# After the student's response was loaded, clear the output.\n",
    "loading12.clear_output()\n",
    "\n",
    "# Creating an output area.\n",
    "output12 = widgets.Output()\n",
    "\n",
    "# Run the command on click.\n",
    "button.on_click(check_step_12)\n",
    "\n",
    "# Display the output.\n",
    "display(userInput, button, output12)"
   ]
  },
  {
   "cell_type": "markdown",
   "metadata": {},
   "source": [
    "### Step 13: Executing Files\n",
    "\n",
    "Not all files are executable by default. A common executable file would be a shell script, which is a file that ends with the ```.sh``` extension. When creating these files, you will have to run ```chmod``` on the files to add executable permissions to them.\n",
    "\n",
    "In Step 2, you changed the permission of a file. A provided example from that step was ```chmod u+x file```, which was to give executable permissions only to the user. The user of a file is the person who owns the file. Using this same command, you will need to apply it to a script that was generated in your home directory. You are going to be the owner of this file, so you will not have to change the provided example too heavily to pass this step.\n",
    "\n",
    "If you would like to learn more about the ```chmod``` command, you may follow [<font color=\"blue\">this guide</font>](https://www.freecodecamp.org/news/linux-chmod-chown-change-file-permissions/) to learn about its usage.\n",
    "\n",
    "<strong>Your task:</strong> Navigate to your home directory. A new file has been generated and is called ```message.sh```. You need to execute ```message.sh``` for this step. However, the permissions need to be changed because ```message.sh``` does not have the executable permission set. \n",
    "\n",
    "A lab called POSIX Permissions is available in a JupyterLab format, similar to this one. In case you are interested on learning more about POSIX permissions, you may read [<font color=\"blue\">this article</font>](http://learn.leighcotnoir.com/wp-content/uploads/2016/08/POSIX-file-permissions.pdf). "
   ]
  },
  {
   "cell_type": "code",
   "execution_count": 16,
   "metadata": {
    "jupyter": {
     "source_hidden": true
    }
   },
   "outputs": [
    {
     "data": {
      "application/vnd.jupyter.widget-view+json": {
       "model_id": "08df6b171ac74959be78f05ac259b776",
       "version_major": 2,
       "version_minor": 0
      },
      "text/plain": [
       "Button(description='Check File', style=ButtonStyle())"
      ]
     },
     "metadata": {},
     "output_type": "display_data"
    },
    {
     "data": {
      "application/vnd.jupyter.widget-view+json": {
       "model_id": "1e7ba99bc6a946faaa5a44101826533c",
       "version_major": 2,
       "version_minor": 0
      },
      "text/plain": [
       "Output()"
      ]
     },
     "metadata": {},
     "output_type": "display_data"
    }
   ],
   "source": [
    "# Click the button below to check your work.\n",
    "step13Complete = False\n",
    "\n",
    "# Function to check the permissions.\n",
    "def step_13():\n",
    "    # Required to change boolean values.\n",
    "    global step12Complete, step13Complete\n",
    "\n",
    "    # Loading, in case the check is slow.\n",
    "    with output13:\n",
    "        output13.clear_output()\n",
    "        display(HTML(\"<span><img width='12px' height='12px' style='margin-left: 3px;' src='resources/loading.gif'></span>\"))\n",
    "    \n",
    "    result = subprocess.run('ssh -i /home/USERNAME_GOES_HERE/.ssh/merge_key USERNAME_GOES_HERE@intro /home/.checker/step13.py', shell=True)\n",
    "\n",
    "    # Step 12 wasn't done yet, so it doesn't exist.\n",
    "    if (not step12Complete):\n",
    "        output13.clear_output()\n",
    "        with output13:\n",
    "            display(HTML(\"<span style='color: red;'>You did not complete Step 12 yet.</span>\"))\n",
    "            step13Complete = False\n",
    "    # File wasn't copied yet.\n",
    "    if (result.returncode == 0):\n",
    "        output13.clear_output()\n",
    "        with output13:\n",
    "            display(HTML(\"<span style='color: red;'>message.sh was not created correctly. Did you do the previous step?</span>\"))\n",
    "            step13Complete = False\n",
    "\n",
    "    elif (result.returncode == 2):\n",
    "        output13.clear_output()\n",
    "        with output13:\n",
    "            display(HTML(\"<span style='color: red;'>Your file isn't executable. Ensure that the user has executable permissions.</span>\"))\n",
    "            step13Complete = False\n",
    "\n",
    "    elif (result.returncode == 1):\n",
    "        output13.clear_output()\n",
    "        with output13:\n",
    "            display(HTML(\"<span style='color: green;'>Success! You may continue onto the next step.</span>\"))\n",
    "            step13Complete = True\n",
    "\n",
    "def check_step_13(b):\n",
    "    step_13()\n",
    "\n",
    "    # Auto-save.\n",
    "    if (not runAllSteps):\n",
    "        trigger_save()\n",
    "\n",
    "# Creating the button.\n",
    "button = widgets.Button(description=\"Check File\")\n",
    "\n",
    "# Creating an output area.\n",
    "output13 = widgets.Output()\n",
    "\n",
    "# Run the command on click.\n",
    "button.on_click(check_step_13)\n",
    "\n",
    "# Display the output.\n",
    "display(button, output13)"
   ]
  },
  {
   "cell_type": "markdown",
   "metadata": {},
   "source": [
    "## <strong>Grading</strong>\n",
    "\n",
    "To check your overall grade, click on the button below.\n",
    "\n",
    "<strong>*Warning:* Your submission will be ran on an unmodified copy of this notebook</strong>. If you tinkered with any of the input cells to pass a step, you will not get full credit."
   ]
  },
  {
   "cell_type": "code",
   "execution_count": 17,
   "metadata": {
    "jupyter": {
     "source_hidden": true
    },
    "tags": [
     "grade"
    ]
   },
   "outputs": [
    {
     "data": {
      "application/vnd.jupyter.widget-view+json": {
       "model_id": "07ab1afb31494b9b95c807e28491120f",
       "version_major": 2,
       "version_minor": 0
      },
      "text/plain": [
       "Button(description='Calculate Grade', style=ButtonStyle())"
      ]
     },
     "metadata": {},
     "output_type": "display_data"
    },
    {
     "data": {
      "application/vnd.jupyter.widget-view+json": {
       "model_id": "ad6e4132f14a4aa8a00c67b4e525fb60",
       "version_major": 2,
       "version_minor": 0
      },
      "text/plain": [
       "Output()"
      ]
     },
     "metadata": {},
     "output_type": "display_data"
    }
   ],
   "source": [
    "# Click the button below to check your overall grade.\n",
    "steps_to_check = [step_1, step_2, step_3, step_4, step_5, step_6, step_7, step_8, step_9, step_10, step_11, step_12, step_13]   \n",
    "\n",
    "# Function to calculate grade after refreshing the cell\n",
    "def calculate_grade(b):\n",
    "    # To not auto-save at each step.\n",
    "    global runAllSteps\n",
    "    runAllSteps = True\n",
    "\n",
    "    with gradeOutput:\n",
    "        gradeOutput.clear_output()\n",
    "        display(HTML(\"<span>Testing all steps. Please wait.</span> \\\n",
    "            <span><img width='12px' height='12px' style='margin-left: 3px;' src='resources/loading.gif'></span>\"))\n",
    "    \n",
    "    # Required for checking the boolean values.\n",
    "    for func in steps_to_check:\n",
    "        func()  # Call each function in order\n",
    "\n",
    "    # Assuming steps are updated above this cell in some way\n",
    "    steps = [step1Complete, step2Complete, step3Complete, step4Complete, step5Complete, step6Complete, step7Complete, step8Complete, step9Complete, step10Complete, step11Complete, step12Complete, step13Complete]\n",
    "    output = \"\"\n",
    "    stepsCorrect = 0\n",
    "    numOfSteps = len(steps)\n",
    "\n",
    "    for i in range(numOfSteps):\n",
    "        if steps[i]:\n",
    "            stepsCorrect += 1\n",
    "            output += \"<div style='color: green;'>Step \" + str(i + 1) + \" is complete.</div>\"\n",
    "        else:\n",
    "            output += \"<div style='color: red;'>Step \" + str(i + 1) + \" is incomplete.</div>\"\n",
    "\n",
    "    output += \"<div style='color: black;'>You have \" + str(stepsCorrect) + \" out of \" + str(numOfSteps) + \" steps completed.</div>\"\n",
    "\n",
    "    with gradeOutput:\n",
    "        gradeOutput.clear_output()\n",
    "        display(HTML(output))\n",
    "\n",
    "    # Auto-save at the very end.\n",
    "    runAllSteps = False\n",
    "    if (not runAllSteps):\n",
    "        trigger_save()\n",
    "\n",
    "# Create a button to refresh the cell and another to calculate grade.\n",
    "grade_button = widgets.Button(description=\"Calculate Grade\")\n",
    "\n",
    "# Link buttons to functions.\n",
    "grade_button.on_click(calculate_grade)\n",
    "\n",
    "# Output area.\n",
    "gradeOutput = widgets.Output()\n",
    "\n",
    "# Display the buttons and output.\n",
    "display(grade_button, gradeOutput)"
   ]
  },
  {
   "cell_type": "markdown",
   "metadata": {},
   "source": [
    "### Stopping the Lab\n",
    "\n",
    "Once you are done with the lab, click on the \"Stop Lab\" button below. <strong>This will delete your materialization, which will delete all of the lab's resources.</strong> Your progress is saved automatically in ```~/notebooks/submissions```. This folder is stored on your XDC, and will not be deleted upon stopping the lab."
   ]
  },
  {
   "cell_type": "code",
   "execution_count": 18,
   "metadata": {
    "editable": true,
    "jupyter": {
     "source_hidden": true
    },
    "slideshow": {
     "slide_type": ""
    },
    "tags": []
   },
   "outputs": [
    {
     "data": {
      "application/vnd.jupyter.widget-view+json": {
       "model_id": "49d35ac3627849acb57832eff225d933",
       "version_major": 2,
       "version_minor": 0
      },
      "text/plain": [
       "Checkbox(value=False, description='Confirm', indent=False)"
      ]
     },
     "metadata": {},
     "output_type": "display_data"
    },
    {
     "data": {
      "application/vnd.jupyter.widget-view+json": {
       "model_id": "2be499e1049a41879987d73086336be1",
       "version_major": 2,
       "version_minor": 0
      },
      "text/plain": [
       "Button(description='Stop Lab', style=ButtonStyle())"
      ]
     },
     "metadata": {},
     "output_type": "display_data"
    },
    {
     "data": {
      "application/vnd.jupyter.widget-view+json": {
       "model_id": "fb5ef01654a244c9b989f5d9b49d3ac5",
       "version_major": 2,
       "version_minor": 0
      },
      "text/plain": [
       "Output()"
      ]
     },
     "metadata": {},
     "output_type": "display_data"
    }
   ],
   "source": [
    "# Click the button below to stop the experiment.\n",
    "def stoplab(button):\n",
    "    # Check to make sure that the student wants to confirm ending the lab.\n",
    "    if (confirm.value == False):\n",
    "        with stop_output:\n",
    "            stop_output.clear_output()\n",
    "            display(HTML(\"<newline><span style='color: red;'>Please confirm that you wish to end the lab.</span>\"))\n",
    "\n",
    "    else:\n",
    "        # Defining the lab name.\n",
    "        labname = \"intro\"\n",
    "    \n",
    "        # Writing the information to an empty field below the button.\n",
    "        with stop_output:\n",
    "            stop_output.clear_output()\n",
    "            \n",
    "            display(HTML(\"<span>Stopping the \" + labname + \" lab. This will take a minute to process. Please wait.</span> \\\n",
    "                <span><img width='12px' height='12px' style='margin-left: 3px;' src='resources/loading.gif'></span>\"))\n",
    "            stopexp = subprocess.run('su - USERNAME_GOES_HERE -c \"bash /home/stopexp ' + labname + 'jup\"', capture_output=True, text=True, shell=True)\n",
    "            stop_output.clear_output()\n",
    "            display(HTML(\"<span>Done. Result:</span>\"))\n",
    "            print(stopexp.stdout)\n",
    "    \n",
    "            display(HTML(\"<newline><span style='color: green;'><strong>Your lab has been ended.</strong></span>\"))\n",
    "\n",
    "# Creating the button.\n",
    "stopButton = widgets.Button(description=\"Stop Lab\")\n",
    "\n",
    "# Create a confirmation check.\n",
    "confirm = widgets.Checkbox(\n",
    "    value=False,\n",
    "    description='Confirm',\n",
    "    disabled=False,\n",
    "    indent=False\n",
    ")\n",
    "\n",
    "# Creating an output area.\n",
    "stop_output = widgets.Output()\n",
    "\n",
    "# Run the command on click.\n",
    "stopButton.on_click(stoplab)\n",
    "\n",
    "# Display the output.\n",
    "display(confirm, stopButton, stop_output)"
   ]
  }
 ],
 "metadata": {
  "kernelspec": {
   "display_name": "Python 3 (ipykernel)",
   "language": "python",
   "name": "python3"
  },
  "language_info": {
   "codemirror_mode": {
    "name": "ipython",
    "version": 3
   },
   "file_extension": ".py",
   "mimetype": "text/x-python",
   "name": "python",
   "nbconvert_exporter": "python",
   "pygments_lexer": "ipython3",
   "version": "3.10.12"
  }
 },
 "nbformat": 4,
 "nbformat_minor": 4
}
