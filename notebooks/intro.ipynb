{
 "cells": [
  {
   "cell_type": "markdown",
   "metadata": {},
   "source": [
    "# Intro to JupyterLab\n",
    "\n",
    "This is a tutorial that will guide you through how to navigate through a Jupyter notebook, as well as how to navigate around your XDC.\n",
    "\n",
    "First, you will need to execute all of the cells to make sure that everything runs without errors. At the top of the notebook, click on the \"fast forward\" icon to run all of the cells.\n",
    "\n",
    "<ins>It is not important to view what's being ran in the cells. You only need to be concerned about the output.</ins>"
   ]
  },
  {
   "cell_type": "code",
   "execution_count": 1,
   "metadata": {
    "editable": true,
    "jupyterlab-hide-cells:hidden": true,
    "slideshow": {
     "slide_type": ""
    },
    "tags": []
   },
   "outputs": [],
   "source": [
    "# Setting up the lab.\n",
    "import ipywidgets as widgets\n",
    "from IPython.display import display, HTML, Javascript\n",
    "from IPython.core.magic import register_line_magic\n",
    "import os\n",
    "# For accessing the nodes:\n",
    "import subprocess\n",
    "\n",
    "# Number of steps for this lab.\n",
    "steps = 3\n",
    "\n",
    "# Pre-set the completion steps.\n",
    "step1Complete = step2Complete = step3Complete = False"
   ]
  },
  {
   "cell_type": "markdown",
   "metadata": {
    "editable": true,
    "slideshow": {
     "slide_type": ""
    },
    "tags": []
   },
   "source": [
    "### Step 1: Create a folder.\n",
    "\n",
    "With the ```posix``` node accessible on the XDC, create a folder called ```jupyterintro``` on ```/home/umdsecXX```, where XX is the discriminator in your username. Make sure that this is in your ```posix``` node. "
   ]
  },
  {
   "cell_type": "code",
   "execution_count": 2,
   "metadata": {
    "editable": true,
    "jupyterlab-hide-cells:hidden": true,
    "slideshow": {
     "slide_type": ""
    },
    "tags": []
   },
   "outputs": [
    {
     "data": {
      "application/vnd.jupyter.widget-view+json": {
       "model_id": "0849a9f147374942bce14553acbf1f3d",
       "version_major": 2,
       "version_minor": 0
      },
      "text/plain": [
       "Button(description='Check Folder', style=ButtonStyle())"
      ]
     },
     "metadata": {},
     "output_type": "display_data"
    },
    {
     "data": {
      "application/vnd.jupyter.widget-view+json": {
       "model_id": "6f669dd68dff47c39c84b5871431aed1",
       "version_major": 2,
       "version_minor": 0
      },
      "text/plain": [
       "Output()"
      ]
     },
     "metadata": {},
     "output_type": "display_data"
    }
   ],
   "source": [
    "# Click the button below to check your work.\n",
    "\n",
    "# Function to check if the folder exists\n",
    "def step_1():\n",
    "    # Required to change boolean value.\n",
    "    global step1Complete, step2Complete\n",
    "    result = subprocess.run(['ssh -i /home/umdsecXX_home/.ssh/merge_key umdsecXX_home@posix /home/checker/step1.py /home/umdsecXX_home/jupyterintro'], shell=True)\n",
    "\n",
    "    if (result.returncode == 1 or (result.returncode == 0 and step2Complete)):\n",
    "        output1.clear_output()\n",
    "        with output1:\n",
    "            display(HTML(\"<span style='color: green;'>Success! You may continue onto the next step.</span>\"))\n",
    "            step1Complete = True\n",
    "    else:\n",
    "        output1.clear_output()\n",
    "        with output1:\n",
    "            display(HTML(\"<span style='color: red;'>Check your work and try again. Did you mistype the folder name?</span>\"))\n",
    "            step1Complete = False\n",
    "\n",
    "def check_step_1(b):\n",
    "    step_1()\n",
    "\n",
    "# Creating the button.\n",
    "button = widgets.Button(description=\"Check Folder\")\n",
    "\n",
    "# Creating an output area.\n",
    "output1 = widgets.Output()\n",
    "\n",
    "# Run the command on click.\n",
    "button.on_click(check_step_1)\n",
    "\n",
    "# Display the output.\n",
    "display(button, output1)"
   ]
  },
  {
   "cell_type": "markdown",
   "metadata": {
    "editable": true,
    "slideshow": {
     "slide_type": ""
    },
    "tags": []
   },
   "source": [
    "### Step 2: Make a text file.\n",
    "\n",
    "On the ```posix``` node, navigate into the ```jupyterintro``` folder and create a file called ```jupytertest.txt```. Change the permissions to 777 so that it's fully permissible."
   ]
  },
  {
   "cell_type": "code",
   "execution_count": 3,
   "metadata": {
    "editable": true,
    "slideshow": {
     "slide_type": ""
    },
    "tags": []
   },
   "outputs": [
    {
     "data": {
      "application/vnd.jupyter.widget-view+json": {
       "model_id": "7709a090c6114f2fa51212d8ce178b93",
       "version_major": 2,
       "version_minor": 0
      },
      "text/plain": [
       "Button(description='Check File', style=ButtonStyle())"
      ]
     },
     "metadata": {},
     "output_type": "display_data"
    },
    {
     "data": {
      "application/vnd.jupyter.widget-view+json": {
       "model_id": "be293b8b29e5437fafba230fdf10111d",
       "version_major": 2,
       "version_minor": 0
      },
      "text/plain": [
       "Output()"
      ]
     },
     "metadata": {},
     "output_type": "display_data"
    }
   ],
   "source": [
    "# Click the button below to check your work.\n",
    "\n",
    "# Function to check if the folder exists\n",
    "def step_2():\n",
    "    # Required to change boolean value.\n",
    "    global step2Complete, step3Complete\n",
    "    result = subprocess.run(['ssh -i /home/umdsecXX_home/.ssh/merge_key umdsecXX_home@posix /home/checker/step2.py /home/umdsecXX_home/jupyterintro/jupytertest.txt'], shell=True)\n",
    "\n",
    "    # Note: If already completed, it cannot be accidentally \"undone\" since it's part of the next step.\n",
    "    if (result.returncode == 2 or step3Complete) or step2Complete:\n",
    "        output2.clear_output()\n",
    "        with output2:\n",
    "            display(HTML(\"<span style='color: green;'>Success! You may continue onto the next step.</span>\"))\n",
    "            step2Complete = True\n",
    "    elif (result.returncode == 1):\n",
    "        output2.clear_output()\n",
    "        with output2:\n",
    "            display(HTML(\"<span style='color: red;'>The text file is created, but double-check the permissions.</span>\"))\n",
    "            step2Complete = False\n",
    "    else:\n",
    "        output2.clear_output()\n",
    "        with output2:\n",
    "            display(HTML(\"<span style='color: red;'>Check your work and try again.</span>\"))\n",
    "            step2Complete = False\n",
    "\n",
    "def check_step_2(b):\n",
    "    step_2()\n",
    "\n",
    "# Creating the button.\n",
    "button = widgets.Button(description=\"Check File\")\n",
    "\n",
    "# Creating an output area.\n",
    "output2 = widgets.Output()\n",
    "\n",
    "# Run the command on click.\n",
    "button.on_click(check_step_2)\n",
    "\n",
    "# Display the output.\n",
    "display(button, output2)"
   ]
  },
  {
   "cell_type": "markdown",
   "metadata": {},
   "source": [
    "### Step 3: Delete the folder.\n",
    "\n",
    "Finally, it's time to delete the entire folder. Use the ```rm``` command with the \"recursive\" tag to delete the folder, then check your work below."
   ]
  },
  {
   "cell_type": "code",
   "execution_count": 4,
   "metadata": {
    "editable": true,
    "slideshow": {
     "slide_type": ""
    },
    "tags": []
   },
   "outputs": [
    {
     "data": {
      "application/vnd.jupyter.widget-view+json": {
       "model_id": "dd29f3194bb444ef8ef95601f0440631",
       "version_major": 2,
       "version_minor": 0
      },
      "text/plain": [
       "Button(description='Check Folder', style=ButtonStyle())"
      ]
     },
     "metadata": {},
     "output_type": "display_data"
    },
    {
     "data": {
      "application/vnd.jupyter.widget-view+json": {
       "model_id": "20676548bd9d4a92b65cac7f7e2d39c5",
       "version_major": 2,
       "version_minor": 0
      },
      "text/plain": [
       "Output()"
      ]
     },
     "metadata": {},
     "output_type": "display_data"
    }
   ],
   "source": [
    "# Click the button below to check your work.\n",
    "\n",
    "# Function to check if the folder exists\n",
    "def step_3():\n",
    "    # Required to change boolean values.\n",
    "    global step1Complete, step3Complete\n",
    "    result = subprocess.run(['ssh -i /home/umdsecXX_home/.ssh/merge_key umdsecXX_home@posix /home/checker/step3.py /home/umdsecXX_home/jupyterintro'], shell=True)\n",
    "    \n",
    "    if (result.returncode == 1 and step1Complete):\n",
    "        output3.clear_output()\n",
    "        with output3:\n",
    "            display(HTML(\"<span style='color: red;'>Check your work and try again.</span>\"))\n",
    "            step3Complete = False\n",
    "    elif step1Complete == False:\n",
    "        output3.clear_output()\n",
    "        with output3:\n",
    "            display(HTML(\"<span style='color: red;'>You need to complete Step 1 before continuing.</span>\"))\n",
    "            step3Complete = False\n",
    "    else:\n",
    "        output3.clear_output()\n",
    "        with output3:\n",
    "            display(HTML(\"<span style='color: green;'>Success! You may continue onto the next step.</span>\"))\n",
    "            step3Complete = True\n",
    "\n",
    "def check_step_3(b):\n",
    "    step_3()\n",
    "\n",
    "# Creating the button.\n",
    "button = widgets.Button(description=\"Check Folder\")\n",
    "\n",
    "# Creating an output area.\n",
    "output3 = widgets.Output()\n",
    "\n",
    "# Run the command on click.\n",
    "button.on_click(check_step_3)\n",
    "\n",
    "# Display the output.\n",
    "display(button, output3)"
   ]
  },
  {
   "cell_type": "markdown",
   "metadata": {},
   "source": [
    "## Grading\n",
    "\n",
    "To check your overall grade, click on the button below.\n",
    "\n",
    "*Disclaimer:* The notebook's grading system can be easily changed. However, it's important to consider that your submission will be ran on the same notebook that you downloaded. If you had changed any input cells, you may not receive full points on some questions."
   ]
  },
  {
   "cell_type": "code",
   "execution_count": 5,
   "metadata": {
    "tags": [
     "grade"
    ]
   },
   "outputs": [
    {
     "data": {
      "application/vnd.jupyter.widget-view+json": {
       "model_id": "7795b2fe19cc495ba51eade73813ba70",
       "version_major": 2,
       "version_minor": 0
      },
      "text/plain": [
       "Button(description='Calculate Grade', style=ButtonStyle())"
      ]
     },
     "metadata": {},
     "output_type": "display_data"
    },
    {
     "data": {
      "application/vnd.jupyter.widget-view+json": {
       "model_id": "70dab27f8ef34dcfb09fb6705e0924b2",
       "version_major": 2,
       "version_minor": 0
      },
      "text/plain": [
       "Output()"
      ]
     },
     "metadata": {},
     "output_type": "display_data"
    }
   ],
   "source": [
    "# Click the button below to check your overall grade.\n",
    "steps_to_check = [step_1, step_2, step_3]   \n",
    "\n",
    "# Function to calculate grade after refreshing the cell\n",
    "def calculate_grade(b):\n",
    "    # Required for checking the boolean values.\n",
    "    global step1Complete, step2Complete, step3Complete\n",
    "    for func in steps_to_check:\n",
    "        func()  # Call each function in order\n",
    "        \n",
    "    # Assuming steps are updated above this cell in some way\n",
    "    steps = [step1Complete, step2Complete, step3Complete]\n",
    "    output = \"\"\n",
    "    stepsCorrect = 0\n",
    "    numOfSteps = len(steps)\n",
    "\n",
    "    for i in range(numOfSteps):\n",
    "        if steps[i]:\n",
    "            stepsCorrect += 1\n",
    "            output += \"<div style='color: green;'>Step \" + str(i + 1) + \" is complete.</div>\"\n",
    "        else:\n",
    "            output += \"<div style='color: red;'>Step \" + str(i + 1) + \" is incomplete.</div>\"\n",
    "\n",
    "    output += \"<div style='color: black;'>You have \" + str(stepsCorrect) + \" out of \" + str(numOfSteps) + \" steps completed.</div>\"\n",
    "\n",
    "    with gradeOutput:\n",
    "        gradeOutput.clear_output()\n",
    "        display(HTML(output))\n",
    "\n",
    "# Create a button to refresh the cell and another to calculate grade\n",
    "grade_button = widgets.Button(description=\"Calculate Grade\")\n",
    "\n",
    "# Link buttons to functions\n",
    "grade_button.on_click(calculate_grade)\n",
    "\n",
    "# Output area\n",
    "gradeOutput = widgets.Output()\n",
    "\n",
    "# Display the buttons and output\n",
    "display(grade_button, gradeOutput)"
   ]
  }
 ],
 "metadata": {
  "kernelspec": {
   "display_name": "Python 3 (ipykernel)",
   "language": "python",
   "name": "python3"
  },
  "language_info": {
   "codemirror_mode": {
    "name": "ipython",
    "version": 3
   },
   "file_extension": ".py",
   "mimetype": "text/x-python",
   "name": "python",
   "nbconvert_exporter": "python",
   "pygments_lexer": "ipython3",
   "version": "3.10.12"
  }
 },
 "nbformat": 4,
 "nbformat_minor": 4
}
