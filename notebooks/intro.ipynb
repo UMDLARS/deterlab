{
 "cells": [
  {
   "cell_type": "markdown",
   "metadata": {},
   "source": [
    "# Intro to JupyterLab\n",
    "\n",
    "This is a tutorial that will guide you through how to navigate through a Jupyter notebook, as well as how to navigate around your XDC.\n",
    "\n",
    "First, you will need to execute all of the cells to make sure that everything runs without errors. At the top of the notebook, click on the \"fast forward\" icon to run all of the cells.\n",
    "\n",
    "<ins>It is not important to view what's being ran in the cells. You only need to be concerned about the output.</ins>"
   ]
  },
  {
   "cell_type": "code",
   "execution_count": 29,
   "metadata": {
    "editable": true,
    "jupyterlab-hide-cells:hidden": true,
    "slideshow": {
     "slide_type": ""
    },
    "tags": []
   },
   "outputs": [],
   "source": [
    "# Setting up the lab.\n",
    "import ipywidgets as widgets\n",
    "from IPython.display import display, HTML, Javascript\n",
    "from IPython.core.magic import register_line_magic\n",
    "import os\n",
    "# For accessing the nodes:\n",
    "import subprocess\n",
    "# For the stopexp command:\n",
    "import re\n",
    "\n",
    "# These are pre-set so that the first three steps will work properly, as they all\n",
    "# depend on each other. Remaining booleans will be set in the cells.\n",
    "step1Complete = step2Complete = step3Complete = False\n",
    "\n",
    "# When true, it will not auto-save at each step.\n",
    "runAllSteps = False\n",
    "\n",
    "###### Used for saving notebooks. ######\n",
    "import threading\n",
    "# Threading required in case steps are progressed too quickly.\n",
    "save_lock = threading.Lock()\n",
    "\n",
    "# The save function itself.\n",
    "def save_notebook():\n",
    "    with save_lock:\n",
    "        result = subprocess.run('su - umdsecXX -c \"/home/umdsecXX/notebooks/resources/save.py intro\"', shell=True, capture_output=True, text=True)\n",
    "\n",
    "# Creating a thread to save the notebook.\n",
    "def trigger_save():\n",
    "    save_thread = threading.Thread(target=save_notebook)\n",
    "    save_thread.start()\n",
    "\n",
    "###### Used for loading notebooks. ######\n",
    "import queue\n",
    "\n",
    "load_lock = threading.Lock()\n",
    "result_queue = queue.Queue()\n",
    "\n",
    "def load_notebook():\n",
    "    with load_lock:\n",
    "        result = subprocess.run('su - umdsecXX -c \"/home/umdsecXX/notebooks/resources/load.py intro\"', shell=True, capture_output=True, text=True)\n",
    "        result_queue.put(result)  # Put the result in the queue.\n",
    "\n",
    "# Creating a thread to load the notebook.\n",
    "def trigger_load():\n",
    "    load_thread = threading.Thread(target=load_notebook)\n",
    "    load_thread.start()\n",
    "    load_thread.join()  # Wait for the thread to complete before adding result to the queue.\n",
    "    return result_queue.get()  # Get the result from the queue."
   ]
  },
  {
   "cell_type": "markdown",
   "metadata": {},
   "source": [
    "### Step 0: Begin the experiment.\n",
    "\n",
    "Click the button to begin creating the experiment."
   ]
  },
  {
   "cell_type": "code",
   "execution_count": 2,
   "metadata": {},
   "outputs": [
    {
     "data": {
      "application/vnd.jupyter.widget-view+json": {
       "model_id": "bdc0eae4b27644ceb7117d49b3524f0d",
       "version_major": 2,
       "version_minor": 0
      },
      "text/plain": [
       "Button(description='Start Lab', style=ButtonStyle())"
      ]
     },
     "metadata": {},
     "output_type": "display_data"
    },
    {
     "data": {
      "application/vnd.jupyter.widget-view+json": {
       "model_id": "277c776bf27f474fa40df6547b3eb644",
       "version_major": 2,
       "version_minor": 0
      },
      "text/plain": [
       "Output()"
      ]
     },
     "metadata": {},
     "output_type": "display_data"
    }
   ],
   "source": [
    "# Click the button below to start the experiment.\n",
    "def startlab(button):\n",
    "    # Defining the lab name.\n",
    "    labname = \"intro\"\n",
    "\n",
    "    # Writing the information to an empty field below the button.\n",
    "    with output0:\n",
    "        output0.clear_output()\n",
    "        \n",
    "        # First, checking if the materialization exists. May have been stopped by a previous lab.\n",
    "        materialPattern = \"real.\" + labname + \".umdsec[a-z]{1,2}\"\n",
    "\n",
    "        # Listing the materializations to find if there's an existing one for this lab.\n",
    "        checkMaterial = os.popen('su - umdsecXX -c \"mrg list materializations\"').read()\n",
    "        regex = re.compile(materialPattern)\n",
    "        # Getting the matches:\n",
    "        match = regex.search(checkMaterial)\n",
    "\n",
    "        if match:\n",
    "            display(HTML(\"<span style='color: orange;'>An existing materialization for this lab already exists. </span><span>You might have ran another \\\n",
    "            lab without stopping this one. Attaching the existing materialization.</span>\"))\n",
    "            subprocess.run(f'su - umdsecXX -c \"mrg xdc attach xdc '+ match.group(0) + '\"', capture_output=True, text=True, shell=True)\n",
    "            display(HTML(\"<newline><span style='color: green;'><strong>Setup complete. You may begin the lab! </strong></span>\" \\\n",
    "                         \"<span>When you're finished, close your lab at the bottom of the notebook.</span>\"))\n",
    "        \n",
    "        else:\n",
    "            display(HTML(\"<span>No existing materializations are found.</span>\"))\n",
    "        \n",
    "            # Second, start the lab.\n",
    "            display(HTML(\"<span>Starting \" + labname + \" lab. This will take a few minutes to process. Please wait.</span> \\\n",
    "            <span><img width='12px' height='12px' style='margin-left: 3px;' src='resources/loading.gif'></span>\"))\n",
    "            startexp = subprocess.run('su - umdsecXX -c \"bash /share/startexp ' + labname + '\"', capture_output=True, text=True, shell=True)\n",
    "            output0.clear_output()\n",
    "            display(HTML(\"<span>Done. Result:</span>\"))\n",
    "            print(startexp.stdout)\n",
    "\n",
    "            # Another lab is already attached to the XDC.\n",
    "            if ((\"XDC already attached\") in startexp.stdout):\n",
    "                existingLab = re.search(r\"real.(.*).umdsec[a-z]{1,2}\", startexp.stdout).group(1)\n",
    "\n",
    "                # Shouldn't happen.\n",
    "                if (labname == existingLab):\n",
    "                    display(HTML(\"<span style='color: red;'>Your lab was already started. </span><span>Please continue to the next step.</span>\"))\n",
    "\n",
    "                # Detaching the existing lab, then attaching the current one.\n",
    "                else:\n",
    "                    display(HTML(\"<span style='color: orange;'>Warning: You did not stop your previous experiment. </span><span>Please stop your experiments \\\n",
    "                    before starting a new one. Detaching the \" + existingLab + \" experiment.</span>\"))\n",
    "                    os.popen('su - umdsecXX -c \"mrg xdc detach xdc.umdsecXX\"')\n",
    "                    display(HTML(\"<span>Attaching the current lab.</span>\"))\n",
    "                    os.popen('su - umdsecXX -c \"mrg xdc attach xdc ' + materialPattern + '\"')\n",
    "    \n",
    "            # Third, get the lab materials onto the node.\n",
    "            display(HTML(\"<span>Allocating lab resources onto the node. <u>Please wait a little longer...</u></span>\"))\n",
    "            runlab = subprocess.run('su - umdsecXX -c \"bash /home/runlab ' + labname + '\"', capture_output=True, text=True, shell=True)\n",
    "            display(HTML(\"<newline><span style='color: green;'><strong>Setup complete. You may begin the lab! </strong></span>\" \\\n",
    "                         \"<span>When you're finished, close your lab at the bottom of the notebook. Your lab will be active for one week.</span>\"))\n",
    "\n",
    "# Creating the button.\n",
    "startButton = widgets.Button(description=\"Start Lab\")\n",
    "\n",
    "# Creating an output area.\n",
    "output0 = widgets.Output()\n",
    "\n",
    "# Run the command on click.\n",
    "startButton.on_click(startlab)\n",
    "\n",
    "# Display the output.\n",
    "display(startButton, output0)"
   ]
  },
  {
   "cell_type": "markdown",
   "metadata": {},
   "source": [
    "If you previously stopped your lab, you may restore your progress below by clicking \"Load Lab\". <u>You do not have to load your lab if you signed out, closed your notebook, or exited your node(s) or XDC by using ```exit```.</u>"
   ]
  },
  {
   "cell_type": "code",
   "execution_count": 3,
   "metadata": {},
   "outputs": [
    {
     "data": {
      "application/vnd.jupyter.widget-view+json": {
       "model_id": "faf71419bbcc44afbe810363fcf18c7f",
       "version_major": 2,
       "version_minor": 0
      },
      "text/plain": [
       "Button(description='Load Lab', style=ButtonStyle())"
      ]
     },
     "metadata": {},
     "output_type": "display_data"
    },
    {
     "data": {
      "application/vnd.jupyter.widget-view+json": {
       "model_id": "6b039e71498d40e3a5de23b3718b5fd0",
       "version_major": 2,
       "version_minor": 0
      },
      "text/plain": [
       "Output()"
      ]
     },
     "metadata": {},
     "output_type": "display_data"
    }
   ],
   "source": [
    "# Click the button below to load your lab.\n",
    "def loadlab(b):\n",
    "    with output0_2:\n",
    "        output0_2.clear_output()\n",
    "        display(HTML(\"<span>Searching for an existing lab in your notebook...</span>\"))\n",
    "\n",
    "    if (os.path.exists(\"/home/umdsecXX/notebooks/saves/umdsecXX_intro.tar.gz\")):\n",
    "        with output0_2:\n",
    "            output0_2.clear_output()\n",
    "            display(HTML(\"<span>Loading your lab...</span> \\\n",
    "                <span><img width='12px' height='12px' style='margin-left: 3px;' src='resources/loading.gif'></span>\"))\n",
    "            result = trigger_load()\n",
    "            if (result.returncode == 0):\n",
    "                    output0_2.clear_output()\n",
    "                    display(HTML(\"<span style='color: green;'>Your lab has been successfully loaded.</span>\"))\n",
    "            elif (result.returncode == 2):\n",
    "                    output0_2.clear_output()\n",
    "                    display(HTML(\"<span style='color: red;'>The intro lab is inaccessible. Please start your lab. If you have already started it, wait a minute and try again.</span>\"))\n",
    "            else:\n",
    "                    output0_2.clear_output()\n",
    "                    display(HTML(\"<span style='color: red;'>An error occurred while loading your lab.</span>\"))\n",
    "\n",
    "# Creating the button.\n",
    "loadButton = widgets.Button(description=\"Load Lab\")\n",
    "\n",
    "# Creating an output area.\n",
    "output0_2 = widgets.Output()\n",
    "\n",
    "# Run the command on click.\n",
    "loadButton.on_click(loadlab)\n",
    "\n",
    "# Display the output.\n",
    "display(loadButton, output0_2)"
   ]
  },
  {
   "cell_type": "markdown",
   "metadata": {
    "editable": true,
    "slideshow": {
     "slide_type": ""
    },
    "tags": []
   },
   "source": [
    "### Step 1: Create a Folder\n",
    "\n",
    "On your XDC, sign into your ```intro``` node. To do this, type ```ssh intro```. Create a folder called ```jupyterintro``` in ```/home/umdsecXX```. Make sure that you are on your node first. Otherwise, you won't be able to continue."
   ]
  },
  {
   "cell_type": "code",
   "execution_count": 4,
   "metadata": {
    "editable": true,
    "jupyterlab-hide-cells:hidden": true,
    "slideshow": {
     "slide_type": ""
    },
    "tags": []
   },
   "outputs": [
    {
     "data": {
      "application/vnd.jupyter.widget-view+json": {
       "model_id": "af582416208d472f83535e078efa5ff1",
       "version_major": 2,
       "version_minor": 0
      },
      "text/plain": [
       "Button(description='Check Folder', style=ButtonStyle())"
      ]
     },
     "metadata": {},
     "output_type": "display_data"
    },
    {
     "data": {
      "application/vnd.jupyter.widget-view+json": {
       "model_id": "6dc73f19ffc74d1ba81b681c3655ccd4",
       "version_major": 2,
       "version_minor": 0
      },
      "text/plain": [
       "Output()"
      ]
     },
     "metadata": {},
     "output_type": "display_data"
    }
   ],
   "source": [
    "# Click the button below to check your work.\n",
    "\n",
    "# Function to check if the folder exists\n",
    "def step_1():\n",
    "    # Required to change boolean value.\n",
    "    global step1Complete, step2Complete\n",
    "\n",
    "    with output1:\n",
    "        output1.clear_output()\n",
    "        display(HTML(\"<span><img width='12px' height='12px' style='margin-left: 3px;' src='resources/loading.gif'></span>\"))\n",
    "    \n",
    "    result = subprocess.run('ssh -o StrictHostKeyChecking=no -i /home/umdsecXX/.ssh/merge_key umdsecXX@intro /home/.checker/step1.py', shell=True)\n",
    "\n",
    "    if (result.returncode == 1 or (result.returncode == 0 and step2Complete)):\n",
    "        output1.clear_output()\n",
    "        with output1:\n",
    "            display(HTML(\"<span style='color: green;'>Success! You may continue onto the next step.</span>\"))\n",
    "            step1Complete = True\n",
    "    \n",
    "    else:\n",
    "        output1.clear_output()\n",
    "        with output1:\n",
    "            display(HTML(\"<span style='color: red;'>Check your work and try again. Did you mistype the folder name?</span>\"))\n",
    "            step1Complete = False\n",
    "\n",
    "def check_step_1(b):\n",
    "    step_1()\n",
    "\n",
    "    # Auto-save.\n",
    "    if (not runAllSteps):\n",
    "        trigger_save()\n",
    "\n",
    "# Creating the button.\n",
    "button = widgets.Button(description=\"Check Folder\")\n",
    "\n",
    "# Creating an output area.\n",
    "output1 = widgets.Output()\n",
    "\n",
    "# Run the command on click.\n",
    "button.on_click(check_step_1)\n",
    "\n",
    "# Display the output.\n",
    "display(button, output1)"
   ]
  },
  {
   "cell_type": "markdown",
   "metadata": {
    "editable": true,
    "slideshow": {
     "slide_type": ""
    },
    "tags": []
   },
   "source": [
    "### Step 2: Make a Text File\n",
    "\n",
    "Navigate into the ```jupyterintro``` folder and create a file called ```jupytertest.txt``` by using the [<font color=\"blue\">touch</font>](https://www.geeksforgeeks.org/touch-command-in-linux-with-examples/) command. Try changing the permissions by using the [<font color=\"blue\">chmod</font>](https://www.freecodecamp.org/news/file-permissions-in-linux-chmod-command-explained/) command. You can use any permissions that you'd like."
   ]
  },
  {
   "cell_type": "code",
   "execution_count": 5,
   "metadata": {
    "editable": true,
    "slideshow": {
     "slide_type": ""
    },
    "tags": []
   },
   "outputs": [
    {
     "data": {
      "application/vnd.jupyter.widget-view+json": {
       "model_id": "912cc4ac084e49fcb5f3fa15f43fbd6f",
       "version_major": 2,
       "version_minor": 0
      },
      "text/plain": [
       "Button(description='Check File', style=ButtonStyle())"
      ]
     },
     "metadata": {},
     "output_type": "display_data"
    },
    {
     "data": {
      "application/vnd.jupyter.widget-view+json": {
       "model_id": "8ba43c5a5cf444d68824c685f747d1cf",
       "version_major": 2,
       "version_minor": 0
      },
      "text/plain": [
       "Output()"
      ]
     },
     "metadata": {},
     "output_type": "display_data"
    }
   ],
   "source": [
    "# Click the button below to check your work.\n",
    "\n",
    "# Function to check if the folder exists\n",
    "def step_2():\n",
    "    # Required to change boolean value.\n",
    "    global step2Complete, step3Complete\n",
    "\n",
    "    # Loading, in case the check is slow.\n",
    "    with output2:\n",
    "        output2.clear_output()\n",
    "        display(HTML(\"<span><img width='12px' height='12px' style='margin-left: 3px;' src='resources/loading.gif'></span>\"))\n",
    "    \n",
    "    result = subprocess.run('ssh -i /home/umdsecXX/.ssh/merge_key umdsecXX@intro /home/.checker/step2.py', shell=True)\n",
    "\n",
    "    # Note: If already completed, it cannot be accidentally \"undone\" since it's part of the next step.\n",
    "    if (result.returncode == 2 or step3Complete) or step2Complete:\n",
    "        output2.clear_output()\n",
    "        with output2:\n",
    "            display(HTML(\"<span style='color: green;'>Success! You may continue onto the next step.</span>\"))\n",
    "            step2Complete = True\n",
    "    elif (result.returncode == 1):\n",
    "        output2.clear_output()\n",
    "        with output2:\n",
    "            display(HTML(\"<span style='color: red;'>The text file is created, but you forgot to change the permissions.</span>\"))\n",
    "            step2Complete = False\n",
    "    else:\n",
    "        output2.clear_output()\n",
    "        with output2:\n",
    "            display(HTML(\"<span style='color: red;'>Check your work and try again.</span>\"))\n",
    "            step2Complete = False\n",
    "\n",
    "def check_step_2(b):\n",
    "    step_2()\n",
    "\n",
    "    # Auto-save.\n",
    "    if (not runAllSteps):\n",
    "        trigger_save()\n",
    "\n",
    "# Creating the button.\n",
    "button = widgets.Button(description=\"Check File\")\n",
    "\n",
    "# Creating an output area.\n",
    "output2 = widgets.Output()\n",
    "\n",
    "# Run the command on click.\n",
    "button.on_click(check_step_2)\n",
    "\n",
    "# Display the output.\n",
    "display(button, output2)"
   ]
  },
  {
   "cell_type": "markdown",
   "metadata": {},
   "source": [
    "### Step 3: Delete the Folder\n",
    "\n",
    "Delete the entire folder. Use the [<font color=\"blue\">rm</font>](https://www.howtogeek.com/858815/linux-rm-command/) command to delete the folder, then check your work below. \n",
    "\n",
    "<u>Tip</u>: You are deleting a directory, so include a tag with your command."
   ]
  },
  {
   "cell_type": "code",
   "execution_count": 6,
   "metadata": {
    "editable": true,
    "slideshow": {
     "slide_type": ""
    },
    "tags": []
   },
   "outputs": [
    {
     "data": {
      "application/vnd.jupyter.widget-view+json": {
       "model_id": "b4950aaf2f694c7788da6c5a0042e089",
       "version_major": 2,
       "version_minor": 0
      },
      "text/plain": [
       "Button(description='Check Folder', style=ButtonStyle())"
      ]
     },
     "metadata": {},
     "output_type": "display_data"
    },
    {
     "data": {
      "application/vnd.jupyter.widget-view+json": {
       "model_id": "4cc729c304884853a478a5acda070a2a",
       "version_major": 2,
       "version_minor": 0
      },
      "text/plain": [
       "Output()"
      ]
     },
     "metadata": {},
     "output_type": "display_data"
    }
   ],
   "source": [
    "# Click the button below to check your work.\n",
    "\n",
    "# Function to check if the folder exists\n",
    "def step_3():\n",
    "    # Required to change boolean values.\n",
    "    global step1Complete, step3Complete\n",
    "\n",
    "    # Loading, in case the check is slow.\n",
    "    with output3:\n",
    "        output3.clear_output()\n",
    "        display(HTML(\"<span><img width='12px' height='12px' style='margin-left: 3px;' src='resources/loading.gif'></span>\"))\n",
    "    \n",
    "    result = subprocess.run(['ssh -i /home/umdsecXX/.ssh/merge_key umdsecXX@intro /home/.checker/step3.py /home/umdsecXX/jupyterintro'], shell=True)\n",
    "    \n",
    "    if (result.returncode == 1 and step1Complete):\n",
    "        output3.clear_output()\n",
    "        with output3:\n",
    "            display(HTML(\"<span style='color: red;'>Check your work and try again.</span>\"))\n",
    "            step3Complete = False\n",
    "    elif step1Complete == False:\n",
    "        output3.clear_output()\n",
    "        with output3:\n",
    "            display(HTML(\"<span style='color: red;'>You need to complete Step 1 before continuing.</span>\"))\n",
    "            step3Complete = False\n",
    "    else:\n",
    "        output3.clear_output()\n",
    "        with output3:\n",
    "            display(HTML(\"<span style='color: green;'>Success! You may continue onto the next step.</span>\"))\n",
    "            step3Complete = True\n",
    "\n",
    "def check_step_3(b):\n",
    "    step_3()\n",
    "\n",
    "    # Auto-save.\n",
    "    if (not runAllSteps):\n",
    "        trigger_save()\n",
    "\n",
    "# Creating the button.\n",
    "button = widgets.Button(description=\"Check Folder\")\n",
    "\n",
    "# Creating an output area.\n",
    "output3 = widgets.Output()\n",
    "\n",
    "# Run the command on click.\n",
    "button.on_click(check_step_3)\n",
    "\n",
    "# Display the output.\n",
    "display(button, output3)"
   ]
  },
  {
   "cell_type": "markdown",
   "metadata": {},
   "source": [
    "### Step 4: Search For a File\n",
    "\n",
    "A file was stored in your ```intro``` node called ```findme.txt```. Its location is unknown, so you need to use the [<font color=\"blue\">find</font>](https://www.geeksforgeeks.org/find-command-in-linux-with-examples/) command to search for it. Check the top-most hierarchy of the ```intro``` node, which is ```/```.\n",
    "\n",
    "When you have found the file, delete it.\n",
    "\n",
    "Additionally, there is a <u>hidden</u> file located inside of your home directory. Figure out what it is by using parameters for the [<font color=\"blue\">ls</font>](https://www.freecodecamp.org/news/linux-chmod-chown-change-file-permissions/) command, then delete that, as well. \n",
    "\n",
    "**NOTE FOR LATER:** Put this in ```runlab```. This does not get created yet!"
   ]
  },
  {
   "cell_type": "code",
   "execution_count": 7,
   "metadata": {},
   "outputs": [
    {
     "data": {
      "application/vnd.jupyter.widget-view+json": {
       "model_id": "ba8d85ed49d44e31a40ab78471708869",
       "version_major": 2,
       "version_minor": 0
      },
      "text/plain": [
       "Button(description='Check File', style=ButtonStyle())"
      ]
     },
     "metadata": {},
     "output_type": "display_data"
    },
    {
     "data": {
      "application/vnd.jupyter.widget-view+json": {
       "model_id": "be967b60237d4e2c80e0684128fc3ce9",
       "version_major": 2,
       "version_minor": 0
      },
      "text/plain": [
       "Output()"
      ]
     },
     "metadata": {},
     "output_type": "display_data"
    }
   ],
   "source": [
    "# Click the button below to check your work.\n",
    "step4Complete = False\n",
    "\n",
    "# Function to check if the folder exists\n",
    "def step_4():\n",
    "    # Required to change boolean values.\n",
    "    global step4Complete\n",
    "\n",
    "    # Loading, in case the check is slow.\n",
    "    with output4:\n",
    "        output4.clear_output()\n",
    "        display(HTML(\"<span><img width='12px' height='12px' style='margin-left: 3px;' src='resources/loading.gif'></span>\"))\n",
    "    \n",
    "    result = subprocess.run(['ssh -i /home/umdsecXX/.ssh/merge_key umdsecXX@intro /home/.checker/step4'], shell=True)\n",
    "    \n",
    "    if (result.returncode == 1):\n",
    "        output4.clear_output()\n",
    "        with output4:\n",
    "            display(HTML(\"<span style='color: red;'>Check your work and try again.</span>\"))\n",
    "            step4Complete = False\n",
    "    elif (result.returncode == 0):\n",
    "        output4.clear_output()\n",
    "        with output4:\n",
    "            display(HTML(\"<span style='color: green;'>Success! You may continue onto the next step.</span>\"))\n",
    "            step4Complete = True\n",
    "\n",
    "def check_step_4(b):\n",
    "    step_4()\n",
    "\n",
    "    # Auto-save.\n",
    "    if (not runAllSteps):\n",
    "        trigger_save()\n",
    "\n",
    "# Creating the button.\n",
    "button = widgets.Button(description=\"Check File\")\n",
    "\n",
    "# Creating an output area.\n",
    "output4 = widgets.Output()\n",
    "\n",
    "# Run the command on click.\n",
    "button.on_click(check_step_4)\n",
    "\n",
    "# Display the output.\n",
    "display(button, output4)"
   ]
  },
  {
   "cell_type": "markdown",
   "metadata": {},
   "source": [
    "### Step 5: Retrieve Files from Online\n",
    "\n",
    "Unix environments allow you to download information from online, such as website source code, RAW files, and more. To do this, we can use a command called [<font color=\"blue\">wget</font>](https://www.geeksforgeeks.org/wget-command-in-linux-unix/). The ```wget``` command is straightforward for our needs, as it just requires a URL. The syntax is: ```wget [url]```\n",
    "\n",
    "In your home directory, download this RAW file by using ```wget```: ```https://raw.githubusercontent.com/jesstess/Scrabble/master/scrabble/sowpods.txt```\n",
    "\n",
    "Make sure that the file is named ```sowpods.txt```. This will work automatically for you, but in case your test is not passing, make sure to check the file name."
   ]
  },
  {
   "cell_type": "code",
   "execution_count": 8,
   "metadata": {},
   "outputs": [
    {
     "data": {
      "application/vnd.jupyter.widget-view+json": {
       "model_id": "a14a6b6879a247739053dc4782c79837",
       "version_major": 2,
       "version_minor": 0
      },
      "text/plain": [
       "Button(description='Check File', style=ButtonStyle())"
      ]
     },
     "metadata": {},
     "output_type": "display_data"
    },
    {
     "data": {
      "application/vnd.jupyter.widget-view+json": {
       "model_id": "dc357b89736942999572bf91b3cadd16",
       "version_major": 2,
       "version_minor": 0
      },
      "text/plain": [
       "Output()"
      ]
     },
     "metadata": {},
     "output_type": "display_data"
    }
   ],
   "source": [
    "# Click the button below to check your work.\n",
    "step5Complete = False\n",
    "\n",
    "# Function to check if the folder exists\n",
    "def step_5():\n",
    "    # Required to change boolean values.\n",
    "    global step5Complete\n",
    "\n",
    "    # Loading, in case the check is slow.\n",
    "    with output5:\n",
    "        output5.clear_output()\n",
    "        display(HTML(\"<span><img width='12px' height='12px' style='margin-left: 3px;' src='resources/loading.gif'></span>\"))\n",
    "    \n",
    "    result = subprocess.run(['ssh -i /home/umdsecXX/.ssh/merge_key umdsecXX@intro /home/.checker/step5.py'], shell=True)\n",
    "\n",
    "    # Triggers when wget has an issue when downloading the file for validity.\n",
    "    if (result.returncode == 1):\n",
    "        output5.clear_output()\n",
    "        with output5:\n",
    "            display(HTML(\"<span style='color: red;'>Error. File cannot be downloaded to check validity.</span>\"))\n",
    "            step5Complete = False\n",
    "    # File isn't made.\n",
    "    elif (result.returncode == 2):\n",
    "        output5.clear_output()\n",
    "        with output5:\n",
    "            display(HTML(\"<span style='color: red;'>The sowpods.txt file cannot be found in your home directory.</span>\"))\n",
    "            step5Complete = False\n",
    "    # In case the two files don't match.\n",
    "    elif (result.returncode == 0):\n",
    "        output5.clear_output()\n",
    "        with output5:\n",
    "            display(HTML(\"<span style='color: red;'>Your sowpods.txt file does not match the text file. Delete the file and try again.</span>\"))\n",
    "            step5Complete = False\n",
    "    # Success.\n",
    "    elif (result.returncode == 3):\n",
    "        output5.clear_output()\n",
    "        with output5:\n",
    "            display(HTML(\"<span style='color: green;'>Success! You may continue onto the next step.</span>\"))\n",
    "            step5Complete = True\n",
    "\n",
    "def check_step_5(b):\n",
    "    step_5()\n",
    "\n",
    "    # Auto-save.\n",
    "    if (not runAllSteps):\n",
    "        trigger_save()\n",
    "\n",
    "# Creating the button.\n",
    "button = widgets.Button(description=\"Check File\")\n",
    "\n",
    "# Creating an output area.\n",
    "output5 = widgets.Output()\n",
    "\n",
    "# Run the command on click.\n",
    "button.on_click(check_step_5)\n",
    "\n",
    "# Display the output.\n",
    "display(button, output5)"
   ]
  },
  {
   "cell_type": "markdown",
   "metadata": {},
   "source": [
    "### Step 6: Use a Regular Expression\n",
    "\n",
    "Regular expressions (regex) are used to find/change strings in a file. They are in programming languages, but they are also available in Unix environments. The command, [<font color=\"blue\">grep</font>](https://www.geeksforgeeks.org/grep-command-in-unixlinux/), is used for handling text data in Linux. \n",
    "\n",
    "Some useful cases of using grep are:\n",
    "- You have several .c files stored in a directory, but you want to know which .c files use the library ```time.h```.\n",
    "- You are trying to find a specific error inside of ```/var/log```.\n",
    "- You want to find all occurrences of a database name in a collection of PHP files, and you want to rename them all in one command.\n",
    "\n",
    "From the previous step, you downloaded ```sowpods.txt```. Use the ```grep``` command and find all strings that begin with the word ```CAMP``` inside of this file. <u>Case sensitivity does not matter</u>. Once you have printed all of the strings that start with ```CAMP```, create a text file called ```output.txt``` inside of ```/home/umdsecXX```. \n",
    "\n",
    "<u>Tips</u>: \n",
    "- Use the following command to take your ```grep``` command and write it as a text file. This is called a redirection, which takes your output from the ```grep``` command, then writes it as a new text file: ```grep ... > /home/umdsecXX/output.txt```\n",
    "- ```grep``` supports regex syntax. This will be helpful when trying to find words that start with ```CAMP```."
   ]
  },
  {
   "cell_type": "code",
   "execution_count": 9,
   "metadata": {},
   "outputs": [
    {
     "data": {
      "application/vnd.jupyter.widget-view+json": {
       "model_id": "c955ef99b1104eedbf1c235dfdd996e5",
       "version_major": 2,
       "version_minor": 0
      },
      "text/plain": [
       "Button(description='Check Work', style=ButtonStyle())"
      ]
     },
     "metadata": {},
     "output_type": "display_data"
    },
    {
     "data": {
      "application/vnd.jupyter.widget-view+json": {
       "model_id": "ecbdc2dd27c840d988f9a0f87d790a9a",
       "version_major": 2,
       "version_minor": 0
      },
      "text/plain": [
       "Output()"
      ]
     },
     "metadata": {},
     "output_type": "display_data"
    }
   ],
   "source": [
    "# Click the button below to check your work.\n",
    "step6Complete = False\n",
    "\n",
    "# Function to check if the folder exists\n",
    "def step_6():\n",
    "    # Required to change boolean values.\n",
    "    global step5Complete, step6Complete, step7Complete\n",
    "\n",
    "    # Loading, in case the check is slow.\n",
    "    with output6:\n",
    "        output6.clear_output()\n",
    "        display(HTML(\"<span><img width='12px' height='12px' style='margin-left: 3px;' src='resources/loading.gif'></span>\"))\n",
    "        \n",
    "    result = subprocess.run(['ssh -i /home/umdsecXX/.ssh/merge_key umdsecXX@intro /home/.checker/step6'], shell=True)\n",
    "\n",
    "    # If the file was moved already, then this step must have passed.\n",
    "    \n",
    "    if (step7Complete):\n",
    "        output6.clear_output()\n",
    "        with output6:\n",
    "            display(HTML(\"<span style='color: green;'>Success! You may continue onto the next step.</span>\"))\n",
    "            step6Complete = True\n",
    "            \n",
    "    # sowpods.txt doesn't exist.\n",
    "    if (result.returncode == 1 or not step5Complete):\n",
    "        output6.clear_output()\n",
    "        with output6:\n",
    "            display(HTML(\"<span style='color: red;'>sowpods.txt doesn't exist. Did you complete the previous step yet?</span>\"))\n",
    "            step6Complete = False\n",
    "            \n",
    "    # Check fails.\n",
    "    elif (result.returncode == 0):\n",
    "        output6.clear_output()\n",
    "        with output6:\n",
    "            display(HTML(\"<span style='color: red;'>Error. This check script failed. Please consult your professor/TA.</span>\"))\n",
    "            step6Complete = False\n",
    "\n",
    "    # File cannot be found.\n",
    "    elif (result.returncode == 2):\n",
    "        output6.clear_output()\n",
    "        with output6:\n",
    "            display(HTML(\"<span style='color: red;'>Your answer cannot be found. Did you name it as output.txt?</span>\"))\n",
    "            step6Complete = False\n",
    "\n",
    "    # output.txt is different from the correct answer.\n",
    "    elif (result.returncode == 4):\n",
    "        output6.clear_output()\n",
    "        with output6:\n",
    "            display(HTML(\"<span style='color: red;'>output.txt exists, but is incorrect.</span>\"))\n",
    "            step6Complete = False\n",
    "\n",
    "    elif (result.returncode == 3):\n",
    "        output6.clear_output()\n",
    "        with output6:\n",
    "            display(HTML(\"<span style='color: green;'>Success! You may continue onto the next step.</span>\"))\n",
    "            step6Complete = True\n",
    "\n",
    "            # For the next step, create the new folder if it doesn't exist yet.\n",
    "            subprocess.run(\"ssh -i /home/umdsecXX/.ssh/merge_key umdsecXX@intro 'mkdir -p \\\"Important Data\\\"'\", shell=True)\n",
    "    \n",
    "\n",
    "def check_step_6(b):\n",
    "    step_6()\n",
    "\n",
    "    # Auto-save.\n",
    "    if (not runAllSteps):\n",
    "        trigger_save()\n",
    "\n",
    "# Creating the button.\n",
    "button = widgets.Button(description=\"Check Work\")\n",
    "\n",
    "# Creating an output area.\n",
    "output6 = widgets.Output()\n",
    "\n",
    "# Run the command on click.\n",
    "button.on_click(check_step_6)\n",
    "\n",
    "# Display the output.\n",
    "display(button, output6)"
   ]
  },
  {
   "cell_type": "markdown",
   "metadata": {},
   "source": [
    "### Step 7: Moving a File\n",
    "\n",
    "After completing Step 6, a new folder was created in your home directory, named ```Important Data```. Move your ```output.txt``` file into this directory by using the [<font color=\"blue\">mv</font>](https://www.geeksforgeeks.org/mv-command-linux-examples/) command.\n",
    "\n",
    "<u>Tips</u>:\n",
    "- There is a space in your directory name. You will have to [<font color=\"blue\">escape space characters</font>](https://linuxhandbook.com/filename-spaces-linux/) in your command.\n",
    "- You can rename files use this same command! To rename a file, use ```mv oldname newname```. You are moving it to/from the same directory, but with a different name. <u>This is not required for the lab.</u>"
   ]
  },
  {
   "cell_type": "code",
   "execution_count": 10,
   "metadata": {},
   "outputs": [
    {
     "data": {
      "application/vnd.jupyter.widget-view+json": {
       "model_id": "b5fa270e19bb4cacbf48ddb2bd08e826",
       "version_major": 2,
       "version_minor": 0
      },
      "text/plain": [
       "Button(description='Check Folder', style=ButtonStyle())"
      ]
     },
     "metadata": {},
     "output_type": "display_data"
    },
    {
     "data": {
      "application/vnd.jupyter.widget-view+json": {
       "model_id": "e898683d26ba404488bd9625b5e700f2",
       "version_major": 2,
       "version_minor": 0
      },
      "text/plain": [
       "Output()"
      ]
     },
     "metadata": {},
     "output_type": "display_data"
    }
   ],
   "source": [
    "# Click the button below to check your work.\n",
    "step7Complete = False\n",
    "\n",
    "# Function to check if the folder exists\n",
    "def step_7():\n",
    "    # Required to change boolean value.\n",
    "    global step6Complete, step7Complete\n",
    "\n",
    "    # Loading, in case the check is slow.\n",
    "    with output7:\n",
    "        output7.clear_output()\n",
    "        display(HTML(\"<span><img width='12px' height='12px' style='margin-left: 3px;' src='resources/loading.gif'></span>\"))\n",
    "    \n",
    "    result = subprocess.run('ssh -i /home/umdsecXX/.ssh/merge_key umdsecXX@intro \"/home/.checker/step7.py \\'/home/umdsecXX/Important Data/output.txt\\'\"', shell=True)\n",
    "    \n",
    "    if (result.returncode == 1 and step6Complete):\n",
    "        output7.clear_output()\n",
    "        with output7:\n",
    "            display(HTML(\"<span style='color: green;'>Success! You may continue onto the next step.</span>\"))\n",
    "            step7Complete = True\n",
    "    else:\n",
    "        output7.clear_output()\n",
    "        with output7:\n",
    "            display(HTML(\"<span style='color: red;'>Check your work and try again.</span>\"))\n",
    "            step7Complete = False\n",
    "\n",
    "def check_step_7(b):\n",
    "    step_7()\n",
    "\n",
    "    # Auto-save.\n",
    "    if (not runAllSteps):\n",
    "        trigger_save()\n",
    "\n",
    "# Creating the button.\n",
    "button = widgets.Button(description=\"Check Folder\")\n",
    "\n",
    "# Creating an output area.\n",
    "output7 = widgets.Output()\n",
    "\n",
    "# Run the command on click.\n",
    "button.on_click(check_step_7)\n",
    "\n",
    "# Display the output.\n",
    "display(button, output7)"
   ]
  },
  {
   "cell_type": "markdown",
   "metadata": {},
   "source": [
    "### Step 8: Copying a File\n",
    "\n",
    "Now, create a copy of the file using the [<font color=\"blue\">cp</font>](https://www.geeksforgeeks.org/cp-command-linux-examples/). Call this file ```output_copy.txt```. Make sure that it remains in the same directory as your ```output.txt``` file. You should still be in your ```Important Data``` folder. <u>By copying the two files, they must also have the same permissions.</u>\n",
    "\n",
    "<u>Note</u>: Physically copying all the lines and creating a new text file will not work. You will need to use the copy command."
   ]
  },
  {
   "cell_type": "code",
   "execution_count": 11,
   "metadata": {},
   "outputs": [
    {
     "data": {
      "application/vnd.jupyter.widget-view+json": {
       "model_id": "1584aec938ea458487fe02b1fbd816bb",
       "version_major": 2,
       "version_minor": 0
      },
      "text/plain": [
       "Button(description='Check Work', style=ButtonStyle())"
      ]
     },
     "metadata": {},
     "output_type": "display_data"
    },
    {
     "data": {
      "application/vnd.jupyter.widget-view+json": {
       "model_id": "a7fdf1427dd84987b40e26e73dcb1a29",
       "version_major": 2,
       "version_minor": 0
      },
      "text/plain": [
       "Output()"
      ]
     },
     "metadata": {},
     "output_type": "display_data"
    }
   ],
   "source": [
    "# Click the button below to check your work.\n",
    "step8Complete = False\n",
    "\n",
    "# Function to check if the folder exists\n",
    "def step_8():\n",
    "    # Required to change boolean values.\n",
    "    global step8Complete\n",
    "\n",
    "    # Loading, in case the check is slow.\n",
    "    with output8:\n",
    "        output8.clear_output()\n",
    "        display(HTML(\"<span><img width='12px' height='12px' style='margin-left: 3px;' src='resources/loading.gif'></span>\"))\n",
    "    \n",
    "    result = subprocess.run(['ssh -i /home/umdsecXX/.ssh/merge_key umdsecXX@intro /home/.checker/step8.py'], shell=True)\n",
    "\n",
    "    # File wasn't copied yet.\n",
    "    if (result.returncode == 0):\n",
    "        output8.clear_output()\n",
    "        with output8:\n",
    "            display(HTML(\"<span style='color: red;'>output_copy.txt is not found.</span>\"))\n",
    "            step8Complete = False\n",
    "\n",
    "    elif (result.returncode == 2):\n",
    "        output8.clear_output()\n",
    "        with output8:\n",
    "            display(HTML(\"<span style='color: red;'>output.txt and output_copy.txt are not the same.</span>\"))\n",
    "            step8Complete = False\n",
    "\n",
    "    elif (result.returncode == 3):\n",
    "        output8.clear_output()\n",
    "        with output8:\n",
    "            display(HTML(\"<span style='color: red;'>Error. Please consult your professor/TA.</span>\"))\n",
    "            step8Complete = False\n",
    "    \n",
    "    elif (result.returncode == 1):\n",
    "        output8.clear_output()\n",
    "        with output8:\n",
    "            display(HTML(\"<span style='color: green;'>Success! You may continue onto the next step.</span>\"))\n",
    "            step8Complete = True\n",
    "\n",
    "def check_step_8(b):\n",
    "    step_8()\n",
    "\n",
    "    # Auto-save.\n",
    "    if (not runAllSteps):\n",
    "        trigger_save()\n",
    "\n",
    "# Creating the button.\n",
    "button = widgets.Button(description=\"Check Work\")\n",
    "\n",
    "# Creating an output area.\n",
    "output8 = widgets.Output()\n",
    "\n",
    "# Run the command on click.\n",
    "button.on_click(check_step_8)\n",
    "\n",
    "# Display the output.\n",
    "display(button, output8)"
   ]
  },
  {
   "cell_type": "markdown",
   "metadata": {},
   "source": [
    "### Step 9: Finding the Difference Between Two Files\n",
    "\n",
    "Upon completing Step 8, a new folder was created inside of your ```Important Data/``` directory called ```lists/```. This contains two files: ```list1.txt``` and ```list2.txt```. One line is different between the two, very similar text files. It's too difficult to find what the difference is by hand, so we will use the [<font color=\"blue\">diff</font>](https://www.geeksforgeeks.org/diff-command-linux-examples/) command to find the difference between the two files.\n",
    "\n",
    "After finding what the difference is between the two files, you will use a similar command from Step 6 to redirect the output to a text file. Call this file ```listdiff.txt```, and keep it inside of your ```lists/``` directory."
   ]
  },
  {
   "cell_type": "code",
   "execution_count": 12,
   "metadata": {},
   "outputs": [
    {
     "data": {
      "application/vnd.jupyter.widget-view+json": {
       "model_id": "3a68621dad4c44429a0c0ad62723c5b3",
       "version_major": 2,
       "version_minor": 0
      },
      "text/plain": [
       "Button(description='Check Work', style=ButtonStyle())"
      ]
     },
     "metadata": {},
     "output_type": "display_data"
    },
    {
     "data": {
      "application/vnd.jupyter.widget-view+json": {
       "model_id": "b8f5f96a66b74a40b0982d1729619abc",
       "version_major": 2,
       "version_minor": 0
      },
      "text/plain": [
       "Output()"
      ]
     },
     "metadata": {},
     "output_type": "display_data"
    }
   ],
   "source": [
    "# Click the button below to check your work.\n",
    "step9Complete = False\n",
    "\n",
    "# Function to check if the folder exists\n",
    "def step_9():\n",
    "    # Required to change boolean values.\n",
    "    global step9Complete\n",
    "\n",
    "    # Loading, in case the check is slow.\n",
    "    with output9:\n",
    "        output9.clear_output()\n",
    "        display(HTML(\"<span><img width='12px' height='12px' style='margin-left: 3px;' src='resources/loading.gif'></span>\"))\n",
    "    \n",
    "    result = subprocess.run(['ssh -i /home/umdsecXX/.ssh/merge_key umdsecXX@intro /home/.checker/step9'], shell=True)\n",
    "\n",
    "    # No attempt made.\n",
    "    if (result.returncode == 3):\n",
    "        output9.clear_output()\n",
    "        with output9:\n",
    "            display(HTML(\"<span style='color: red;'>listdiff.txt was not found. Is it in the correct directory?</span>\"))\n",
    "            step9Complete = False\n",
    "            \n",
    "    # Check fails.\n",
    "    elif (result.returncode == 0):\n",
    "        output9.clear_output()\n",
    "        with output9:\n",
    "            display(HTML(\"<span style='color: red;'>Error. This check script failed. Please consult your professor/TA.</span>\"))\n",
    "            step9Complete = False\n",
    "\n",
    "    # Exists, but not correct.\n",
    "    elif (result.returncode == 2):\n",
    "        output9.clear_output()\n",
    "        with output9:\n",
    "            display(HTML(\"<span style='color: red;'>Your answer is incorrect. Double check your diff command.</span>\"))\n",
    "            step9Complete = False\n",
    "\n",
    "    elif (result.returncode == 1):\n",
    "        output9.clear_output()\n",
    "        with output9:\n",
    "            display(HTML(\"<span style='color: green;'>Success! You may continue onto the next step.</span>\"))\n",
    "            step9Complete = True\n",
    "\n",
    "def check_step_9(b):\n",
    "    step_9()\n",
    "\n",
    "    # Auto-save.\n",
    "    if (not runAllSteps):\n",
    "        trigger_save()\n",
    "\n",
    "# Creating the button.\n",
    "button = widgets.Button(description=\"Check Work\")\n",
    "\n",
    "# Creating an output area.\n",
    "output9 = widgets.Output()\n",
    "\n",
    "# Run the command on click.\n",
    "button.on_click(check_step_9)\n",
    "\n",
    "# Display the output.\n",
    "display(button, output9)"
   ]
  },
  {
   "cell_type": "markdown",
   "metadata": {},
   "source": [
    "### Step 10: Creating Tarballs\n",
    "\n",
    "Now, you will create a tarball consisting of the ```Important Data/``` directory. Tarballs (```.tar.gz```) are similar to zip (```.zip```) files, except tarballs are more supportive in Unix environments, as they will keep their permissions when zipped and will not be compressed unless you use the ```.gz``` extension (meaning compression with g-zip).\n",
    "\n",
    "Use the [<font color=\"blue\">tar</font>](https://www.cyberciti.biz/faq/how-to-create-tar-gz-file-in-linux-using-command-line/) command to create a tarball containing the three files from above. Name the tarball ```data.tar.gz```, and make sure it's in your home directory.\n",
    "\n",
    "<u>Tip</u>: Upon extracting your tarball, the first file you should see is ```Important Data/```. It's not required that you extract your tarball, but if you are getting an error, this would be a good starting point to debug. If you compressed the contents inside of ```Important Data/```, rather the folder itself, then you performed the step incorrectly."
   ]
  },
  {
   "cell_type": "code",
   "execution_count": 13,
   "metadata": {},
   "outputs": [
    {
     "data": {
      "application/vnd.jupyter.widget-view+json": {
       "model_id": "520e9f2d96164923a179558a5d4e4ff0",
       "version_major": 2,
       "version_minor": 0
      },
      "text/plain": [
       "Button(description='Check Work', style=ButtonStyle())"
      ]
     },
     "metadata": {},
     "output_type": "display_data"
    },
    {
     "data": {
      "application/vnd.jupyter.widget-view+json": {
       "model_id": "9bd44bd719eb499393c0e7b8d1bff8d0",
       "version_major": 2,
       "version_minor": 0
      },
      "text/plain": [
       "Output()"
      ]
     },
     "metadata": {},
     "output_type": "display_data"
    }
   ],
   "source": [
    "# Click the button below to check your work.\n",
    "step10Complete = False\n",
    "\n",
    "# Function to check if the folder exists\n",
    "def step_10():\n",
    "    # Required to change boolean values.\n",
    "    global step10Complete\n",
    "\n",
    "    # Loading, in case the check is slow.\n",
    "    with output10:\n",
    "        output10.clear_output()\n",
    "        display(HTML(\"<span><img width='12px' height='12px' style='margin-left: 3px;' src='resources/loading.gif'></span>\"))\n",
    "    \n",
    "    result = subprocess.run('ssh -i /home/umdsecXX/.ssh/merge_key umdsecXX@intro /home/.checker/step10.py', shell=True, stdout=subprocess.DEVNULL)\n",
    "\n",
    "    # File wasn't copied yet.\n",
    "    if (result.returncode == 0):\n",
    "        output10.clear_output()\n",
    "        with output10:\n",
    "            display(HTML(\"<span style='color: red;'>data.tar.gz was not found in your home directory.</span>\"))\n",
    "            step10Complete = False\n",
    "\n",
    "    elif (result.returncode == 2):\n",
    "        output10.clear_output()\n",
    "        with output10:\n",
    "            display(HTML(\"<span style='color: red;'>Your tarball was not created correctly. Review the directions and try again.</span>\"))\n",
    "            step10Complete = False\n",
    "\n",
    "    elif (result.returncode == 3):\n",
    "        output10.clear_output()\n",
    "        with output10:\n",
    "            display(HTML(\"<span style='color: red;'>There is an issue with how you created your tarball. Ensure that the arguments you used are -czvf for the tar command.</span>\"))\n",
    "            step10Complete = False\n",
    "\n",
    "    elif (result.returncode == 1):\n",
    "        output10.clear_output()\n",
    "        with output10:\n",
    "            display(HTML(\"<span style='color: green;'>Success! You may continue onto the next step.</span>\"))\n",
    "            step10Complete = True\n",
    "\n",
    "def check_step_10(b):\n",
    "    step_10()\n",
    "\n",
    "    # Auto-save.\n",
    "    if (not runAllSteps):\n",
    "        trigger_save()\n",
    "\n",
    "# Creating the button.\n",
    "button = widgets.Button(description=\"Check Work\")\n",
    "\n",
    "# Creating an output area.\n",
    "output10 = widgets.Output()\n",
    "\n",
    "# Run the command on click.\n",
    "button.on_click(check_step_10)\n",
    "\n",
    "# Display the output.\n",
    "display(button, output10)"
   ]
  },
  {
   "cell_type": "markdown",
   "metadata": {},
   "source": [
    "### Step 11: Secure Copying a File\n",
    "\n",
    "We want to move ```data.tar.gz``` onto our XDC. Technically, when moving files that can be copied and pasted, it would be possible to copy/paste the contents from our terminal window to a text editor. However, when we are working with very long files, this isn't a viable approach. We can't copy and paste a ```.tar.gz``` file from a terminal, so it will be easier to use the [<font color=\"blue\">scp</font>](https://www.geeksforgeeks.org/scp-command-in-linux-with-examples/) command. ```scp``` stands for \"secure copy\", and we use this whenever we want to transfer files from one system to another.\n",
    "\n",
    "This is the syntax: \n",
    "\n",
    "```scp [-args] [[user@]host1:]source_file_or_directory [[user@]host2:]destination```\n",
    "\n",
    "This command may appear a little daunting, but it's incredibly important and useful to know. Other courses may require you to transfer files from your system to a server or vice versa. The syntax is essentially: Where is the file that I want to locate, and where do I want to send it to?\n",
    "\n",
    "You will see that on the ```intro``` node, your terminal says <font color=\"#2eeb10\"><strong>umdsecXX@intro</strong></font>, which is a recognizable host. When you are typing commands on your XDC, <strong>umdsecXX@xdc</strong> is also a recognizable host. It's good practice to look at these names on the command line so that you know what name(s) to use when using ```scp```.\n",
    "\n",
    "Using this information, carefully type a ```scp``` command that will transfer ```/home/umdsecXX/data.tar.gz``` from your ```intro``` node to ```/home/umdsecXX``` on your XDC.\n",
    "\n",
    "<u>Tips</u>:\n",
    "- It will be easier to type ```exit``` so that you're on <strong>umdsecXX@xdc</strong>, then using the ```scp``` command. This will mean that your source is your ```intro``` node, and your destination will be ```~```, which is the home directory on your XDC.\n",
    "- When you sign into the ```intro``` node, you are typing ```ssh intro```. The terminal recognizes that ```intro``` is a host, so you do not need to include ```user@``` when using this command.\n",
    "- When you are typing a local directory, such as ```~```, you do not need to include the host name. The terminal will recognize that your local path will be the source/destination.\n",
    "\n",
    "<u>The check for this step will extract your tarball and double-check that everything from Steps 5-9 were performed correctly.</u>"
   ]
  },
  {
   "cell_type": "code",
   "execution_count": 14,
   "metadata": {},
   "outputs": [
    {
     "data": {
      "application/vnd.jupyter.widget-view+json": {
       "model_id": "83302872dafc4dc5b66c4b3913fb67c2",
       "version_major": 2,
       "version_minor": 0
      },
      "text/plain": [
       "Button(description='Check Work', style=ButtonStyle())"
      ]
     },
     "metadata": {},
     "output_type": "display_data"
    },
    {
     "data": {
      "application/vnd.jupyter.widget-view+json": {
       "model_id": "f5ee47d432624f738cdd70af606a5573",
       "version_major": 2,
       "version_minor": 0
      },
      "text/plain": [
       "Output()"
      ]
     },
     "metadata": {},
     "output_type": "display_data"
    }
   ],
   "source": [
    "# Click the button below to check your work.\n",
    "step11Complete = False\n",
    "\n",
    "def check_tar():\n",
    "    import filecmp\n",
    "    \n",
    "    path = os.path.expanduser(\"/home/umdsecXX/data.tar.gz\")\n",
    "    imp_data = os.path.expanduser(\"Important Data/\")\n",
    "    ret = os.path.exists(path)\n",
    "\n",
    "    if ret:\n",
    "        # Create temp folder.\n",
    "        temp = \"/tmp/step11/\"\n",
    "        subprocess.run(f\"mkdir -p {temp}\", shell=True)\n",
    "\n",
    "        try:\n",
    "            # Check if the tarball contains all the correct contents.\n",
    "            subprocess.run(f\"tar -xzf {path} -C /tmp/step11\", shell=True, check=True)\n",
    "\n",
    "            # Checking if all files are in there. A more rigourous check to ensure all content is in the files.\n",
    "            files = [\"output.txt\", \"output_copy.txt\", \"lists/\", \"lists/list1.txt\", \"lists/list2.txt\", \"lists/listdiff.txt\"]\n",
    "            for name in files:\n",
    "                name = imp_data + name\n",
    "                if not os.path.exists(temp + name):\n",
    "                    subprocess.run(f\"rm -rf {temp}\", shell=True)\n",
    "                    # A file doesn't exist.\n",
    "                    return 2\n",
    "\n",
    "                if (name == \"lists/list1.txt\" or name == \"lists/list2.txt\"):\n",
    "                    size = subprocess.run(f\"sed -n '$=' {temp}{name}\", shell=True, capture_output=True, text=True)\n",
    "                    if (not size.stdout == \"1000\\n\"):\n",
    "                        return 4\n",
    "\n",
    "                elif (name == \"lists/listdiff.txt\"):\n",
    "                    f = open(temp + name, \"r\")\n",
    "                    contents = f.read()\n",
    "                    if (not bool(re.search(r'^\\d{3}c\\d{3}\\n\\< .{37}\\n---\\n> .{37}$', contents))):\n",
    "                        return 5\n",
    "                    f.close()\n",
    "\n",
    "                elif (name == \"output.txt\" or name == \"output_copy.txt\"):\n",
    "                    if (not filecmp.cmp(temp + \"output.txt\", temp + \"output_copy.txt\")):\n",
    "                        return 6\n",
    "                    f = open(temp + \"output.txt\", \"r\")\n",
    "                    lines = f.readlines()\n",
    "                    for line in lines:\n",
    "                        if (not bool(re.search(\"^CAMP\", line))):\n",
    "                            return 7\n",
    "                    f.close()\n",
    "                            \n",
    "            # All files exist.\n",
    "            return 1\n",
    "\n",
    "        except subprocess.CalledProcessError:\n",
    "            # Not a valid .tar.gz file type.\n",
    "            return 3\n",
    "    else:\n",
    "        # Tarball not created.\n",
    "        return 0\n",
    "\n",
    "# Function to check if the folder exists\n",
    "def step_11():\n",
    "    # Required to change boolean values.\n",
    "    global step11Complete\n",
    "\n",
    "    # Loading, in case the check is slow.\n",
    "    with output11:\n",
    "        output11.clear_output()\n",
    "        display(HTML(\"<span><img width='12px' height='12px' style='margin-left: 3px;' src='resources/loading.gif'></span>\"))\n",
    "\n",
    "    # Similar check to step10.py, except done locally.\n",
    "    result = check_tar()\n",
    "\n",
    "    # Clean-up.\n",
    "    subprocess.run(\"rm -rf /tmp/step11\", shell=True)\n",
    "\n",
    "    # File wasn't copied yet.\n",
    "    if (result == 0):\n",
    "        output11.clear_output()\n",
    "        with output11:\n",
    "            display(HTML(\"<span style='color: red;'>data.tar.gz is not found in your home directory.</span>\"))\n",
    "            step11Complete = False\n",
    "\n",
    "    # File is missing.\n",
    "    elif (result == 2):\n",
    "        output11.clear_output()\n",
    "        with output11:\n",
    "            display(HTML(\"<span style='color: red;'>One or more of the files in your tarball is missing.</span>\"))\n",
    "            step11Complete = False\n",
    "\n",
    "    # One of the lists is incorrect.\n",
    "    elif (result == 4):\n",
    "        output11.clear_output()\n",
    "        with output11:\n",
    "            display(HTML(\"<span style='color: red;'>list1.txt or list2.txt is incorrect.</span>\"))\n",
    "            step11Complete = False\n",
    "\n",
    "    # listdiff.txt is incorrect.\n",
    "    elif (result == 5):\n",
    "        output11.clear_output()\n",
    "        with output11:\n",
    "            display(HTML(\"<span style='color: red;'>listdiff.txt is incorrect.</span>\"))\n",
    "            step11Complete = False\n",
    "\n",
    "    # Files don't match.\n",
    "    elif (result == 6):\n",
    "        output11.clear_output()\n",
    "        with output11:\n",
    "            display(HTML(\"<span style='color: red;'>Your output.txt and output_copy.txt don't match.</span>\"))\n",
    "            step11Complete = False\n",
    "\n",
    "    # Error with output.txt.\n",
    "    elif (result == 7):\n",
    "        output11.clear_output()\n",
    "        with output11:\n",
    "            display(HTML(\"<span style='color: red;'>Your output.txt file is incorrect.</span>\"))\n",
    "            step11Complete = False\n",
    "\n",
    "    elif (result == 1):\n",
    "        output11.clear_output()\n",
    "        with output11:\n",
    "            display(HTML(\"<span style='color: green;'>Success! You may continue onto the next step.</span>\"))\n",
    "            step11Complete = True\n",
    "\n",
    "            command = \"ssh -i /home/umdsecXX/.ssh/merge_key umdsecXX@intro '[ -f ~/numbers.txt ] && [ \\\"$(wc -l < ~/numbers.txt)\\\" -eq 500 ] && exit 1 || exit 2'\"\n",
    "            answer = subprocess.run(command, shell=True)\n",
    "\n",
    "            # If the numbers.txt file is not made yet, then run the next command.\n",
    "            if (answer.returncode == 2):\n",
    "                command = \"ssh -i /home/umdsecXX/.ssh/merge_key umdsecXX@intro \\\"awk -v loop=500 -v range=1000 'BEGIN{srand(); do {numb = 1 + int(rand() * range); if (!(numb in prev)) {print numb; prev[numb] = 1; count++}} while (count<loop)}' > numbers.txt\\\"\"\n",
    "                subprocess.run(command, shell=True)\n",
    "\n",
    "def check_step_11(b):\n",
    "    step_11()\n",
    "\n",
    "    # Auto-save.\n",
    "    if (not runAllSteps):\n",
    "        trigger_save()\n",
    "\n",
    "# Creating the button.\n",
    "button = widgets.Button(description=\"Check Work\")\n",
    "\n",
    "# Creating an output area.\n",
    "output11 = widgets.Output()\n",
    "\n",
    "# Run the command on click.\n",
    "button.on_click(check_step_11)\n",
    "\n",
    "# Display the output.\n",
    "display(button, output11)"
   ]
  },
  {
   "cell_type": "markdown",
   "metadata": {},
   "source": [
    "### Step 12: Piping and Sorting Content\n",
    "\n",
    "Piping is using the output of a command as input into a second command. For example, using ```ls -l | grep \".txt\"``` takes the output from ```ls -l```, then runs ```grep \".txt\"``` on it. This returns the lines that contain ```.txt```.\n",
    "\n",
    "For this step, a text file was generated and called ```numbers.txt```. It's located in your home directory. Using piping, run the [<font color=\"blue\">sort</font>](https://www.geeksforgeeks.org/sort-command-linuxunix-examples/) command to sort the text file. Put this in a new text file called ```sortednumbers.txt```. \n",
    "\n",
    "It is required that you use ```grep``` for this step. You will need to type the command for completing this step in the text area below. This command will be ran in the same directory as the ```numbers.txt``` file.\n",
    "\n",
    "<u>Tips</u>: \n",
    "- Upon running the ```sort``` command, you will notice that your ```sortednumbers.txt``` file is not sorted numerically. It's sorted by leading characters. <u>You don't need to worry about sorting it numerically for this exercise.</u> If you would like to sort it numerically, you can use the ```-n``` tag.\n",
    "- Before submitting your answer, you're encouraged to try experimenting with ```sort``` on your ```intro``` node first. Once you feel like you have a command that works, you may input it below and see if your test passes.\n",
    "- Recall that you are not sorting ```numbers.txt``` itself. You are sorting the text file, then outputting it to ```sortednumbers.txt```.\n",
    "- If you need to reset the ```numbers.txt``` file, you can simply run the test without a command in the text entry.\n",
    "- Your command will be tested on a newly generated list of numbers. \n",
    "\n",
    "Answer: ```cat ~/numbers.txt | sort > sortednumbers.txt```"
   ]
  },
  {
   "cell_type": "code",
   "execution_count": 28,
   "metadata": {},
   "outputs": [
    {
     "data": {
      "application/vnd.jupyter.widget-view+json": {
       "model_id": "8d523dd951544c7d94c3f2ff9c51f079",
       "version_major": 2,
       "version_minor": 0
      },
      "text/plain": [
       "Text(value='', description='Command:', layout=Layout(width='500px'), placeholder='Type a command here')"
      ]
     },
     "metadata": {},
     "output_type": "display_data"
    },
    {
     "data": {
      "application/vnd.jupyter.widget-view+json": {
       "model_id": "b98062feff22474a8c2a26b39055dfac",
       "version_major": 2,
       "version_minor": 0
      },
      "text/plain": [
       "Button(description='Run Command', style=ButtonStyle())"
      ]
     },
     "metadata": {},
     "output_type": "display_data"
    },
    {
     "data": {
      "application/vnd.jupyter.widget-view+json": {
       "model_id": "75bb4f3b00f04790b767df0ba4527e23",
       "version_major": 2,
       "version_minor": 0
      },
      "text/plain": [
       "Output()"
      ]
     },
     "metadata": {},
     "output_type": "display_data"
    }
   ],
   "source": [
    "# Click the button below to check your work.\n",
    "step12Complete = False\n",
    "\n",
    "# Function to check if the folder exists\n",
    "def step_12():\n",
    "    # Required to change boolean values.\n",
    "    global step12Complete\n",
    "\n",
    "    # Loading, in case the check is slow.\n",
    "    with output12:\n",
    "        output12.clear_output()\n",
    "        display(HTML(\"<span><img width='12px' height='12px' style='margin-left: 3px;' src='resources/loading.gif'></span>\"))\n",
    "\n",
    "    # First, regenerate the numbers.txt file.\n",
    "    command = \"ssh -i /home/umdsecXX/.ssh/merge_key umdsecXX@intro \\\"awk -v loop=500 -v range=1000 'BEGIN{srand(); do {numb = 1 + int(rand() * range); if (!(numb in prev)) {print numb; prev[numb] = 1; count++}} while (count<loop)}' > numbers.txt\\\"\"\n",
    "    subprocess.run(command, shell=True)\n",
    "\n",
    "    # Second, check if the input is blank. If it is, do not do anything.\n",
    "    if (userInput.value == \"\"):\n",
    "        with output12:\n",
    "            output12.clear_output()\n",
    "            display(HTML(\"<span>numbers.txt has been reset.</span>\"))\n",
    "\n",
    "    # Otherwise, send the input to the home directory.\n",
    "    else:\n",
    "        # Next, make sure the command contains a pipe, does not have a comment, and contains sortedlists.txt.\n",
    "        pattern = r'^(?=.*\\|)(?!.*#)(?=.*\\bsortednumbers\\.txt\\b).+$'\n",
    "        if re.match(pattern, userInput.value):\n",
    "            # Finally, run the command if everything looks good.\n",
    "            subprocess.run('ssh -i /home/umdsecXX/.ssh/merge_key umdsecXX@intro \"' + userInput.value + '\"', shell=True)\n",
    "        \n",
    "            result = subprocess.run('ssh -i /home/umdsecXX/.ssh/merge_key umdsecXX@intro /home/.checker/step12.py', shell=True)\n",
    "        \n",
    "            # File wasn't copied yet. Might not happen because it gets checked in the regular expression.\n",
    "            if (result.returncode == 0):\n",
    "                output12.clear_output()\n",
    "                with output12:\n",
    "                    display(HTML(\"<span style='color: red;'>sortednumbers.txt was not found in your home directory.</span>\"))\n",
    "                    step12Complete = False\n",
    "        \n",
    "            elif (result.returncode == 2):\n",
    "                output12.clear_output()\n",
    "                with output12:\n",
    "                    display(HTML(\"<span style='color: red;'>Your sortednumbers.txt file is incorrect.</span>\"))\n",
    "                    step12Complete = False\n",
    "        \n",
    "            elif (result.returncode == 1):\n",
    "                output12.clear_output()\n",
    "                with output12:\n",
    "                    display(HTML(\"<span style='color: green;'>Success! You may continue onto the next step.</span>\"))\n",
    "                    step12Complete = True\n",
    "        \n",
    "                subprocess.run('ssh -i /home/umdsecXX/.ssh/merge_key umdsecXX@intro \"echo \\'echo Congrats! You finished the lab!\\' > message.sh\"', shell=True)\n",
    "\n",
    "        else:\n",
    "            output12.clear_output()\n",
    "            with output12:\n",
    "                display(HTML(\"<span style='color: red;'>Check to make sure that you are using a pipe, do not have comments, and ensure that sortednumbers.txt is in your command.</span>\"))\n",
    "                step12Complete = False\n",
    "    \n",
    "    # Auto-save.\n",
    "    if (not runAllSteps):\n",
    "        trigger_save()\n",
    "\n",
    "def check_step_12(b):\n",
    "    step_12()\n",
    "\n",
    "# Creating a text area.\n",
    "userInput = widgets.Text(\n",
    "    placeholder='Type a command here',\n",
    "    description='Command:',\n",
    "    layout=widgets.Layout(width='500px')\n",
    ")\n",
    "\n",
    "# Creating the button.\n",
    "button = widgets.Button(description=\"Run Command\")\n",
    "\n",
    "# Creating an output area.\n",
    "output12 = widgets.Output()\n",
    "\n",
    "# Run the command on click.\n",
    "button.on_click(check_step_12)\n",
    "\n",
    "# Display the output.\n",
    "display(userInput, button, output12)"
   ]
  },
  {
   "cell_type": "markdown",
   "metadata": {},
   "source": [
    "### Step 13: Executing Files\n",
    "\n",
    "Navigate to your home directory. A new file was generated and is called ```message.sh```. You'll want to execute the file for this step. However, the permissions need to be changed. You have already learned how to change permissions in Step 2, so change the permissions so that \"user\" gets executable permissions. Again, use [<font color=\"blue\">this</font>](https://www.freecodecamp.org/news/file-permissions-in-linux-chmod-command-explained/) command to make a file executable.\n",
    "\n",
    "You may follow [<font color=\"blue\">this guide</font>](https://www.freecodecamp.org/news/linux-chmod-chown-change-file-permissions/)  to change the permissions so that it's executable. To execute the file, use: ```./filename``` while in the same directory as the file.\n",
    "\n",
    "POSIX permissions is the focus of the next lab. You will learn more about what these commands will do in the near future. In case you are interested on learning more about POSIX permissions, you may read [<font color=\"blue\">this article</font>](http://learn.leighcotnoir.com/wp-content/uploads/2016/08/POSIX-file-permissions.pdf). "
   ]
  },
  {
   "cell_type": "code",
   "execution_count": 16,
   "metadata": {},
   "outputs": [
    {
     "data": {
      "application/vnd.jupyter.widget-view+json": {
       "model_id": "e09fd5b32ab34b8cb711e715e41eedd2",
       "version_major": 2,
       "version_minor": 0
      },
      "text/plain": [
       "Button(description='Check File', style=ButtonStyle())"
      ]
     },
     "metadata": {},
     "output_type": "display_data"
    },
    {
     "data": {
      "application/vnd.jupyter.widget-view+json": {
       "model_id": "adfcbdc3dfdb4b21a11809701221e2d4",
       "version_major": 2,
       "version_minor": 0
      },
      "text/plain": [
       "Output()"
      ]
     },
     "metadata": {},
     "output_type": "display_data"
    }
   ],
   "source": [
    "# Click the button below to check your work.\n",
    "step13Complete = False\n",
    "\n",
    "# Function to check if the folder exists\n",
    "def step_13():\n",
    "    # Required to change boolean values.\n",
    "    global step12Complete, step13Complete\n",
    "\n",
    "    # Loading, in case the check is slow.\n",
    "    with output13:\n",
    "        output13.clear_output()\n",
    "        display(HTML(\"<span><img width='12px' height='12px' style='margin-left: 3px;' src='resources/loading.gif'></span>\"))\n",
    "    \n",
    "    result = subprocess.run('ssh -i /home/umdsecXX/.ssh/merge_key umdsecXX@intro /home/.checker/step13.py', shell=True)\n",
    "\n",
    "    # Step 12 wasn't done yet, so it doesn't exist.\n",
    "    if (not step12Complete):\n",
    "        output13.clear_output()\n",
    "        with output13:\n",
    "            display(HTML(\"<span style='color: red;'>You did not complete Step 12 yet.</span>\"))\n",
    "            step13Complete = False\n",
    "    # File wasn't copied yet.\n",
    "    if (result.returncode == 0):\n",
    "        output13.clear_output()\n",
    "        with output13:\n",
    "            display(HTML(\"<span style='color: red;'>message.sh was not created correctly. Please consult your professor/TA.</span>\"))\n",
    "            step13Complete = False\n",
    "\n",
    "    elif (result.returncode == 2):\n",
    "        output13.clear_output()\n",
    "        with output13:\n",
    "            display(HTML(\"<span style='color: red;'>Your file isn't executable. Ensure that the user has executable permissions.</span>\"))\n",
    "            step13Complete = False\n",
    "\n",
    "    elif (result.returncode == 1):\n",
    "        output13.clear_output()\n",
    "        with output13:\n",
    "            display(HTML(\"<span style='color: green;'>Success! You may continue onto the next step.</span>\"))\n",
    "            step13Complete = True\n",
    "\n",
    "def check_step_13(b):\n",
    "    step_13()\n",
    "\n",
    "    # Auto-save.\n",
    "    if (not runAllSteps):\n",
    "        trigger_save()\n",
    "\n",
    "# Creating the button.\n",
    "button = widgets.Button(description=\"Check File\")\n",
    "\n",
    "# Creating an output area.\n",
    "output13 = widgets.Output()\n",
    "\n",
    "# Run the command on click.\n",
    "button.on_click(check_step_13)\n",
    "\n",
    "# Display the output.\n",
    "display(button, output13)"
   ]
  },
  {
   "cell_type": "markdown",
   "metadata": {},
   "source": [
    "## Grading\n",
    "\n",
    "To check your overall grade, click on the button below.\n",
    "\n",
    "*Disclaimer:* The notebook's grading system can be easily changed. However, it's important to consider that <strong>your submission will be ran on an original copy of this notebook</strong>. If you tinkered any of the input cells to pass a step, you will not get full credit."
   ]
  },
  {
   "cell_type": "code",
   "execution_count": 17,
   "metadata": {
    "tags": [
     "grade"
    ]
   },
   "outputs": [
    {
     "data": {
      "application/vnd.jupyter.widget-view+json": {
       "model_id": "ff011240e3474404b7de61c3a9677f55",
       "version_major": 2,
       "version_minor": 0
      },
      "text/plain": [
       "Button(description='Calculate Grade', style=ButtonStyle())"
      ]
     },
     "metadata": {},
     "output_type": "display_data"
    },
    {
     "data": {
      "application/vnd.jupyter.widget-view+json": {
       "model_id": "8d99bfb09270426e9bc2ce980dd8823c",
       "version_major": 2,
       "version_minor": 0
      },
      "text/plain": [
       "Output()"
      ]
     },
     "metadata": {},
     "output_type": "display_data"
    }
   ],
   "source": [
    "# Click the button below to check your overall grade.\n",
    "steps_to_check = [step_1, step_2, step_3, step_4, step_5, step_6, step_7, step_8, step_9, step_10, step_11, step_12, step_13]   \n",
    "\n",
    "# Function to calculate grade after refreshing the cell\n",
    "def calculate_grade(b):\n",
    "    # To not auto-save at each step.\n",
    "    runAllSteps = True\n",
    "\n",
    "    with gradeOutput:\n",
    "        gradeOutput.clear_output()\n",
    "        display(HTML(\"<span>Testing all steps. Please wait.</span> \\\n",
    "            <span><img width='12px' height='12px' style='margin-left: 3px;' src='resources/loading.gif'></span>\"))\n",
    "    \n",
    "    # Required for checking the boolean values.\n",
    "    # global step1Complete, step2Complete, step3Complete\n",
    "    for func in steps_to_check:\n",
    "        func()  # Call each function in order\n",
    "\n",
    "    # Assuming steps are updated above this cell in some way\n",
    "    steps = [step1Complete, step2Complete, step3Complete, step4Complete, step5Complete, step6Complete, step7Complete, step8Complete, step9Complete, step10Complete, step11Complete, step12Complete, step13Complete]\n",
    "    output = \"\"\n",
    "    stepsCorrect = 0\n",
    "    numOfSteps = len(steps)\n",
    "\n",
    "    for i in range(numOfSteps):\n",
    "        if steps[i]:\n",
    "            stepsCorrect += 1\n",
    "            output += \"<div style='color: green;'>Step \" + str(i + 1) + \" is complete.</div>\"\n",
    "        else:\n",
    "            output += \"<div style='color: red;'>Step \" + str(i + 1) + \" is incomplete.</div>\"\n",
    "\n",
    "    output += \"<div style='color: black;'>You have \" + str(stepsCorrect) + \" out of \" + str(numOfSteps) + \" steps completed.</div>\"\n",
    "\n",
    "    with gradeOutput:\n",
    "        gradeOutput.clear_output()\n",
    "        display(HTML(output))\n",
    "\n",
    "    # Auto-save at the very end.\n",
    "    runAllSteps = False\n",
    "    # Auto-save.\n",
    "    if (not runAllSteps):\n",
    "        trigger_save()\n",
    "\n",
    "# Create a button to refresh the cell and another to calculate grade\n",
    "grade_button = widgets.Button(description=\"Calculate Grade\")\n",
    "\n",
    "# Link buttons to functions\n",
    "grade_button.on_click(calculate_grade)\n",
    "\n",
    "# Output area\n",
    "gradeOutput = widgets.Output()\n",
    "\n",
    "# Display the buttons and output\n",
    "display(grade_button, gradeOutput)"
   ]
  },
  {
   "cell_type": "markdown",
   "metadata": {},
   "source": [
    "## Stopping the Lab\n",
    "\n",
    "Once you are done with the lab, click on the \"Stop Lab\" button below. <strong>This will delete your materialization, which will delete all of the lab's resources.</strong> Your progress is saved automatically in ```~/notebooks/submissions```. This folder is stored on your XDC, and will not be deleted upon stopping the lab."
   ]
  },
  {
   "cell_type": "code",
   "execution_count": 18,
   "metadata": {},
   "outputs": [
    {
     "data": {
      "application/vnd.jupyter.widget-view+json": {
       "model_id": "a21a525548b14d53b9cbc03a0d044cb5",
       "version_major": 2,
       "version_minor": 0
      },
      "text/plain": [
       "Checkbox(value=False, description='Confirm', indent=False)"
      ]
     },
     "metadata": {},
     "output_type": "display_data"
    },
    {
     "data": {
      "application/vnd.jupyter.widget-view+json": {
       "model_id": "7f22f5c9448440dbb6d0e85204ac3bce",
       "version_major": 2,
       "version_minor": 0
      },
      "text/plain": [
       "Button(description='Stop Lab', style=ButtonStyle())"
      ]
     },
     "metadata": {},
     "output_type": "display_data"
    },
    {
     "data": {
      "application/vnd.jupyter.widget-view+json": {
       "model_id": "0b1bd2a408c34a62aee59f95518cdc2e",
       "version_major": 2,
       "version_minor": 0
      },
      "text/plain": [
       "Output()"
      ]
     },
     "metadata": {},
     "output_type": "display_data"
    }
   ],
   "source": [
    "# Click the button below to stop the experiment.\n",
    "def stoplab(button):\n",
    "    # Check to make sure that the student wants to confirm ending the lab.\n",
    "    if (confirm.value == False):\n",
    "        with stop_output:\n",
    "            stop_output.clear_output()\n",
    "            display(HTML(\"<newline><span style='color: red;'>Please confirm that you wish to end the lab.</span>\"))\n",
    "\n",
    "    else:\n",
    "        # Defining the lab name.\n",
    "        labname = \"intro\"\n",
    "    \n",
    "        # Writing the information to an empty field below the button.\n",
    "        with stop_output:\n",
    "            stop_output.clear_output()\n",
    "            \n",
    "            display(HTML(\"<span>Stopping the \" + labname + \" lab. This will take a minute to process. Please wait.</span> \\\n",
    "                <span><img width='12px' height='12px' style='margin-left: 3px;' src='resources/loading.gif'></span>\"))\n",
    "            stopexp = subprocess.run('su - umdsecXX -c \"bash /share/stopexp ' + labname + '\"', capture_output=True, text=True, shell=True)\n",
    "            stop_output.clear_output()\n",
    "            display(HTML(\"<span>Done. Result:</span>\"))\n",
    "            print(stopexp.stdout)\n",
    "    \n",
    "            display(HTML(\"<newline><span style='color: green;'><strong>Your lab has been ended.</strong></span>\"))\n",
    "\n",
    "# Creating the button.\n",
    "stopButton = widgets.Button(description=\"Stop Lab\")\n",
    "\n",
    "# Create a confirmation check.\n",
    "confirm = widgets.Checkbox(\n",
    "    value=False,\n",
    "    description='Confirm',\n",
    "    disabled=False,\n",
    "    indent=False\n",
    ")\n",
    "\n",
    "# Creating an output area.\n",
    "stop_output = widgets.Output()\n",
    "\n",
    "# Run the command on click.\n",
    "stopButton.on_click(stoplab)\n",
    "\n",
    "# Display the output.\n",
    "display(confirm, stopButton, stop_output)"
   ]
  }
 ],
 "metadata": {
  "kernelspec": {
   "display_name": "Python 3 (ipykernel)",
   "language": "python",
   "name": "python3"
  },
  "language_info": {
   "codemirror_mode": {
    "name": "ipython",
    "version": 3
   },
   "file_extension": ".py",
   "mimetype": "text/x-python",
   "name": "python",
   "nbconvert_exporter": "python",
   "pygments_lexer": "ipython3",
   "version": "3.10.12"
  }
 },
 "nbformat": 4,
 "nbformat_minor": 4
}
