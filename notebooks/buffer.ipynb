{
 "cells": [
  {
   "cell_type": "markdown",
   "metadata": {
    "deletable": false,
    "editable": false,
    "slideshow": {
     "slide_type": ""
    },
    "tags": []
   },
   "source": [
    "# <strong>Buffer Overflow</strong>\n",
    "\n",
    "A buffer overflow is a vulnerability that occurs in programs that handle memory in an unsafe manner. Buffer overflow attacks are commonly associated with C, C++, and assembly languages, which allow direct memory management and pointer arithmetic. Programming languages that permit manual memory allocation are susceptible to this type of attack. Buffer overflows can also happen unintentionally due to programming errors, without any malicious intent. Before learning about this vulnerability, it is important to review the architecture of a computer to understand how memory is managed and how buffer overflows can affect program execution.\n",
    "\n",
    "First, examine this diagram, which is called the Process Address Space:\n",
    "\n",
    "<figure><center><img src=\"resources/buffer/buffer_overflow_diagram.png\" style=\"width: 20%; height: 10%;\"></img></center></figure>\n",
    "\n",
    "These are the parts of the Process Address Space:\n",
    "- The <strong>kernel code</strong> is the communication between the process and the hardware. Like the code block at the bottom of the address space, it does not change when it's running.\n",
    "- The <strong>stack</strong> is memory that is <u>automatically</u> allocated while code is executing. The stack contains temporary variables that the program uses, and is often freed when the value is returned.\n",
    "  - The stack is the \"scratch pad\" for the program.\n",
    "  - Stacks and heaps share the same unallocated memory. There is no reserved amount of free storage that are specific to just the stack or the heap.\n",
    "- The <strong>heap</strong> is memory that is <u>dynamically</u> allocated while code is executing. This memory is allocated when a pointer is created. When pointers are freed from memory, the heap shrinks.\n",
    "  - To remember this: Think of a heap of dirt. When dirt (memory) is added, it grows up in size. Similar to how memory is allocated in the process address space.\n",
    "- Your program's <strong>code</strong> lies at the bottom of this space. This part of the space doesn't get modified when the process is running.\n",
    "  - Constant variables never change, so they lay within the code portion of the address space.\n",
    " \n",
    "It can be confusing to understand why the stack and the heap are separate in the address space. The stack changes much quicker since different functions will clear the stack whenever it's complete, but the heap will need to keep the data for being the function's call. If you would like to read more about why these two types of memory are separate in the address space, check out <a href=\"https://stackoverflow.com/questions/8173353/why-is-memory-split-up-into-stack-and-heap\">this Stack Overflow thread</a>.\n",
    "\n",
    "<u>When variables on the stack or the heap grow too much without memory constraints, they will override important addresses that the program will depend on.</u> This is a buffer overflow. A buffer is the amount of space that a variable is allocated, but an overflow is when the buffer exceeds the amount of space that it was allocated.\n",
    "\n",
    "<strong>This lab will contain four topics, and you will learn the following:</strong>\n",
    "\n",
    "1. Introduction/Review of C\n",
    "2. Breaking Unsafe C Functions\n",
    "3. Fixing Unsafe C Functions\n",
    "4. A Large-Scale Buffer Overflow Attack"
   ]
  },
  {
   "cell_type": "code",
   "execution_count": 1,
   "metadata": {
    "deletable": false,
    "editable": false,
    "jupyter": {
     "source_hidden": true
    },
    "jupyterlab-hide-cells:hidden": true,
    "slideshow": {
     "slide_type": ""
    },
    "tags": []
   },
   "outputs": [],
   "source": [
    "# Setting up the lab.\n",
    "import ipywidgets as widgets\n",
    "from IPython.display import display, HTML, Javascript\n",
    "from IPython.core.magic import register_line_magic\n",
    "import os\n",
    "# For accessing the nodes:\n",
    "import subprocess\n",
    "# For the stopexp command:\n",
    "import re\n",
    "import shlex\n",
    "\n",
    "# When true, it will not auto-save at each step.\n",
    "runAllSteps = False\n",
    "\n",
    "###### Used for saving notebooks. ######\n",
    "import threading\n",
    "# Threading required in case steps are progressed too quickly.\n",
    "save_lock = threading.Lock()\n",
    "\n",
    "# The save function itself.\n",
    "def save_notebook():\n",
    "    with save_lock:\n",
    "        result = subprocess.run('su - USERNAME_GOES_HERE -c \"/home/USERNAME_GOES_HERE/resources/save.py buffer\"', shell=True, capture_output=True, text=True)\n",
    "\n",
    "# Creating a thread to save the notebook.\n",
    "def trigger_save(question, response, answer=\"\"):\n",
    "    save_thread = threading.Thread(target=save_notebook)\n",
    "    save_thread.start()\n",
    "    \n",
    "    command = (f'su - USERNAME_GOES_HERE -c \"/home/.education/grader.py B {question} {response}\"' \n",
    "               if answer == \"\" \n",
    "               else f'su - USERNAME_GOES_HERE -c \"/home/.education/grader.py B {question} {response} \\\\\"{answer}\\\\\"\"')\n",
    "    \n",
    "    result = subprocess.run(command, shell=True, capture_output=True, text=True)\n",
    "\n",
    "###### Used for loading notebooks. ######\n",
    "import queue\n",
    "\n",
    "load_lock = threading.Lock()\n",
    "result_queue = queue.Queue()\n",
    "\n",
    "# This variable is used to warn students if they haven't loaded a save yet.\n",
    "def warn_student():\n",
    "    if (os.path.exists(\"/home/USERNAME_GOES_HERE/saves/.buffer_warning\")):\n",
    "        os.remove(\"/home/USERNAME_GOES_HERE/saves/.buffer_warning\")\n",
    "        return True\n",
    "\n",
    "def load_notebook():\n",
    "    with load_lock:\n",
    "        result = subprocess.run('su - USERNAME_GOES_HERE -c \"/home/USERNAME_GOES_HERE/resources/load.py buffer\"', shell=True, capture_output=True, text=True)\n",
    "        result_queue.put(result)  # Put the result in the queue.\n",
    "\n",
    "# Creating a thread to load the notebook.\n",
    "def trigger_load():\n",
    "    load_thread = threading.Thread(target=load_notebook)\n",
    "    load_thread.start()\n",
    "    load_thread.join()  # Wait for the thread to complete before adding result to the queue.\n",
    "    return result_queue.get()  # Get the result from the queue."
   ]
  },
  {
   "cell_type": "markdown",
   "metadata": {
    "deletable": false,
    "editable": false,
    "slideshow": {
     "slide_type": ""
    },
    "tags": []
   },
   "source": [
    "### Step 0: Starting the Lab\n",
    "\n",
    "Click the button to begin creating the experiment.\n",
    "\n",
    "<strong>Note:</strong> If your buttons are not displaying, click on the <img width='20px' height='20px' style='margin-left: 1px;' src='resources/fast_forward.png'> icon at the top of your notebook to render all widgets."
   ]
  },
  {
   "cell_type": "code",
   "execution_count": 2,
   "metadata": {
    "deletable": false,
    "editable": false,
    "jupyter": {
     "source_hidden": true
    },
    "slideshow": {
     "slide_type": ""
    },
    "tags": []
   },
   "outputs": [
    {
     "data": {
      "application/vnd.jupyter.widget-view+json": {
       "model_id": "d241d37b78ab4562a3109db7a868eb2f",
       "version_major": 2,
       "version_minor": 0
      },
      "text/plain": [
       "Button(description='Start Lab', style=ButtonStyle())"
      ]
     },
     "metadata": {},
     "output_type": "display_data"
    },
    {
     "data": {
      "application/vnd.jupyter.widget-view+json": {
       "model_id": "306b35a0c42a4bff94434422945cbeb5",
       "version_major": 2,
       "version_minor": 0
      },
      "text/plain": [
       "Output()"
      ]
     },
     "metadata": {},
     "output_type": "display_data"
    }
   ],
   "source": [
    "# Click the button below to start the experiment.\n",
    "import time\n",
    "\n",
    "def check_autosave():\n",
    "    # Check if the student has an autosave.\n",
    "    if os.path.exists(\"/home/USERNAME_GOES_HERE/saves/USERNAME_GOES_HERE_buffer.tar.gz\"):\n",
    "        # Create a hidden file that will serve as a \"boolean\" for later.\n",
    "        subprocess.run(\"touch /home/USERNAME_GOES_HERE/saves/.buffer_warning\", shell=True)\n",
    "\n",
    "def startlab(button):\n",
    "    # Defining the lab name.\n",
    "    labname = \"buffer\"\n",
    "\n",
    "    # Writing the information to an empty field below the button.\n",
    "    with output0:\n",
    "        # Fixes a strange error that happens only occasionally.\n",
    "        os.chdir(\"/home/USERNAME_GOES_HERE\")\n",
    "        output0.clear_output()\n",
    "\n",
    "        # First, checking if the materialization exists. May have been stopped by a previous lab.\n",
    "        materialPattern = \"real.\" + labname + \"jup.USERNAME_GOES_HERE\"\n",
    "\n",
    "        # Listing the materializations to find if there's an existing one for this lab.\n",
    "        checkMaterial = os.popen('su - USERNAME_GOES_HERE -c \"mrg list materializations\"').read()\n",
    "        regex = re.compile(materialPattern)\n",
    "        # Getting the matches:\n",
    "        match = regex.search(checkMaterial)\n",
    "\n",
    "        if match:\n",
    "            display(HTML(\"<span style='color: orange;'>An existing activation for this lab already exists. </span><span>You might have run another \\\n",
    "            lab without stopping this one. Attaching the existing activation...</span>\"))\n",
    "\n",
    "            # Detaching it and re-attaching.\n",
    "            subprocess.run('su - USERNAME_GOES_HERE -c \"mrg xdc detach xdc.USERNAME_GOES_HERE\"', shell=True, check=True)\n",
    "            subprocess.run('su - USERNAME_GOES_HERE -c \"mrg xdc attach xdc.USERNAME_GOES_HERE real.' + labname + 'jup.USERNAME_GOES_HERE\"', capture_output=True, text=True, shell=True, check=True)\n",
    "            display(HTML(\"<span>Re-running the installation... </span><span><img width='12px' height='12px' style='margin-left: 3px;' src='resources/loading.gif'></span>\"))\n",
    "\n",
    "            # Check if the student has an autosave.\n",
    "            check_autosave()\n",
    "            \n",
    "            # Re-running the installation script.\n",
    "            subprocess.run('su - USERNAME_GOES_HERE -c \"bash /home/runlab ' + labname + 'jup\"', capture_output=True, text=True, shell=True, check=True)\n",
    "            output0.clear_output()\n",
    "            display(HTML(\"<newline><span style='color: green;'><strong>Your lab has been re-installed. </strong></span>\" \\\n",
    "                         \"<span>When you're finished, close your lab at the bottom of the notebook.</span>\"))\n",
    "        \n",
    "        else:\n",
    "            display(HTML(\"<span>No existing activations are found.</span>\"))\n",
    "\n",
    "            # Second, start the lab.\n",
    "            display(HTML(\"<span>Starting the \" + labname + \" lab. This will take a few minutes to process. Please wait.</span> \\\n",
    "            <span><img width='12px' height='12px' style='margin-left: 3px;' src='resources/loading.gif'></span>\"))\n",
    "            try:\n",
    "                startexp = subprocess.run('su - USERNAME_GOES_HERE -c \"bash /home/startexp ' + labname + 'jup\"', capture_output=True, text=True, shell=True, check=True)\n",
    "            except:\n",
    "                output0.clear_output()\n",
    "                display(HTML(\"<span style='color: red;'>There was an error starting your experiment. Make sure your password is written inside of ~/pass.txt, and try again.</span>\"))\n",
    "                return\n",
    "            \n",
    "            print(startexp.stdout, flush=True)\n",
    "            output0.clear_output()\n",
    "            display(HTML(\"<span>Done. Result:</span>\"))\n",
    "            print(startexp.stdout, flush=True)\n",
    "\n",
    "            # Another lab is already attached to the XDC.\n",
    "            if (\"XDC already attached\" in startexp.stdout):\n",
    "                existingLab = re.search(r\"real.(.*).USERNAME_GOES_HERE\", startexp.stdout).group(1)\n",
    "\n",
    "                # Shouldn't happen.\n",
    "                if labname == existingLab:\n",
    "                    display(HTML(\"<span style='color: red;'>Your lab was already started. </span><span>Please continue to the next step.</span>\"))\n",
    "\n",
    "                # Detaching the existing lab, then attaching the current one.\n",
    "                else:\n",
    "                    display(HTML(\"<span style='color: orange;'>Warning: You did not stop your previous experiment. </span><span>Please stop your experiments \\\n",
    "                    before starting a new one. Detaching the \" + existingLab + \" experiment.</span>\"))\n",
    "                    subprocess.run('su - USERNAME_GOES_HERE -c \"mrg xdc detach xdc.USERNAME_GOES_HERE\"', shell=True, check=True)\n",
    "                    display(HTML(\"<span>Attaching the current lab.</span>\"))\n",
    "                    subprocess.run('su - USERNAME_GOES_HERE -c \"mrg xdc attach xdc ' + materialPattern + '\"', shell=True, check=True)\n",
    "    \n",
    "            # Third, get the lab materials onto the node.\n",
    "            display(HTML(\"<span>Allocating lab resources onto the node. <u>Please wait a little longer...</u></span>\"))\n",
    "\n",
    "            # Gives the notebook a couple seconds so that it will recognize the node(s).\n",
    "            time.sleep(2)\n",
    "\n",
    "            # Move the resources over.\n",
    "            runlab = subprocess.run(\n",
    "                'su - USERNAME_GOES_HERE -c \"bash /home/runlab ' + labname + 'jup\"',\n",
    "                capture_output=True, text=True, shell=True\n",
    "            )\n",
    "\n",
    "            # Check if the student has an autosave.\n",
    "            check_autosave()\n",
    "\n",
    "            # Complete. Inform the student.\n",
    "            display(HTML(\"<newline><span style='color: green;'><strong>Setup complete. You may begin the lab! </strong></span>\" \\\n",
    "                         \"<span>When you're finished, close your lab at the bottom of the notebook. Your lab will be active for one week.</span>\"))\n",
    "\n",
    "\n",
    "# Creating the button.\n",
    "startButton = widgets.Button(description=\"Start Lab\")\n",
    "\n",
    "# Creating an output area.\n",
    "output0 = widgets.Output()\n",
    "\n",
    "# Run the command on click.\n",
    "startButton.on_click(startlab)\n",
    "\n",
    "# Display the output.\n",
    "display(startButton, output0)"
   ]
  },
  {
   "cell_type": "markdown",
   "metadata": {
    "deletable": false,
    "editable": false,
    "slideshow": {
     "slide_type": ""
    },
    "tags": []
   },
   "source": [
    "<hr>"
   ]
  },
  {
   "cell_type": "markdown",
   "metadata": {
    "deletable": false,
    "editable": false,
    "slideshow": {
     "slide_type": ""
    },
    "tags": []
   },
   "source": [
    "If you previously stopped your lab, you may restore your progress below by clicking \"Load Lab\". <u>You do not have to load your lab if you signed out, closed your notebook, or exited your node(s) or XDC by using ```exit```.</u>"
   ]
  },
  {
   "cell_type": "code",
   "execution_count": 3,
   "metadata": {
    "deletable": false,
    "editable": false,
    "jupyter": {
     "source_hidden": true
    },
    "slideshow": {
     "slide_type": ""
    },
    "tags": []
   },
   "outputs": [
    {
     "data": {
      "application/vnd.jupyter.widget-view+json": {
       "model_id": "fad4e2885a114f66a119f78bad018fd2",
       "version_major": 2,
       "version_minor": 0
      },
      "text/plain": [
       "Button(description='Load Lab', style=ButtonStyle())"
      ]
     },
     "metadata": {},
     "output_type": "display_data"
    },
    {
     "data": {
      "application/vnd.jupyter.widget-view+json": {
       "model_id": "c4f12d36e1d7432b8226f8f5d4c6dab7",
       "version_major": 2,
       "version_minor": 0
      },
      "text/plain": [
       "Output()"
      ]
     },
     "metadata": {},
     "output_type": "display_data"
    }
   ],
   "source": [
    "# Click the button below to load your lab.\n",
    "def loadlab(b):\n",
    "    with output0_2:\n",
    "        output0_2.clear_output()\n",
    "        display(HTML(\"<span>Searching for an existing lab in your notebook...</span>\"))\n",
    "\n",
    "    if (os.path.exists(\"/home/USERNAME_GOES_HERE/saves/USERNAME_GOES_HERE_buffer.tar.gz\")):\n",
    "        with output0_2:\n",
    "            output0_2.clear_output()\n",
    "            display(HTML(\"<span>Loading your lab...</span> \\\n",
    "                <span><img width='12px' height='12px' style='margin-left: 3px;' src='resources/loading.gif'></span>\"))\n",
    "            result = trigger_load()\n",
    "            if (result.returncode == 1):\n",
    "                output0_2.clear_output()\n",
    "                display(HTML(\"<span style='color: green;'>Your lab has been successfully loaded. Please click on the <img width='20px' height='20px' style='margin-left: 1px;' src='resources/fast_forward.png'> icon at the top of your notebook to reflect your changes.</span>\"))\n",
    "            elif (result.returncode == 2):\n",
    "                output0_2.clear_output()\n",
    "                display(HTML(\"<span style='color: red;'>The buffer node is inaccessible. Please start your lab. If you have already started it, wait a minute and try again.</span>\"))\n",
    "            else:\n",
    "                output0_2.clear_output()\n",
    "                display(HTML(\"<span style='color: red;'>An error occurred while loading your lab.</span>\"))\n",
    "\n",
    "# Creating the button.\n",
    "loadButton = widgets.Button(description=\"Load Lab\")\n",
    "\n",
    "# Creating an output area.\n",
    "output0_2 = widgets.Output()\n",
    "\n",
    "# Run the command on click.\n",
    "loadButton.on_click(loadlab)\n",
    "\n",
    "# Display the output.\n",
    "display(loadButton, output0_2)"
   ]
  },
  {
   "cell_type": "markdown",
   "metadata": {
    "deletable": false,
    "editable": false,
    "slideshow": {
     "slide_type": ""
    },
    "tags": []
   },
   "source": [
    "## <strong>Topic 1: Introduction/Review of C</strong>\n",
    "\n",
    "C is a programming language created over 50 years ago, which was designed to be very fast and efficient. Unfortunately, C can also be a learning curve for students when learning how to program, which can make programs unsafe if students are unfamiliar with unsafe functions. Despite C being an old programming language, it's still useful for modern applications, since there are many benefits that C can provide developers. C is sometimes preferred over C++ because it's quicker, more foundational, and is more portable, meaning that it doesn't contain as many features as C++ when it comes to object-oriented design.\n",
    "\n",
    "C (and C++) is known to be a \"middle-level\" language, rather than a \"high-level\" language. High-level languages are designed to be more human readable, easier to learn, and include lots of built-in libraries to keep code clean, and to reuse what's pre-implemented into the language.\n",
    "\n",
    "Since C is a middle-level language, this means that it sits between a high-level language and a low-level language (assembly/binary). This means that C provides a mix of being both human readable, and it allows more control of your hardware, which is why pointers are used in C and C++. High-level languages perform these tasks automatically for you, and do not let you manage low-leveled details.\n",
    "\n",
    "C sacrifices security to provide more control over hardware and can run much faster than high-leveled languages because it doesn't focus on preliminary checks. C does not check for memory leaks, garbage collection, array index restrictions, uninitialized variables, and a few more. This is to make the language run as fast as possible."
   ]
  },
  {
   "cell_type": "markdown",
   "metadata": {
    "deletable": false,
    "editable": false,
    "slideshow": {
     "slide_type": ""
    },
    "tags": []
   },
   "source": [
    "### Step 1: Create a Basic C Program (Part 1)\n",
    "\n",
    "C programs can easily be written in a Unix environment, but C is <strong>not</strong> an interpreted language, meaning that it does not need to be converted into machine code first in order to be executed. Languages like Python and JavaScript are interpreted, meaning that you do not need to explicitly compile them before running them. However, C is a compiler language, which means that you will need to build them before they can be ran. If you would like to learn more about the differences between interpreted and compiled languages, you may read <a href=\"https://www.freecodecamp.org/news/compiled-versus-interpreted-languages/\">this article</a>.\n",
    "\n",
    "The most common compiler that developers use for C is ```gcc```, which stands for GNU Compiler Collection. This compiler is already installed on the ```buffer``` node for you, which you will use for this lab.\n",
    "\n",
    "When working with input and output of a C program, C uses the ```stdio.h``` library, which stands for \"STanDard Input Output\" (stdio). A basic C file looks like this:\n",
    "\n",
    "```\n",
    "#include <stdio.h>\n",
    "\n",
    "int main() {\n",
    "    // Content goes here.\n",
    "\n",
    "    return 0;\n",
    "}\n",
    "```\n",
    "\n",
    "Returning 0 indicates that a program is successful. When a program is unsuccessful, it will return 1.\n",
    "\n",
    "Using the template above, navigate into your home directory on your ```buffer``` node. You may access this node by typing ```ssh buffer```. A directory was created and named ```topic_1/```.  Inside of ```topic_1/```, create a file called ```step_1.c```, then write a program that returns a string of your username: ```USERNAME_GOES_HERE```.\n",
    "\n",
    "<strong>Your task:</strong> Use the ```printf()``` statement. ```printf``` stands for \"print formatted\", which you will read more about in Step 4. To help you get started, consider searching online for a basic \"Hello, World!\" example, but replace it with your username.\n",
    "\n",
    "You will be taught how to compile this program in the next step. If you are unsure if your program works, try skipping this step and proceed to Step 2 before running the check for Step 1."
   ]
  },
  {
   "cell_type": "code",
   "execution_count": 4,
   "metadata": {
    "deletable": false,
    "editable": false,
    "jupyter": {
     "source_hidden": true
    },
    "slideshow": {
     "slide_type": ""
    },
    "tags": []
   },
   "outputs": [
    {
     "data": {
      "application/vnd.jupyter.widget-view+json": {
       "model_id": "1cd9b66778f041d4b9297763d2a34d3d",
       "version_major": 2,
       "version_minor": 0
      },
      "text/plain": [
       "Button(description='Check File', style=ButtonStyle())"
      ]
     },
     "metadata": {},
     "output_type": "display_data"
    },
    {
     "data": {
      "application/vnd.jupyter.widget-view+json": {
       "model_id": "51308aeb8deb47b68b0e9cdabfc3e37f",
       "version_major": 2,
       "version_minor": 0
      },
      "text/plain": [
       "Output()"
      ]
     },
     "metadata": {},
     "output_type": "display_data"
    }
   ],
   "source": [
    "# Click the button below to check your work.\n",
    "step1Complete = False\n",
    "\n",
    "# Function to check the permissions.\n",
    "def step_1():\n",
    "    # Important variables that must be accessed outside of this function.\n",
    "    global step1Complete, result\n",
    "\n",
    "    with output1:\n",
    "        output1.clear_output()\n",
    "        display(HTML(\"<span><img width='14px' height='14px' style='margin-left: 3px;' src='resources/loading.gif'></span>\"))\n",
    "    \n",
    "    # This subprocess statement is a little different. Need to initiate environment variables at the same time when running the command.\n",
    "    result = subprocess.run('ssh -i /home/USERNAME_GOES_HERE/.ssh/merge_key USERNAME_GOES_HERE@buffer /home/.checker/section_1.py 1 NA', shell=True, capture_output=True, text=True)\n",
    "    \n",
    "    if (result.returncode == 0):\n",
    "        output1.clear_output()\n",
    "        with output1:\n",
    "            display(HTML(\"<span style='color: green;'>Success! You may continue onto the next step.</span>\"))\n",
    "            step1Complete = True\n",
    "\n",
    "    elif (result.returncode == 1):\n",
    "        output1.clear_output()\n",
    "        with output1:\n",
    "            display(HTML(\"<span style='color: red;'>Your C file compiles, but it does not print your username (USERNAME_GOES_HERE). Try again.</span>\"))\n",
    "            step1Complete = False\n",
    "    \n",
    "    elif (result.returncode == 2):\n",
    "        output1.clear_output()\n",
    "        with output1:\n",
    "            display(HTML(\"<span style='color: red;'>A file named '/home/USERNAME_GOES_HERE/topic_1/step_1.c' cannot be found. Ensure that this file exists and is located within topic_1/.</span>\"))\n",
    "            step1Complete = False\n",
    "\n",
    "    elif (result.returncode == 3):\n",
    "        output1.clear_output()\n",
    "        with output1:\n",
    "            display(HTML(\"<span style='color: red;'>Compiling your file resulted in an error. Somewhere in your file, your C syntax appears incorrect. Check again. Did you forget a semicolon?</span>\"))\n",
    "            step1Complete = False\n",
    "\n",
    "def check_step_1(b):\n",
    "    if (warn_student()):\n",
    "        output1.clear_output()\n",
    "        with output1:\n",
    "            display(HTML(\"<span style='color: red;'><strong>WARNING:</strong> You have an autosaved lab that you have not yet loaded. If you would like to load your progress, click \\\"Load Lab\\\" at the top of the notebook. Otherwise, clicking on this button again will assume you're restarting the lab!</span>\"))\n",
    "    else:\n",
    "        step_1()\n",
    "\n",
    "        # Auto-save.\n",
    "        if (not runAllSteps):\n",
    "            trigger_save(\"1\", result.returncode)\n",
    "\n",
    "# Creating the button.\n",
    "button = widgets.Button(description=\"Check File\")\n",
    "\n",
    "# Creating an output area.\n",
    "output1 = widgets.Output()\n",
    "\n",
    "# Run the command on click.\n",
    "button.on_click(check_step_1)\n",
    "\n",
    "# Display the output.\n",
    "display(button, output1)"
   ]
  },
  {
   "cell_type": "markdown",
   "metadata": {
    "deletable": false,
    "editable": false,
    "slideshow": {
     "slide_type": ""
    },
    "tags": []
   },
   "source": [
    "### Step 2: Creating a Basic C Program (Part 2)\n",
    "\n",
    "With your C program ready to become compiled, you will use ```gcc``` to compile your program and view the output of it.\n",
    "\n",
    "This is the syntax for compiling a C program by using ```gcc```: ```gcc -o output_name file_name.c```\n",
    "\n",
    "This is the breakdown:\n",
    "- ```gcc``` indicates that you're executing a ```gcc``` command.\n",
    "- ```-o``` indicates \"output\". This will indicate that the next argument will be the executable that your C file will be named as.\n",
    "- ```output_name``` is the name of your executable that your C file will produce.\n",
    "  - This is also called a \"C binary file\". This converts your C program into machine-readable language. Attempting to read this file is impossible, since this is how the computer will read your C file.\n",
    "  - Note that the output name does not have an file extension.\n",
    "- ```file_name.c``` is the name of the C file that you wish to compile.\n",
    "\n",
    "<strong>Your task:</strong> Using this command, compile your C program. Name your output file as ```step_2```. Recall that your C file is named ```step_1.c```. <u>Keep doing your work inside of ```topic_1/```.\n",
    "\n",
    "<span style=\"color: green\"><strong><img src=\"resources/idea.png\" style=\"width: 12px\"> Tip:</strong></span> Running ```gcc``` will detect any compiler errors. These are errors that can be detected on compile time, meaning anything that the computer knows is missing, such as a missed semicolon, calling an undefined variable/function name, using the wrong number of parameters for a statement, and more.\n",
    "\n",
    "If any compiler errors are detected, this step will not pass."
   ]
  },
  {
   "cell_type": "code",
   "execution_count": 5,
   "metadata": {
    "deletable": false,
    "editable": false,
    "jupyter": {
     "source_hidden": true
    },
    "slideshow": {
     "slide_type": ""
    },
    "tags": []
   },
   "outputs": [
    {
     "data": {
      "application/vnd.jupyter.widget-view+json": {
       "model_id": "3cb7ba49d6174888aa9787b3acf1d347",
       "version_major": 2,
       "version_minor": 0
      },
      "text/plain": [
       "Button(description='Check File', style=ButtonStyle())"
      ]
     },
     "metadata": {},
     "output_type": "display_data"
    },
    {
     "data": {
      "application/vnd.jupyter.widget-view+json": {
       "model_id": "527984ea159f452e8385e328124e7658",
       "version_major": 2,
       "version_minor": 0
      },
      "text/plain": [
       "Output()"
      ]
     },
     "metadata": {},
     "output_type": "display_data"
    }
   ],
   "source": [
    "# Click the button below to check your work.\n",
    "step2Complete = False\n",
    "\n",
    "# Function to check the permissions.\n",
    "def step_2():\n",
    "    # Important variables that must be accessed outside of this function.\n",
    "    global step2Complete, result\n",
    "\n",
    "    with output2:\n",
    "        output2.clear_output()\n",
    "        display(HTML(\"<span><img width='14px' height='14px' style='margin-left: 3px;' src='resources/loading.gif'></span>\"))\n",
    "    \n",
    "    # This subprocess statement is a little different. Need to initiate environment variables at the same time when running the command.\n",
    "    result = subprocess.run('ssh -i /home/USERNAME_GOES_HERE/.ssh/merge_key USERNAME_GOES_HERE@buffer /home/.checker/section_1.py 2 NA', shell=True, capture_output=True, text=True)\n",
    "    \n",
    "    if (result.returncode == 0):\n",
    "        output2.clear_output()\n",
    "        with output2:\n",
    "            display(HTML(\"<span style='color: green;'>Success! You may continue onto the next step.</span>\"))\n",
    "            step2Complete = True\n",
    "\n",
    "    elif (result.returncode == 1):\n",
    "        output2.clear_output()\n",
    "        with output2:\n",
    "            display(HTML(\"<span style='color: red;'>A file named 'step_2' cannot be found in your 'topic_1' directory. Try again.</span>\"))\n",
    "            step2Complete = False\n",
    "\n",
    "    elif (result.returncode == 2):\n",
    "        output2.clear_output()\n",
    "        with output2:\n",
    "            display(HTML(\"<span style='color: red;'>step_2 was found, but doesn't appear to be a compiled C file. Try again, and use the gcc command.</span>\"))\n",
    "            step2Complete = False\n",
    "    \n",
    "def check_step_2(b):\n",
    "    if (warn_student()):\n",
    "        output2.clear_output()\n",
    "        with output2:\n",
    "            display(HTML(\"<span style='color: red;'><strong>WARNING:</strong> You have an autosaved lab that you have not yet loaded. If you would like to load your progress, click \\\"Load Lab\\\" at the top of the notebook. Otherwise, clicking on this button again will assume you're restarting the lab!</span>\"))\n",
    "    else:\n",
    "        step_2()\n",
    "\n",
    "        # Auto-save.\n",
    "        if (not runAllSteps):\n",
    "            trigger_save(\"2\", result.returncode)\n",
    "\n",
    "# Creating the button.\n",
    "button = widgets.Button(description=\"Check File\")\n",
    "\n",
    "# Creating an output area.\n",
    "output2 = widgets.Output()\n",
    "\n",
    "# Run the command on click.\n",
    "button.on_click(check_step_2)\n",
    "\n",
    "# Display the output.\n",
    "display(button, output2)"
   ]
  },
  {
   "cell_type": "markdown",
   "metadata": {
    "deletable": false,
    "editable": false,
    "slideshow": {
     "slide_type": ""
    },
    "tags": []
   },
   "source": [
    "### Step 3: Creating a Basic C Program (Part 3)\n",
    "\n",
    "Lastly, you may now execute your program by running ```./step_2```. When executing a file within the same location, ```./``` needs to be in front of the file that you wish to execute. If you attempt to run ```step_2```, the Unix environment assumes that you are running a command, not executing a step. However, if you are executing a file in another directory, you may type the entire pathname, such as ```/home/USERNAME_GOES_HERE/topic_1/step_2```. The ```.``` is not required to be in front of your file name.\n",
    "\n",
    "<strong>Your task:</strong> Try running your program. This step will not pass if it produces an error. If your program prints your username and returns 0, this step will be passed."
   ]
  },
  {
   "cell_type": "code",
   "execution_count": 6,
   "metadata": {
    "deletable": false,
    "editable": false,
    "jupyter": {
     "source_hidden": true
    },
    "slideshow": {
     "slide_type": ""
    },
    "tags": []
   },
   "outputs": [
    {
     "data": {
      "application/vnd.jupyter.widget-view+json": {
       "model_id": "e4903365974b46a6b0afbf92b4b57d3a",
       "version_major": 2,
       "version_minor": 0
      },
      "text/plain": [
       "Button(description='Check File', style=ButtonStyle())"
      ]
     },
     "metadata": {},
     "output_type": "display_data"
    },
    {
     "data": {
      "application/vnd.jupyter.widget-view+json": {
       "model_id": "b1667bd684304ff69cc8a7618e5bb18f",
       "version_major": 2,
       "version_minor": 0
      },
      "text/plain": [
       "Output()"
      ]
     },
     "metadata": {},
     "output_type": "display_data"
    }
   ],
   "source": [
    "# Click the button below to check your work.\n",
    "step3Complete = False\n",
    "\n",
    "# Function to check the permissions.\n",
    "def step_3():\n",
    "    # Important variables that must be accessed outside of this function.\n",
    "    global step3Complete, result\n",
    "\n",
    "    with output3:\n",
    "        output3.clear_output()\n",
    "        display(HTML(\"<span><img width='14px' height='14px' style='margin-left: 3px;' src='resources/loading.gif'></span>\"))\n",
    "    \n",
    "    # This subprocess statement is a little different. Need to initiate environment variables at the same time when running the command.\n",
    "    result = subprocess.run('ssh -i /home/USERNAME_GOES_HERE/.ssh/merge_key USERNAME_GOES_HERE@buffer /home/.checker/section_1.py 3 NA', shell=True, capture_output=True, text=True)\n",
    "    \n",
    "    if (result.returncode == 0):\n",
    "        output3.clear_output()\n",
    "        with output3:\n",
    "            display(HTML(\"<span style='color: green;'>Success! You may continue onto the next step.</span>\"))\n",
    "            step3Complete = True\n",
    "\n",
    "    elif (result.returncode == 1):\n",
    "        output3.clear_output()\n",
    "        with output3:\n",
    "            display(HTML(\"<span style='color: red;'>Your C file compiles, but it does not print your username (USERNAME_GOES_HERE). Try again.</span>\"))\n",
    "            step3Complete = False\n",
    "    \n",
    "    elif (result.returncode == 2):\n",
    "        output3.clear_output()\n",
    "        with output3:\n",
    "            display(HTML(\"<span style='color: red;'>A file named '/home/USERNAME_GOES_HERE/topic_1/step_1.c' cannot be found. Ensure that this file exists.</span>\"))\n",
    "            step3Complete = False\n",
    "\n",
    "    elif (result.returncode == 3):\n",
    "        output3.clear_output()\n",
    "        with output3:\n",
    "            display(HTML(\"<span style='color: red;'>Compiling your file resulted in an error. Somewhere in your file, your C syntax appears incorrect. Check again. Did you forget a semicolon?</span>\"))\n",
    "            step3Complete = False\n",
    "\n",
    "def check_step_3(b):\n",
    "    if (warn_student()):\n",
    "        output3.clear_output()\n",
    "        with output3:\n",
    "            display(HTML(\"<span style='color: red;'><strong>WARNING:</strong> You have an autosaved lab that you have not yet loaded. If you would like to load your progress, click \\\"Load Lab\\\" at the top of the notebook. Otherwise, clicking on this button again will assume you're restarting the lab!</span>\"))\n",
    "    else:\n",
    "        step_3()\n",
    "\n",
    "        # Auto-save.\n",
    "        if (not runAllSteps):\n",
    "            trigger_save(\"3\", result.returncode)\n",
    "\n",
    "# Creating the button.\n",
    "button = widgets.Button(description=\"Check File\")\n",
    "\n",
    "# Creating an output area.\n",
    "output3 = widgets.Output()\n",
    "\n",
    "# Run the command on click.\n",
    "button.on_click(check_step_3)\n",
    "\n",
    "# Display the output.\n",
    "display(button, output3)"
   ]
  },
  {
   "cell_type": "markdown",
   "metadata": {
    "deletable": false,
    "editable": false,
    "slideshow": {
     "slide_type": ""
    },
    "tags": []
   },
   "source": [
    "### Step 4: Variables in C\n",
    "\n",
    "Variables are required to have their types defined in C. These are the different types of variables that C can detect.\n",
    "\n",
    "- Integers are defined with ```int```. These are whole numbers with no decimal value.\n",
    "- Floats and doubles are defined with ```float``` and ```double``` respectively in C. Floats are precise up to 7 bits, and doubles are precise up to 15 bits without losing precision.\n",
    "- Characters (or chars) are defined with ```char```.\n",
    "\n",
    "<strong>Your task:</strong> You are going to print the sum of two numbers. Create a C file inside of ```~/topic_1/``` named ```step_4.c``` and produce an output file named ```step_4``` using ```gcc```. Then, create two variables that hold integer values. You may pick whichever two numbers that you'd like, as long as they are positive numbers and between 1 through 1,000. \n",
    "\n",
    "When using ```printf()``` for this, you will need to use something called a <strong>specifier</strong>. Specifiers tell ```printf``` what \"type\" of variable that you'd like to print. Here is an example of printing a number in C:\n",
    "\n",
    "```\n",
    "printf(\"My variable's value is: %d\", variable_name);\n",
    "\n",
    ">> My variable's value is: 900\n",
    "```\n",
    "\n",
    "A breakdown:\n",
    "- ```printf()``` indicates that you are going to print a formatted string.\n",
    "- ```\"%d\"``` indicates that you are going to print an signed integer data type.\n",
    "  - ```\"%s\"``` prints a string, ```\"%c\"``` prints a char, ```\"%d\"``` prints a digit/decimal (an int datatype), ```\"%f\"``` prints a float/double. You may also choose to print a specific amount of decimal places when using a float/double, such as ```\"%.4f\"```, which will print up to four decimal places.\n",
    "  - You will see other types of specifiers throughout the lab, as well as learning a vulnerability using specifiers.\n",
    "- ```variable_name``` is the variable that you wish to print. Make sure that the datatype of your variable aligns with your indicator within ```printf```. Otherwise, you will get a compiler error. Use the sub-bullet above for assistance with how to print specific datatypes.\n",
    "\n",
    "<span style=\"color: orange\"><strong><img src=\"resources/alert.png\" style=\"width: 12px\"> Notice:</strong></span> \n",
    "- You need to store these two numbers as variables first before printing their sum.\n",
    "- Print the sum within the ```printf``` statement. Do not store the sum into a third variable.\n",
    "- You only have to print the value of the sum of two random numbers between 1 through 1,000. You do not need any additional output besides the sum. "
   ]
  },
  {
   "cell_type": "code",
   "execution_count": 7,
   "metadata": {
    "deletable": false,
    "editable": false,
    "jupyter": {
     "source_hidden": true
    },
    "slideshow": {
     "slide_type": ""
    },
    "tags": []
   },
   "outputs": [
    {
     "data": {
      "application/vnd.jupyter.widget-view+json": {
       "model_id": "7028d011d32249a697fb4bffd6cd58f6",
       "version_major": 2,
       "version_minor": 0
      },
      "text/plain": [
       "Button(description='Check Work', style=ButtonStyle())"
      ]
     },
     "metadata": {},
     "output_type": "display_data"
    },
    {
     "data": {
      "application/vnd.jupyter.widget-view+json": {
       "model_id": "9884d8ed3aef4dc48cb603f7724d98ee",
       "version_major": 2,
       "version_minor": 0
      },
      "text/plain": [
       "Output()"
      ]
     },
     "metadata": {},
     "output_type": "display_data"
    }
   ],
   "source": [
    "# Click the button below to check your work.\n",
    "step4Complete = False\n",
    "\n",
    "# Function to check the permissions.\n",
    "def step_4():\n",
    "    # Important variables that must be accessed outside of this function.\n",
    "    global step4Complete, result\n",
    "\n",
    "    with output4:\n",
    "        output4.clear_output()\n",
    "        display(HTML(\"<span><img width='14px' height='14px' style='margin-left: 3px;' src='resources/loading.gif'></span>\"))\n",
    "    \n",
    "    # This subprocess statement is a little different. Need to initiate environment variables at the same time when running the command.\n",
    "    result = subprocess.run('ssh -i /home/USERNAME_GOES_HERE/.ssh/merge_key USERNAME_GOES_HERE@buffer /home/.checker/section_1.py 4 NA', shell=True, capture_output=True, text=True)\n",
    "    \n",
    "    if (result.returncode == 0):\n",
    "        output4.clear_output()\n",
    "        with output4:\n",
    "            display(HTML(\"<span style='color: green;'>Success! You may continue onto the next step.</span>\"))\n",
    "            step4Complete = True\n",
    "\n",
    "    elif (result.returncode == 1):\n",
    "        output4.clear_output()\n",
    "        with output4:\n",
    "            display(HTML(\"<span style='color: red;'>Your two numbers were not in between 1 and 1,000. The sum is outside of the range of 2 and 2,000. Try again.</span>\"))\n",
    "            step4Complete = False\n",
    "    \n",
    "    elif (result.returncode == 2):\n",
    "        output4.clear_output()\n",
    "        with output4:\n",
    "            display(HTML(\"<span style='color: red;'>One (or both) of your step_4.c and step_4 files cannot be found in the topic_1/ directory. Make sure to compile your file as step_4. Try again.</span>\"))\n",
    "            step4Complete = False\n",
    "\n",
    "    elif (result.returncode == 3):\n",
    "        output4.clear_output()\n",
    "        with output4:\n",
    "            display(HTML(\"<span style='color: red;'>Your file did not run properly. Re-compile your file, then fix any warnings/errors.</span>\"))\n",
    "            step4Complete = False\n",
    "\n",
    "    elif (result.returncode == 4):\n",
    "        output4.clear_output()\n",
    "        with output4:\n",
    "            display(HTML(\"<span style='color: red;'>Your file produced extra output. It should only produce a single number. Try again.</span>\"))\n",
    "            step4Complete = False\n",
    "\n",
    "def check_step_4(b):\n",
    "    if (warn_student()):\n",
    "        output4.clear_output()\n",
    "        with output4:\n",
    "            display(HTML(\"<span style='color: red;'><strong>WARNING:</strong> You have an autosaved lab that you have not yet loaded. If you would like to load your progress, click \\\"Load Lab\\\" at the top of the notebook. Otherwise, clicking on this button again will assume you're restarting the lab!</span>\"))\n",
    "    else:\n",
    "        step_4()\n",
    "\n",
    "        # Auto-save.\n",
    "        if (not runAllSteps):\n",
    "            trigger_save(\"4\", result.returncode)\n",
    "\n",
    "# Creating the button.\n",
    "button = widgets.Button(description=\"Check Work\")\n",
    "\n",
    "# Creating an output area.\n",
    "output4 = widgets.Output()\n",
    "\n",
    "# Run the command on click.\n",
    "button.on_click(check_step_4)\n",
    "\n",
    "# Display the output.\n",
    "display(button, output4)"
   ]
  },
  {
   "cell_type": "markdown",
   "metadata": {
    "deletable": false,
    "editable": false,
    "slideshow": {
     "slide_type": ""
    },
    "tags": []
   },
   "source": [
    "### Step 5: Strings in C\n",
    "\n",
    "Strings in C work differently than other languages. This will be the first datatype that you will use in this lab that can have unsafe behavior.\n",
    "\n",
    "All strings in C end with a character called the null terminator, which is ```\\0```. Additionally, strings in C are arrays of characters whose last element is the null terminator.\n",
    "\n",
    "This is a valid string in C:\n",
    "\n",
    "```\n",
    "char my_string[] = {'H', 'e', 'l', 'l', 'o', '\\0'};\n",
    "printf(\"%s\", my_string);\n",
    "\n",
    ">> Hello\n",
    "```\n",
    "\n",
    "Clearly, this can be very tedious. Additionally, when a string is not closed with a null character, this can occur:\n",
    "\n",
    "```\n",
    "char my_string[] = {'H', 'e', 'l', 'l', 'o'};\n",
    "printf(\"%c\", my_string[10]);\n",
    "\n",
    ">>  \n",
    "```\n",
    "\n",
    "The program will be able to read past the end of the string and print something that is either unreadable or is a random character. When printing strings like this without null terminators, accidental data leaks can occur. Printing an incorrectly terminated string will produce unexpected output, such as this:\n",
    "\n",
    "```\n",
    "char good_string[] = {'h', 'e', 'l', 'l', 'o', '\\0'};\n",
    "char bad_string[] = {'w', 'o', 'r', 'l', 'd'};\n",
    "printf(\"%s\\n\", bad_string);\n",
    "\n",
    ">> worldhello\n",
    "```\n",
    "\n",
    "```good_string``` and ```bad_string``` are stored next to each other in the stack. Printing ```bad_string``` will print all data up until the first null terminator that it will find. Since ```bad_string``` wasn't terminated, it will keep reading from the stack until it encounters its first null character. Clearly, this is a security vulnerability.\n",
    "\n",
    "Fortunately, C has a shorthand (and safer) way to store strings as variables. Initiating a variable as a ```char``` array will accept a string upon assignment, which will automatically add a null terminator. Here's an example:\n",
    "\n",
    "```\n",
    "char string_var[] = \"Hello, World!\";\n",
    "printf(\"%s\", string_var);\n",
    "```\n",
    "\n",
    "<strong>Your task:</strong> Create a C file named ```step_5.c``` inside of ```~/topic_1/```, with an output file named ```step_5```. Then, store your username as a string into a variable named ```username```.\n",
    "- Do not create a list of individual characters like the unsafe example demonstrated.\n",
    "- Do not use pointers (if you know them).\n",
    "\n",
    "Print: ```Hello, USERNAME_GOES_HERE!``` as your final output. Use the variable that that stores your username as a string.\n",
    "\n",
    "<span style=\"color: green\"><strong><img src=\"resources/idea.png\" style=\"width: 12px\"> Tip:</strong></span> Use the example from the previous step to combine a output with a variable. Use the ```\"%s\"``` specifier, since this is a string."
   ]
  },
  {
   "cell_type": "code",
   "execution_count": 8,
   "metadata": {
    "deletable": false,
    "editable": false,
    "jupyter": {
     "source_hidden": true
    },
    "slideshow": {
     "slide_type": ""
    },
    "tags": []
   },
   "outputs": [
    {
     "data": {
      "application/vnd.jupyter.widget-view+json": {
       "model_id": "b410c91f99174ee4b42b2070329ef466",
       "version_major": 2,
       "version_minor": 0
      },
      "text/plain": [
       "Button(description='Check Work', style=ButtonStyle())"
      ]
     },
     "metadata": {},
     "output_type": "display_data"
    },
    {
     "data": {
      "application/vnd.jupyter.widget-view+json": {
       "model_id": "514c3bf3e6dd4929bd6b3df3668b92d9",
       "version_major": 2,
       "version_minor": 0
      },
      "text/plain": [
       "Output()"
      ]
     },
     "metadata": {},
     "output_type": "display_data"
    }
   ],
   "source": [
    "# Click the button below to check your work.\n",
    "step5Complete = False\n",
    "\n",
    "# Function to check the permissions.\n",
    "def step_5():\n",
    "    # Important variables that must be accessed outside of this function.\n",
    "    global step5Complete, result\n",
    "\n",
    "    with output5:\n",
    "        output5.clear_output()\n",
    "        display(HTML(\"<span><img width='14px' height='14px' style='margin-left: 3px;' src='resources/loading.gif'></span>\"))\n",
    "    \n",
    "    # This subprocess statement is a little different. Need to initiate environment variables at the same time when running the command.\n",
    "    result = subprocess.run('ssh -i /home/USERNAME_GOES_HERE/.ssh/merge_key USERNAME_GOES_HERE@buffer /home/.checker/section_1.py 5 NA', shell=True, capture_output=True, text=True)\n",
    "    \n",
    "    if (result.returncode == 0):\n",
    "        output5.clear_output()\n",
    "        with output5:\n",
    "            display(HTML(\"<span style='color: green;'>Success! You may continue onto the next step.</span>\"))\n",
    "            step5Complete = True\n",
    "\n",
    "    elif (result.returncode == 1):\n",
    "        output5.clear_output()\n",
    "        with output5:\n",
    "            display(HTML(\"<span style='color: red;'>\\\"Hello, USERNAME_GOES_HERE!\\\" doesn't appear to be the output of your program. Try again.</span>\"))\n",
    "            step5Complete = False\n",
    "    \n",
    "    elif (result.returncode == 2):\n",
    "        output5.clear_output()\n",
    "        with output5:\n",
    "            display(HTML(\"<span style='color: red;'>One (or both) of your step_5.c and step_5 files cannot be found in the topic_1/ directory. Make sure to compile your file as step_5. Try again.</span>\"))\n",
    "            step5Complete = False\n",
    "\n",
    "    elif (result.returncode == 3):\n",
    "        output5.clear_output()\n",
    "        with output5:\n",
    "            display(HTML(\"<span style='color: red;'>Your file did not run properly. Re-compile your file, then fix any warnings/errors.</span>\"))\n",
    "            step5Complete = False\n",
    "\n",
    "    elif (result.returncode == 4):\n",
    "        output5.clear_output()\n",
    "        with output5:\n",
    "            display(HTML(\"<span style='color: red;'>Please use \\\"USERNAME_GOES_HERE\\\" as your username.</span>\"))\n",
    "            step5Complete = False\n",
    "\n",
    "    elif (result.returncode == 5):\n",
    "        output5.clear_output()\n",
    "        with output5:\n",
    "            display(HTML(\"<span style='color: red;'>No variable could be found that used your username.</span>\"))\n",
    "            step5Complete = False\n",
    "\n",
    "def check_step_5(b):\n",
    "    if (warn_student()):\n",
    "        output5.clear_output()\n",
    "        with output5:\n",
    "            display(HTML(\"<span style='color: red;'><strong>WARNING:</strong> You have an autosaved lab that you have not yet loaded. If you would like to load your progress, click \\\"Load Lab\\\" at the top of the notebook. Otherwise, clicking on this button again will assume you're restarting the lab!</span>\"))\n",
    "    else:\n",
    "        step_5()\n",
    "\n",
    "        # Auto-save.\n",
    "        if (not runAllSteps):\n",
    "            trigger_save(\"5\", result.returncode)\n",
    "\n",
    "# Creating the button.\n",
    "button = widgets.Button(description=\"Check Work\")\n",
    "\n",
    "# Creating an output area.\n",
    "output5 = widgets.Output()\n",
    "\n",
    "# Run the command on click.\n",
    "button.on_click(check_step_5)\n",
    "\n",
    "# Display the output.\n",
    "display(button, output5)"
   ]
  },
  {
   "cell_type": "markdown",
   "metadata": {
    "deletable": false,
    "editable": false,
    "slideshow": {
     "slide_type": ""
    },
    "tags": []
   },
   "source": [
    "### Step 6: Pointers in C (Part 1)\n",
    "\n",
    "One of the features with C being a middle-leveled language is the use of pointers. Pointers allow you to allocate memory to the heap of the Process Address Space. High-leveled languages do not use pointers, since the compiler will handle heap memory automatically. \n",
    "\n",
    "Whenever a variable is passed to a function's parameter in C, it's only passed a <strong>copy</strong> of the variable. This means that the value of the variable is passed to the function, but the address of the variable <strong>does not</strong> get passed.\n",
    "\n",
    "Observe this function carefully in C:\n",
    "\n",
    "```\n",
    "#include <stdio.h>\n",
    "\n",
    "void sum(int a, int b, int c) {\n",
    "    c = a + b;\n",
    "}\n",
    "\n",
    "int main() {\n",
    "    int a, b, c;\n",
    "    a = 1;\n",
    "    b = 2;\n",
    "    c = 0;\n",
    "\n",
    "    sum(a, b, c);\n",
    "\n",
    "    printf(\"%d\", c);\n",
    "    return 0;\n",
    "}\n",
    "```\n",
    "\n",
    "In the field below, what is the output of this function?"
   ]
  },
  {
   "cell_type": "code",
   "execution_count": 9,
   "metadata": {
    "deletable": false,
    "editable": false,
    "jupyter": {
     "source_hidden": true
    },
    "slideshow": {
     "slide_type": ""
    },
    "tags": []
   },
   "outputs": [
    {
     "data": {
      "application/vnd.jupyter.widget-view+json": {
       "model_id": "85aaaf592fb94df28828983b5d6b1556",
       "version_major": 2,
       "version_minor": 0
      },
      "text/plain": [
       "Output()"
      ]
     },
     "metadata": {},
     "output_type": "display_data"
    },
    {
     "data": {
      "application/vnd.jupyter.widget-view+json": {
       "model_id": "7849cee285f448249193194db2d6ff8c",
       "version_major": 2,
       "version_minor": 0
      },
      "text/plain": [
       "Text(value='0', description='Output:', layout=Layout(width='90%'), placeholder='Type the result of the functio…"
      ]
     },
     "metadata": {},
     "output_type": "display_data"
    },
    {
     "data": {
      "application/vnd.jupyter.widget-view+json": {
       "model_id": "fa2255b9ec8c48369cf03a05f281cc63",
       "version_major": 2,
       "version_minor": 0
      },
      "text/plain": [
       "Button(description='Check Answer', style=ButtonStyle())"
      ]
     },
     "metadata": {},
     "output_type": "display_data"
    },
    {
     "data": {
      "application/vnd.jupyter.widget-view+json": {
       "model_id": "abcc7adb56124fd39e21754f6f043b73",
       "version_major": 2,
       "version_minor": 0
      },
      "text/plain": [
       "Output()"
      ]
     },
     "metadata": {},
     "output_type": "display_data"
    }
   ],
   "source": [
    "# Click the button below to check your work.\n",
    "step6Complete = False\n",
    "\n",
    "# Function to check if the student's answer was correct.\n",
    "def step_6():\n",
    "    # Important variables that must be accessed outside of this function.\n",
    "    global step6Complete, result\n",
    "\n",
    "    # Loading, in case the check is slow.\n",
    "    with output6:\n",
    "        output6.clear_output()\n",
    "        display(HTML(\"<span><img width='12px' height='12px' style='margin-left: 3px;' src='resources/loading.gif'></span>\"))\n",
    "\n",
    "    # First, check to see if the field is empty.\n",
    "    if (userInput6.value == \"\"):\n",
    "        output6.clear_output()\n",
    "        with output6:\n",
    "            display(HTML(\"<span style='color: red;'>You did not provide input for this step.</span>\"))\n",
    "            step6Complete = False\n",
    "\n",
    "    # Next, check to make sure that it's only a number.\n",
    "    if (not str(userInput6.value).isnumeric()):\n",
    "        output6.clear_output()\n",
    "        with output6:\n",
    "            display(HTML(\"<span style='color: red;'>Your answer must be a number.</span>\"))\n",
    "            step6Complete = False\n",
    "\n",
    "    else:\n",
    "        # Testing the student's feedback.\n",
    "        remote_cmd = f\"/home/.checker/section_1.py 6 {shlex.quote(userInput6.value)}\"\n",
    "\n",
    "        ssh_command = [\n",
    "            \"ssh\",\n",
    "            \"-i\", \"/home/USERNAME_GOES_HERE/.ssh/merge_key\",\n",
    "            \"USERNAME_GOES_HERE@buffer\",\n",
    "            remote_cmd\n",
    "        ]\n",
    "        result = subprocess.run(ssh_command)\n",
    "\n",
    "        # Saving the student's feedback.\n",
    "        remote_cmd = f\"echo {shlex.quote(userInput6.value)} > /home/.checker/responses/step_6_answer.txt\"\n",
    "\n",
    "        ssh_command = [\n",
    "            \"ssh\",\n",
    "            \"-i\", \"/home/USERNAME_GOES_HERE/.ssh/merge_key\",\n",
    "            \"USERNAME_GOES_HERE@buffer\",\n",
    "            remote_cmd\n",
    "        ]\n",
    "        subprocess.run(ssh_command)\n",
    "\n",
    "        # Now, testing their response.\n",
    "        if (result.returncode == 0):\n",
    "            output6.clear_output()\n",
    "            with output6:\n",
    "                display(HTML(\"<span style='color: green;'>Correct!</span>\"))\n",
    "                step6Complete = True\n",
    "        \n",
    "        elif (result.returncode == 1):\n",
    "            output6.clear_output()\n",
    "            with output6:\n",
    "                display(HTML(\"<span style='color: red;'>The output that you entered is incorrect.</span>\"))\n",
    "                step6Complete = False\n",
    "\n",
    "        elif (result.returncode == 2):\n",
    "            output6.clear_output()\n",
    "            with output6:\n",
    "                display(HTML(\"<span style='color: red;'>Please finish all previous steps before checking your work.</span>\"))\n",
    "                step6Complete = False\n",
    "\n",
    "        \n",
    "def check_step_6(b):\n",
    "    if (warn_student()):\n",
    "        output6.clear_output()\n",
    "        with output6:\n",
    "            display(HTML(\"<span style='color: red;'><strong>WARNING:</strong> You have an autosaved lab that you have not yet loaded. If you would like to load your progress, click \\\"Load Lab\\\" at the top of the notebook. Otherwise, clicking on this button again will assume you're restarting the lab!</span>\"))\n",
    "    else:\n",
    "        step_6()\n",
    "\n",
    "        # Auto-save.\n",
    "        if (not runAllSteps):\n",
    "            trigger_save(\"6\", result.returncode, userInput6.value)\n",
    "\n",
    "# Retrieve the student's response. First, create a loading spinner, since this could take a second or two.\n",
    "loading6 = widgets.Output()\n",
    "display(loading6)\n",
    "with loading6:\n",
    "    loading6.clear_output()\n",
    "    display(HTML(\"<span>Loading your saved response... <img width='12px' height='12px' style='margin-left: 3px;' src='resources/loading.gif'></span>\"))\n",
    "\n",
    "# Creating a text area.\n",
    "userInput6 = widgets.Text(\n",
    "    placeholder='Type the result of the function here',\n",
    "    description='Output:',\n",
    "    layout=widgets.Layout(width='90%')\n",
    ")\n",
    "\n",
    "# Checking if the step has been answered.\n",
    "result = subprocess.run('ssh -o StrictHostKeyChecking=no -i /home/USERNAME_GOES_HERE/.ssh/merge_key USERNAME_GOES_HERE@buffer \"cat /home/.checker/responses/step_6_answer.txt 2> /dev/null\"', capture_output=True, text=True, shell=True)\n",
    "# Trim the newline.\n",
    "userInput6.value = result.stdout[:-1]\n",
    "\n",
    "# After the student's response was loaded, clear the output.\n",
    "loading6.clear_output()\n",
    "\n",
    "# Creating the button.\n",
    "button = widgets.Button(description=\"Check Answer\")\n",
    "\n",
    "# Creating an output area.\n",
    "output6 = widgets.Output()\n",
    "\n",
    "# Run the command on click.\n",
    "button.on_click(check_step_6)\n",
    "\n",
    "# Display the output.\n",
    "display(userInput6, button, output6)"
   ]
  },
  {
   "cell_type": "markdown",
   "metadata": {
    "deletable": false,
    "editable": false,
    "slideshow": {
     "slide_type": ""
    },
    "tags": []
   },
   "source": [
    "### Step 7: Pointers in C (Part 2)\n",
    "\n",
    "In order to update this function so that it works properly, pointers must be introduced. A pointer is an address in memory that holds the value of a variable. Here is an example of a pointer. \n",
    "\n",
    "```\n",
    "int* ptr;\n",
    "int a = 10;\n",
    "ptr = &a;\n",
    "printf(\"Pointer: %p\\n\", &ptr);\n",
    "printf(\"Value: %d\", *ptr);\n",
    "\n",
    ">> Pointer: 0x7ffdb02fe240\n",
    ">> Value: 10\n",
    "```\n",
    "\n",
    "Here's a breakdown of how this works.\n",
    "- Create an integer pointer named ```ptr```. This will hold the address of a variable.\n",
    "- Create an integer named ```a```, which has the value 10.\n",
    "- The pointer holds the <strong>address</strong> of the value. Therefore, retrieve the address of ```a``` by calling ```&a```. The ```&``` is the <u>address operator</u> in C.\n",
    "- Print the <strong>address</strong> of the pointer itself by printing ```&ptr```.\n",
    "  - To get the address of the variable that it holds, you would need to call ```(void*)ptr```. This provides the address that ```a``` was stored on.\n",
    "- Print the <strong>value</strong> that ```ptr``` holds by printing ```*ptr```.\n",
    "- If a variable is a pointer (e.g., an `int` pointer `x`), you can get or set the value of `x` using the dereference operation `*`. So, for example, to set the value of `x` to 3, you would do `*x = 3`.\n",
    "\n",
    "<strong>Your task:</strong> Recreate the function in Step 6, but use pointers so that ```a```, ```b```, and ```c``` are properly updated in ```main()```. Originally, copies of the variables were passed to ```sum()```. Now, in order for the variable ```c``` to update, you will need to use a pointer to change its value in memory. \n",
    "\n",
    "A template of this function is provided to you below.\n",
    "\n",
    "```\n",
    "#include <stdio.h>\n",
    "\n",
    "void sum(int* a, int* b, int* c) {\n",
    "    // Your answer here.\n",
    "}\n",
    "\n",
    "int main() {\n",
    "    int a, b, c;\n",
    "\n",
    "    a = 1;\n",
    "    b = 2;\n",
    "    c = 0;\n",
    "\n",
    "    // Your answer here.\n",
    "\n",
    "    printf(\"%d\\n\", c);\n",
    "    return 0;\n",
    "}\n",
    "```\n",
    "\n",
    "Upon completing the previous step, a file named ```~/topic_1/step_7.c``` was created. Click the button below to check your work.\n",
    "\n",
    "<span style=\"color: green\"><strong><img src=\"resources/idea.png\" style=\"width: 12px\"> Tips:</strong></span> \n",
    "- It's important to think about how functions and pointers work in C. ```sum()``` is a function that accepts pointers for parameters. This means that when you call ```a```, ```b```, and ```c```, they are pointers. When accessing the value of a pointer, you must have an asterisk in the variable name when using it.\n",
    "- Since ```sum()``` accepts pointers for its parameters, you must pass the addresses of these pointers to the function's parameters.\n",
    "\n",
    "<span style=\"color: orange\"><strong><img src=\"resources/alert.png\" style=\"width: 12px\"> Notice:</strong></span> Starting with this step, the notebook will automatically generate the ```step_X.c``` files for you for the rest of the lab. You MUST complete the previous step before the file is generated for you. However, you are still required to compile the C file with ```gcc``` at each step. This is required anytime you change a file that's written in C."
   ]
  },
  {
   "cell_type": "code",
   "execution_count": 10,
   "metadata": {
    "deletable": false,
    "editable": false,
    "jupyter": {
     "source_hidden": true
    },
    "slideshow": {
     "slide_type": ""
    },
    "tags": []
   },
   "outputs": [
    {
     "data": {
      "application/vnd.jupyter.widget-view+json": {
       "model_id": "37c3104382b440bbaddccbca701e7d3f",
       "version_major": 2,
       "version_minor": 0
      },
      "text/plain": [
       "Button(description='Check Work', style=ButtonStyle())"
      ]
     },
     "metadata": {},
     "output_type": "display_data"
    },
    {
     "data": {
      "application/vnd.jupyter.widget-view+json": {
       "model_id": "79f994fc955b4eaa9eabe7d56e8c11c4",
       "version_major": 2,
       "version_minor": 0
      },
      "text/plain": [
       "Output()"
      ]
     },
     "metadata": {},
     "output_type": "display_data"
    }
   ],
   "source": [
    "# Click the button below to check your work.\n",
    "step7Complete = False\n",
    "\n",
    "# Function to check the permissions.\n",
    "def step_7():\n",
    "    # Important variables that must be accessed outside of this function.\n",
    "    global step7Complete, result\n",
    "\n",
    "    with output7:\n",
    "        output7.clear_output()\n",
    "        display(HTML(\"<span><img width='14px' height='14px' style='margin-left: 3px;' src='resources/loading.gif'></span>\"))\n",
    "    \n",
    "    result = subprocess.run('ssh -i /home/USERNAME_GOES_HERE/.ssh/merge_key USERNAME_GOES_HERE@buffer /home/.checker/section_1.py 7 NA', shell=True, capture_output=True, text=True)\n",
    "    \n",
    "    if (result.returncode == 0):\n",
    "        output7.clear_output()\n",
    "        with output7:\n",
    "            display(HTML(\"<span style='color: green;'>Success! You may continue onto the next step.</span>\"))\n",
    "            step7Complete = True\n",
    "\n",
    "    elif (result.returncode == 1):\n",
    "        output7.clear_output()\n",
    "        with output7:\n",
    "            display(HTML(\"<span style='color: red;'>The variable, c, is not equal to 3. Try again.</span>\"))\n",
    "            step7Complete = False\n",
    "    \n",
    "    elif (result.returncode == 2):\n",
    "        output7.clear_output()\n",
    "        with output7:\n",
    "            display(HTML(\"<span style='color: red;'>One (or both) of your step_7.c and step_7 files cannot be found in the topic_1/ directory. Make sure to compile your file as step_7. Try again.</span>\"))\n",
    "            step7Complete = False\n",
    "\n",
    "    elif (result.returncode == 3):\n",
    "        output7.clear_output()\n",
    "        with output7:\n",
    "            display(HTML(\"<span style='color: red;'>Your file did not run properly. Re-compile your file, then fix any warnings/errors.</span>\"))\n",
    "            step7Complete = False\n",
    "\n",
    "    elif (result.returncode == 4):\n",
    "        output7.clear_output()\n",
    "        with output7:\n",
    "            display(HTML(\"<span style='color: red;'>The two lines that you're required to fill are not properly written. Try again.</span>\"))\n",
    "            step7Complete = False\n",
    "\n",
    "def check_step_7(b):\n",
    "    if (warn_student()):\n",
    "        output7.clear_output()\n",
    "        with output7:\n",
    "            display(HTML(\"<span style='color: red;'><strong>WARNING:</strong> You have an autosaved lab that you have not yet loaded. If you would like to load your progress, click \\\"Load Lab\\\" at the top of the notebook. Otherwise, clicking on this button again will assume you're restarting the lab!</span>\"))\n",
    "    else:\n",
    "        step_7()\n",
    "\n",
    "        # Auto-save.\n",
    "        if (not runAllSteps):\n",
    "            trigger_save(\"7\", result.returncode)\n",
    "\n",
    "# Creating the button.\n",
    "button = widgets.Button(description=\"Check Work\")\n",
    "\n",
    "# Creating an output area.\n",
    "output7 = widgets.Output()\n",
    "\n",
    "# Run the command on click.\n",
    "button.on_click(check_step_7)\n",
    "\n",
    "# Display the output.\n",
    "display(button, output7)"
   ]
  },
  {
   "cell_type": "markdown",
   "metadata": {
    "deletable": false,
    "editable": false,
    "slideshow": {
     "slide_type": ""
    },
    "tags": []
   },
   "source": [
    "### Step 8: Pointers in C (Part 3)\n",
    "\n",
    "Arrays in C must be declared with a fixed length, unlike other languages which allow you to dynamically add elements to arrays. An array of char is typically used to represent a string in C, and arrays of other types (like int, float, etc.) follow similar syntax. Here's an array of integers in C:\n",
    "\n",
    "```\n",
    "int[] array_of_ints = {1, 2, 3, 4, 5};\n",
    "```\n",
    "\n",
    "If you don't want to create an array with initial values, you must declare the array with a fixed size:\n",
    "\n",
    "```\n",
    "int[5] array_of_ints;\n",
    "```\n",
    "\n",
    "When arrays in C are passed to a function, they are automatically passed by reference. This means that the function receives a pointer to the first element of the array, rather than a copy of the entire array. Therefore, you do not need to explicitly pass an array as a pointer to a function if you intend to modify any of its elements within that function.\n",
    "\n",
    "```\n",
    "#include <stdio.h>\n",
    "\n",
    "void modify_array(int arr[], int size) {\n",
    "    for (int i = 0; i < size; ++i) {\n",
    "        arr[i] += 1;\n",
    "    }\n",
    "}\n",
    "\n",
    "int main() {\n",
    "    int array_of_ints[5] = {1, 2, 3, 4, 5};\n",
    "    modify_array(array_of_ints, 5);\n",
    "    for (int i = 0; i < 5; ++i) {\n",
    "        printf(\"%d \", array_of_ints[i]); // Prints 2 3 4 5 6\n",
    "    }\n",
    "    return 0;\n",
    "}\n",
    "```\n",
    "\n",
    "Arrays are being mentioned in this topic about pointers because the size of arrays may not be known during the time of execution. This brings up the keyword ```malloc```. The word ```malloc``` is short for \"memory allocation\", and is used to reserve a specific amount of storage in the heap. \n",
    "\n",
    "This is the signature for ```malloc```: ```void *malloc(size_t size);```\n",
    "- ```*malloc``` returns a pointer of whatever type that you initiate with ```*```. If it's unsuccessful, it returns an empty pointer. In this example, it's void, so it returns no type.\n",
    "- ```size_t``` is an unsigned integer type. \"Unsigned\" means non-negative.\n",
    "- ```size``` is the amount of memory that you wish to allocate in bytes in the heap.\n",
    "\n",
    "<u>C requires that you ```free``` the variable once you finished using it.</u> This is required when you use ```malloc```. The pointer example in the previous step did not require ```free``` because it was not dynamically allocated.\n",
    "\n",
    "Here is an example of using ```malloc``` to create an array of integers.\n",
    "\n",
    "```\n",
    "#include <stdio.h>\n",
    "#include <stdlib.h> // Required for using malloc().\n",
    "\n",
    "int main() {\n",
    "    int length = 10;\n",
    "    int* array_of_ints = (int*)malloc(length * sizeof(int));\n",
    "\n",
    "    // Do stuff with array_of_ints.\n",
    "\n",
    "    free(array_of_ints);\n",
    "    return 0;\n",
    "}\n",
    "```\n",
    "\n",
    "<strong>Your tasks:</strong> You are going to be given this template:\n",
    "\n",
    "```\n",
    "#include <stdio.h>\n",
    "#include <stdlib.h>\n",
    "\n",
    "int main() {\n",
    "    // Create the variables.\n",
    "    int num_elements;\n",
    "    const float PI = 3.14159;\n",
    "    \n",
    "    // Ask for user input.\n",
    "    char input[10];\n",
    "    printf(\"Enter the number of elements: \");\n",
    "    fgets(input, sizeof(input), stdin);\n",
    "    num_elements = atoi(input);\n",
    "\n",
    "    // TASK 1: Use malloc to create array_of_floats.\n",
    "    // It should be a pointer of type \"float\"!\n",
    "\n",
    "    // Populating the array.\n",
    "    for (int i = 0; i < num_elements; ++i) {\n",
    "        array_of_floats[i] = i * PI;\n",
    "    }\n",
    "\n",
    "    // Printing the elements.\n",
    "    printf(\"Array elements: \");\n",
    "    for (int i = 0; i < num_elements; ++i) {\n",
    "        printf(\"%.5f \", array_of_floats[i]);\n",
    "    }\n",
    "    printf(\"\\n\");\n",
    "\n",
    "    // TASK 2: Free the array.\n",
    "\n",
    "    return 0;\n",
    "}\n",
    "```\n",
    "\n",
    "Here's a breakdown of the code:\n",
    "- Create an integer variable that holds the number of elements in a list, as well as a constant named \"pi\".\n",
    "- The program will ask for a number from you. The ```fgets()``` function takes input from the user, then assigns it to the address of ```num_elements```. ```fgets()``` preallocates a buffer before taking input from a user, which prevents buffer overflow. It takes input, then converts it to an integer (```atoi``` means \"<u>A</u>SCII <u>to</u> <u>i</u>nt\"). From there, we can use ```num_elements``` as an integer datatype.\n",
    "- <strong>Task 1:</strong> Create an array named ```array_of_floats``` by using malloc. Use the number of elements as the length of the array that you're allocating. As the name implies, it should be a float datatype.\n",
    "- Multiply each index of the array by pi.\n",
    "- Print the values of the array in a \"for\" loop, with up to 5 decimal precision.\n",
    "- <strong>Task 2:</strong> Free ```array_of_floats``` from memory.\n",
    "\n",
    "```step_8.c``` was automatically created for you upon completing Step 7. You are still required to use ```gcc``` in order to compile ```step_8.c```."
   ]
  },
  {
   "cell_type": "code",
   "execution_count": 11,
   "metadata": {
    "deletable": false,
    "editable": false,
    "jupyter": {
     "source_hidden": true
    },
    "slideshow": {
     "slide_type": ""
    },
    "tags": []
   },
   "outputs": [
    {
     "data": {
      "application/vnd.jupyter.widget-view+json": {
       "model_id": "a9228a263d6d4d4f89f1d5c27610d7d4",
       "version_major": 2,
       "version_minor": 0
      },
      "text/plain": [
       "Button(description='Check Work', style=ButtonStyle())"
      ]
     },
     "metadata": {},
     "output_type": "display_data"
    },
    {
     "data": {
      "application/vnd.jupyter.widget-view+json": {
       "model_id": "ac088c32960044a1b594a4cf1d8f6309",
       "version_major": 2,
       "version_minor": 0
      },
      "text/plain": [
       "Output()"
      ]
     },
     "metadata": {},
     "output_type": "display_data"
    }
   ],
   "source": [
    "# Click the button below to check your work.\n",
    "step8Complete = False\n",
    "\n",
    "# Function to check the permissions.\n",
    "def step_8():\n",
    "    # Important variables that must be accessed outside of this function.\n",
    "    global step8Complete, result\n",
    "\n",
    "    with output8:\n",
    "        output8.clear_output()\n",
    "        display(HTML(\"<span><img width='14px' height='14px' style='margin-left: 3px;' src='resources/loading.gif'></span>\"))\n",
    "    \n",
    "    result = subprocess.run('ssh -i /home/USERNAME_GOES_HERE/.ssh/merge_key USERNAME_GOES_HERE@buffer /home/.checker/section_1.py 8 NA', shell=True, capture_output=True, text=True)\n",
    "    \n",
    "    if (result.returncode == 0):\n",
    "        output8.clear_output()\n",
    "        with output8:\n",
    "            display(HTML(\"<span style='color: green;'>Success! You may continue onto the next step.</span>\"))\n",
    "            step8Complete = True\n",
    "\n",
    "    elif (result.returncode == 1):\n",
    "        output8.clear_output()\n",
    "        with output8:\n",
    "            display(HTML(\"<span style='color: red;'>Running your program with '5' as input did not produce the correct results. Check again.</span>\"))\n",
    "            step8Complete = False\n",
    "    \n",
    "    elif (result.returncode == 2):\n",
    "        output8.clear_output()\n",
    "        with output8:\n",
    "            display(HTML(\"<span style='color: red;'>One (or both) of your step_8.c and step_8 files cannot be found in the topic_1/ directory. Make sure to compile your file as step_8. Try again.</span>\"))\n",
    "            step8Complete = False\n",
    "\n",
    "    elif (result.returncode == 3):\n",
    "        output8.clear_output()\n",
    "        with output8:\n",
    "            display(HTML(\"<span style='color: red;'>Your file did not run properly. Re-compile your file, then fix any warnings/errors.</span>\"))\n",
    "            step8Complete = False\n",
    "\n",
    "    elif (result.returncode == 4):\n",
    "        output8.clear_output()\n",
    "        with output8:\n",
    "            display(HTML(\"<span style='color: red;'>Your call to malloc() or free() is missing or incorrect. Try again</span>\"))\n",
    "            step8Complete = False\n",
    "\n",
    "def check_step_8(b):\n",
    "    if (warn_student()):\n",
    "        output8.clear_output()\n",
    "        with output8:\n",
    "            display(HTML(\"<span style='color: red;'><strong>WARNING:</strong> You have an autosaved lab that you have not yet loaded. If you would like to load your progress, click \\\"Load Lab\\\" at the top of the notebook. Otherwise, clicking on this button again will assume you're restarting the lab!</span>\"))\n",
    "    else:\n",
    "        step_8()\n",
    "\n",
    "        # Auto-save.\n",
    "        if (not runAllSteps):\n",
    "            trigger_save(\"8\", result.returncode)\n",
    "\n",
    "# Creating the button.\n",
    "button = widgets.Button(description=\"Check Work\")\n",
    "\n",
    "# Creating an output area.\n",
    "output8 = widgets.Output()\n",
    "\n",
    "# Run the command on click.\n",
    "button.on_click(check_step_8)\n",
    "\n",
    "# Display the output.\n",
    "display(button, output8)"
   ]
  },
  {
   "cell_type": "markdown",
   "metadata": {
    "deletable": false,
    "editable": false,
    "slideshow": {
     "slide_type": ""
    },
    "tags": []
   },
   "source": [
    "## <strong>Topic 2: Breaking Unsafe C Functions</strong>\n",
    "\n",
    "Many functions in C are \"unbounded\", meaning that they do not check bounds when they are executed. This is what leads to buffer overflows. These unbounded functions are located in the ```string.h``` header file, which you may read more about <a href=\"https://www.geeksforgeeks.org/c-library-string-h/\">here</a>.\n",
    "\n",
    "This is a list of unsafe C functions that could lead to a buffer overflow: ```strcpy```, ```strcmp```, ```strcat```, ```strchr```, ```strspn```, ```strcspn```, ```strpbrk```, ```sttchr```, ```strstr```, ```strtok```, and ```strlen```.\n",
    "\n",
    "In this topic, you will be breaking some of these string functions, then learn how to fix them. <u>The functions that you will be breaking are purposefully written inside of a user-defined function.</u> User-defined functions create a new \"stack frame\" within the Process Address Space. All variables and return addresses for this function are located in the stack.\n",
    "\n",
    "A <strong>stack canary</strong> is a value that gets placed in the stack, which lies after the variables, but before the return address of the function. If a buffer overflow overwrites the stack canary, the program will detect this alteration and typically terminate the process with an error, such as ```stack smashing detected```. Stack canaries are not located within ```main()```, which makes it more difficult to detect a buffer overflow, unless a segmentation fault occurs or a variable becomes overwritten."
   ]
  },
  {
   "cell_type": "markdown",
   "metadata": {
    "deletable": false,
    "editable": false,
    "slideshow": {
     "slide_type": ""
    },
    "tags": []
   },
   "source": [
    "### Step 9: Breaking ```strcpy```\n",
    "\n",
    "The ```strcpy``` function stands for \"string copy\". This is the signature of the ```strcpy``` command:\n",
    "\n",
    "```char* strcpy(char* destination, const char* source);```\n",
    "\n",
    "Parameters:\n",
    "- ```destination``` is a pointer to the destination array where the content is to be copied.\n",
    "- ```source``` is the C string to be copied.\n",
    "\n",
    "<a href=\"https://cplusplus.com/reference/cstring/strcpy/\">Link to official documentation.</a>\n",
    "\n",
    "Upon completing Step 8, a file named ```step_9.c``` was automatically created for you. <strong>You can find this file inside of ```~/topic_2```.</strong> This is the source code:\n",
    "\n",
    "```\n",
    "#include <stdio.h>\n",
    "#include <string.h>\n",
    "\n",
    "void copy_string() {\n",
    "    char *str1 = \"Hello!\\n\";\n",
    "    char str2[10];\n",
    "\n",
    "    strcpy(str2, str1);\n",
    "    \n",
    "    printf(\"%s\\n\", str2);\n",
    "}\n",
    "\n",
    "int main() {\n",
    "    copy_string();\n",
    "    return 0;\n",
    "}\n",
    "```\n",
    "\n",
    "<strong>Your task:</strong> Run this file and observe its functionality. Your task is to produce a buffer overflow with this function. <u>Change the values of the strings. NOT the functionality of the program</u>. Click \"Check Payload\" to see if your program crashes. If your program crashes, then you will pass this step."
   ]
  },
  {
   "cell_type": "code",
   "execution_count": 12,
   "metadata": {
    "deletable": false,
    "editable": false,
    "jupyter": {
     "source_hidden": true
    },
    "slideshow": {
     "slide_type": ""
    },
    "tags": []
   },
   "outputs": [
    {
     "data": {
      "application/vnd.jupyter.widget-view+json": {
       "model_id": "ae8d1735338e4d90b0daea05159fd00f",
       "version_major": 2,
       "version_minor": 0
      },
      "text/plain": [
       "Button(description='Check Payload', style=ButtonStyle())"
      ]
     },
     "metadata": {},
     "output_type": "display_data"
    },
    {
     "data": {
      "application/vnd.jupyter.widget-view+json": {
       "model_id": "121d8153d37049d2a9919bcc91095539",
       "version_major": 2,
       "version_minor": 0
      },
      "text/plain": [
       "Output()"
      ]
     },
     "metadata": {},
     "output_type": "display_data"
    }
   ],
   "source": [
    "# Click the button below to check your work.\n",
    "step9Complete = False\n",
    "\n",
    "# Function to check the permissions.\n",
    "def step_9():\n",
    "    # Important variables that must be accessed outside of this function.\n",
    "    global step9Complete, result\n",
    "\n",
    "    with output9:\n",
    "        output9.clear_output()\n",
    "        display(HTML(\"<span><img width='14px' height='14px' style='margin-left: 3px;' src='resources/loading.gif'></span>\"))\n",
    "    \n",
    "    result = subprocess.run('ssh -i /home/USERNAME_GOES_HERE/.ssh/merge_key USERNAME_GOES_HERE@buffer /home/.checker/section_2.py 9', shell=True, capture_output=True, text=True)\n",
    "    \n",
    "    if (result.returncode == 0):\n",
    "        output9.clear_output()\n",
    "        with output9:\n",
    "            display(HTML(\"<span style='color: green;'>Success! You crashed the C program.</span>\"))\n",
    "            step9Complete = True\n",
    "\n",
    "    elif (result.returncode == 1):\n",
    "        output9.clear_output()\n",
    "        with output9:\n",
    "            display(HTML(\"<span style='color: red;'>The program ran successfully and didn't crash. Check your work.</span>\"))\n",
    "            step9Complete = False\n",
    "    \n",
    "    elif (result.returncode == 2):\n",
    "        output9.clear_output()\n",
    "        with output9:\n",
    "            display(HTML(\"<span style='color: red;'>One (or both) of your step_9.c and step_9 files cannot be found in the topic_2/ directory. Make sure to compile your file as step_9. Try again.</span>\"))\n",
    "            step9Complete = False\n",
    "\n",
    "    elif (result.returncode == 3):\n",
    "        output9.clear_output()\n",
    "        with output9:\n",
    "            display(HTML(\"<span style='color: red;'>step_9.c has an error and doesn't compile. Check your work.</span>\"))\n",
    "            step9Complete = False\n",
    "\n",
    "    elif (result.returncode == 4):\n",
    "        output9.clear_output()\n",
    "        with output9:\n",
    "            display(HTML(\"<span style='color: red;'>step_9.c appears to have its function changed. Please only change the payload.</span>\"))\n",
    "            step9Complete = False\n",
    "\n",
    "    elif (result.returncode == 1):\n",
    "        output11.clear_output()\n",
    "        with output11:\n",
    "            display(HTML(\"<span style='color: red;'>Your program compiled and ran successfully. Please adjust your work to create a segmentation fault.</span>\"))\n",
    "            step11Complete = False\n",
    "\n",
    "def check_step_9(b):\n",
    "    if (warn_student()):\n",
    "        output9.clear_output()\n",
    "        with output9:\n",
    "            display(HTML(\"<span style='color: red;'><strong>WARNING:</strong> You have an autosaved lab that you have not yet loaded. If you would like to load your progress, click \\\"Load Lab\\\" at the top of the notebook. Otherwise, clicking on this button again will assume you're restarting the lab!</span>\"))\n",
    "    else:\n",
    "        step_9()\n",
    "\n",
    "        # Auto-save.\n",
    "        if (not runAllSteps):\n",
    "            trigger_save(\"9\", result.returncode)\n",
    "\n",
    "# Creating the button.\n",
    "button = widgets.Button(description=\"Check Payload\")\n",
    "\n",
    "# Creating an output area.\n",
    "output9 = widgets.Output()\n",
    "\n",
    "# Run the command on click.\n",
    "button.on_click(check_step_9)\n",
    "\n",
    "# Display the output.\n",
    "display(button, output9)"
   ]
  },
  {
   "cell_type": "markdown",
   "metadata": {
    "deletable": false,
    "editable": false,
    "slideshow": {
     "slide_type": ""
    },
    "tags": []
   },
   "source": [
    "### Step 10: Breaking ```strcmp```\n",
    "\n",
    "The ```strcmp``` function stands for \"string compare\". This is the signature of the ```strcmp``` command:\n",
    "\n",
    "```int strcmp (const char* str1, const char* str2);```\n",
    "\n",
    "Parameters:\n",
    "- ```str1``` and ```str2``` are strings to be compared with each other.\n",
    "\n",
    "<a href=\"https://cplusplus.com/reference/cstring/strcmp/\">Link to official documentation.</a>\n",
    "\n",
    "Upon completing Step 9, a file named ```step_10.c``` was automatically created for you. You can find this file inside of ```~/topic_2```. This is the source code:\n",
    "\n",
    "```\n",
    "#include <stdio.h>\n",
    "#include <string.h>\n",
    "\n",
    "void compare_string() {\n",
    "    char str1[] = \"Hello\";\n",
    "    char str2[] = \"Hello\";\n",
    "\n",
    "    int result = strcmp(str1, str2);\n",
    "\n",
    "    if (result == 0) {\n",
    "        printf(\"The strings are the same!\\n\");\n",
    "    } \n",
    "    \n",
    "    else {\n",
    "        printf(\"The strings are NOT the same!\\n\");\n",
    "    }\n",
    "}\n",
    "\n",
    "int main() {\n",
    "    compare_string();\n",
    "    return 0;\n",
    "}\n",
    "```\n",
    "\n",
    "<strong>Your task:</strong> Run this file and observe its functionality. Your task is to make ```str1``` and ```str2``` be the same character array, but print ```The strings are NOT the same!```. <u>Change the values of the strings. NOT the functionality of the program</u>. Your two variables are required to be named ```str1``` and ```str2```. Do not rename these, or your step will not pass.\n",
    "\n",
    "<span style=\"color: green\"><strong><img src=\"resources/idea.png\" style=\"width: 12px\"> Tip:</strong></span> Review Step 5 if you are stuck."
   ]
  },
  {
   "cell_type": "code",
   "execution_count": 13,
   "metadata": {
    "deletable": false,
    "jupyter": {
     "source_hidden": true
    },
    "slideshow": {
     "slide_type": ""
    },
    "tags": []
   },
   "outputs": [
    {
     "data": {
      "application/vnd.jupyter.widget-view+json": {
       "model_id": "f28dd7686ed04c45871a81f1dbd5cfae",
       "version_major": 2,
       "version_minor": 0
      },
      "text/plain": [
       "Button(description='Check Payload', style=ButtonStyle())"
      ]
     },
     "metadata": {},
     "output_type": "display_data"
    },
    {
     "data": {
      "application/vnd.jupyter.widget-view+json": {
       "model_id": "fbe9f245eba94f3c833bc6ed18d78eee",
       "version_major": 2,
       "version_minor": 0
      },
      "text/plain": [
       "Output()"
      ]
     },
     "metadata": {},
     "output_type": "display_data"
    }
   ],
   "source": [
    "# Click the button below to check your work.\n",
    "step10Complete = False\n",
    "\n",
    "# Function to check the permissions.\n",
    "def step_10():\n",
    "    # Important variables that must be accessed outside of this function.\n",
    "    global step10Complete, result\n",
    "\n",
    "    with output10:\n",
    "        output10.clear_output()\n",
    "        display(HTML(\"<span><img width='14px' height='14px' style='margin-left: 3px;' src='resources/loading.gif'></span>\"))\n",
    "    \n",
    "    result = subprocess.run('ssh -i /home/USERNAME_GOES_HERE/.ssh/merge_key USERNAME_GOES_HERE@buffer /home/.checker/section_2.py 10', shell=True, capture_output=True, text=True)\n",
    "    \n",
    "    if (result.returncode == 0):\n",
    "        output10.clear_output()\n",
    "        with output10:\n",
    "            display(HTML(\"<span style='color: green;'>Success! You tricked the C program.</span>\"))\n",
    "            step10Complete = True\n",
    "    \n",
    "    elif (result.returncode == 2):\n",
    "        output10.clear_output()\n",
    "        with output10:\n",
    "            display(HTML(\"<span style='color: red;'>One (or both) of your step_10.c and step_10 files cannot be found in the topic_2/ directory. Make sure to compile your file as step_10. Try again.</span>\"))\n",
    "            step10Complete = False\n",
    "\n",
    "    elif (result.returncode == 3):\n",
    "        output10.clear_output()\n",
    "        with output10:\n",
    "            display(HTML(\"<span style='color: red;'>step_10.c has an error and doesn't compile. Check your work.</span>\"))\n",
    "            step10Complete = False\n",
    "\n",
    "    elif (result.returncode == 4):\n",
    "        output10.clear_output()\n",
    "        with output10:\n",
    "            display(HTML(\"<span style='color: red;'>It appears that your variables may have been renamed. Please only change the payload of str1 and str2.</span>\"))\n",
    "            step10Complete = False\n",
    "\n",
    "    elif (result.returncode == 5):\n",
    "        output10.clear_output()\n",
    "        with output10:\n",
    "            display(HTML(\"<span style='color: red;'>It appears that you are manually changing the string values after declaring them to be the same. You are not allowed to change the values of the strings after updating them.</span>\"))\n",
    "            step10Complete = False\n",
    "\n",
    "    elif (result.returncode == 1):\n",
    "        output10.clear_output()\n",
    "        with output10:\n",
    "            display(HTML(\"<span style='color: red;'>Your two strings appear to be the same, but the program does NOT say \\\"The strings are NOT the same!\\\". Review Step 5 for an idea with how to trick the program into thinking the strings are the same.</span>\"))\n",
    "            step10Complete = False\n",
    "\n",
    "def check_step_10(b):\n",
    "    if (warn_student()):\n",
    "        output10.clear_output()\n",
    "        with output10:\n",
    "            display(HTML(\"<span style='color: red;'><strong>WARNING:</strong> You have an autosaved lab that you have not yet loaded. If you would like to load your progress, click \\\"Load Lab\\\" at the top of the notebook. Otherwise, clicking on this button again will assume you're restarting the lab!</span>\"))\n",
    "    else:\n",
    "        step_10()\n",
    "\n",
    "        # Auto-save.\n",
    "        if (not runAllSteps):\n",
    "            trigger_save(\"10\", result.returncode)\n",
    "\n",
    "# Creating the button.\n",
    "button = widgets.Button(description=\"Check Payload\")\n",
    "\n",
    "# Creating an output area.\n",
    "output10 = widgets.Output()\n",
    "\n",
    "# Run the command on click.\n",
    "button.on_click(check_step_10)\n",
    "\n",
    "# Display the output.\n",
    "display(button, output10)"
   ]
  },
  {
   "cell_type": "markdown",
   "metadata": {
    "deletable": false,
    "editable": false,
    "slideshow": {
     "slide_type": ""
    },
    "tags": []
   },
   "source": [
    "### Step 11: Breaking ```strcat```\n",
    "\n",
    "The ```strcat``` function stands for \"string concatenation\". This is the signature of the ```strcat``` command:\n",
    "\n",
    "```char* strcat(char* destination, const char* source);```\n",
    "\n",
    "Parameters:\n",
    "- ```destination``` is a pointer to the destination array, which should contain a C string, and be large enough to contain the concatenated resulting string.\n",
    "- ```source``` is the C string to be appended. This should not overlap destination.\n",
    "\n",
    "<a href=\"https://cplusplus.com/reference/cstring/strcat/\">Link to official documentation.</a>\n",
    "\n",
    "Upon completing Step 10, a file named ```step_11.c``` was automatically created for you. You can find this file inside of ```~/topic_2```. This is the source code:\n",
    "\n",
    "```\n",
    "#include <stdio.h>\n",
    "#include <string.h>\n",
    "\n",
    "void concat_string() {\n",
    "    char str1[20] = \"Hello,\";\n",
    "    char *str2 = \" World!\\n\";\n",
    "\n",
    "    strcat(str1, str2);\n",
    "\n",
    "    printf(\"%s\\n\", str1);\n",
    "}\n",
    "\n",
    "int main() {\n",
    "    concat_string();\n",
    "    return 0;\n",
    "}\n",
    "```\n",
    "\n",
    "<strong>Your task:</strong> Run this file and observe its functionality. Your task is to produce a buffer overflow with this function. <u>Change the values of the strings. NOT the functionality of the program</u>. Click \"Check Payload\" to see if your program crashes. If your program crashes, then you will pass this step."
   ]
  },
  {
   "cell_type": "code",
   "execution_count": 14,
   "metadata": {
    "deletable": false,
    "editable": false,
    "jupyter": {
     "source_hidden": true
    },
    "slideshow": {
     "slide_type": ""
    },
    "tags": []
   },
   "outputs": [
    {
     "data": {
      "application/vnd.jupyter.widget-view+json": {
       "model_id": "87406f7cf3644fc2a64b2490d9d054cd",
       "version_major": 2,
       "version_minor": 0
      },
      "text/plain": [
       "Button(description='Check Payload', style=ButtonStyle())"
      ]
     },
     "metadata": {},
     "output_type": "display_data"
    },
    {
     "data": {
      "application/vnd.jupyter.widget-view+json": {
       "model_id": "1941b8554de84ca4a9920be99689ec15",
       "version_major": 2,
       "version_minor": 0
      },
      "text/plain": [
       "Output()"
      ]
     },
     "metadata": {},
     "output_type": "display_data"
    }
   ],
   "source": [
    "# Click the button below to check your work.\n",
    "step11Complete = False\n",
    "\n",
    "# Function to check the permissions.\n",
    "def step_11():\n",
    "    # Important variables that must be accessed outside of this function.\n",
    "    global step11Complete, result\n",
    "\n",
    "    with output11:\n",
    "        output11.clear_output()\n",
    "        display(HTML(\"<span><img width='14px' height='14px' style='margin-left: 3px;' src='resources/loading.gif'></span>\"))\n",
    "    \n",
    "    result = subprocess.run('ssh -i /home/USERNAME_GOES_HERE/.ssh/merge_key USERNAME_GOES_HERE@buffer /home/.checker/section_2.py 11', shell=True, capture_output=True, text=True)\n",
    "    \n",
    "    if (result.returncode == 0):\n",
    "        output11.clear_output()\n",
    "        with output11:\n",
    "            display(HTML(\"<span style='color: green;'>Success! You crashed the C program.</span>\"))\n",
    "            step11Complete = True\n",
    "\n",
    "    # Note: This function doesn't return zero unless it's Step 10.\n",
    "    \n",
    "    elif (result.returncode == 2):\n",
    "        output11.clear_output()\n",
    "        with output11:\n",
    "            display(HTML(\"<span style='color: red;'>One (or both) of your step_11.c and step_11 files cannot be found in the topic_2/ directory. Make sure to compile your file as step_11. Try again.</span>\"))\n",
    "            step11Complete = False\n",
    "\n",
    "    elif (result.returncode == 3):\n",
    "        output11.clear_output()\n",
    "        with output11:\n",
    "            display(HTML(\"<span style='color: red;'>step_11.c has an error and doesn't compile. Check your work.</span>\"))\n",
    "            step11Complete = False\n",
    "\n",
    "    elif (result.returncode == 4):\n",
    "        output11.clear_output()\n",
    "        with output11:\n",
    "            display(HTML(\"<span style='color: red;'>step_11.c appears to have its function changed. Please only change the payload.</span>\"))\n",
    "            step11Complete = False\n",
    "\n",
    "    elif (result.returncode == 1):\n",
    "        output11.clear_output()\n",
    "        with output11:\n",
    "            display(HTML(\"<span style='color: red;'>Your program compiled and ran successfully. Please adjust your work to create a segmentation fault.</span>\"))\n",
    "            step11Complete = False\n",
    "\n",
    "def check_step_11(b):\n",
    "    if (warn_student()):\n",
    "        output11.clear_output()\n",
    "        with output11:\n",
    "            display(HTML(\"<span style='color: red;'><strong>WARNING:</strong> You have an autosaved lab that you have not yet loaded. If you would like to load your progress, click \\\"Load Lab\\\" at the top of the notebook. Otherwise, clicking on this button again will assume you're restarting the lab!</span>\"))\n",
    "    else:\n",
    "        step_11()\n",
    "\n",
    "        # Auto-save.\n",
    "        if (not runAllSteps):\n",
    "            trigger_save(\"11\", result.returncode)\n",
    "\n",
    "# Creating the button.\n",
    "button = widgets.Button(description=\"Check Payload\")\n",
    "\n",
    "# Creating an output area.\n",
    "output11 = widgets.Output()\n",
    "\n",
    "# Run the command on click.\n",
    "button.on_click(check_step_11)\n",
    "\n",
    "# Display the output.\n",
    "display(button, output11)"
   ]
  },
  {
   "cell_type": "markdown",
   "metadata": {
    "deletable": false,
    "editable": false,
    "slideshow": {
     "slide_type": ""
    },
    "tags": []
   },
   "source": [
    "### Step 12: Breaking ```sprintf```\n",
    "\n",
    "The ```sprintf``` function is a function that wasn't mentioned at the beginning of Topic 2, but can still be easily broken. You have already seen the ```printf``` statement many times already throughout this lab. The ```sprintf``` function means \"<u>s</u>tring <u>print</u> <u>f</u>ormatted\". <u>This function is not in ```string.h```, unlike the previous three functions.</u>\n",
    "\n",
    "<strong>To put simply</strong>, this function will assign a string to a variable name that you already initiated.\n",
    "\n",
    "This is the signature:\n",
    "\n",
    "```int sprintf (char* str, const char* format, ...);```\n",
    "\n",
    "Parameters: \n",
    "- ```str``` is a pointer to a buffer where the resulting C-string is stored. The buffer should be large enough to contain the resulting string.\n",
    "- ```format``` is the C string that contains a format string that follows the same specifications as format in ```printf```.\n",
    "- ```...``` are additional parameters that can be used, but would be unnecessary for this step.\n",
    "\n",
    "<a href=\"https://cplusplus.com/reference/cstdio/sprintf/?kw=sprintf\">Link to official documentation.</a>\n",
    "\n",
    "Upon completing Step 11, a file named ```step_12.c``` was automatically created for you. You can find this file inside of ```~/topic_2```. This is the source code:\n",
    "\n",
    "```\n",
    "#include <stdio.h>\n",
    "\n",
    "void sprintf_example() {\n",
    "    char buffer[15];\n",
    "    sprintf(buffer, \"Hello, world!\");\n",
    "    printf(\"%s\\n\", buffer);\n",
    "}\n",
    "\n",
    "int main() {\n",
    "    sprintf_example();\n",
    "    return 0;\n",
    "}\n",
    "\n",
    "```\n",
    "\n",
    "<strong>Your task:</strong> Run this file and observe its functionality. Your task is to continue calling ```sprintf```, but create a buffer overflow. <u>Change the values of the strings. NOT the functionality of the program</u>. Click \"Check Payload\" to see if your program crashes. If your program crashes, then you will pass this step."
   ]
  },
  {
   "cell_type": "code",
   "execution_count": 15,
   "metadata": {
    "deletable": false,
    "editable": false,
    "jupyter": {
     "source_hidden": true
    },
    "slideshow": {
     "slide_type": ""
    },
    "tags": []
   },
   "outputs": [
    {
     "data": {
      "application/vnd.jupyter.widget-view+json": {
       "model_id": "4928553fc8bb4782821a437c71a800a9",
       "version_major": 2,
       "version_minor": 0
      },
      "text/plain": [
       "Button(description='Check Payload', style=ButtonStyle())"
      ]
     },
     "metadata": {},
     "output_type": "display_data"
    },
    {
     "data": {
      "application/vnd.jupyter.widget-view+json": {
       "model_id": "89754d2cf35148f8b9054b6c4866e9de",
       "version_major": 2,
       "version_minor": 0
      },
      "text/plain": [
       "Output()"
      ]
     },
     "metadata": {},
     "output_type": "display_data"
    }
   ],
   "source": [
    "# Click the button below to check your work.\n",
    "step12Complete = False\n",
    "\n",
    "# Function to check the permissions.\n",
    "def step_12():\n",
    "    # Important variables that must be accessed outside of this function.\n",
    "    global step12Complete, result\n",
    "\n",
    "    with output12:\n",
    "        output12.clear_output()\n",
    "        display(HTML(\"<span><img width='14px' height='14px' style='margin-left: 3px;' src='resources/loading.gif'></span>\"))\n",
    "    \n",
    "    result = subprocess.run('ssh -i /home/USERNAME_GOES_HERE/.ssh/merge_key USERNAME_GOES_HERE@buffer /home/.checker/section_2.py 12', shell=True, capture_output=True, text=True)\n",
    "    \n",
    "    if (result.returncode == 0):\n",
    "        output12.clear_output()\n",
    "        with output12:\n",
    "            display(HTML(\"<span style='color: green;'>Success! You crashed the C program.</span>\"))\n",
    "            step12Complete = True\n",
    "\n",
    "    # Note: This function doesn't return zero unless it's Step 10.\n",
    "    \n",
    "    elif (result.returncode == 2):\n",
    "        output12.clear_output()\n",
    "        with output12:\n",
    "            display(HTML(\"<span style='color: red;'>One (or both) of your step_12.c and step_12 files cannot be found in the topic_2/ directory. Make sure to compile your file as step_12. Try again.</span>\"))\n",
    "            step12Complete = False\n",
    "\n",
    "    elif (result.returncode == 3):\n",
    "        output12.clear_output()\n",
    "        with output12:\n",
    "            display(HTML(\"<span style='color: red;'>step_12.c has an error and doesn't compile. Check your work.</span>\"))\n",
    "            step12Complete = False\n",
    "\n",
    "    elif (result.returncode == 4):\n",
    "        output12.clear_output()\n",
    "        with output12:\n",
    "            display(HTML(\"<span style='color: red;'>step_12.c appears to have its function changed. Please only change the payload.</span>\"))\n",
    "            step12Complete = False\n",
    "\n",
    "    elif (result.returncode == 5):\n",
    "        output12.clear_output()\n",
    "        with output12:\n",
    "            display(HTML(\"<span style='color: red;'>Your step was completed, but your step_9.c file wasn't found. This file is required to be made before you can continue.</span>\"))\n",
    "            step12Complete = False\n",
    "\n",
    "    elif (result.returncode == 1):\n",
    "        output12.clear_output()\n",
    "        with output12:\n",
    "            display(HTML(\"<span style='color: red;'>Your program compiled and ran successfully. Please adjust your work to create a segmentation fault.</span>\"))\n",
    "            step12Complete = False\n",
    "\n",
    "def check_step_12(b):\n",
    "    if (warn_student()):\n",
    "        output12.clear_output()\n",
    "        with output12:\n",
    "            display(HTML(\"<span style='color: red;'><strong>WARNING:</strong> You have an autosaved lab that you have not yet loaded. If you would like to load your progress, click \\\"Load Lab\\\" at the top of the notebook. Otherwise, clicking on this button again will assume you're restarting the lab!</span>\"))\n",
    "    else:\n",
    "        step_12()\n",
    "\n",
    "        # Auto-save.\n",
    "        if (not runAllSteps):\n",
    "            trigger_save(\"12\", result.returncode)\n",
    "\n",
    "# Creating the button.\n",
    "button = widgets.Button(description=\"Check Payload\")\n",
    "\n",
    "# Creating an output area.\n",
    "output12 = widgets.Output()\n",
    "\n",
    "# Run the command on click.\n",
    "button.on_click(check_step_12)\n",
    "\n",
    "# Display the output.\n",
    "display(button, output12)"
   ]
  },
  {
   "cell_type": "markdown",
   "metadata": {
    "deletable": false,
    "editable": false,
    "slideshow": {
     "slide_type": ""
    },
    "tags": []
   },
   "source": [
    "## <strong>Topic 3: Fixing Unsafe C Functions</strong>\n",
    "\n",
    "In the previous topic, you have experimented with four of the many unsafe C functions. There should be a common pattern that occurs with all of these functions. The functions broke due because of a null terminator not existing, or the bounds of a buffer (your string) were not properly constrainted, which created a \"stack buffer overflow\".\n",
    "\n",
    "Now, you are going to take the four functions that you broke, and you will be applying fixes to them."
   ]
  },
  {
   "cell_type": "markdown",
   "metadata": {
    "deletable": false,
    "editable": false,
    "slideshow": {
     "slide_type": ""
    },
    "tags": []
   },
   "source": [
    "### Step 13: Fixing ```strcpy```\n",
    "\n",
    "Your file called ```step_9.c``` had its ```strcpy``` function broken. To keep the functionality of this file, but to make it safer, you will use ```strncpy```. Here is the signature for the function:\n",
    "\n",
    "```char* strncpy (char* destination, const char* source, size_t num);```\n",
    "\n",
    "Parameters:\n",
    "- ```destination``` is a pointer to the destination array where the content is to be copied.\n",
    "- ```source``` is the C string to be copied.\n",
    "- ```num``` is the maximum number of characters to be copied from source. Recall that ```size_t``` is an unsigned integer, meaning that it can't be negative. \n",
    "\n",
    "<a href=\"https://cplusplus.com/reference/cstring/strncpy/\">Link to official documentation.</a>\n",
    "\n",
    "<strong>Now, ```topic_3/``` was created in your home directory.</strong> Upon completing Step 12, a file named ```step_13.c``` was created inside of ```topic_3/```. This file is your copy of ```step_9.c``` with its vulnerability.\n",
    "\n",
    "<u>Do not change anything except the line containing ```strcpy```.</u>\n",
    "\n",
    "Click \"Check Payload\" to test your fix.\n",
    "\n",
    "<span style=\"color: green\"><strong><img src=\"resources/idea.png\" style=\"width: 12px\"> Tip:</strong></span> ```strncpy``` does not automatically append a null-termination string. You would have to manually add a ```\\0``` at the end of the destination string. However, the main goal for this step is to just prevent a ```Segmentation Fault```. If your string does not print the first 10 characters correctly, that is fine. You are just preventing a crash from occurring for this step."
   ]
  },
  {
   "cell_type": "code",
   "execution_count": 16,
   "metadata": {
    "deletable": false,
    "editable": false,
    "jupyter": {
     "source_hidden": true
    },
    "slideshow": {
     "slide_type": ""
    },
    "tags": []
   },
   "outputs": [
    {
     "data": {
      "application/vnd.jupyter.widget-view+json": {
       "model_id": "02870f1ca3b14e0583fae4a88e7a492b",
       "version_major": 2,
       "version_minor": 0
      },
      "text/plain": [
       "Button(description='Check Payload', style=ButtonStyle())"
      ]
     },
     "metadata": {},
     "output_type": "display_data"
    },
    {
     "data": {
      "application/vnd.jupyter.widget-view+json": {
       "model_id": "9e1d461754464a1cafdbceb491ac585c",
       "version_major": 2,
       "version_minor": 0
      },
      "text/plain": [
       "Output()"
      ]
     },
     "metadata": {},
     "output_type": "display_data"
    }
   ],
   "source": [
    "# Click the button below to check your work.\n",
    "step13Complete = False\n",
    "\n",
    "# Function to check the permissions.\n",
    "def step_13():\n",
    "    # Important variables that must be accessed outside of this function.\n",
    "    global step13Complete, result\n",
    "\n",
    "    with output13:\n",
    "        output13.clear_output()\n",
    "        display(HTML(\"<span><img width='14px' height='14px' style='margin-left: 3px;' src='resources/loading.gif'></span>\"))\n",
    "    \n",
    "    result = subprocess.run('ssh -i /home/USERNAME_GOES_HERE/.ssh/merge_key USERNAME_GOES_HERE@buffer /home/.checker/section_3.py 13', shell=True, capture_output=True, text=True)\n",
    "    \n",
    "    if (result.returncode == 0):\n",
    "        output13.clear_output()\n",
    "        with output13:\n",
    "            display(HTML(\"<span style='color: green;'>Success! Your previous payload doesn't crash the file anymore.</span>\"))\n",
    "            step13Complete = True\n",
    "\n",
    "    elif (result.returncode == 1):\n",
    "        output13.clear_output()\n",
    "        with output13:\n",
    "            display(HTML(\"<span style='color: red;'>Your file doesn't appear to be patched, or you changed more than the line containing strcpy. Keep your variables the same names. Try again.</span>\"))\n",
    "            step13Complete = False\n",
    "    \n",
    "    elif (result.returncode == 2):\n",
    "        output13.clear_output()\n",
    "        with output13:\n",
    "            display(HTML(\"<span style='color: red;'>You are not using the required function(s) in step_13.c or step_9.c. If Step 9 passes successfully, then make sure that step_13.c is using strncpy.</span>\"))\n",
    "            step13Complete = False\n",
    "\n",
    "    elif (result.returncode == 3):\n",
    "        output13.clear_output()\n",
    "        with output13:\n",
    "            display(HTML(\"<span style='color: red;'>step_13.c doesn't compile correctly. Please fix any errors and try again.</span>\"))\n",
    "            step13Complete = False\n",
    "\n",
    "    elif (result.returncode == 4):\n",
    "        output13.clear_output()\n",
    "        with output13:\n",
    "            display(HTML(\"<span style='color: red;'>step_13.c and/or step_9.c is missing.</span>\"))\n",
    "            step13Complete = False\n",
    "\n",
    "    elif (result.returncode == 5):\n",
    "        output13.clear_output()\n",
    "        with output13:\n",
    "            display(HTML(\"<span style='color: red;'>Your exploit for Step 9 doesn't appear to work anymore. Please go back and re-crash the program.</span>\"))\n",
    "            step13Complete = False\n",
    "\n",
    "def check_step_13(b):\n",
    "    if (warn_student()):\n",
    "        output13.clear_output()\n",
    "        with output13:\n",
    "            display(HTML(\"<span style='color: red;'><strong>WARNING:</strong> You have an autosaved lab that you have not yet loaded. If you would like to load your progress, click \\\"Load Lab\\\" at the top of the notebook. Otherwise, clicking on this button again will assume you're restarting the lab!</span>\"))\n",
    "    else:\n",
    "        step_13()\n",
    "\n",
    "        # Auto-save.\n",
    "        if (not runAllSteps):\n",
    "            trigger_save(\"13\", result.returncode)\n",
    "\n",
    "# Creating the button.\n",
    "button = widgets.Button(description=\"Check Payload\")\n",
    "\n",
    "# Creating an output area.\n",
    "output13 = widgets.Output()\n",
    "\n",
    "# Run the command on click.\n",
    "button.on_click(check_step_13)\n",
    "\n",
    "# Display the output.\n",
    "display(button, output13)"
   ]
  },
  {
   "cell_type": "markdown",
   "metadata": {
    "deletable": false,
    "editable": false,
    "slideshow": {
     "slide_type": ""
    },
    "tags": []
   },
   "source": [
    "### Step 14: Fixing ```strcmp```\n",
    "\n",
    "Your file called ```step_10.c``` had its ```strcmp``` function broken. To keep the functionality of this file, but to make it safer, you will use ```strncmp```. Here is the signature for the function:\n",
    "\n",
    "```int strncmp (const char* str1, const char* str2, size_t num);```\n",
    "\n",
    "Parameters:\n",
    "- ```str1``` and ```str2``` are strings to be compared with each other.\n",
    "- ```num``` is the maximum number of characters to be copied from source. Recall that ```size_t``` is an unsigned integer, meaning that it can't be negative. \n",
    "\n",
    "<a href=\"https://cplusplus.com/reference/cstring/strncmp/\">Link to official documentation.</a>\n",
    "\n",
    "<u>Do not change anything except the line containing ```strcmp```.</u>\n",
    "\n",
    "Click \"Check Payload\" to test your fix."
   ]
  },
  {
   "cell_type": "code",
   "execution_count": 17,
   "metadata": {
    "deletable": false,
    "editable": false,
    "jupyter": {
     "source_hidden": true
    },
    "slideshow": {
     "slide_type": ""
    },
    "tags": []
   },
   "outputs": [
    {
     "data": {
      "application/vnd.jupyter.widget-view+json": {
       "model_id": "95223394f1f84746a5835b44e91e2f76",
       "version_major": 2,
       "version_minor": 0
      },
      "text/plain": [
       "Button(description='Check Payload', style=ButtonStyle())"
      ]
     },
     "metadata": {},
     "output_type": "display_data"
    },
    {
     "data": {
      "application/vnd.jupyter.widget-view+json": {
       "model_id": "2241d0d26c334747b3138b64aa9bd446",
       "version_major": 2,
       "version_minor": 0
      },
      "text/plain": [
       "Output()"
      ]
     },
     "metadata": {},
     "output_type": "display_data"
    }
   ],
   "source": [
    "# Click the button below to check your work.\n",
    "step14Complete = False\n",
    "\n",
    "# Function to check the permissions.\n",
    "def step_14():\n",
    "    # Important variables that must be accessed outside of this function.\n",
    "    global step14Complete, result\n",
    "\n",
    "    with output14:\n",
    "        output14.clear_output()\n",
    "        display(HTML(\"<span><img width='14px' height='14px' style='margin-left: 3px;' src='resources/loading.gif'></span>\"))\n",
    "    \n",
    "    result = subprocess.run('ssh -i /home/USERNAME_GOES_HERE/.ssh/merge_key USERNAME_GOES_HERE@buffer /home/.checker/section_3.py 14', shell=True, capture_output=True, text=True)\n",
    "    \n",
    "    if (result.returncode == 0):\n",
    "        output14.clear_output()\n",
    "        with output14:\n",
    "            display(HTML(\"<span style='color: green;'>Success! Your previous payload doesn't have a logic error anymore.</span>\"))\n",
    "            step14Complete = True\n",
    "\n",
    "    elif (result.returncode == 1):\n",
    "        output14.clear_output()\n",
    "        with output14:\n",
    "            display(HTML(\"<span style='color: red;'>Your file doesn't appear to be patched, or you changed more than the line containing strcmp. Keep your variables the same names. Try again.</span>\"))\n",
    "            step14Complete = False\n",
    "    \n",
    "    elif (result.returncode == 2):\n",
    "        output14.clear_output()\n",
    "        with output14:\n",
    "            display(HTML(\"<span style='color: red;'>You are not using the required function(s) in step_14.c or step_10.c. If Step 10 passes successfully, then make sure that step_14.c is using strncmp.</span>\"))\n",
    "            step14Complete = False\n",
    "\n",
    "    elif (result.returncode == 3):\n",
    "        output14.clear_output()\n",
    "        with output14:\n",
    "            display(HTML(\"<span style='color: red;'>step_14.c doesn't compile correctly. Please fix any errors and try again.</span>\"))\n",
    "            step14Complete = False\n",
    "\n",
    "    elif (result.returncode == 4):\n",
    "        output14.clear_output()\n",
    "        with output14:\n",
    "            display(HTML(\"<span style='color: red;'>step_14.c and/or step_10.c is missing.</span>\"))\n",
    "            step14Complete = False\n",
    "\n",
    "    elif (result.returncode == 5):\n",
    "        output14.clear_output()\n",
    "        with output14:\n",
    "            display(HTML(\"<span style='color: red;'>Your exploit for Step 10 doesn't appear to work anymore. Please go back and re-crash the program.</span>\"))\n",
    "            step14Complete = False\n",
    "\n",
    "def check_step_14(b):\n",
    "    if (warn_student()):\n",
    "        output14.clear_output()\n",
    "        with output14:\n",
    "            display(HTML(\"<span style='color: red;'><strong>WARNING:</strong> You have an autosaved lab that you have not yet loaded. If you would like to load your progress, click \\\"Load Lab\\\" at the top of the notebook. Otherwise, clicking on this button again will assume you're restarting the lab!</span>\"))\n",
    "    else:\n",
    "        step_14()\n",
    "\n",
    "        # Auto-save.\n",
    "        if (not runAllSteps):\n",
    "            trigger_save(\"14\", result.returncode)\n",
    "    \n",
    "# Creating the button.\n",
    "button = widgets.Button(description=\"Check Payload\")\n",
    "\n",
    "# Creating an output area.\n",
    "output14 = widgets.Output()\n",
    "\n",
    "# Run the command on click.\n",
    "button.on_click(check_step_14)\n",
    "\n",
    "# Display the output.\n",
    "display(button, output14)"
   ]
  },
  {
   "cell_type": "markdown",
   "metadata": {
    "deletable": false,
    "editable": false,
    "slideshow": {
     "slide_type": ""
    },
    "tags": []
   },
   "source": [
    "### Step 15: Fixing ```strcat```\n",
    "\n",
    "Your file called ```step_11.c``` had its ```strcat``` function broken. To keep the functionality of this file, but to make it safer, you will use ```strncat```. Here is the signature for the function:\n",
    "\n",
    "```char* strncat (char* destination, const char* source, size_t num);```\n",
    "\n",
    "Parameters:\n",
    "- ```destination``` is a pointer to the destination array, which should contain a C string, and be large enough to contain the concatenated resulting string.\n",
    "- ```source``` is the C string to be appended. This should not overlap destination.\n",
    "- ```num``` is the maximum number of characters to be copied from source. Recall that ```size_t``` is an unsigned integer, meaning that it can't be negative. \n",
    "\n",
    "<a href=\"https://cplusplus.com/reference/cstring/strncat/\">Link to official documentation.</a>\n",
    "\n",
    "<u>Do not change anything except the line containing ```strcat```.</u>\n",
    "\n",
    "Click \"Check Payload\" to test your fix."
   ]
  },
  {
   "cell_type": "code",
   "execution_count": 18,
   "metadata": {
    "deletable": false,
    "editable": false,
    "jupyter": {
     "source_hidden": true
    },
    "slideshow": {
     "slide_type": ""
    },
    "tags": []
   },
   "outputs": [
    {
     "data": {
      "application/vnd.jupyter.widget-view+json": {
       "model_id": "307bf9eeaf2b4012aae310f82fae96fa",
       "version_major": 2,
       "version_minor": 0
      },
      "text/plain": [
       "Button(description='Check Payload', style=ButtonStyle())"
      ]
     },
     "metadata": {},
     "output_type": "display_data"
    },
    {
     "data": {
      "application/vnd.jupyter.widget-view+json": {
       "model_id": "44ac59cd15e7462bb974a9b8784b7e6f",
       "version_major": 2,
       "version_minor": 0
      },
      "text/plain": [
       "Output()"
      ]
     },
     "metadata": {},
     "output_type": "display_data"
    }
   ],
   "source": [
    "# Click the button below to check your work.\n",
    "step15Complete = False\n",
    "\n",
    "# Function to check the permissions.\n",
    "def step_15():\n",
    "    # Important variables that must be accessed outside of this function.\n",
    "    global step15Complete, result\n",
    "\n",
    "    with output15:\n",
    "        output15.clear_output()\n",
    "        display(HTML(\"<span><img width='14px' height='14px' style='margin-left: 3px;' src='resources/loading.gif'></span>\"))\n",
    "    \n",
    "    result = subprocess.run('ssh -i /home/USERNAME_GOES_HERE/.ssh/merge_key USERNAME_GOES_HERE@buffer /home/.checker/section_3.py 15', shell=True, capture_output=True, text=True)\n",
    "    \n",
    "    if (result.returncode == 0):\n",
    "        output15.clear_output()\n",
    "        with output15:\n",
    "            display(HTML(\"<span style='color: green;'>Success! Your previous payload doesn't crash the file anymore.</span>\"))\n",
    "            step15Complete = True\n",
    "\n",
    "    elif (result.returncode == 1):\n",
    "        output15.clear_output()\n",
    "        with output15:\n",
    "            display(HTML(\"<span style='color: red;'>Your file doesn't appear to be patched, or you changed more than the line containing strcat. Keep your variables the same names. Try again.</span>\"))\n",
    "            step15Complete = False\n",
    "    \n",
    "    elif (result.returncode == 2):\n",
    "        output15.clear_output()\n",
    "        with output15:\n",
    "            display(HTML(\"<span style='color: red;'>You are not using the required function(s) in step_15.c or step_11.c. If Step 11 passes successfully, then make sure that step_15.c is using strncat.</span>\"))\n",
    "            step15Complete = False\n",
    "\n",
    "    elif (result.returncode == 3):\n",
    "        output15.clear_output()\n",
    "        with output15:\n",
    "            display(HTML(\"<span style='color: red;'>step_15.c doesn't compile correctly. Please fix any errors and try again.</span>\"))\n",
    "            step15Complete = False\n",
    "\n",
    "    elif (result.returncode == 4):\n",
    "        output15.clear_output()\n",
    "        with output15:\n",
    "            display(HTML(\"<span style='color: red;'>step_15.c and/or step_11.c is missing.</span>\"))\n",
    "            step15Complete = False\n",
    "\n",
    "    elif (result.returncode == 5):\n",
    "        output15.clear_output()\n",
    "        with output15:\n",
    "            display(HTML(\"<span style='color: red;'>Your exploit for Step 11 doesn't appear to work anymore. Please go back and re-crash the program.</span>\"))\n",
    "            step15Complete = False\n",
    "\n",
    "def check_step_15(b):\n",
    "    if (warn_student()):\n",
    "        output15.clear_output()\n",
    "        with output15:\n",
    "            display(HTML(\"<span style='color: red;'><strong>WARNING:</strong> You have an autosaved lab that you have not yet loaded. If you would like to load your progress, click \\\"Load Lab\\\" at the top of the notebook. Otherwise, clicking on this button again will assume you're restarting the lab!</span>\"))\n",
    "    else:\n",
    "        step_15()\n",
    "\n",
    "        # Auto-save.\n",
    "        if (not runAllSteps):\n",
    "            trigger_save(\"15\", result.returncode)\n",
    "\n",
    "# Creating the button.\n",
    "button = widgets.Button(description=\"Check Payload\")\n",
    "\n",
    "# Creating an output area.\n",
    "output15 = widgets.Output()\n",
    "\n",
    "# Run the command on click.\n",
    "button.on_click(check_step_15)\n",
    "\n",
    "# Display the output.\n",
    "display(button, output15)"
   ]
  },
  {
   "cell_type": "markdown",
   "metadata": {
    "deletable": false,
    "editable": false,
    "slideshow": {
     "slide_type": ""
    },
    "tags": []
   },
   "source": [
    "### Step 16: Fixing ```sprintf```\n",
    "\n",
    "Your file called ```step_12.c``` had its ```sprintf``` function broken. To keep the functionality of this file, but to make it safer, you will use ```snprintf```. Here is the signature for the function:\n",
    "\n",
    "```int snprintf (char* s, size_t n, const char* format, ...);```\n",
    "\n",
    "Parameters: \n",
    "- ```str``` is a pointer to a buffer where the resulting C-string is stored. The buffer should be large enough to contain the resulting string.\n",
    "- ```n``` is the maximum number of characters to be copied from source. Recall that ```size_t``` is an unsigned integer, meaning that it can't be negative. \n",
    "- ```format``` is the C string that contains a format string that follows the same specifications as format in ```printf```.\n",
    "- ```...``` are additional parameters that can be used, but would be unnecessary for this step.\n",
    "\n",
    "<a href=\"https://cplusplus.com/reference/cstdio/snprintf/?kw=snprintf\">Link to official documentation.</a>\n",
    "\n",
    "<u>Do not change anything except the line containing ```sprintf```.</u>\n",
    "\n",
    "Click \"Check Payload\" to test your fix."
   ]
  },
  {
   "cell_type": "code",
   "execution_count": 19,
   "metadata": {
    "deletable": false,
    "editable": false,
    "jupyter": {
     "source_hidden": true
    },
    "slideshow": {
     "slide_type": ""
    },
    "tags": []
   },
   "outputs": [
    {
     "data": {
      "application/vnd.jupyter.widget-view+json": {
       "model_id": "4031f06e953d494993cdf6623b19b8b5",
       "version_major": 2,
       "version_minor": 0
      },
      "text/plain": [
       "Button(description='Check Payload', style=ButtonStyle())"
      ]
     },
     "metadata": {},
     "output_type": "display_data"
    },
    {
     "data": {
      "application/vnd.jupyter.widget-view+json": {
       "model_id": "09a28312f03643aea9d7541252b4ccb9",
       "version_major": 2,
       "version_minor": 0
      },
      "text/plain": [
       "Output()"
      ]
     },
     "metadata": {},
     "output_type": "display_data"
    }
   ],
   "source": [
    "# Click the button below to check your work.\n",
    "step16Complete = False\n",
    "\n",
    "# Function to check the permissions.\n",
    "def step_16():\n",
    "    # Important variables that must be accessed outside of this function.\n",
    "    global step16Complete, result\n",
    "\n",
    "    with output16:\n",
    "        output16.clear_output()\n",
    "        display(HTML(\"<span>Please wait. This step will take longer if you passed. Your notebook is setting up Topic 4...<img width='12px' height='12px' style='margin-left: 3px;' src='resources/loading.gif'></span>\"))\n",
    "    \n",
    "    result = subprocess.run('ssh -i /home/USERNAME_GOES_HERE/.ssh/merge_key USERNAME_GOES_HERE@buffer /home/.checker/section_3.py 16', shell=True, capture_output=True, text=True)\n",
    "    \n",
    "    if (result.returncode == 0):\n",
    "        output16.clear_output()\n",
    "        with output16:\n",
    "            display(HTML(\"<span style='color: green;'>Success! Your previous payload doesn't crash the file anymore.<br></span>\"))\n",
    "            display(HTML(\"<span style='color: green;'>Please wait. Your next topic is being set up...<img width='12px' height='12px' style='margin-left: 3px;' src='resources/loading.gif'></span>\"))\n",
    "\n",
    "            # Check if the topic_4 directory is already made.\n",
    "            result = subprocess.run('ssh -i /home/USERNAME_GOES_HERE/.ssh/merge_key USERNAME_GOES_HERE@buffer test -d \"/home/USERNAME_GOES_HERE/topic_4\"', shell=True)\n",
    "            if (result.returncode == 0):\n",
    "                # Run topic 4 setup.\n",
    "                subprocess.run(\"ssh -i /home/USERNAME_GOES_HERE/.ssh/merge_key USERNAME_GOES_HERE@buffer /home/.checker/create_topic_4.sh\", shell=True)\n",
    "                \n",
    "            # Setup is complete. Remove the loading message.\n",
    "            output16.clear_output()\n",
    "            with output16:\n",
    "                display(HTML(\"<span style='color: green;'>Success! Your previous payload doesn't crash the file anymore.<br></span>\"))\n",
    "                step16Complete = True\n",
    "\n",
    "    elif (result.returncode == 1):\n",
    "        output16.clear_output()\n",
    "        with output16:\n",
    "            display(HTML(\"<span style='color: red;'>Your file doesn't appear to be patched, or you changed more than the line containing sprintf. Keep your variables the same names. Try again.</span>\"))\n",
    "            step16Complete = False\n",
    "    \n",
    "    elif (result.returncode == 2):\n",
    "        output16.clear_output()\n",
    "        with output16:\n",
    "            display(HTML(\"<span style='color: red;'>You are not using the required function(s) in step_16.c or step_12.c. If Step 12 passes successfully, then make sure that step_16.c is using strncat.</span>\"))\n",
    "            step16Complete = False\n",
    "\n",
    "    elif (result.returncode == 3):\n",
    "        output16.clear_output()\n",
    "        with output16:\n",
    "            display(HTML(\"<span style='color: red;'>step_16.c doesn't compile correctly. Please fix any errors and try again.</span>\"))\n",
    "            step16Complete = False\n",
    "\n",
    "    elif (result.returncode == 4):\n",
    "        output16.clear_output()\n",
    "        with output16:\n",
    "            display(HTML(\"<span style='color: red;'>step_16.c and/or step_12.c is missing.</span>\"))\n",
    "            step16Complete = False\n",
    "\n",
    "    elif (result.returncode == 5):\n",
    "        output16.clear_output()\n",
    "        with output16:\n",
    "            display(HTML(\"<span style='color: red;'>Your exploit for Step 12 doesn't appear to work anymore. Please go back and re-crash the program.</span>\"))\n",
    "            step16Complete = False\n",
    "\n",
    "def check_step_16(b):\n",
    "    if (warn_student()):\n",
    "        output16.clear_output()\n",
    "        with output16:\n",
    "            display(HTML(\"<span style='color: red;'><strong>WARNING:</strong> You have an autosaved lab that you have not yet loaded. If you would like to load your progress, click \\\"Load Lab\\\" at the top of the notebook. Otherwise, clicking on this button again will assume you're restarting the lab!</span>\"))\n",
    "    else:\n",
    "        step_16()\n",
    "\n",
    "        # Auto-save.\n",
    "        if (not runAllSteps):\n",
    "            trigger_save(\"16\", result.returncode)\n",
    "\n",
    "# Creating the button.\n",
    "button = widgets.Button(description=\"Check Payload\")\n",
    "\n",
    "# Creating an output area.\n",
    "output16 = widgets.Output()\n",
    "\n",
    "# Run the command on click.\n",
    "button.on_click(check_step_16)\n",
    "\n",
    "# Display the output.\n",
    "display(button, output16)"
   ]
  },
  {
   "cell_type": "markdown",
   "metadata": {
    "deletable": false,
    "editable": false,
    "slideshow": {
     "slide_type": ""
    },
    "tags": []
   },
   "source": [
    "## <strong>Topic 4: A Large-Scale Buffer Overflow Attack</strong>\n",
    "\n",
    "In this final topic, you will be accessing a nuclear reactor simulator with four different vulnerabilities which can commonly appear in programs written in C:\n",
    "\n",
    "1. <strong>Buffer Overflow:</strong> When more bytes are put into a buffer than the buffer has space for.\n",
    "2. <strong>Off-By-One Errors:</strong> When a counting or inequality issue results in a arithmetic mistake of 1.\n",
    "3. <strong>Integer Overflow/Underflow and Sign Errors:</strong> When the \"wrapping\" of an integer type, or an incorrect sign causes something unexpected to happen.\n",
    "4. <strong>String Format Vulnerabilities:</strong> When a user is allowed to provide a format string to a ```printf``` statement.\n",
    "\n",
    "You have already explored plenty of buffer overflow examples, as well as string format vulnerabilities. Off-By-One errors and integer errors are common mistakes that can occur in programming. However, as said before, C does not perform preliminary checks. This means when a small arithmetic error occurs, it may not be detected, and will cause logic errors.\n",
    "\n",
    "<u>The scenario</u>: Wormwood is a nuclear reactor simulator. Written by an inexperienced C developer, plenty of mistakes are littered throughout the simulator. Many potential issues are present, and all it takes is for someone (either experienced or unexperienced) to use the wrong input, and catastrophe could occur.\n",
    "\n",
    "You have already practice a lot of buffer overflow. These are the other three vulnerabilities that are present in the simulator:\n",
    "\n",
    "<strong>Off-By-One errors</strong> occur when the arithmetic of a \"for\" loop is mishandled. Here's a common off-by-one error:\n",
    "\n",
    "```\n",
    "char list[] = {1, 2, 3, 4};\n",
    "for (int i = 0; i <= 4; ++i) {\n",
    "    printf(\"%d \", list[i]);\n",
    "}\n",
    "```\n",
    "\n",
    "Which prints: ```1 2 3 4 0```\n",
    "\n",
    "This does NOT cause an error. Despite accessing more elements than the list contains. An off-by-one error doesn't occur in just for loops. This can occur anytime that you're trying to access a specific element from an array or a char from a string. The error is most common when indices are not double-checked, since novice programmers tend to forget that indices start at 0, not 1.\n",
    "\n",
    "<strong>Integer overflow/underflow and sign errors</strong> occur when a number \"rolls over\" the maximum number of the integer's type. Take a look at this code:\n",
    "\n",
    "```\n",
    "#include <limits.h>\n",
    "#include <stdio.h>\n",
    "\n",
    "int main() {\n",
    "    printf(\"%d\", INT_MAX);\n",
    "    return 0;\n",
    "}\n",
    "\n",
    ">> 2147483647\n",
    "```\n",
    "\n",
    "The ```INT_MAX``` constant is the highest number that an integer can be. Attempting to add one to ```INT_MAX``` will result in this:\n",
    "\n",
    "```\n",
    "#include <limits.h>\n",
    "#include <stdio.h>\n",
    "\n",
    "int main() {\n",
    "    printf(\"%d\", INT_MAX + 1);\n",
    "    return 0;\n",
    "}\n",
    "\n",
    ">> main.c: In function ‘main’:\n",
    "main.c:5:26: warning: integer overflow in expression of type ‘int’ results in ‘-2147483648’ [-Woverflow]\n",
    "    5 |     printf(\"%d\", INT_MAX + 1);\n",
    "      |                          ^\n",
    "\n",
    ">> -2147483648\n",
    "```\n",
    "\n",
    "The integer has rolled over, and is now ```INT_MIN```. This is similar to rolling over 999,999 miles on an odometer, where the odometer will read 000,000 as the new mileage because it cannot output 1,000,000.\n",
    "\n",
    "A <strong>string format vulnerability</strong> occurs when a ```printf``` statement is used, but a format (such as ```%s```, ```%d```, ```%f```, etc) isn't provided. When a user provides an input that contains a format specifier, then information from the stack may be shown. Suppose a hacker sends ```%x %x %p %p %s %s``` through user input. This will fool ```printf``` to print two hex values, two pointers, and two random elements from the stack.\n",
    "\n",
    "If you would like to read more about this type of vulnerability, you may visit <a href=\"https://www.geeksforgeeks.org/format-string-vulnerability-and-prevention-with-example/\">this article</a>."
   ]
  },
  {
   "cell_type": "markdown",
   "metadata": {
    "deletable": false,
    "editable": false,
    "slideshow": {
     "slide_type": ""
    },
    "tags": []
   },
   "source": [
    "### Step 17: Crashing the Control Program\n",
    "\n",
    "Access the Wormwood simulator by navigating into ```~/topic_4/wormwood_test/```, then execute ```./run.sh```. There is a buffer overflow vulnerability in the sign-in screen. \n",
    "\n",
    "In the field below, type your input that allowed you to crash the program through a buffer overflow.\n",
    "\n",
    "<span style=\"color: orange\"><strong><img src=\"resources/alert.png\" style=\"width: 12px\"> Notice:</strong></span> A warning will be shown when you use ```./run.sh```. This is intentional, so you do not need to try fixing it right away."
   ]
  },
  {
   "cell_type": "code",
   "execution_count": 20,
   "metadata": {
    "deletable": false,
    "editable": false,
    "jupyter": {
     "source_hidden": true
    },
    "slideshow": {
     "slide_type": ""
    },
    "tags": []
   },
   "outputs": [
    {
     "data": {
      "application/vnd.jupyter.widget-view+json": {
       "model_id": "4b24b30895764e77be999fc7ee8a2713",
       "version_major": 2,
       "version_minor": 0
      },
      "text/plain": [
       "Output()"
      ]
     },
     "metadata": {},
     "output_type": "display_data"
    },
    {
     "data": {
      "application/vnd.jupyter.widget-view+json": {
       "model_id": "22558e3b6e2546a1b77650b9f081962f",
       "version_major": 2,
       "version_minor": 0
      },
      "text/plain": [
       "Text(value='sfdjkhgjfsjdfhskgasjdhfgaskdjfhgaskdjfgaskdjfgfdsajhksfgkjsdahgfkajsdh\\n', description='Payload:',…"
      ]
     },
     "metadata": {},
     "output_type": "display_data"
    },
    {
     "data": {
      "application/vnd.jupyter.widget-view+json": {
       "model_id": "2cabe0266380448cb256f20fdbf2b791",
       "version_major": 2,
       "version_minor": 0
      },
      "text/plain": [
       "Button(description='Check Answer', style=ButtonStyle())"
      ]
     },
     "metadata": {},
     "output_type": "display_data"
    },
    {
     "data": {
      "application/vnd.jupyter.widget-view+json": {
       "model_id": "7dc34eb791ce4928a532dea159e0c073",
       "version_major": 2,
       "version_minor": 0
      },
      "text/plain": [
       "Output()"
      ]
     },
     "metadata": {},
     "output_type": "display_data"
    }
   ],
   "source": [
    "# Click the button below to check your work.\n",
    "step17Complete = False\n",
    "\n",
    "# Function to check if the student's answer was correct.\n",
    "def step_17():\n",
    "    # Important variables that must be accessed outside of this function.\n",
    "    global step17Complete, result\n",
    "\n",
    "    # Loading, in case the check is slow.\n",
    "    with output17:\n",
    "        output17.clear_output()\n",
    "        display(HTML(\"<span>Please wait. Your input is being typed into Wormwood. Please wait at least 5 seconds...<img width='12px' height='12px' style='margin-left: 3px;' src='resources/loading.gif'></span>\"))\n",
    "\n",
    "    # First, check to see if the field is empty.\n",
    "    if (userInput17.value == \"\"):\n",
    "        output17.clear_output()\n",
    "        with output17:\n",
    "            display(HTML(\"<span style='color: red;'>You did not provide input for this step.</span>\"))\n",
    "            step17Complete = False\n",
    "\n",
    "    # Next, run the input through.\n",
    "    else:\n",
    "        # Sanitizing the string.\n",
    "        answer = ((userInput17.value).strip()).replace('\\n', '')\n",
    "        \n",
    "        # Construct the SSH command for sending the student's answer to the Python file.\n",
    "        # IMPORTANT: Use the -tt tag when running this SSH command. This will treat the command more like a \"local\" command on the node.\n",
    "        # This is required, since there are some conflicts regarding directories and running ./run.sh.\n",
    "        check_command = f\"\"\"ssh -tt -i /home/USERNAME_GOES_HERE/.ssh/merge_key USERNAME_GOES_HERE@buffer /home/.checker/section_4.py 17 '{answer}' 0 \"\"\"\n",
    "        result = subprocess.run(check_command, shell=True, stdout=subprocess.PIPE, stderr=subprocess.PIPE)\n",
    "\n",
    "        # Construct the SSH command for saving the student's response.\n",
    "        save_command = f\"\"\"ssh -i /home/USERNAME_GOES_HERE/.ssh/merge_key USERNAME_GOES_HERE@buffer \"echo '{answer}' > /home/.checker/responses/step_17_answer.txt\" \"\"\"\n",
    "        save_result = subprocess.run(save_command, shell=True, stdout=subprocess.PIPE, stderr=subprocess.PIPE)\n",
    "        \n",
    "        if (result.returncode == 0):\n",
    "            output17.clear_output()\n",
    "            with output17:\n",
    "                display(HTML(\"<span style='color: green;'>Your payload successfully crashed the program.</span>\"))\n",
    "                step17Complete = True\n",
    "        \n",
    "        elif (result.returncode == 1):\n",
    "            output17.clear_output()\n",
    "            with output17:\n",
    "                display(HTML(\"<span style='color: red;'>The output that you entered is incorrect.</span>\"))\n",
    "                step17Complete = False\n",
    "\n",
    "        elif (result.returncode == 2):\n",
    "            output17.clear_output()\n",
    "            with output17:\n",
    "                display(HTML(\"<span style='color: red;'>The program timed out. Your input may not have terminated. Check your payload.</span>\"))\n",
    "                step17Complete = False\n",
    "        \n",
    "def check_step_17(b):\n",
    "    if (warn_student()):\n",
    "        output17.clear_output()\n",
    "        with output17:\n",
    "            display(HTML(\"<span style='color: red;'><strong>WARNING:</strong> You have an autosaved lab that you have not yet loaded. If you would like to load your progress, click \\\"Load Lab\\\" at the top of the notebook. Otherwise, clicking on this button again will assume you're restarting the lab!</span>\"))\n",
    "    else:\n",
    "        step_17()\n",
    "\n",
    "        # Auto-save.\n",
    "        if (not runAllSteps):\n",
    "            trigger_save(\"17\", result.returncode, userInput17.value)\n",
    "\n",
    "# Retrieve the student's response. First, create a loading spinner, since this could take a second or two.\n",
    "loading17 = widgets.Output()\n",
    "display(loading17)\n",
    "with loading17:\n",
    "    loading17.clear_output()\n",
    "    display(HTML(\"<span>Loading your saved response... <img width='12px' height='12px' style='margin-left: 3px;' src='resources/loading.gif'></span>\"))\n",
    "\n",
    "# Creating a text area.\n",
    "userInput17 = widgets.Text(\n",
    "    placeholder='Type the payload that crashed your program.',\n",
    "    description='Payload:',\n",
    "    layout=widgets.Layout(width='90%')\n",
    ")\n",
    "\n",
    "# Checking if the step has been answered.\n",
    "result = subprocess.run('ssh -o StrictHostKeyChecking=no -i /home/USERNAME_GOES_HERE/.ssh/merge_key USERNAME_GOES_HERE@buffer \"cat /home/.checker/responses/step_17_answer.txt 2> /dev/null\"', capture_output=True, text=True, shell=True)\n",
    "userInput17.value = result.stdout\n",
    "\n",
    "# After the student's response was loaded, clear the output.\n",
    "loading17.clear_output()\n",
    "\n",
    "# Creating the button.\n",
    "button = widgets.Button(description=\"Check Answer\")\n",
    "\n",
    "# Creating an output area.\n",
    "output17 = widgets.Output()\n",
    "\n",
    "# Run the command on click.\n",
    "button.on_click(check_step_17)\n",
    "\n",
    "# Display the output.\n",
    "display(userInput17, button, output17)"
   ]
  },
  {
   "cell_type": "markdown",
   "metadata": {
    "deletable": false,
    "editable": false,
    "slideshow": {
     "slide_type": ""
    },
    "tags": []
   },
   "source": [
    "### Step 18: Accessing the ```super```'s Account\n",
    "\n",
    "On the sign-in page, figure out what ```super```'s password is by sending input through the authentication page. You are not going to be graded on what the password is. Instead, you are going to be graded on the exploit that allowed you to view the password.\n",
    "\n",
    "Using the blank below, type the payload that you used in order to display the super user's password onto the screen. This payload will be passed into the Wormwood lab and tested to see if it returns the password of ```super```."
   ]
  },
  {
   "cell_type": "code",
   "execution_count": 21,
   "metadata": {
    "deletable": false,
    "editable": true,
    "jupyter": {
     "source_hidden": true
    },
    "slideshow": {
     "slide_type": ""
    },
    "tags": []
   },
   "outputs": [
    {
     "data": {
      "application/vnd.jupyter.widget-view+json": {
       "model_id": "dfce748b83d24f83be854c8b291adf8e",
       "version_major": 2,
       "version_minor": 0
      },
      "text/plain": [
       "Output()"
      ]
     },
     "metadata": {},
     "output_type": "display_data"
    },
    {
     "data": {
      "application/vnd.jupyter.widget-view+json": {
       "model_id": "cb17f4d6db2741a0adda25f96a84743a",
       "version_major": 2,
       "version_minor": 0
      },
      "text/plain": [
       "Text(value='%x %x %p %p %s %s %s %s\\n', description='Payload:', layout=Layout(width='90%'), placeholder='Type …"
      ]
     },
     "metadata": {},
     "output_type": "display_data"
    },
    {
     "data": {
      "application/vnd.jupyter.widget-view+json": {
       "model_id": "abc10d4ce7d34825a86d8fd1be3362ce",
       "version_major": 2,
       "version_minor": 0
      },
      "text/plain": [
       "Button(description='Check Answer', style=ButtonStyle())"
      ]
     },
     "metadata": {},
     "output_type": "display_data"
    },
    {
     "data": {
      "application/vnd.jupyter.widget-view+json": {
       "model_id": "4794527b20c94ca9a02f28980c65b15b",
       "version_major": 2,
       "version_minor": 0
      },
      "text/plain": [
       "Output()"
      ]
     },
     "metadata": {},
     "output_type": "display_data"
    }
   ],
   "source": [
    "# Click the button below to check your work.\n",
    "step18Complete = False\n",
    "\n",
    "# Function to check if the student's answer was correct.\n",
    "def step_18():\n",
    "    # Important variables that must be accessed outside of this function.\n",
    "    global step18Complete, result\n",
    "\n",
    "    # Loading, in case the check is slow.\n",
    "    with output18:\n",
    "        output18.clear_output()\n",
    "        display(HTML(\"<span><img width='12px' height='12px' style='margin-left: 3px;' src='resources/loading.gif'></span>\"))\n",
    "\n",
    "    # First, check to see if the field is empty.\n",
    "    if (userInput18.value == \"\"):\n",
    "        output18.clear_output()\n",
    "        with output18:\n",
    "            display(HTML(\"<span style='color: red;'>You did not provide input for this step.</span>\"))\n",
    "            step18Complete = False\n",
    "\n",
    "    # Next, run the input through.\n",
    "    else:\n",
    "        # Construct the SSH command for sending the student's answer to the Python file.\n",
    "        check_command = f\"\"\"ssh -i /home/USERNAME_GOES_HERE/.ssh/merge_key USERNAME_GOES_HERE@buffer \\\"/home/.checker/section_4.py 18 '{(userInput18.value).strip()}' 0 \\\"\"\"\"\n",
    "        result = subprocess.run(check_command, shell=True, stdout=subprocess.PIPE, stderr=subprocess.PIPE)\n",
    "\n",
    "        # Construct the SSH command for saving the student's response.\n",
    "        save_command = f\"\"\"ssh -i /home/USERNAME_GOES_HERE/.ssh/merge_key USERNAME_GOES_HERE@buffer \"echo '{userInput18.value}' > /home/.checker/responses/step_18_answer.txt\" \"\"\"\n",
    "        save_result = subprocess.run(save_command, shell=True, stdout=subprocess.PIPE, stderr=subprocess.PIPE)\n",
    "\n",
    "        if (result.returncode == 0):\n",
    "            output18.clear_output()\n",
    "            with output18:\n",
    "                display(HTML(\"<span style='color: green;'>Your payload successfully leaked a password.</span>\"))\n",
    "                step18Complete = True\n",
    "        \n",
    "        elif (result.returncode == 1):\n",
    "            output18.clear_output()\n",
    "            with output18:\n",
    "                display(HTML(\"<span style='color: red;'>The output that you entered is incorrect.</span>\"))\n",
    "                step18Complete = False\n",
    "\n",
    "        elif (result.returncode == 2):\n",
    "            output18.clear_output()\n",
    "            with output18:\n",
    "                display(HTML(\"<span style='color: red;'>The program timed out. Your input may not have terminated. Check your payload.</span>\"))\n",
    "                step18Complete = False\n",
    "        \n",
    "def check_step_18(b):\n",
    "    if (warn_student()):\n",
    "        output18.clear_output()\n",
    "        with output18:\n",
    "            display(HTML(\"<span style='color: red;'><strong>WARNING:</strong> You have an autosaved lab that you have not yet loaded. If you would like to load your progress, click \\\"Load Lab\\\" at the top of the notebook. Otherwise, clicking on this button again will assume you're restarting the lab!</span>\"))\n",
    "    else:\n",
    "        step_18()\n",
    "\n",
    "        # Auto-save.\n",
    "        if (not runAllSteps):\n",
    "            trigger_save(\"18\", result.returncode, userInput18.value)\n",
    "\n",
    "# Retrieve the student's response. First, create a loading spinner, since this could take a second or two.\n",
    "loading18 = widgets.Output()\n",
    "display(loading18)\n",
    "with loading18:\n",
    "    loading18.clear_output()\n",
    "    display(HTML(\"<span>Loading your saved response... <img width='12px' height='12px' style='margin-left: 3px;' src='resources/loading.gif'></span>\"))\n",
    "\n",
    "# Creating a text area.\n",
    "userInput18 = widgets.Text(\n",
    "    placeholder='Type the payload that displays the password.',\n",
    "    description='Payload:',\n",
    "    layout=widgets.Layout(width='90%')\n",
    ")\n",
    "\n",
    "# Checking if the step has been answered.\n",
    "result = subprocess.run('ssh -o StrictHostKeyChecking=no -i /home/USERNAME_GOES_HERE/.ssh/merge_key USERNAME_GOES_HERE@buffer \"cat /home/.checker/responses/step_18_answer.txt 2> /dev/null\"', capture_output=True, text=True, shell=True)\n",
    "userInput18.value = result.stdout\n",
    "\n",
    "# After the student's response was loaded, clear the output.\n",
    "loading18.clear_output()\n",
    "\n",
    "# Creating the button.\n",
    "button = widgets.Button(description=\"Check Answer\")\n",
    "\n",
    "# Creating an output area.\n",
    "output18 = widgets.Output()\n",
    "\n",
    "# Run the command on click.\n",
    "button.on_click(check_step_18)\n",
    "\n",
    "# Display the output.\n",
    "display(userInput18, button, output18)"
   ]
  },
  {
   "cell_type": "markdown",
   "metadata": {
    "deletable": false,
    "editable": false,
    "slideshow": {
     "slide_type": ""
    },
    "tags": []
   },
   "source": [
    "### Step 19: Off-By-One Error\n",
    "\n",
    "After signing into ```super```'s account, you now have access to the nuclear reactor. \n",
    "\n",
    "Your next goal is to find the <strong>off-by-one</strong> error.\n",
    "\n",
    "<u>For the first input field</u>, type ```super```'s password that allowed you to sign in.\n",
    "\n",
    "<u>For the second input field</u>, type the menu option (single letter) where you suspect an off-by-one error occurs.\n",
    "\n",
    "<u>For the third input field</u>, type the value that causes the off-by-one error."
   ]
  },
  {
   "cell_type": "code",
   "execution_count": 22,
   "metadata": {
    "deletable": false,
    "editable": false,
    "jupyter": {
     "source_hidden": true
    },
    "slideshow": {
     "slide_type": ""
    },
    "tags": []
   },
   "outputs": [
    {
     "data": {
      "application/vnd.jupyter.widget-view+json": {
       "model_id": "c79c8835c4e243f6a5ebd16472c672c0",
       "version_major": 2,
       "version_minor": 0
      },
      "text/plain": [
       "Output()"
      ]
     },
     "metadata": {},
     "output_type": "display_data"
    },
    {
     "data": {
      "application/vnd.jupyter.widget-view+json": {
       "model_id": "5b4bda694b5549ad93a0b2ab6ab26259",
       "version_major": 2,
       "version_minor": 0
      },
      "text/plain": [
       "Text(value='Artemisia1986', description='Password:', layout=Layout(width='90%'), placeholder='Type the passwor…"
      ]
     },
     "metadata": {},
     "output_type": "display_data"
    },
    {
     "data": {
      "application/vnd.jupyter.widget-view+json": {
       "model_id": "a0d8a7b5a1224cf79f0061277684d8e2",
       "version_major": 2,
       "version_minor": 0
      },
      "text/plain": [
       "Text(value='r', description='Option:', layout=Layout(width='90%'), placeholder='Type the menu option (one lett…"
      ]
     },
     "metadata": {},
     "output_type": "display_data"
    },
    {
     "data": {
      "application/vnd.jupyter.widget-view+json": {
       "model_id": "4e8c23e2dca74998b8325c5a1f8a2614",
       "version_major": 2,
       "version_minor": 0
      },
      "text/plain": [
       "Text(value='17', description='Payload:', layout=Layout(width='90%'), placeholder='Type the value that causes t…"
      ]
     },
     "metadata": {},
     "output_type": "display_data"
    },
    {
     "data": {
      "application/vnd.jupyter.widget-view+json": {
       "model_id": "da0d9e0a849b45d79c95bca8e593255c",
       "version_major": 2,
       "version_minor": 0
      },
      "text/plain": [
       "Button(description='Save Response', style=ButtonStyle())"
      ]
     },
     "metadata": {},
     "output_type": "display_data"
    },
    {
     "data": {
      "application/vnd.jupyter.widget-view+json": {
       "model_id": "15d1de4ed54b44409219f00a4f4a2688",
       "version_major": 2,
       "version_minor": 0
      },
      "text/plain": [
       "Output()"
      ]
     },
     "metadata": {},
     "output_type": "display_data"
    }
   ],
   "source": [
    "# Click the button below to check your work.\n",
    "\n",
    "# Required for formatting student's strings:\n",
    "step19Complete = False\n",
    "\n",
    "# Function to save the short answer.\n",
    "def step_19():\n",
    "    # Important variables that must be accessed outside of this function.\n",
    "    global step19Complete, result\n",
    "\n",
    "    # Loading, in case saving is slow.\n",
    "    with output19:\n",
    "        output19.clear_output()\n",
    "        display(HTML(\"<span>Please wait. Your input is being typed into Wormwood. Please wait at least 10-30 seconds...<img width='12px' height='12px' style='margin-left: 3px;' src='resources/loading.gif'></span>\"))\n",
    "    \n",
    "    # Check for empty strings.\n",
    "    if (userInput19_1.value == \"\" or userInput19_2.value == \"\" or userInput19_3.value == \"\"):\n",
    "        output19.clear_output()\n",
    "        with output19:\n",
    "            display(HTML(\"<span style='color: red;'>You did not type a response for one of your memos.</span>\"))\n",
    "            step19Complete = False\n",
    "\n",
    "    # Some more checks.\n",
    "    elif (len(userInput19_2.value) != 1):\n",
    "        output19.clear_output()\n",
    "        with output19:\n",
    "            display(HTML(\"<span style='color: red;'>The menu option must be a single letter.</span>\"))\n",
    "            step19Complete = False\n",
    "\n",
    "    else:\n",
    "        # Check to see if Step 20 was complete yet. If so, compare the answers.\n",
    "        result = subprocess.run('ssh -o StrictHostKeyChecking=no -i /home/USERNAME_GOES_HERE/.ssh/merge_key USERNAME_GOES_HERE@buffer \"cat /home/.checker/responses/step_20_answer.txt 2> /dev/null\"', capture_output=True, text=True, shell=True)\n",
    "        other_response = result.stdout\n",
    "\n",
    "        saved_input = shlex.quote(str(userInput19_1.value).strip() + \" \" + str(userInput19_2.value).strip() + \" \" + str(userInput19_3.value).strip())\n",
    "\n",
    "        # Exit. This is a copied response from Step 20.\n",
    "        if ('\\'' + other_response[:-1] + '\\'' == saved_input):\n",
    "            output19.clear_output()\n",
    "            with output19:\n",
    "                display(HTML(\"<span style='color: red;'>This response is the same as Step 20. Please use a different payload.</span>\"))\n",
    "                step19Complete = False\n",
    "\n",
    "        # Exit. This menu option does not have off-by-one error.\n",
    "        elif (userInput19_2.value != chr(114) and userInput19_2.value != chr(82)):\n",
    "            print(userInput19_2.value)\n",
    "            output19.clear_output()\n",
    "            with output19:\n",
    "                display(HTML(\"<span style='color: red;'>Hint: An off-by-one error does not occur in this menu option.</span>\"))\n",
    "                step19Complete = False\n",
    "\n",
    "        else:\n",
    "            # Construct the SSH command for saving the student's response.\n",
    "            save_command = f\"\"\"ssh -i /home/USERNAME_GOES_HERE/.ssh/merge_key USERNAME_GOES_HERE@buffer \"echo '{saved_input}' > /home/.checker/responses/step_19_answer.txt\" \"\"\"\n",
    "            save_result = subprocess.run(save_command, shell=True, stdout=subprocess.PIPE, stderr=subprocess.PIPE)\n",
    "            \n",
    "            user_input = ((userInput19_1.value).strip() + \" \" + (userInput19_2.value).strip() + \" \" + (userInput19_3.value).strip())\n",
    "            \n",
    "            # Construct the SSH command for sending the student's answer to the Python file.\n",
    "            # IMPORTANT: Use the -tt tag when running this SSH command. This will treat the command more like a \"local\" command on the node.\n",
    "            # This is required, since there are some conflicts regarding directories and running ./run.sh.\n",
    "            check_command = f\"\"\"ssh -tt -i /home/USERNAME_GOES_HERE/.ssh/merge_key USERNAME_GOES_HERE@buffer \"/home/.checker/section_4.py 19 '{user_input}' 0\" \"\"\"\n",
    "\n",
    "            result = subprocess.run(check_command, shell=True, stdout=subprocess.PIPE, stderr=subprocess.PIPE)\n",
    "            \n",
    "            if (result.returncode == 0):\n",
    "                output19.clear_output()\n",
    "                with output19:\n",
    "                    display(HTML(\"<span style='color: green;'>Correct! This payload causes an off-by-one error.</span>\"))\n",
    "                    step19Complete = True\n",
    "        \n",
    "            elif (result.returncode == 1):\n",
    "                output19.clear_output()\n",
    "                with output19:\n",
    "                    display(HTML(\"<span style='color: red;'>This payload does not cause an off-by-one error. Try again.</span>\"))\n",
    "                    step19Complete = False\n",
    "    \n",
    "            elif (result.returncode == 2):\n",
    "                output19.clear_output()\n",
    "                with output19:\n",
    "                    display(HTML(\"<span style='color: red;'>The program timed out. This means your payload failed to crash the program. Try again.</span>\"))\n",
    "                    step19Complete = False\n",
    "\n",
    "def check_step_19(b):\n",
    "    if (warn_student()):\n",
    "        output19.clear_output()\n",
    "        with output19:\n",
    "            display(HTML(\"<span style='color: red;'><strong>WARNING:</strong> You have an autosaved lab that you have not yet loaded. If you would like to load your progress, click \\\"Load Lab\\\" at the top of the notebook. Otherwise, clicking on this button again will assume you're restarting the lab!</span>\"))\n",
    "    else:\n",
    "        step_19()\n",
    "\n",
    "        # Auto-save.\n",
    "        if (not runAllSteps):\n",
    "            trigger_save(\"19\", result.returncode, f\"{userInput19_1.value} {userInput19_2.value} {userInput19_3.value}\")\n",
    "\n",
    "# Retrieve the student's response. First, create a loading spinner, since this could take a second or two.\n",
    "loading19 = widgets.Output()\n",
    "display(loading19)\n",
    "with loading19:\n",
    "    loading19.clear_output()\n",
    "    display(HTML(\"<span>Loading your saved response... <img width='12px' height='12px' style='margin-left: 3px;' src='resources/loading.gif'></span>\"))\n",
    "\n",
    "# Creating a text area.\n",
    "userInput19_1 = widgets.Text(\n",
    "    placeholder='Type the password that you found.',\n",
    "    description='Password:',\n",
    "    layout=widgets.Layout(width='90%')\n",
    ")\n",
    "\n",
    "userInput19_2 = widgets.Text(\n",
    "    placeholder='Type the menu option (one letter).',\n",
    "    description='Option:',\n",
    "    layout=widgets.Layout(width='90%')\n",
    ")\n",
    "\n",
    "userInput19_3 = widgets.Text(\n",
    "    placeholder='Type the value that causes the error.',\n",
    "    description='Payload:',\n",
    "    layout=widgets.Layout(width='90%')\n",
    ")\n",
    "\n",
    "# Checking if the step has been answered.\n",
    "result = subprocess.run('ssh -o StrictHostKeyChecking=no -i /home/USERNAME_GOES_HERE/.ssh/merge_key USERNAME_GOES_HERE@buffer \"cat /home/.checker/responses/step_19_answer.txt 2> /dev/null\"', capture_output=True, text=True, shell=True)\n",
    "# Process the output, then separate them.\n",
    "if (result != \"\"):\n",
    "    answers = (result.stdout).split(\" \")\n",
    "\n",
    "    if (len(answers) == 3):\n",
    "        userInput19_1.value = answers[0]\n",
    "        userInput19_2.value = (answers[1])\n",
    "        userInput19_3.value = (answers[2])[:-1]\n",
    "\n",
    "    else:\n",
    "        userInput19_1.value = \"\"\n",
    "        userInput19_2.value = \"\"\n",
    "        userInput19_3.value = \"\"\n",
    "\n",
    "# After the student's response was loaded, clear the output.\n",
    "loading19.clear_output()\n",
    "\n",
    "# Creating the feedback output area.\n",
    "output19 = widgets.Output()\n",
    "\n",
    "# Creating the button.\n",
    "button = widgets.Button(description=\"Save Response\")\n",
    "\n",
    "# Run the command on click.\n",
    "button.on_click(check_step_19)\n",
    "\n",
    "# Display the output.\n",
    "display(userInput19_1, userInput19_2, userInput19_3, button, output19)"
   ]
  },
  {
   "cell_type": "markdown",
   "metadata": {
    "deletable": false,
    "editable": false,
    "slideshow": {
     "slide_type": ""
    },
    "tags": []
   },
   "source": [
    "### Step 20: Integer Overflow/Underflow\n",
    "\n",
    "Your next goal is to find the <strong>integer overflow</strong> error.\n",
    "\n",
    "<u>For the first input field</u>, type ```super```'s password that allowed you to sign in.\n",
    "\n",
    "<u>For the second input field</u>, type the menu option (single letter) where you suspect an integer overflow occurs.\n",
    "\n",
    "<u>For the third input field</u>, type the value that causes the integer overflow error."
   ]
  },
  {
   "cell_type": "code",
   "execution_count": 23,
   "metadata": {
    "deletable": false,
    "jupyter": {
     "source_hidden": true
    },
    "slideshow": {
     "slide_type": ""
    },
    "tags": []
   },
   "outputs": [
    {
     "data": {
      "application/vnd.jupyter.widget-view+json": {
       "model_id": "411efb199e324d2faa8954df2efb9a75",
       "version_major": 2,
       "version_minor": 0
      },
      "text/plain": [
       "Output()"
      ]
     },
     "metadata": {},
     "output_type": "display_data"
    },
    {
     "data": {
      "application/vnd.jupyter.widget-view+json": {
       "model_id": "e4bf91467a934854a63af3b95a6c7fa6",
       "version_major": 2,
       "version_minor": 0
      },
      "text/plain": [
       "Text(value='Artemisia1986', description='Password:', layout=Layout(width='90%'), placeholder='Type the passwor…"
      ]
     },
     "metadata": {},
     "output_type": "display_data"
    },
    {
     "data": {
      "application/vnd.jupyter.widget-view+json": {
       "model_id": "56173662d53546fe9422a652b46b3cac",
       "version_major": 2,
       "version_minor": 0
      },
      "text/plain": [
       "Text(value='r', description='Option:', layout=Layout(width='90%'), placeholder='Type the menu option (one lett…"
      ]
     },
     "metadata": {},
     "output_type": "display_data"
    },
    {
     "data": {
      "application/vnd.jupyter.widget-view+json": {
       "model_id": "4ceda2fe8f474fb886e39debdeb704e1",
       "version_major": 2,
       "version_minor": 0
      },
      "text/plain": [
       "Text(value='-1', description='Payload:', layout=Layout(width='90%'), placeholder='Type the value that causes t…"
      ]
     },
     "metadata": {},
     "output_type": "display_data"
    },
    {
     "data": {
      "application/vnd.jupyter.widget-view+json": {
       "model_id": "84a1bd43f8df4bbb973f5d1f6fba4da0",
       "version_major": 2,
       "version_minor": 0
      },
      "text/plain": [
       "Button(description='Save Response', style=ButtonStyle())"
      ]
     },
     "metadata": {},
     "output_type": "display_data"
    },
    {
     "data": {
      "application/vnd.jupyter.widget-view+json": {
       "model_id": "397a6ec69cf04d3daa78179e6c36085d",
       "version_major": 2,
       "version_minor": 0
      },
      "text/plain": [
       "Output()"
      ]
     },
     "metadata": {},
     "output_type": "display_data"
    }
   ],
   "source": [
    "# Click the button below to check your work.\n",
    "\n",
    "# Required for formatting student's strings:\n",
    "step20Complete = False\n",
    "\n",
    "# Function to save the short answer.\n",
    "def step_20():\n",
    "    # Important variables that must be accessed outside of this function.\n",
    "    global step20Complete, result\n",
    "\n",
    "    # Loading, in case saving is slow.\n",
    "    with output20:\n",
    "        output20.clear_output()\n",
    "        display(HTML(\"<span>Please wait. Your input is being typed into Wormwood. Please wait at least 10-30 seconds...<img width='12px' height='12px' style='margin-left: 3px;' src='resources/loading.gif'></span>\"))\n",
    "    \n",
    "    # Check for empty strings.\n",
    "    if (userInput20_1.value == \"\" or userInput20_2.value == \"\" or userInput20_3.value == \"\"):\n",
    "        output20.clear_output()\n",
    "        with output20:\n",
    "            display(HTML(\"<span style='color: red;'>You did not type a response for one of your memos.</span>\"))\n",
    "            step20Complete = False\n",
    "\n",
    "    # Some more checks.\n",
    "    elif (len(userInput20_2.value) != 1):\n",
    "        output20.clear_output()\n",
    "        with output20:\n",
    "            display(HTML(\"<span style='color: red;'>The menu option must be a single letter.</span>\"))\n",
    "            step20Complete = False\n",
    "\n",
    "    else:\n",
    "        # Check to see if Step 20 was complete yet. If so, compare the answers.\n",
    "        result = subprocess.run('ssh -o StrictHostKeyChecking=no -i /home/USERNAME_GOES_HERE/.ssh/merge_key USERNAME_GOES_HERE@buffer \"cat /home/.checker/responses/step_19_answer.txt 2> /dev/null\"', capture_output=True, text=True, shell=True)\n",
    "        other_response = result.stdout\n",
    "\n",
    "        saved_input = shlex.quote(str(userInput20_1.value).strip() + \" \" + str(userInput20_2.value).strip() + \" \" + str(userInput20_3.value).strip())\n",
    "\n",
    "        # Exit. This is a copied response from Step 19.\n",
    "        if ('\\'' + other_response[:-1] + '\\'' == saved_input):\n",
    "            output20.clear_output()\n",
    "            with output20:\n",
    "                display(HTML(\"<span style='color: red;'>This response is the same as Step 19. Please use a different payload.</span>\"))\n",
    "                step20Complete = False\n",
    "\n",
    "        # Exit. This menu option does not have integer overflow.\n",
    "        elif (userInput20_2.value == chr(102) or userInput20_2.value == chr(70)):\n",
    "            output20.clear_output()\n",
    "            with output20:\n",
    "                display(HTML(\"<span style='color: red;'>Hint: Integer overflow/underflow does not occur in this menu option. Try using a menu option that uses integers, rather than floats.</span>\"))\n",
    "                step20Complete = False\n",
    "\n",
    "        else:\n",
    "            # Construct the SSH command for saving the student's response.\n",
    "            save_command = f\"\"\"ssh -i /home/USERNAME_GOES_HERE/.ssh/merge_key USERNAME_GOES_HERE@buffer \"echo '{saved_input}' > /home/.checker/responses/step_20_answer.txt\" \"\"\"\n",
    "            save_result = subprocess.run(save_command, shell=True, stdout=subprocess.PIPE, stderr=subprocess.PIPE)\n",
    "            \n",
    "            user_input = ((userInput20_1.value).strip() + \" \" + (userInput20_2.value).strip() + \" \" + (userInput20_3.value).strip())\n",
    "            \n",
    "            # Construct the SSH command for sending the student's answer to the Python file.\n",
    "            # IMPORTANT: Use the -tt tag when running this SSH command. This will treat the command more like a \"local\" command on the node.\n",
    "            # This is required, since there are some conflicts regarding directories and running ./run.sh.\n",
    "            check_command = f\"\"\"ssh -tt -i /home/USERNAME_GOES_HERE/.ssh/merge_key USERNAME_GOES_HERE@buffer \"/home/.checker/section_4.py 20 '{user_input}' 0\" \"\"\"\n",
    "            result = subprocess.run(check_command, shell=True, stdout=subprocess.PIPE, stderr=subprocess.PIPE)\n",
    "            \n",
    "            if (result.returncode == 0):\n",
    "                output20.clear_output()\n",
    "                with output20:\n",
    "                    display(HTML(\"<span style='color: green;'>Correct! This payload causes an integer overflow/underflow.</span>\"))\n",
    "                    step20Complete = True\n",
    "        \n",
    "            elif (result.returncode == 1):\n",
    "                output20.clear_output()\n",
    "                with output20:\n",
    "                    display(HTML(\"<span style='color: red;'>This payload does not cause an off-by-one error. Try again.</span>\"))\n",
    "                    step20Complete = False\n",
    "    \n",
    "            elif (result.returncode == 2):\n",
    "                output20.clear_output()\n",
    "                with output20:\n",
    "                    display(HTML(\"<span style='color: red;'>The program timed out. This means your payload failed to crash the program. Try again. Hint: Did your payload work before? If so, try again with a more excessive number. It will make your program crash faster. If you previously passed the step, you will not lose points by failing this step.</span>\"))\n",
    "                    step20Complete = False\n",
    "\n",
    "            elif (result.returncode == 3):\n",
    "                output20.clear_output()\n",
    "                with output20:\n",
    "                    display(HTML(\"<span style='color: red;'>Something wrong happened when checking this step. Please contact your instructor or TA.</span>\"))\n",
    "                    step20Complete = False\n",
    "\n",
    "            elif (result.returncode == 4):\n",
    "                output20.clear_output()\n",
    "                with output20:\n",
    "                    display(HTML(\"<span style='color: red;'>Your payload successfully crashed the program, but this wasn't from an integer overflow/underflow. The flow rate DOES have a vulnerability where negative numbers are accepted, but since it's cast to a float, it's not an integer overflow/underflow. Look in the other menu option, where an integer is being used in the program.</span>\"))\n",
    "                    step20Complete = False\n",
    "\n",
    "def check_step_20(b):\n",
    "    if (warn_student()):\n",
    "        output20.clear_output()\n",
    "        with output20:\n",
    "            display(HTML(\"<span style='color: red;'><strong>WARNING:</strong> You have an autosaved lab that you have not yet loaded. If you would like to load your progress, click \\\"Load Lab\\\" at the top of the notebook. Otherwise, clicking on this button again will assume you're restarting the lab!</span>\"))\n",
    "    else:\n",
    "        step_20()\n",
    "\n",
    "        # Auto-save.\n",
    "        if (not runAllSteps):\n",
    "            trigger_save(\"20\", result.returncode, f\"{userInput20_1.value} {userInput20_2.value} {userInput20_3.value}\")\n",
    "\n",
    "# Retrieve the student's response. First, create a loading spinner, since this could take a second or two.\n",
    "loading20 = widgets.Output()\n",
    "display(loading20)\n",
    "with loading20:\n",
    "    loading20.clear_output()\n",
    "    display(HTML(\"<span>Loading your saved response... <img width='12px' height='12px' style='margin-left: 3px;' src='resources/loading.gif'></span>\"))\n",
    "\n",
    "# Creating a text area.\n",
    "userInput20_1 = widgets.Text(\n",
    "    placeholder='Type the password that you found.',\n",
    "    description='Password:',\n",
    "    layout=widgets.Layout(width='90%')\n",
    ")\n",
    "\n",
    "userInput20_2 = widgets.Text(\n",
    "    placeholder='Type the menu option (one letter).',\n",
    "    description='Option:',\n",
    "    layout=widgets.Layout(width='90%')\n",
    ")\n",
    "\n",
    "userInput20_3 = widgets.Text(\n",
    "    placeholder='Type the value that causes the error.',\n",
    "    description='Payload:',\n",
    "    layout=widgets.Layout(width='90%')\n",
    ")\n",
    "\n",
    "# Checking if the step has been answered.\n",
    "result = subprocess.run('ssh -o StrictHostKeyChecking=no -i /home/USERNAME_GOES_HERE/.ssh/merge_key USERNAME_GOES_HERE@buffer \"cat /home/.checker/responses/step_20_answer.txt 2> /dev/null\"', capture_output=True, text=True, shell=True)\n",
    "# Process the output, then separate them.\n",
    "if (result != \"\"):\n",
    "    answers = (result.stdout).split(\" \")\n",
    "\n",
    "    if (len(answers) == 3):\n",
    "        userInput20_1.value = answers[0]\n",
    "        userInput20_2.value = (answers[1])\n",
    "        userInput20_3.value = (answers[2])[:-1]\n",
    "\n",
    "    else:\n",
    "        userInput20_1.value = \"\"\n",
    "        userInput20_2.value = \"\"\n",
    "        userInput20_3.value = \"\"\n",
    "\n",
    "# After the student's response was loaded, clear the output.\n",
    "loading20.clear_output()\n",
    "\n",
    "# Creating the feedback output area.\n",
    "output20 = widgets.Output()\n",
    "\n",
    "# Creating the button.\n",
    "button = widgets.Button(description=\"Save Response\")\n",
    "\n",
    "# Run the command on click.\n",
    "button.on_click(check_step_20)\n",
    "\n",
    "# Display the output.\n",
    "display(userInput20_1, userInput20_2, userInput20_3, button, output20)"
   ]
  },
  {
   "cell_type": "markdown",
   "metadata": {
    "deletable": false,
    "editable": false,
    "slideshow": {
     "slide_type": ""
    },
    "tags": []
   },
   "source": [
    "### Step 21: Fixing All Vulnerabilities\n",
    "\n",
    "For the last step, you are going to fix all of the vulnerabilities that you found between steps 17-20.\n",
    "\n",
    "<strong>Navigate into the OTHER Wormwood directory that's titled ```~/topic_4/wormwood_fix/```.</strong> The fixes to the Wormwood program must be in here so that your previous steps will still pass.\n",
    "\n",
    "Here are some tips to help you figure out where these issues occur:\n",
    "- A <strong>buffer overflow</strong> occurs because the program uses one of the four functions that you broke in Topic 2. Try searching ```wormwood.c``` for this issue.\n",
    "- When you found the <strong>string vulnerability</strong> error, you should've found that the password was displayed when the program printed the username. Find the ```console_printf``` command that does this, and change its format to what you've used in Topic 1. Keep using ```console_printf```. Try searching ```wormwood.c``` for this issue.\n",
    "- The <strong>off-by-one</strong> error can be a little trickier to find. You know which menu option has the off-by-one error. Find the function in ```wormwood.c``` that this menu option uses ```void set_XXXXX(void)```. A comment is made that checks to make sure that a value isn't too high. This will call a function inside of ```reactor.c```, which returns a boolean if a certain condition is matched. Fix the sign that causes the off-by-one error.\n",
    "- The <strong>integer overflow/underflow</strong> error occurs because the bounds are not checked for your payload. You have two approaches to fixing this. The first one is to look in the ```reactor.c/.h``` files and change the parameter type of the function which you're breaking. Otherwise, you may create bounds checks so that this value cannot be negative.\n",
    "\n",
    "When you believe that you have fixed all bugs, click \"Check Work\" below. Your four inputs above will be used in this check, and if all of them do not break the C program, then you pass the final step.\n",
    "\n",
    "<span style=\"color: orange\"><strong><img src=\"resources/alert.png\" style=\"width: 12px\"> Notice:</strong></span> There are intentionally more issues with Wormwood. These can be optionally fixed. Can you see if you can find them and patch them?"
   ]
  },
  {
   "cell_type": "code",
   "execution_count": 24,
   "metadata": {
    "deletable": false,
    "editable": false,
    "jupyter": {
     "source_hidden": true
    },
    "slideshow": {
     "slide_type": ""
    },
    "tags": []
   },
   "outputs": [
    {
     "data": {
      "application/vnd.jupyter.widget-view+json": {
       "model_id": "203bc535697540629ed3ccfcf8277853",
       "version_major": 2,
       "version_minor": 0
      },
      "text/plain": [
       "Button(description='Check Patch', style=ButtonStyle())"
      ]
     },
     "metadata": {},
     "output_type": "display_data"
    },
    {
     "data": {
      "application/vnd.jupyter.widget-view+json": {
       "model_id": "b8f443eacec34439928d4e2af0cde855",
       "version_major": 2,
       "version_minor": 0
      },
      "text/plain": [
       "Output()"
      ]
     },
     "metadata": {},
     "output_type": "display_data"
    }
   ],
   "source": [
    "# Click the button below to check your work.\n",
    "step21Complete = False\n",
    "\n",
    "# Function to check the permissions.\n",
    "def step_21():\n",
    "    # Important variables that must be accessed outside of this function.\n",
    "    global step21Complete, result\n",
    "\n",
    "    with output21:\n",
    "        output21.clear_output()\n",
    "        display(HTML(\"<span><strong>Your results will be printed here momentarily.</strong> It will take roughly 40-60 seconds to finish this test. When you see Step 20 finish testing, then your test is complete.</span><br>\"))\n",
    "\n",
    "    correct_steps = []\n",
    "\n",
    "    for i in range (17, 21):\n",
    "        # Creates an additional message when testing Step 19.\n",
    "        if (i == 19):\n",
    "            with output21:\n",
    "                display(HTML(\"<span><em>(These next two steps will take some additional time to pass. When the payload gets sent, the script will take 15-20 seconds for the payload to work, then see if it crashes.)</em></span><br>\"))\n",
    "\n",
    "        # Using the -tt command once again, because this needs to be ran at the kernel level in order for the file to work.\n",
    "        # Once again, not sure why it's needed, but it will make the script function properly.\n",
    "        command = 'ssh -tt -i /home/USERNAME_GOES_HERE/.ssh/merge_key USERNAME_GOES_HERE@buffer /home/.checker/section_4_q21.py ' + str(i)\n",
    "        result = subprocess.run(command, shell=True, capture_output=True, text=True)\n",
    "\n",
    "        if (result.returncode == 6):\n",
    "            with output21:\n",
    "                output21.clear_output()\n",
    "                display(HTML(\"<span style='color: red;'>You have not started this topic yet. Please finish Topic 3 before running this step.</span><br>\"))\n",
    "                break\n",
    "        \n",
    "        if (result.returncode == 5):\n",
    "            with output21:\n",
    "                output21.clear_output()\n",
    "                display(HTML(\"<span style='color: red;'>Wormwood didn't compile.</span><br>\"))\n",
    "                break\n",
    "\n",
    "        elif (result.returncode == 4):\n",
    "            with output21:\n",
    "                output21.clear_output()\n",
    "                display(HTML(\"<span>An error occurred while running this step. Please contact your professor/TA.<br><br>This test has ended.</span><br>\"))\n",
    "                break\n",
    "\n",
    "        elif (result.returncode == 0):\n",
    "            with output21:\n",
    "                display(HTML(\"<span style='color: green;'><strong>Step \" + str(i) + \"</strong>: Success! This vulnerability appears to be fixed.</span><br>\"))\n",
    "                correct_steps.append(1)\n",
    "\n",
    "        elif (result.returncode == 1):\n",
    "            with output21:\n",
    "                if (i == 18):\n",
    "                    display(HTML(\"<span style='color: red;'><strong>Step \" + str(i) + \"</strong>: Your string vulnerability patch did not work. Make sure that the password field prints as: \\\"Password for user 'super': \\\".</span><br>\"))\n",
    "\n",
    "                else:\n",
    "                    display(HTML(\"<span style='color: red;'><strong>Step \" + str(i) + \"</strong>: The previous payload for this step was timed out. The program did not crash. Go back to Step \" + str(i) + \" and retry your payload.</span><br>\"))\n",
    "                correct_steps.append(0)\n",
    "\n",
    "        elif (result.returncode == 2):\n",
    "            with output21:\n",
    "                display(HTML(\"<span style='color: red;'><strong>Step \" + str(i) + \"</strong>: An error occurred when running this check. Please contact your professor or TA.</span><br>\"))\n",
    "                correct_steps.append(2)\n",
    "\n",
    "        elif (result.returncode == 3):\n",
    "            with output21:\n",
    "                display(HTML(\"<span style='color: red;'><strong>Step \" + str(i) + \"</strong>: Your exploit broke the original Wormwood code, but it still broke on your fixed code. Try again.</span><br>\"))\n",
    "                correct_steps.append(3)\n",
    "\n",
    "    step21Complete = True\n",
    "    if (len(correct_steps) == 0):\n",
    "        step21Complete = False\n",
    "\n",
    "    else:\n",
    "        for code in correct_steps:\n",
    "            if (code != 1):\n",
    "                step21Complete = False\n",
    "                break\n",
    "\n",
    "    with output21:\n",
    "        if (step21Complete):\n",
    "            display(HTML(\"<br><span style='color: green;'>Congratulations! The program is patched.</span>\"))\n",
    "\n",
    "        elif (result.returncode >= 4 and result.returncode <= 6):\n",
    "            # Don't display anything.\n",
    "            display(HTML(\"<br>\"))\n",
    "        \n",
    "        else:\n",
    "            display(HTML(\"<br><span style='color: red;'>There are some errors in your patch. Please review the feedback above, then fix your work.</span>\"))\n",
    "\n",
    "def check_step_21(b):\n",
    "    if (warn_student()):\n",
    "        output21.clear_output()\n",
    "        with output21:\n",
    "            display(HTML(\"<span style='color: red;'><strong>WARNING:</strong> You have an autosaved lab that you have not yet loaded. If you would like to load your progress, click \\\"Load Lab\\\" at the top of the notebook. Otherwise, clicking on this button again will assume you're restarting the lab!</span>\"))\n",
    "    else:\n",
    "        step_21()\n",
    "\n",
    "        # Auto-save.\n",
    "        if (not runAllSteps):\n",
    "            trigger_save(\"21\", result.returncode)\n",
    "\n",
    "# Creating the button.\n",
    "button = widgets.Button(description=\"Check Patch\")\n",
    "\n",
    "# Creating an output area.\n",
    "output21 = widgets.Output()\n",
    "\n",
    "# Run the command on click.\n",
    "button.on_click(check_step_21)\n",
    "\n",
    "# Display the output.\n",
    "display(button, output21)"
   ]
  },
  {
   "cell_type": "markdown",
   "metadata": {
    "deletable": false,
    "editable": false,
    "slideshow": {
     "slide_type": ""
    },
    "tags": []
   },
   "source": [
    "## <strong>Grading</strong>\n",
    "\n",
    "To check your overall grade, click on the button below."
   ]
  },
  {
   "cell_type": "code",
   "execution_count": 25,
   "metadata": {
    "deletable": false,
    "editable": false,
    "jupyter": {
     "source_hidden": true
    },
    "slideshow": {
     "slide_type": ""
    },
    "tags": []
   },
   "outputs": [
    {
     "data": {
      "application/vnd.jupyter.widget-view+json": {
       "model_id": "3c5a8f321e834f6eaff98c8f878fd2d7",
       "version_major": 2,
       "version_minor": 0
      },
      "text/plain": [
       "Button(description='Calculate Grade', style=ButtonStyle())"
      ]
     },
     "metadata": {},
     "output_type": "display_data"
    },
    {
     "data": {
      "application/vnd.jupyter.widget-view+json": {
       "model_id": "4c280080d97b40f5842ffec649d2848a",
       "version_major": 2,
       "version_minor": 0
      },
      "text/plain": [
       "Output()"
      ]
     },
     "metadata": {},
     "output_type": "display_data"
    }
   ],
   "source": [
    "# Click the button below to check your overall grade.\n",
    "steps_to_check = [step_1, step_2, step_3, step_4, step_5, step_6, step_7, step_8, step_9, step_10, step_11, step_12, step_13, step_14, step_15, step_16, step_17, step_18, step_19, step_20, step_21]   \n",
    "\n",
    "# Function to calculate grade after refreshing the cell\n",
    "def calculate_grade(b):\n",
    "    # To not auto-save at each step.\n",
    "    global runAllSteps\n",
    "    runAllSteps = True\n",
    "\n",
    "    with gradeOutput:\n",
    "        gradeOutput.clear_output()\n",
    "        display(HTML(\"<span>Testing all steps. Please wait.</span> \\\n",
    "            <span><img width='12px' height='12px' style='margin-left: 3px;' src='resources/loading.gif'></span>\"))\n",
    "    \n",
    "    # Required for checking the boolean values.\n",
    "    for func in steps_to_check:\n",
    "        func()  # Call each function in order.\n",
    "\n",
    "    # Assuming steps are updated above this cell in some way\n",
    "    steps = [step1Complete, step2Complete, step3Complete, step4Complete, step5Complete, step6Complete, step7Complete, step8Complete, step9Complete, step10Complete, step11Complete, step12Complete, step13Complete, step14Complete, step15Complete, step16Complete, step17Complete, step18Complete, step19Complete, step20Complete, step21Complete]\n",
    "    output = \"\"\n",
    "    stepsCorrect = 0\n",
    "    numOfSteps = len(steps)\n",
    "\n",
    "    for i in range(numOfSteps):\n",
    "        if steps[i]:\n",
    "            stepsCorrect += 1\n",
    "            output += \"<div style='color: green;'>Step \" + str(i + 1) + \" is complete.</div>\"\n",
    "        else:\n",
    "            output += \"<div style='color: red;'>Step \" + str(i + 1) + \" is incomplete.</div>\"\n",
    "\n",
    "    output += \"<div style='color: black;'>You have \" + str(stepsCorrect) + \" out of \" + str(numOfSteps) + \" steps completed.</div>\"\n",
    "\n",
    "    with gradeOutput:\n",
    "        gradeOutput.clear_output()\n",
    "        display(HTML(output))\n",
    "\n",
    "    # Makes auto-saving work again.\n",
    "    runAllSteps = False\n",
    "    \n",
    "# Create a button to refresh the cell and another to calculate grade.\n",
    "grade_button = widgets.Button(description=\"Calculate Grade\")\n",
    "\n",
    "# Link buttons to functions.\n",
    "grade_button.on_click(calculate_grade)\n",
    "\n",
    "# Output area.\n",
    "gradeOutput = widgets.Output()\n",
    "\n",
    "# Display the buttons and output.\n",
    "display(grade_button, gradeOutput)"
   ]
  },
  {
   "cell_type": "markdown",
   "metadata": {
    "deletable": false,
    "editable": false,
    "slideshow": {
     "slide_type": ""
    },
    "tags": []
   },
   "source": [
    "### Stopping the Lab\n",
    "\n",
    "Once you are done with the lab, click on the \"Stop Lab\" button below. <strong>This will delete your materialization, which will delete all of the lab's resources.</strong> Your progress is saved automatically in ```saves/``` within the sidebar of your XDC. You may load this lab in the future by clicking \"Load Lab\" at the top."
   ]
  },
  {
   "cell_type": "code",
   "execution_count": 26,
   "metadata": {
    "deletable": false,
    "editable": false,
    "jupyter": {
     "source_hidden": true
    },
    "slideshow": {
     "slide_type": ""
    },
    "tags": []
   },
   "outputs": [
    {
     "data": {
      "application/vnd.jupyter.widget-view+json": {
       "model_id": "01cf9e8de166441e9ee39e844753ddc4",
       "version_major": 2,
       "version_minor": 0
      },
      "text/plain": [
       "Checkbox(value=False, description='Confirm', indent=False)"
      ]
     },
     "metadata": {},
     "output_type": "display_data"
    },
    {
     "data": {
      "application/vnd.jupyter.widget-view+json": {
       "model_id": "1446504f90774c2d9ab9b9a94b0da9dc",
       "version_major": 2,
       "version_minor": 0
      },
      "text/plain": [
       "Button(description='Stop Lab', style=ButtonStyle())"
      ]
     },
     "metadata": {},
     "output_type": "display_data"
    },
    {
     "data": {
      "application/vnd.jupyter.widget-view+json": {
       "model_id": "db46990ed15c4c94b5e926e15e9936db",
       "version_major": 2,
       "version_minor": 0
      },
      "text/plain": [
       "Output()"
      ]
     },
     "metadata": {},
     "output_type": "display_data"
    }
   ],
   "source": [
    "# Click the button below to stop the experiment.\n",
    "def stoplab(button):\n",
    "    # Check to make sure that the student wants to confirm ending the lab.\n",
    "    if (confirm.value == False):\n",
    "        with stop_output:\n",
    "            stop_output.clear_output()\n",
    "            display(HTML(\"<newline><span style='color: red;'>Please confirm that you wish to end the lab.</span>\"))\n",
    "\n",
    "    else:\n",
    "        # Defining the lab name.\n",
    "        labname = \"buffer\"\n",
    "    \n",
    "        # Writing the information to an empty field below the button.\n",
    "        with stop_output:\n",
    "            stop_output.clear_output()\n",
    "            \n",
    "            display(HTML(\"<span>Stopping the \" + labname + \" lab. This will take a minute to process. Please wait.</span> \\\n",
    "                <span><img width='12px' height='12px' style='margin-left: 3px;' src='resources/loading.gif'></span>\"))\n",
    "            stopexp = subprocess.run('su - USERNAME_GOES_HERE -c \"bash /share/stopexp ' + labname + 'jup\"', capture_output=True, text=True, shell=True)\n",
    "            stop_output.clear_output()\n",
    "            display(HTML(\"<span>Done. Result:</span>\"))\n",
    "            print(stopexp.stdout)\n",
    "    \n",
    "            display(HTML(\"<newline><span style='color: green;'><strong>Your lab has been ended.</strong></span>\"))\n",
    "\n",
    "# Creating the button.\n",
    "stopButton = widgets.Button(description=\"Stop Lab\")\n",
    "\n",
    "# Create a confirmation check.\n",
    "confirm = widgets.Checkbox(\n",
    "    value=False,\n",
    "    description='Confirm',\n",
    "    disabled=False,\n",
    "    indent=False\n",
    ")\n",
    "\n",
    "# Creating an output area.\n",
    "stop_output = widgets.Output()\n",
    "\n",
    "# Run the command on click.\n",
    "stopButton.on_click(stoplab)\n",
    "\n",
    "# Display the output.\n",
    "display(confirm, stopButton, stop_output)"
   ]
  }
 ],
 "metadata": {
  "kernelspec": {
   "display_name": "Python 3 (ipykernel)",
   "language": "python",
   "name": "python3"
  },
  "language_info": {
   "codemirror_mode": {
    "name": "ipython",
    "version": 3
   },
   "file_extension": ".py",
   "mimetype": "text/x-python",
   "name": "python",
   "nbconvert_exporter": "python",
   "pygments_lexer": "ipython3",
   "version": "3.10.12"
  }
 },
 "nbformat": 4,
 "nbformat_minor": 4
}
