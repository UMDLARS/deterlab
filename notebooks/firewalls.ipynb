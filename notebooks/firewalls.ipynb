{
 "cells": [
  {
   "cell_type": "markdown",
   "metadata": {
    "deletable": false,
    "editable": false,
    "slideshow": {
     "slide_type": ""
    },
    "tags": []
   },
   "source": [
    "# <strong>Firewalls</strong>\n",
    "Firewalls are security features for networks designed to accept or reject connections to certain websites and ports. There are two types of firewalls: <strong>Stateless</strong> and <strong>Stateful</strong> firewalls.\n",
    "\n",
    "<figure><center><img src=\"resources/firewall/firewall_graphic.jpg\" style=\"width: 85%; height: 85%;\"></img></center><em><figcaption>Credit: <a href=\"https://www.elegantthemes.com/blog/wordpress/what-is-a-firewall-and-which-type-is-right-for-you\">Elegant Themes</a></figcaption></em></figure>\n",
    "\n",
    "#### <strong>Stateless Firewalls</strong>\n",
    "Stateless firewalls use rules to accept or block connections based on the source, destination, and other predefined criteria, without tracking the connection's state. The <u>state</u> of a connection refers to its status based on the packet sent. More about states will be covered when discussing stateful firewalls. Stateless firewalls tend to be quicker because they use predefined rules to filter information. Since they do not track states, they can be faster and less resource-intensive, making them effective for handling heavy traffic loads. Typically, small companies opt for stateless firewalls due to their affordability. <a href=\"https://www.fortinet.com/resources/cyberglossary/stateful-vs-stateless-firewall\">Because there is usually less incoming traffic than with a large enterprise, there may also be fewer threats.</a>\n",
    "\n",
    "#### <strong>Stateful Firewalls</strong>\n",
    "Stateful firewalls are more intelligent because they can track and monitor active connections. There are three types of states recognized by ```iptables```, the tool you will use to configure firewalls in this lab:\n",
    "\n",
    "|       State       | Description|\n",
    "|:-----------------:|--------------------------------------|\n",
    "| ```NEW```         | A new connection. Has not been seen in both directions (incoming and outgoing). |\n",
    "| ```ESTABLISHED``` | A previously-seen connection. Has been seen at one point going in either direction. |\n",
    "| ```RELATED```     | A different connection, but has been previously associated with a prior connection, <br>like FTP (File Transfer Protocol) or ICMP (Internet Control Message Protocol) errors. <br>These errors occur when the destination tells the source that a packet couldn't be <br>forwarded/delivered. |\n",
    "\n",
    "Stateful firewalls are better at blocking a wider range of attacks, as many attacks can exploit a connection's state and sequences. These firewalls maintain a <strong>state table</strong>, where connections that are new, established, or related are tracked and updated as connections are made. These tables track the destination/source IP addresses and ports, as well as the connection's state.\n",
    "\n",
    "For this lab, we are focusing on <u>stateful</u> firewalls.\n",
    "\n",
    "<strong>This lab will cover four topics, and you will learn the following:</strong>\n",
    "\n",
    "1. Basic Unix Tools for Networking\n",
    "2. Introduction to ```iptables```\n",
    "3. Basic ```iptables``` Rules\n",
    "4. A Large-Scale Application of ```iptables```"
   ]
  },
  {
   "cell_type": "code",
   "execution_count": 1,
   "metadata": {
    "deletable": false,
    "editable": false,
    "jupyter": {
     "source_hidden": true
    },
    "jupyterlab-hide-cells:hidden": true,
    "slideshow": {
     "slide_type": ""
    },
    "tags": []
   },
   "outputs": [],
   "source": [
    "# Setting up the lab.\n",
    "import ipywidgets as widgets\n",
    "from IPython.display import display, HTML, Javascript\n",
    "from IPython.core.magic import register_line_magic\n",
    "import os\n",
    "# For accessing the nodes:\n",
    "import subprocess\n",
    "# For the stopexp command:\n",
    "import re\n",
    "import shlex\n",
    "\n",
    "# When true, it will not auto-save at each step.\n",
    "runAllSteps = False\n",
    "\n",
    "###### Used for saving notebooks. ######\n",
    "import threading\n",
    "# Threading required in case steps are progressed too quickly.\n",
    "save_lock = threading.Lock()\n",
    "\n",
    "# The save function itself.\n",
    "def save_notebook():\n",
    "    with save_lock:\n",
    "        result = subprocess.run('su - USERNAME_GOES_HERE -c \"/project/USERNAME_GOES_HERE/notebooks/resources/save.py firewalls\"', shell=True, capture_output=True, text=True)\n",
    "\n",
    "# Creating a thread to save the notebook.\n",
    "def trigger_save(question, response, answer=\"\"):\n",
    "    save_thread = threading.Thread(target=save_notebook)\n",
    "    save_thread.start()\n",
    "    \n",
    "    command = (f'su - USERNAME_GOES_HERE -c \"/home/.education/grader.py F {question} {response}\"' \n",
    "               if answer == \"\" \n",
    "               else f'su - USERNAME_GOES_HERE -c \"/home/.education/grader.py F {question} {response} \\\\\"{answer}\\\\\"\"')\n",
    "    \n",
    "    result = subprocess.run(command, shell=True, capture_output=True, text=True)\n",
    "\n",
    "###### Used for loading notebooks. ######\n",
    "import queue\n",
    "\n",
    "load_lock = threading.Lock()\n",
    "result_queue = queue.Queue()\n",
    "\n",
    "# This variable is used to warn students if they haven't loaded a save yet.\n",
    "def warn_student():\n",
    "    if (os.path.exists(\"/project/USERNAME_GOES_HERE/notebooks/saves/.firewalls_warning\")):\n",
    "        os.remove(\"/project/USERNAME_GOES_HERE/notebooks/saves/.firewalls_warning\")\n",
    "        return True\n",
    "\n",
    "def load_notebook():\n",
    "    with load_lock:\n",
    "        result = subprocess.run('su - USERNAME_GOES_HERE -c \"/project/USERNAME_GOES_HERE/notebooks/resources/load.py firewalls\"', shell=True, capture_output=True, text=True)\n",
    "        result_queue.put(result)  # Put the result in the queue.\n",
    "\n",
    "# Creating a thread to load the notebook.\n",
    "def trigger_load():\n",
    "    load_thread = threading.Thread(target=load_notebook)\n",
    "    load_thread.start()\n",
    "    load_thread.join()  # Wait for the thread to complete before adding result to the queue.\n",
    "    return result_queue.get()  # Get the result from the queue.\n",
    "\n",
    "###### Used for generating tables in Section 3. ######\n",
    "def generate_table(step):\n",
    "    # Create an \"offset\". Take the step number, subtract the offset, then that is the number of rows.\n",
    "    offset = 8\n",
    "    explanations = ['Add this rule to the ”filter” <strong>t</strong>able.', '<strong>A</strong>ppend to the OUTPUT chain.', 'Any packets that are <strong>o</strong>utbound from this interface will be affected.', 'All TCP <strong>p</strong>rotocols.',\n",
    "                    'From the <strong>s</strong>ource IP, which is your network.', 'To the <strong>d</strong>estination, Google.', 'To this <strong>d</strong>estination <strong>port</strong>.', '<strong>M</strong>atching a state.', 'With the <strong>state</strong> being a NEW state.', 'Will be <strong>j</strong>umped (DROPPED).']\n",
    "\n",
    "    final_rule = \"\"\n",
    "    \n",
    "    # Construct the start of the table.\n",
    "    table = \"<table class=\\\"center\\\"><tr><th style=\\\"text-align: center;\\\"><strong>Rule</strong></th><th style=\\\"text-align: center;\\\"><strong>Description</strong></th></tr>\"\n",
    "\n",
    "    # Create the sudo iptables row.\n",
    "    table += \"<tr><td style=\\\"font-family: 'Courier New', Courier, monospace;\\\">sudo iptables</td><td class=\\\"text-align: center;\\\">Calls the <span style=\\\"font-family: 'Courier New', Courier, monospace;\\\">iptables</span> command.</td></tr>\"\n",
    "    \n",
    "    # Get the total number of rows.\n",
    "    rows = step - offset\n",
    "\n",
    "    # Create a loop, and start generating the rows.\n",
    "    # This is being reversed so that the student's previous answers appear at the top of the table.\n",
    "    for offset in reversed(range(0, rows)):\n",
    "        # Get the student's response.\n",
    "        result = subprocess.run('ssh -i /home/USERNAME_GOES_HERE/.ssh/merge_key USERNAME_GOES_HERE@server \"cat /home/.checker/responses/step_' + str(step - offset) + '_answer.txt\"', shell=True, capture_output=True, text=True)\n",
    "\n",
    "        # Take the result from the statement above.\n",
    "        answers = (result.stdout).split()\n",
    "    \n",
    "        # Split every other space. So that all parameters and arguments are linked together.\n",
    "        answers = [\" \".join(answers[i:i+2]) for i in range(0, len(answers), 2)]\n",
    "\n",
    "        # For the multiple answers...\n",
    "        for answer in answers:\n",
    "            # Perform some condition checks to see which rule is getting added to the table.\n",
    "            if (answer.startswith(\"-t\")):\n",
    "                table += \"<tr><td style=\\\"font-family: 'Courier New', Courier, monospace;\\\">\" + answer + \"</td><td>\" + explanations[0] + \"</td></tr>\"\n",
    "\n",
    "            elif (answer.startswith(\"-A\")):\n",
    "                table += \"<tr><td style=\\\"font-family: 'Courier New', Courier, monospace;\\\">\" + answer + \"</td><td>\" + explanations[1] + \"</td></tr>\"\n",
    "\n",
    "            elif (answer.startswith(\"-o\")):\n",
    "                table += \"<tr><td style=\\\"font-family: 'Courier New', Courier, monospace;\\\">\" + answer + \"</td><td>\" + explanations[2] + \"</td></tr>\"\n",
    "\n",
    "            elif (answer.startswith(\"-p\")):\n",
    "                table += \"<tr><td style=\\\"font-family: 'Courier New', Courier, monospace;\\\">\" + answer + \"</td><td>\" + explanations[3] + \"</td></tr>\"\n",
    "\n",
    "            elif (answer.startswith(\"-s\")):\n",
    "                table += \"<tr><td style=\\\"font-family: 'Courier New', Courier, monospace;\\\">\" + answer + \"</td><td>\" + explanations[4] + \"</td></tr>\"\n",
    "\n",
    "            elif (answer.startswith(\"-d\")):\n",
    "                table += \"<tr><td style=\\\"font-family: 'Courier New', Courier, monospace;\\\">\" + answer + \"</td><td>\" + explanations[5] + \"</td></tr>\"\n",
    "\n",
    "            elif (answer.startswith(\"--dport\")):\n",
    "                table += \"<tr><td style=\\\"font-family: 'Courier New', Courier, monospace;\\\">\" + answer + \"</td><td>\" + explanations[6] + \"</td></tr>\"\n",
    "\n",
    "            elif (answer.startswith(\"-m\")):\n",
    "                table += \"<tr><td style=\\\"font-family: 'Courier New', Courier, monospace;\\\">\" + answer + \"</td><td>\" + explanations[7] + \"</td></tr>\"\n",
    "\n",
    "            elif (answer.startswith(\"--state\")):\n",
    "                table += \"<tr><td style=\\\"font-family: 'Courier New', Courier, monospace;\\\">\" + answer + \"</td><td>\" + explanations[8] + \"</td></tr>\"\n",
    "\n",
    "            elif (answer.startswith(\"-j\")):\n",
    "                table += \"<tr><td style=\\\"font-family: 'Courier New', Courier, monospace;\\\">\" + answer + \"</td><td>\" + explanations[9] + \"</td></tr>\"\n",
    "\n",
    "            final_rule += answer + \" \"\n",
    "\n",
    "    # Table is complete. Closing it.\n",
    "    table += \"</table><br>\"\n",
    "\n",
    "    # The full rule so far:\n",
    "    table += \"<span><strong>Your rule:</strong> <span style=\\\"font-family: 'Courier New', Courier, monospace;\\\">sudo iptables \" + final_rule + \"</span></span>\"\n",
    "\n",
    "    # Finally, returning it.\n",
    "    return table"
   ]
  },
  {
   "cell_type": "markdown",
   "metadata": {
    "deletable": false,
    "editable": false,
    "slideshow": {
     "slide_type": ""
    },
    "tags": []
   },
   "source": [
    "### Step 0: Starting the Lab\n",
    "\n",
    "Click the button to begin creating the experiment.\n",
    "\n",
    "<strong>Note:</strong> If your buttons are not displaying, click on the <img width='20px' height='20px' style='margin-left: 1px;' src='resources/fast_forward.png'> icon at the top of your notebook to render all widgets."
   ]
  },
  {
   "cell_type": "code",
   "execution_count": 2,
   "metadata": {
    "deletable": false,
    "editable": false,
    "jupyter": {
     "source_hidden": true
    },
    "slideshow": {
     "slide_type": ""
    },
    "tags": []
   },
   "outputs": [
    {
     "data": {
      "application/vnd.jupyter.widget-view+json": {
       "model_id": "ceb5173c8eaa4225914d525c5769e840",
       "version_major": 2,
       "version_minor": 0
      },
      "text/plain": [
       "Button(description='Start Lab', style=ButtonStyle())"
      ]
     },
     "metadata": {},
     "output_type": "display_data"
    },
    {
     "data": {
      "application/vnd.jupyter.widget-view+json": {
       "model_id": "9378fb2b0b1c48a388a3dbaba75d7736",
       "version_major": 2,
       "version_minor": 0
      },
      "text/plain": [
       "Output()"
      ]
     },
     "metadata": {},
     "output_type": "display_data"
    }
   ],
   "source": [
    "# Click the button below to start the experiment.\n",
    "import time\n",
    "\n",
    "def check_autosave():\n",
    "    # Check if the student has an autosave.\n",
    "    if os.path.exists(\"/project/USERNAME_GOES_HERE/notebooks/saves/USERNAME_GOES_HERE_firewalls.tar.gz\"):\n",
    "        # Create a hidden file that will serve as a \"boolean\" for later.\n",
    "        subprocess.run(\"touch /project/USERNAME_GOES_HERE/notebooks/saves/.firewalls_warning\", shell=True)\n",
    "\n",
    "def startlab(button):\n",
    "    # Defining the lab name.\n",
    "    labname = \"firewalls\"\n",
    "\n",
    "    # Writing the information to an empty field below the button.\n",
    "    with output0:\n",
    "        # Fixes a strange error that happens only occasionally.\n",
    "        os.chdir(\"/project/USERNAME_GOES_HERE/notebooks\")\n",
    "        output0.clear_output()\n",
    "\n",
    "        # First, checking if the materialization exists. May have been stopped by a previous lab.\n",
    "        materialPattern = \"real.\" + labname + \"jup.USERNAME_GOES_HERE\"\n",
    "\n",
    "        # Listing the materializations to find if there's an existing one for this lab.\n",
    "        checkMaterial = os.popen('su - USERNAME_GOES_HERE -c \"mrg list materializations\"').read()\n",
    "        regex = re.compile(materialPattern)\n",
    "        # Getting the matches:\n",
    "        match = regex.search(checkMaterial)\n",
    "\n",
    "        if match:\n",
    "            display(HTML(\"<span style='color: orange;'>An existing activation for this lab already exists. </span><span>You might have run another \\\n",
    "            lab without stopping this one. Attaching the existing activation...</span>\"))\n",
    "\n",
    "            # Detaching it and re-attaching.\n",
    "            subprocess.run('su - USERNAME_GOES_HERE -c \"mrg xdc detach xdc.USERNAME_GOES_HERE\"', shell=True, check=True)\n",
    "            subprocess.run('su - USERNAME_GOES_HERE -c \"mrg xdc attach xdc.USERNAME_GOES_HERE real.' + labname + 'jup.USERNAME_GOES_HERE\"', capture_output=True, text=True, shell=True, check=True)\n",
    "            display(HTML(\"<span>Re-running the installation... </span><span><img width='12px' height='12px' style='margin-left: 3px;' src='resources/loading.gif'></span>\"))\n",
    "\n",
    "            # Check if the student has an autosave.\n",
    "            check_autosave()\n",
    "            \n",
    "            # Re-running the installation script.\n",
    "            subprocess.run('su - USERNAME_GOES_HERE -c \"bash /home/runlab ' + labname + 'jup\"', capture_output=True, text=True, shell=True, check=True)\n",
    "            output0.clear_output()\n",
    "            display(HTML(\"<newline><span style='color: green;'><strong>Your lab has been re-installed. </strong></span>\" \\\n",
    "                         \"<span>When you're finished, close your lab at the bottom of the notebook.</span>\"))\n",
    "        \n",
    "        else:\n",
    "            display(HTML(\"<span>No existing activations are found.</span>\"))\n",
    "\n",
    "            # Second, start the lab.\n",
    "            display(HTML(\"<span>Starting the \" + labname + \" lab. This will take a few minutes to process. Please wait.</span> \\\n",
    "            <span><img width='12px' height='12px' style='margin-left: 3px;' src='resources/loading.gif'></span>\"))\n",
    "            try:\n",
    "                startexp = subprocess.run('su - USERNAME_GOES_HERE -c \"bash /home/startexp ' + labname + 'jup\"', capture_output=True, text=True, shell=True, check=True)\n",
    "            except:\n",
    "                output0.clear_output()\n",
    "                display(HTML(\"<span style='color: red;'>There was an error starting your experiment. Make sure your password is written inside of ~/pass.txt, and try again.</span>\"))\n",
    "                return\n",
    "            \n",
    "            print(startexp.stdout, flush=True)\n",
    "            output0.clear_output()\n",
    "            display(HTML(\"<span>Done. Result:</span>\"))\n",
    "            print(startexp.stdout, flush=True)\n",
    "\n",
    "            # Another lab is already attached to the XDC.\n",
    "            if (\"XDC already attached\" in startexp.stdout):\n",
    "                existingLab = re.search(r\"real.(.*).USERNAME_GOES_HERE\", startexp.stdout).group(1)\n",
    "\n",
    "                # Shouldn't happen.\n",
    "                if labname == existingLab:\n",
    "                    display(HTML(\"<span style='color: red;'>Your lab was already started. </span><span>Please continue to the next step.</span>\"))\n",
    "\n",
    "                # Detaching the existing lab, then attaching the current one.\n",
    "                else:\n",
    "                    display(HTML(\"<span style='color: orange;'>Warning: You did not stop your previous experiment. </span><span>Please stop your experiments \\\n",
    "                    before starting a new one. Detaching the \" + existingLab + \" experiment.</span>\"))\n",
    "                    subprocess.run('su - USERNAME_GOES_HERE -c \"mrg xdc detach xdc.USERNAME_GOES_HERE\"', shell=True, check=True)\n",
    "                    display(HTML(\"<span>Attaching the current lab.</span>\"))\n",
    "                    subprocess.run('su - USERNAME_GOES_HERE -c \"mrg xdc attach xdc ' + materialPattern + '\"', shell=True, check=True)\n",
    "    \n",
    "            # Third, get the lab materials onto the node.\n",
    "            display(HTML(\"<span>Allocating lab resources onto the node. <u>Please wait a little longer...</u></span>\"))\n",
    "\n",
    "            # Gives the notebook a couple seconds so that it will recognize the node(s).\n",
    "            time.sleep(2)\n",
    "\n",
    "            # Move the resources over.\n",
    "            runlab = subprocess.run(\n",
    "                'su - USERNAME_GOES_HERE -c \"bash /home/runlab ' + labname + 'jup\"',\n",
    "                capture_output=True, text=True, shell=True\n",
    "            )\n",
    "\n",
    "            # Check if the student has an autosave.\n",
    "            check_autosave()\n",
    "\n",
    "            # Complete. Inform the student.\n",
    "            display(HTML(\"<newline><span style='color: green;'><strong>Setup complete. You may begin the lab! </strong></span>\" \\\n",
    "                         \"<span>When you're finished, close your lab at the bottom of the notebook. Your lab will be active for one week.</span>\"))\n",
    "\n",
    "\n",
    "# Creating the button.\n",
    "startButton = widgets.Button(description=\"Start Lab\")\n",
    "\n",
    "# Creating an output area.\n",
    "output0 = widgets.Output()\n",
    "\n",
    "# Run the command on click.\n",
    "startButton.on_click(startlab)\n",
    "\n",
    "# Display the output.\n",
    "display(startButton, output0)"
   ]
  },
  {
   "cell_type": "markdown",
   "metadata": {
    "deletable": false,
    "editable": false,
    "slideshow": {
     "slide_type": ""
    },
    "tags": []
   },
   "source": [
    "<hr>"
   ]
  },
  {
   "cell_type": "markdown",
   "metadata": {
    "deletable": false,
    "editable": false,
    "slideshow": {
     "slide_type": ""
    },
    "tags": []
   },
   "source": [
    "If you previously stopped your lab, you may restore your progress below by clicking \"Load Lab\". <u>You do not have to load your lab if you signed out, closed your notebook, or exited your node(s) or XDC by using ```exit```.</u>"
   ]
  },
  {
   "cell_type": "code",
   "execution_count": 3,
   "metadata": {
    "deletable": false,
    "editable": false,
    "jupyter": {
     "source_hidden": true
    },
    "slideshow": {
     "slide_type": ""
    },
    "tags": []
   },
   "outputs": [
    {
     "data": {
      "application/vnd.jupyter.widget-view+json": {
       "model_id": "73f022d6d48c456785c76f884851002a",
       "version_major": 2,
       "version_minor": 0
      },
      "text/plain": [
       "Button(description='Load Lab', style=ButtonStyle())"
      ]
     },
     "metadata": {},
     "output_type": "display_data"
    },
    {
     "data": {
      "application/vnd.jupyter.widget-view+json": {
       "model_id": "198dab443f984c6aa48cf32c5fbebbc8",
       "version_major": 2,
       "version_minor": 0
      },
      "text/plain": [
       "Output()"
      ]
     },
     "metadata": {},
     "output_type": "display_data"
    }
   ],
   "source": [
    "# Click the button below to load your lab.\n",
    "def loadlab(b):\n",
    "    with output0_2:\n",
    "        output0_2.clear_output()\n",
    "        display(HTML(\"<span>Searching for an existing lab in your notebook...</span>\"))\n",
    "\n",
    "    if (os.path.exists(\"/project/USERNAME_GOES_HERE/notebooks/saves/USERNAME_GOES_HERE_firewalls.tar.gz\")):\n",
    "        with output0_2:\n",
    "            output0_2.clear_output()\n",
    "            display(HTML(\"<span>Loading your lab...</span> \\\n",
    "                <span><img width='12px' height='12px' style='margin-left: 3px;' src='resources/loading.gif'></span>\"))\n",
    "            result = trigger_load()\n",
    "            if (result.returncode == 0):\n",
    "                output0_2.clear_output()\n",
    "                display(HTML(\"<span style='color: green;'>Your lab has been successfully loaded. Please click on the <img width='20px' height='20px' style='margin-left: 1px;' src='resources/fast_forward.png'> icon at the top of your notebook to reflect your changes.</span>\"))\n",
    "            elif (result.returncode == 2):\n",
    "                output0_2.clear_output()\n",
    "                display(HTML(\"<span style='color: red;'>The server node is inaccessible. Please start your lab. If you have already started it, wait a minute and try again.</span>\"))\n",
    "            else:\n",
    "                output0_2.clear_output()\n",
    "                display(HTML(\"<span style='color: red;'>An error occurred while loading your lab.</span>\"))\n",
    "\n",
    "# Creating the button.\n",
    "loadButton = widgets.Button(description=\"Load Lab\")\n",
    "\n",
    "# Creating an output area.\n",
    "output0_2 = widgets.Output()\n",
    "\n",
    "# Run the command on click.\n",
    "loadButton.on_click(loadlab)\n",
    "\n",
    "# Display the output.\n",
    "display(loadButton, output0_2)"
   ]
  },
  {
   "cell_type": "markdown",
   "metadata": {
    "deletable": false,
    "editable": false,
    "slideshow": {
     "slide_type": ""
    },
    "tags": []
   },
   "source": [
    "## <strong>Topic 1: Basic Unix Tools for Networking</strong>\n",
    "\n",
    "Before diving into firewalls, it's important to learn what tools are available to you for examining network connections. You will be provided a few tools that can assist you with checking the work that you make throughout the lab.\n",
    "\n",
    "<span style=\"color: red;\"><strong><img src=\"resources/alert.png\" style=\"width: 12px\"> Important:</strong></span> \n",
    "- The firewall lab does NOT have a ```firewall``` node. There are two separate nodes for this lab, and you will be setting up different firewall rules on the ```server``` and ```client``` nodes. When you access your lab, use ```ssh server``` and ```ssh client```. <strong>SSH'ing to a ```firewall``` node will not work!</strong>\n",
    "- For this lab, you can SSH into the ```server``` and ```client``` without having to type ```exit``` to go between your XDC each time.\n",
    "\n",
    "Throughout Topic 1, you may test these commands in the ```server``` node."
   ]
  },
  {
   "cell_type": "markdown",
   "metadata": {
    "deletable": false,
    "editable": false,
    "slideshow": {
     "slide_type": ""
    },
    "tags": []
   },
   "source": [
    "### Step 1: ```nmap``` - \"<u>N</u>etwork <u>Map</u>ping\"\n",
    "\n",
    "```nmap``` is a useful tool that shows what ports that a website has access to your device. When using ```nmap```, you may call a website as an argument to see what ports that it uses on your machine. ```nmap``` has many additional uses, but for the purpose of this notebook, it will only be used to display the ports used by connections.\n",
    "\n",
    "If you're interested in learning more about the uses of ```nmap```, you may check out some examples provided by the developers <a href=\"https://nmap.org/book/man-examples.html\">here</a>.\n",
    "\n",
    "<strong>Your task</strong>: Type a command below that uses ```nmap```, which displays the ports that <span style=\"color: blue;\">yahoo.com</span> uses on your device. Do this in the ```server``` node."
   ]
  },
  {
   "cell_type": "code",
   "execution_count": 4,
   "metadata": {
    "deletable": false,
    "editable": false,
    "jupyter": {
     "source_hidden": true
    },
    "slideshow": {
     "slide_type": ""
    },
    "tags": []
   },
   "outputs": [
    {
     "data": {
      "application/vnd.jupyter.widget-view+json": {
       "model_id": "5645ec54c1f04e1991f2ae814a46e778",
       "version_major": 2,
       "version_minor": 0
      },
      "text/plain": [
       "Output()"
      ]
     },
     "metadata": {},
     "output_type": "display_data"
    },
    {
     "data": {
      "application/vnd.jupyter.widget-view+json": {
       "model_id": "9cfe8301b6eb43c98b5e5aed35b53814",
       "version_major": 2,
       "version_minor": 0
      },
      "text/plain": [
       "Text(value='nmap   yahoo.com  ', description='Command:', layout=Layout(width='90%'), placeholder='Type your nm…"
      ]
     },
     "metadata": {},
     "output_type": "display_data"
    },
    {
     "data": {
      "application/vnd.jupyter.widget-view+json": {
       "model_id": "00ebbc2b9b4c4099b67e86e090571940",
       "version_major": 2,
       "version_minor": 0
      },
      "text/plain": [
       "Button(description='Check Command', style=ButtonStyle())"
      ]
     },
     "metadata": {},
     "output_type": "display_data"
    },
    {
     "data": {
      "application/vnd.jupyter.widget-view+json": {
       "model_id": "e3eb902434c44e32944d819f5770d8f7",
       "version_major": 2,
       "version_minor": 0
      },
      "text/plain": [
       "Output()"
      ]
     },
     "metadata": {},
     "output_type": "display_data"
    }
   ],
   "source": [
    "# Click the button below to check your work.\n",
    "step1Complete = False\n",
    "\n",
    "# Function to check if the student's answer was correct.\n",
    "def step_1():\n",
    "    # Important variables that must be accessed outside of this function.\n",
    "    global step1Complete, result\n",
    "\n",
    "    # Loading, in case the check is slow.\n",
    "    with output1:\n",
    "        output1.clear_output()\n",
    "        display(HTML(\"<span><img width='12px' height='12px' style='margin-left: 3px;' src='resources/loading.gif'></span>\"))\n",
    "\n",
    "    # First, check to see if the field is empty.\n",
    "    if (userInput1.value == \"\"):\n",
    "        output1.clear_output()\n",
    "        with output1:\n",
    "            display(HTML(\"<span style='color: red;'>You did not provide input for this step.</span>\"))\n",
    "            step1Complete = False\n",
    "\n",
    "    # Next, check to make sure that the wget command is used.\n",
    "    pattern = r'^nmap'\n",
    "    if (not re.match(pattern, userInput1.value)):\n",
    "        output1.clear_output()\n",
    "        with output1:\n",
    "            display(HTML(\"<span style='color: red;'>Your answer does not use nmap.</span>\"))\n",
    "            step1Complete = False\n",
    "\n",
    "    else:\n",
    "        user_input = userInput1.value\n",
    "        escaped_user_input = user_input.replace('\"', '\\\\\"').replace(\"'\", \"'\\\\''\")\n",
    "\n",
    "        # Construct the SSH command for testing the student's response.\n",
    "        test_response = f\"\"\"ssh -i /home/USERNAME_GOES_HERE/.ssh/merge_key USERNAME_GOES_HERE@server \"/home/.checker/section_1.py 1 '{escaped_user_input}'\" \"\"\"\n",
    "        result = subprocess.run(test_response, shell=True, stdout=subprocess.PIPE, stderr=subprocess.PIPE)\n",
    "        \n",
    "        # Construct the SSH command for saving the student's response.\n",
    "        save_command = f\"\"\"ssh -i /home/USERNAME_GOES_HERE/.ssh/merge_key USERNAME_GOES_HERE@server \"echo '{escaped_user_input}' > /home/.checker/responses/step_1_answer.txt\" \"\"\"\n",
    "        save_result = subprocess.run(save_command, shell=True, stdout=subprocess.PIPE, stderr=subprocess.PIPE)\n",
    "        \n",
    "        if (result.returncode == 1):\n",
    "            output1.clear_output()\n",
    "            with output1:\n",
    "                display(HTML(\"<span style='color: green;'>Your command is correct!</span>\"))\n",
    "                step1Complete = True\n",
    "        \n",
    "        elif (result.returncode == 0):\n",
    "            output1.clear_output()\n",
    "            with output1:\n",
    "                display(HTML(\"<span style='color: red;'>The command that you provided is incorrect.</span>\"))\n",
    "                step1Complete = False\n",
    "\n",
    "        elif (result.returncode == 2):\n",
    "            output1.clear_output()\n",
    "            with output1:\n",
    "                display(HTML(\"<span style='color: red;'>An error occurred. Please contact your professor or TA.</span>\"))\n",
    "                step1Complete = False\n",
    "\n",
    "        \n",
    "def check_step_1(b):\n",
    "    if (warn_student()):\n",
    "        output1.clear_output()\n",
    "        with output1:\n",
    "            display(HTML(\"<span style='color: red;'><strong>WARNING:</strong> You have an autosaved lab that you have not yet loaded. If you would like to load your progress, click \\\"Load Lab\\\" at the top of the notebook. Otherwise, clicking on this button again will assume you're restarting the lab!</span>\"))\n",
    "    else:\n",
    "        step_1()\n",
    "\n",
    "        # Auto-save.\n",
    "        if (not runAllSteps):\n",
    "            trigger_save(\"1\", result.returncode, userInput1.value)\n",
    "\n",
    "# Retrieve the student's response. First, create a loading spinner, since this could take a second or two.\n",
    "loading1 = widgets.Output()\n",
    "display(loading1)\n",
    "with loading1:\n",
    "    loading1.clear_output()\n",
    "    display(HTML(\"<span>Loading your saved response... <img width='12px' height='12px' style='margin-left: 3px;' src='resources/loading.gif'></span>\"))\n",
    "\n",
    "# Creating a text area.\n",
    "userInput1 = widgets.Text(\n",
    "    placeholder='Type your nmap command here',\n",
    "    description='Command:',\n",
    "    layout=widgets.Layout(width='90%')\n",
    ")\n",
    "\n",
    "# Checking if the step has been answered.\n",
    "result = subprocess.run('ssh -o StrictHostKeyChecking=no -i /home/USERNAME_GOES_HERE/.ssh/merge_key USERNAME_GOES_HERE@server \"cat /home/.checker/responses/step_1_answer.txt 2> /dev/null\"', capture_output=True, text=True, shell=True)\n",
    "# Trim the newline.\n",
    "userInput1.value = result.stdout[:-1]\n",
    "\n",
    "# After the student's response was loaded, clear the output.\n",
    "loading1.clear_output()\n",
    "\n",
    "# Creating the button.\n",
    "button = widgets.Button(description=\"Check Command\")\n",
    "\n",
    "# Creating an output area.\n",
    "output1 = widgets.Output()\n",
    "\n",
    "# Run the command on click.\n",
    "button.on_click(check_step_1)\n",
    "\n",
    "# Display the output.\n",
    "display(userInput1, button, output1)"
   ]
  },
  {
   "cell_type": "markdown",
   "metadata": {
    "deletable": false,
    "editable": false,
    "slideshow": {
     "slide_type": ""
    },
    "tags": []
   },
   "source": [
    "### Step 2: ```ifconfig``` - \"<u>I</u>nter<u>f</u>ace <u>Config</u>uration\"\n",
    "\n",
    "```ifconfig``` is used to view and configure the network interfaces on your device. Network interfaces can be physical hardware components such as Wi-Fi adapters and Ethernet connections that send and receive data over the internet. Each type of connection, whether it's a Wi-Fi adapter, Ethernet connection, or even a virtual network interface, is treated as a separate interface by the operating system. \n",
    "\n",
    "For example, using a Wi-Fi dongle on a device that already has an internal network adapter will result in two different interfaces being displayed by ```ifconfig```. \n",
    "\n",
    "<strong>Your task</strong>: Use ```ifconfig``` in the ```server``` node. In the field below, type the name of the network interface whose IP address is ```10.0.1.1```."
   ]
  },
  {
   "cell_type": "code",
   "execution_count": 5,
   "metadata": {
    "deletable": false,
    "editable": false,
    "jupyter": {
     "source_hidden": true
    },
    "slideshow": {
     "slide_type": ""
    },
    "tags": []
   },
   "outputs": [
    {
     "data": {
      "application/vnd.jupyter.widget-view+json": {
       "model_id": "6b1d38d5d9534d4aa1982699a5c7151b",
       "version_major": 2,
       "version_minor": 0
      },
      "text/plain": [
       "Output()"
      ]
     },
     "metadata": {},
     "output_type": "display_data"
    },
    {
     "data": {
      "application/vnd.jupyter.widget-view+json": {
       "model_id": "202f2384047f43c3b3bd7c544fee7fb0",
       "version_major": 2,
       "version_minor": 0
      },
      "text/plain": [
       "Text(value='eth1', description='Interface:', layout=Layout(width='90%'), placeholder='Type your network interf…"
      ]
     },
     "metadata": {},
     "output_type": "display_data"
    },
    {
     "data": {
      "application/vnd.jupyter.widget-view+json": {
       "model_id": "a5d33984691d447cbc15b0a590086350",
       "version_major": 2,
       "version_minor": 0
      },
      "text/plain": [
       "Button(description='Check Interface', style=ButtonStyle())"
      ]
     },
     "metadata": {},
     "output_type": "display_data"
    },
    {
     "data": {
      "application/vnd.jupyter.widget-view+json": {
       "model_id": "1ba83b885a084e788bc1d45f4b2b6e84",
       "version_major": 2,
       "version_minor": 0
      },
      "text/plain": [
       "Output()"
      ]
     },
     "metadata": {},
     "output_type": "display_data"
    }
   ],
   "source": [
    "# Click the button below to check your work.\n",
    "step2Complete = False\n",
    "\n",
    "# Function to check if the student's answer was correct.\n",
    "def step_2():\n",
    "    # Important variables that must be accessed outside of this function.\n",
    "    global step2Complete, result\n",
    "\n",
    "    # Loading, in case the check is slow.\n",
    "    with output2:\n",
    "        output2.clear_output()\n",
    "        display(HTML(\"<span><img width='12px' height='12px' style='margin-left: 3px;' src='resources/loading.gif'></span>\"))\n",
    "\n",
    "    # First, check to see if the field is empty.\n",
    "    if (userInput2.value == \"\"):\n",
    "        output2.clear_output()\n",
    "        with output2:\n",
    "            display(HTML(\"<span style='color: red;'>You did not provide input for this step.</span>\"))\n",
    "            step2Complete = False\n",
    "\n",
    "    else:\n",
    "        user_input = userInput2.value\n",
    "        escaped_user_input = user_input.replace('\"', '\\\\\"').replace(\"'\", \"'\\\\''\")\n",
    "\n",
    "        # Construct the SSH command for testing the student's response.\n",
    "        test_response = f\"\"\"ssh -i /home/USERNAME_GOES_HERE/.ssh/merge_key USERNAME_GOES_HERE@server \"/home/.checker/section_1.py 2 '{escaped_user_input}'\" \"\"\"\n",
    "        result = subprocess.run(test_response, shell=True, stdout=subprocess.PIPE, stderr=subprocess.PIPE)\n",
    "        \n",
    "        # Construct the SSH command for saving the student's response.\n",
    "        save_command = f\"\"\"ssh -i /home/USERNAME_GOES_HERE/.ssh/merge_key USERNAME_GOES_HERE@server \"echo '{escaped_user_input}' > /home/.checker/responses/step_2_answer.txt\" \"\"\"\n",
    "        save_result = subprocess.run(save_command, shell=True, stdout=subprocess.PIPE, stderr=subprocess.PIPE)\n",
    "        \n",
    "        if (result.returncode == 1):\n",
    "            output2.clear_output()\n",
    "            with output2:\n",
    "                display(HTML(\"<span style='color: green;'>Your command is correct!</span>\"))\n",
    "                step2Complete = True\n",
    "        \n",
    "        elif (result.returncode == 0):\n",
    "            output2.clear_output()\n",
    "            with output2:\n",
    "                display(HTML(\"<span style='color: red;'>The command that you provided is incorrect.</span>\"))\n",
    "                step2Complete = False\n",
    "\n",
    "        elif (result.returncode == 2):\n",
    "            output2.clear_output()\n",
    "            with output2:\n",
    "                display(HTML(\"<span style='color: red;'>An error occurred. Please contact your professor or TA.</span>\"))\n",
    "                step2Complete = False\n",
    "\n",
    "        \n",
    "def check_step_2(b):\n",
    "    if (warn_student()):\n",
    "        output2.clear_output()\n",
    "        with output2:\n",
    "            display(HTML(\"<span style='color: red;'><strong>WARNING:</strong> You have an autosaved lab that you have not yet loaded. If you would like to load your progress, click \\\"Load Lab\\\" at the top of the notebook. Otherwise, clicking on this button again will assume you're restarting the lab!</span>\"))\n",
    "    else:\n",
    "        step_2()\n",
    "\n",
    "        # Auto-save.\n",
    "        if (not runAllSteps):\n",
    "            trigger_save(\"2\", result.returncode, userInput2.value)\n",
    "\n",
    "# Retrieve the student's response. First, create a loading spinner, since this could take a second or two.\n",
    "loading2 = widgets.Output()\n",
    "display(loading2)\n",
    "with loading2:\n",
    "    loading2.clear_output()\n",
    "    display(HTML(\"<span>Loading your saved response... <img width='12px' height='12px' style='margin-left: 3px;' src='resources/loading.gif'></span>\"))\n",
    "\n",
    "# Creating a text area.\n",
    "userInput2 = widgets.Text(\n",
    "    placeholder='Type your network interface here',\n",
    "    description='Interface:',\n",
    "    layout=widgets.Layout(width='90%')\n",
    ")\n",
    "\n",
    "# Checking if the step has been answered.\n",
    "result = subprocess.run('ssh -o StrictHostKeyChecking=no -i /home/USERNAME_GOES_HERE/.ssh/merge_key USERNAME_GOES_HERE@server \"cat /home/.checker/responses/step_2_answer.txt 2> /dev/null\"', capture_output=True, text=True, shell=True)\n",
    "# Trim the newline.\n",
    "userInput2.value = result.stdout[:-1]\n",
    "\n",
    "# After the student's response was loaded, clear the output.\n",
    "loading2.clear_output()\n",
    "\n",
    "# Creating the button.\n",
    "button = widgets.Button(description=\"Check Interface\")\n",
    "\n",
    "# Creating an output area.\n",
    "output2 = widgets.Output()\n",
    "\n",
    "# Run the command on click.\n",
    "button.on_click(check_step_2)\n",
    "\n",
    "# Display the output.\n",
    "display(userInput2, button, output2)"
   ]
  },
  {
   "cell_type": "markdown",
   "metadata": {
    "deletable": false,
    "editable": false,
    "slideshow": {
     "slide_type": ""
    },
    "tags": []
   },
   "source": [
    "### Step 3: ```telnet``` - \"<u>Tel</u>e-<u>Net</u>work\"\n",
    "\n",
    "```telnet``` is a cleartext remote terminal protocol. On the surface, ```telnet``` is very simple: the user issues commands over a TCP socket, and the server replies with the results of those commands and waits for more input. ```telnet``` is one of the simplest and oldest network protocols still in use. Due to its cleartext nature and low-level access to the system, ```telnet``` is incredibly insecure. \n",
    "\n",
    "In the past, it was common for system administrators to log in as root using telnet on a network connection that could be easily sniffed by any sufficiently prepared attacker. This lack of encryption means that usernames, passwords, and other sensitive data are transmitted in plaintext, making it vulnerable to interception.\n",
    "\n",
    "Telnetting to a suspected open port is still one of the fastest ways to see if a service is available or reachable. Here is an example of a ```telnet``` request.\n",
    "\n",
    "```\n",
    "$ telnet yahoo.com 80\n",
    "\n",
    "Trying 66.94.234.13...\n",
    "Connected to yahoo.com.\n",
    "Escape character is '^]'.\n",
    "GET /\n",
    "...\n",
    "\n",
    "<html><head> ...[web page data] ...\n",
    "</body>\n",
    "</html>\n",
    "\n",
    "Connection closed by foreign host.\n",
    "```\n",
    "\n",
    "A small breakdown of what's being typed:\n",
    "- ```telnet yahoo.com 80``` calls Yahoo with an HTTP request, which is port 80.\n",
    "- ```GET /``` gets the index page of Yahoo, which is ```http://www.yahoo.com/```. Anything appears after the end of the URL (the ```/```) appears in the HTTP response. If you wanted to get a specific webpage, like ```/watch.html```, this would be in the GET request that you would use. \n",
    "\n",
    "Telnetnetting to an IP and port (see above) should return a \"connected\" message if it is possible to connect to a running server.\n",
    "\n",
    "<strong>Your task</strong>: When Apache is configured, it displays an \"It Works!\" webpage. This webpage is called `index.html`, which can be accessed from `localhost`, or `10.0.1.1`, which is the IP address that was given to you earlier. Using `telnet`, get the response from accessing `http://localhost/index.html`. You're free to use either `localhost` or `10.0.1.1` in your `telnet` command.\n",
    "\n",
    "Pay attention to the `http` request, which uses a certain port. Read the directions entirely to understand what this port value is.\n",
    "\n",
    "In the \"Command\" field, type the `telnet` command that sends a request to this domain.\n",
    "\n",
    "In the \"Request\" field, after connecting to the website through `telnet`, type the request to obtain the `index.html` webpage."
   ]
  },
  {
   "cell_type": "code",
   "execution_count": 6,
   "metadata": {
    "deletable": false,
    "editable": false,
    "jupyter": {
     "source_hidden": true
    },
    "slideshow": {
     "slide_type": ""
    },
    "tags": []
   },
   "outputs": [
    {
     "data": {
      "application/vnd.jupyter.widget-view+json": {
       "model_id": "c94c88c4a6544d03bde724768d152ec3",
       "version_major": 2,
       "version_minor": 0
      },
      "text/plain": [
       "Output()"
      ]
     },
     "metadata": {},
     "output_type": "display_data"
    },
    {
     "data": {
      "application/vnd.jupyter.widget-view+json": {
       "model_id": "446af7aad1084823b30ecbebf9fcca3e",
       "version_major": 2,
       "version_minor": 0
      },
      "text/plain": [
       "Text(value='telnet 10.0.1.1 80', description='Command:', layout=Layout(width='90%'), placeholder='Type your te…"
      ]
     },
     "metadata": {},
     "output_type": "display_data"
    },
    {
     "data": {
      "application/vnd.jupyter.widget-view+json": {
       "model_id": "9c594ffc900945a0aa5674e054cc6fd5",
       "version_major": 2,
       "version_minor": 0
      },
      "text/plain": [
       "Text(value='GET /index.html', description='Request:', layout=Layout(width='90%'), placeholder='Type your telne…"
      ]
     },
     "metadata": {},
     "output_type": "display_data"
    },
    {
     "data": {
      "application/vnd.jupyter.widget-view+json": {
       "model_id": "96976c269c194aea91acde43caa49458",
       "version_major": 2,
       "version_minor": 0
      },
      "text/plain": [
       "Button(description='Check Commands', style=ButtonStyle())"
      ]
     },
     "metadata": {},
     "output_type": "display_data"
    },
    {
     "data": {
      "application/vnd.jupyter.widget-view+json": {
       "model_id": "06433cc4b3bb49bb8cad1b32bffa8213",
       "version_major": 2,
       "version_minor": 0
      },
      "text/plain": [
       "Output()"
      ]
     },
     "metadata": {},
     "output_type": "display_data"
    }
   ],
   "source": [
    "# Click the button below to check your work.\n",
    "step3Complete = False\n",
    "\n",
    "# Function to check if the student's answer was correct.\n",
    "def step_3():\n",
    "    # Important variables that must be accessed outside of this function.\n",
    "    global step3Complete, result\n",
    "\n",
    "    # Loading, in case the check is slow.\n",
    "    with output3:\n",
    "        output3.clear_output()\n",
    "        display(HTML(\"<span><img width='12px' height='12px' style='margin-left: 3px;' src='resources/loading.gif'></span>\"))\n",
    "\n",
    "    # First, check to see if the field is empty.\n",
    "    if (userInput3_1.value == \"\" or userInput3_2.value == \"\"):\n",
    "        output3.clear_output()\n",
    "        with output3:\n",
    "            display(HTML(\"<span style='color: red;'>One of your input fields is empty.</span>\"))\n",
    "            step3Complete = False\n",
    "\n",
    "    # Next, check to make sure that the telnet command is used.\n",
    "    elif (not re.match(r'^telnet', userInput3_1.value)):\n",
    "        output3.clear_output()\n",
    "        with output3:\n",
    "            display(HTML(\"<span style='color: red;'>Your answer does not start with (or use) telnet.</span>\"))\n",
    "            step3Complete = False\n",
    "\n",
    "    else:\n",
    "        user_input = userInput3_1.value + \"\\\\n\" + userInput3_2.value\n",
    "        escaped_user_input = user_input.replace(\"'\", \"'\\\\''\")\n",
    "\n",
    "        # Construct the SSH command for testing the student's response.\n",
    "        test_response = f\"\"\"ssh -i /home/USERNAME_GOES_HERE/.ssh/merge_key USERNAME_GOES_HERE@server \"/home/.checker/section_1.py 3 '{escaped_user_input}'\" \"\"\"\n",
    "        result = subprocess.run(test_response, shell=True, stdout=subprocess.PIPE, stderr=subprocess.PIPE)\n",
    "\n",
    "        # Construct the SSH command for saving the student's response.\n",
    "        save_command = f\"\"\"ssh -i /home/USERNAME_GOES_HERE/.ssh/merge_key USERNAME_GOES_HERE@server \"echo '{escaped_user_input}' > /home/.checker/responses/step_3_answer.txt\" \"\"\"\n",
    "        save_result = subprocess.run(save_command, shell=True, stdout=subprocess.PIPE, stderr=subprocess.PIPE)\n",
    "        \n",
    "        if (result.returncode == 1):\n",
    "            output3.clear_output()\n",
    "            with output3:\n",
    "                display(HTML(\"<span style='color: green;'>Your commands are correct!</span>\"))\n",
    "                step3Complete = True\n",
    "        \n",
    "        elif (result.returncode == 0):\n",
    "            output3.clear_output()\n",
    "            with output3:\n",
    "                display(HTML(\"<span style='color: red;'>A command that you provided is incorrect.</span>\"))\n",
    "                step3Complete = False\n",
    "\n",
    "        elif (result.returncode == 2):\n",
    "            output3.clear_output()\n",
    "            with output3:\n",
    "                display(HTML(\"<span style='color: red;'>An error occurred. Please contact your professor or TA.</span>\"))\n",
    "                step3Complete = False\n",
    "\n",
    "        \n",
    "def check_step_3(b):\n",
    "    if (warn_student()):\n",
    "        output3.clear_output()\n",
    "        with output3:\n",
    "            display(HTML(\"<span style='color: red;'><strong>WARNING:</strong> You have an autosaved lab that you have not yet loaded. If you would like to load your progress, click \\\"Load Lab\\\" at the top of the notebook. Otherwise, clicking on this button again will assume you're restarting the lab!</span>\"))\n",
    "    else:\n",
    "        step_3()\n",
    "\n",
    "        # Auto-save.\n",
    "        if (not runAllSteps):\n",
    "            trigger_save(\"3\", result.returncode, f\"{userInput3_1.value} {userInput3_2.value}\")\n",
    "\n",
    "# Retrieve the student's response. First, create a loading spinner, since this could take a second or two.\n",
    "loading3 = widgets.Output()\n",
    "display(loading3)\n",
    "with loading3:\n",
    "    loading3.clear_output()\n",
    "    display(HTML(\"<span>Loading your saved response... <img width='12px' height='12px' style='margin-left: 3px;' src='resources/loading.gif'></span>\"))\n",
    "\n",
    "# Creating two text areas.\n",
    "userInput3_1 = widgets.Text(\n",
    "    placeholder='Type your telnet command here',\n",
    "    description='Command:',\n",
    "    layout=widgets.Layout(width='90%')\n",
    ")\n",
    "\n",
    "userInput3_2 = widgets.Text(\n",
    "    placeholder='Type your telnet response here',\n",
    "    description='Request:',\n",
    "    layout=widgets.Layout(width='90%')\n",
    ")\n",
    "\n",
    "# Checking if the step has been answered.\n",
    "result = subprocess.run('ssh -o StrictHostKeyChecking=no -i /home/USERNAME_GOES_HERE/.ssh/merge_key USERNAME_GOES_HERE@server \"cat /home/.checker/responses/step_3_answer.txt 2> /dev/null\"', capture_output=True, text=True, shell=True)\n",
    "\n",
    "userInput3_1.value = \"\"\n",
    "userInput3_2.value = \"\"\n",
    "\n",
    "if (result.stdout != \"\"):\n",
    "    # Split the results.\n",
    "    result_stdout = re.sub(r'\\n', '', result.stdout)\n",
    "    split_result = (result_stdout).split(\"\\\\n\")\n",
    "    \n",
    "    # Assign the values and trim the newline.\n",
    "    userInput3_1.value = split_result[0]\n",
    "    userInput3_2.value = split_result[1]\n",
    "\n",
    "    if (userInput3_2.value[:-2] == \"\\n\"):\n",
    "        userInput3_2.value = userInput3_2.value[:-2]\n",
    "\n",
    "# After the student's response was loaded, clear the output.\n",
    "loading3.clear_output()\n",
    "\n",
    "# Creating the button.\n",
    "button = widgets.Button(description=\"Check Commands\")\n",
    "\n",
    "# Creating an output area.\n",
    "output3 = widgets.Output()\n",
    "\n",
    "# Run the command on click.\n",
    "button.on_click(check_step_3)\n",
    "\n",
    "# Display the output.\n",
    "display(userInput3_1, userInput3_2, button, output3)"
   ]
  },
  {
   "cell_type": "markdown",
   "metadata": {
    "deletable": false,
    "editable": false,
    "slideshow": {
     "slide_type": ""
    },
    "tags": []
   },
   "source": [
    "### Step 4: ```nc``` - \"<u>N</u>et<u>c</u>at\"\n",
    "\n",
    "```nc``` is a Unix utility for creating and using TCP and UDP sockets. In a very simplified way, ```nc``` is like a telnet client and server without any built in protocol or terminal emulation. Another way of putting it is that netcat is the bare essentials for creating a TCP or UDP socket and client, with hooks for using standard in and standard out for IO.\n",
    "\n",
    "Netcat can be used for several purposes, such as: Sending messages to computers, debugging connection issues, scanning for open ports on a remote host (```nc -zv hostname 20-80``` scans between ports 20-80 on the specified hostname), transferring files, creating a backdoor (which bypasses security systems), connecting to a remote shell, and a lot more.\n",
    "\n",
    "<strong>Your task</strong>: On the ```server``` node, set up a server that listens for TCP protocols, and listen on port 10000. On the ```client``` node, set up a connection to the ```server``` node that sends TCP packets to ```server``` on port 10000. Once you have set this up, try sending a message through ```client``` to see if it will be displayed on ```server```.\n",
    "\n",
    "There are text entries below, where you will type in the commands that you used to set up ```server``` and ```client```. Once you have a working \"chatroom\", type the two commands below that worked. They will be tested.\n",
    "\n",
    "<span style=\"color: green\"><strong><img src=\"resources/idea.png\" style=\"width: 12px\"> Tips:</strong></span> \n",
    "- When using the ```nc``` command, you will need to use ```-l``` which means \"listen\", and ```-p``` which accepts a port number afterwards. When using ```nc``` to connect to another computer, you can simply just type ```nc <name> <port>``` to send messages to a specified address/name that's listening for requests.\n",
    "- Try opening two terminals to simultaneously access both nodes.\n",
    "- Step 18 has an example of how to do this step, but with UDP packets. <u>Do not use UDP packets for this step.</u>\n",
    "- Attempting to call your ```nc``` command on ```client``` <strong>before</strong> ```server``` listens on port 10000 might display a \"Connection Refused\" error. Ensure that you begin listening on port 10000 first before calling a command on ```client```. "
   ]
  },
  {
   "cell_type": "code",
   "execution_count": 7,
   "metadata": {
    "deletable": false,
    "editable": false,
    "jupyter": {
     "source_hidden": true
    },
    "slideshow": {
     "slide_type": ""
    },
    "tags": []
   },
   "outputs": [
    {
     "data": {
      "application/vnd.jupyter.widget-view+json": {
       "model_id": "8a1352945e6c402ba91cffeeccefbcb9",
       "version_major": 2,
       "version_minor": 0
      },
      "text/plain": [
       "Output()"
      ]
     },
     "metadata": {},
     "output_type": "display_data"
    },
    {
     "data": {
      "application/vnd.jupyter.widget-view+json": {
       "model_id": "70c671539e6743b0b7b475e6835a49cf",
       "version_major": 2,
       "version_minor": 0
      },
      "text/plain": [
       "Text(value='nc -l -p 10000', description='Server:', layout=Layout(width='90%'), placeholder=\"Type your server'…"
      ]
     },
     "metadata": {},
     "output_type": "display_data"
    },
    {
     "data": {
      "application/vnd.jupyter.widget-view+json": {
       "model_id": "94b922a251e2471dbcc29dacc7d6f09f",
       "version_major": 2,
       "version_minor": 0
      },
      "text/plain": [
       "Text(value='nc 10.0.1.1 10000', description='Client:', layout=Layout(width='90%'), placeholder=\"Type your clie…"
      ]
     },
     "metadata": {},
     "output_type": "display_data"
    },
    {
     "data": {
      "application/vnd.jupyter.widget-view+json": {
       "model_id": "e82f74f974bf49c3a3ac9a0bc33a2076",
       "version_major": 2,
       "version_minor": 0
      },
      "text/plain": [
       "Button(description='Check Commands', style=ButtonStyle())"
      ]
     },
     "metadata": {},
     "output_type": "display_data"
    },
    {
     "data": {
      "application/vnd.jupyter.widget-view+json": {
       "model_id": "eaff4b87ab15440ebe709e2a52c32bea",
       "version_major": 2,
       "version_minor": 0
      },
      "text/plain": [
       "Output()"
      ]
     },
     "metadata": {},
     "output_type": "display_data"
    }
   ],
   "source": [
    "# Click the button below to check your work.\n",
    "step4Complete = False\n",
    "\n",
    "# Function to check if the student's answer was correct.\n",
    "def step_4():\n",
    "    # Important variables that must be accessed outside of this function.\n",
    "    global step4Complete, result\n",
    "\n",
    "    # Loading, in case the check is slow.\n",
    "    with output4:\n",
    "        output4.clear_output()\n",
    "        display(HTML(\"<span><img width='12px' height='12px' style='margin-left: 3px;' src='resources/loading.gif'></span>\"))\n",
    "\n",
    "    # First, check to see if the field is empty.\n",
    "    if (userInput4_1.value == \"\" or userInput4_2.value == \"\"):\n",
    "        output4.clear_output()\n",
    "        with output4:\n",
    "            display(HTML(\"<span style='color: red;'>One of your input fields is empty.</span>\"))\n",
    "            step4Complete = False\n",
    "\n",
    "    # Next, check to make sure that the telnet command is used.\n",
    "    elif (not re.match(r'^nc', userInput4_1.value) or not re.match(r'^nc', userInput4_2.value)):\n",
    "        output4.clear_output()\n",
    "        with output4:\n",
    "            display(HTML(\"<span style='color: red;'>Your answer(s) does not use nc.</span>\"))\n",
    "            step4Complete = False\n",
    "\n",
    "    else:\n",
    "        user_input = userInput4_1.value + \"\\\\n\" + userInput4_2.value\n",
    "        escaped_user_input = user_input.replace(\"\\\\\", \"\\\\\\\\\").replace(\"'\", \"'\\\\''\")\n",
    "\n",
    "        # Construct the SSH command for testing the student's response.\n",
    "        test_response = f\"\"\"ssh -i /home/USERNAME_GOES_HERE/.ssh/merge_key USERNAME_GOES_HERE@server \"/home/.checker/section_1.py 4 '{escaped_user_input}'\" \"\"\"\n",
    "        result = subprocess.run(test_response, shell=True, stdout=subprocess.PIPE, stderr=subprocess.PIPE)\n",
    "        \n",
    "        # Construct the SSH command for saving the student's response.\n",
    "        save_command = f\"\"\"ssh -i /home/USERNAME_GOES_HERE/.ssh/merge_key USERNAME_GOES_HERE@server \"echo '{escaped_user_input}' > /home/.checker/responses/step_4_answer.txt\" \"\"\"\n",
    "        save_result = subprocess.run(save_command, shell=True, stdout=subprocess.PIPE, stderr=subprocess.PIPE)\n",
    "        \n",
    "        if (result.returncode == 1):\n",
    "            output4.clear_output()\n",
    "            with output4:\n",
    "                display(HTML(\"<span style='color: green;'>Your commands are correct!</span>\"))\n",
    "                step4Complete = True\n",
    "        \n",
    "        elif (result.returncode == 0):\n",
    "            output4.clear_output()\n",
    "            with output4:\n",
    "                display(HTML(\"<span style='color: red;'>The command that you provided is incorrect.</span>\"))\n",
    "                step4Complete = False\n",
    "\n",
    "        elif (result.returncode == 2):\n",
    "            output4.clear_output()\n",
    "            with output4:\n",
    "                display(HTML(\"<span style='color: red;'>An error occurred. Please contact your professor or TA.</span>\"))\n",
    "                step4Complete = False\n",
    "\n",
    "        \n",
    "def check_step_4(b):\n",
    "    if (warn_student()):\n",
    "        output4.clear_output()\n",
    "        with output4:\n",
    "            display(HTML(\"<span style='color: red;'><strong>WARNING:</strong> You have an autosaved lab that you have not yet loaded. If you would like to load your progress, click \\\"Load Lab\\\" at the top of the notebook. Otherwise, clicking on this button again will assume you're restarting the lab!</span>\"))\n",
    "    else:\n",
    "        step_4()\n",
    "\n",
    "        # Auto-save.\n",
    "        if (not runAllSteps):\n",
    "            trigger_save(\"4\", result.returncode, f\"{userInput4_1.value} {userInput4_2.value}\")\n",
    "\n",
    "# Retrieve the student's response. First, create a loading spinner, since this could take a second or two.\n",
    "loading4 = widgets.Output()\n",
    "display(loading4)\n",
    "with loading4:\n",
    "    loading4.clear_output()\n",
    "    display(HTML(\"<span>Loading your saved response... <img width='12px' height='12px' style='margin-left: 3px;' src='resources/loading.gif'></span>\"))\n",
    "\n",
    "# Creating two text areas.\n",
    "userInput4_1 = widgets.Text(\n",
    "    placeholder='Type your server\\'s command here',\n",
    "    description='Server:',\n",
    "    layout=widgets.Layout(width='90%')\n",
    ")\n",
    "\n",
    "userInput4_2 = widgets.Text(\n",
    "    placeholder='Type your client\\'s command here',\n",
    "    description='Client:',\n",
    "    layout=widgets.Layout(width='90%')\n",
    ")\n",
    "\n",
    "# Checking if the step has been answered.\n",
    "result = subprocess.run('ssh -o StrictHostKeyChecking=no -i /home/USERNAME_GOES_HERE/.ssh/merge_key USERNAME_GOES_HERE@server \"cat /home/.checker/responses/step_4_answer.txt 2> /dev/null\"', capture_output=True, text=True, shell=True)\n",
    "\n",
    "userInput4_1.value = \"\"\n",
    "userInput4_2.value = \"\"\n",
    "\n",
    "if (result.stdout != \"\"):\n",
    "    # Split the results.\n",
    "    split_result = re.split(r'(?:\\\\n|\\n)', result.stdout)\n",
    "    \n",
    "    # Trim the newline.\n",
    "    userInput4_1.value = split_result[0]\n",
    "    userInput4_2.value = split_result[1]\n",
    "\n",
    "# After the student's response was loaded, clear the output.\n",
    "loading4.clear_output()\n",
    "\n",
    "# Creating the button.\n",
    "button = widgets.Button(description=\"Check Commands\")\n",
    "\n",
    "# Creating an output area.\n",
    "output4 = widgets.Output()\n",
    "\n",
    "# Run the command on click.\n",
    "button.on_click(check_step_4)\n",
    "\n",
    "# Display the output.\n",
    "display(userInput4_1, userInput4_2, button, output4)"
   ]
  },
  {
   "cell_type": "markdown",
   "metadata": {
    "deletable": false,
    "editable": false,
    "slideshow": {
     "slide_type": ""
    },
    "tags": []
   },
   "source": [
    "## <strong>Topic 2: Introduction to ```iptables```</strong>\n",
    "\n",
    "In the previous section, you have explored some tools that you may find useful with creating firewall rules in this lab. Now, you're going to look at the next Unix tool, which is ```iptables```. You will be spending the remaining part of the lab learning about ```iptables```. In the next topic, you will start to learn about the parameters that ```iptables``` accepts in your rules. In the final section, you will be given a list of scenarios and apply your own rules.\n",
    "\n",
    "This section will walk you through the basic interface of ```iptables```."
   ]
  },
  {
   "cell_type": "markdown",
   "metadata": {
    "deletable": false,
    "editable": false,
    "slideshow": {
     "slide_type": ""
    },
    "tags": []
   },
   "source": [
    "### Step 5: Viewing ```iptable``` Rules\n",
    "\n",
    "The ```iptables``` tool has been pre-installed for you on both nodes. However, you will need to navigate into ```server``` for the remainder of this topic.\n",
    "\n",
    "Type ```sudo iptables -L``` into ```server```. ```sudo``` is required for this tool, since this tool lets you control the network flow across the computer. The ```-L``` argument stands for \"list\". Typing this command is going to list all of the rules that are currently in your rule table.\n",
    "\n",
    "These are the only three policies at the moment:\n",
    "```\n",
    "-P INPUT ACCEPT\n",
    "-P FORWARD ACCEPT\n",
    "-P OUTPUT ACCEPT\n",
    "```\n",
    "\n",
    "Before providing a breakdown of these three policies, you are going to read the term <strong>\"chain\"</strong> when working with ```iptables```. A chain is a set of rules. Hence, you're \"linking\" the rules together to form a chain.\n",
    "\n",
    "Here's a small breakdown of the default rules so far:\n",
    "- The ```-P``` argument means \"policy\". This parameter is used with three built-in chains: ```INPUT```, ```FORWARD```, or ```OUTPUT```. There are more built-in chains than these, but these are the most common ones when using this argument.\n",
    "  - Note, ```-p``` stands for \"protocol\". These two should not be mixed up when you begin to make your own rules. You can use either ```-P```, or to be more precise, ```--policy``` also works.\n",
    "- ```INPUT```, ```FORWARD```, and ```OUTPUT``` are the incoming, forwarded, and outgoing packets.\n",
    "- ```ACCEPT``` is the policy of the chain. It tells your system what to do with the chain that preceeds it.\n",
    "  - <strong>All ```iptables``` rules end with ```ACCEPT```, ```DROP```, or ```REJECT```.</strong>\n",
    "    - ```ACCEPT``` allows the connection.\n",
    "    - ```DROP``` disallows the connection, but sends no response to whoever is accessing it.\n",
    "    - ```REJECT``` disallows the connection, but sends a response to whoever is accessing it.\n",
    "\n",
    "\n",
    "After reading this breakdown, this should make the default rules clear in ```iptables```. This means that all incoming, forwarded, and outgoing packets are accepted. Nothing is being blocked.\n",
    "\n",
    "<strong>Your task</strong>: Add the following rule to the table. You will learn about what it does in the next two steps.\n",
    "\n",
    "```sudo iptables -A OUTPUT -p tcp --dport 80 -j DROP```\n",
    "\n",
    "You may view this rule with ```sudo iptables -S```, where ```-S``` is short for \"show\"."
   ]
  },
  {
   "cell_type": "code",
   "execution_count": 8,
   "metadata": {
    "deletable": false,
    "editable": false,
    "jupyter": {
     "source_hidden": true
    },
    "slideshow": {
     "slide_type": ""
    },
    "tags": []
   },
   "outputs": [
    {
     "data": {
      "application/vnd.jupyter.widget-view+json": {
       "model_id": "d33f24c85e724f4f9c18bba9e4afab0f",
       "version_major": 2,
       "version_minor": 0
      },
      "text/plain": [
       "Button(description='Check Rule', style=ButtonStyle())"
      ]
     },
     "metadata": {},
     "output_type": "display_data"
    },
    {
     "data": {
      "application/vnd.jupyter.widget-view+json": {
       "model_id": "e0943f3e340b43e68aef052989b74c4a",
       "version_major": 2,
       "version_minor": 0
      },
      "text/plain": [
       "Output()"
      ]
     },
     "metadata": {},
     "output_type": "display_data"
    }
   ],
   "source": [
    "# Click the button below to check your work.\n",
    "step5Complete = False\n",
    "\n",
    "# Function to check the permissions.\n",
    "def step_5():\n",
    "    # Important variables that must be accessed outside of this function.\n",
    "    global step5Complete, result\n",
    "\n",
    "    with output5:\n",
    "        output5.clear_output()\n",
    "        display(HTML(\"<span><img width='14px' height='14px' style='margin-left: 3px;' src='resources/loading.gif'></span>\"))\n",
    "    \n",
    "    # This subprocess statement is a little different. Need to initiate environment variables at the same time when running the command.\n",
    "    # This SSH command needs to be tweaked a little so that environment variables work across SSH.\n",
    "    result = subprocess.run('ssh -i /home/USERNAME_GOES_HERE/.ssh/merge_key USERNAME_GOES_HERE@server \"bash -l -c \\'/home/.checker/section_2.py 5 NA\\'\"', shell=True, capture_output=True, text=True)\n",
    "\n",
    "    if (result.returncode == 1):\n",
    "        output5.clear_output()\n",
    "        with output5:\n",
    "            display(HTML(\"<span style='color: green;'>Success! You may continue onto the next step.</span>\"))\n",
    "            step5Complete = True\n",
    "\n",
    "    elif (result.returncode == 0):\n",
    "        output5.clear_output()\n",
    "        with output5:\n",
    "            display(HTML(\"<span style='color: red;'>The command that was provided to you cannot be found as a rule. Try again.</span>\"))\n",
    "            step5Complete = False\n",
    "\n",
    "    elif (result.returncode == 2):\n",
    "        output5.clear_output()\n",
    "        with output5:\n",
    "            display(HTML(\"<span style='color: red;'>There was an error with checking your step. Please contact your professor or TA for assistance.</span>\"))\n",
    "            step5Complete = False\n",
    "    \n",
    "def check_step_5(b):\n",
    "    if (warn_student()):\n",
    "        output5.clear_output()\n",
    "        with output5:\n",
    "            display(HTML(\"<span style='color: red;'><strong>WARNING:</strong> You have an autosaved lab that you have not yet loaded. If you would like to load your progress, click \\\"Load Lab\\\" at the top of the notebook. Otherwise, clicking on this button again will assume you're restarting the lab!</span>\"))\n",
    "    else:\n",
    "        step_5()\n",
    "\n",
    "        # Auto-save.\n",
    "        if (not runAllSteps):\n",
    "            trigger_save(\"5\", result.returncode)\n",
    "\n",
    "# Creating the button.\n",
    "button = widgets.Button(description=\"Check Rule\")\n",
    "\n",
    "# Creating an output area.\n",
    "output5 = widgets.Output()\n",
    "\n",
    "# Run the command on click.\n",
    "button.on_click(check_step_5)\n",
    "\n",
    "# Display the output.\n",
    "display(button, output5)"
   ]
  },
  {
   "cell_type": "markdown",
   "metadata": {
    "deletable": false,
    "editable": false,
    "slideshow": {
     "slide_type": ""
    },
    "tags": []
   },
   "source": [
    "### Step 6: Identifying the Chain and Jump\n",
    "\n",
    "With this rule added, it's important to understand what this rule has done.\n",
    "\n",
    "Here is a breakdown of the rule that you just added:\n",
    "- ```sudo iptables``` calls the ```iptables``` command.\n",
    "- ```-A OUTPUT``` <strong>appends</strong> the rules that you made to the built-in ```OUTPUT``` chain.\n",
    "- ```-p tcp``` indicates that the rule affects TCP <strong>packets</strong>.\n",
    "- ```--dport 80``` indicates that the rule affects the <strong>destination port</strong>\n",
    "- ```-j DROP``` stands for <strong>jumps</strong>. However, it's easier to interpret this as \"everything that matches this rule will be DROPPED\".\n",
    "\n",
    "Note that one of the default rules is ```-P OUTPUT ACCEPT```, which indicates that one of your policies is to \"accept all output\".\n",
    "\n",
    "The reason why ```-A``` is being used is because you are taking the currently existing ```-P OUTPUT ACCEPT``` rule, but you're appending a rule that states, \"Accept all output, BUT... (your rule here)\".\n",
    "\n",
    "Using the two blanks below, type in the <strong>chain</strong> and <strong>jump</strong> of the rule that you wrote."
   ]
  },
  {
   "cell_type": "code",
   "execution_count": 9,
   "metadata": {
    "deletable": false,
    "editable": false,
    "jupyter": {
     "source_hidden": true
    },
    "slideshow": {
     "slide_type": ""
    },
    "tags": []
   },
   "outputs": [
    {
     "data": {
      "application/vnd.jupyter.widget-view+json": {
       "model_id": "8ef492a545f14d43b170aaf22bc30788",
       "version_major": 2,
       "version_minor": 0
      },
      "text/plain": [
       "Output()"
      ]
     },
     "metadata": {},
     "output_type": "display_data"
    },
    {
     "data": {
      "application/vnd.jupyter.widget-view+json": {
       "model_id": "6d817e2a56e044c0b2a34a59b0158b5a",
       "version_major": 2,
       "version_minor": 0
      },
      "text/plain": [
       "Text(value='OUTPUT', description='Chain:', layout=Layout(width='90%'), placeholder='Type your \"chain\" answer h…"
      ]
     },
     "metadata": {},
     "output_type": "display_data"
    },
    {
     "data": {
      "application/vnd.jupyter.widget-view+json": {
       "model_id": "05d7c2016429416cbbc5549d15470921",
       "version_major": 2,
       "version_minor": 0
      },
      "text/plain": [
       "Text(value='DROP', description='Jump:', layout=Layout(width='90%'), placeholder='Type your \"jump\" answer here'…"
      ]
     },
     "metadata": {},
     "output_type": "display_data"
    },
    {
     "data": {
      "application/vnd.jupyter.widget-view+json": {
       "model_id": "af19d9c303864f45a363f9826ba36d04",
       "version_major": 2,
       "version_minor": 0
      },
      "text/plain": [
       "Button(description='Check Commands', style=ButtonStyle())"
      ]
     },
     "metadata": {},
     "output_type": "display_data"
    },
    {
     "data": {
      "application/vnd.jupyter.widget-view+json": {
       "model_id": "20fa60f924974ecbbb1b30bac145c26d",
       "version_major": 2,
       "version_minor": 0
      },
      "text/plain": [
       "Output()"
      ]
     },
     "metadata": {},
     "output_type": "display_data"
    }
   ],
   "source": [
    "# Click the button below to check your work.\n",
    "step6Complete = False\n",
    "\n",
    "# Function to check if the student's answer was correct.\n",
    "def step_6():\n",
    "    # Important variables that must be accessed outside of this function.\n",
    "    global step6Complete, result\n",
    "\n",
    "    # Loading, in case the check is slow.\n",
    "    with output6:\n",
    "        output6.clear_output()\n",
    "        display(HTML(\"<span><img width='12px' height='12px' style='margin-left: 3px;' src='resources/loading.gif'></span>\"))\n",
    "\n",
    "    # First, check to see if the field is empty.\n",
    "    if (userInput6_1.value == \"\" or userInput6_2.value == \"\"):\n",
    "        output6.clear_output()\n",
    "        with output6:\n",
    "            display(HTML(\"<span style='color: red;'>One of your input fields is empty.</span>\"))\n",
    "            step6Complete = False\n",
    "\n",
    "    else:\n",
    "        user_input = userInput6_1.value + \"\\n\" + userInput6_2.value\n",
    "        escaped_user_input = user_input.replace('\"', '\\\\\"').replace(\"'\", \"'\\\\''\")\n",
    "\n",
    "        # Construct the SSH command for testing the student's response.\n",
    "        test_response = f\"\"\"ssh -i /home/USERNAME_GOES_HERE/.ssh/merge_key USERNAME_GOES_HERE@server \"/home/.checker/section_2.py 6 '{escaped_user_input}'\" \"\"\"\n",
    "        result = subprocess.run(test_response, shell=True, stdout=subprocess.PIPE, stderr=subprocess.PIPE)\n",
    "\n",
    "        # Construct the SSH command for saving the student's response.\n",
    "        save_command = f\"\"\"ssh -i /home/USERNAME_GOES_HERE/.ssh/merge_key USERNAME_GOES_HERE@server \"echo '{escaped_user_input}' > /home/.checker/responses/step_6_answer.txt\" \"\"\"\n",
    "        save_result = subprocess.run(save_command, shell=True, stdout=subprocess.PIPE, stderr=subprocess.PIPE)\n",
    "        \n",
    "        if (result.returncode == 1):\n",
    "            output6.clear_output()\n",
    "            with output6:\n",
    "                display(HTML(\"<span style='color: green;'>Correct!</span>\"))\n",
    "                step6Complete = True\n",
    "        \n",
    "        elif (result.returncode == 0):\n",
    "            output6.clear_output()\n",
    "            with output6:\n",
    "                display(HTML(\"<span style='color: red;'>Check your responses. One (or both) of them is incorrect. (Note: iptables is case-sensitive!)</span>\"))\n",
    "                step6Complete = False\n",
    "\n",
    "        elif (result.returncode == 2):\n",
    "            output6.clear_output()\n",
    "            with output6:\n",
    "                display(HTML(\"<span style='color: red;'>An error occurred. Please contact your professor or TA.</span>\"))\n",
    "                step6Complete = False\n",
    "\n",
    "        \n",
    "def check_step_6(b):\n",
    "    if (warn_student()):\n",
    "        output6.clear_output()\n",
    "        with output6:\n",
    "            display(HTML(\"<span style='color: red;'><strong>WARNING:</strong> You have an autosaved lab that you have not yet loaded. If you would like to load your progress, click \\\"Load Lab\\\" at the top of the notebook. Otherwise, clicking on this button again will assume you're restarting the lab!</span>\"))\n",
    "    else:\n",
    "        step_6()\n",
    "\n",
    "        # Auto-save.\n",
    "        if (not runAllSteps):\n",
    "            trigger_save(\"6\", result.returncode, f\"{userInput6_1.value} {userInput6_2.value}\")\n",
    "\n",
    "# Retrieve the student's response. First, create a loading spinner, since this could take a second or two.\n",
    "loading6 = widgets.Output()\n",
    "display(loading6)\n",
    "with loading6:\n",
    "    loading6.clear_output()\n",
    "    display(HTML(\"<span>Loading your saved response... <img width='12px' height='12px' style='margin-left: 3px;' src='resources/loading.gif'></span>\"))\n",
    "\n",
    "# Creating two text areas.\n",
    "userInput6_1 = widgets.Text(\n",
    "    placeholder='Type your \"chain\" answer here',\n",
    "    description='Chain:',\n",
    "    layout=widgets.Layout(width='90%')\n",
    ")\n",
    "\n",
    "userInput6_2 = widgets.Text(\n",
    "    placeholder='Type your \"jump\" answer here',\n",
    "    description='Jump:',\n",
    "    layout=widgets.Layout(width='90%')\n",
    ")\n",
    "\n",
    "# Checking if the step has been answered.\n",
    "result = subprocess.run('ssh -o StrictHostKeyChecking=no -i /home/USERNAME_GOES_HERE/.ssh/merge_key USERNAME_GOES_HERE@server \"cat /home/.checker/responses/step_6_answer.txt 2> /dev/null\"', capture_output=True, text=True, shell=True)\n",
    "\n",
    "userInput6_1.value = \"\"\n",
    "userInput6_2.value = \"\"\n",
    "\n",
    "if (result.stdout != \"\"):\n",
    "    # Split the results.\n",
    "    split_result = (result.stdout).split(\"\\n\")\n",
    "    \n",
    "    # Trim the newline.\n",
    "    userInput6_1.value = split_result[0]\n",
    "    userInput6_2.value = split_result[1]\n",
    "\n",
    "# After the student's response was loaded, clear the output.\n",
    "loading6.clear_output()\n",
    "\n",
    "# Creating the button.\n",
    "button = widgets.Button(description=\"Check Commands\")\n",
    "\n",
    "# Creating an output area.\n",
    "output6 = widgets.Output()\n",
    "\n",
    "# Run the command on click.\n",
    "button.on_click(check_step_6)\n",
    "\n",
    "# Display the output.\n",
    "display(userInput6_1, userInput6_2, button, output6)"
   ]
  },
  {
   "cell_type": "markdown",
   "metadata": {
    "deletable": false,
    "editable": false,
    "slideshow": {
     "slide_type": ""
    },
    "tags": []
   },
   "source": [
    "### Step 7: Testing Your Rule\n",
    "\n",
    "Type a command that will attempt to access a website through port 80. You will need to type a command that attempts to access a website.\n",
    "\n",
    "Some accepted commands:\n",
    "- ```telnet```\n",
    "- ```nc```\n",
    "- ```curl``` is also acceptable, but wasn't demonstrated in Topic 1.\n",
    "  - If you use ```curl```, you'll need to test it through port 80. Calling ```curl``` without specifying a port will not work."
   ]
  },
  {
   "cell_type": "code",
   "execution_count": 10,
   "metadata": {
    "deletable": false,
    "editable": false,
    "jupyter": {
     "source_hidden": true
    },
    "slideshow": {
     "slide_type": ""
    },
    "tags": []
   },
   "outputs": [
    {
     "data": {
      "application/vnd.jupyter.widget-view+json": {
       "model_id": "56ed5f360bf245daad4c108280ec29ae",
       "version_major": 2,
       "version_minor": 0
      },
      "text/plain": [
       "Output()"
      ]
     },
     "metadata": {},
     "output_type": "display_data"
    },
    {
     "data": {
      "application/vnd.jupyter.widget-view+json": {
       "model_id": "75d3d89475d5461eb49ec28d7228ce39",
       "version_major": 2,
       "version_minor": 0
      },
      "text/plain": [
       "Text(value='telnet d.umn.edu 80', description='Command:', layout=Layout(width='90%'), placeholder='Type a comm…"
      ]
     },
     "metadata": {},
     "output_type": "display_data"
    },
    {
     "data": {
      "application/vnd.jupyter.widget-view+json": {
       "model_id": "79d3e39c464e4512aa5afde6b3bccad6",
       "version_major": 2,
       "version_minor": 0
      },
      "text/plain": [
       "Button(description='Check Command', style=ButtonStyle())"
      ]
     },
     "metadata": {},
     "output_type": "display_data"
    },
    {
     "data": {
      "application/vnd.jupyter.widget-view+json": {
       "model_id": "a921fcd94ea24245bce4b0319f050d18",
       "version_major": 2,
       "version_minor": 0
      },
      "text/plain": [
       "Output()"
      ]
     },
     "metadata": {},
     "output_type": "display_data"
    }
   ],
   "source": [
    "# Click the button below to check your work.\n",
    "step7Complete = False\n",
    "\n",
    "# Function to check if the student's answer was correct.\n",
    "def step_7():\n",
    "    # Important variables that must be accessed outside of this function.\n",
    "    global step7Complete, result\n",
    "\n",
    "    # Loading, in case the check is slow.\n",
    "    with output7:\n",
    "        output7.clear_output()\n",
    "        display(HTML(\"<span>This step will take a little longer to compute. Please wait... <img width='12px' height='12px' style='margin-left: 3px;' src='resources/loading.gif'></span>\"))\n",
    "\n",
    "    # First, check to see if the field is empty.\n",
    "    if (userInput7.value == \"\"):\n",
    "        output7.clear_output()\n",
    "        with output7:\n",
    "            display(HTML(\"<span style='color: red;'>You did not provide input for this step.</span>\"))\n",
    "            step7Complete = False\n",
    "\n",
    "    else:\n",
    "        user_input = userInput7.value\n",
    "        escaped_user_input = shlex.quote(user_input)\n",
    "        \n",
    "        # Construct the SSH command for testing the student's response.\n",
    "        # This SSH command needs to be tweaked a little so that environment variables work across SSH.\n",
    "        ssh_command = (\n",
    "            f\"ssh -i /home/USERNAME_GOES_HERE/.ssh/merge_key USERNAME_GOES_HERE@server \"\n",
    "            f\"\\\"/home/.checker/section_2.py 7 '{escaped_user_input}'\\\"\"\n",
    "        )\n",
    "        \n",
    "        # Run the command\n",
    "        result = subprocess.run(f'ssh -i /home/USERNAME_GOES_HERE/.ssh/merge_key USERNAME_GOES_HERE@server \"/home/.checker/section_2.py 7 {escaped_user_input}\"', shell=True, capture_output=True, text=True)\n",
    "\n",
    "        # Construct the SSH command for saving the student's response.\n",
    "        save_command = f\"\"\"ssh -i /home/USERNAME_GOES_HERE/.ssh/merge_key USERNAME_GOES_HERE@server \"echo '{escaped_user_input}' > /home/.checker/responses/step_7_answer.txt\" \"\"\"\n",
    "        save_result = subprocess.run(save_command, shell=True, stdout=subprocess.PIPE, stderr=subprocess.PIPE)\n",
    "        \n",
    "        if (result.returncode == 1):\n",
    "            output7.clear_output()\n",
    "            with output7:\n",
    "                display(HTML(\"<span style='color: green;'>Correct!</span>\"))\n",
    "                step7Complete = True\n",
    "        \n",
    "        elif (result.returncode == 0):\n",
    "            output7.clear_output()\n",
    "            with output7:\n",
    "                display(HTML(\"<span style='color: red;'>Your command doesn't work. Make sure you are using port 80 and a valid website. Check if you may have extra firewall rules.</span>\"))\n",
    "                step7Complete = False\n",
    "\n",
    "        elif (result.returncode == 2):\n",
    "            output7.clear_output()\n",
    "            with output7:\n",
    "                display(HTML(\"<span style='color: red;'>An error occurred. Please contact your professor or TA.</span>\"))\n",
    "                step7Complete = False\n",
    "\n",
    "        \n",
    "def check_step_7(b):\n",
    "    if (warn_student()):\n",
    "        output7.clear_output()\n",
    "        with output7:\n",
    "            display(HTML(\"<span style='color: red;'><strong>WARNING:</strong> You have an autosaved lab that you have not yet loaded. If you would like to load your progress, click \\\"Load Lab\\\" at the top of the notebook. Otherwise, clicking on this button again will assume you're restarting the lab!</span>\"))\n",
    "    else:\n",
    "        step_7()\n",
    "\n",
    "        # Auto-save.\n",
    "        if (not runAllSteps):\n",
    "            trigger_save(\"7\", result.returncode, userInput7.value)\n",
    "\n",
    "# Retrieve the student's response. First, create a loading spinner, since this could take a second or two.\n",
    "loading7 = widgets.Output()\n",
    "display(loading7)\n",
    "with loading7:\n",
    "    loading7.clear_output()\n",
    "    display(HTML(\"<span>Loading your saved response... <img width='12px' height='12px' style='margin-left: 3px;' src='resources/loading.gif'></span>\"))\n",
    "\n",
    "# Creating a text area.\n",
    "userInput7 = widgets.Text(\n",
    "    placeholder='Type a command here to test the rule',\n",
    "    description='Command:',\n",
    "    layout=widgets.Layout(width='90%')\n",
    ")\n",
    "\n",
    "# Checking if the step has been answered.\n",
    "result = subprocess.run('ssh -o StrictHostKeyChecking=no -i /home/USERNAME_GOES_HERE/.ssh/merge_key USERNAME_GOES_HERE@server \"cat /home/.checker/responses/step_7_answer.txt 2> /dev/null\"', capture_output=True, text=True, shell=True)\n",
    "# Trim the newline.\n",
    "userInput7.value = result.stdout[:-1]\n",
    "\n",
    "# After the student's response was loaded, clear the output.\n",
    "loading7.clear_output()\n",
    "\n",
    "# Creating the button.\n",
    "button = widgets.Button(description=\"Check Command\")\n",
    "\n",
    "# Creating an output area.\n",
    "output7 = widgets.Output()\n",
    "\n",
    "# Run the command on click.\n",
    "button.on_click(check_step_7)\n",
    "\n",
    "# Display the output.\n",
    "display(userInput7, button, output7)"
   ]
  },
  {
   "cell_type": "markdown",
   "metadata": {
    "deletable": false,
    "editable": false,
    "slideshow": {
     "slide_type": ""
    },
    "tags": []
   },
   "source": [
    "### Step 8: Deleting a Rule\n",
    "\n",
    "To delete a rule, you can use ```sudo iptables -D [rule]```. Clearly, the ```-D``` stands for delete. Previously, you used ```-A``` to append a rule.\n",
    "\n",
    "Using your intuition, delete the rule that you made in Step 5."
   ]
  },
  {
   "cell_type": "code",
   "execution_count": 11,
   "metadata": {
    "deletable": false,
    "editable": false,
    "jupyter": {
     "source_hidden": true
    },
    "slideshow": {
     "slide_type": ""
    },
    "tags": []
   },
   "outputs": [
    {
     "data": {
      "application/vnd.jupyter.widget-view+json": {
       "model_id": "846670233144428e96479955f478fd3e",
       "version_major": 2,
       "version_minor": 0
      },
      "text/plain": [
       "Button(description='Check Rule', style=ButtonStyle())"
      ]
     },
     "metadata": {},
     "output_type": "display_data"
    },
    {
     "data": {
      "application/vnd.jupyter.widget-view+json": {
       "model_id": "5b72cdb02c534d8285ee90ce770325b0",
       "version_major": 2,
       "version_minor": 0
      },
      "text/plain": [
       "Output()"
      ]
     },
     "metadata": {},
     "output_type": "display_data"
    }
   ],
   "source": [
    "# Click the button below to check your work.\n",
    "step8Complete = False\n",
    "\n",
    "# Function to check the permissions.\n",
    "def step_8():\n",
    "    # Important variables that must be accessed outside of this function.\n",
    "    global step8Complete, result\n",
    "\n",
    "    with output8:\n",
    "        output8.clear_output()\n",
    "        display(HTML(\"<span><img width='14px' height='14px' style='margin-left: 3px;' src='resources/loading.gif'></span>\"))\n",
    "    \n",
    "    # This subprocess statement is a little different. Need to initiate environment variables at the same time when running the command.\n",
    "    # This SSH command needs to be tweaked a little so that environment variables work across SSH.\n",
    "    result = subprocess.run('ssh -i /home/USERNAME_GOES_HERE/.ssh/merge_key USERNAME_GOES_HERE@server \"bash -l -c \\'/home/.checker/section_2.py 8 NA\\'\"', shell=True, capture_output=True, text=True)\n",
    "\n",
    "    if (result.returncode == 1):\n",
    "        output8.clear_output()\n",
    "        with output8:\n",
    "            display(HTML(\"<span style='color: green;'>Correct! Additionally, using \\\"sudo iptables -F\\\" wipes ALL rules, leaving the default rules left. The -F stands for \\\"flush\\\".</span>\"))\n",
    "            step8Complete = True\n",
    "\n",
    "    elif (result.returncode == 0):\n",
    "        output8.clear_output()\n",
    "        with output8:\n",
    "            display(HTML(\"<span style='color: red;'>Your rule doesn't appear to be deleted from iptables.</span>\"))\n",
    "            step8Complete = False\n",
    "\n",
    "    elif (result.returncode == 2):\n",
    "        output8.clear_output()\n",
    "        with output8:\n",
    "            display(HTML(\"<span style='color: red;'>There was an error with checking your step. Please contact your professor or TA for assistance.</span>\"))\n",
    "            step8Complete = False\n",
    "    \n",
    "def check_step_8(b):\n",
    "    if (warn_student()):\n",
    "        output8.clear_output()\n",
    "        with output8:\n",
    "            display(HTML(\"<span style='color: red;'><strong>WARNING:</strong> You have an autosaved lab that you have not yet loaded. If you would like to load your progress, click \\\"Load Lab\\\" at the top of the notebook. Otherwise, clicking on this button again will assume you're restarting the lab!</span>\"))\n",
    "    else:\n",
    "        step_8()\n",
    "\n",
    "        # Auto-save.\n",
    "        if (not runAllSteps):\n",
    "            trigger_save(\"8\", result.returncode)\n",
    "\n",
    "# Creating the button.\n",
    "button = widgets.Button(description=\"Check Rule\")\n",
    "\n",
    "# Creating an output area.\n",
    "output8 = widgets.Output()\n",
    "\n",
    "# Run the command on click.\n",
    "button.on_click(check_step_8)\n",
    "\n",
    "# Display the output.\n",
    "display(button, output8)"
   ]
  },
  {
   "cell_type": "markdown",
   "metadata": {
    "deletable": false,
    "editable": false,
    "slideshow": {
     "slide_type": ""
    },
    "tags": []
   },
   "source": [
    "## <strong>Topic 3: Basic ```iptables``` Rules </strong>\n",
    "\n",
    "This topic is now going to teach you some ```iptables``` rules. You have already seen a little bit of syntax in the previous step. Now, you're going to look more in-depth with the syntax.\n",
    "\n",
    "```iptables``` allows you to create very broad commands, like the one you have seen above, which drops all TCP packets on port 80. Additionally, it allows you to create very specific commands, like the one you're about to see in this topic. The following steps are going to start you with a very basic example, and you are going to work your way up to very specific parameters.\n",
    "\n",
    "<u>As you complete each step in this topic</u>, a table will be generated so that you can see how your rule is being progressively created. The table will provide a \"translation\", which is describing how your rules are being defined.\n",
    "\n",
    "If you are feeling lost with ```iptables``` syntax, these are two helpful documents that you may look into while you go through the final two topics:\n",
    "- <a href=\"https://linux.die.net/man/8/iptables\">```iptables``` Documentation</a>\n",
    "- <a href=\"https://www.informit.com/articles/article.aspx?p=421057&seqNum=4\">Linux Firewalls, 3rd Edition - Iptables Chapter</a>"
   ]
  },
  {
   "cell_type": "markdown",
   "metadata": {
    "deletable": false,
    "editable": false,
    "slideshow": {
     "slide_type": ""
    },
    "tags": []
   },
   "source": [
    "### Step 9: Tables\n",
    "\n",
    "This is the start of the ```iptables``` rule that you'll be producing throughout the topic:\n",
    "\n",
    "```sudo iptables```\n",
    "\n",
    "<strong>You are going to build up a complex ```iptables``` rule one step at a time. This does not need to be typed into your node(s).</strong> The entire construction of this rule will take place within your notebook.\n",
    "\n",
    "There are multiple tables that you can add rules to in ```iptables```. For the lab, you're just adding tables to the \"filter\" table. This is the default table in ```iptables```. If you don't specify a table in ```iptables```, it will automatically append your rule to the \"filter\" table. The remaining tables are as follows <a href=\"https://gist.github.com/nerdalert/a1687ae4da1cc44a437d\">(source)</a>:\n",
    "- NAT table - Iptable's NAT table has the following built-in chains.\n",
    "- Mangle table - Iptables's Mangle table is for specialized packet alteration.\n",
    "- Raw table - Iptable's Raw table is for configuration excemptions.\n",
    "\n",
    "You are going to append to the currently existing command. This is the current template of your rule so far:\n",
    "\n",
    "```sudo iptables [your answer here]```\n",
    "\n",
    "<strong>Your task</strong>: Type a parameter that adds your rule to the \"filter\" table. Use the ```-t``` argument for \"table\". For your answer, just type in the ```[your answer here]``` portion of the rule."
   ]
  },
  {
   "cell_type": "code",
   "execution_count": 12,
   "metadata": {
    "deletable": false,
    "editable": false,
    "jupyter": {
     "source_hidden": true
    },
    "slideshow": {
     "slide_type": ""
    },
    "tags": []
   },
   "outputs": [
    {
     "data": {
      "application/vnd.jupyter.widget-view+json": {
       "model_id": "aff067c44f474bee8865493d73481d49",
       "version_major": 2,
       "version_minor": 0
      },
      "text/plain": [
       "Output()"
      ]
     },
     "metadata": {},
     "output_type": "display_data"
    },
    {
     "data": {
      "application/vnd.jupyter.widget-view+json": {
       "model_id": "38546016a33b4883af0f4671c20223eb",
       "version_major": 2,
       "version_minor": 0
      },
      "text/plain": [
       "Text(value='-t filter', description='Rule:', layout=Layout(width='90%'), placeholder='Type your rule here')"
      ]
     },
     "metadata": {},
     "output_type": "display_data"
    },
    {
     "data": {
      "application/vnd.jupyter.widget-view+json": {
       "model_id": "cb170b742ef548c687ec42c686f1d726",
       "version_major": 2,
       "version_minor": 0
      },
      "text/plain": [
       "Button(description='Check Rule', style=ButtonStyle())"
      ]
     },
     "metadata": {},
     "output_type": "display_data"
    },
    {
     "data": {
      "application/vnd.jupyter.widget-view+json": {
       "model_id": "1aab7f0045ff4aa4acb88a0308a520af",
       "version_major": 2,
       "version_minor": 0
      },
      "text/plain": [
       "Output()"
      ]
     },
     "metadata": {},
     "output_type": "display_data"
    }
   ],
   "source": [
    "# Click the button below to check your work.\n",
    "step9Complete = False\n",
    "\n",
    "# Function to check if the student's answer was correct.\n",
    "def step_9():\n",
    "    # Important variables that must be accessed outside of this function.\n",
    "    global step9Complete, result\n",
    "\n",
    "    # Loading, in case the check is slow.\n",
    "    with output9:\n",
    "        output9.clear_output()\n",
    "        display(HTML(\"<span><img width='12px' height='12px' style='margin-left: 3px;' src='resources/loading.gif'></span>\"))\n",
    "\n",
    "    # First, check to see if the field is empty.\n",
    "    if (userInput9.value == \"\"):\n",
    "        output9.clear_output()\n",
    "        with output9:\n",
    "            display(HTML(\"<span style='color: red;'>You did not provide input for this step.</span>\"))\n",
    "            step9Complete = False\n",
    "\n",
    "    else:\n",
    "        user_input = userInput9.value\n",
    "        escaped_user_input = user_input.replace('\"', '\\\\\"').replace(\"'\", \"'\\\\''\")\n",
    "\n",
    "        # Construct the SSH command for testing the student's response.\n",
    "        # This SSH command needs to be tweaked a little so that environment variables work across SSH.\n",
    "        test_response = f\"\"\"ssh -i /home/USERNAME_GOES_HERE/.ssh/merge_key USERNAME_GOES_HERE@server \"/home/.checker/section_3.py 9 \\\\\"{escaped_user_input}\\\\\"\" \"\"\"\n",
    "        result = subprocess.run(test_response, shell=True, stdout=subprocess.PIPE, stderr=subprocess.PIPE)\n",
    "\n",
    "        # Construct the SSH command for saving the student's response.\n",
    "        save_command = f\"\"\"ssh -i /home/USERNAME_GOES_HERE/.ssh/merge_key USERNAME_GOES_HERE@server \"echo '{escaped_user_input}' > /home/.checker/responses/step_9_answer.txt\" \"\"\"\n",
    "        save_result = subprocess.run(save_command, shell=True, stdout=subprocess.PIPE, stderr=subprocess.PIPE)\n",
    "        \n",
    "        if (result.returncode == 1):\n",
    "            output9.clear_output()\n",
    "            with output9:\n",
    "                display(HTML(\"<span style='color: green;'>Correct! Here are what your rules do so far. Take note of the <strong>bolded</strong> letters to help remember what the parameters stand for.</span>\"))\n",
    "                # Creating the table for students.\n",
    "                display(HTML(generate_table(9)))\n",
    "                step9Complete = True\n",
    "        \n",
    "        elif (result.returncode == 0):\n",
    "            output9.clear_output()\n",
    "            with output9:\n",
    "                display(HTML(\"<span style='color: red;'>Your rule appears to be invalid. Please re-read the directions and try again.</span>\"))\n",
    "                step9Complete = False\n",
    "\n",
    "        elif (result.returncode == 2):\n",
    "            output9.clear_output()\n",
    "            with output9:\n",
    "                display(HTML(\"<span style='color: red;'>An error occurred. Please contact your professor or TA.</span>\"))\n",
    "                step9Complete = False\n",
    "\n",
    "        \n",
    "def check_step_9(b):\n",
    "    if (warn_student()):\n",
    "        output9.clear_output()\n",
    "        with output9:\n",
    "            display(HTML(\"<span style='color: red;'><strong>WARNING:</strong> You have an autosaved lab that you have not yet loaded. If you would like to load your progress, click \\\"Load Lab\\\" at the top of the notebook. Otherwise, clicking on this button again will assume you're restarting the lab!</span>\"))\n",
    "    else:\n",
    "        step_9()\n",
    "\n",
    "        # Auto-save.\n",
    "        if (not runAllSteps):\n",
    "            trigger_save(\"9\", result.returncode, userInput9.value)\n",
    "\n",
    "# Retrieve the student's response. First, create a loading spinner, since this could take a second or two.\n",
    "loading9 = widgets.Output()\n",
    "display(loading9)\n",
    "with loading9:\n",
    "    loading9.clear_output()\n",
    "    display(HTML(\"<span>Loading your saved response... <img width='12px' height='12px' style='margin-left: 3px;' src='resources/loading.gif'></span>\"))\n",
    "\n",
    "# Creating a text area.\n",
    "userInput9 = widgets.Text(\n",
    "    placeholder='Type your rule here',\n",
    "    description='Rule:',\n",
    "    layout=widgets.Layout(width='90%')\n",
    ")\n",
    "\n",
    "# Checking if the step has been answered.\n",
    "result = subprocess.run('ssh -o StrictHostKeyChecking=no -i /home/USERNAME_GOES_HERE/.ssh/merge_key USERNAME_GOES_HERE@server \"cat /home/.checker/responses/step_9_answer.txt 2> /dev/null\"', capture_output=True, text=True, shell=True)\n",
    "# Trim the newline.\n",
    "userInput9.value = result.stdout[:-1]\n",
    "\n",
    "# After the student's response was loaded, clear the output.\n",
    "loading9.clear_output()\n",
    "\n",
    "# Creating the button.\n",
    "button = widgets.Button(description=\"Check Rule\")\n",
    "\n",
    "# Creating an output area.\n",
    "output9 = widgets.Output()\n",
    "\n",
    "# Run the command on click.\n",
    "button.on_click(check_step_9)\n",
    "\n",
    "# Display the output.\n",
    "display(userInput9, button, output9)"
   ]
  },
  {
   "cell_type": "markdown",
   "metadata": {
    "deletable": false,
    "editable": false,
    "slideshow": {
     "slide_type": ""
    },
    "tags": []
   },
   "source": [
    "### Step 10: Network Interface\n",
    "\n",
    "Now, you can add a network interface that you want your rule to be applied to. You can do this by using ```-i``` for \"inbound\", or ```-o``` for \"outbound\". This means that any packets that are sent to/from this network interface will be affected by the rule. From Step 2, you already found what the network interface is attached to ```server```.\n",
    "\n",
    "Here is the work so far that you've produced:\n",
    "\n",
    "```sudo iptables [step 9] [your next answer]```\n",
    "\n",
    "<strong>Your task</strong>: Type in the following parameters which will match the following rules:\n",
    "\n",
    "- Use the network interface for outbound packets that you found in Step 2.\n",
    "- Append your rule to the pre-defined OUTPUT chain.\n",
    "  - ```iptables``` rules are CASE SENSITIVE.\n",
    "\n",
    "<span style=\"color: green\"><strong><img src=\"resources/idea.png\" style=\"width: 12px\"> Note:</strong></span> You have two rules to type for this step. More will be required in future steps. <u>Order does not matter</u> when typing these parameters."
   ]
  },
  {
   "cell_type": "code",
   "execution_count": 13,
   "metadata": {
    "deletable": false,
    "editable": false,
    "jupyter": {
     "source_hidden": true
    },
    "slideshow": {
     "slide_type": ""
    },
    "tags": []
   },
   "outputs": [
    {
     "data": {
      "application/vnd.jupyter.widget-view+json": {
       "model_id": "97fd6869a9954b738e99b336d6c38d1f",
       "version_major": 2,
       "version_minor": 0
      },
      "text/plain": [
       "Output()"
      ]
     },
     "metadata": {},
     "output_type": "display_data"
    },
    {
     "data": {
      "application/vnd.jupyter.widget-view+json": {
       "model_id": "338f27fdf9234f2e9c60596b4c62c8aa",
       "version_major": 2,
       "version_minor": 0
      },
      "text/plain": [
       "Text(value='-o eth1 -A OUTPUT', description='Rule:', layout=Layout(width='90%'), placeholder='Type your rule h…"
      ]
     },
     "metadata": {},
     "output_type": "display_data"
    },
    {
     "data": {
      "application/vnd.jupyter.widget-view+json": {
       "model_id": "bc603d531aee4b568a7272bdcd566101",
       "version_major": 2,
       "version_minor": 0
      },
      "text/plain": [
       "Button(description='Check Command', style=ButtonStyle())"
      ]
     },
     "metadata": {},
     "output_type": "display_data"
    },
    {
     "data": {
      "application/vnd.jupyter.widget-view+json": {
       "model_id": "aee3abcd24414da78045f42c1f3b9eef",
       "version_major": 2,
       "version_minor": 0
      },
      "text/plain": [
       "Output()"
      ]
     },
     "metadata": {},
     "output_type": "display_data"
    }
   ],
   "source": [
    "# Click the button below to check your work.\n",
    "step10Complete = False\n",
    "\n",
    "# Function to check if the student's answer was correct.\n",
    "def step_10():\n",
    "    # Important variables that must be accessed outside of this function.\n",
    "    global step10Complete, result\n",
    "\n",
    "    # Loading, in case the check is slow.\n",
    "    with output10:\n",
    "        output10.clear_output()\n",
    "        display(HTML(\"<span><img width='12px' height='12px' style='margin-left: 3px;' src='resources/loading.gif'></span>\"))\n",
    "\n",
    "    # First, check to see if the field is empty.\n",
    "    if (userInput10.value == \"\"):\n",
    "        output10.clear_output()\n",
    "        with output10:\n",
    "            display(HTML(\"<span style='color: red;'>You did not provide input for this step.</span>\"))\n",
    "            step10Complete = False\n",
    "\n",
    "    else:\n",
    "        user_input = userInput10.value\n",
    "        escaped_user_input = user_input.replace('\"', '\\\\\"').replace(\"'\", \"'\\\\''\")\n",
    "\n",
    "        # Construct the SSH command for testing the student's response.\n",
    "        # This SSH command needs to be tweaked a little so that environment variables work across SSH.\n",
    "        test_response = f\"\"\"ssh -i /home/USERNAME_GOES_HERE/.ssh/merge_key USERNAME_GOES_HERE@server \"/home/.checker/section_3.py 10 \\\\\"{escaped_user_input}\\\\\"\" \"\"\"\n",
    "        result = subprocess.run(test_response, shell=True, stdout=subprocess.PIPE, stderr=subprocess.PIPE)\n",
    "\n",
    "        # Construct the SSH command for saving the student's response.\n",
    "        save_command = f\"\"\"ssh -i /home/USERNAME_GOES_HERE/.ssh/merge_key USERNAME_GOES_HERE@server \"echo '{escaped_user_input}' > /home/.checker/responses/step_10_answer.txt\" \"\"\"\n",
    "        save_result = subprocess.run(save_command, shell=True, stdout=subprocess.PIPE, stderr=subprocess.PIPE)\n",
    "        \n",
    "        if (result.returncode == 1):\n",
    "            output10.clear_output()\n",
    "            with output10:\n",
    "                display(HTML(\"<span style='color: green;'>Correct! Here are what your rules do so far.</span>\"))\n",
    "                # Creating the table for students.\n",
    "                display(HTML(generate_table(10)))\n",
    "                step10Complete = True\n",
    "        \n",
    "        elif (result.returncode == 0):\n",
    "            output10.clear_output()\n",
    "            with output10:\n",
    "                display(HTML(\"<span style='color: red;'>Your rule appears to be invalid. Please re-read the directions and try again.</span>\"))\n",
    "                step10Complete = False\n",
    "\n",
    "        elif (result.returncode == 2):\n",
    "            output10.clear_output()\n",
    "            with output10:\n",
    "                display(HTML(\"<span style='color: red;'>An error occurred. Please contact your professor or TA.</span>\"))\n",
    "                step10Complete = False\n",
    "\n",
    "        \n",
    "def check_step_10(b):\n",
    "    if (warn_student()):\n",
    "        output10.clear_output()\n",
    "        with output10:\n",
    "            display(HTML(\"<span style='color: red;'><strong>WARNING:</strong> You have an autosaved lab that you have not yet loaded. If you would like to load your progress, click \\\"Load Lab\\\" at the top of the notebook. Otherwise, clicking on this button again will assume you're restarting the lab!</span>\"))\n",
    "    else:\n",
    "        step_10()\n",
    "\n",
    "        # Auto-save.\n",
    "        if (not runAllSteps):\n",
    "            trigger_save(\"10\", result.returncode, userInput10.value)\n",
    "\n",
    "# Retrieve the student's response. First, create a loading spinner, since this could take a second or two.\n",
    "loading10 = widgets.Output()\n",
    "display(loading10)\n",
    "with loading10:\n",
    "    loading10.clear_output()\n",
    "    display(HTML(\"<span>Loading your saved response... <img width='12px' height='12px' style='margin-left: 3px;' src='resources/loading.gif'></span>\"))\n",
    "\n",
    "# Creating a text area.\n",
    "userInput10 = widgets.Text(\n",
    "    placeholder='Type your rule here',\n",
    "    description='Rule:',\n",
    "    layout=widgets.Layout(width='90%')\n",
    ")\n",
    "\n",
    "# Checking if the step has been answered.\n",
    "result = subprocess.run('ssh -o StrictHostKeyChecking=no -i /home/USERNAME_GOES_HERE/.ssh/merge_key USERNAME_GOES_HERE@server \"cat /home/.checker/responses/step_10_answer.txt 2> /dev/null\"', capture_output=True, text=True, shell=True)\n",
    "# Trim the newline.\n",
    "userInput10.value = result.stdout[:-1]\n",
    "\n",
    "# After the student's response was loaded, clear the output.\n",
    "loading10.clear_output()\n",
    "\n",
    "# Creating the button.\n",
    "button = widgets.Button(description=\"Check Command\")\n",
    "\n",
    "# Creating an output area.\n",
    "output10 = widgets.Output()\n",
    "\n",
    "# Run the command on click.\n",
    "button.on_click(check_step_10)\n",
    "\n",
    "# Display the output.\n",
    "display(userInput10, button, output10)"
   ]
  },
  {
   "cell_type": "markdown",
   "metadata": {
    "deletable": false,
    "editable": false,
    "slideshow": {
     "slide_type": ""
    },
    "tags": []
   },
   "source": [
    "### Step 11: States and Protocols\n",
    "\n",
    "Next, you're going to add a state to the rule. This is done by using the ```-m``` and ```--state``` command. These two parameters are used in conjunction with each other. ```-m``` stands for \"match\", and ```--state``` is clearly indicating the state to match to.\n",
    "\n",
    "Recall states from the beginning of the notebook. There are ```NEW```, ```ESTABLISHED```, and ```RELATED``` states. This is the template for creating a state rule: ```-m state --state STATE_NAME```\n",
    "\n",
    "A breakdown:\n",
    "- ```-m``` means match.\n",
    "- ```state``` means you're going to match a state.\n",
    "- ```--state``` indicates that the next parameter is going to be a state.\n",
    "- ```STATE_NAME``` is either ```NEW```, ```ESTABLISHED```, or ```RELATED```.\n",
    "\n",
    "<u>Note here that the only parameter you need to change is STATE_NAME.</u>\n",
    "\n",
    "Additionally, you read above that ```-p``` means \"protocol\". Two common protocols are UDP and TCP protocols. If you haven't taken a networking course, you may read about the two protocols <a href=\"https://stackoverflow.com/questions/5970383/difference-between-tcp-and-udp\">here</a>. Essentially, <strong>UDP</strong> is <strong>U</strong>nreliable, but fast. <strong>TCP</strong> is <strong>T</strong>rustworthy, but slow.\n",
    "\n",
    "Here's the rule so far:\n",
    "\n",
    "```sudo iptables [step 9] [step 10] [your next answer]```\n",
    "\n",
    "Clearly, you should see how the remaining steps in this topic will work. Additionally, your answer is being printed as you work along.\n",
    "\n",
    "<strong>Your task</strong>: Type in the following parameters which will match the following rules:\n",
    "\n",
    "- Create a rule that matches the NEW state.\n",
    "- Detect TCP packets.\n",
    "  - Hint: Look back at Step 6."
   ]
  },
  {
   "cell_type": "code",
   "execution_count": 14,
   "metadata": {
    "deletable": false,
    "editable": false,
    "jupyter": {
     "source_hidden": true
    },
    "slideshow": {
     "slide_type": ""
    },
    "tags": []
   },
   "outputs": [
    {
     "data": {
      "application/vnd.jupyter.widget-view+json": {
       "model_id": "875574ff2d934dc98500109fd089e7e9",
       "version_major": 2,
       "version_minor": 0
      },
      "text/plain": [
       "Output()"
      ]
     },
     "metadata": {},
     "output_type": "display_data"
    },
    {
     "data": {
      "application/vnd.jupyter.widget-view+json": {
       "model_id": "dc7d363c720e44f6a173e6dbce8ff05a",
       "version_major": 2,
       "version_minor": 0
      },
      "text/plain": [
       "Text(value='-m state --state NEW -p tcp', description='Rule:', layout=Layout(width='90%'), placeholder='Type y…"
      ]
     },
     "metadata": {},
     "output_type": "display_data"
    },
    {
     "data": {
      "application/vnd.jupyter.widget-view+json": {
       "model_id": "da959ab8059e47a5be22a3fa8779618c",
       "version_major": 2,
       "version_minor": 0
      },
      "text/plain": [
       "Button(description='Check Rule', style=ButtonStyle())"
      ]
     },
     "metadata": {},
     "output_type": "display_data"
    },
    {
     "data": {
      "application/vnd.jupyter.widget-view+json": {
       "model_id": "cd8044ca97784cc6b16e8b15c5e37d6b",
       "version_major": 2,
       "version_minor": 0
      },
      "text/plain": [
       "Output()"
      ]
     },
     "metadata": {},
     "output_type": "display_data"
    }
   ],
   "source": [
    "# Click the button below to check your work.\n",
    "step11Complete = False\n",
    "\n",
    "# Function to check if the student's answer was correct.\n",
    "def step_11():\n",
    "    # Important variables that must be accessed outside of this function.\n",
    "    global step11Complete, result\n",
    "\n",
    "    # Loading, in case the check is slow.\n",
    "    with output11:\n",
    "        output11.clear_output()\n",
    "        display(HTML(\"<span><img width='12px' height='12px' style='margin-left: 3px;' src='resources/loading.gif'></span>\"))\n",
    "\n",
    "    # First, check to see if the field is empty.\n",
    "    if (userInput11.value == \"\"):\n",
    "        output11.clear_output()\n",
    "        with output11:\n",
    "            display(HTML(\"<span style='color: red;'>You did not provide input for this step.</span>\"))\n",
    "            step11Complete = False\n",
    "\n",
    "    else:\n",
    "        user_input = userInput11.value\n",
    "        escaped_user_input = user_input.replace('\"', '\\\\\"').replace(\"'\", \"'\\\\''\")\n",
    "\n",
    "        # Construct the SSH command for testing the student's response.\n",
    "        # This SSH command needs to be tweaked a little so that environment variables work across SSH.\n",
    "        test_response = f\"\"\"ssh -i /home/USERNAME_GOES_HERE/.ssh/merge_key USERNAME_GOES_HERE@server \"/home/.checker/section_3.py 11 \\\\\"{escaped_user_input}\\\\\"\" \"\"\"\n",
    "        result = subprocess.run(test_response, shell=True, stdout=subprocess.PIPE, stderr=subprocess.PIPE)\n",
    "\n",
    "        # Construct the SSH command for saving the student's response.\n",
    "        save_command = f\"\"\"ssh -i /home/USERNAME_GOES_HERE/.ssh/merge_key USERNAME_GOES_HERE@server \"echo '{escaped_user_input}' > /home/.checker/responses/step_11_answer.txt\" \"\"\"\n",
    "        save_result = subprocess.run(save_command, shell=True, stdout=subprocess.PIPE, stderr=subprocess.PIPE)\n",
    "        \n",
    "        if (result.returncode == 1):\n",
    "            output11.clear_output()\n",
    "            with output11:\n",
    "                display(HTML(\"<span style='color: green;'>Correct! Here are what your rules do so far.</span>\"))\n",
    "                # Creating the table for students.\n",
    "                display(HTML(generate_table(11)))\n",
    "                step11Complete = True\n",
    "        \n",
    "        elif (result.returncode == 0):\n",
    "            output11.clear_output()\n",
    "            with output11:\n",
    "                display(HTML(\"<span style='color: red;'>Your rule appears to be invalid. Please re-read the directions and try again.</span>\"))\n",
    "                step11Complete = False\n",
    "\n",
    "        elif (result.returncode == 2):\n",
    "            output11.clear_output()\n",
    "            with output11:\n",
    "                display(HTML(\"<span style='color: red;'>An error occurred. Please contact your professor or TA.</span>\"))\n",
    "                step11Complete = False\n",
    "\n",
    "        \n",
    "def check_step_11(b):\n",
    "    if (warn_student()):\n",
    "        output11.clear_output()\n",
    "        with output11:\n",
    "            display(HTML(\"<span style='color: red;'><strong>WARNING:</strong> You have an autosaved lab that you have not yet loaded. If you would like to load your progress, click \\\"Load Lab\\\" at the top of the notebook. Otherwise, clicking on this button again will assume you're restarting the lab!</span>\"))\n",
    "    else:\n",
    "        step_11()\n",
    "\n",
    "        # Auto-save.\n",
    "        if (not runAllSteps):\n",
    "            trigger_save(\"11\", result.returncode, userInput11.value)\n",
    "\n",
    "# Retrieve the student's response. First, create a loading spinner, since this could take a second or two.\n",
    "loading11 = widgets.Output()\n",
    "display(loading11)\n",
    "with loading11:\n",
    "    loading11.clear_output()\n",
    "    display(HTML(\"<span>Loading your saved response... <img width='12px' height='12px' style='margin-left: 3px;' src='resources/loading.gif'></span>\"))\n",
    "\n",
    "# Creating a text area.\n",
    "userInput11 = widgets.Text(\n",
    "    placeholder='Type your rule here',\n",
    "    description='Rule:',\n",
    "    layout=widgets.Layout(width='90%')\n",
    ")\n",
    "\n",
    "# Checking if the step has been answered.\n",
    "result = subprocess.run('ssh -o StrictHostKeyChecking=no -i /home/USERNAME_GOES_HERE/.ssh/merge_key USERNAME_GOES_HERE@server \"cat /home/.checker/responses/step_11_answer.txt 2> /dev/null\"', capture_output=True, text=True, shell=True)\n",
    "# Trim the newline.\n",
    "userInput11.value = result.stdout[:-1]\n",
    "\n",
    "# After the student's response was loaded, clear the output.\n",
    "loading11.clear_output()\n",
    "\n",
    "# Creating the button.\n",
    "button = widgets.Button(description=\"Check Rule\")\n",
    "\n",
    "# Creating an output area.\n",
    "output11 = widgets.Output()\n",
    "\n",
    "# Run the command on click.\n",
    "button.on_click(check_step_11)\n",
    "\n",
    "# Display the output.\n",
    "display(userInput11, button, output11)"
   ]
  },
  {
   "cell_type": "markdown",
   "metadata": {
    "deletable": false,
    "editable": false,
    "slideshow": {
     "slide_type": ""
    },
    "tags": []
   },
   "source": [
    "### Step 12: Sources and Destinations\n",
    "\n",
    "For this step, you're going to apply a source and destination to this rule. These two parameters are fairly straightforward. You will use ```-s``` for the source IP address, and ```-d``` for the destination IP address (OR the domain). Additionally, you can use ```--sport``` or ```--dport``` for the source/destination ports of the rule.\n",
    "\n",
    "<strong>Your task</strong>: Type in the following parameters which will match the following rules:\n",
    "\n",
    "- Use the source of the network interface that you found in Step 2. You will use this IP address for the source IP address.\n",
    "- Use the destination of ```google.com```.\n",
    "  - <u>Instead of using ```-d google.com```, which is a valid entry, you are required to find an IP address of Google for this step.</u> Try using one of the methods above in Section 1 to find this.\n",
    "- Add a rule that uses Google's destination port of 1234."
   ]
  },
  {
   "cell_type": "code",
   "execution_count": 15,
   "metadata": {
    "deletable": false,
    "editable": false,
    "jupyter": {
     "source_hidden": true
    },
    "slideshow": {
     "slide_type": ""
    },
    "tags": []
   },
   "outputs": [
    {
     "data": {
      "application/vnd.jupyter.widget-view+json": {
       "model_id": "193293381d3b4de498c978a06517161d",
       "version_major": 2,
       "version_minor": 0
      },
      "text/plain": [
       "Output()"
      ]
     },
     "metadata": {},
     "output_type": "display_data"
    },
    {
     "data": {
      "application/vnd.jupyter.widget-view+json": {
       "model_id": "06c82c95d5764a5b9a8be99f1249ac2b",
       "version_major": 2,
       "version_minor": 0
      },
      "text/plain": [
       "Text(value='-s 10.0.1.1 -d 142.250.72.174 --dport 1234', description='Rule:', layout=Layout(width='90%'), plac…"
      ]
     },
     "metadata": {},
     "output_type": "display_data"
    },
    {
     "data": {
      "application/vnd.jupyter.widget-view+json": {
       "model_id": "7013295ca0c0416d9ad5d2be8a2c2ca1",
       "version_major": 2,
       "version_minor": 0
      },
      "text/plain": [
       "Button(description='Check Rule', style=ButtonStyle())"
      ]
     },
     "metadata": {},
     "output_type": "display_data"
    },
    {
     "data": {
      "application/vnd.jupyter.widget-view+json": {
       "model_id": "7ddee313e4164a10bf6bbd64a208c67a",
       "version_major": 2,
       "version_minor": 0
      },
      "text/plain": [
       "Output()"
      ]
     },
     "metadata": {},
     "output_type": "display_data"
    }
   ],
   "source": [
    "# Click the button below to check your work.\n",
    "step12Complete = False\n",
    "\n",
    "# Function to check if the student's answer was correct.\n",
    "def step_12():\n",
    "    # Important variables that must be accessed outside of this function.\n",
    "    global step12Complete, result\n",
    "\n",
    "    # Loading, in case the check is slow.\n",
    "    with output12:\n",
    "        output12.clear_output()\n",
    "        display(HTML(\"<span><img width='12px' height='12px' style='margin-left: 3px;' src='resources/loading.gif'></span>\"))\n",
    "\n",
    "    # First, check to see if the field is empty.\n",
    "    if (userInput12.value == \"\"):\n",
    "        output12.clear_output()\n",
    "        with output12:\n",
    "            display(HTML(\"<span style='color: red;'>You did not provide input for this step.</span>\"))\n",
    "            step12Complete = False\n",
    "\n",
    "    else:\n",
    "        user_input = userInput12.value\n",
    "        escaped_user_input = user_input.replace('\"', '\\\\\"').replace(\"'\", \"'\\\\''\")\n",
    "\n",
    "        # Construct the SSH command for testing the student's response.\n",
    "        # This SSH command needs to be tweaked a little so that environment variables work across SSH.\n",
    "        test_response = f\"\"\"ssh -i /home/USERNAME_GOES_HERE/.ssh/merge_key USERNAME_GOES_HERE@server \"/home/.checker/section_3.py 12 \\\\\"{escaped_user_input}\\\\\"\" \"\"\"\n",
    "        result = subprocess.run(test_response, shell=True, stdout=subprocess.PIPE, stderr=subprocess.PIPE)\n",
    "\n",
    "        # Construct the SSH command for saving the student's response.\n",
    "        save_command = f\"\"\"ssh -i /home/USERNAME_GOES_HERE/.ssh/merge_key USERNAME_GOES_HERE@server \"echo '{escaped_user_input}' > /home/.checker/responses/step_12_answer.txt\" \"\"\"\n",
    "        save_result = subprocess.run(save_command, shell=True, stdout=subprocess.PIPE, stderr=subprocess.PIPE)\n",
    "        \n",
    "        if (result.returncode == 1):\n",
    "            output12.clear_output()\n",
    "            with output12:\n",
    "                display(HTML(\"<span style='color: green;'>Correct! Here are what your rules do so far.</span>\"))\n",
    "                # Creating the table for students.\n",
    "                display(HTML(generate_table(12)))\n",
    "                step12Complete = True\n",
    "        \n",
    "        elif (result.returncode == 0):\n",
    "            output12.clear_output()\n",
    "            with output12:\n",
    "                display(HTML(\"<span style='color: red;'>Your rule appears to be invalid. Please re-read the directions and try again.</span>\"))\n",
    "                step12Complete = False\n",
    "\n",
    "        elif (result.returncode == 2):\n",
    "            output12.clear_output()\n",
    "            with output12:\n",
    "                display(HTML(\"<span style='color: red;'>An error occurred. Please contact your professor or TA.</span>\"))\n",
    "                step12Complete = False\n",
    "\n",
    "        elif (result.returncode == 3):\n",
    "            output12.clear_output()\n",
    "            with output12:\n",
    "                display(HTML(\"<span style='color: red;'>Your rule is almost correct. The IP of google.com appears incorrect. Try again.</span>\"))\n",
    "                step12Complete = False\n",
    "\n",
    "        \n",
    "def check_step_12(b):\n",
    "    if (warn_student()):\n",
    "        output12.clear_output()\n",
    "        with output12:\n",
    "            display(HTML(\"<span style='color: red;'><strong>WARNING:</strong> You have an autosaved lab that you have not yet loaded. If you would like to load your progress, click \\\"Load Lab\\\" at the top of the notebook. Otherwise, clicking on this button again will assume you're restarting the lab!</span>\"))\n",
    "    else:\n",
    "        step_12()\n",
    "\n",
    "        # Auto-save.\n",
    "        if (not runAllSteps):\n",
    "            trigger_save(\"12\", result.returncode, userInput12.value)\n",
    "\n",
    "# Retrieve the student's response. First, create a loading spinner, since this could take a second or two.\n",
    "loading12 = widgets.Output()\n",
    "display(loading12)\n",
    "with loading12:\n",
    "    loading12.clear_output()\n",
    "    display(HTML(\"<span>Loading your saved response... <img width='12px' height='12px' style='margin-left: 3px;' src='resources/loading.gif'></span>\"))\n",
    "\n",
    "# Creating a text area.\n",
    "userInput12 = widgets.Text(\n",
    "    placeholder='Type your rule here',\n",
    "    description='Rule:',\n",
    "    layout=widgets.Layout(width='90%')\n",
    ")\n",
    "\n",
    "# Checking if the step has been answered.\n",
    "result = subprocess.run('ssh -o StrictHostKeyChecking=no -i /home/USERNAME_GOES_HERE/.ssh/merge_key USERNAME_GOES_HERE@server \"cat /home/.checker/responses/step_12_answer.txt 2> /dev/null\"', capture_output=True, text=True, shell=True)\n",
    "# Trim the newline.\n",
    "userInput12.value = result.stdout[:-1]\n",
    "\n",
    "# After the student's response was loaded, clear the output.\n",
    "loading12.clear_output()\n",
    "\n",
    "# Creating the button.\n",
    "button = widgets.Button(description=\"Check Rule\")\n",
    "\n",
    "# Creating an output area.\n",
    "output12 = widgets.Output()\n",
    "\n",
    "# Run the command on click.\n",
    "button.on_click(check_step_12)\n",
    "\n",
    "# Display the output.\n",
    "display(userInput12, button, output12)"
   ]
  },
  {
   "cell_type": "markdown",
   "metadata": {
    "deletable": false,
    "editable": false,
    "slideshow": {
     "slide_type": ""
    },
    "tags": []
   },
   "source": [
    "### Step 13: Jumps\n",
    "\n",
    "Finally, you are going to do the jump. This indicates what you are going to do with packets that match all of these rules that you composed so far. You have already seen how a jump works. Use the ```-j``` command. Recall that all ```iptables``` rules will end with a jump.\n",
    "\n",
    "<strong>Your task</strong>: Drop all connections that match the rule that you have been constructing in this topic."
   ]
  },
  {
   "cell_type": "code",
   "execution_count": 16,
   "metadata": {
    "deletable": false,
    "editable": false,
    "jupyter": {
     "source_hidden": true
    },
    "slideshow": {
     "slide_type": ""
    },
    "tags": []
   },
   "outputs": [
    {
     "data": {
      "application/vnd.jupyter.widget-view+json": {
       "model_id": "bb299036a02f421db3880da4bfdc4457",
       "version_major": 2,
       "version_minor": 0
      },
      "text/plain": [
       "Output()"
      ]
     },
     "metadata": {},
     "output_type": "display_data"
    },
    {
     "data": {
      "application/vnd.jupyter.widget-view+json": {
       "model_id": "6bba89273f64466292eb270eff51c9a0",
       "version_major": 2,
       "version_minor": 0
      },
      "text/plain": [
       "Text(value='-j DROP', description='Rule:', layout=Layout(width='90%'), placeholder='Type your rule here')"
      ]
     },
     "metadata": {},
     "output_type": "display_data"
    },
    {
     "data": {
      "application/vnd.jupyter.widget-view+json": {
       "model_id": "df402cd871cf40e387fb105f54dfe6c6",
       "version_major": 2,
       "version_minor": 0
      },
      "text/plain": [
       "Button(description='Check Rule', style=ButtonStyle())"
      ]
     },
     "metadata": {},
     "output_type": "display_data"
    },
    {
     "data": {
      "application/vnd.jupyter.widget-view+json": {
       "model_id": "c01f875a0c574b96911afb3dff5a3288",
       "version_major": 2,
       "version_minor": 0
      },
      "text/plain": [
       "Output()"
      ]
     },
     "metadata": {},
     "output_type": "display_data"
    }
   ],
   "source": [
    "# Click the button below to check your work.\n",
    "step13Complete = False\n",
    "\n",
    "# Function to check if the student's answer was correct.\n",
    "def step_13():\n",
    "    # Important variables that must be accessed outside of this function.\n",
    "    global step13Complete, result\n",
    "\n",
    "    # Loading, in case the check is slow.\n",
    "    with output13:\n",
    "        output13.clear_output()\n",
    "        display(HTML(\"<span><img width='12px' height='12px' style='margin-left: 3px;' src='resources/loading.gif'></span>\"))\n",
    "\n",
    "    # First, check to see if the field is empty.\n",
    "    if (userInput13.value == \"\"):\n",
    "        output13.clear_output()\n",
    "        with output13:\n",
    "            display(HTML(\"<span style='color: red;'>You did not provide input for this step.</span>\"))\n",
    "            step13Complete = False\n",
    "\n",
    "    else:\n",
    "        user_input = userInput13.value\n",
    "        escaped_user_input = user_input.replace('\"', '\\\\\"').replace(\"'\", \"'\\\\''\")\n",
    "\n",
    "        # Construct the SSH command for testing the student's response.\n",
    "        # This SSH command needs to be tweaked a little so that environment variables work across SSH.\n",
    "        test_response = f\"\"\"ssh -i /home/USERNAME_GOES_HERE/.ssh/merge_key USERNAME_GOES_HERE@server \"/home/.checker/section_3.py 13 \\\\\"{escaped_user_input}\\\\\"\" \"\"\"\n",
    "        result = subprocess.run(test_response, shell=True, stdout=subprocess.PIPE, stderr=subprocess.PIPE)\n",
    "\n",
    "        # Construct the SSH command for saving the student's response.\n",
    "        save_command = f\"\"\"ssh -i /home/USERNAME_GOES_HERE/.ssh/merge_key USERNAME_GOES_HERE@server \"echo '{escaped_user_input}' > /home/.checker/responses/step_13_answer.txt\" \"\"\"\n",
    "        save_result = subprocess.run(save_command, shell=True, stdout=subprocess.PIPE, stderr=subprocess.PIPE)\n",
    "        \n",
    "        if (result.returncode == 1):\n",
    "            output13.clear_output()\n",
    "            with output13:\n",
    "                display(HTML(\"<span style='color: green;'>Correct! Here are what your rules do so far. <strong>Your final rule is displayed below.</strong></span>\"))\n",
    "                # Creating the table for students.\n",
    "                display(HTML(generate_table(13)))\n",
    "                step13Complete = True\n",
    "        \n",
    "        elif (result.returncode == 0):\n",
    "            output13.clear_output()\n",
    "            with output13:\n",
    "                display(HTML(\"<span style='color: red;'>Your rule appears to be invalid. Please re-read the directions and try again. (Hint: Your answer is case-sensitive!)</span>\"))\n",
    "                step13Complete = False\n",
    "\n",
    "        elif (result.returncode == 2):\n",
    "            output13.clear_output()\n",
    "            with output13:\n",
    "                display(HTML(\"<span style='color: red;'>An error occurred. Please contact your professor or TA.</span>\"))\n",
    "                step13Complete = False\n",
    "\n",
    "        \n",
    "def check_step_13(b):\n",
    "    if (warn_student()):\n",
    "        output13.clear_output()\n",
    "        with output13:\n",
    "            display(HTML(\"<span style='color: red;'><strong>WARNING:</strong> You have an autosaved lab that you have not yet loaded. If you would like to load your progress, click \\\"Load Lab\\\" at the top of the notebook. Otherwise, clicking on this button again will assume you're restarting the lab!</span>\"))\n",
    "    else:\n",
    "        step_13()\n",
    "\n",
    "        # Auto-save.\n",
    "        if (not runAllSteps):\n",
    "            trigger_save(\"13\", result.returncode, userInput13.value)\n",
    "\n",
    "# Retrieve the student's response. First, create a loading spinner, since this could take a second or two.\n",
    "loading13 = widgets.Output()\n",
    "display(loading13)\n",
    "with loading13:\n",
    "    loading13.clear_output()\n",
    "    display(HTML(\"<span>Loading your saved response... <img width='12px' height='12px' style='margin-left: 3px;' src='resources/loading.gif'></span>\"))\n",
    "\n",
    "# Creating a text area.\n",
    "userInput13 = widgets.Text(\n",
    "    placeholder='Type your rule here',\n",
    "    description='Rule:',\n",
    "    layout=widgets.Layout(width='90%')\n",
    ")\n",
    "\n",
    "# Checking if the step has been answered.\n",
    "result = subprocess.run('ssh -o StrictHostKeyChecking=no -i /home/USERNAME_GOES_HERE/.ssh/merge_key USERNAME_GOES_HERE@server \"cat /home/.checker/responses/step_13_answer.txt 2> /dev/null\"', capture_output=True, text=True, shell=True)\n",
    "# Trim the newline.\n",
    "userInput13.value = result.stdout[:-1]\n",
    "\n",
    "# After the student's response was loaded, clear the output.\n",
    "loading13.clear_output()\n",
    "\n",
    "# Creating the button.\n",
    "button = widgets.Button(description=\"Check Rule\")\n",
    "\n",
    "# Creating an output area.\n",
    "output13 = widgets.Output()\n",
    "\n",
    "# Run the command on click.\n",
    "button.on_click(check_step_13)\n",
    "\n",
    "# Display the output.\n",
    "display(userInput13, button, output13)"
   ]
  },
  {
   "cell_type": "markdown",
   "metadata": {
    "deletable": false,
    "editable": false,
    "slideshow": {
     "slide_type": ""
    },
    "tags": []
   },
   "source": [
    "## <strong>Topic 4: A Large-Scale Application of ```iptables```</strong>\n",
    "\n",
    "In this final topic, you are going to be given an instruction to block or accept certain connections. Using all of the knowledge you used in the previous topics, you are prepared to attempt to create your own rules.\n",
    "\n",
    "Once again, as provided in the previous topic, you're free to use these two resources if you feel stuck with the syntax for ```iptables```:\n",
    "\n",
    "- <a href=\"https://linux.die.net/man/8/iptables\">```iptables``` Documentation</a>\n",
    "- <a href=\"https://www.informit.com/articles/article.aspx?p=421057&seqNum=4\">Linux Firewalls, 3rd Edition - Iptables Chapter</a>\n",
    "\n",
    "Additionally, these are the following IP addresses that you will need to use for this section:\n",
    "\n",
    "| Nodes:        | ```server```   | ```client```   |\n",
    "|---------------|----------------|----------------|\n",
    "| IP Addresses: | ```10.0.1.1``` | ```10.0.1.2``` |\n",
    "\n",
    "#### <strong>Useful Information For This Section</strong>:\n",
    "\n",
    "- Whenever you would like to reset your ```iptables``` rules, you may type ```sudo iptables -F```. The ```-F``` command means \"flush\", which will reset your table back to what it originally was. If you had already completed a step, your progress will not be lost after flushing the table.\n",
    "\n",
    "- Additionally, <u>you will need to indicate a specific protocol in each of your steps</u>. In other words, all of your rules must have ```-p udp``` or ```-p tcp``` in them. By default, connections that are made between ```client``` and ```server``` are TCP connections. However, the last step will require a UDP connection.\n",
    "\n",
    "- Use ```sudo iptables -S``` to view all current rules.\n",
    "\n",
    "- You are strongly encouraged to look for keywords in each scenario. These are important keywords to look out for:\n",
    "\n",
    "  - Inbound and outbound\n",
    "  - TCP and UDP\n",
    "  - ```server``` and ```client```"
   ]
  },
  {
   "cell_type": "markdown",
   "metadata": {
    "deletable": false,
    "editable": false,
    "slideshow": {
     "slide_type": ""
    },
    "tags": []
   },
   "source": [
    "### Step 14: Inbound TCP Connections to the Apache Server\n",
    "\n",
    "As you do the questions provided in this topic, you will be provided a \"Check Rule\" button. These checks will take time to complete, since they're testing for time-outs. Additionally, you are going to be told which node that these firewall rules will need to be placed on.\n",
    "\n",
    "<strong>Scenario:</strong> On the ```server``` node, <strong>```DROP```</strong> inbound TCP connections to the Apache port from ```client```. This port is ```80```. Currently, this port is open to all connections to the ```server``` node.\n",
    "\n",
    "<strong>A successful test appears as follows:</strong>\n",
    "```\n",
    "USERNAME_GOES_HERE@client:~$ telnet server 80\n",
    "Trying 10.0.1.1...\n",
    "^C\n",
    "USERNAME_GOES_HERE@client:~$\n",
    "```\n",
    "\n",
    "Click the button below to check your work.\n",
    "\n",
    "<span style=\"color: green\"><strong><img src=\"resources/idea.png\" style=\"width: 12px\"> Tips:</strong></span> \n",
    "- You will need to use ```client```'s IP address in your rule.\n",
    "- <strong>All rules in this section require a ```-p``` argument. Look at the title for each step to know which protocol to use.</strong>\n",
    "- Think carefully about when to use ```--dport``` or ```--sport```.\n",
    "\n",
    "<span style=\"color: red;\"><strong><img src=\"resources/alert.png\" style=\"width: 12px\"> Warning:</strong></span> You are now starting to apply your own firewall rules, which means that an incorrect firewall rule could potentially lock you out from your node. If you get locked out, you will have to end your lab (at the bottom of the notebook), then restart your lab by clicking \"Start Lab\" at the top of the notebook. Your progress is automatically saved at each step, so you do not need to worry about losing progress. If you restart your lab, make sure to reload your lab."
   ]
  },
  {
   "cell_type": "code",
   "execution_count": null,
   "metadata": {
    "deletable": false,
    "editable": false,
    "jupyter": {
     "source_hidden": true
    },
    "slideshow": {
     "slide_type": ""
    },
    "tags": []
   },
   "outputs": [
    {
     "data": {
      "application/vnd.jupyter.widget-view+json": {
       "model_id": "52ec50d63e7f49408b44533b3ebcb4a8",
       "version_major": 2,
       "version_minor": 0
      },
      "text/plain": [
       "Button(description='Check Rule', style=ButtonStyle())"
      ]
     },
     "metadata": {},
     "output_type": "display_data"
    },
    {
     "data": {
      "application/vnd.jupyter.widget-view+json": {
       "model_id": "5fb1eee85c5e4d20bafb6ea168f25eaa",
       "version_major": 2,
       "version_minor": 0
      },
      "text/plain": [
       "Output()"
      ]
     },
     "metadata": {},
     "output_type": "display_data"
    }
   ],
   "source": [
    "# Click the button below to check your work.\n",
    "from subprocess import Popen, PIPE\n",
    "step14Complete = False\n",
    "\n",
    "# Function to check the permissions.\n",
    "def step_14():\n",
    "    # Important variables that must be accessed outside of this function.\n",
    "    global step14Complete, result\n",
    "\n",
    "    with output14:\n",
    "        output14.clear_output()\n",
    "        display(HTML(\"<span>Testing your firewall rule... <img width='14px' height='14px' style='margin-left: 3px;' src='resources/loading.gif'></span>\"))\n",
    "    \n",
    "    # This subprocess statement is a little different. Need to call a local script instead of a remote one.\n",
    "    result = subprocess.run('su - USERNAME_GOES_HERE -c \"/project/USERNAME_GOES_HERE/notebooks/resources/firewall/section_4.py 14\"', shell=True, capture_output=True, text=True)\n",
    "    \n",
    "    if (result.returncode == 1):\n",
    "        output14.clear_output()\n",
    "        with output14:\n",
    "            display(HTML(\"<span style='color: green;'>Correct! Your firewall rule worked correctly. If you have previously passed this step, this step will not fail. Feel free to remove this rule from your table.</span>\"))\n",
    "            step14Complete = True\n",
    "\n",
    "    elif (result.returncode == 0):\n",
    "        output14.clear_output()\n",
    "        with output14:\n",
    "            display(HTML(\"<span style='color: red;'>Your rule did not perform the given scenario correctly. Try again.</span>\"))\n",
    "            step14Complete = False\n",
    "\n",
    "    elif (result.returncode == 3):\n",
    "        output14.clear_output()\n",
    "        with output14:\n",
    "            display(HTML(\"<span style='color: red;'>The port number that's required for this step cannot be found in your rules. Ensure that you apply these firewall rules to the \\\"server\\\" node.</span>\"))\n",
    "            step14Complete = False\n",
    "\n",
    "    elif (result.returncode == 2):\n",
    "        output14.clear_output()\n",
    "        with output14:\n",
    "            display(HTML(\"<span style='color: red;'>There was an error with checking your step. Please contact your professor or TA for assistance.</span>\"))\n",
    "            step14Complete = False\n",
    "    \n",
    "def check_step_14(b):\n",
    "    if (warn_student()):\n",
    "        output14.clear_output()\n",
    "        with output14:\n",
    "            display(HTML(\"<span style='color: red;'><strong>WARNING:</strong> You have an autosaved lab that you have not yet loaded. If you would like to load your progress, click \\\"Load Lab\\\" at the top of the notebook. Otherwise, clicking on this button again will assume you're restarting the lab!</span>\"))\n",
    "    else:\n",
    "        step_14()\n",
    "\n",
    "        # Auto-save.\n",
    "        if (not runAllSteps):\n",
    "            trigger_save(\"14\", result.returncode)\n",
    "\n",
    "# Creating the button.\n",
    "button = widgets.Button(description=\"Check Rule\")\n",
    "\n",
    "# Creating an output area.\n",
    "output14 = widgets.Output()\n",
    "\n",
    "# Run the command on click.\n",
    "button.on_click(check_step_14)\n",
    "\n",
    "# Display the output.\n",
    "display(button, output14)"
   ]
  },
  {
   "cell_type": "markdown",
   "metadata": {
    "deletable": false,
    "editable": false,
    "slideshow": {
     "slide_type": ""
    },
    "tags": []
   },
   "source": [
    "### Step 15: Inbound TCP Connections to the MySQL Server\n",
    "\n",
    "<strong>Scenario:</strong> On the ```server``` node, <strong>```DROP```</strong> all inbound TCP connections to the MySQL port from ```client```. This port is ```3306```. Currently, this port is open to all connections to the ```server``` node.\n",
    "\n",
    "<strong>A successful test appears as follows:</strong>\n",
    "```\n",
    "USERNAME_GOES_HERE@client:~$ telnet server 3306\n",
    "Trying 10.0.1.1...\n",
    "^C\n",
    "USERNAME_GOES_HERE@client:~$\n",
    "```\n",
    "\n",
    "Click the button below to check your work."
   ]
  },
  {
   "cell_type": "code",
   "execution_count": null,
   "metadata": {
    "deletable": false,
    "editable": false,
    "jupyter": {
     "source_hidden": true
    },
    "slideshow": {
     "slide_type": ""
    },
    "tags": []
   },
   "outputs": [
    {
     "data": {
      "application/vnd.jupyter.widget-view+json": {
       "model_id": "14df3c8304484876857e652a70e38bc6",
       "version_major": 2,
       "version_minor": 0
      },
      "text/plain": [
       "Button(description='Check Rule', style=ButtonStyle())"
      ]
     },
     "metadata": {},
     "output_type": "display_data"
    },
    {
     "data": {
      "application/vnd.jupyter.widget-view+json": {
       "model_id": "c7c3635239f5432da3258a17b8688613",
       "version_major": 2,
       "version_minor": 0
      },
      "text/plain": [
       "Output()"
      ]
     },
     "metadata": {},
     "output_type": "display_data"
    }
   ],
   "source": [
    "# Click the button below to check your work.\n",
    "step15Complete = False\n",
    "\n",
    "# Function to check the permissions.\n",
    "def step_15():\n",
    "    # Important variables that must be accessed outside of this function.\n",
    "    global step15Complete, result\n",
    "\n",
    "    with output15:\n",
    "        output15.clear_output()\n",
    "        display(HTML(\"<span><img width='14px' height='14px' style='margin-left: 3px;' src='resources/loading.gif'></span>\"))\n",
    "    \n",
    "    # This subprocess statement is a little different. Need to call a local script instead of a remote one.\n",
    "    result = subprocess.run('su - USERNAME_GOES_HERE -c \"/project/USERNAME_GOES_HERE/notebooks/resources/firewall/section_4.py 15\"', shell=True, capture_output=True, text=True)\n",
    "\n",
    "    if (result.returncode == 1):\n",
    "        output15.clear_output()\n",
    "        with output15:\n",
    "            display(HTML(\"<span style='color: green;'>Correct! Your firewall rule worked correctly. If you have previously passed this step, this step will not fail. Feel free to remove this rule from your table.</span>\"))\n",
    "            step15Complete = True\n",
    "\n",
    "    elif (result.returncode == 0):\n",
    "        output15.clear_output()\n",
    "        with output15:\n",
    "            display(HTML(\"<span style='color: red;'>Your rule did not perform the given scenario correctly. Try again.</span>\"))\n",
    "            step15Complete = False\n",
    "\n",
    "    elif (result.returncode == 3):\n",
    "        output15.clear_output()\n",
    "        with output15:\n",
    "            display(HTML(\"<span style='color: red;'>The port number that's required for this step cannot be found in your rules. Ensure that you apply these firewall rules to the \\\"server\\\" node.</span>\"))\n",
    "            step15Complete = False\n",
    "\n",
    "    elif (result.returncode == 2):\n",
    "        output15.clear_output()\n",
    "        with output15:\n",
    "            display(HTML(\"<span style='color: red;'>There was an error with checking your step. Please contact your professor or TA for assistance.</span>\"))\n",
    "            step15Complete = False\n",
    "    \n",
    "def check_step_15(b):\n",
    "    if (warn_student()):\n",
    "        output15.clear_output()\n",
    "        with output15:\n",
    "            display(HTML(\"<span style='color: red;'><strong>WARNING:</strong> You have an autosaved lab that you have not yet loaded. If you would like to load your progress, click \\\"Load Lab\\\" at the top of the notebook. Otherwise, clicking on this button again will assume you're restarting the lab!</span>\"))\n",
    "    else:\n",
    "        step_15()\n",
    "\n",
    "        # Auto-save.\n",
    "        if (not runAllSteps):\n",
    "            trigger_save(\"15\", result.returncode)\n",
    "\n",
    "# Creating the button.\n",
    "button = widgets.Button(description=\"Check Rule\")\n",
    "\n",
    "# Creating an output area.\n",
    "output15 = widgets.Output()\n",
    "\n",
    "# Run the command on click.\n",
    "button.on_click(check_step_15)\n",
    "\n",
    "# Display the output.\n",
    "display(button, output15)"
   ]
  },
  {
   "cell_type": "markdown",
   "metadata": {
    "deletable": false,
    "editable": false,
    "slideshow": {
     "slide_type": ""
    },
    "tags": []
   },
   "source": [
    "### Step 16: Outbound TCP Connections to a Specific HTTPS Request\n",
    "\n",
    "<strong>Scenario:</strong> On the ```client``` node, <strong>```ACCEPT```</strong> outbound HTTPS connections to <span style=\"color: blue;\">stackoverflow.com</span>, but <strong>```REJECT```</strong> everything else. The port for HTTPS requests is ```443```. Stack Overflow should be the only website that can be accessed through the ```client``` node.\n",
    "\n",
    "<u>A destination IP address can work, but IP addresses may change.</u> Consider reviewing Topic 1 to view what tools you can use to find this IP. Instead, <u>the destination can be a URL</u>.\n",
    "\n",
    "Domains use multiple IP addresses, depending on what the DNS server returns. If one fails, it will use the next available IP address until it returns successfully. The IP address that you use in the rule doesn't matter, as long as it's one of Stack Overflow's.\n",
    "\n",
    "<strong>A successful test appears as follows:</strong>\n",
    "```\n",
    "USERNAME_GOES_HERE@client:~$ telnet stackoverflow.com 443\n",
    "Trying XXX.XX.XX.X...\n",
    "Trying XXX.XX.XXX.XXX...\n",
    "Connected to stackoverflow.com.\n",
    "Escape character is '^]'.\n",
    "Connection closed by foreign host.\n",
    "USERNAME_GOES_HERE@client:~$\n",
    "```\n",
    "\n",
    "Click the button below to check your work. \n",
    "\n",
    "<span style=\"color: green\"><strong><img src=\"resources/idea.png\" style=\"width: 12px\"> Note:</strong></span> In order for this test to pass, other random websites will be accessed. Other websites must not be accessible.\n",
    "\n",
    "<span style=\"color: green\"><strong><img src=\"resources/idea.png\" style=\"width: 12px\"> Tip:</strong></span> <strong>Two rules are required for this step.</strong> Rules for ```iptables``` go in order. If you attempt to block all outgoing connections first, then allow Stack Overflow through the firewall, it will not work. You must allow Stack Overflow first, then block the remaining connections."
   ]
  },
  {
   "cell_type": "code",
   "execution_count": null,
   "metadata": {
    "deletable": false,
    "editable": false,
    "jupyter": {
     "source_hidden": true
    },
    "slideshow": {
     "slide_type": ""
    },
    "tags": []
   },
   "outputs": [
    {
     "data": {
      "application/vnd.jupyter.widget-view+json": {
       "model_id": "2e0124660be54334b23856e646cb6c85",
       "version_major": 2,
       "version_minor": 0
      },
      "text/plain": [
       "Button(description='Check Rule', style=ButtonStyle())"
      ]
     },
     "metadata": {},
     "output_type": "display_data"
    },
    {
     "data": {
      "application/vnd.jupyter.widget-view+json": {
       "model_id": "1727c15b1eae44c4bc501c939f83993c",
       "version_major": 2,
       "version_minor": 0
      },
      "text/plain": [
       "Output()"
      ]
     },
     "metadata": {},
     "output_type": "display_data"
    }
   ],
   "source": [
    "# Click the button below to check your work.\n",
    "step16Complete = False\n",
    "\n",
    "# Function to check the permissions.\n",
    "def step_16():\n",
    "    # Important variables that must be accessed outside of this function.\n",
    "    global step16Complete, result\n",
    "\n",
    "    with output16:\n",
    "        output16.clear_output()\n",
    "        display(HTML(\"<span>Please wait. This will take some extra time. Multiple websites are tested for this step... <img width='14px' height='14px' style='margin-left: 3px;' src='resources/loading.gif'></span>\"))\n",
    "    \n",
    "    # This subprocess statement is a little different. Need to call a local script instead of a remote one.\n",
    "    result = subprocess.run('su - USERNAME_GOES_HERE -c \"/project/USERNAME_GOES_HERE/notebooks/resources/firewall/section_4.py 16\"', shell=True, capture_output=True, text=True)\n",
    "\n",
    "    if (result.returncode == 1):\n",
    "        output16.clear_output()\n",
    "        with output16:\n",
    "            display(HTML(\"<span style='color: green;'>Correct! Your firewall rule worked correctly. If you have previously passed this step, this step will not fail. Feel free to remove this rule from your table.</span>\"))\n",
    "            step16Complete = True\n",
    "\n",
    "    elif (result.returncode == 0):\n",
    "        output16.clear_output()\n",
    "        with output16:\n",
    "            display(HTML(\"<span style='color: red;'>Your rule did not perform the given scenario correctly. Try again.</span>\"))\n",
    "            step16Complete = False\n",
    "\n",
    "    elif (result.returncode == 3):\n",
    "        output16.clear_output()\n",
    "        with output16:\n",
    "            display(HTML(\"<span style='color: red;'>The port number that's required for this step cannot be found in your rules. Ensure that you apply these firewall rules to the \\\"client\\\" node.</span>\"))\n",
    "            step16Complete = False\n",
    "\n",
    "    elif (result.returncode == 2):\n",
    "        output16.clear_output()\n",
    "        with output16:\n",
    "            display(HTML(\"<span style='color: red;'>There was an error with checking your step. Please contact your professor or TA for assistance.</span>\"))\n",
    "            step16Complete = False\n",
    "    \n",
    "def check_step_16(b):\n",
    "    if (warn_student()):\n",
    "        output16.clear_output()\n",
    "        with output16:\n",
    "            display(HTML(\"<span style='color: red;'><strong>WARNING:</strong> You have an autosaved lab that you have not yet loaded. If you would like to load your progress, click \\\"Load Lab\\\" at the top of the notebook. Otherwise, clicking on this button again will assume you're restarting the lab!</span>\"))\n",
    "    else:\n",
    "        step_16()\n",
    "\n",
    "        # Auto-save.\n",
    "        if (not runAllSteps):\n",
    "            trigger_save(\"16\", result.returncode)\n",
    "\n",
    "# Creating the button.\n",
    "button = widgets.Button(description=\"Check Rule\")\n",
    "\n",
    "# Creating an output area.\n",
    "output16 = widgets.Output()\n",
    "\n",
    "# Run the command on click.\n",
    "button.on_click(check_step_16)\n",
    "\n",
    "# Display the output.\n",
    "display(button, output16)"
   ]
  },
  {
   "cell_type": "markdown",
   "metadata": {
    "deletable": false,
    "editable": false,
    "slideshow": {
     "slide_type": ""
    },
    "tags": []
   },
   "source": [
    "### Step 17: Outbound TCP OpenSSH Requests\n",
    "\n",
    "<strong>Scenario:</strong> On the ```client``` node, <strong>```REJECT```</strong> all outbound SSH requests. OpenSSH uses port 22.\n",
    "\n",
    "<strong>A successful test appears as follows:</strong>\n",
    "```\n",
    "USERNAME_GOES_HERE@client:~$ ssh server\n",
    "ssh: connect to host server port 22: Connection refused\n",
    "USERNAME_GOES_HERE@client:~$\n",
    "```\n",
    "\n",
    "Click the button below to check your work. \n",
    "\n",
    "<span style=\"color: red;\"><strong><img src=\"resources/alert.png\" style=\"width: 12px\"> Warning:</strong></span> Double-check that you are going to deny any <strong>outbound</strong> SSH requests. If you accidentally deny any incoming SSH requests, you may lose access to your ```client``` node, and the lab must be restarted. <strong>Additionally</strong>, make sure that this rule is applied to the ```client``` node. If this rule is accidentally applied to the ```server``` node, the notebook will not save properly."
   ]
  },
  {
   "cell_type": "code",
   "execution_count": null,
   "metadata": {
    "deletable": false,
    "editable": false,
    "jupyter": {
     "source_hidden": true
    },
    "slideshow": {
     "slide_type": ""
    },
    "tags": []
   },
   "outputs": [
    {
     "data": {
      "application/vnd.jupyter.widget-view+json": {
       "model_id": "b5353ac79d66484e978e904e74471a04",
       "version_major": 2,
       "version_minor": 0
      },
      "text/plain": [
       "Button(description='Check Rule', style=ButtonStyle())"
      ]
     },
     "metadata": {},
     "output_type": "display_data"
    },
    {
     "data": {
      "application/vnd.jupyter.widget-view+json": {
       "model_id": "c686d58dbfb1493484d4abf4a970b4e5",
       "version_major": 2,
       "version_minor": 0
      },
      "text/plain": [
       "Output()"
      ]
     },
     "metadata": {},
     "output_type": "display_data"
    }
   ],
   "source": [
    "# Click the button below to check your work.\n",
    "step17Complete = False\n",
    "\n",
    "# Function to check the permissions.\n",
    "def step_17():\n",
    "    # Important variables that must be accessed outside of this function.\n",
    "    global step17Complete, result\n",
    "\n",
    "    with output17:\n",
    "        output17.clear_output()\n",
    "        display(HTML(\"<span><img width='14px' height='14px' style='margin-left: 3px;' src='resources/loading.gif'></span>\"))\n",
    "    \n",
    "    # This subprocess statement is a little different. Need to call a local script instead of a remote one.\n",
    "    result = subprocess.run('su - USERNAME_GOES_HERE -c \"/project/USERNAME_GOES_HERE/notebooks/resources/firewall/section_4.py 17\"', shell=True, capture_output=True, text=True)\n",
    "\n",
    "    if (result.returncode == 1):\n",
    "        output17.clear_output()\n",
    "        with output17:\n",
    "            display(HTML(\"<span style='color: green;'>Correct! Your firewall rule worked correctly. If you have previously passed this step, this step will not fail. Feel free to remove this rule from your table.</span>\"))\n",
    "            step17Complete = True\n",
    "\n",
    "    elif (result.returncode == 0):\n",
    "        output17.clear_output()\n",
    "        with output17:\n",
    "            display(HTML(\"<span style='color: red;'>Your rule did not perform the given scenario correctly. Try again.</span>\"))\n",
    "            step17Complete = False\n",
    "\n",
    "    elif (result.returncode == 3):\n",
    "        output17.clear_output()\n",
    "        with output17:\n",
    "            display(HTML(\"<span style='color: red;'>The port number that's required for this step cannot be found in your rules. Ensure that you apply these firewall rules to the \\\"client\\\" node.</span>\"))\n",
    "            step17Complete = False\n",
    "\n",
    "    elif (result.returncode == 2):\n",
    "        output17.clear_output()\n",
    "        with output17:\n",
    "            display(HTML(\"<span style='color: red;'>There was an error with checking your step. Please contact your professor or TA for assistance.</span>\"))\n",
    "            step17Complete = False\n",
    "    \n",
    "def check_step_17(b):\n",
    "    if (warn_student()):\n",
    "        output17.clear_output()\n",
    "        with output17:\n",
    "            display(HTML(\"<span style='color: red;'><strong>WARNING:</strong> You have an autosaved lab that you have not yet loaded. If you would like to load your progress, click \\\"Load Lab\\\" at the top of the notebook. Otherwise, clicking on this button again will assume you're restarting the lab!</span>\"))\n",
    "    else:\n",
    "        step_17()\n",
    "\n",
    "        # Auto-save.\n",
    "        if (not runAllSteps):\n",
    "            trigger_save(\"17\", result.returncode)\n",
    "\n",
    "# Creating the button.\n",
    "button = widgets.Button(description=\"Check Rule\")\n",
    "\n",
    "# Creating an output area.\n",
    "output17 = widgets.Output()\n",
    "\n",
    "# Run the command on click.\n",
    "button.on_click(check_step_17)\n",
    "\n",
    "# Display the output.\n",
    "display(button, output17)"
   ]
  },
  {
   "cell_type": "markdown",
   "metadata": {
    "deletable": false,
    "editable": false,
    "slideshow": {
     "slide_type": ""
    },
    "tags": []
   },
   "source": [
    "### Step 18: Inbound UDP Traffic on Ports 10000:10005\n",
    "\n",
    "<strong>Scenario:</strong> On the ```server``` node, <strong>allow</strong> incoming UDP connections to be made on six ports from ```client```: ```10000```, ```10001```, ```10002```, ```10003```, ```10004```, and ```10005```. Additionally, <strong>```DROP```</strong> any other UDP packet that is sent from the ```client``` node. <u>You will apply these rules on ```server```.</u>\n",
    "\n",
    "These six ports should be the only ports that ```client``` can send UDP packets to ```server``` on. <strong>You do not need to make six independent rules for the ports.</strong> You can just use ```10000:10005```. <u>If you do not use a port range like this, your step won't pass!</u>\n",
    "\n",
    "<strong>A successful test appears as follows:</strong>\n",
    "\n",
    "<u>Part 1:</u>\n",
    "```\n",
    "USERNAME_GOES_HERE@server:~$ nc -u -l -p 10000\n",
    "Hello!\n",
    "\n",
    "USERNAME_GOES_HERE@client:~$ nc -u server 10000\n",
    "(Type Hello!)\n",
    "```\n",
    "\n",
    "<u>Part 2:</u>\n",
    "\n",
    "```\n",
    "USERNAME_GOES_HERE@server:~$ nc -u -l -p 10006\n",
    "\n",
    "\n",
    "USERNAME_GOES_HERE@client:~$ nc -u server 10006\n",
    "(Type Hello!)\n",
    "```\n",
    "\n",
    "Click the button below to check your work. \n",
    "\n",
    "<span style=\"color: green\"><strong><img src=\"resources/idea.png\" style=\"width: 12px\"> Tips:</strong></span> \n",
    "- Like before, <strong>two rules on ```server``` are required for this step.</strong> One to accept the UDP packets through the specified ports from ```client```, and one to drop the remaining UDP packets from ```client``` on the remaining ports. Remember that order matters when adding ```iptables``` rules!\n",
    "- When classifying the ports, use ```--dport``` instead of ```--sport```. When calling netcat from the ```client```, its connection is randomly assigned a port number. When packets are sent, the port that you classified in your argument is the port that the packets are being sent to. Thus, the port that you used in command would be the destination port.\n",
    "\n",
    "<span style=\"color: red;\"><strong><img src=\"resources/alert.png\" style=\"width: 12px\"> Warning:</strong></span> ```server``` relies on some UDP connections for ```iptables``` to run properly. Therefore, make sure to add the source IP address for ```client```, which is provided at the start of the topic. If you do not add a ```-s``` parameter, where the source is the ```client```, you might break ```iptables```!"
   ]
  },
  {
   "cell_type": "code",
   "execution_count": null,
   "metadata": {
    "deletable": false,
    "editable": false,
    "jupyter": {
     "source_hidden": true
    },
    "slideshow": {
     "slide_type": ""
    },
    "tags": []
   },
   "outputs": [
    {
     "data": {
      "application/vnd.jupyter.widget-view+json": {
       "model_id": "1f159df19dc04a179d1efea52796cdaa",
       "version_major": 2,
       "version_minor": 0
      },
      "text/plain": [
       "Button(description='Check Rule', style=ButtonStyle())"
      ]
     },
     "metadata": {},
     "output_type": "display_data"
    },
    {
     "data": {
      "application/vnd.jupyter.widget-view+json": {
       "model_id": "c1fb563ea6ad424b83df37118cc8ccb2",
       "version_major": 2,
       "version_minor": 0
      },
      "text/plain": [
       "Output()"
      ]
     },
     "metadata": {},
     "output_type": "display_data"
    }
   ],
   "source": [
    "# Click the button below to check your work.\n",
    "step18Complete = False\n",
    "\n",
    "# Function to check the permissions.\n",
    "def step_18():\n",
    "    # Important variables that must be accessed outside of this function.\n",
    "    global step18Complete, result\n",
    "\n",
    "    with output18:\n",
    "        output18.clear_output()\n",
    "        display(HTML(\"<span><img width='14px' height='14px' style='margin-left: 3px;' src='resources/loading.gif'></span>\"))\n",
    "    \n",
    "    # This subprocess statement is a little different. Need to call a local script instead of a remote one.\n",
    "    result = subprocess.run('su - USERNAME_GOES_HERE -c \"/project/USERNAME_GOES_HERE/notebooks/resources/firewall/section_4.py 18\"', shell=True, capture_output=True, text=True)\n",
    "\n",
    "    if (result.returncode == 1):\n",
    "        output18.clear_output()\n",
    "        with output18:\n",
    "            display(HTML(\"<span style='color: green;'>Correct! Your firewall rule worked correctly. If you have previously passed this step, this step will not fail. Feel free to remove this rule from your table.</span>\"))\n",
    "            step18Complete = True\n",
    "\n",
    "    elif (result.returncode == 0):\n",
    "        output18.clear_output()\n",
    "        with output18:\n",
    "            display(HTML(\"<span style='color: red;'>Your rule did not perform the given scenario correctly. Try again.</span>\"))\n",
    "            step18Complete = False\n",
    "\n",
    "    elif (result.returncode == 3):\n",
    "        output18.clear_output()\n",
    "        with output18:\n",
    "            display(HTML(\"<span style='color: red;'>The port number that's required for this step cannot be found in your rules. Ensure that you apply these firewall rules to the \\\"server\\\" node.</span>\"))\n",
    "            step18Complete = False\n",
    "\n",
    "    elif (result.returncode == 2):\n",
    "        output18.clear_output()\n",
    "        with output18:\n",
    "            display(HTML(\"<span style='color: red;'>There was an error with checking your step. Please contact your professor or TA for assistance.</span>\"))\n",
    "            step18Complete = False\n",
    "    \n",
    "def check_step_18(b):\n",
    "    if (warn_student()):\n",
    "        output18.clear_output()\n",
    "        with output18:\n",
    "            display(HTML(\"<span style='color: red;'><strong>WARNING:</strong> You have an autosaved lab that you have not yet loaded. If you would like to load your progress, click \\\"Load Lab\\\" at the top of the notebook. Otherwise, clicking on this button again will assume you're restarting the lab!</span>\"))\n",
    "    else:\n",
    "        step_18()\n",
    "\n",
    "        # Auto-save.\n",
    "        if (not runAllSteps):\n",
    "            trigger_save(\"18\", result.returncode)\n",
    "\n",
    "# Creating the button.\n",
    "button = widgets.Button(description=\"Check Rule\")\n",
    "\n",
    "# Creating an output area.\n",
    "output18 = widgets.Output()\n",
    "\n",
    "# Run the command on click.\n",
    "button.on_click(check_step_18)\n",
    "\n",
    "# Display the output.\n",
    "display(button, output18)"
   ]
  },
  {
   "cell_type": "markdown",
   "metadata": {
    "deletable": false,
    "editable": false,
    "slideshow": {
     "slide_type": ""
    },
    "tags": []
   },
   "source": [
    "## <strong>Grading</strong>\n",
    "\n",
    "To check your overall grade, click on the button below."
   ]
  },
  {
   "cell_type": "code",
   "execution_count": 22,
   "metadata": {
    "deletable": false,
    "editable": false,
    "jupyter": {
     "source_hidden": true
    },
    "slideshow": {
     "slide_type": ""
    },
    "tags": []
   },
   "outputs": [
    {
     "data": {
      "application/vnd.jupyter.widget-view+json": {
       "model_id": "f9f70525b8da46119a5e9afe6ebb6159",
       "version_major": 2,
       "version_minor": 0
      },
      "text/plain": [
       "Button(description='Calculate Grade', style=ButtonStyle())"
      ]
     },
     "metadata": {},
     "output_type": "display_data"
    },
    {
     "data": {
      "application/vnd.jupyter.widget-view+json": {
       "model_id": "c4e41ccab47e4174a052bc9cdbda6650",
       "version_major": 2,
       "version_minor": 0
      },
      "text/plain": [
       "Output()"
      ]
     },
     "metadata": {},
     "output_type": "display_data"
    }
   ],
   "source": [
    "# Click the button below to check your overall grade.\n",
    "steps_to_check = [step_1, step_2, step_3, step_4, step_5, step_6, step_7, step_8, step_9, step_10, step_11, step_12, step_13, step_14, step_15, step_16, step_17, step_18]   \n",
    "\n",
    "# Function to calculate grade after refreshing the cell\n",
    "def calculate_grade(b):\n",
    "    # To not auto-save at each step.\n",
    "    global runAllSteps\n",
    "    runAllSteps = True\n",
    "\n",
    "    with gradeOutput:\n",
    "        gradeOutput.clear_output()\n",
    "        display(HTML(\"<span>Testing all steps. Please wait.</span> \\\n",
    "            <span><img width='12px' height='12px' style='margin-left: 3px;' src='resources/loading.gif'></span>\"))\n",
    "    \n",
    "    # Required for checking the boolean values.\n",
    "    for func in steps_to_check:\n",
    "        func()  # Call each function in order.\n",
    "\n",
    "    # Assuming steps are updated above this cell in some way\n",
    "    steps = [step1Complete, step2Complete, step3Complete, step4Complete, step5Complete, step6Complete, step7Complete, step8Complete, step9Complete, step10Complete, step11Complete, step12Complete, step13Complete, step14Complete, step15Complete, step16Complete, step17Complete, step18Complete]\n",
    "    output = \"\"\n",
    "    stepsCorrect = 0\n",
    "    numOfSteps = len(steps)\n",
    "\n",
    "    for i in range(numOfSteps):\n",
    "        if steps[i]:\n",
    "            stepsCorrect += 1\n",
    "            output += \"<div style='color: green;'>Step \" + str(i + 1) + \" is complete.</div>\"\n",
    "        else:\n",
    "            output += \"<div style='color: red;'>Step \" + str(i + 1) + \" is incomplete.</div>\"\n",
    "\n",
    "    output += \"<div style='color: black;'>You have \" + str(stepsCorrect) + \" out of \" + str(numOfSteps) + \" steps completed.</div>\"\n",
    "\n",
    "    with gradeOutput:\n",
    "        gradeOutput.clear_output()\n",
    "        display(HTML(output))\n",
    "\n",
    "    # Enables auto-saving to happen at every step again.\n",
    "    runAllSteps = False\n",
    "\n",
    "# Create a button to refresh the cell and another to calculate grade.\n",
    "grade_button = widgets.Button(description=\"Calculate Grade\")\n",
    "\n",
    "# Link buttons to functions.\n",
    "grade_button.on_click(calculate_grade)\n",
    "\n",
    "# Output area.\n",
    "gradeOutput = widgets.Output()\n",
    "\n",
    "# Display the buttons and output.\n",
    "display(grade_button, gradeOutput)"
   ]
  },
  {
   "cell_type": "markdown",
   "metadata": {
    "deletable": false,
    "editable": false,
    "slideshow": {
     "slide_type": ""
    },
    "tags": []
   },
   "source": [
    "### Stopping the Lab\n",
    "\n",
    "Once you are done with the lab, click on the \"Stop Lab\" button below. <strong>This will delete your materialization, which will delete all of the lab's resources.</strong> Your progress is saved automatically in ```saves/``` within the sidebar of your XDC. You may load this lab in the future by clicking \"Load Lab\" at the top."
   ]
  },
  {
   "cell_type": "code",
   "execution_count": 23,
   "metadata": {
    "deletable": false,
    "editable": false,
    "jupyter": {
     "source_hidden": true
    },
    "slideshow": {
     "slide_type": ""
    },
    "tags": []
   },
   "outputs": [
    {
     "data": {
      "application/vnd.jupyter.widget-view+json": {
       "model_id": "9dba76f3696547fd88f6c7cc118d6cb0",
       "version_major": 2,
       "version_minor": 0
      },
      "text/plain": [
       "Checkbox(value=False, description='Confirm', indent=False)"
      ]
     },
     "metadata": {},
     "output_type": "display_data"
    },
    {
     "data": {
      "application/vnd.jupyter.widget-view+json": {
       "model_id": "6a527a47f15248acb3310e22d536701d",
       "version_major": 2,
       "version_minor": 0
      },
      "text/plain": [
       "Button(description='Stop Lab', style=ButtonStyle())"
      ]
     },
     "metadata": {},
     "output_type": "display_data"
    },
    {
     "data": {
      "application/vnd.jupyter.widget-view+json": {
       "model_id": "6fbb9d88a0454e699b93a9da26a88be8",
       "version_major": 2,
       "version_minor": 0
      },
      "text/plain": [
       "Output()"
      ]
     },
     "metadata": {},
     "output_type": "display_data"
    }
   ],
   "source": [
    "# Click the button below to stop the experiment.\n",
    "def stoplab(button):\n",
    "    # Check to make sure that the student wants to confirm ending the lab.\n",
    "    if (confirm.value == False):\n",
    "        with stop_output:\n",
    "            stop_output.clear_output()\n",
    "            display(HTML(\"<newline><span style='color: red;'>Please confirm that you wish to end the lab.</span>\"))\n",
    "\n",
    "    else:\n",
    "        # Defining the lab name.\n",
    "        labname = \"firewalls\"\n",
    "    \n",
    "        # Writing the information to an empty field below the button.\n",
    "        with stop_output:\n",
    "            stop_output.clear_output()\n",
    "            \n",
    "            display(HTML(\"<span>Stopping the \" + labname + \" lab. This will take a minute to process. Please wait.</span> \\\n",
    "                <span><img width='12px' height='12px' style='margin-left: 3px;' src='resources/loading.gif'></span>\"))\n",
    "            stopexp = subprocess.run('su - USERNAME_GOES_HERE -c \"bash /share/stopexp ' + labname + 'jup\"', capture_output=True, text=True, shell=True)\n",
    "            stop_output.clear_output()\n",
    "            display(HTML(\"<span>Done. Result:</span>\"))\n",
    "            print(stopexp.stdout)\n",
    "    \n",
    "            display(HTML(\"<newline><span style='color: green;'><strong>Your lab has been ended.</strong></span>\"))\n",
    "\n",
    "# Creating the button.\n",
    "stopButton = widgets.Button(description=\"Stop Lab\")\n",
    "\n",
    "# Create a confirmation check.\n",
    "confirm = widgets.Checkbox(\n",
    "    value=False,\n",
    "    description='Confirm',\n",
    "    disabled=False,\n",
    "    indent=False\n",
    ")\n",
    "\n",
    "# Creating an output area.\n",
    "stop_output = widgets.Output()\n",
    "\n",
    "# Run the command on click.\n",
    "stopButton.on_click(stoplab)\n",
    "\n",
    "# Display the output.\n",
    "display(confirm, stopButton, stop_output)"
   ]
  }
 ],
 "metadata": {
  "kernelspec": {
   "display_name": "Python 3 (ipykernel)",
   "language": "python",
   "name": "python3"
  },
  "language_info": {
   "codemirror_mode": {
    "name": "ipython",
    "version": 3
   },
   "file_extension": ".py",
   "mimetype": "text/x-python",
   "name": "python",
   "nbconvert_exporter": "python",
   "pygments_lexer": "ipython3",
   "version": "3.10.12"
  }
 },
 "nbformat": 4,
 "nbformat_minor": 4
}
