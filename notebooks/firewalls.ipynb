{
 "cells": [
  {
   "cell_type": "markdown",
   "metadata": {
    "editable": true,
    "slideshow": {
     "slide_type": ""
    },
    "tags": []
   },
   "source": [
    "# <strong>Firewalls</strong>\n",
    "Firewalls are security features for networks designed to accept or reject connections to certain websites and ports. There are two types of firewalls: <strong>Stateless</strong> and <strong>Stateful</strong> firewalls.\n",
    "\n",
    "<figure><center><img src=\"resources/firewall/firewall_graphic.jpg\" style=\"width: 85%; height: 85%;\"></img></center><em><figcaption>Credit: <a href=\"https://www.elegantthemes.com/blog/wordpress/what-is-a-firewall-and-which-type-is-right-for-you\">Elegant Themes</a></figcaption></em></figure>\n",
    "\n",
    "#### <strong>Stateless Firewalls</strong>\n",
    "Stateless firewalls use rules to accept or block connections based on the source, destination, and other predefined criteria, without tracking the connection's state. The <u>state</u> of a connection refers to its status based on the packet sent. More about states will be covered when discussing stateful firewalls. Stateless firewalls tend to be quicker because they use predefined rules to filter information. Since they do not track states, they can be faster and less resource-intensive, making them effective for handling heavy traffic loads. Typically, small companies opt for stateless firewalls due to their affordability. <a href=\"https://www.fortinet.com/resources/cyberglossary/stateful-vs-stateless-firewall\">Because there is usually less incoming traffic than with a large enterprise, there may also be fewer threats.</a>\n",
    "\n",
    "#### <strong>Stateful Firewalls</strong>\n",
    "Stateful firewalls are more intelligent because they can track and monitor active connections. There are three types of states recognized by ```iptables```, the tool you will use to configure firewalls in this lab:\n",
    "\n",
    "|       State       | Description|\n",
    "|:-----------------:|--------------------------------------|\n",
    "| ```NEW```         | A new connection. Has not been seen in both directions (incoming and outgoing). |\n",
    "| ```ESTABLISHED``` | A previously-seen connection. Has been seen at one point going in either direction. |\n",
    "| ```RELATED```     | A different connection, but has been previously associated with a prior connection, <br>like FTP (File Transfer Protocol) or ICMP (Internet Control Message Protocol) errors. <br>These errors occur when the destination tells the source that a packet couldn't be <br>forwarded/delivered. |\n",
    "\n",
    "Stateful firewalls are better at blocking a wider range of attacks, as many attacks can exploit a connection's state and sequences. These firewalls maintain a <strong>state table</strong>, where connections that are new, established, or related are tracked and updated as connections are made. These tables track the destination/source IP addresses and ports, as well as the connection's state.\n",
    "\n",
    "For this lab, we are focusing on <u>stateful</u> firewalls.\n",
    "\n",
    "<strong>This lab will cover four topics, and you will learn the following:</strong>\n",
    "\n",
    "1. Basic Unix Tools for Networking\n",
    "2. Introduction to ```iptables```\n",
    "3. Basic ```iptables``` Rules\n",
    "4. A Large-Scale Application of ```iptables```"
   ]
  },
  {
   "cell_type": "code",
   "execution_count": 1,
   "metadata": {
    "editable": true,
    "jupyter": {
     "source_hidden": true
    },
    "jupyterlab-hide-cells:hidden": true,
    "slideshow": {
     "slide_type": ""
    },
    "tags": []
   },
   "outputs": [],
   "source": [
    "# Setting up the lab.\n",
    "import ipywidgets as widgets\n",
    "from IPython.display import display, HTML, Javascript\n",
    "from IPython.core.magic import register_line_magic\n",
    "import os\n",
    "# For accessing the nodes:\n",
    "import subprocess\n",
    "# For the stopexp command:\n",
    "import re\n",
    "\n",
    "# When true, it will not auto-save at each step.\n",
    "runAllSteps = False\n",
    "\n",
    "###### Used for saving notebooks. ######\n",
    "import threading\n",
    "# Threading required in case steps are progressed too quickly.\n",
    "save_lock = threading.Lock()\n",
    "\n",
    "# The save function itself.\n",
    "def save_notebook():\n",
    "    with save_lock:\n",
    "        result = subprocess.run('su - USERNAME_GOES_HERE -c \"/home/USERNAME_GOES_HERE/notebooks/resources/save.py firewalls\"', shell=True, capture_output=True, text=True)\n",
    "\n",
    "# Creating a thread to save the notebook.\n",
    "def trigger_save():\n",
    "    save_thread = threading.Thread(target=save_notebook)\n",
    "    save_thread.start()\n",
    "\n",
    "###### Used for loading notebooks. ######\n",
    "import queue\n",
    "\n",
    "load_lock = threading.Lock()\n",
    "result_queue = queue.Queue()\n",
    "\n",
    "def load_notebook():\n",
    "    with load_lock:\n",
    "        result = subprocess.run('su - USERNAME_GOES_HERE -c \"/home/USERNAME_GOES_HERE/notebooks/resources/load.py firewalls\"', shell=True, capture_output=True, text=True)\n",
    "        result_queue.put(result)  # Put the result in the queue.\n",
    "\n",
    "# Creating a thread to load the notebook.\n",
    "def trigger_load():\n",
    "    load_thread = threading.Thread(target=load_notebook)\n",
    "    load_thread.start()\n",
    "    load_thread.join()  # Wait for the thread to complete before adding result to the queue.\n",
    "    return result_queue.get()  # Get the result from the queue.\n",
    "\n",
    "###### Used for generating tables in Section 3. ######\n",
    "def generate_table(step):\n",
    "    # Create an \"offset\". Take the step number, subtract the offset, then that is the number of rows.\n",
    "    offset = 8\n",
    "    explanations = ['Add this rule to the ”filters” <strong>t</strong>able.', '<strong>A</strong>ppend to the OUTPUT chain.', 'Any packets that are <strong>o</strong>utbound from this interface will be affected.', 'All TCP <strong>p</strong>rotocols.',\n",
    "                    'From the <strong>s</strong>ource IP, which is your network.', 'To the <strong>d</strong>estination, Google.', 'To this <strong>d</strong>estination <strong>port</strong>.', '<strong>M</strong>atching a state.', 'With the <strong>state</strong> being a NEW state.', 'Will be <strong>j</strong>umped (DROPPED).']\n",
    "\n",
    "    final_rule = \"\"\n",
    "    \n",
    "    # Construct the start of the table.\n",
    "    table = \"<table class=\\\"center\\\"><tr><th style=\\\"text-align: center;\\\"><strong>Rule</strong></th><th style=\\\"text-align: center;\\\"><strong>Description</strong></th></tr>\"\n",
    "\n",
    "    # Create the sudo iptables row.\n",
    "    table += \"<tr><td style=\\\"font-family: 'Courier New', Courier, monospace;\\\">sudo iptables</td><td class=\\\"text-align: center;\\\">Calls the <span style=\\\"font-family: 'Courier New', Courier, monospace;\\\">iptables</span> command.</td></tr>\"\n",
    "    \n",
    "    # Get the total number of rows.\n",
    "    rows = step - offset\n",
    "\n",
    "    # Create a loop, and start generating the rows.\n",
    "    # This is being reversed so that the student's previous answers appear at the top of the table.\n",
    "    for offset in reversed(range(0, rows)):\n",
    "        # Get the student's response.\n",
    "        result = subprocess.run('ssh -i /home/USERNAME_GOES_HERE/.ssh/merge_key USERNAME_GOES_HERE@server \"cat /home/.checker/responses/step_' + str(step - offset) + '_answer.txt\"', shell=True, capture_output=True, text=True)\n",
    "\n",
    "        # Take the result from the statement above.\n",
    "        answers = (result.stdout).split()\n",
    "    \n",
    "        # Split every other space. So that all parameters and arguments are linked together.\n",
    "        answers = [\" \".join(answers[i:i+2]) for i in range(0, len(answers), 2)]\n",
    "\n",
    "        # For the multiple answers...\n",
    "        for answer in answers:\n",
    "            # Perform some condition checks to see which rule is getting added to the table.\n",
    "            if (answer.startswith(\"-t\")):\n",
    "                table += \"<tr><td style=\\\"font-family: 'Courier New', Courier, monospace;\\\">\" + answer + \"</td><td>\" + explanations[0] + \"</td></tr>\"\n",
    "\n",
    "            elif (answer.startswith(\"-A\")):\n",
    "                table += \"<tr><td style=\\\"font-family: 'Courier New', Courier, monospace;\\\">\" + answer + \"</td><td>\" + explanations[1] + \"</td></tr>\"\n",
    "\n",
    "            elif (answer.startswith(\"-o\")):\n",
    "                table += \"<tr><td style=\\\"font-family: 'Courier New', Courier, monospace;\\\">\" + answer + \"</td><td>\" + explanations[2] + \"</td></tr>\"\n",
    "\n",
    "            elif (answer.startswith(\"-p\")):\n",
    "                table += \"<tr><td style=\\\"font-family: 'Courier New', Courier, monospace;\\\">\" + answer + \"</td><td>\" + explanations[3] + \"</td></tr>\"\n",
    "\n",
    "            elif (answer.startswith(\"-s\")):\n",
    "                table += \"<tr><td style=\\\"font-family: 'Courier New', Courier, monospace;\\\">\" + answer + \"</td><td>\" + explanations[4] + \"</td></tr>\"\n",
    "\n",
    "            elif (answer.startswith(\"-d\")):\n",
    "                table += \"<tr><td style=\\\"font-family: 'Courier New', Courier, monospace;\\\">\" + answer + \"</td><td>\" + explanations[5] + \"</td></tr>\"\n",
    "\n",
    "            elif (answer.startswith(\"--dport\")):\n",
    "                table += \"<tr><td style=\\\"font-family: 'Courier New', Courier, monospace;\\\">\" + answer + \"</td><td>\" + explanations[6] + \"</td></tr>\"\n",
    "\n",
    "            elif (answer.startswith(\"-m\")):\n",
    "                table += \"<tr><td style=\\\"font-family: 'Courier New', Courier, monospace;\\\">\" + answer + \"</td><td>\" + explanations[7] + \"</td></tr>\"\n",
    "\n",
    "            elif (answer.startswith(\"--state\")):\n",
    "                table += \"<tr><td style=\\\"font-family: 'Courier New', Courier, monospace;\\\">\" + answer + \"</td><td>\" + explanations[8] + \"</td></tr>\"\n",
    "\n",
    "            elif (answer.startswith(\"-j\")):\n",
    "                table += \"<tr><td style=\\\"font-family: 'Courier New', Courier, monospace;\\\">\" + answer + \"</td><td>\" + explanations[9] + \"</td></tr>\"\n",
    "\n",
    "            final_rule += answer + \" \"\n",
    "\n",
    "    # Table is complete. Closing it.\n",
    "    table += \"</table><br>\"\n",
    "\n",
    "    # The full rule so far:\n",
    "    table += \"<span><strong>Your rule:</strong> <span style=\\\"font-family: 'Courier New', Courier, monospace;\\\">sudo iptables \" + final_rule + \"</span></span>\"\n",
    "\n",
    "    # Finally, returning it.\n",
    "    return table"
   ]
  },
  {
   "cell_type": "markdown",
   "metadata": {},
   "source": [
    "### Step 0: Begin the experiment.\n",
    "\n",
    "Click the button to begin creating the experiment."
   ]
  },
  {
   "cell_type": "code",
   "execution_count": 2,
   "metadata": {
    "jupyter": {
     "source_hidden": true
    }
   },
   "outputs": [
    {
     "data": {
      "application/vnd.jupyter.widget-view+json": {
       "model_id": "6472b4afb3544d5cbb088b7fe9585763",
       "version_major": 2,
       "version_minor": 0
      },
      "text/plain": [
       "Button(description='Start Lab', style=ButtonStyle())"
      ]
     },
     "metadata": {},
     "output_type": "display_data"
    },
    {
     "data": {
      "application/vnd.jupyter.widget-view+json": {
       "model_id": "030df8fafd1d4212ad90ca73ded021c5",
       "version_major": 2,
       "version_minor": 0
      },
      "text/plain": [
       "Output()"
      ]
     },
     "metadata": {},
     "output_type": "display_data"
    }
   ],
   "source": [
    "# Click the button below to start the experiment.\n",
    "def startlab(button):\n",
    "    # Defining the lab name.\n",
    "    labname = \"firewalls\"\n",
    "\n",
    "    # Writing the information to an empty field below the button.\n",
    "    with output0:\n",
    "        output0.clear_output()\n",
    "        \n",
    "        # First, checking if the materialization exists. May have been stopped by a previous lab.\n",
    "        materialPattern = \"real.\" + labname + \"jup.umdsec[a-z]{1,2}\"\n",
    "\n",
    "        # Listing the materializations to find if there's an existing one for this lab.\n",
    "        checkMaterial = os.popen('su - USERNAME_GOES_HERE -c \"mrg list materializations\"').read()\n",
    "        regex = re.compile(materialPattern)\n",
    "        # Getting the matches:\n",
    "        match = regex.search(checkMaterial)\n",
    "\n",
    "        if match:\n",
    "            display(HTML(\"<span style='color: orange;'>An existing materialization for this lab already exists. </span><span>You might have ran another \\\n",
    "            lab without stopping this one. Attaching the existing materialization.</span>\"))\n",
    "            subprocess.run(f'su - USERNAME_GOES_HERE -c \"mrg xdc attach xdc '+ match.group(0) + '\"', capture_output=True, text=True, shell=True)\n",
    "            display(HTML(\"<newline><span style='color: green;'><strong>Setup complete. You may begin the lab! </strong></span>\" \\\n",
    "                         \"<span>When you're finished, close your lab at the bottom of the notebook.</span>\"))\n",
    "        \n",
    "        else:\n",
    "            display(HTML(\"<span>No existing materializations are found.</span>\"))\n",
    "        \n",
    "            # Second, start the lab.\n",
    "            display(HTML(\"<span>Starting \" + labname + \" lab. This will take a few minutes to process. Please wait.</span> \\\n",
    "            <span><img width='12px' height='12px' style='margin-left: 3px;' src='resources/loading.gif'></span>\"))\n",
    "            startexp = subprocess.run('su - USERNAME_GOES_HERE -c \"bash /share/startexp ' + labname + '\"', capture_output=True, text=True, shell=True)\n",
    "            output0.clear_output()\n",
    "            display(HTML(\"<span>Done. Result:</span>\"))\n",
    "            print(startexp.stdout)\n",
    "\n",
    "            # Another lab is already attached to the XDC.\n",
    "            if ((\"XDC already attached\") in startexp.stdout):\n",
    "                existingLab = re.search(r\"real.(.*).umdsec[a-z]{1,2}\", startexp.stdout).group(1)\n",
    "\n",
    "                # Shouldn't happen.\n",
    "                if (labname == existingLab):\n",
    "                    display(HTML(\"<span style='color: red;'>Your lab was already started. </span><span>Please continue to the next step.</span>\"))\n",
    "\n",
    "                # Detaching the existing lab, then attaching the current one.\n",
    "                else:\n",
    "                    display(HTML(\"<span style='color: orange;'>Warning: You did not stop your previous experiment. </span><span>Please stop your experiments \\\n",
    "                    before starting a new one. Detaching the \" + existingLab + \" experiment.</span>\"))\n",
    "                    os.popen('su - USERNAME_GOES_HERE -c \"mrg xdc detach xdc.USERNAME_GOES_HERE\"')\n",
    "                    display(HTML(\"<span>Attaching the current lab.</span>\"))\n",
    "                    os.popen('su - USERNAME_GOES_HERE -c \"mrg xdc attach xdc ' + materialPattern + '\"')\n",
    "    \n",
    "            # Third, get the lab materials onto the node.\n",
    "            display(HTML(\"<span>Allocating lab resources onto the node. <u>Please wait a little longer...</u></span>\"))\n",
    "            runlab = subprocess.run('su - USERNAME_GOES_HERE -c \"bash /home/runlab ' + labname + '\"', capture_output=True, text=True, shell=True)\n",
    "            display(HTML(\"<newline><span style='color: green;'><strong>Setup complete. You may begin the lab! </strong></span>\" \\\n",
    "                         \"<span>When you're finished, close your lab at the bottom of the notebook. Your lab will be active for one week.</span>\"))\n",
    "\n",
    "# Creating the button.\n",
    "startButton = widgets.Button(description=\"Start Lab\")\n",
    "\n",
    "# Creating an output area.\n",
    "output0 = widgets.Output()\n",
    "\n",
    "# Run the command on click.\n",
    "startButton.on_click(startlab)\n",
    "\n",
    "# Display the output.\n",
    "display(startButton, output0)"
   ]
  },
  {
   "cell_type": "markdown",
   "metadata": {},
   "source": [
    "<hr>\n",
    "If you previously stopped your lab, you may restore your progress below by clicking \"Load Lab\". <u>You do not have to load your lab if you signed out, closed your notebook, or exited your node(s) or XDC by using ```exit```.</u>"
   ]
  },
  {
   "cell_type": "code",
   "execution_count": 3,
   "metadata": {
    "jupyter": {
     "source_hidden": true
    }
   },
   "outputs": [
    {
     "data": {
      "application/vnd.jupyter.widget-view+json": {
       "model_id": "75b56a81a48a4851a8f14871f04a2679",
       "version_major": 2,
       "version_minor": 0
      },
      "text/plain": [
       "Button(description='Load Lab', style=ButtonStyle())"
      ]
     },
     "metadata": {},
     "output_type": "display_data"
    },
    {
     "data": {
      "application/vnd.jupyter.widget-view+json": {
       "model_id": "3d3527da779c4c8f8296b79e18bdbbce",
       "version_major": 2,
       "version_minor": 0
      },
      "text/plain": [
       "Output()"
      ]
     },
     "metadata": {},
     "output_type": "display_data"
    }
   ],
   "source": [
    "# Click the button below to load your lab.\n",
    "def loadlab(b):\n",
    "    with output0_2:\n",
    "        output0_2.clear_output()\n",
    "        display(HTML(\"<span>Searching for an existing lab in your notebook...</span>\"))\n",
    "\n",
    "    if (os.path.exists(\"/home/USERNAME_GOES_HERE/notebooks/saves/USERNAME_GOES_HERE_firewalls.tar.gz\")):\n",
    "        with output0_2:\n",
    "            output0_2.clear_output()\n",
    "            display(HTML(\"<span>Loading your lab...</span> \\\n",
    "                <span><img width='12px' height='12px' style='margin-left: 3px;' src='resources/loading.gif'></span>\"))\n",
    "            result = trigger_load()\n",
    "            if (result.returncode == 0):\n",
    "                output0_2.clear_output()\n",
    "                display(HTML(\"<span style='color: green;'>Your lab has been successfully loaded. Please click on the <img width='20px' height='20px' style='margin-left: 1px;' src='resources/fast_forward.png'> icon at the top of your notebook to reflect your changes.</span>\"))\n",
    "            elif (result.returncode == 2):\n",
    "                output0_2.clear_output()\n",
    "                display(HTML(\"<span style='color: red;'>The server node is inaccessible. Please start your lab. If you have already started it, wait a minute and try again.</span>\"))\n",
    "            else:\n",
    "                output0_2.clear_output()\n",
    "                display(HTML(\"<span style='color: red;'>An error occurred while loading your lab.</span>\"))\n",
    "\n",
    "# Creating the button.\n",
    "loadButton = widgets.Button(description=\"Load Lab\")\n",
    "\n",
    "# Creating an output area.\n",
    "output0_2 = widgets.Output()\n",
    "\n",
    "# Run the command on click.\n",
    "loadButton.on_click(loadlab)\n",
    "\n",
    "# Display the output.\n",
    "display(loadButton, output0_2)"
   ]
  },
  {
   "cell_type": "markdown",
   "metadata": {},
   "source": [
    "## <strong>Topic 1: Basic Unix Tools for Networking</strong>\n",
    "\n",
    "Before diving into firewalls, it's important to learn what tools are available to you for examining network connections. You will be provided a few tools that can assist you with checking the work that you make throughout the lab.\n",
    "\n",
    "<span style=\"color: red;\"><strong><img src=\"resources/alert.png\" style=\"width: 12px\"> Important:</strong></span> The firewall lab does NOT have a ```firewall``` node. There are two separate nodes for this lab, and you will be setting up different firewall rules on the ```server``` and ```client``` nodes. When you access your lab, use ```ssh server``` and ```ssh client```. <strong>SSH'ing to a ```firewall``` node will not work!</strong>"
   ]
  },
  {
   "cell_type": "markdown",
   "metadata": {},
   "source": [
    "### Step 1: ```nmap``` - \"<u>N</u>etwork <u>Map</u>ping\"\n",
    "\n",
    "```nmap``` is a useful tool that shows what ports that a website has access to your device. When using ```nmap```, you may call a website as an argument to see what ports that it uses on your machine. ```nmap``` has many additional uses, but for the purpose of this notebook, it will only be used to display the ports used by connections.\n",
    "\n",
    "If you're interested in learning more about the uses of ```nmap```, you may check out some examples provided by the developers <a href=\"https://nmap.org/book/man-examples.html\">here</a>.\n",
    "\n",
    "<strong>Your task</strong>: Type a command below that uses ```nmap```, which displays the ports that <span style=\"color: blue;\">yahoo.com</span> uses on your device. Do this in the ```server``` node."
   ]
  },
  {
   "cell_type": "code",
   "execution_count": 4,
   "metadata": {
    "jupyter": {
     "source_hidden": true
    }
   },
   "outputs": [
    {
     "data": {
      "application/vnd.jupyter.widget-view+json": {
       "model_id": "a65c57f6ce564d1590f4ecfbad95ddfe",
       "version_major": 2,
       "version_minor": 0
      },
      "text/plain": [
       "Output()"
      ]
     },
     "metadata": {},
     "output_type": "display_data"
    },
    {
     "data": {
      "application/vnd.jupyter.widget-view+json": {
       "model_id": "0f14765e8a584949af150e06b3bca183",
       "version_major": 2,
       "version_minor": 0
      },
      "text/plain": [
       "Text(value='nmap yahoo.com', description='Command:', layout=Layout(width='90%'), placeholder='Type your nmap c…"
      ]
     },
     "metadata": {},
     "output_type": "display_data"
    },
    {
     "data": {
      "application/vnd.jupyter.widget-view+json": {
       "model_id": "b65fb32cacea4d23a9d08323f6b03ccf",
       "version_major": 2,
       "version_minor": 0
      },
      "text/plain": [
       "Button(description='Check Command', style=ButtonStyle())"
      ]
     },
     "metadata": {},
     "output_type": "display_data"
    },
    {
     "data": {
      "application/vnd.jupyter.widget-view+json": {
       "model_id": "16893f33af1b4ebf9fbe3a4997b2e956",
       "version_major": 2,
       "version_minor": 0
      },
      "text/plain": [
       "Output()"
      ]
     },
     "metadata": {},
     "output_type": "display_data"
    }
   ],
   "source": [
    "# Click the button below to check your work.\n",
    "step1Complete = False\n",
    "\n",
    "# Function to check if the student's answer was correct.\n",
    "def step_1():\n",
    "    # Required to change boolean values.\n",
    "    global step1Complete\n",
    "\n",
    "    # Loading, in case the check is slow.\n",
    "    with output1:\n",
    "        output1.clear_output()\n",
    "        display(HTML(\"<span><img width='12px' height='12px' style='margin-left: 3px;' src='resources/loading.gif'></span>\"))\n",
    "\n",
    "    # First, check to see if the field is empty.\n",
    "    if (userInput1.value == \"\"):\n",
    "        output1.clear_output()\n",
    "        with output1:\n",
    "            display(HTML(\"<span style='color: red;'>You did not provide input for this step.</span>\"))\n",
    "            step1Complete = False\n",
    "\n",
    "    # Next, check to make sure that the wget command is used.\n",
    "    pattern = r'^nmap'\n",
    "    if (not re.match(pattern, userInput1.value)):\n",
    "        output1.clear_output()\n",
    "        with output1:\n",
    "            display(HTML(\"<span style='color: red;'>Your answer does not use nmap.</span>\"))\n",
    "            step1Complete = False\n",
    "\n",
    "    else:\n",
    "        user_input = userInput1.value\n",
    "        escaped_user_input = user_input.replace('\"', '\\\\\"').replace(\"'\", \"'\\\\''\")\n",
    "\n",
    "        # Construct the SSH command for testing the student's response.\n",
    "        test_response = f\"\"\"ssh -i /home/USERNAME_GOES_HERE/.ssh/merge_key USERNAME_GOES_HERE@server \"/home/.checker/section_1.py 1 '{escaped_user_input}'\" \"\"\"\n",
    "        result = subprocess.run(test_response, shell=True, stdout=subprocess.PIPE, stderr=subprocess.PIPE)\n",
    "        \n",
    "        # Construct the SSH command for saving the student's response.\n",
    "        save_command = f\"\"\"ssh -i /home/USERNAME_GOES_HERE/.ssh/merge_key USERNAME_GOES_HERE@server \"echo '{escaped_user_input}' > /home/.checker/responses/step_1_answer.txt\" \"\"\"\n",
    "        save_result = subprocess.run(save_command, shell=True, stdout=subprocess.PIPE, stderr=subprocess.PIPE)\n",
    "        \n",
    "        if (result.returncode == 1):\n",
    "            output1.clear_output()\n",
    "            with output1:\n",
    "                display(HTML(\"<span style='color: green;'>Correct!</span>\"))\n",
    "                step1Complete = True\n",
    "        \n",
    "        elif (result.returncode == 0):\n",
    "            output1.clear_output()\n",
    "            with output1:\n",
    "                display(HTML(\"<span style='color: red;'>The command that you provided is incorrect.</span>\"))\n",
    "                step1Complete = False\n",
    "\n",
    "        elif (result.returncode == 2):\n",
    "            output1.clear_output()\n",
    "            with output1:\n",
    "                display(HTML(\"<span style='color: red;'>An error occurred. Please contact your professor or TA.</span>\"))\n",
    "                step1Complete = False\n",
    "\n",
    "        \n",
    "def check_step_1(b):\n",
    "    step_1()\n",
    "\n",
    "    # Auto-save.\n",
    "    if (not runAllSteps):\n",
    "        trigger_save()\n",
    "\n",
    "# Retrieve the student's response. First, create a loading spinner, since this could take a second or two.\n",
    "loading1 = widgets.Output()\n",
    "display(loading1)\n",
    "with loading1:\n",
    "    loading1.clear_output()\n",
    "    display(HTML(\"<span>Loading your saved response... <img width='12px' height='12px' style='margin-left: 3px;' src='resources/loading.gif'></span>\"))\n",
    "\n",
    "# Creating a text area.\n",
    "userInput1 = widgets.Text(\n",
    "    placeholder='Type your nmap command here',\n",
    "    description='Command:',\n",
    "    layout=widgets.Layout(width='90%')\n",
    ")\n",
    "\n",
    "# Checking if the step has been answered.\n",
    "result = subprocess.run('ssh -o StrictHostKeyChecking=no -i /home/USERNAME_GOES_HERE/.ssh/merge_key USERNAME_GOES_HERE@server \"cat /home/.checker/responses/step_1_answer.txt 2> /dev/null\"', capture_output=True, text=True, shell=True)\n",
    "# Trim the newline.\n",
    "userInput1.value = result.stdout[:-1]\n",
    "\n",
    "# After the student's response was loaded, clear the output.\n",
    "loading1.clear_output()\n",
    "\n",
    "# Creating the button.\n",
    "button = widgets.Button(description=\"Check Command\")\n",
    "\n",
    "# Creating an output area.\n",
    "output1 = widgets.Output()\n",
    "\n",
    "# Run the command on click.\n",
    "button.on_click(check_step_1)\n",
    "\n",
    "# Display the output.\n",
    "display(userInput1, button, output1)"
   ]
  },
  {
   "cell_type": "markdown",
   "metadata": {},
   "source": [
    "### Step 2: ```ifconfig``` - \"<u>I</u>nter<u>f</u>ace <u>Config</u>uration\"\n",
    "\n",
    "```ifconfig``` is used to view and configure the network interfaces on your device. Network interfaces can be physical hardware components such as Wi-Fi adapters and Ethernet connections that send and receive data over the internet. Each type of connection, whether it's a Wi-Fi adapter, Ethernet connection, or even a virtual network interface, is treated as a separate interface by the operating system. \n",
    "\n",
    "For example, using a Wi-Fi dongle on a device that already has an internal network adapter will result in two different interfaces being displayed by ```ifconfig```. \n",
    "\n",
    "<strong>Your task</strong>: Use ```ifconfig``` in the ```server``` node. In the field below, type the name of the network interface whose IP address is ```10.0.1.1```."
   ]
  },
  {
   "cell_type": "code",
   "execution_count": 5,
   "metadata": {
    "jupyter": {
     "source_hidden": true
    }
   },
   "outputs": [
    {
     "data": {
      "application/vnd.jupyter.widget-view+json": {
       "model_id": "599ff12fb5304ebd9abb6592764fbadc",
       "version_major": 2,
       "version_minor": 0
      },
      "text/plain": [
       "Output()"
      ]
     },
     "metadata": {},
     "output_type": "display_data"
    },
    {
     "data": {
      "application/vnd.jupyter.widget-view+json": {
       "model_id": "79d11e0baff644a8a84131e757252fdb",
       "version_major": 2,
       "version_minor": 0
      },
      "text/plain": [
       "Text(value='eth1', description='Interface:', layout=Layout(width='90%'), placeholder='Type your network interf…"
      ]
     },
     "metadata": {},
     "output_type": "display_data"
    },
    {
     "data": {
      "application/vnd.jupyter.widget-view+json": {
       "model_id": "c9bb635d911143e9b7d21f6b573fbf84",
       "version_major": 2,
       "version_minor": 0
      },
      "text/plain": [
       "Button(description='Check Interface', style=ButtonStyle())"
      ]
     },
     "metadata": {},
     "output_type": "display_data"
    },
    {
     "data": {
      "application/vnd.jupyter.widget-view+json": {
       "model_id": "3226810d7df54b7bbbec4e549573bff9",
       "version_major": 2,
       "version_minor": 0
      },
      "text/plain": [
       "Output()"
      ]
     },
     "metadata": {},
     "output_type": "display_data"
    }
   ],
   "source": [
    "# Click the button below to check your work.\n",
    "step2Complete = False\n",
    "\n",
    "# Function to check if the student's answer was correct.\n",
    "def step_2():\n",
    "    # Required to change boolean values.\n",
    "    global step2Complete\n",
    "\n",
    "    # Loading, in case the check is slow.\n",
    "    with output2:\n",
    "        output2.clear_output()\n",
    "        display(HTML(\"<span><img width='12px' height='12px' style='margin-left: 3px;' src='resources/loading.gif'></span>\"))\n",
    "\n",
    "    # First, check to see if the field is empty.\n",
    "    if (userInput2.value == \"\"):\n",
    "        output2.clear_output()\n",
    "        with output2:\n",
    "            display(HTML(\"<span style='color: red;'>You did not provide input for this step.</span>\"))\n",
    "            step2Complete = False\n",
    "\n",
    "    else:\n",
    "        user_input = userInput2.value\n",
    "        escaped_user_input = user_input.replace('\"', '\\\\\"').replace(\"'\", \"'\\\\''\")\n",
    "\n",
    "        # Construct the SSH command for testing the student's response.\n",
    "        test_response = f\"\"\"ssh -i /home/USERNAME_GOES_HERE/.ssh/merge_key USERNAME_GOES_HERE@server \"/home/.checker/section_1.py 2 '{escaped_user_input}'\" \"\"\"\n",
    "        result = subprocess.run(test_response, shell=True, stdout=subprocess.PIPE, stderr=subprocess.PIPE)\n",
    "        \n",
    "        # Construct the SSH command for saving the student's response.\n",
    "        save_command = f\"\"\"ssh -i /home/USERNAME_GOES_HERE/.ssh/merge_key USERNAME_GOES_HERE@server \"echo '{escaped_user_input}' > /home/.checker/responses/step_2_answer.txt\" \"\"\"\n",
    "        save_result = subprocess.run(save_command, shell=True, stdout=subprocess.PIPE, stderr=subprocess.PIPE)\n",
    "        \n",
    "        if (result.returncode == 1):\n",
    "            output2.clear_output()\n",
    "            with output2:\n",
    "                display(HTML(\"<span style='color: green;'>Correct!</span>\"))\n",
    "                step2Complete = True\n",
    "        \n",
    "        elif (result.returncode == 0):\n",
    "            output2.clear_output()\n",
    "            with output2:\n",
    "                display(HTML(\"<span style='color: red;'>The command that you provided is incorrect.</span>\"))\n",
    "                step2Complete = False\n",
    "\n",
    "        elif (result.returncode == 2):\n",
    "            output2.clear_output()\n",
    "            with output2:\n",
    "                display(HTML(\"<span style='color: red;'>An error occurred. Please contact your professor or TA.</span>\"))\n",
    "                step2Complete = False\n",
    "\n",
    "        \n",
    "def check_step_2(b):\n",
    "    step_2()\n",
    "\n",
    "    # Auto-save.\n",
    "    if (not runAllSteps):\n",
    "        trigger_save()\n",
    "\n",
    "# Retrieve the student's response. First, create a loading spinner, since this could take a second or two.\n",
    "loading2 = widgets.Output()\n",
    "display(loading2)\n",
    "with loading2:\n",
    "    loading2.clear_output()\n",
    "    display(HTML(\"<span>Loading your saved response... <img width='12px' height='12px' style='margin-left: 3px;' src='resources/loading.gif'></span>\"))\n",
    "\n",
    "# Creating a text area.\n",
    "userInput2 = widgets.Text(\n",
    "    placeholder='Type your network interface here',\n",
    "    description='Interface:',\n",
    "    layout=widgets.Layout(width='90%')\n",
    ")\n",
    "\n",
    "# Checking if the step has been answered.\n",
    "result = subprocess.run('ssh -o StrictHostKeyChecking=no -i /home/USERNAME_GOES_HERE/.ssh/merge_key USERNAME_GOES_HERE@server \"cat /home/.checker/responses/step_2_answer.txt 2> /dev/null\"', capture_output=True, text=True, shell=True)\n",
    "# Trim the newline.\n",
    "userInput2.value = result.stdout[:-1]\n",
    "\n",
    "# After the student's response was loaded, clear the output.\n",
    "loading2.clear_output()\n",
    "\n",
    "# Creating the button.\n",
    "button = widgets.Button(description=\"Check Interface\")\n",
    "\n",
    "# Creating an output area.\n",
    "output2 = widgets.Output()\n",
    "\n",
    "# Run the command on click.\n",
    "button.on_click(check_step_2)\n",
    "\n",
    "# Display the output.\n",
    "display(userInput2, button, output2)"
   ]
  },
  {
   "cell_type": "markdown",
   "metadata": {},
   "source": [
    "### Step 3: ```telnet``` - \"<u>Tel</u>e-<u>Net</u>work\"\n",
    "\n",
    "```telnet``` is a cleartext remote terminal protocol. On the surface, ```telnet``` is very simple: the user issues commands over a TCP socket, and the server replies with the results of those commands and waits for more input. ```telnet``` is one of the simplest and oldest network protocols still in use. Due to its cleartext nature and low-level access to the system, ```telnet``` is incredibly insecure. \n",
    "\n",
    "In the past, it was common for system administrators to log in as root using telnet on a network connection that could be easily sniffed by any sufficiently prepared attacker. This lack of encryption means that usernames, passwords, and other sensitive data are transmitted in plaintext, making it vulnerable to interception.\n",
    "\n",
    "Telnetting to a suspected open port is still one of the fastest ways to see if a service is available or reachable. Here is an example of a ```telnet``` request.\n",
    "\n",
    "```\n",
    "$ telnet yahoo.com 80\n",
    "\n",
    "Trying 66.94.234.13...\n",
    "Connected to yahoo.com.\n",
    "Escape character is '^]'.\n",
    "GET /\n",
    "...\n",
    "\n",
    "<html><head> ...[web page data] ...\n",
    "</body>\n",
    "</html>\n",
    "\n",
    "Connection closed by foreign host.\n",
    "```\n",
    "\n",
    "A small breakdown of what's being typed:\n",
    "- ```telnet yahoo.com 80``` calls Yahoo with an HTTP request, which is port 80.\n",
    "- ```GET /``` gets the index page of Yahoo, which is ```http://www.yahoo.com/```. Anything appears after the end of the URL (the ```/```) appears in the HTTP response. If you wanted to get a specific webpage, like ```/watch.html```, this would be in the GET request that you would use. \n",
    "\n",
    "Telnetnetting to an IP and port (see above) should return a \"connected\" message if it is possible to connect to a running server.\n",
    "\n",
    "<strong>Your task</strong>: Use ```telnet``` to retrieve <span style=\"color: blue;\">https://scse.d.umn.edu/majors-minors</span>. Note the use of ```https``` within the URL. An ```https``` request uses port ```443```. Once you have a working connection, type the ```telnet``` command that you used, as well as the ```HTTP``` argument that you used to retrieve the webpage."
   ]
  },
  {
   "cell_type": "code",
   "execution_count": 6,
   "metadata": {
    "jupyter": {
     "source_hidden": true
    }
   },
   "outputs": [
    {
     "data": {
      "application/vnd.jupyter.widget-view+json": {
       "model_id": "0372e24bd2114d309ff39ad1b61b091b",
       "version_major": 2,
       "version_minor": 0
      },
      "text/plain": [
       "Output()"
      ]
     },
     "metadata": {},
     "output_type": "display_data"
    },
    {
     "data": {
      "application/vnd.jupyter.widget-view+json": {
       "model_id": "2b074aa9e9b4420b9648acdbee45cec5",
       "version_major": 2,
       "version_minor": 0
      },
      "text/plain": [
       "Text(value='telnet scse.d.umn.edu 443', description='Command:', layout=Layout(width='90%'), placeholder='Type …"
      ]
     },
     "metadata": {},
     "output_type": "display_data"
    },
    {
     "data": {
      "application/vnd.jupyter.widget-view+json": {
       "model_id": "cd905ad2eebf45c79fb081689039067c",
       "version_major": 2,
       "version_minor": 0
      },
      "text/plain": [
       "Text(value='GET /majors-minors', description='Response:', layout=Layout(width='90%'), placeholder='Type your t…"
      ]
     },
     "metadata": {},
     "output_type": "display_data"
    },
    {
     "data": {
      "application/vnd.jupyter.widget-view+json": {
       "model_id": "0161a534ecaa4768b29d89d2148ebdc5",
       "version_major": 2,
       "version_minor": 0
      },
      "text/plain": [
       "Button(description='Check Commands', style=ButtonStyle())"
      ]
     },
     "metadata": {},
     "output_type": "display_data"
    },
    {
     "data": {
      "application/vnd.jupyter.widget-view+json": {
       "model_id": "5d02479227b643e9a53cb265b0babf96",
       "version_major": 2,
       "version_minor": 0
      },
      "text/plain": [
       "Output()"
      ]
     },
     "metadata": {},
     "output_type": "display_data"
    }
   ],
   "source": [
    "# Click the button below to check your work.\n",
    "step3Complete = False\n",
    "\n",
    "# Function to check if the student's answer was correct.\n",
    "def step_3():\n",
    "    # Required to change boolean values.\n",
    "    global step3Complete\n",
    "\n",
    "    # Loading, in case the check is slow.\n",
    "    with output3:\n",
    "        output3.clear_output()\n",
    "        display(HTML(\"<span><img width='12px' height='12px' style='margin-left: 3px;' src='resources/loading.gif'></span>\"))\n",
    "\n",
    "    # First, check to see if the field is empty.\n",
    "    if (userInput3_1.value == \"\" or userInput3_2.value == \"\"):\n",
    "        output3.clear_output()\n",
    "        with output3:\n",
    "            display(HTML(\"<span style='color: red;'>One of your input fields is empty.</span>\"))\n",
    "            step3Complete = False\n",
    "\n",
    "    # Next, check to make sure that the telnet command is used.\n",
    "    elif (not re.match(r'^telnet', userInput3_1.value)):\n",
    "        output3.clear_output()\n",
    "        with output3:\n",
    "            display(HTML(\"<span style='color: red;'>Your answer does not use telnet.</span>\"))\n",
    "            step3Complete = False\n",
    "\n",
    "    else:\n",
    "        user_input = userInput3_1.value + \"\\n\" + userInput3_2.value\n",
    "        escaped_user_input = user_input.replace('\"', '\\\\\"').replace(\"'\", \"'\\\\''\")\n",
    "\n",
    "        # Construct the SSH command for testing the student's response.\n",
    "        test_response = f\"\"\"ssh -i /home/USERNAME_GOES_HERE/.ssh/merge_key USERNAME_GOES_HERE@server \"/home/.checker/section_1.py 3 '{escaped_user_input}'\" \"\"\"\n",
    "        result = subprocess.run(test_response, shell=True, stdout=subprocess.PIPE, stderr=subprocess.PIPE)\n",
    "        \n",
    "        # Construct the SSH command for saving the student's response.\n",
    "        save_command = f\"\"\"ssh -i /home/USERNAME_GOES_HERE/.ssh/merge_key USERNAME_GOES_HERE@server \"echo '{escaped_user_input}' > /home/.checker/responses/step_3_answer.txt\" \"\"\"\n",
    "        save_result = subprocess.run(save_command, shell=True, stdout=subprocess.PIPE, stderr=subprocess.PIPE)\n",
    "        \n",
    "        if (result.returncode == 1):\n",
    "            output3.clear_output()\n",
    "            with output3:\n",
    "                display(HTML(\"<span style='color: green;'>Correct!</span>\"))\n",
    "                step3Complete = True\n",
    "        \n",
    "        elif (result.returncode == 0):\n",
    "            output3.clear_output()\n",
    "            with output3:\n",
    "                display(HTML(\"<span style='color: red;'>The command that you provided is incorrect.</span>\"))\n",
    "                step3Complete = False\n",
    "\n",
    "        elif (result.returncode == 2):\n",
    "            output3.clear_output()\n",
    "            with output3:\n",
    "                display(HTML(\"<span style='color: red;'>An error occurred. Please contact your professor or TA.</span>\"))\n",
    "                step3Complete = False\n",
    "\n",
    "        \n",
    "def check_step_3(b):\n",
    "    step_3()\n",
    "\n",
    "    # Auto-save.\n",
    "    if (not runAllSteps):\n",
    "        trigger_save()\n",
    "\n",
    "# Retrieve the student's response. First, create a loading spinner, since this could take a second or two.\n",
    "loading3 = widgets.Output()\n",
    "display(loading3)\n",
    "with loading3:\n",
    "    loading3.clear_output()\n",
    "    display(HTML(\"<span>Loading your saved response... <img width='12px' height='12px' style='margin-left: 3px;' src='resources/loading.gif'></span>\"))\n",
    "\n",
    "# Creating two text areas.\n",
    "userInput3_1 = widgets.Text(\n",
    "    placeholder='Type your telnet command here',\n",
    "    description='Command:',\n",
    "    layout=widgets.Layout(width='90%')\n",
    ")\n",
    "\n",
    "userInput3_2 = widgets.Text(\n",
    "    placeholder='Type your telnet response here',\n",
    "    description='Response:',\n",
    "    layout=widgets.Layout(width='90%')\n",
    ")\n",
    "\n",
    "# Checking if the step has been answered.\n",
    "result = subprocess.run('ssh -o StrictHostKeyChecking=no -i /home/USERNAME_GOES_HERE/.ssh/merge_key USERNAME_GOES_HERE@server \"cat /home/.checker/responses/step_3_answer.txt 2> /dev/null\"', capture_output=True, text=True, shell=True)\n",
    "\n",
    "userInput3_1.value = \"\"\n",
    "userInput3_2.value = \"\"\n",
    "\n",
    "if (result.stdout != \"\"):\n",
    "    # Split the results.\n",
    "    split_result = (result.stdout).split(\"\\n\")\n",
    "    \n",
    "    # Trim the newline.\n",
    "    userInput3_1.value = split_result[0]\n",
    "    userInput3_2.value = split_result[1]\n",
    "\n",
    "# After the student's response was loaded, clear the output.\n",
    "loading3.clear_output()\n",
    "\n",
    "# Creating the button.\n",
    "button = widgets.Button(description=\"Check Commands\")\n",
    "\n",
    "# Creating an output area.\n",
    "output3 = widgets.Output()\n",
    "\n",
    "# Run the command on click.\n",
    "button.on_click(check_step_3)\n",
    "\n",
    "# Display the output.\n",
    "display(userInput3_1, userInput3_2, button, output3)"
   ]
  },
  {
   "cell_type": "markdown",
   "metadata": {},
   "source": [
    "### Step 4: ```nc``` - \"<u>N</u>et<u>c</u>at\"\n",
    "\n",
    "```nc``` is a Unix utility for creating and using TCP and UDP sockets. In a very simplified way, ```nc``` is like a telnet client and server without any built in protocol or terminal emulation. Another way of putting it is that netcat is the bare essentials for creating a TCP or UDP socket and client, with hooks for using standard in and standard out for IO.\n",
    "\n",
    "Netcat can be used for several purposes, such as: Sending messages to computers, debugging connection issues, scanning for open ports on a remote host (```nc -zv hostname 20-80``` scans between ports 20-80 on the specified hostname), transferring files, creating a backdoor (which bypasses security systems), connecting to a remote shell, and a lot more.\n",
    "\n",
    "<strong>Your task</strong>: On the ```server``` node, set up a server that listens for UDP protocols, and listen on port 10000. On the ```client``` node, set up a connection to the ```server``` node that sends UDP packets to ```server``` on port 10000. Once you have set this up, try sending a message through ```client``` to see if it will be displayed on ```server```.\n",
    "\n",
    "There are text entries below, where you will type in the commands that you used to set up ```server``` and ```client```. Once you have a working \"chatroom\", type the two commands below that worked. They will be tested.\n",
    "\n",
    "<span style=\"color: green\"><strong><img src=\"resources/idea.png\" style=\"width: 12px\"> Tips:</strong></span> \n",
    "- When using the ```nc``` command, you will need to use ```-u``` which means \"UDP\", ```-l``` which means \"listen\", and ```-p``` which accepts a port number afterwards. When using ```nc``` to connect to another computer, you can simply just type ```nc -u <name> <port>``` to send messages with UDP protocols to a specified address/name.\n",
    "- Step 18 has an example of how to do this with step, but with UDP packets. <u>Do not use UDP packets for this step.</u>"
   ]
  },
  {
   "cell_type": "code",
   "execution_count": 7,
   "metadata": {
    "jupyter": {
     "source_hidden": true
    }
   },
   "outputs": [
    {
     "data": {
      "application/vnd.jupyter.widget-view+json": {
       "model_id": "20eeeccf835442f1a8bb44746be285a2",
       "version_major": 2,
       "version_minor": 0
      },
      "text/plain": [
       "Output()"
      ]
     },
     "metadata": {},
     "output_type": "display_data"
    },
    {
     "data": {
      "application/vnd.jupyter.widget-view+json": {
       "model_id": "e10f64cc288346f18f18c1bd09be823b",
       "version_major": 2,
       "version_minor": 0
      },
      "text/plain": [
       "Text(value='nc -u -l -p 10000', description='Server:', layout=Layout(width='90%'), placeholder=\"Type your serv…"
      ]
     },
     "metadata": {},
     "output_type": "display_data"
    },
    {
     "data": {
      "application/vnd.jupyter.widget-view+json": {
       "model_id": "b7c1e546fb9c4e1993dcfe1e8e833bf0",
       "version_major": 2,
       "version_minor": 0
      },
      "text/plain": [
       "Text(value='nc server 10000', description='Client:', layout=Layout(width='90%'), placeholder=\"Type your client…"
      ]
     },
     "metadata": {},
     "output_type": "display_data"
    },
    {
     "data": {
      "application/vnd.jupyter.widget-view+json": {
       "model_id": "b9eed145005246a6880759f1d6b7f4af",
       "version_major": 2,
       "version_minor": 0
      },
      "text/plain": [
       "Button(description='Check Commands', style=ButtonStyle())"
      ]
     },
     "metadata": {},
     "output_type": "display_data"
    },
    {
     "data": {
      "application/vnd.jupyter.widget-view+json": {
       "model_id": "1bed01ee473c48f995b512f781094125",
       "version_major": 2,
       "version_minor": 0
      },
      "text/plain": [
       "Output()"
      ]
     },
     "metadata": {},
     "output_type": "display_data"
    }
   ],
   "source": [
    "# Click the button below to check your work.\n",
    "step4Complete = False\n",
    "\n",
    "# Function to check if the student's answer was correct.\n",
    "def step_4():\n",
    "    # Required to change boolean values.\n",
    "    global step4Complete\n",
    "\n",
    "    # Loading, in case the check is slow.\n",
    "    with output4:\n",
    "        output4.clear_output()\n",
    "        display(HTML(\"<span><img width='12px' height='12px' style='margin-left: 3px;' src='resources/loading.gif'></span>\"))\n",
    "\n",
    "    # First, check to see if the field is empty.\n",
    "    if (userInput4_1.value == \"\" or userInput4_2.value == \"\"):\n",
    "        output4.clear_output()\n",
    "        with output4:\n",
    "            display(HTML(\"<span style='color: red;'>One of your input fields is empty.</span>\"))\n",
    "            step4Complete = False\n",
    "\n",
    "    # Next, check to make sure that the telnet command is used.\n",
    "    elif (not re.match(r'^nc', userInput4_1.value) or not re.match(r'^nc', userInput4_2.value)):\n",
    "        output4.clear_output()\n",
    "        with output4:\n",
    "            display(HTML(\"<span style='color: red;'>Your answer does not use telnet.</span>\"))\n",
    "            step4Complete = False\n",
    "\n",
    "    else:\n",
    "        user_input = userInput4_1.value + \"\\n\" + userInput4_2.value\n",
    "        escaped_user_input = user_input.replace('\"', '\\\\\"').replace(\"'\", \"'\\\\''\")\n",
    "\n",
    "        # Construct the SSH command for testing the student's response.\n",
    "        test_response = f\"\"\"ssh -i /home/USERNAME_GOES_HERE/.ssh/merge_key USERNAME_GOES_HERE@server \"/home/.checker/section_1.py 4 '{escaped_user_input}'\" \"\"\"\n",
    "        result = subprocess.run(test_response, shell=True, stdout=subprocess.PIPE, stderr=subprocess.PIPE)\n",
    "        \n",
    "        # Construct the SSH command for saving the student's response.\n",
    "        save_command = f\"\"\"ssh -i /home/USERNAME_GOES_HERE/.ssh/merge_key USERNAME_GOES_HERE@server \"echo '{escaped_user_input}' > /home/.checker/responses/step_4_answer.txt\" \"\"\"\n",
    "        save_result = subprocess.run(save_command, shell=True, stdout=subprocess.PIPE, stderr=subprocess.PIPE)\n",
    "        \n",
    "        if (result.returncode == 1):\n",
    "            output4.clear_output()\n",
    "            with output4:\n",
    "                display(HTML(\"<span style='color: green;'>Correct!</span>\"))\n",
    "                step4Complete = True\n",
    "        \n",
    "        elif (result.returncode == 0):\n",
    "            output4.clear_output()\n",
    "            with output4:\n",
    "                display(HTML(\"<span style='color: red;'>The command that you provided is incorrect.</span>\"))\n",
    "                step4Complete = False\n",
    "\n",
    "        elif (result.returncode == 2):\n",
    "            output4.clear_output()\n",
    "            with output4:\n",
    "                display(HTML(\"<span style='color: red;'>An error occurred. Please contact your professor or TA.</span>\"))\n",
    "                step4Complete = False\n",
    "\n",
    "        \n",
    "def check_step_4(b):\n",
    "    step_4()\n",
    "\n",
    "    # Auto-save.\n",
    "    if (not runAllSteps):\n",
    "        trigger_save()\n",
    "\n",
    "# Retrieve the student's response. First, create a loading spinner, since this could take a second or two.\n",
    "loading4 = widgets.Output()\n",
    "display(loading4)\n",
    "with loading4:\n",
    "    loading4.clear_output()\n",
    "    display(HTML(\"<span>Loading your saved response... <img width='12px' height='12px' style='margin-left: 3px;' src='resources/loading.gif'></span>\"))\n",
    "\n",
    "# Creating two text areas.\n",
    "userInput4_1 = widgets.Text(\n",
    "    placeholder='Type your server\\'s command here',\n",
    "    description='Server:',\n",
    "    layout=widgets.Layout(width='90%')\n",
    ")\n",
    "\n",
    "userInput4_2 = widgets.Text(\n",
    "    placeholder='Type your client\\'s command here',\n",
    "    description='Client:',\n",
    "    layout=widgets.Layout(width='90%')\n",
    ")\n",
    "\n",
    "# Checking if the step has been answered.\n",
    "result = subprocess.run('ssh -o StrictHostKeyChecking=no -i /home/USERNAME_GOES_HERE/.ssh/merge_key USERNAME_GOES_HERE@server \"cat /home/.checker/responses/step_4_answer.txt 2> /dev/null\"', capture_output=True, text=True, shell=True)\n",
    "\n",
    "userInput4_1.value = \"\"\n",
    "userInput4_2.value = \"\"\n",
    "\n",
    "if (result.stdout != \"\"):\n",
    "    # Split the results.\n",
    "    split_result = (result.stdout).split(\"\\n\")\n",
    "    \n",
    "    # Trim the newline.\n",
    "    userInput4_1.value = split_result[0]\n",
    "    userInput4_2.value = split_result[1]\n",
    "\n",
    "# After the student's response was loaded, clear the output.\n",
    "loading4.clear_output()\n",
    "\n",
    "# Creating the button.\n",
    "button = widgets.Button(description=\"Check Commands\")\n",
    "\n",
    "# Creating an output area.\n",
    "output4 = widgets.Output()\n",
    "\n",
    "# Run the command on click.\n",
    "button.on_click(check_step_4)\n",
    "\n",
    "# Display the output.\n",
    "display(userInput4_1, userInput4_2, button, output4)"
   ]
  },
  {
   "cell_type": "markdown",
   "metadata": {},
   "source": [
    "## <strong>Topic 2: Introduction to ```iptables```</strong>\n",
    "\n",
    "In the previous section, you have explored some tools that you may find useful with creating firewall rules in this lab. Now, you're going to look at the next Unix tool, which is ```iptables```. You will be spending the remaining part of the lab learning about ```iptables```. Towards the end, you will be given a list of rules, one at a time, and implementing them into your nodes.\n",
    "\n",
    "This section will walk you through the basic interface of ```iptables```."
   ]
  },
  {
   "cell_type": "markdown",
   "metadata": {},
   "source": [
    "### Step 5: Viewing ```iptable``` Rules\n",
    "\n",
    "The ```iptables``` tool has been pre-installed for you on both nodes. However, you will need to navigate into ```server``` for the remainder of this topic.\n",
    "\n",
    "Type ```sudo iptables -L``` into ```server```. ```sudo``` is required for this tool, since this tool lets you control the network flow across the computer. The ```-L``` argument stands for \"list\". Typing this command is going to list all of the rules that are currently in your rule table.\n",
    "\n",
    "These are the only three policies at the moment:\n",
    "```\n",
    "-P INPUT ACCEPT\n",
    "-P FORWARD ACCEPT\n",
    "-P OUTPUT ACCEPT\n",
    "```\n",
    "\n",
    "Before providing a breakdown of these three policies, you are going to hear the term <strong>\"chain\"</strong> when working with ```iptables```. A chain is a set of rules. Hence, you're \"linking\" the rules together to form a chain.\n",
    "\n",
    "Here's a small breakdown of the default rules so far:\n",
    "- The ```-P``` argument means \"policy\". This parameter is used with three built-in chains: ```INPUT```, ```FORWARD```, or ```OUTPUT```. There are more built-in chains than these, but these are the most common ones when using this argument.\n",
    "  - Note, ```-p``` stands for \"protocol\". These two should not be mixed up when you begin to make your own rules. You can use either ```-P```, or to be more precise, ```--policy``` also works.\n",
    "- ```INPUT```, ```FORWARD```, and ```OUTPUT``` are the incoming, forwarded, and outgoing packets.\n",
    "- ```ACCEPT``` is the policy of the chain. It tells your system what to do with the chain that preceeds it.\n",
    "  - <strong>All ```iptables``` rules end with ```ACCEPT```, ```DROP```, or ```REJECT```.</strong>\n",
    "    - ```ACCEPT``` allows the connection.\n",
    "    - ```DROP``` disallows the connection, but sends no response to whoever is accessing it.\n",
    "    - ```REJECT``` disallows the connection, but sends a response to whoever is accessing it.\n",
    "\n",
    "\n",
    "After reading this breakdown, this should make the default rules clear in ```iptables```. This means that all incoming, forwarded, and outgoing packets are accepted. Nothing is being blocked.\n",
    "\n",
    "<strong>Your task</strong>: Add the following rule to the table. You will learn about what it does in the next two steps.\n",
    "\n",
    "```sudo iptables -A OUTPUT -p tcp --dport 80 -j DROP```\n",
    "\n",
    "You may view this rule with ```sudo iptables -S```."
   ]
  },
  {
   "cell_type": "code",
   "execution_count": 8,
   "metadata": {
    "jupyter": {
     "source_hidden": true
    }
   },
   "outputs": [
    {
     "data": {
      "application/vnd.jupyter.widget-view+json": {
       "model_id": "1edcd274580e4bccaab38e63516c973c",
       "version_major": 2,
       "version_minor": 0
      },
      "text/plain": [
       "Button(description='Check Rule', style=ButtonStyle())"
      ]
     },
     "metadata": {},
     "output_type": "display_data"
    },
    {
     "data": {
      "application/vnd.jupyter.widget-view+json": {
       "model_id": "a3c4d2a8552345df864b1dea9288fc45",
       "version_major": 2,
       "version_minor": 0
      },
      "text/plain": [
       "Output()"
      ]
     },
     "metadata": {},
     "output_type": "display_data"
    }
   ],
   "source": [
    "# Click the button below to check your work.\n",
    "step5Complete = False\n",
    "\n",
    "# Function to check the permissions.\n",
    "def step_5():\n",
    "    # Required to change boolean value.\n",
    "    global step5Complete\n",
    "\n",
    "    with output5:\n",
    "        output5.clear_output()\n",
    "        display(HTML(\"<span><img width='14px' height='14px' style='margin-left: 3px;' src='resources/loading.gif'></span>\"))\n",
    "    \n",
    "    # This subprocess statement is a little different. Need to initiate environment variables at the same time when running the command.\n",
    "    # This SSH command needs to be tweaked a little so that environment variables work across SSH.\n",
    "    result = subprocess.run('ssh -i /home/USERNAME_GOES_HERE/.ssh/merge_key USERNAME_GOES_HERE@server \"bash -l -c \\'/home/.checker/section_2.py 5 NA\\'\"', shell=True, capture_output=True, text=True)\n",
    "\n",
    "    if (result.returncode == 1):\n",
    "        output5.clear_output()\n",
    "        with output5:\n",
    "            display(HTML(\"<span style='color: green;'>Success! You may continue onto the next step.</span>\"))\n",
    "            step5Complete = True\n",
    "\n",
    "    elif (result.returncode == 0):\n",
    "        output5.clear_output()\n",
    "        with output5:\n",
    "            display(HTML(\"<span style='color: red;'>The command that was provided to you cannot be found as a rule. Try again.</span>\"))\n",
    "            step5Complete = False\n",
    "\n",
    "    elif (result.returncode == 2):\n",
    "        output5.clear_output()\n",
    "        with output5:\n",
    "            display(HTML(\"<span style='color: red;'>There was an error with checking your step. Please contact your professor or TA for assistance.</span>\"))\n",
    "            step5Complete = False\n",
    "    \n",
    "def check_step_5(b):\n",
    "    step_5()\n",
    "\n",
    "    # Auto-save.\n",
    "    if (not runAllSteps):\n",
    "        trigger_save()\n",
    "\n",
    "# Creating the button.\n",
    "button = widgets.Button(description=\"Check Rule\")\n",
    "\n",
    "# Creating an output area.\n",
    "output5 = widgets.Output()\n",
    "\n",
    "# Run the command on click.\n",
    "button.on_click(check_step_5)\n",
    "\n",
    "# Display the output.\n",
    "display(button, output5)"
   ]
  },
  {
   "cell_type": "markdown",
   "metadata": {},
   "source": [
    "### Step 6: Identifying the Chain and Jump\n",
    "\n",
    "With this rule added, it's important to understand what this rule has done.\n",
    "\n",
    "Here is a breakdown of the rule that you just added:\n",
    "- ```sudo iptables``` calls the ```iptables``` command.\n",
    "- ```-A OUTPUT``` <strong>appends</strong> the rules that you made to the built-in ```OUTPUT``` chain.\n",
    "- ```-p tcp``` indicates that the rule affects TCP <strong>packets</strong>.\n",
    "- ```--dport 80``` indicates that the rule affects the <strong>destination port</strong>\n",
    "- ```-j DROP``` stands for <strong>jumps</strong>. However, it's easier to interpret this as \"everything that matches this rule will be DROPPED\".\n",
    "\n",
    "The reason why ```-A``` is being used is because you are taking the currently existing ```-P OUTPUT ACCEPT``` rule, but you're saying, \"Accept all output, BUT... (your rule here)\".\n",
    "\n",
    "Using the two blanks below, type in the <strong>chain</strong> and <strong>jump</strong> of the rule that you wrote."
   ]
  },
  {
   "cell_type": "code",
   "execution_count": 9,
   "metadata": {
    "jupyter": {
     "source_hidden": true
    }
   },
   "outputs": [
    {
     "data": {
      "application/vnd.jupyter.widget-view+json": {
       "model_id": "af18e5d7545242e0968b218ea3880d07",
       "version_major": 2,
       "version_minor": 0
      },
      "text/plain": [
       "Output()"
      ]
     },
     "metadata": {},
     "output_type": "display_data"
    },
    {
     "data": {
      "application/vnd.jupyter.widget-view+json": {
       "model_id": "4eaace7b63d44322b0e6776e3df6a0f4",
       "version_major": 2,
       "version_minor": 0
      },
      "text/plain": [
       "Text(value='OUTPUT', description='Chain:', layout=Layout(width='90%'), placeholder='Type your \"chain\" answer h…"
      ]
     },
     "metadata": {},
     "output_type": "display_data"
    },
    {
     "data": {
      "application/vnd.jupyter.widget-view+json": {
       "model_id": "e0585252102e4753b78dee9b66166698",
       "version_major": 2,
       "version_minor": 0
      },
      "text/plain": [
       "Text(value='DROP', description='Jump:', layout=Layout(width='90%'), placeholder='Type your \"jump\" answer here'…"
      ]
     },
     "metadata": {},
     "output_type": "display_data"
    },
    {
     "data": {
      "application/vnd.jupyter.widget-view+json": {
       "model_id": "076d3707354342f1bd088088cb5b5f69",
       "version_major": 2,
       "version_minor": 0
      },
      "text/plain": [
       "Button(description='Check Commands', style=ButtonStyle())"
      ]
     },
     "metadata": {},
     "output_type": "display_data"
    },
    {
     "data": {
      "application/vnd.jupyter.widget-view+json": {
       "model_id": "a16d683350d745faaea3d0e876660257",
       "version_major": 2,
       "version_minor": 0
      },
      "text/plain": [
       "Output()"
      ]
     },
     "metadata": {},
     "output_type": "display_data"
    }
   ],
   "source": [
    "# Click the button below to check your work.\n",
    "step6Complete = False\n",
    "\n",
    "# Function to check if the student's answer was correct.\n",
    "def step_6():\n",
    "    # Required to change boolean values.\n",
    "    global step6Complete\n",
    "\n",
    "    # Loading, in case the check is slow.\n",
    "    with output6:\n",
    "        output6.clear_output()\n",
    "        display(HTML(\"<span><img width='12px' height='12px' style='margin-left: 3px;' src='resources/loading.gif'></span>\"))\n",
    "\n",
    "    # First, check to see if the field is empty.\n",
    "    if (userInput6_1.value == \"\" or userInput6_2.value == \"\"):\n",
    "        output6.clear_output()\n",
    "        with output6:\n",
    "            display(HTML(\"<span style='color: red;'>One of your input fields is empty.</span>\"))\n",
    "            step6Complete = False\n",
    "\n",
    "    else:\n",
    "        user_input = userInput6_1.value + \"\\n\" + userInput6_2.value\n",
    "        escaped_user_input = user_input.replace('\"', '\\\\\"').replace(\"'\", \"'\\\\''\")\n",
    "\n",
    "        # Construct the SSH command for testing the student's response.\n",
    "        test_response = f\"\"\"ssh -i /home/USERNAME_GOES_HERE/.ssh/merge_key USERNAME_GOES_HERE@server \"/home/.checker/section_2.py 6 '{escaped_user_input}'\" \"\"\"\n",
    "        result = subprocess.run(test_response, shell=True, stdout=subprocess.PIPE, stderr=subprocess.PIPE)\n",
    "\n",
    "        # Construct the SSH command for saving the student's response.\n",
    "        save_command = f\"\"\"ssh -i /home/USERNAME_GOES_HERE/.ssh/merge_key USERNAME_GOES_HERE@server \"echo '{escaped_user_input}' > /home/.checker/responses/step_6_answer.txt\" \"\"\"\n",
    "        save_result = subprocess.run(save_command, shell=True, stdout=subprocess.PIPE, stderr=subprocess.PIPE)\n",
    "        \n",
    "        if (result.returncode == 1):\n",
    "            output6.clear_output()\n",
    "            with output6:\n",
    "                display(HTML(\"<span style='color: green;'>Correct!</span>\"))\n",
    "                step6Complete = True\n",
    "        \n",
    "        elif (result.returncode == 0):\n",
    "            output6.clear_output()\n",
    "            with output6:\n",
    "                display(HTML(\"<span style='color: red;'>Check your responses. One (or both) of them is incorrect.</span>\"))\n",
    "                step6Complete = False\n",
    "\n",
    "        elif (result.returncode == 2):\n",
    "            output6.clear_output()\n",
    "            with output6:\n",
    "                display(HTML(\"<span style='color: red;'>An error occurred. Please contact your professor or TA.</span>\"))\n",
    "                step6Complete = False\n",
    "\n",
    "        \n",
    "def check_step_6(b):\n",
    "    step_6()\n",
    "\n",
    "    # Auto-save.\n",
    "    if (not runAllSteps):\n",
    "        trigger_save()\n",
    "\n",
    "# Retrieve the student's response. First, create a loading spinner, since this could take a second or two.\n",
    "loading6 = widgets.Output()\n",
    "display(loading6)\n",
    "with loading6:\n",
    "    loading6.clear_output()\n",
    "    display(HTML(\"<span>Loading your saved response... <img width='12px' height='12px' style='margin-left: 3px;' src='resources/loading.gif'></span>\"))\n",
    "\n",
    "# Creating two text areas.\n",
    "userInput6_1 = widgets.Text(\n",
    "    placeholder='Type your \"chain\" answer here',\n",
    "    description='Chain:',\n",
    "    layout=widgets.Layout(width='90%')\n",
    ")\n",
    "\n",
    "userInput6_2 = widgets.Text(\n",
    "    placeholder='Type your \"jump\" answer here',\n",
    "    description='Jump:',\n",
    "    layout=widgets.Layout(width='90%')\n",
    ")\n",
    "\n",
    "# Checking if the step has been answered.\n",
    "result = subprocess.run('ssh -o StrictHostKeyChecking=no -i /home/USERNAME_GOES_HERE/.ssh/merge_key USERNAME_GOES_HERE@server \"cat /home/.checker/responses/step_6_answer.txt 2> /dev/null\"', capture_output=True, text=True, shell=True)\n",
    "\n",
    "userInput6_1.value = \"\"\n",
    "userInput6_2.value = \"\"\n",
    "\n",
    "if (result.stdout != \"\"):\n",
    "    # Split the results.\n",
    "    split_result = (result.stdout).split(\"\\n\")\n",
    "    \n",
    "    # Trim the newline.\n",
    "    userInput6_1.value = split_result[0]\n",
    "    userInput6_2.value = split_result[1]\n",
    "\n",
    "# After the student's response was loaded, clear the output.\n",
    "loading6.clear_output()\n",
    "\n",
    "# Creating the button.\n",
    "button = widgets.Button(description=\"Check Commands\")\n",
    "\n",
    "# Creating an output area.\n",
    "output6 = widgets.Output()\n",
    "\n",
    "# Run the command on click.\n",
    "button.on_click(check_step_6)\n",
    "\n",
    "# Display the output.\n",
    "display(userInput6_1, userInput6_2, button, output6)"
   ]
  },
  {
   "cell_type": "markdown",
   "metadata": {},
   "source": [
    "### Step 7: Testing Your Rule\n",
    "\n",
    "Type a command that will attempt to access a website through port 80. Do not use a command that shows that port 80 is unavailable. You will need to type a command that attempts to access the website.\n",
    "\n",
    "Some accepted commands:\n",
    "- ```telnet```\n",
    "- ```nc```\n",
    "- ```curl``` is also acceptable."
   ]
  },
  {
   "cell_type": "code",
   "execution_count": 10,
   "metadata": {
    "jupyter": {
     "source_hidden": true
    }
   },
   "outputs": [
    {
     "data": {
      "application/vnd.jupyter.widget-view+json": {
       "model_id": "ac25977ce94a4cf78a1168508e8554cd",
       "version_major": 2,
       "version_minor": 0
      },
      "text/plain": [
       "Output()"
      ]
     },
     "metadata": {},
     "output_type": "display_data"
    },
    {
     "data": {
      "application/vnd.jupyter.widget-view+json": {
       "model_id": "414fbf73e0ef4b3c80c7f715fb9bf1f4",
       "version_major": 2,
       "version_minor": 0
      },
      "text/plain": [
       "Text(value='telnet google.com 80', description='Command:', layout=Layout(width='90%'), placeholder='Type a com…"
      ]
     },
     "metadata": {},
     "output_type": "display_data"
    },
    {
     "data": {
      "application/vnd.jupyter.widget-view+json": {
       "model_id": "297d0dd94f654200874d3c54d5dcb72b",
       "version_major": 2,
       "version_minor": 0
      },
      "text/plain": [
       "Button(description='Check Command', style=ButtonStyle())"
      ]
     },
     "metadata": {},
     "output_type": "display_data"
    },
    {
     "data": {
      "application/vnd.jupyter.widget-view+json": {
       "model_id": "c0542ef894304606b166000d0dda4c5f",
       "version_major": 2,
       "version_minor": 0
      },
      "text/plain": [
       "Output()"
      ]
     },
     "metadata": {},
     "output_type": "display_data"
    }
   ],
   "source": [
    "# Click the button below to check your work.\n",
    "step7Complete = False\n",
    "\n",
    "# Function to check if the student's answer was correct.\n",
    "def step_7():\n",
    "    # Required to change boolean values.\n",
    "    global step7Complete\n",
    "\n",
    "    # Loading, in case the check is slow.\n",
    "    with output7:\n",
    "        output7.clear_output()\n",
    "        display(HTML(\"<span>This step will take a little longer to compute. Please wait... <img width='12px' height='12px' style='margin-left: 3px;' src='resources/loading.gif'></span>\"))\n",
    "\n",
    "    # First, check to see if the field is empty.\n",
    "    if (userInput7.value == \"\"):\n",
    "        output7.clear_output()\n",
    "        with output7:\n",
    "            display(HTML(\"<span style='color: red;'>You did not provide input for this step.</span>\"))\n",
    "            step7Complete = False\n",
    "\n",
    "    else:\n",
    "        user_input = userInput7.value\n",
    "        escaped_user_input = user_input.replace('\"', '\\\\\"').replace(\"'\", \"'\\\\''\")\n",
    "\n",
    "        # Construct the SSH command for testing the student's response.\n",
    "        # This SSH command needs to be tweaked a little so that environment variables work across SSH.\n",
    "        ssh_command = (\n",
    "            f\"ssh -i /home/USERNAME_GOES_HERE/.ssh/merge_key USERNAME_GOES_HERE@server \"\n",
    "            f\"bash -l -c \\\"/home/.checker/section_2.py 7 '{escaped_user_input}'\\\"\"\n",
    "        )\n",
    "        \n",
    "        # Run the command\n",
    "        result = subprocess.run(f'ssh -i /home/USERNAME_GOES_HERE/.ssh/merge_key USERNAME_GOES_HERE@server \"bash -l -c \\'/home/.checker/section_2.py 7 \\\\\"{escaped_user_input}\\\\\"\\'\"', shell=True, capture_output=True, text=True)\n",
    "\n",
    "        # Construct the SSH command for saving the student's response.\n",
    "        save_command = f\"\"\"ssh -i /home/USERNAME_GOES_HERE/.ssh/merge_key USERNAME_GOES_HERE@server \"echo '{escaped_user_input}' > /home/.checker/responses/step_7_answer.txt\" \"\"\"\n",
    "        save_result = subprocess.run(save_command, shell=True, stdout=subprocess.PIPE, stderr=subprocess.PIPE)\n",
    "        \n",
    "        if (result.returncode == 1):\n",
    "            output7.clear_output()\n",
    "            with output7:\n",
    "                display(HTML(\"<span style='color: green;'>Correct!</span>\"))\n",
    "                step7Complete = True\n",
    "        \n",
    "        elif (result.returncode == 0):\n",
    "            output7.clear_output()\n",
    "            with output7:\n",
    "                display(HTML(\"<span style='color: red;'>Your command doesn't work. Make sure you are using port 80 and a valid website. Check if you may have extra firewall rules.</span>\"))\n",
    "                step7Complete = False\n",
    "\n",
    "        elif (result.returncode == 2):\n",
    "            output7.clear_output()\n",
    "            with output7:\n",
    "                display(HTML(\"<span style='color: red;'>An error occurred. Please contact your professor or TA.</span>\"))\n",
    "                step7Complete = False\n",
    "\n",
    "        \n",
    "def check_step_7(b):\n",
    "    step_7()\n",
    "\n",
    "    # Auto-save.\n",
    "    if (not runAllSteps):\n",
    "        trigger_save()\n",
    "\n",
    "# Retrieve the student's response. First, create a loading spinner, since this could take a second or two.\n",
    "loading7 = widgets.Output()\n",
    "display(loading7)\n",
    "with loading7:\n",
    "    loading7.clear_output()\n",
    "    display(HTML(\"<span>Loading your saved response... <img width='12px' height='12px' style='margin-left: 3px;' src='resources/loading.gif'></span>\"))\n",
    "\n",
    "# Creating a text area.\n",
    "userInput7 = widgets.Text(\n",
    "    placeholder='Type a command here to test the rule',\n",
    "    description='Command:',\n",
    "    layout=widgets.Layout(width='90%')\n",
    ")\n",
    "\n",
    "# Checking if the step has been answered.\n",
    "result = subprocess.run('ssh -o StrictHostKeyChecking=no -i /home/USERNAME_GOES_HERE/.ssh/merge_key USERNAME_GOES_HERE@server \"cat /home/.checker/responses/step_7_answer.txt 2> /dev/null\"', capture_output=True, text=True, shell=True)\n",
    "# Trim the newline.\n",
    "userInput7.value = result.stdout[:-1]\n",
    "\n",
    "# After the student's response was loaded, clear the output.\n",
    "loading7.clear_output()\n",
    "\n",
    "# Creating the button.\n",
    "button = widgets.Button(description=\"Check Command\")\n",
    "\n",
    "# Creating an output area.\n",
    "output7 = widgets.Output()\n",
    "\n",
    "# Run the command on click.\n",
    "button.on_click(check_step_7)\n",
    "\n",
    "# Display the output.\n",
    "display(userInput7, button, output7)"
   ]
  },
  {
   "cell_type": "markdown",
   "metadata": {},
   "source": [
    "### Step 8: Deleting a Rule\n",
    "\n",
    "To delete a rule, you can use ```sudo iptables -D [rule]```. Clearly, the ```-D``` stands for delete. Previously, you used ```-A``` to append a rule.\n",
    "\n",
    "Using your intuition, delete the rule that you made in Step 5."
   ]
  },
  {
   "cell_type": "code",
   "execution_count": 11,
   "metadata": {
    "jupyter": {
     "source_hidden": true
    }
   },
   "outputs": [
    {
     "data": {
      "application/vnd.jupyter.widget-view+json": {
       "model_id": "3a5156b803e14446a05c11e8698898a5",
       "version_major": 2,
       "version_minor": 0
      },
      "text/plain": [
       "Button(description='Check Rule', style=ButtonStyle())"
      ]
     },
     "metadata": {},
     "output_type": "display_data"
    },
    {
     "data": {
      "application/vnd.jupyter.widget-view+json": {
       "model_id": "8e1e2f85ae9547fb8bec6d5cd71e18aa",
       "version_major": 2,
       "version_minor": 0
      },
      "text/plain": [
       "Output()"
      ]
     },
     "metadata": {},
     "output_type": "display_data"
    }
   ],
   "source": [
    "# Click the button below to check your work.\n",
    "step8Complete = False\n",
    "\n",
    "# Function to check the permissions.\n",
    "def step_8():\n",
    "    # Required to change boolean value.\n",
    "    global step8Complete\n",
    "\n",
    "    with output8:\n",
    "        output8.clear_output()\n",
    "        display(HTML(\"<span><img width='14px' height='14px' style='margin-left: 3px;' src='resources/loading.gif'></span>\"))\n",
    "    \n",
    "    # This subprocess statement is a little different. Need to initiate environment variables at the same time when running the command.\n",
    "    # This SSH command needs to be tweaked a little so that environment variables work across SSH.\n",
    "    result = subprocess.run('ssh -i /home/USERNAME_GOES_HERE/.ssh/merge_key USERNAME_GOES_HERE@server \"bash -l -c \\'/home/.checker/section_2.py 8 NA\\'\"', shell=True, capture_output=True, text=True)\n",
    "\n",
    "    if (result.returncode == 1):\n",
    "        output8.clear_output()\n",
    "        with output8:\n",
    "            display(HTML(\"<span style='color: green;'>Correct! Additionally, using \\\"sudo iptables -F\\\" wipes ALL rules, leaving the default rules left.</span>\"))\n",
    "            step8Complete = True\n",
    "\n",
    "    elif (result.returncode == 0):\n",
    "        output8.clear_output()\n",
    "        with output8:\n",
    "            display(HTML(\"<span style='color: red;'>Your rule doesn't appear to be deleted from iptables.</span>\"))\n",
    "            step8Complete = False\n",
    "\n",
    "    elif (result.returncode == 2):\n",
    "        output8.clear_output()\n",
    "        with output8:\n",
    "            display(HTML(\"<span style='color: red;'>There was an error with checking your step. Please contact your professor or TA for assistance.</span>\"))\n",
    "            step8Complete = False\n",
    "    \n",
    "def check_step_8(b):\n",
    "    step_8()\n",
    "\n",
    "    # Auto-save.\n",
    "    if (not runAllSteps):\n",
    "        trigger_save()\n",
    "\n",
    "# Creating the button.\n",
    "button = widgets.Button(description=\"Check Rule\")\n",
    "\n",
    "# Creating an output area.\n",
    "output8 = widgets.Output()\n",
    "\n",
    "# Run the command on click.\n",
    "button.on_click(check_step_8)\n",
    "\n",
    "# Display the output.\n",
    "display(button, output8)"
   ]
  },
  {
   "cell_type": "markdown",
   "metadata": {},
   "source": [
    "## <strong>Topic 3: Basic ```iptables``` Rules <strong>\n",
    "\n",
    "This topic is now going to teach you some ```iptables``` syntax. You have already seen a little bit of syntax in the previous step. Now, you're going to look more in-depth with ```iptables``` syntax.\n",
    "\n",
    "```iptables``` allows you to create very broad commands, like the one you have seen above. Additionally, it allows you to create very specific commands, like you're about to see in this topic. The following steps are going to start you with a very basic example, and you are going to work your way up to specifics.\n",
    "\n",
    "<u>As you complete each step in this topic</u>, a table will be generated so that you can see how your rule is being progressively created. The table will provide a \"translation\", which is describing how your rules are being defined.\n",
    "\n",
    "If you are feeling lost with ```iptables``` syntax, these are two helpful documents that you may look into while you go through the final two topics:\n",
    "- <a href=\"https://linux.die.net/man/8/iptables\">```iptables``` Documentation</a>\n",
    "- <a href=\"https://www.informit.com/articles/article.aspx?p=421057&seqNum=4\">Linux Firewalls, 3rd Edition - Iptables Chapter</a>"
   ]
  },
  {
   "cell_type": "markdown",
   "metadata": {},
   "source": [
    "### Step 9: Tables\n",
    "\n",
    "This is the start of the ```iptables``` rule that you'll be producing throughout the topic:\n",
    "\n",
    "```sudo iptables```\n",
    "\n",
    "<strong>You are going to construct a rule that applies to the ```server``` node. NOT the ```client``` node.</strong>\n",
    "\n",
    "There are multiple tables that you can add rules to in ```iptables```. For the lab, you're just adding tables to the \"filter\" table. This is the default table in ```iptables```. The remaining tables are as follows - <a href=\"https://gist.github.com/nerdalert/a1687ae4da1cc44a437d\">(source)</a>:\n",
    "- NAT table - Iptable's NAT table has the following built-in chains.\n",
    "- Mangle table - Iptables's Mangle table is for specialized packet alteration.\n",
    "- Raw table - Iptable's Raw table is for configuration excemptions.\n",
    "\n",
    "You are going to append to the currently existing command. This is the current template of your rule so far:\n",
    "\n",
    "```sudo iptables [your answer here]```\n",
    "\n",
    "<strong>Your task</strong>: Type a parameter that adds your rule to the \"filters\" table. Use the ```-t``` argument for \"table\". For your answer, just type in the ```[your answer here]``` portion of the rule."
   ]
  },
  {
   "cell_type": "code",
   "execution_count": 12,
   "metadata": {
    "jupyter": {
     "source_hidden": true
    }
   },
   "outputs": [
    {
     "data": {
      "application/vnd.jupyter.widget-view+json": {
       "model_id": "8c7b92aa46f24bf3a8bd46c5c3437427",
       "version_major": 2,
       "version_minor": 0
      },
      "text/plain": [
       "Output()"
      ]
     },
     "metadata": {},
     "output_type": "display_data"
    },
    {
     "data": {
      "application/vnd.jupyter.widget-view+json": {
       "model_id": "676f84e3c0ed4352bd9353094c13250f",
       "version_major": 2,
       "version_minor": 0
      },
      "text/plain": [
       "Text(value='-t filters', description='Rule:', layout=Layout(width='90%'), placeholder='Type your rule here')"
      ]
     },
     "metadata": {},
     "output_type": "display_data"
    },
    {
     "data": {
      "application/vnd.jupyter.widget-view+json": {
       "model_id": "0806368cdc1a4d3f93b5a62018560ad6",
       "version_major": 2,
       "version_minor": 0
      },
      "text/plain": [
       "Button(description='Check Rule', style=ButtonStyle())"
      ]
     },
     "metadata": {},
     "output_type": "display_data"
    },
    {
     "data": {
      "application/vnd.jupyter.widget-view+json": {
       "model_id": "4d1df9e1f802453a9288adb4bb2ce09d",
       "version_major": 2,
       "version_minor": 0
      },
      "text/plain": [
       "Output()"
      ]
     },
     "metadata": {},
     "output_type": "display_data"
    }
   ],
   "source": [
    "# Click the button below to check your work.\n",
    "step9Complete = False\n",
    "\n",
    "# Function to check if the student's answer was correct.\n",
    "def step_9():\n",
    "    # Required to change boolean values.\n",
    "    global step9Complete\n",
    "\n",
    "    # Loading, in case the check is slow.\n",
    "    with output9:\n",
    "        output9.clear_output()\n",
    "        display(HTML(\"<span><img width='12px' height='12px' style='margin-left: 3px;' src='resources/loading.gif'></span>\"))\n",
    "\n",
    "    # First, check to see if the field is empty.\n",
    "    if (userInput9.value == \"\"):\n",
    "        output9.clear_output()\n",
    "        with output9:\n",
    "            display(HTML(\"<span style='color: red;'>You did not provide input for this step.</span>\"))\n",
    "            step9Complete = False\n",
    "\n",
    "    else:\n",
    "        user_input = userInput9.value\n",
    "        escaped_user_input = user_input.replace('\"', '\\\\\"').replace(\"'\", \"'\\\\''\")\n",
    "\n",
    "        # Construct the SSH command for testing the student's response.\n",
    "        # This SSH command needs to be tweaked a little so that environment variables work across SSH.\n",
    "        test_response = f\"\"\"ssh -i /home/USERNAME_GOES_HERE/.ssh/merge_key USERNAME_GOES_HERE@server \"/home/.checker/section_3.py 9 \\\\\"{escaped_user_input}\\\\\"\" \"\"\"\n",
    "        result = subprocess.run(test_response, shell=True, stdout=subprocess.PIPE, stderr=subprocess.PIPE)\n",
    "\n",
    "        # Construct the SSH command for saving the student's response.\n",
    "        save_command = f\"\"\"ssh -i /home/USERNAME_GOES_HERE/.ssh/merge_key USERNAME_GOES_HERE@server \"echo '{escaped_user_input}' > /home/.checker/responses/step_9_answer.txt\" \"\"\"\n",
    "        save_result = subprocess.run(save_command, shell=True, stdout=subprocess.PIPE, stderr=subprocess.PIPE)\n",
    "        \n",
    "        if (result.returncode == 1):\n",
    "            output9.clear_output()\n",
    "            with output9:\n",
    "                display(HTML(\"<span style='color: green;'>Correct! Here are what your rules do so far.</span>\"))\n",
    "                # Creating the table for students.\n",
    "                display(HTML(generate_table(9)))\n",
    "                step9Complete = True\n",
    "        \n",
    "        elif (result.returncode == 0):\n",
    "            output9.clear_output()\n",
    "            with output9:\n",
    "                display(HTML(\"<span style='color: red;'>Your rule appears to be invalid. Please re-read the directions and try again.</span>\"))\n",
    "                step9Complete = False\n",
    "\n",
    "        elif (result.returncode == 2):\n",
    "            output9.clear_output()\n",
    "            with output9:\n",
    "                display(HTML(\"<span style='color: red;'>An error occurred. Please contact your professor or TA.</span>\"))\n",
    "                step9Complete = False\n",
    "\n",
    "        \n",
    "def check_step_9(b):\n",
    "    step_9()\n",
    "\n",
    "    # Auto-save.\n",
    "    if (not runAllSteps):\n",
    "        trigger_save()\n",
    "\n",
    "# Retrieve the student's response. First, create a loading spinner, since this could take a second or two.\n",
    "loading9 = widgets.Output()\n",
    "display(loading9)\n",
    "with loading9:\n",
    "    loading9.clear_output()\n",
    "    display(HTML(\"<span>Loading your saved response... <img width='12px' height='12px' style='margin-left: 3px;' src='resources/loading.gif'></span>\"))\n",
    "\n",
    "# Creating a text area.\n",
    "userInput9 = widgets.Text(\n",
    "    placeholder='Type your rule here',\n",
    "    description='Rule:',\n",
    "    layout=widgets.Layout(width='90%')\n",
    ")\n",
    "\n",
    "# Checking if the step has been answered.\n",
    "result = subprocess.run('ssh -o StrictHostKeyChecking=no -i /home/USERNAME_GOES_HERE/.ssh/merge_key USERNAME_GOES_HERE@server \"cat /home/.checker/responses/step_9_answer.txt 2> /dev/null\"', capture_output=True, text=True, shell=True)\n",
    "# Trim the newline.\n",
    "userInput9.value = result.stdout[:-1]\n",
    "\n",
    "# After the student's response was loaded, clear the output.\n",
    "loading9.clear_output()\n",
    "\n",
    "# Creating the button.\n",
    "button = widgets.Button(description=\"Check Rule\")\n",
    "\n",
    "# Creating an output area.\n",
    "output9 = widgets.Output()\n",
    "\n",
    "# Run the command on click.\n",
    "button.on_click(check_step_9)\n",
    "\n",
    "# Display the output.\n",
    "display(userInput9, button, output9)"
   ]
  },
  {
   "cell_type": "markdown",
   "metadata": {},
   "source": [
    "### Step 10: Network Interface\n",
    "\n",
    "Now, you can add a network interface that you want your rule to be applied to. You can do this by using ```-i``` for \"inbound\", or ```-o``` for \"outbound\". This means that any packets that are sent to/from this network interface will be affected by the rule. From Step 2, you already found what the network interface is attached to ```server```.\n",
    "\n",
    "Here is the work so far that you've produced:\n",
    "\n",
    "```sudo iptables [step 9] [your next answer]```\n",
    "\n",
    "<strong>Your task</strong>: Type in the following parameters which will match the following rules:\n",
    "\n",
    "- Use the network interface for outbound packets that you found in Step 2.\n",
    "- Append your rule to the pre-defined OUTPUT chain.\n",
    "\n",
    "<span style=\"color: green\"><strong><img src=\"resources/idea.png\" style=\"width: 12px\"> Note:</strong></span> You have two rules to type for this step. More will be required in future steps. <u>Order does not matter</u> when typing these parameters."
   ]
  },
  {
   "cell_type": "code",
   "execution_count": 13,
   "metadata": {
    "jupyter": {
     "source_hidden": true
    }
   },
   "outputs": [
    {
     "data": {
      "application/vnd.jupyter.widget-view+json": {
       "model_id": "9cea55e95bc94ab98831e7ba031753d7",
       "version_major": 2,
       "version_minor": 0
      },
      "text/plain": [
       "Output()"
      ]
     },
     "metadata": {},
     "output_type": "display_data"
    },
    {
     "data": {
      "application/vnd.jupyter.widget-view+json": {
       "model_id": "420e99804e3d43de8b8091a1763c4082",
       "version_major": 2,
       "version_minor": 0
      },
      "text/plain": [
       "Text(value='-A OUTPUT -o eth1', description='Rule:', layout=Layout(width='90%'), placeholder='Type your rule h…"
      ]
     },
     "metadata": {},
     "output_type": "display_data"
    },
    {
     "data": {
      "application/vnd.jupyter.widget-view+json": {
       "model_id": "8a1eee578ffd4cb19774577cd81a9f25",
       "version_major": 2,
       "version_minor": 0
      },
      "text/plain": [
       "Button(description='Check Command', style=ButtonStyle())"
      ]
     },
     "metadata": {},
     "output_type": "display_data"
    },
    {
     "data": {
      "application/vnd.jupyter.widget-view+json": {
       "model_id": "a4ee544f437d45c4b7f708d045b6e808",
       "version_major": 2,
       "version_minor": 0
      },
      "text/plain": [
       "Output()"
      ]
     },
     "metadata": {},
     "output_type": "display_data"
    }
   ],
   "source": [
    "# Click the button below to check your work.\n",
    "step10Complete = False\n",
    "\n",
    "# Function to check if the student's answer was correct.\n",
    "def step_10():\n",
    "    # Required to change boolean values.\n",
    "    global step10Complete\n",
    "\n",
    "    # Loading, in case the check is slow.\n",
    "    with output10:\n",
    "        output10.clear_output()\n",
    "        display(HTML(\"<span><img width='12px' height='12px' style='margin-left: 3px;' src='resources/loading.gif'></span>\"))\n",
    "\n",
    "    # First, check to see if the field is empty.\n",
    "    if (userInput10.value == \"\"):\n",
    "        output10.clear_output()\n",
    "        with output10:\n",
    "            display(HTML(\"<span style='color: red;'>You did not provide input for this step.</span>\"))\n",
    "            step10Complete = False\n",
    "\n",
    "    else:\n",
    "        user_input = userInput10.value\n",
    "        escaped_user_input = user_input.replace('\"', '\\\\\"').replace(\"'\", \"'\\\\''\")\n",
    "\n",
    "        # Construct the SSH command for testing the student's response.\n",
    "        # This SSH command needs to be tweaked a little so that environment variables work across SSH.\n",
    "        test_response = f\"\"\"ssh -i /home/USERNAME_GOES_HERE/.ssh/merge_key USERNAME_GOES_HERE@server \"/home/.checker/section_3.py 10 \\\\\"{escaped_user_input}\\\\\"\" \"\"\"\n",
    "        result = subprocess.run(test_response, shell=True, stdout=subprocess.PIPE, stderr=subprocess.PIPE)\n",
    "\n",
    "        # Construct the SSH command for saving the student's response.\n",
    "        save_command = f\"\"\"ssh -i /home/USERNAME_GOES_HERE/.ssh/merge_key USERNAME_GOES_HERE@server \"echo '{escaped_user_input}' > /home/.checker/responses/step_10_answer.txt\" \"\"\"\n",
    "        save_result = subprocess.run(save_command, shell=True, stdout=subprocess.PIPE, stderr=subprocess.PIPE)\n",
    "        \n",
    "        if (result.returncode == 1):\n",
    "            output10.clear_output()\n",
    "            with output10:\n",
    "                display(HTML(\"<span style='color: green;'>Correct! Here are what your rules do so far.</span>\"))\n",
    "                # Creating the table for students.\n",
    "                display(HTML(generate_table(10)))\n",
    "                step10Complete = True\n",
    "        \n",
    "        elif (result.returncode == 0):\n",
    "            output10.clear_output()\n",
    "            with output10:\n",
    "                display(HTML(\"<span style='color: red;'>Your rule appears to be invalid. Please re-read the directions and try again.</span>\"))\n",
    "                step10Complete = False\n",
    "\n",
    "        elif (result.returncode == 2):\n",
    "            output10.clear_output()\n",
    "            with output10:\n",
    "                display(HTML(\"<span style='color: red;'>An error occurred. Please contact your professor or TA.</span>\"))\n",
    "                step10Complete = False\n",
    "\n",
    "        \n",
    "def check_step_10(b):\n",
    "    step_10()\n",
    "\n",
    "    # Auto-save.\n",
    "    if (not runAllSteps):\n",
    "        trigger_save()\n",
    "\n",
    "# Retrieve the student's response. First, create a loading spinner, since this could take a second or two.\n",
    "loading10 = widgets.Output()\n",
    "display(loading10)\n",
    "with loading10:\n",
    "    loading10.clear_output()\n",
    "    display(HTML(\"<span>Loading your saved response... <img width='12px' height='12px' style='margin-left: 3px;' src='resources/loading.gif'></span>\"))\n",
    "\n",
    "# Creating a text area.\n",
    "userInput10 = widgets.Text(\n",
    "    placeholder='Type your rule here',\n",
    "    description='Rule:',\n",
    "    layout=widgets.Layout(width='90%')\n",
    ")\n",
    "\n",
    "# Checking if the step has been answered.\n",
    "result = subprocess.run('ssh -o StrictHostKeyChecking=no -i /home/USERNAME_GOES_HERE/.ssh/merge_key USERNAME_GOES_HERE@server \"cat /home/.checker/responses/step_10_answer.txt 2> /dev/null\"', capture_output=True, text=True, shell=True)\n",
    "# Trim the newline.\n",
    "userInput10.value = result.stdout[:-1]\n",
    "\n",
    "# After the student's response was loaded, clear the output.\n",
    "loading10.clear_output()\n",
    "\n",
    "# Creating the button.\n",
    "button = widgets.Button(description=\"Check Command\")\n",
    "\n",
    "# Creating an output area.\n",
    "output10 = widgets.Output()\n",
    "\n",
    "# Run the command on click.\n",
    "button.on_click(check_step_10)\n",
    "\n",
    "# Display the output.\n",
    "display(userInput10, button, output10)"
   ]
  },
  {
   "cell_type": "markdown",
   "metadata": {},
   "source": [
    "### Step 11: States and Protocols\n",
    "\n",
    "Next, you're going to add a state to the rule. This is done by using the ```-m``` and ```--state``` command. These two parameters are used in conjunction with each other. ```-m``` stands for \"match\", and ```--state``` is clearly indicating the state to match to.\n",
    "\n",
    "Recall states from the beginning of the notebook. There are ```NEW```, ```ESTABLISHED```, and ```RELATED``` states. This is the template for creating a state rule: ```-m state --state STATE_NAME```\n",
    "\n",
    "A breakdown:\n",
    "- ```-m``` means match.\n",
    "- ```state``` means you're going to match a state.\n",
    "- ```--state``` indicates that the next parameter is going to be a state.\n",
    "- ```STATE_NAME``` is either ```NEW```, ```ESTABLISHED```, or ```RELATED```.\n",
    "\n",
    "Additionally, you read above that ```-p``` means \"protocol\". Two common protocols are UDP and TCP protocols. If you haven't taken a networking course, you may read about the two protocols <a href=\"https://stackoverflow.com/questions/5970383/difference-between-tcp-and-udp\">here</a>. Essentially, <strong>UDP</strong> is <strong>U</strong>nreliable, but fast. <strong>TCP</strong> is <strong>T</strong>rustworthy, but slow.\n",
    "\n",
    "Here's the rule so far:\n",
    "\n",
    "```sudo iptables [step 9] [step 10] [your next answer]```\n",
    "\n",
    "Clearly, you should see how the remaining steps in this topic will work. Additionally, your answer is being printed as you work along.\n",
    "\n",
    "<strong>Your task</strong>: Type in the following parameters which will match the following rules:\n",
    "\n",
    "- Create a rule that matches the NEW state.\n",
    "- Detect TCP packets.\n",
    "  - Hint: Look back at Step 6."
   ]
  },
  {
   "cell_type": "code",
   "execution_count": 14,
   "metadata": {
    "jupyter": {
     "source_hidden": true
    }
   },
   "outputs": [
    {
     "data": {
      "application/vnd.jupyter.widget-view+json": {
       "model_id": "24cb8412f3d64cd88bf3734823c4ee02",
       "version_major": 2,
       "version_minor": 0
      },
      "text/plain": [
       "Output()"
      ]
     },
     "metadata": {},
     "output_type": "display_data"
    },
    {
     "data": {
      "application/vnd.jupyter.widget-view+json": {
       "model_id": "8caac347dd3c4caab0c1a0426e3991f7",
       "version_major": 2,
       "version_minor": 0
      },
      "text/plain": [
       "Text(value='-m state --state NEW -p tcp', description='Rule:', layout=Layout(width='90%'), placeholder='Type y…"
      ]
     },
     "metadata": {},
     "output_type": "display_data"
    },
    {
     "data": {
      "application/vnd.jupyter.widget-view+json": {
       "model_id": "ba7ebf867e3646a99ab4030255e571a5",
       "version_major": 2,
       "version_minor": 0
      },
      "text/plain": [
       "Button(description='Check Rule', style=ButtonStyle())"
      ]
     },
     "metadata": {},
     "output_type": "display_data"
    },
    {
     "data": {
      "application/vnd.jupyter.widget-view+json": {
       "model_id": "5ae0c8ae1f66495a8e2d0999d86199c0",
       "version_major": 2,
       "version_minor": 0
      },
      "text/plain": [
       "Output()"
      ]
     },
     "metadata": {},
     "output_type": "display_data"
    }
   ],
   "source": [
    "# Click the button below to check your work.\n",
    "step11Complete = False\n",
    "\n",
    "# Function to check if the student's answer was correct.\n",
    "def step_11():\n",
    "    # Required to change boolean values.\n",
    "    global step11Complete\n",
    "\n",
    "    # Loading, in case the check is slow.\n",
    "    with output11:\n",
    "        output11.clear_output()\n",
    "        display(HTML(\"<span><img width='12px' height='12px' style='margin-left: 3px;' src='resources/loading.gif'></span>\"))\n",
    "\n",
    "    # First, check to see if the field is empty.\n",
    "    if (userInput11.value == \"\"):\n",
    "        output11.clear_output()\n",
    "        with output11:\n",
    "            display(HTML(\"<span style='color: red;'>You did not provide input for this step.</span>\"))\n",
    "            step11Complete = False\n",
    "\n",
    "    else:\n",
    "        user_input = userInput11.value\n",
    "        escaped_user_input = user_input.replace('\"', '\\\\\"').replace(\"'\", \"'\\\\''\")\n",
    "\n",
    "        # Construct the SSH command for testing the student's response.\n",
    "        # This SSH command needs to be tweaked a little so that environment variables work across SSH.\n",
    "        test_response = f\"\"\"ssh -i /home/USERNAME_GOES_HERE/.ssh/merge_key USERNAME_GOES_HERE@server \"/home/.checker/section_3.py 11 \\\\\"{escaped_user_input}\\\\\"\" \"\"\"\n",
    "        result = subprocess.run(test_response, shell=True, stdout=subprocess.PIPE, stderr=subprocess.PIPE)\n",
    "\n",
    "        # Construct the SSH command for saving the student's response.\n",
    "        save_command = f\"\"\"ssh -i /home/USERNAME_GOES_HERE/.ssh/merge_key USERNAME_GOES_HERE@server \"echo '{escaped_user_input}' > /home/.checker/responses/step_11_answer.txt\" \"\"\"\n",
    "        save_result = subprocess.run(save_command, shell=True, stdout=subprocess.PIPE, stderr=subprocess.PIPE)\n",
    "        \n",
    "        if (result.returncode == 1):\n",
    "            output11.clear_output()\n",
    "            with output11:\n",
    "                display(HTML(\"<span style='color: green;'>Correct! Here are what your rules do so far.</span>\"))\n",
    "                # Creating the table for students.\n",
    "                display(HTML(generate_table(11)))\n",
    "                step11Complete = True\n",
    "        \n",
    "        elif (result.returncode == 0):\n",
    "            output11.clear_output()\n",
    "            with output11:\n",
    "                display(HTML(\"<span style='color: red;'>Your rule appears to be invalid. Please re-read the directions and try again.</span>\"))\n",
    "                step11Complete = False\n",
    "\n",
    "        elif (result.returncode == 2):\n",
    "            output11.clear_output()\n",
    "            with output11:\n",
    "                display(HTML(\"<span style='color: red;'>An error occurred. Please contact your professor or TA.</span>\"))\n",
    "                step11Complete = False\n",
    "\n",
    "        \n",
    "def check_step_11(b):\n",
    "    step_11()\n",
    "\n",
    "    # Auto-save.\n",
    "    if (not runAllSteps):\n",
    "        trigger_save()\n",
    "\n",
    "# Retrieve the student's response. First, create a loading spinner, since this could take a second or two.\n",
    "loading11 = widgets.Output()\n",
    "display(loading11)\n",
    "with loading11:\n",
    "    loading11.clear_output()\n",
    "    display(HTML(\"<span>Loading your saved response... <img width='12px' height='12px' style='margin-left: 3px;' src='resources/loading.gif'></span>\"))\n",
    "\n",
    "# Creating a text area.\n",
    "userInput11 = widgets.Text(\n",
    "    placeholder='Type your rule here',\n",
    "    description='Rule:',\n",
    "    layout=widgets.Layout(width='90%')\n",
    ")\n",
    "\n",
    "# Checking if the step has been answered.\n",
    "result = subprocess.run('ssh -o StrictHostKeyChecking=no -i /home/USERNAME_GOES_HERE/.ssh/merge_key USERNAME_GOES_HERE@server \"cat /home/.checker/responses/step_11_answer.txt 2> /dev/null\"', capture_output=True, text=True, shell=True)\n",
    "# Trim the newline.\n",
    "userInput11.value = result.stdout[:-1]\n",
    "\n",
    "# After the student's response was loaded, clear the output.\n",
    "loading11.clear_output()\n",
    "\n",
    "# Creating the button.\n",
    "button = widgets.Button(description=\"Check Rule\")\n",
    "\n",
    "# Creating an output area.\n",
    "output11 = widgets.Output()\n",
    "\n",
    "# Run the command on click.\n",
    "button.on_click(check_step_11)\n",
    "\n",
    "# Display the output.\n",
    "display(userInput11, button, output11)"
   ]
  },
  {
   "cell_type": "markdown",
   "metadata": {},
   "source": [
    "### Step 12: Sources and Destinations\n",
    "\n",
    "For this step, you're going to apply a source and destination to this rule. These two parameters are fairly straightforward. You will use ```-s``` for the source IP address, and ```-d``` for the destination IP address (OR the domain). Additionally, you can use ```--sport``` or ```--dport``` for the source/destination ports of the rule.\n",
    "\n",
    "<strong>Your task</strong>: Type in the following parameters which will match the following rules:\n",
    "\n",
    "- Use the source of the network interface that you found in Step 2.\n",
    "- Use the destination of ```google.com```.\n",
    "  - <u>Instead of using ```-d google.com```, which is a valid entry, you are required to find an IP address of Google for this step.</u> Try using one of the methods above in Section 1 to find this.\n",
    "- Add a rule that uses Google's destination port of 1234."
   ]
  },
  {
   "cell_type": "code",
   "execution_count": 15,
   "metadata": {
    "jupyter": {
     "source_hidden": true
    }
   },
   "outputs": [
    {
     "data": {
      "application/vnd.jupyter.widget-view+json": {
       "model_id": "d2d6c9b2fe9e445a859e32067329741c",
       "version_major": 2,
       "version_minor": 0
      },
      "text/plain": [
       "Output()"
      ]
     },
     "metadata": {},
     "output_type": "display_data"
    },
    {
     "data": {
      "application/vnd.jupyter.widget-view+json": {
       "model_id": "29c4b0968fc345818c3fea303e41a0c2",
       "version_major": 2,
       "version_minor": 0
      },
      "text/plain": [
       "Text(value='-s 10.0.1.1 -d 172.217.12.142 --dport 1234', description='Rule:', layout=Layout(width='90%'), plac…"
      ]
     },
     "metadata": {},
     "output_type": "display_data"
    },
    {
     "data": {
      "application/vnd.jupyter.widget-view+json": {
       "model_id": "8150a547d482431e930562a22310170c",
       "version_major": 2,
       "version_minor": 0
      },
      "text/plain": [
       "Button(description='Check Rule', style=ButtonStyle())"
      ]
     },
     "metadata": {},
     "output_type": "display_data"
    },
    {
     "data": {
      "application/vnd.jupyter.widget-view+json": {
       "model_id": "b13bf9c95cea402bacb9944c2aaadff1",
       "version_major": 2,
       "version_minor": 0
      },
      "text/plain": [
       "Output()"
      ]
     },
     "metadata": {},
     "output_type": "display_data"
    }
   ],
   "source": [
    "# Click the button below to check your work.\n",
    "step12Complete = False\n",
    "\n",
    "# Function to check if the student's answer was correct.\n",
    "def step_12():\n",
    "    # Required to change boolean values.\n",
    "    global step12Complete\n",
    "\n",
    "    # Loading, in case the check is slow.\n",
    "    with output12:\n",
    "        output12.clear_output()\n",
    "        display(HTML(\"<span><img width='12px' height='12px' style='margin-left: 3px;' src='resources/loading.gif'></span>\"))\n",
    "\n",
    "    # First, check to see if the field is empty.\n",
    "    if (userInput12.value == \"\"):\n",
    "        output12.clear_output()\n",
    "        with output12:\n",
    "            display(HTML(\"<span style='color: red;'>You did not provide input for this step.</span>\"))\n",
    "            step12Complete = False\n",
    "\n",
    "    else:\n",
    "        user_input = userInput12.value\n",
    "        escaped_user_input = user_input.replace('\"', '\\\\\"').replace(\"'\", \"'\\\\''\")\n",
    "\n",
    "        # Construct the SSH command for testing the student's response.\n",
    "        # This SSH command needs to be tweaked a little so that environment variables work across SSH.\n",
    "        test_response = f\"\"\"ssh -i /home/USERNAME_GOES_HERE/.ssh/merge_key USERNAME_GOES_HERE@server \"/home/.checker/section_3.py 12 \\\\\"{escaped_user_input}\\\\\"\" \"\"\"\n",
    "        result = subprocess.run(test_response, shell=True, stdout=subprocess.PIPE, stderr=subprocess.PIPE)\n",
    "\n",
    "        # Construct the SSH command for saving the student's response.\n",
    "        save_command = f\"\"\"ssh -i /home/USERNAME_GOES_HERE/.ssh/merge_key USERNAME_GOES_HERE@server \"echo '{escaped_user_input}' > /home/.checker/responses/step_12_answer.txt\" \"\"\"\n",
    "        save_result = subprocess.run(save_command, shell=True, stdout=subprocess.PIPE, stderr=subprocess.PIPE)\n",
    "        \n",
    "        if (result.returncode == 1):\n",
    "            output12.clear_output()\n",
    "            with output12:\n",
    "                display(HTML(\"<span style='color: green;'>Correct! Here are what your rules do so far.</span>\"))\n",
    "                # Creating the table for students.\n",
    "                display(HTML(generate_table(12)))\n",
    "                step12Complete = True\n",
    "        \n",
    "        elif (result.returncode == 0):\n",
    "            output12.clear_output()\n",
    "            with output12:\n",
    "                display(HTML(\"<span style='color: red;'>Your rule appears to be invalid. Please re-read the directions and try again.</span>\"))\n",
    "                step12Complete = False\n",
    "\n",
    "        elif (result.returncode == 2):\n",
    "            output12.clear_output()\n",
    "            with output12:\n",
    "                display(HTML(\"<span style='color: red;'>An error occurred. Please contact your professor or TA.</span>\"))\n",
    "                step12Complete = False\n",
    "\n",
    "        \n",
    "def check_step_12(b):\n",
    "    step_12()\n",
    "\n",
    "    # Auto-save.\n",
    "    if (not runAllSteps):\n",
    "        trigger_save()\n",
    "\n",
    "# Retrieve the student's response. First, create a loading spinner, since this could take a second or two.\n",
    "loading12 = widgets.Output()\n",
    "display(loading12)\n",
    "with loading12:\n",
    "    loading12.clear_output()\n",
    "    display(HTML(\"<span>Loading your saved response... <img width='12px' height='12px' style='margin-left: 3px;' src='resources/loading.gif'></span>\"))\n",
    "\n",
    "# Creating a text area.\n",
    "userInput12 = widgets.Text(\n",
    "    placeholder='Type your rule here',\n",
    "    description='Rule:',\n",
    "    layout=widgets.Layout(width='90%')\n",
    ")\n",
    "\n",
    "# Checking if the step has been answered.\n",
    "result = subprocess.run('ssh -o StrictHostKeyChecking=no -i /home/USERNAME_GOES_HERE/.ssh/merge_key USERNAME_GOES_HERE@server \"cat /home/.checker/responses/step_12_answer.txt 2> /dev/null\"', capture_output=True, text=True, shell=True)\n",
    "# Trim the newline.\n",
    "userInput12.value = result.stdout[:-1]\n",
    "\n",
    "# After the student's response was loaded, clear the output.\n",
    "loading12.clear_output()\n",
    "\n",
    "# Creating the button.\n",
    "button = widgets.Button(description=\"Check Rule\")\n",
    "\n",
    "# Creating an output area.\n",
    "output12 = widgets.Output()\n",
    "\n",
    "# Run the command on click.\n",
    "button.on_click(check_step_12)\n",
    "\n",
    "# Display the output.\n",
    "display(userInput12, button, output12)"
   ]
  },
  {
   "cell_type": "markdown",
   "metadata": {},
   "source": [
    "### Step 13: Jumps\n",
    "\n",
    "Finally, you are going to do the jump. This indicates what you are going to do with packets that match all of these rules that you composed so far. You have already seen how a jump works. Use the ```-j``` command. Recall that all ```iptables``` rules will end with a jump.\n",
    "\n",
    "<strong>Your task</strong>: Drop all connections that match the rule that you have been constructing in this topic."
   ]
  },
  {
   "cell_type": "code",
   "execution_count": 16,
   "metadata": {
    "jupyter": {
     "source_hidden": true
    }
   },
   "outputs": [
    {
     "data": {
      "application/vnd.jupyter.widget-view+json": {
       "model_id": "2f20054c7c8a4bc284182b28f48298ec",
       "version_major": 2,
       "version_minor": 0
      },
      "text/plain": [
       "Output()"
      ]
     },
     "metadata": {},
     "output_type": "display_data"
    },
    {
     "data": {
      "application/vnd.jupyter.widget-view+json": {
       "model_id": "fffa6c3b0c3e4732bbec0aa38a7ebf3a",
       "version_major": 2,
       "version_minor": 0
      },
      "text/plain": [
       "Text(value='-j DROP', description='Rule:', layout=Layout(width='90%'), placeholder='Type your rule here')"
      ]
     },
     "metadata": {},
     "output_type": "display_data"
    },
    {
     "data": {
      "application/vnd.jupyter.widget-view+json": {
       "model_id": "7c00906158ef4d9681c549646101c21f",
       "version_major": 2,
       "version_minor": 0
      },
      "text/plain": [
       "Button(description='Check Rule', style=ButtonStyle())"
      ]
     },
     "metadata": {},
     "output_type": "display_data"
    },
    {
     "data": {
      "application/vnd.jupyter.widget-view+json": {
       "model_id": "d5867ec9fe904aaab78b5b6c8d457322",
       "version_major": 2,
       "version_minor": 0
      },
      "text/plain": [
       "Output()"
      ]
     },
     "metadata": {},
     "output_type": "display_data"
    }
   ],
   "source": [
    "# Click the button below to check your work.\n",
    "step13Complete = False\n",
    "\n",
    "# Function to check if the student's answer was correct.\n",
    "def step_13():\n",
    "    # Required to change boolean values.\n",
    "    global step13Complete\n",
    "\n",
    "    # Loading, in case the check is slow.\n",
    "    with output13:\n",
    "        output13.clear_output()\n",
    "        display(HTML(\"<span><img width='12px' height='12px' style='margin-left: 3px;' src='resources/loading.gif'></span>\"))\n",
    "\n",
    "    # First, check to see if the field is empty.\n",
    "    if (userInput13.value == \"\"):\n",
    "        output13.clear_output()\n",
    "        with output13:\n",
    "            display(HTML(\"<span style='color: red;'>You did not provide input for this step.</span>\"))\n",
    "            step13Complete = False\n",
    "\n",
    "    else:\n",
    "        user_input = userInput13.value\n",
    "        escaped_user_input = user_input.replace('\"', '\\\\\"').replace(\"'\", \"'\\\\''\")\n",
    "\n",
    "        # Construct the SSH command for testing the student's response.\n",
    "        # This SSH command needs to be tweaked a little so that environment variables work across SSH.\n",
    "        test_response = f\"\"\"ssh -i /home/USERNAME_GOES_HERE/.ssh/merge_key USERNAME_GOES_HERE@server \"/home/.checker/section_3.py 13 \\\\\"{escaped_user_input}\\\\\"\" \"\"\"\n",
    "        result = subprocess.run(test_response, shell=True, stdout=subprocess.PIPE, stderr=subprocess.PIPE)\n",
    "\n",
    "        # Construct the SSH command for saving the student's response.\n",
    "        save_command = f\"\"\"ssh -i /home/USERNAME_GOES_HERE/.ssh/merge_key USERNAME_GOES_HERE@server \"echo '{escaped_user_input}' > /home/.checker/responses/step_13_answer.txt\" \"\"\"\n",
    "        save_result = subprocess.run(save_command, shell=True, stdout=subprocess.PIPE, stderr=subprocess.PIPE)\n",
    "        \n",
    "        if (result.returncode == 1):\n",
    "            output13.clear_output()\n",
    "            with output13:\n",
    "                display(HTML(\"<span style='color: green;'>Correct! Here are what your rules do so far. <strong>Your final rule is displayed below.</strong></span>\"))\n",
    "                # Creating the table for students.\n",
    "                display(HTML(generate_table(13)))\n",
    "                step13Complete = True\n",
    "        \n",
    "        elif (result.returncode == 0):\n",
    "            output13.clear_output()\n",
    "            with output13:\n",
    "                display(HTML(\"<span style='color: red;'>Your rule appears to be invalid. Please re-read the directions and try again. (Hint: Your answer is case-sensitive!)</span>\"))\n",
    "                step13Complete = False\n",
    "\n",
    "        elif (result.returncode == 2):\n",
    "            output13.clear_output()\n",
    "            with output13:\n",
    "                display(HTML(\"<span style='color: red;'>An error occurred. Please contact your professor or TA.</span>\"))\n",
    "                step13Complete = False\n",
    "\n",
    "        \n",
    "def check_step_13(b):\n",
    "    step_13()\n",
    "\n",
    "    # Auto-save.\n",
    "    if (not runAllSteps):\n",
    "        trigger_save()\n",
    "\n",
    "# Retrieve the student's response. First, create a loading spinner, since this could take a second or two.\n",
    "loading13 = widgets.Output()\n",
    "display(loading13)\n",
    "with loading13:\n",
    "    loading13.clear_output()\n",
    "    display(HTML(\"<span>Loading your saved response... <img width='12px' height='12px' style='margin-left: 3px;' src='resources/loading.gif'></span>\"))\n",
    "\n",
    "# Creating a text area.\n",
    "userInput13 = widgets.Text(\n",
    "    placeholder='Type your rule here',\n",
    "    description='Rule:',\n",
    "    layout=widgets.Layout(width='90%')\n",
    ")\n",
    "\n",
    "# Checking if the step has been answered.\n",
    "result = subprocess.run('ssh -o StrictHostKeyChecking=no -i /home/USERNAME_GOES_HERE/.ssh/merge_key USERNAME_GOES_HERE@server \"cat /home/.checker/responses/step_13_answer.txt 2> /dev/null\"', capture_output=True, text=True, shell=True)\n",
    "# Trim the newline.\n",
    "userInput13.value = result.stdout[:-1]\n",
    "\n",
    "# After the student's response was loaded, clear the output.\n",
    "loading13.clear_output()\n",
    "\n",
    "# Creating the button.\n",
    "button = widgets.Button(description=\"Check Rule\")\n",
    "\n",
    "# Creating an output area.\n",
    "output13 = widgets.Output()\n",
    "\n",
    "# Run the command on click.\n",
    "button.on_click(check_step_13)\n",
    "\n",
    "# Display the output.\n",
    "display(userInput13, button, output13)"
   ]
  },
  {
   "cell_type": "markdown",
   "metadata": {},
   "source": [
    "## <strong>Topic 4: A Large-Scale Application of ```iptables```<strong>\n",
    "\n",
    "In this final topic, you are going to be given an instruction to block or accept certain connections. Using all of the knowledge you used in the previous topics, you are prepared to attempt to create your own rules.\n",
    "\n",
    "Once again, as provided in the previous topic, you're free to use these two resources if you feel stuck with the syntax for ```iptables```:\n",
    "\n",
    "- <a href=\"https://linux.die.net/man/8/iptables\">```iptables``` Documentation</a>\n",
    "- <a href=\"https://www.informit.com/articles/article.aspx?p=421057&seqNum=4\">Linux Firewalls, 3rd Edition - Iptables Chapter</a>\n",
    "\n",
    "Additionally, these are the following IP addresses that you will need to use for this section:\n",
    "\n",
    "| Nodes:        | ```server```   | ```client```   |\n",
    "|---------------|----------------|----------------|\n",
    "| IP Addresses: | ```10.0.1.1``` | ```10.0.1.2``` |\n",
    "\n",
    "#### <strong>Useful Information For This Section</strong>:\n",
    "\n",
    "- Whenever you would like to reset your ```iptables``` rules, you may type ```sudo iptables -F```. The ```-F``` command means \"flush\", which will reset your table back to what it originally was. If you had already completed a step, your progress will not be lost after flushing the table.\n",
    "\n",
    "- Additionally, <u>you will need to indicate a specific protocol in each of your steps</u>. In other words, all of your rules must have ```-p udp``` or ```-p tcp``` in them. By default, connections that are made between ```client``` and ```server``` are TCP connections. However, the last step will require a UDP connection.\n",
    "\n",
    "- Use ```sudo iptables -S``` to view all current rules.\n",
    "\n",
    "- You are strongly encouraged to look for keywords in each scenario. These are important keywords to look out for:\n",
    "\n",
    "  - Inbound and outbound\n",
    "  - TCP and UDP\n",
    "  - ```server``` and ```client```"
   ]
  },
  {
   "cell_type": "markdown",
   "metadata": {},
   "source": [
    "### Step 14: Inbound TCP Connections to the Apache Server\n",
    "\n",
    "As you do the questions provided in this topic, you will be provided a \"Check Rule\" button. These checks will take time to complete, since they're testing for time-outs. Additionally, you are going to be told which node that these firewall rules will need to be placed on.\n",
    "\n",
    "<strong>Scenario:</strong> On the ```server``` node, <strong>```DROP```</strong> inbound TCP connections to the Apache port from ```client```. This port is ```80```. Currently, this port is open to all connections to the ```server``` node.\n",
    "\n",
    "<strong>A successful test appears as follows:</strong>\n",
    "```\n",
    "USERNAME_GOES_HERE@client:~$ telnet server 80\n",
    "Trying 10.0.1.1...\n",
    "^C\n",
    "USERNAME_GOES_HERE@client:~$\n",
    "```\n",
    "\n",
    "Click the button below to check your work.\n",
    "\n",
    "<span style=\"color: green\"><strong><img src=\"resources/idea.png\" style=\"width: 12px\"> Tips:</strong></span> \n",
    "- You will need to use ```client```'s IP address in your rule.\n",
    "- In order to use a port in your rule, you will need to use the ```-p``` argument, which stands for protocol. All rules in this section require a ```-p``` argument. Look at the title for each step to know which protocol to use.\n",
    "\n",
    "<span style=\"color: red;\"><strong><img src=\"resources/alert.png\" style=\"width: 12px\"> Warning:</strong></span> You are now starting to apply your own firewall rules, which means that an incorrect firewall rule could potentially lock you out from your node.\n",
    "\n",
    "If you get locked out, you will have to end your lab (at the bottom of the notebook), then restart your lab by clicking \"Start Lab\" at the top of the notebook.\n",
    "\n",
    "Your progress is automatically saved at each step, so you do not need to worry about losing progress. If you restart your lab, make sure to reload your lab."
   ]
  },
  {
   "cell_type": "code",
   "execution_count": 17,
   "metadata": {
    "jupyter": {
     "source_hidden": true
    }
   },
   "outputs": [
    {
     "data": {
      "application/vnd.jupyter.widget-view+json": {
       "model_id": "62429b2a96214aa8b800089409ea7269",
       "version_major": 2,
       "version_minor": 0
      },
      "text/plain": [
       "Button(description='Check Rule', style=ButtonStyle())"
      ]
     },
     "metadata": {},
     "output_type": "display_data"
    },
    {
     "data": {
      "application/vnd.jupyter.widget-view+json": {
       "model_id": "0890b4a615d34aa98a1c1e71594392b2",
       "version_major": 2,
       "version_minor": 0
      },
      "text/plain": [
       "Output()"
      ]
     },
     "metadata": {},
     "output_type": "display_data"
    }
   ],
   "source": [
    "# Click the button below to check your work.\n",
    "from subprocess import Popen, PIPE\n",
    "step14Complete = False\n",
    "\n",
    "# Function to check the permissions.\n",
    "def step_14():\n",
    "    # Required to change boolean value.\n",
    "    global step14Complete\n",
    "\n",
    "    with output14:\n",
    "        output14.clear_output()\n",
    "        display(HTML(\"<span>Testing your firewall rule... <img width='14px' height='14px' style='margin-left: 3px;' src='resources/loading.gif'></span>\"))\n",
    "    \n",
    "    # This subprocess statement is a little different. Need to call a local script instead of a remote one.\n",
    "    result = subprocess.run('su - USERNAME_GOES_HERE -c \"~/notebooks/resources/firewall/section_4.py 14\"', shell=True, capture_output=True, text=True)\n",
    "    \n",
    "    if (result.returncode == 1):\n",
    "        output14.clear_output()\n",
    "        with output14:\n",
    "            display(HTML(\"<span style='color: green;'>Correct! Your firewall rule worked correctly. If you have previously passed this step, this step will not fail. Feel free to remove this rule from your table.</span>\"))\n",
    "            step14Complete = True\n",
    "\n",
    "    elif (result.returncode == 0):\n",
    "        output14.clear_output()\n",
    "        with output14:\n",
    "            display(HTML(\"<span style='color: red;'>Your rule did not perform the given scenario correctly. Try again.</span>\"))\n",
    "            step14Complete = False\n",
    "\n",
    "    elif (result.returncode == 3):\n",
    "        output14.clear_output()\n",
    "        with output14:\n",
    "            display(HTML(\"<span style='color: red;'>The port number that's required for this step cannot be found in your rules. Try again.</span>\"))\n",
    "            step14Complete = False\n",
    "\n",
    "    elif (result.returncode == 2):\n",
    "        output14.clear_output()\n",
    "        with output14:\n",
    "            display(HTML(\"<span style='color: red;'>There was an error with checking your step. Please contact your professor or TA for assistance.</span>\"))\n",
    "            step14Complete = False\n",
    "    \n",
    "def check_step_14(b):\n",
    "    step_14()\n",
    "\n",
    "    # Auto-save.\n",
    "    if (not runAllSteps):\n",
    "        trigger_save()\n",
    "\n",
    "# Creating the button.\n",
    "button = widgets.Button(description=\"Check Rule\")\n",
    "\n",
    "# Creating an output area.\n",
    "output14 = widgets.Output()\n",
    "\n",
    "# Run the command on click.\n",
    "button.on_click(check_step_14)\n",
    "\n",
    "# Display the output.\n",
    "display(button, output14)"
   ]
  },
  {
   "cell_type": "markdown",
   "metadata": {},
   "source": [
    "### Step 15: Inbound TCP Connections to the MySQL Server\n",
    "\n",
    "<strong>Scenario:</strong> On the ```server``` node, <strong>```DROP```</strong> all inbound TCP connections to the MySQL port from ```client```. This port is ```3306```. Currently, this port is open to all connections to the ```server``` node.\n",
    "\n",
    "<strong>A successful test appears as follows:</strong>\n",
    "```\n",
    "USERNAME_GOES_HERE@client:~$ telnet server 3306\n",
    "Trying 10.0.1.1...\n",
    "^C\n",
    "USERNAME_GOES_HERE@client:~$\n",
    "```\n",
    "\n",
    "Click the button below to check your work."
   ]
  },
  {
   "cell_type": "code",
   "execution_count": 18,
   "metadata": {
    "jupyter": {
     "source_hidden": true
    }
   },
   "outputs": [
    {
     "data": {
      "application/vnd.jupyter.widget-view+json": {
       "model_id": "90af2ca817e1416bb430660ce49afe86",
       "version_major": 2,
       "version_minor": 0
      },
      "text/plain": [
       "Button(description='Check Rule', style=ButtonStyle())"
      ]
     },
     "metadata": {},
     "output_type": "display_data"
    },
    {
     "data": {
      "application/vnd.jupyter.widget-view+json": {
       "model_id": "11f4766e73824aa5b56e24c066433d3d",
       "version_major": 2,
       "version_minor": 0
      },
      "text/plain": [
       "Output()"
      ]
     },
     "metadata": {},
     "output_type": "display_data"
    }
   ],
   "source": [
    "# Click the button below to check your work.\n",
    "step15Complete = False\n",
    "\n",
    "# Function to check the permissions.\n",
    "def step_15():\n",
    "    # Required to change boolean value.\n",
    "    global step15Complete\n",
    "\n",
    "    with output15:\n",
    "        output15.clear_output()\n",
    "        display(HTML(\"<span><img width='14px' height='14px' style='margin-left: 3px;' src='resources/loading.gif'></span>\"))\n",
    "    \n",
    "    # This subprocess statement is a little different. Need to call a local script instead of a remote one.\n",
    "    result = subprocess.run('su - USERNAME_GOES_HERE -c \"~/notebooks/resources/firewall/section_4.py 15\"', shell=True, capture_output=True, text=True)\n",
    "\n",
    "    if (result.returncode == 1):\n",
    "        output15.clear_output()\n",
    "        with output15:\n",
    "            display(HTML(\"<span style='color: green;'>Correct! Your firewall rule worked correctly. If you have previously passed this step, this step will not fail. Feel free to remove this rule from your table.</span>\"))\n",
    "            step15Complete = True\n",
    "\n",
    "    elif (result.returncode == 0):\n",
    "        output15.clear_output()\n",
    "        with output15:\n",
    "            display(HTML(\"<span style='color: red;'>Your rule did not perform the given scenario correctly. Try again.</span>\"))\n",
    "            step15Complete = False\n",
    "\n",
    "    elif (result.returncode == 3):\n",
    "        output15.clear_output()\n",
    "        with output15:\n",
    "            display(HTML(\"<span style='color: red;'>The port number that's required for this step cannot be found in your rules. Try again.</span>\"))\n",
    "            step15Complete = False\n",
    "\n",
    "    elif (result.returncode == 2):\n",
    "        output15.clear_output()\n",
    "        with output15:\n",
    "            display(HTML(\"<span style='color: red;'>There was an error with checking your step. Please contact your professor or TA for assistance.</span>\"))\n",
    "            step15Complete = False\n",
    "    \n",
    "def check_step_15(b):\n",
    "    step_15()\n",
    "\n",
    "    # Auto-save.\n",
    "    if (not runAllSteps):\n",
    "        trigger_save()\n",
    "\n",
    "# Creating the button.\n",
    "button = widgets.Button(description=\"Check Rule\")\n",
    "\n",
    "# Creating an output area.\n",
    "output15 = widgets.Output()\n",
    "\n",
    "# Run the command on click.\n",
    "button.on_click(check_step_15)\n",
    "\n",
    "# Display the output.\n",
    "display(button, output15)"
   ]
  },
  {
   "cell_type": "markdown",
   "metadata": {},
   "source": [
    "### Step 16: Outbound TCP Connections to a Specific HTTPS Request\n",
    "\n",
    "<strong>Scenario:</strong> On the ```client``` node, <strong>```ACCEPT```</strong> outbound HTTPS connections to <span style=\"color: blue;\">stackoverflow.com</span>, but <strong>```REJECT```</strong> everything else. The port for HTTPS requests is ```443```. Stack Overflow should be the only website that can be accessed through the ```client``` node.\n",
    "\n",
    "<u>A destination IP address can work, but IP addresses may change.</u> Consider reviewing Topic 1 to view what tools you can use to find this IP. Instead, <u>the destination can be a URL</u>.\n",
    "\n",
    "Domains use multiple IP addresses, depending on what the DNS server returns. If one fails, it will use the next available IP address until it returns successfully. The IP address that you use in the rule doesn't matter, as long as it's one of Stack Overflow's.\n",
    "\n",
    "<strong>A successful test appears as follows:</strong>\n",
    "```\n",
    "USERNAME_GOES_HERE@client:~$ telnet stackoverflow.com 443\n",
    "Trying XXX.XX.XX.X...\n",
    "Trying XXX.XX.XXX.XXX...\n",
    "Connected to stackoverflow.com.\n",
    "Escape character is '^]'.\n",
    "Connection closed by foreign host.\n",
    "USERNAME_GOES_HERE@client:~$\n",
    "```\n",
    "\n",
    "Click the button below to check your work. \n",
    "\n",
    "<span style=\"color: green\"><strong><img src=\"resources/idea.png\" style=\"width: 12px\"> Note:</strong></span> In order for this test to pass, other random websites will be accessed. Other websites must not be accessible.\n",
    "\n",
    "<span style=\"color: green\"><strong><img src=\"resources/idea.png\" style=\"width: 12px\"> Tip:</strong></span> <strong>Two rules are required for this step.</strong> Rules for ```iptables``` go in order. If you attempt to block all outgoing connections first, then allow Stack Overflow through the firewall, it will not work. You must allow Stack Overflow first, then block the remaining connections."
   ]
  },
  {
   "cell_type": "code",
   "execution_count": 19,
   "metadata": {
    "jupyter": {
     "source_hidden": true
    }
   },
   "outputs": [
    {
     "data": {
      "application/vnd.jupyter.widget-view+json": {
       "model_id": "da86393a43654607b5639a263580c224",
       "version_major": 2,
       "version_minor": 0
      },
      "text/plain": [
       "Button(description='Check Rule', style=ButtonStyle())"
      ]
     },
     "metadata": {},
     "output_type": "display_data"
    },
    {
     "data": {
      "application/vnd.jupyter.widget-view+json": {
       "model_id": "a32d809a8e434e78bd6e62c1389bc464",
       "version_major": 2,
       "version_minor": 0
      },
      "text/plain": [
       "Output()"
      ]
     },
     "metadata": {},
     "output_type": "display_data"
    }
   ],
   "source": [
    "# Click the button below to check your work.\n",
    "step16Complete = False\n",
    "\n",
    "# Function to check the permissions.\n",
    "def step_16():\n",
    "    # Required to change boolean value.\n",
    "    global step16Complete\n",
    "\n",
    "    with output16:\n",
    "        output16.clear_output()\n",
    "        display(HTML(\"<span>Please wait. This will take some extra time. Multiple websites are tested for this step... <img width='14px' height='14px' style='margin-left: 3px;' src='resources/loading.gif'></span>\"))\n",
    "    \n",
    "    # This subprocess statement is a little different. Need to call a local script instead of a remote one.\n",
    "    result = subprocess.run('su - USERNAME_GOES_HERE -c \"~/notebooks/resources/firewall/section_4.py 16\"', shell=True, capture_output=True, text=True)\n",
    "\n",
    "    if (result.returncode == 1):\n",
    "        output16.clear_output()\n",
    "        with output16:\n",
    "            display(HTML(\"<span style='color: green;'>Correct! Your firewall rule worked correctly. If you have previously passed this step, this step will not fail. Feel free to remove this rule from your table.</span>\"))\n",
    "            step16Complete = True\n",
    "\n",
    "    elif (result.returncode == 0):\n",
    "        output16.clear_output()\n",
    "        with output16:\n",
    "            display(HTML(\"<span style='color: red;'>Your rule did not perform the given scenario correctly. Try again.</span>\"))\n",
    "            step16Complete = False\n",
    "\n",
    "    elif (result.returncode == 3):\n",
    "        output16.clear_output()\n",
    "        with output16:\n",
    "            display(HTML(\"<span style='color: red;'>The port number that's required for this step cannot be found in your rules. Try again.</span>\"))\n",
    "            step16Complete = False\n",
    "\n",
    "    elif (result.returncode == 2):\n",
    "        output16.clear_output()\n",
    "        with output16:\n",
    "            display(HTML(\"<span style='color: red;'>There was an error with checking your step. Please contact your professor or TA for assistance.</span>\"))\n",
    "            step16Complete = False\n",
    "    \n",
    "def check_step_16(b):\n",
    "    step_16()\n",
    "\n",
    "    # Auto-save.\n",
    "    if (not runAllSteps):\n",
    "        trigger_save()\n",
    "\n",
    "# Creating the button.\n",
    "button = widgets.Button(description=\"Check Rule\")\n",
    "\n",
    "# Creating an output area.\n",
    "output16 = widgets.Output()\n",
    "\n",
    "# Run the command on click.\n",
    "button.on_click(check_step_16)\n",
    "\n",
    "# Display the output.\n",
    "display(button, output16)"
   ]
  },
  {
   "cell_type": "markdown",
   "metadata": {},
   "source": [
    "### Step 17: Outbound TCP OpenSSH Requests\n",
    "\n",
    "<strong>Scenario:</strong> On the ```client``` node, <strong>```REJECT```</strong> all outbound SSH requests. OpenSSH uses port 22.\n",
    "\n",
    "<strong>A successful test appears as follows:</strong>\n",
    "```\n",
    "USERNAME_GOES_HERE@client:~$ ssh server\n",
    "ssh: connect to host server port 22: Connection refused\n",
    "USERNAME_GOES_HERE@client:~$\n",
    "```\n",
    "\n",
    "Click the button below to check your work. \n",
    "\n",
    "<span style=\"color: red;\"><strong><img src=\"resources/alert.png\" style=\"width: 12px\"> Warning:</strong></span> Double-check that you are going to deny any <strong>outbound</strong> SSH requests. If you accidentally deny any incoming SSH requests, you may lose access to your ```client``` node, and the lab must be restarted. <strong>Additionally</strong>, make sure that this rule is applied to the ```client``` node. If this rule is accidentally applied to the ```server``` node, the notebook will not save properly."
   ]
  },
  {
   "cell_type": "code",
   "execution_count": 20,
   "metadata": {
    "jupyter": {
     "source_hidden": true
    }
   },
   "outputs": [
    {
     "data": {
      "application/vnd.jupyter.widget-view+json": {
       "model_id": "646f025394244ba083d3089429805926",
       "version_major": 2,
       "version_minor": 0
      },
      "text/plain": [
       "Button(description='Check Rule', style=ButtonStyle())"
      ]
     },
     "metadata": {},
     "output_type": "display_data"
    },
    {
     "data": {
      "application/vnd.jupyter.widget-view+json": {
       "model_id": "0f67b26a70ac48428fcc656a21f19510",
       "version_major": 2,
       "version_minor": 0
      },
      "text/plain": [
       "Output()"
      ]
     },
     "metadata": {},
     "output_type": "display_data"
    }
   ],
   "source": [
    "# Click the button below to check your work.\n",
    "step17Complete = False\n",
    "\n",
    "# Function to check the permissions.\n",
    "def step_17():\n",
    "    # Required to change boolean value.\n",
    "    global step17Complete\n",
    "\n",
    "    with output17:\n",
    "        output17.clear_output()\n",
    "        display(HTML(\"<span><img width='14px' height='14px' style='margin-left: 3px;' src='resources/loading.gif'></span>\"))\n",
    "    \n",
    "    # This subprocess statement is a little different. Need to call a local script instead of a remote one.\n",
    "    result = subprocess.run('su - USERNAME_GOES_HERE -c \"~/notebooks/resources/firewall/section_4.py 17\"', shell=True, capture_output=True, text=True)\n",
    "\n",
    "    if (result.returncode == 1):\n",
    "        output17.clear_output()\n",
    "        with output17:\n",
    "            display(HTML(\"<span style='color: green;'>Correct! Your firewall rule worked correctly. If you have previously passed this step, this step will not fail. Feel free to remove this rule from your table.</span>\"))\n",
    "            step17Complete = True\n",
    "\n",
    "    elif (result.returncode == 0):\n",
    "        output17.clear_output()\n",
    "        with output17:\n",
    "            display(HTML(\"<span style='color: red;'>Your rule did not perform the given scenario correctly. Try again.</span>\"))\n",
    "            step17Complete = False\n",
    "\n",
    "    elif (result.returncode == 3):\n",
    "        output17.clear_output()\n",
    "        with output17:\n",
    "            display(HTML(\"<span style='color: red;'>The port number that's required for this step cannot be found in your rules. Try again.</span>\"))\n",
    "            step17Complete = False\n",
    "\n",
    "    elif (result.returncode == 2):\n",
    "        output17.clear_output()\n",
    "        with output17:\n",
    "            display(HTML(\"<span style='color: red;'>There was an error with checking your step. Please contact your professor or TA for assistance.</span>\"))\n",
    "            step17Complete = False\n",
    "    \n",
    "def check_step_17(b):\n",
    "    step_17()\n",
    "\n",
    "    # Auto-save.\n",
    "    if (not runAllSteps):\n",
    "        trigger_save()\n",
    "\n",
    "# Creating the button.\n",
    "button = widgets.Button(description=\"Check Rule\")\n",
    "\n",
    "# Creating an output area.\n",
    "output17 = widgets.Output()\n",
    "\n",
    "# Run the command on click.\n",
    "button.on_click(check_step_17)\n",
    "\n",
    "# Display the output.\n",
    "display(button, output17)"
   ]
  },
  {
   "cell_type": "markdown",
   "metadata": {},
   "source": [
    "### Step 18: Inbound UDP Traffic on Ports 10000:10005\n",
    "\n",
    "<strong>Scenario:</strong> On the ```server``` node, <strong>allow</strong> UDP connections to be made on six ports: ```10000```, ```10001```, ```10002```, ```10003```, ```10004```, and ```10005```. You do not need to apply rules on the ```client``` node. Just the ```server``` node. Additionally, <strong>```DROP```</strong> any other UDP packet that is sent from the ```client``` node. \n",
    "\n",
    "These six ports should be the only ports that ```client``` can send UDP packets to ```server``` on. <strong>You do not need to make six independent rules for the ports.</strong> You can just use ```10000:10005```. <u>If you do not use a port range like this, your step won't pass!</u>\n",
    "\n",
    "<strong>A successful test appears as follows:</strong>\n",
    "\n",
    "<u>Part 1:</u>\n",
    "```\n",
    "USERNAME_GOES_HERE@server:~$ nc -u -l -p 10000\n",
    "Hello!\n",
    "\n",
    "USERNAME_GOES_HERE@client:~$ nc -u server 10000\n",
    "(Type Hello!)\n",
    "```\n",
    "\n",
    "<u>Part 2:</u>\n",
    "\n",
    "```\n",
    "USERNAME_GOES_HERE@server:~$ nc -u -l -p 10006\n",
    "\n",
    "\n",
    "USERNAME_GOES_HERE@client:~$ nc -u server 10006\n",
    "(Type Hello!)\n",
    "```\n",
    "\n",
    "Click the button below to check your work. \n",
    "\n",
    "<span style=\"color: green\"><strong><img src=\"resources/idea.png\" style=\"width: 12px\"> Tip:</strong></span> Like before, <strong>two rules are required for this step.</strong> One to accept the UDP packets through the specified ports from ```client```, and one to drop the remaining UDP packets from ```client``` on the remaining ports. Remember that order matters when adding ```iptables``` rules!\n",
    "\n",
    "<span style=\"color: red;\"><strong><img src=\"resources/alert.png\" style=\"width: 12px\"> Warning:</strong></span> ```server``` relies on some UDP connections for ```iptables``` to run properly. Therefore, make sure to add the source IP address for ```client```, which is provided at the start of the topic. If you do not add a ```-s``` parameter, where the source is the ```client```, you might break ```iptables```!"
   ]
  },
  {
   "cell_type": "code",
   "execution_count": 21,
   "metadata": {
    "jupyter": {
     "source_hidden": true
    }
   },
   "outputs": [
    {
     "data": {
      "application/vnd.jupyter.widget-view+json": {
       "model_id": "1628b0b4b1264ff4a478ce86a2f2169e",
       "version_major": 2,
       "version_minor": 0
      },
      "text/plain": [
       "Button(description='Check Rule', style=ButtonStyle())"
      ]
     },
     "metadata": {},
     "output_type": "display_data"
    },
    {
     "data": {
      "application/vnd.jupyter.widget-view+json": {
       "model_id": "c6d3161b5ff349f2ada2b00e6b483084",
       "version_major": 2,
       "version_minor": 0
      },
      "text/plain": [
       "Output()"
      ]
     },
     "metadata": {},
     "output_type": "display_data"
    }
   ],
   "source": [
    "# Click the button below to check your work.\n",
    "step18Complete = False\n",
    "\n",
    "# Function to check the permissions.\n",
    "def step_18():\n",
    "    # Required to change boolean value.\n",
    "    global step18Complete\n",
    "\n",
    "    with output18:\n",
    "        output18.clear_output()\n",
    "        display(HTML(\"<span><img width='14px' height='14px' style='margin-left: 3px;' src='resources/loading.gif'></span>\"))\n",
    "    \n",
    "    # This subprocess statement is a little different. Need to call a local script instead of a remote one.\n",
    "    result = subprocess.run('su - USERNAME_GOES_HERE -c \"~/notebooks/resources/firewall/section_4.py 18\"', shell=True, capture_output=True, text=True)\n",
    "\n",
    "    if (result.returncode == 1):\n",
    "        output18.clear_output()\n",
    "        with output18:\n",
    "            display(HTML(\"<span style='color: green;'>Correct! Your firewall rule worked correctly. If you have previously passed this step, this step will not fail. Feel free to remove this rule from your table.</span>\"))\n",
    "            step18Complete = True\n",
    "\n",
    "    elif (result.returncode == 0):\n",
    "        output18.clear_output()\n",
    "        with output18:\n",
    "            display(HTML(\"<span style='color: red;'>Your rule did not perform the given scenario correctly. Try again.</span>\"))\n",
    "            step18Complete = False\n",
    "\n",
    "    elif (result.returncode == 3):\n",
    "        output18.clear_output()\n",
    "        with output18:\n",
    "            display(HTML(\"<span style='color: red;'>The port number that's required for this step cannot be found in your rules. Try again.</span>\"))\n",
    "            step18Complete = False\n",
    "\n",
    "    elif (result.returncode == 2):\n",
    "        output18.clear_output()\n",
    "        with output18:\n",
    "            display(HTML(\"<span style='color: red;'>There was an error with checking your step. Please contact your professor or TA for assistance.</span>\"))\n",
    "            step18Complete = False\n",
    "    \n",
    "def check_step_18(b):\n",
    "    step_18()\n",
    "\n",
    "    # Auto-save.\n",
    "    if (not runAllSteps):\n",
    "        trigger_save()\n",
    "\n",
    "# Creating the button.\n",
    "button = widgets.Button(description=\"Check Rule\")\n",
    "\n",
    "# Creating an output area.\n",
    "output18 = widgets.Output()\n",
    "\n",
    "# Run the command on click.\n",
    "button.on_click(check_step_18)\n",
    "\n",
    "# Display the output.\n",
    "display(button, output18)"
   ]
  },
  {
   "cell_type": "markdown",
   "metadata": {},
   "source": [
    "## <strong>Grading</strong>\n",
    "\n",
    "To check your overall grade, click on the button below.\n",
    "\n",
    "<strong>*Warning:* Your submission will be ran on an unmodified copy of this notebook</strong>. If you tinkered with any of the input cells to pass a step, you will not get full credit."
   ]
  },
  {
   "cell_type": "code",
   "execution_count": 22,
   "metadata": {
    "jupyter": {
     "source_hidden": true
    }
   },
   "outputs": [
    {
     "data": {
      "application/vnd.jupyter.widget-view+json": {
       "model_id": "6fa29366901140599463ad2e0d5ba15b",
       "version_major": 2,
       "version_minor": 0
      },
      "text/plain": [
       "Button(description='Calculate Grade', style=ButtonStyle())"
      ]
     },
     "metadata": {},
     "output_type": "display_data"
    },
    {
     "data": {
      "application/vnd.jupyter.widget-view+json": {
       "model_id": "69eddc1dd4b742fbb6cd1d2941d34abe",
       "version_major": 2,
       "version_minor": 0
      },
      "text/plain": [
       "Output()"
      ]
     },
     "metadata": {},
     "output_type": "display_data"
    }
   ],
   "source": [
    "# Click the button below to check your overall grade.\n",
    "steps_to_check = [step_1, step_2, step_3, step_4, step_5, step_6, step_7, step_8, step_9, step_10, step_11, step_12, step_13, step_14, step_15, step_16, step_17, step_18]   \n",
    "\n",
    "# Function to calculate grade after refreshing the cell\n",
    "def calculate_grade(b):\n",
    "    # To not auto-save at each step.\n",
    "    global runAllSteps\n",
    "    runAllSteps = True\n",
    "\n",
    "    with gradeOutput:\n",
    "        gradeOutput.clear_output()\n",
    "        display(HTML(\"<span>Testing all steps. Please wait.</span> \\\n",
    "            <span><img width='12px' height='12px' style='margin-left: 3px;' src='resources/loading.gif'></span>\"))\n",
    "    \n",
    "    # Required for checking the boolean values.\n",
    "    for func in steps_to_check:\n",
    "        func()  # Call each function in order.\n",
    "\n",
    "    # Assuming steps are updated above this cell in some way\n",
    "    steps = [step1Complete, step2Complete, step3Complete, step4Complete, step5Complete, step6Complete, step7Complete, step8Complete, step9Complete, step10Complete, step11Complete, step12Complete, step13Complete, step14Complete, step15Complete, step16Complete, step17Complete, step18Complete]\n",
    "    output = \"\"\n",
    "    stepsCorrect = 0\n",
    "    numOfSteps = len(steps)\n",
    "\n",
    "    for i in range(numOfSteps):\n",
    "        if steps[i]:\n",
    "            stepsCorrect += 1\n",
    "            output += \"<div style='color: green;'>Step \" + str(i + 1) + \" is complete.</div>\"\n",
    "        else:\n",
    "            output += \"<div style='color: red;'>Step \" + str(i + 1) + \" is incomplete.</div>\"\n",
    "\n",
    "    output += \"<div style='color: black;'>You have \" + str(stepsCorrect) + \" out of \" + str(numOfSteps) + \" steps completed.</div>\"\n",
    "\n",
    "    with gradeOutput:\n",
    "        gradeOutput.clear_output()\n",
    "        display(HTML(output))\n",
    "\n",
    "    # Auto-save at the very end.\n",
    "    runAllSteps = False\n",
    "    if (not runAllSteps):\n",
    "        trigger_save()\n",
    "    \n",
    "\n",
    "# Create a button to refresh the cell and another to calculate grade.\n",
    "grade_button = widgets.Button(description=\"Calculate Grade\")\n",
    "\n",
    "# Link buttons to functions.\n",
    "grade_button.on_click(calculate_grade)\n",
    "\n",
    "# Output area.\n",
    "gradeOutput = widgets.Output()\n",
    "\n",
    "# Display the buttons and output.\n",
    "display(grade_button, gradeOutput)"
   ]
  },
  {
   "cell_type": "markdown",
   "metadata": {},
   "source": [
    "### Stopping the Lab\n",
    "\n",
    "Once you are done with the lab, click on the \"Stop Lab\" button below. <strong>This will delete your materialization, which will delete all of the lab's resources.</strong> Your progress is saved automatically in ```~/notebooks/submissions```. This folder is stored on your XDC, and will not be deleted upon stopping the lab."
   ]
  },
  {
   "cell_type": "code",
   "execution_count": 23,
   "metadata": {
    "jupyter": {
     "source_hidden": true
    }
   },
   "outputs": [
    {
     "data": {
      "application/vnd.jupyter.widget-view+json": {
       "model_id": "6b199cf7f21b4b8e9ea594de36b54379",
       "version_major": 2,
       "version_minor": 0
      },
      "text/plain": [
       "Checkbox(value=False, description='Confirm', indent=False)"
      ]
     },
     "metadata": {},
     "output_type": "display_data"
    },
    {
     "data": {
      "application/vnd.jupyter.widget-view+json": {
       "model_id": "ec906028a9f84974bee945d0107c2ed9",
       "version_major": 2,
       "version_minor": 0
      },
      "text/plain": [
       "Button(description='Stop Lab', style=ButtonStyle())"
      ]
     },
     "metadata": {},
     "output_type": "display_data"
    },
    {
     "data": {
      "application/vnd.jupyter.widget-view+json": {
       "model_id": "302289d6693843b9a2d675fd138b9e07",
       "version_major": 2,
       "version_minor": 0
      },
      "text/plain": [
       "Output()"
      ]
     },
     "metadata": {},
     "output_type": "display_data"
    }
   ],
   "source": [
    "# Click the button below to stop the experiment.\n",
    "def stoplab(button):\n",
    "    # Check to make sure that the student wants to confirm ending the lab.\n",
    "    if (confirm.value == False):\n",
    "        with stop_output:\n",
    "            stop_output.clear_output()\n",
    "            display(HTML(\"<newline><span style='color: red;'>Please confirm that you wish to end the lab.</span>\"))\n",
    "\n",
    "    else:\n",
    "        # Defining the lab name.\n",
    "        labname = \"firewalls\"\n",
    "    \n",
    "        # Writing the information to an empty field below the button.\n",
    "        with stop_output:\n",
    "            stop_output.clear_output()\n",
    "            \n",
    "            display(HTML(\"<span>Stopping the \" + labname + \" lab. This will take a minute to process. Please wait.</span> \\\n",
    "                <span><img width='12px' height='12px' style='margin-left: 3px;' src='resources/loading.gif'></span>\"))\n",
    "            stopexp = subprocess.run('su - USERNAME_GOES_HERE -c \"bash /share/stopexp ' + labname + 'jup\"', capture_output=True, text=True, shell=True)\n",
    "            stop_output.clear_output()\n",
    "            display(HTML(\"<span>Done. Result:</span>\"))\n",
    "            print(stopexp.stdout)\n",
    "    \n",
    "            display(HTML(\"<newline><span style='color: green;'><strong>Your lab has been ended.</strong></span>\"))\n",
    "\n",
    "# Creating the button.\n",
    "stopButton = widgets.Button(description=\"Stop Lab\")\n",
    "\n",
    "# Create a confirmation check.\n",
    "confirm = widgets.Checkbox(\n",
    "    value=False,\n",
    "    description='Confirm',\n",
    "    disabled=False,\n",
    "    indent=False\n",
    ")\n",
    "\n",
    "# Creating an output area.\n",
    "stop_output = widgets.Output()\n",
    "\n",
    "# Run the command on click.\n",
    "stopButton.on_click(stoplab)\n",
    "\n",
    "# Display the output.\n",
    "display(confirm, stopButton, stop_output)"
   ]
  }
 ],
 "metadata": {
  "kernelspec": {
   "display_name": "Python 3 (ipykernel)",
   "language": "python",
   "name": "python3"
  },
  "language_info": {
   "codemirror_mode": {
    "name": "ipython",
    "version": 3
   },
   "file_extension": ".py",
   "mimetype": "text/x-python",
   "name": "python",
   "nbconvert_exporter": "python",
   "pygments_lexer": "ipython3",
   "version": "3.10.12"
  }
 },
 "nbformat": 4,
 "nbformat_minor": 4
}
