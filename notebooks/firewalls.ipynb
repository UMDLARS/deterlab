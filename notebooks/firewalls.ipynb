{
 "cells": [
  {
   "cell_type": "markdown",
   "metadata": {
    "editable": true,
    "slideshow": {
     "slide_type": ""
    },
    "tags": []
   },
   "source": [
    "# <strong>Firewalls</strong>\n",
    "Firewalls are security features for networks designed to accept or reject connections to certain websites and ports. There are two types of firewalls: <strong>Stateless</strong> and <strong>Stateful</strong> firewalls.\n",
    "\n",
    "<figure><center><img src=\"resources/firewall/firewall_graphic.jpg\" style=\"width: 85%; height: 85%;\"></img></center><em><figcaption>Credit: <a href=\"https://www.elegantthemes.com/blog/wordpress/what-is-a-firewall-and-which-type-is-right-for-you\">Elegant Themes</a></figcaption></em></figure>\n",
    "\n",
    "#### <strong>Stateless Firewalls</strong>\n",
    "Stateless firewalls use rules to accept or block connections based on the source, destination, and other predefined criteria, without tracking the connection's state. The <u>state</u> of a connection refers to its status based on the packet sent. More about states will be covered when discussing stateful firewalls. Stateless firewalls tend to be quicker because they use predefined rules to filter information. Since they do not track states, they can be faster and less resource-intensive, making them effective for handling heavy traffic loads. Typically, small companies opt for stateless firewalls due to their affordability. <a href=\"https://www.fortinet.com/resources/cyberglossary/stateful-vs-stateless-firewall\">Because there is usually less incoming traffic than with a large enterprise, there may also be fewer threats.</a>\n",
    "\n",
    "#### <strong>Stateful Firewalls</strong>\n",
    "Stateful firewalls are more intelligent because they can track and monitor active connections. There are three types of states recognized by ```iptables```, the tool you will use to configure firewalls in this lab:\n",
    "\n",
    "|       State       | Description|\n",
    "|:-----------------:|--------------------------------------|\n",
    "| ```NEW```         | A new connection. Has not been seen in both directions (incoming and outgoing). |\n",
    "| ```ESTABLISHED``` | A previously-seen connection. Has been seen at one point going in either direction. |\n",
    "| ```RELATED```     | A different connection, but has been previously associated with a prior connection, <br>like FTP (File Transfer Protocol) or ICMP (Internet Control Message Protocol) errors. <br>These errors occur when the destination tells the source that a packet couldn't be <br>forwarded/delivered. |\n",
    "\n",
    "Stateful firewalls are better at blocking a wider range of attacks, as many attacks can exploit a connection's state and sequences. These firewalls maintain a <strong>state table</strong>, where connections that are new, established, or related are tracked and updated as connections are made. These tables track the destination/source IP addresses and ports, as well as the connection's state.\n",
    "\n",
    "For this lab, we are focusing on <u>stateful</u> firewalls.\n",
    "\n",
    "<strong>This lab will cover four topics, and you will learn the following:</strong>\n",
    "\n",
    "1. Basic Unix Tools for Networking\n",
    "2. Introduction to ```iptables```\n",
    "3. Basic ```iptables``` Rules\n",
    "4. A Large-Scale Application of ```iptables```"
   ]
  },
  {
   "cell_type": "code",
   "execution_count": 19,
   "metadata": {
    "editable": true,
    "jupyter": {
     "source_hidden": true
    },
    "jupyterlab-hide-cells:hidden": true,
    "slideshow": {
     "slide_type": ""
    },
    "tags": []
   },
   "outputs": [],
   "source": [
    "# Setting up the lab.\n",
    "import ipywidgets as widgets\n",
    "from IPython.display import display, HTML, Javascript\n",
    "from IPython.core.magic import register_line_magic\n",
    "import os\n",
    "# For accessing the nodes:\n",
    "import subprocess\n",
    "# For the stopexp command:\n",
    "import re\n",
    "\n",
    "# When true, it will not auto-save at each step.\n",
    "runAllSteps = False\n",
    "\n",
    "###### Used for saving notebooks. ######\n",
    "import threading\n",
    "# Threading required in case steps are progressed too quickly.\n",
    "save_lock = threading.Lock()\n",
    "\n",
    "# The save function itself.\n",
    "def save_notebook():\n",
    "    with save_lock:\n",
    "        result = subprocess.run('su - umdsectc -c \"/home/umdsectc/notebooks/resources/save.py pathname\"', shell=True, capture_output=True, text=True)\n",
    "\n",
    "# Creating a thread to save the notebook.\n",
    "def trigger_save():\n",
    "    save_thread = threading.Thread(target=save_notebook)\n",
    "    save_thread.start()\n",
    "\n",
    "###### Used for loading notebooks. ######\n",
    "import queue\n",
    "\n",
    "load_lock = threading.Lock()\n",
    "result_queue = queue.Queue()\n",
    "\n",
    "def load_notebook():\n",
    "    with load_lock:\n",
    "        result = subprocess.run('su - umdsectc -c \"/home/umdsectc/notebooks/resources/load.py pathname\"', shell=True, capture_output=True, text=True)\n",
    "        result_queue.put(result)  # Put the result in the queue.\n",
    "\n",
    "# Creating a thread to load the notebook.\n",
    "def trigger_load():\n",
    "    load_thread = threading.Thread(target=load_notebook)\n",
    "    load_thread.start()\n",
    "    load_thread.join()  # Wait for the thread to complete before adding result to the queue.\n",
    "    return result_queue.get()  # Get the result from the queue."
   ]
  },
  {
   "cell_type": "markdown",
   "metadata": {},
   "source": [
    "### Step 0: Begin the experiment.\n",
    "\n",
    "Click the button to begin creating the experiment."
   ]
  },
  {
   "cell_type": "code",
   "execution_count": 2,
   "metadata": {
    "jupyter": {
     "source_hidden": true
    }
   },
   "outputs": [
    {
     "data": {
      "application/vnd.jupyter.widget-view+json": {
       "model_id": "a6f8737bf4614adb99eaab2461f19b5e",
       "version_major": 2,
       "version_minor": 0
      },
      "text/plain": [
       "Button(description='Start Lab', style=ButtonStyle())"
      ]
     },
     "metadata": {},
     "output_type": "display_data"
    },
    {
     "data": {
      "application/vnd.jupyter.widget-view+json": {
       "model_id": "06a5154623814f4e9bb1cc0749d54ed4",
       "version_major": 2,
       "version_minor": 0
      },
      "text/plain": [
       "Output()"
      ]
     },
     "metadata": {},
     "output_type": "display_data"
    }
   ],
   "source": [
    "# Click the button below to start the experiment.\n",
    "def startlab(button):\n",
    "    # Defining the lab name.\n",
    "    labname = \"pathnameumd\"\n",
    "\n",
    "    # Writing the information to an empty field below the button.\n",
    "    with output0:\n",
    "        output0.clear_output()\n",
    "        \n",
    "        # First, checking if the materialization exists. May have been stopped by a previous lab.\n",
    "        materialPattern = \"real.\" + labname + \".umdsec[a-z]{1,2}\"\n",
    "\n",
    "        # Listing the materializations to find if there's an existing one for this lab.\n",
    "        checkMaterial = os.popen('su - umdsectc -c \"mrg list materializations\"').read()\n",
    "        regex = re.compile(materialPattern)\n",
    "        # Getting the matches:\n",
    "        match = regex.search(checkMaterial)\n",
    "\n",
    "        if match:\n",
    "            display(HTML(\"<span style='color: orange;'>An existing materialization for this lab already exists. </span><span>You might have ran another \\\n",
    "            lab without stopping this one. Attaching the existing materialization.</span>\"))\n",
    "            subprocess.run(f'su - umdsectc -c \"mrg xdc attach xdc '+ match.group(0) + '\"', capture_output=True, text=True, shell=True)\n",
    "            display(HTML(\"<newline><span style='color: green;'><strong>Setup complete. You may begin the lab! </strong></span>\" \\\n",
    "                         \"<span>When you're finished, close your lab at the bottom of the notebook.</span>\"))\n",
    "        \n",
    "        else:\n",
    "            display(HTML(\"<span>No existing materializations are found.</span>\"))\n",
    "        \n",
    "            # Second, start the lab.\n",
    "            display(HTML(\"<span>Starting \" + labname + \" lab. This will take a few minutes to process. Please wait.</span> \\\n",
    "            <span><img width='12px' height='12px' style='margin-left: 3px;' src='resources/loading.gif'></span>\"))\n",
    "            startexp = subprocess.run('su - umdsectc -c \"bash /share/startexp ' + labname + '\"', capture_output=True, text=True, shell=True)\n",
    "            output0.clear_output()\n",
    "            display(HTML(\"<span>Done. Result:</span>\"))\n",
    "            print(startexp.stdout)\n",
    "\n",
    "            # Another lab is already attached to the XDC.\n",
    "            if ((\"XDC already attached\") in startexp.stdout):\n",
    "                existingLab = re.search(r\"real.(.*).umdsec[a-z]{1,2}\", startexp.stdout).group(1)\n",
    "\n",
    "                # Shouldn't happen.\n",
    "                if (labname == existingLab):\n",
    "                    display(HTML(\"<span style='color: red;'>Your lab was already started. </span><span>Please continue to the next step.</span>\"))\n",
    "\n",
    "                # Detaching the existing lab, then attaching the current one.\n",
    "                else:\n",
    "                    display(HTML(\"<span style='color: orange;'>Warning: You did not stop your previous experiment. </span><span>Please stop your experiments \\\n",
    "                    before starting a new one. Detaching the \" + existingLab + \" experiment.</span>\"))\n",
    "                    os.popen('su - umdsectc -c \"mrg xdc detach xdc.umdsectc\"')\n",
    "                    display(HTML(\"<span>Attaching the current lab.</span>\"))\n",
    "                    os.popen('su - umdsectc -c \"mrg xdc attach xdc ' + materialPattern + '\"')\n",
    "    \n",
    "            # Third, get the lab materials onto the node.\n",
    "            display(HTML(\"<span>Allocating lab resources onto the node. <u>Please wait a little longer...</u></span>\"))\n",
    "            runlab = subprocess.run('su - umdsectc -c \"bash /home/runlab ' + labname + '\"', capture_output=True, text=True, shell=True)\n",
    "            display(HTML(\"<newline><span style='color: green;'><strong>Setup complete. You may begin the lab! </strong></span>\" \\\n",
    "                         \"<span>When you're finished, close your lab at the bottom of the notebook. Your lab will be active for one week.</span>\"))\n",
    "\n",
    "# Creating the button.\n",
    "startButton = widgets.Button(description=\"Start Lab\")\n",
    "\n",
    "# Creating an output area.\n",
    "output0 = widgets.Output()\n",
    "\n",
    "# Run the command on click.\n",
    "startButton.on_click(startlab)\n",
    "\n",
    "# Display the output.\n",
    "display(startButton, output0)"
   ]
  },
  {
   "cell_type": "markdown",
   "metadata": {},
   "source": [
    "If you previously stopped your lab, you may restore your progress below by clicking \"Load Lab\". <u>You do not have to load your lab if you signed out, closed your notebook, or exited your node(s) or XDC by using ```exit```.</u>"
   ]
  },
  {
   "cell_type": "code",
   "execution_count": 3,
   "metadata": {
    "jupyter": {
     "source_hidden": true
    }
   },
   "outputs": [
    {
     "data": {
      "application/vnd.jupyter.widget-view+json": {
       "model_id": "4aa50b20e5e944168574fd64fac0e869",
       "version_major": 2,
       "version_minor": 0
      },
      "text/plain": [
       "Button(description='Load Lab', style=ButtonStyle())"
      ]
     },
     "metadata": {},
     "output_type": "display_data"
    },
    {
     "data": {
      "application/vnd.jupyter.widget-view+json": {
       "model_id": "4e3b307dffb44a87b27a481741e80583",
       "version_major": 2,
       "version_minor": 0
      },
      "text/plain": [
       "Output()"
      ]
     },
     "metadata": {},
     "output_type": "display_data"
    }
   ],
   "source": [
    "# Click the button below to load your lab.\n",
    "def loadlab(b):\n",
    "    with output0_2:\n",
    "        output0_2.clear_output()\n",
    "        display(HTML(\"<span>Searching for an existing lab in your notebook...</span>\"))\n",
    "\n",
    "    if (os.path.exists(\"/home/umdsectc/notebooks/saves/umdsectc_pathname.tar.gz\")):\n",
    "        with output0_2:\n",
    "            output0_2.clear_output()\n",
    "            display(HTML(\"<span>Loading your lab...</span> \\\n",
    "                <span><img width='12px' height='12px' style='margin-left: 3px;' src='resources/loading.gif'></span>\"))\n",
    "            result = trigger_load()\n",
    "            if (result.returncode == 0):\n",
    "                output0_2.clear_output()\n",
    "                display(HTML(\"<span style='color: green;'>Your lab has been successfully loaded. Please click on the <img width='20px' height='20px' style='margin-left: 1px;' src='resources/fast_forward.png'> icon at the top of your notebook to reflect your changes.</span>\"))\n",
    "            elif (result.returncode == 2):\n",
    "                output0_2.clear_output()\n",
    "                display(HTML(\"<span style='color: red;'>The buffer node is inaccessible. Please start your lab. If you have already started it, wait a minute and try again.</span>\"))\n",
    "            else:\n",
    "                output0_2.clear_output()\n",
    "                display(HTML(\"<span style='color: red;'>An error occurred while loading your lab.</span>\"))\n",
    "\n",
    "# Creating the button.\n",
    "loadButton = widgets.Button(description=\"Load Lab\")\n",
    "\n",
    "# Creating an output area.\n",
    "output0_2 = widgets.Output()\n",
    "\n",
    "# Run the command on click.\n",
    "loadButton.on_click(loadlab)\n",
    "\n",
    "# Display the output.\n",
    "display(loadButton, output0_2)"
   ]
  },
  {
   "cell_type": "markdown",
   "metadata": {},
   "source": [
    "## <strong>Topic 1: Basic Unix Tools for Networking</strong>\n",
    "\n",
    "Before diving into firewalls, it's important to learn what tools are available to you for examining network connections. You will be provided a few tools that can assist you with checking the work that you make throughout the lab.\n",
    "\n",
    "<span style=\"color: red;\"><strong><img src=\"resources/alert.png\" style=\"width: 12px\"> Important:</strong></span> The firewall lab does NOT have a ```firewall``` node. There are two separate nodes for this lab, and you will be setting up different firewall rules on the ```server``` and ```client``` nodes. When you access your lab, use ```ssh server``` and ```ssh client```. <strong>SSH'ing to a ```firewall``` node will not work!</strong>"
   ]
  },
  {
   "cell_type": "markdown",
   "metadata": {},
   "source": [
    "### Step 1: ```nmap``` - \"<u>N</u>etwork <u>Map</u>ping\"\n",
    "\n",
    "```nmap``` is a useful tool that shows what ports that a website has access to your device. When using ```nmap```, you may call a website as an argument to see what ports that it uses on your machine. ```nmap``` has many additional uses, but for the purpose of this notebook, it will only be used to display the ports used by connections.\n",
    "\n",
    "If you're interested in learning more about the uses of ```nmap```, you may check out some examples provided by the developers <a href=\"https://nmap.org/book/man-examples.html\">here</a>.\n",
    "\n",
    "<strong>Your task</strong>: Type a command below that uses ```nmap```, which displays the ports that <span style=\"color: blue;\">yahoo.com</span> uses on your device. Do this in the ```server``` node.\n",
    "\n",
    "<span style=\"color: red;\"><strong><img src=\"resources/alert.png\" style=\"width: 12px\"> Warning:</strong></span> The net tools that you are using in this lab may require ```sudo```. If you are getting a ```command not found``` error, you may either switch to sudo by using ```sudo su -```, or use ```sudo``` in front of your commands."
   ]
  },
  {
   "cell_type": "markdown",
   "metadata": {},
   "source": [
    "### Step 2: ```ifconfig``` - \"<u>I</u>nter<u>f</u>ace <u>Config</u>uration\"\n",
    "\n",
    "```ifconfig``` is used to view and configure the network interfaces on your device. Network interfaces can be physical hardware components such as Wi-Fi adapters and Ethernet connections that send and receive data over the internet. Each type of connection, whether it's a Wi-Fi adapter, Ethernet connection, or even a virtual network interface, is treated as a separate interface by the operating system. \n",
    "\n",
    "For example, using a Wi-Fi dongle on a device that already has an internal network adapter will result in two different interfaces being displayed by ```ifconfig```. \n",
    "\n",
    "<strong>Your task</strong>: Use ```ifconfig``` in the ```server``` node. In the field below, type the name of the network interface whose IP address is ```10.0.1.1```."
   ]
  },
  {
   "cell_type": "markdown",
   "metadata": {},
   "source": [
    "### Step 3: ```telnet``` - \"<u>Tel</u>e-<u>Net</u>work\"\n",
    "\n",
    "```telnet``` is a cleartext remote terminal protocol. On the surface, ```telnet``` is very simple: the user issues commands over a TCP socket, and the server replies with the results of those commands and waits for more input. ```telnet``` is one of the simplest and oldest network protocols still in use. Due to its cleartext nature and low-level access to the system, ```telnet``` is incredibly insecure. \n",
    "\n",
    "In the past, it was common for system administrators to log in as root using telnet on a network connection that could be easily sniffed by any sufficiently prepared attacker. This lack of encryption means that usernames, passwords, and other sensitive data are transmitted in plaintext, making it vulnerable to interception.\n",
    "\n",
    "Telnetting to a suspected open port is still one of the fastest ways to see if a service is available or reachable. Here is an example of a ```telnet``` request.\n",
    "\n",
    "```\n",
    "$ telnet yahoo.com 80\n",
    "\n",
    "Trying 66.94.234.13...\n",
    "Connected to yahoo.com.\n",
    "Escape character is '^]'.\n",
    "GET /\n",
    "...\n",
    "\n",
    "<html><head> ...[web page data] ...\n",
    "</body>\n",
    "</html>\n",
    "\n",
    "Connection closed by foreign host.\n",
    "```\n",
    "\n",
    "Telnetnetting to an IP and port (see above) should return a \"connected\" message if it is possible to connect to a running server.\n",
    "\n",
    "<strong>Your task</strong>: Use ```telnet``` to retrieve <span style=\"color: blue;\">https://scse.d.umn.edu/majors-minors</span>. Note the use of ```https``` within the URL. An ```https``` request uses port ```443```. Once you have a working connection, type the ```telnet``` command that you used, as well as the ```HTTP``` argument that you used."
   ]
  },
  {
   "cell_type": "markdown",
   "metadata": {},
   "source": [
    "### Step 4: ```nc``` - \"<u>N</u>et<u>c</u>at\"\n",
    "\n",
    "```nc``` is a Unix utility for creating and using TCP and UDP sockets. In a very simplified way, ```nc``` is like a telnet client and server without any built in protocol or terminal emulation. Another way of putting it is that netcat is the bare essentials for creating a TCP or UDP socket and client, with hooks for using standard in and standard out for IO.\n",
    "\n",
    "Netcat can be used for several purposes, such as: Sending messages to computers, debugging connection issues, scanning for open ports on a remote host (```nc -zv hostname 20-80``` scans between ports 20-80 on the specified hostname), transferring files, creating a backdoor (which bypasses security systems), connecting to a remote shell, and a lot more.\n",
    "\n",
    "<strong>Your task</strong>: On the ```server``` node, set up a server that listens for UDP protocols, and listen on port 10000. On the ```client``` node, set up a connection to the ```server``` node that sends UDP packets to ```server``` on port 10000. Once you have set this up, try sending a message through ```client``` to see if it will be displayed on ```server```.\n",
    "\n",
    "There are text entries below, where you will type in the commands that you used to set up ```server``` and ```client```. Once you have a working \"chatroom\", type the two commands below that worked. They will be tested."
   ]
  },
  {
   "cell_type": "markdown",
   "metadata": {},
   "source": [
    "## <strong>Topic 2: Introduction to ```iptables```</strong>\n",
    "\n",
    "In the previous section, you have explored some tools that you may find useful with creating firewall rules in this lab. Now, you're going to look at the next Unix tool, which is ```iptables```. You will be spending the remaining part of the lab learning about ```iptables```. Towards the end, you will be given a list of rules, one at a time, and implementing them into your nodes.\n",
    "\n",
    "This section will walk you through the basic interface of ```iptables```."
   ]
  },
  {
   "cell_type": "markdown",
   "metadata": {},
   "source": [
    "### Step 5: Viewing ```iptable``` Rules\n",
    "\n",
    "The ```iptables``` tool has been pre-installed for you on both nodes. However, you will need to navigate into ```server``` for the remainder of this topic.\n",
    "\n",
    "Type ```sudo iptables -L``` into ```server```. ```sudo``` is required for this tool, since this tool lets you control the network flow across the computer. The ```-L``` argument stands for \"list\". Typing this command is going to list all of the rules that are currently in your rule table.\n",
    "\n",
    "These are the only three policies at the moment:\n",
    "```\n",
    "-P INPUT ACCEPT\n",
    "-P FORWARD ACCEPT\n",
    "-P OUTPUT ACCEPT\n",
    "```\n",
    "\n",
    "Before providing a breakdown of these three policies, you are going to hear the term <strong>\"chain\"</strong> when working with ```iptables```. A chain is a set of rules. Hence, you're \"linking\" the rules together to form a chain.\n",
    "\n",
    "Here's a small breakdown of the default rules so far:\n",
    "- The ```-P``` argument means \"policy\". This parameter is used with three built-in chains: ```INPUT```, ```FORWARD```, or ```OUTPUT```. There are more built-in chains than these, but these are the most common ones when using this argument.\n",
    "  - Note, ```-p``` stands for \"protocol\". These two should not be mixed up when you begin to make your own rules. You can use either ```-P```, or to be more precise, ```--policy``` also works.\n",
    "- ```INPUT```, ```FORWARD```, and ```OUTPUT``` are the incoming, forwarded, and outgoing packets.\n",
    "- ```ACCEPT``` is the policy of the chain. It tells your system what to do with the chain that preceeds it.\n",
    "  - <strong>All ```iptables``` rules end with ```ACCEPT```, ```DROP```, or ```REJECT```.</strong>\n",
    "\n",
    "\n",
    "After reading this breakdown, this should make the default rules clear in ```iptables```. This means that all incoming, forwarded, and outgoing packets are accepted. Nothing is being blocked.\n",
    "\n",
    "<strong>Your task</strong>: Add the following rule to the table. You will learn about what it does in the next two steps.\n",
    "\n",
    "```sudo iptables -A OUTPUT -p tcp --dport 80 -j DROP```\n",
    "\n",
    "You may view this rule with ```sudo iptables -L```."
   ]
  },
  {
   "cell_type": "markdown",
   "metadata": {},
   "source": [
    "### Step 6: Identifying the Chain and Jump\n",
    "\n",
    "With this rule added, it's important to understand what this rule has done.\n",
    "\n",
    "Here is a breakdown of the rule that you just added:\n",
    "- ```sudo iptables``` calls the ```iptables``` command.\n",
    "- ```-A OUTPUT``` <strong>appends</strong> the rules that you made to the built-in ```OUTPUT``` chain.\n",
    "- ```-p tcp``` indicates that the rule affects TCP <strong>packets</strong>.\n",
    "- ```--dport 80``` indicates that the rule affects the <strong>destination port</strong>\n",
    "- ```-j DROP``` stands for <strong>jumps</strong>. However, it's easier to interpret this as \"everything that matches this rule will be DROPPED\".\n",
    "\n",
    "The reason why ```-A``` is being used is because you are taking the currently existing ```-P OUTPUT ACCEPT``` rule, but you're saying, \"Accept all output, BUT... (your rule here)\".\n",
    "\n",
    "Using the two blanks below, type in the <strong>chain</strong> and <strong>jump</strong> of the rule that you wrote."
   ]
  },
  {
   "cell_type": "markdown",
   "metadata": {},
   "source": [
    "### Step 7: Testing Your Rule\n",
    "\n",
    "Using one of the tools that you learned in Topic 1, type a command that will attempt to access a website through port 80. Do not use a command that shows that port 80 is unavailable. You will need to type a command that attempts to access the website."
   ]
  },
  {
   "cell_type": "markdown",
   "metadata": {},
   "source": [
    "### Step 8: Deleting a Rule\n",
    "\n",
    "To delete a rule, you can use ```sudo iptables -D [rule]```. Clearly, the ```-D``` stands for delete. Previously, you used ```-A``` to append a rule.\n",
    "\n",
    "Using your intuition, delete the rule that you made in Step 5."
   ]
  },
  {
   "cell_type": "markdown",
   "metadata": {},
   "source": [
    "## <strong>Topic 3: Basic ```iptables``` Rules <strong>\n",
    "\n",
    "This topic is now going to teach you some ```iptables``` syntax. You have already seen a little bit of syntax in the previous step. Now, you're going to look more in-depth with ```iptables``` syntax.\n",
    "\n",
    "```iptables``` allows you to create very broad commands, like the one you have seen above. Additionally, it allows you to create very specific commands, like you're about to see in this topic. The following steps are going to start you with a very basic example, and you are going to work your way up to specifics.\n",
    "\n",
    "<u>As you complete each step in this topic</u>, a table will be generated so that you can see how your rule is being progressively created. The table will provide a \"translation\", which is describing how your rules are being defined.\n",
    "\n",
    "If you are feeling lost with ```iptables``` syntax, these are two helpful documents that you may look into while you go through the final two topics:\n",
    "- <a href=\"https://linux.die.net/man/8/iptables\">```iptables``` Documentation</a>\n",
    "- <a href=\"https://www.informit.com/articles/article.aspx?p=421057&seqNum=4\">Linux Firewalls, 3rd Edition - Iptables Chapter</a>"
   ]
  },
  {
   "cell_type": "markdown",
   "metadata": {},
   "source": [
    "### Step 9: Tables\n",
    "\n",
    "This is the start of the ```iptables``` rule that you'll be producing throughout the topic:\n",
    "\n",
    "```sudo iptables```\n",
    "\n",
    "<strong>You are going to construct a rule that applies to the ```server``` node. NOT the ```client``` node.</strong>\n",
    "\n",
    "There are multiple tables that you can add rules to in ```iptables```. For the lab, you're just adding tables to the \"filter\" table. This is the default table in ```iptables```. The remaining tables are as follows - <a href=\"https://gist.github.com/nerdalert/a1687ae4da1cc44a437d\">(source)</a>:\n",
    "- NAT table - Iptable's NAT table has the following built-in chains.\n",
    "- Mangle table - Iptables's Mangle table is for specialized packet alteration.\n",
    "- Raw table - Iptable's Raw table is for configuration excemptions.\n",
    "\n",
    "You are going to append to the currently existing command. This is the current template of your rule so far:\n",
    "\n",
    "```sudo iptables [your answer here]```\n",
    "\n",
    "<strong>Your task</strong>: Type a parameter that adds your rule to the \"filters\" table. Use the ```-t``` argument for \"table\". For your answer, just type in the ```[your answer here]``` portion of the rule."
   ]
  },
  {
   "cell_type": "markdown",
   "metadata": {},
   "source": [
    "### Step 10: Network Interface\n",
    "\n",
    "Now, you can add a network interface that you want your rule to be applied to. You can do this by using ```-i``` for \"interface\". From Step 2, you already found what the network interface is attached to ```server```.\n",
    "\n",
    "Here is the work so far that you've produced:\n",
    "\n",
    "```sudo iptables [step 9] [your next answer]```\n",
    "\n",
    "<strong>Your task</strong>: Type in the following parameters which will match the following rules:\n",
    "\n",
    "- Use the network interface that you found in Step 2.\n",
    "- Append your rule to the pre-defined OUTPUT chain."
   ]
  },
  {
   "cell_type": "markdown",
   "metadata": {},
   "source": [
    "### Step 11: States and Protocols\n",
    "\n",
    "Next, you're going to add a state to the rule. This is done by using the ```-m``` and ```--state``` command. These two parameters are used in conjunction with each other. ```-m``` stands for \"match\", and ```--state``` is clearly indicating the state to match to.\n",
    "\n",
    "Recall states from the beginning of the notebook. There are ```NEW```, ```ESTABLISHED```, and ```RELATED``` states. This is the template for creating a state rule: ```-m state --state STATE_NAME```\n",
    "\n",
    "A breakdown:\n",
    "- ```-m``` means match.\n",
    "- ```state``` means you're going to match a state.\n",
    "- ```--state``` indicates that the next parameter is going to be a state.\n",
    "- ```STATE_NAME``` is either ```NEW```, ```ESTABLISHED```, or ```RELATED```.\n",
    "\n",
    "Additionally, you read above that ```-p``` means \"protocol\". Two common protocols are UDP and TCP protocols. If you haven't taken a networking course, you may read about the two protocols <a href=\"https://stackoverflow.com/questions/5970383/difference-between-tcp-and-udp\">here</a>. Essentially, <strong>UDP</strong> is <strong>U</strong>nreliable, but fast. <strong>TCP</strong> is <strong>T</strong>rustworthy, but slow.\n",
    "\n",
    "Here's the rule so far:\n",
    "\n",
    "```sudo iptables [step 9] [step 10] [your next answer]```\n",
    "\n",
    "Clearly, you should see how the remaining steps in this topic will work. Additionally, your answer is being printed as you work along.\n",
    "\n",
    "<strong>Your task</strong>: Type in the following parameters which will match the following rules:\n",
    "\n",
    "- Create a rule that matches the NEW state.\n",
    "- Detect TCP packets."
   ]
  },
  {
   "cell_type": "markdown",
   "metadata": {},
   "source": [
    "### Step 12: Sources and Destinations\n",
    "\n",
    "For this step, you're going to apply a source and destination to this rule. These two parameters are fairly straightforward. You will use ```-s``` for the source IP address, and ```-d``` for the destination IP address. Additionally, you can use ```--sport``` or ```--dport``` for the source/destination ports of the rule.\n",
    "\n",
    "<strong>Your task</strong>: Type in the following parameters which will match the following rules:\n",
    "\n",
    "- Use the source of the network interface that you found in Step 2.\n",
    "- Use the destination of ```google.com```.\n",
    "  - Hint: Use one of the tools from Topic 1 to find the IP address of Google.\n",
    "- Add a rule that uses Google's destination port of 1234."
   ]
  },
  {
   "cell_type": "markdown",
   "metadata": {},
   "source": [
    "### Step 13: Jumps\n",
    "\n",
    "Finally, you are going to do the jump. This indicates what you are going to do with packets that match all of these rules that you composed so far. You have already seen how a jump works. Use the ```-j``` command. Recall that all ```iptables``` rules will end with a jump.\n",
    "\n",
    "<strong>Your task</strong>: Drop all connections that match the rule that you have been constructing in this topic.\n",
    "\n",
    "Your final rule will be printed upon completing this step."
   ]
  },
  {
   "cell_type": "markdown",
   "metadata": {},
   "source": [
    "Final rule:\n",
    "\n",
    "```sudo iptables -t filter -A OUTPUT -i eth1 -p tcp -s 10.0.1.1 -d 192.168.1.100 --dport 1234 -m state --state NEW -j DROP```"
   ]
  },
  {
   "cell_type": "markdown",
   "metadata": {},
   "source": [
    "## <strong>Topic 4: A Large-Scale Application of ```iptables```<strong>\n",
    "\n",
    "In this final topic, you are going to be given an instruction to block or accept certain connections. Using all of the knowledge you used in the previous topics, you are prepared to attempt to create your own rules.\n",
    "\n",
    "Once again, as provided in the previous topic, you're free to use these two resources if you feel stuck with the syntax for ```iptables```:\n",
    "\n",
    "- <a href=\"https://linux.die.net/man/8/iptables\">```iptables``` Documentation</a>\n",
    "- <a href=\"https://www.informit.com/articles/article.aspx?p=421057&seqNum=4\">Linux Firewalls, 3rd Edition - Iptables Chapter</a>\n",
    "\n",
    "Additionally, these are the following IP addresses that you will need to use for this section:\n",
    "\n",
    "| Nodes:        | ```server```   | ```client```   |\n",
    "|---------------|----------------|----------------|\n",
    "| IP Addresses: | ```10.0.1.1``` | ```10.0.1.2``` |\n",
    "\n",
    "#### <strong>Useful Information For This Section</strong>:\n",
    "\n",
    "- Whenever you would like to reset your ```iptables``` rules, you may type ```sudo iptables -F```. The ```-F``` command means \"flush\", which will reset your table back to what it originally was. If you had already completed a step, your progress will not be lost after flushing the table.\n",
    "\n",
    "- Additionally, <u>you will need to indicate a specific protocol in each of your steps</u>. In other words, all of your rules must have ```-p udp``` or ```-p tcp``` in them. By default, most connections that are made between ```client``` and ```server``` are TCP connections. However, the last step will require a UDP connection.\n",
    "\n",
    "- Use ```sudo iptables -S``` to view all current rules."
   ]
  },
  {
   "cell_type": "markdown",
   "metadata": {},
   "source": [
    "### Step 14: Inbound TCP Connections to the Apache Server\n",
    "\n",
    "As you do the questions provided in this topic, you will be provided a \"Test Connection\" button. These checks will take time to complete, since it's testing for time-outs. Additionally, you are going to be told which node that these firewall rules will need to be placed on.\n",
    "\n",
    "<strong>Scenario:</strong> On the ```server``` node, <strong>disallow</strong> inbound TCP connections to the Apache port from ```client```. This port is ```80```. Currently, this port is open to all connections to the ```server``` node.\n",
    "\n",
    "<strong>A successful test appears as follows:</strong>\n",
    "```\n",
    "umdsecXX@client:~$ telnet server 80\n",
    "Trying 10.0.1.1...\n",
    "^C\n",
    "umdsecXX@client:~$\n",
    "```\n",
    "\n",
    "Click the button below to check your work.\n",
    "\n",
    "<span style=\"color: green\"><strong><img src=\"resources/idea.png\" style=\"width: 12px\"> Tip:</strong></span> You will need to use ```client```'s IP address in your rule.\n",
    "\n",
    "<span style=\"color: red;\"><strong><img src=\"resources/alert.png\" style=\"width: 12px\"> Warning:</strong></span> You are now starting to apply firewall rules, which means that an incorrect firewall rule could potentially lock you out from your node.\n",
    "\n",
    "If you get locked out, you will have to end your lab (at the bottom of the notebook), then restart your lab by clicking \"Start Lab\" at the top of the notebook.\n",
    "\n",
    "Your progress is automatically saved at each step, so you do not need to worry about losing progress."
   ]
  },
  {
   "cell_type": "markdown",
   "metadata": {},
   "source": [
    "### Step 15: Inbound TCP Connections to the MySQL Server\n",
    "\n",
    "<strong>Scenario:</strong> On the ```server``` node, <strong>disallow</strong> inbound TCP connections to the MySQL port from ```client```. This port is ```3306```. Currently, this port is open to all connections to the ```server``` node.\n",
    "\n",
    "<strong>A successful test appears as follows:</strong>\n",
    "```\n",
    "umdsecXX@client:~$ telnet server 3306\n",
    "Trying 10.0.1.1...\n",
    "^C\n",
    "umdsecXX@client:~$\n",
    "```\n",
    "\n",
    "Click the button below to check your work."
   ]
  },
  {
   "cell_type": "markdown",
   "metadata": {},
   "source": [
    "### Step 16: Outbound TCP Connections to a Specific HTTPS Request\n",
    "\n",
    "<strong>Scenario:</strong> On the ```client``` node, <strong>allow</strong> outbound HTTPS connections to <span style=\"color: blue;\">stackoverflow.com</span>. The port for HTTPS requests is ```3306```. Currently, all outbound HTTPS requests are blocked on ```client```. They all must remain blocked, unless it's Stack Overflow.\n",
    "\n",
    "<u>You will need to find the IP address of Stack Overflow.</u>\n",
    "\n",
    "<strong>A successful test appears as follows:</strong>\n",
    "```\n",
    "umdsecXX@client:~$ telnet stackoverflow.com 443\n",
    "Trying XXX.XX.XX.X...\n",
    "Trying XXX.XX.XXX.XXX...\n",
    "Connected to stackoverflow.com.\n",
    "Escape character is '^]'.\n",
    "Connection closed by foreign host.\n",
    "umdsecXX@client:~$\n",
    "```\n",
    "\n",
    "Click the button below to check your work. \n",
    "\n",
    "<span style=\"color: green\"><strong><img src=\"resources/idea.png\" style=\"width: 12px\"> Note:</strong></span> In order for this test to pass, other random websites will be accessed. Other websites must not be accessible.\n",
    "\n",
    "<span style=\"color: green\"><strong><img src=\"resources/idea.png\" style=\"width: 12px\"> Tip:</strong></span> <strong>Two rules are required for this step.</strong> Rules on ```iptables``` go in order. If you attempt to block all outgoing connections first, then allow Stack Overflow through the firewall, it will not work. You must allow Stack Overflow first, then block the remaining connections.\n",
    "\n",
    "```\n",
    "-P INPUT ACCEPT\n",
    "-P FORWARD ACCEPT\n",
    "-P OUTPUT ACCEPT\n",
    "-A OUTPUT -d 172.64.155.249/32 -p tcp -m tcp --dport 443 -j ACCEPT\n",
    "-A OUTPUT -p tcp -m tcp --dport 443 -j REJECT --reject-with icmp-port-unreachable\n",
    "-A OUTPUT -p udp -m udp --dport 53 -j ACCEPT\n",
    "-A OUTPUT -p tcp -m tcp --dport 53 -j ACCEPT\n",
    "```"
   ]
  },
  {
   "cell_type": "markdown",
   "metadata": {},
   "source": [
    "### Step 17: Outbound TCP OpenSSH Requests\n",
    "\n",
    "<strong>Scenario:</strong> On the ```client``` node, <strong>disallow</strong> outgoing SSH requests. Using OpenSSH uses port 22.\n",
    "\n",
    "<strong>A successful test appears as follows:</strong>\n",
    "```\n",
    "umdsecXX@client:~$ ssh server\n",
    "ssh: connect to host server port 22: Connection refused\n",
    "umdsecXX@client:~$\n",
    "```\n",
    "\n",
    "Click the button below to check your work. \n",
    "\n",
    "<span style=\"color: red;\"><strong><img src=\"resources/alert.png\" style=\"width: 12px\"> Warning:</strong></span> Double-check that you are going to deny any <strong>outgoing</strong> SSH requests. If you accidentally deny any incoming SSH requests, you may lose access to your ```client``` node, and the lab must be restarted.\n",
    "\n",
    "```\n",
    "-P INPUT ACCEPT\n",
    "-P FORWARD ACCEPT\n",
    "-P OUTPUT ACCEPT\n",
    "-A OUTPUT -p tcp -m tcp --dport 22 -j REJECT --reject-with icmp-port-unreachable\n",
    "```"
   ]
  },
  {
   "cell_type": "markdown",
   "metadata": {},
   "source": [
    "### Step 18: Inbound UDP Traffic on Ports 10000:10005\n",
    "\n",
    "<strong>Scenario:</strong> On the ```server``` node, <strong>allow</strong> UDP connections to be made on six ports: ```10000```, ```10001```, ```10002```, ```10003```, ```10004```, and ```10005```. You do not need to apply rules on the ```client``` node. Just the ```server``` node.\n",
    "\n",
    "<u>You are required to block UDP connections on any other port.</u> This test will attempt to try accessing other ports on ```server``` for UDP connections.\n",
    "\n",
    "<strong>A successful test appears as follows:</strong>\n",
    "\n",
    "<u>Part 1:</u>\n",
    "```\n",
    "umdsecXX@server:~$ nc -u -l 10000\n",
    "Hello!\n",
    "\n",
    "umdsecXX@client:~$ nc -u server 10000\n",
    "(Type Hello!)\n",
    "```\n",
    "\n",
    "<u>Part 2:</u>\n",
    "\n",
    "```\n",
    "umdsecXX@server:~$ nc -u -l 10006\n",
    "\n",
    "\n",
    "umdsecXX@client:~$ nc -u server 10006\n",
    "(Type Hello!)\n",
    "```\n",
    "\n",
    "Click the button below to check your work. \n",
    "\n",
    "<span style=\"color: green\"><strong><img src=\"resources/idea.png\" style=\"width: 12px\"> Tip:</strong></span> You do not need to make six independent rules for the ports. You can just call 10000:10005.\n",
    "\n",
    "<span style=\"color: red;\"><strong><img src=\"resources/alert.png\" style=\"width: 12px\"> Warning:</strong></span> ```server``` relies on some UDP connections for ```iptables``` to run properly. Therefore, make sure to add the source IP address for ```client```, which is provided at the start of the topic.\n",
    "\n",
    "```\n",
    "sudo iptables -A INPUT -p udp -s 10.0.1.1 --dport 10000:10005 -j ACCEPT\n",
    "sudo iptables -A INPUT -p udp --dport 10000:10005 -j ACCEPT\n",
    "sudo iptables -A INPUT -p udp -j DROP\n",
    "```"
   ]
  },
  {
   "cell_type": "markdown",
   "metadata": {},
   "source": [
    "## <strong>Grading</strong>\n",
    "\n",
    "To check your overall grade, click on the button below.\n",
    "\n",
    "<strong>*Warning:* Your submission will be ran on an unmodified copy of this notebook</strong>. If you tinkered with any of the input cells to pass a step, you will not get full credit."
   ]
  },
  {
   "cell_type": "markdown",
   "metadata": {},
   "source": [
    "### Stopping the Lab\n",
    "\n",
    "Once you are done with the lab, click on the \"Stop Lab\" button below. <strong>This will delete your materialization, which will delete all of the lab's resources.</strong> Your progress is saved automatically in ```~/notebooks/submissions```. This folder is stored on your XDC, and will not be deleted upon stopping the lab."
   ]
  },
  {
   "cell_type": "markdown",
   "metadata": {},
   "source": [
    "IMPORTANT INFORMATION FOR INSTALLING THE LAB.\n",
    "\n",
    "Download net-tools and run ```ifconfig``` to get the eth0 IP address. When Topic 3 is complete, add this rule:\n",
    "\n",
    "\n",
    "```sudo iptables -A INPUT -m conntrack --ctstate ESTABLISHED,RELATED -j ACCEPT``` - Make existing/related connections allowed.\n",
    "```sudo iptables -A INPUT -p tcp --dport 22 -s client_ip -j ACCEPT``` - Allow all connections from the student's XDC.\n",
    "\n",
    "```sudo iptables -A INPUT -p tcp --dport 22 -s 10.1.14.49 -j ACCEPT```\n",
    "\n"
   ]
  },
  {
   "cell_type": "code",
   "execution_count": null,
   "metadata": {},
   "outputs": [],
   "source": []
  }
 ],
 "metadata": {
  "kernelspec": {
   "display_name": "Python 3 (ipykernel)",
   "language": "python",
   "name": "python3"
  },
  "language_info": {
   "codemirror_mode": {
    "name": "ipython",
    "version": 3
   },
   "file_extension": ".py",
   "mimetype": "text/x-python",
   "name": "python",
   "nbconvert_exporter": "python",
   "pygments_lexer": "ipython3",
   "version": "3.10.12"
  }
 },
 "nbformat": 4,
 "nbformat_minor": 4
}
