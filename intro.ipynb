{
 "cells": [
  {
   "cell_type": "markdown",
   "metadata": {},
   "source": [
    "# Intro to JupyterLab\n",
    "\n",
    "This is a tutorial that will guide you through how to navigate through a Jupyter notebook, as well as how to navigate around your XDC.\n",
    "\n",
    "First, you will need to execute all of the cells to make sure that everything runs without errors. At the top of the notebook, click on the \"fast forward\" icon to run all of the cells.\n",
    "\n",
    "<ins>It is not important to view what's being ran in the cells. You only need to be concerned about the output.</ins>"
   ]
  },
  {
   "cell_type": "code",
   "execution_count": 9,
   "metadata": {},
   "outputs": [],
   "source": [
    "# Setting up the lab.\n",
    "import ipywidgets as widgets\n",
    "from IPython.display import display, HTML, Javascript\n",
    "from IPython.core.magic import register_line_magic\n",
    "import os\n",
    "\n",
    "steps = 3\n",
    "step1Complete = step2Complete = step3Complete = False"
   ]
  },
  {
   "cell_type": "markdown",
   "metadata": {},
   "source": [
    "### Step 1: Create a folder.\n",
    "\n",
    "We're going to make a folder in our XDC. Open up a new tab at the top of the JupyterLab, and click on \"Terminal\". Sign in by using ```su umdsecXX```, where XX is the discriminator in your username.\n",
    "\n",
    "Once you have signed in, you should see ```umdsecXX@xdc``` on your terminal prompt. Use the ```mkdir``` command to create a directory called ```jupyterintro```. Place this inside of your ```/home/umdsecXX``` directory, then run _Check Folder_ below to check your work."
   ]
  },
  {
   "cell_type": "code",
   "execution_count": 13,
   "metadata": {},
   "outputs": [
    {
     "name": "stdout",
     "output_type": "stream",
     "text": [
      "True\n",
      "False\n",
      "False\n"
     ]
    },
    {
     "data": {
      "application/vnd.jupyter.widget-view+json": {
       "model_id": "288601c99e064a0389fb460d4be2e2bf",
       "version_major": 2,
       "version_minor": 0
      },
      "text/plain": [
       "Button(description='Check Folder', style=ButtonStyle())"
      ]
     },
     "metadata": {},
     "output_type": "display_data"
    },
    {
     "data": {
      "application/vnd.jupyter.widget-view+json": {
       "model_id": "9a03e998ecfb4e319e73df88fb52b8c8",
       "version_major": 2,
       "version_minor": 0
      },
      "text/plain": [
       "Output()"
      ]
     },
     "metadata": {},
     "output_type": "display_data"
    }
   ],
   "source": [
    "# Click the button below to check your work.\n",
    "# Specify the path to check if it exists.\n",
    "folder_path = \"/home/umdsecXX_home/jupyterintro\"\n",
    "\n",
    "print(step1Complete)\n",
    "print(step2Complete)\n",
    "print(os.path.exists(folder_path))\n",
    "# Function to check if the folder exists\n",
    "def step_1():\n",
    "    global step1Complete, step2Complete\n",
    "    if os.path.exists(folder_path) or (not os.path.exists(folder_path) and step2Complete):\n",
    "        output1.clear_output()\n",
    "        with output1:\n",
    "            display(HTML(\"<span style='color: green;'>Success! You may continue onto the next step.</span>\"))\n",
    "            step1Complete = True\n",
    "    else:\n",
    "        output1.clear_output()\n",
    "        with output1:\n",
    "            display(HTML(\"<span style='color: red;'>Check your work and try again. Did you mistype the folder name?</span>\"))\n",
    "            step1Complete = False\n",
    "\n",
    "def check_step_1(b):\n",
    "    step_1()\n",
    "\n",
    "# Creating the button.\n",
    "button = widgets.Button(description=\"Check Folder\")\n",
    "\n",
    "# Creating an output area.\n",
    "output1 = widgets.Output()\n",
    "\n",
    "# Run the command on click.\n",
    "button.on_click(check_step_1)\n",
    "\n",
    "# Display the output.\n",
    "display(button, output1)"
   ]
  },
  {
   "cell_type": "markdown",
   "metadata": {},
   "source": [
    "### Step 2: Make a text file.\n",
    "\n",
    "Within your directory, create a text file named ```jupyternote.txt```. You may use the ```touch``` command to create this file. Change the permissions by using ```chmod 777 jupyternote.txt``` to have open permissions.\n",
    "\n",
    "Once you are done, check your work with the button below."
   ]
  },
  {
   "cell_type": "code",
   "execution_count": null,
   "metadata": {},
   "outputs": [],
   "source": [
    "# Click the button below to check your work.\n",
    "# Specify the path to check if it exists.\n",
    "file_path = \"/home/umdsecXX_home/jupyterintro/jupyternote.txt\"\n",
    "\n",
    "# Function to check if the folder exists\n",
    "def step_2():\n",
    "    global step2Complete\n",
    "    # Checks if exists.\n",
    "    if os.path.exists(file_path):\n",
    "        # Gets the permissions.\n",
    "        mode = os.stat(file_path).st_mode\n",
    "        permissions = oct(mode)[-3:]\n",
    "        # Check if permissions are set to 777\n",
    "        output2.clear_output()\n",
    "        if permissions == '777':\n",
    "            with output2:\n",
    "                display(HTML(\"<span style='color: green;'>Success! You may continue onto the next step.</span>\"))\n",
    "                step2Complete = True\n",
    "        else:\n",
    "            with output2:\n",
    "                display(HTML(\"<span style='color: red;'>The file permissions are incorrect.</span>\"))\n",
    "                step2Complete = False\n",
    "    else:\n",
    "        output2.clear_output()\n",
    "        with output2:\n",
    "            display(HTML(\"<span style='color: red;'>The text file is not created yet.</span>\"))\n",
    "\n",
    "def check_step_2(b):\n",
    "    step_2()\n",
    "\n",
    "# Creating the button.\n",
    "button = widgets.Button(description=\"Check File\")\n",
    "\n",
    "# Creating an output area.\n",
    "output2 = widgets.Output()\n",
    "\n",
    "# Run the command on click.\n",
    "button.on_click(check_step_2)\n",
    "\n",
    "# Display the output.\n",
    "display(button, output2)"
   ]
  },
  {
   "cell_type": "markdown",
   "metadata": {},
   "source": [
    "### Step 3: Delete the folder.\n",
    "\n",
    "Finally, it's time to delete the entire folder. Use the ```rm``` command with the \"recursive\" tag to delete the folder, then check your work below."
   ]
  },
  {
   "cell_type": "code",
   "execution_count": null,
   "metadata": {},
   "outputs": [],
   "source": [
    "# Click the button below to check your work.\n",
    "# Specify the path to check if it exists.\n",
    "folder_path = \"/home/umdsecXX_home/jupyterintro\"\n",
    "\n",
    "# Function to check if the folder exists\n",
    "def step_3():\n",
    "    global step1Complete, step3Complete\n",
    "    if (os.path.exists(folder_path) and step1Complete):\n",
    "        output3.clear_output()\n",
    "        with output3:\n",
    "            display(HTML(\"<span style='color: red;'>Check your work and try again.</span>\"))\n",
    "            step3Complete = False\n",
    "    elif step1Complete == False:\n",
    "        output3.clear_output()\n",
    "        with output3:\n",
    "            display(HTML(\"<span style='color: red;'>You need to complete Step 1 before continuing.</span>\"))\n",
    "            step3Complete = False\n",
    "    else:\n",
    "        output3.clear_output()\n",
    "        with output3:\n",
    "            display(HTML(\"<span style='color: green;'>Success! You may continue onto the next step.</span>\"))\n",
    "            step3Complete = True\n",
    "\n",
    "def check_step_3(b):\n",
    "    step_3()\n",
    "\n",
    "# Creating the button.\n",
    "button = widgets.Button(description=\"Check Folder\")\n",
    "\n",
    "# Creating an output area.\n",
    "output3 = widgets.Output()\n",
    "\n",
    "# Run the command on click.\n",
    "button.on_click(check_step_3)\n",
    "\n",
    "# Display the output.\n",
    "display(button, output3)"
   ]
  },
  {
   "cell_type": "markdown",
   "metadata": {},
   "source": [
    "## Grading\n",
    "\n",
    "To check your overall grade, click on the button below.\n",
    "\n",
    "*Disclaimer:* The notebook's grading system can be easily changed. However, it's important to consider that your submission will be ran on the same notebook that you downloaded. If you had changed any input cells, you may not receive full points on some questions."
   ]
  },
  {
   "cell_type": "code",
   "execution_count": null,
   "metadata": {
    "tags": [
     "grade"
    ]
   },
   "outputs": [],
   "source": [
    "steps_to_check = [step_1, step_2, step_3]   \n",
    "\n",
    "# Function to calculate grade after refreshing the cell\n",
    "def calculate_grade(b):\n",
    "    for func in steps_to_check:\n",
    "        func()  # Call each function in order\n",
    "        \n",
    "    # Assuming steps are updated above this cell in some way\n",
    "    steps = [step1Complete, step2Complete, step3Complete]\n",
    "    output = \"\"\n",
    "    stepsCorrect = 0\n",
    "    numOfSteps = len(steps)\n",
    "\n",
    "    for i in range(numOfSteps):\n",
    "        if steps[i]:\n",
    "            stepsCorrect += 1\n",
    "            output += \"<div style='color: green;'>Step \" + str(i + 1) + \" is complete.</div>\"\n",
    "        else:\n",
    "            output += \"<div style='color: red;'>Step \" + str(i + 1) + \" is incomplete.</div>\"\n",
    "\n",
    "    output += \"<div style='color: black;'>You have \" + str(stepsCorrect) + \" out of \" + str(numOfSteps) + \" steps completed.</div>\"\n",
    "\n",
    "    with gradeOutput:\n",
    "        gradeOutput.clear_output()\n",
    "        display(HTML(output))\n",
    "\n",
    "# Create a button to refresh the cell and another to calculate grade\n",
    "grade_button = widgets.Button(description=\"Calculate Grade\")\n",
    "\n",
    "# Link buttons to functions\n",
    "grade_button.on_click(calculate_grade)\n",
    "\n",
    "# Output area\n",
    "gradeOutput = widgets.Output()\n",
    "\n",
    "# Display the buttons and output\n",
    "display(grade_button, gradeOutput)"
   ]
  },
  {
   "cell_type": "code",
   "execution_count": null,
   "metadata": {},
   "outputs": [],
   "source": []
  }
 ],
 "metadata": {
  "kernelspec": {
   "display_name": "Python 3 (ipykernel)",
   "language": "python",
   "name": "python3"
  },
  "language_info": {
   "codemirror_mode": {
    "name": "ipython",
    "version": 3
   },
   "file_extension": ".py",
   "mimetype": "text/x-python",
   "name": "python",
   "nbconvert_exporter": "python",
   "pygments_lexer": "ipython3",
   "version": "3.10.12"
  }
 },
 "nbformat": 4,
 "nbformat_minor": 4
}
